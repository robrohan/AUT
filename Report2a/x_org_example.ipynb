{
 "cells": [
  {
   "cell_type": "markdown",
   "id": "b8a064a3",
   "metadata": {},
   "source": [
    "# NLP for Depression Prediction"
   ]
  },
  {
   "cell_type": "markdown",
   "id": "50865fe8",
   "metadata": {},
   "source": [
    "## Installs"
   ]
  },
  {
   "cell_type": "code",
   "execution_count": 1,
   "id": "03fcae9f",
   "metadata": {},
   "outputs": [
    {
     "name": "stdout",
     "output_type": "stream",
     "text": [
      "Requirement already satisfied: nltk in /opt/miniconda3/envs/comp838_report2/lib/python3.11/site-packages (3.9.1)\n",
      "Requirement already satisfied: scikit-learn in /opt/miniconda3/envs/comp838_report2/lib/python3.11/site-packages (1.6.1)\n",
      "Requirement already satisfied: click in /opt/miniconda3/envs/comp838_report2/lib/python3.11/site-packages (from nltk) (8.1.8)\n",
      "Requirement already satisfied: joblib in /opt/miniconda3/envs/comp838_report2/lib/python3.11/site-packages (from nltk) (1.4.2)\n",
      "Requirement already satisfied: regex>=2021.8.3 in /opt/miniconda3/envs/comp838_report2/lib/python3.11/site-packages (from nltk) (2024.11.6)\n",
      "Requirement already satisfied: tqdm in /opt/miniconda3/envs/comp838_report2/lib/python3.11/site-packages (from nltk) (4.67.1)\n",
      "Requirement already satisfied: numpy>=1.19.5 in /opt/miniconda3/envs/comp838_report2/lib/python3.11/site-packages (from scikit-learn) (2.2.5)\n",
      "Requirement already satisfied: scipy>=1.6.0 in /opt/miniconda3/envs/comp838_report2/lib/python3.11/site-packages (from scikit-learn) (1.15.2)\n",
      "Requirement already satisfied: threadpoolctl>=3.1.0 in /opt/miniconda3/envs/comp838_report2/lib/python3.11/site-packages (from scikit-learn) (3.6.0)\n",
      "Note: you may need to restart the kernel to use updated packages.\n"
     ]
    }
   ],
   "source": [
    "%pip install nltk scikit-learn"
   ]
  },
  {
   "cell_type": "markdown",
   "id": "fbe0d474",
   "metadata": {
    "papermill": {
     "duration": 0.008453,
     "end_time": "2022-08-18T09:44:29.571033",
     "exception": false,
     "start_time": "2022-08-18T09:44:29.562580",
     "status": "completed"
    },
    "tags": []
   },
   "source": [
    "## Imports"
   ]
  },
  {
   "cell_type": "code",
   "execution_count": 2,
   "id": "ed9ca150",
   "metadata": {
    "_cell_guid": "b1076dfc-b9ad-4769-8c92-a6c4dae69d19",
    "_uuid": "8f2839f25d086af736a60e9eeb907d3b93b6e0e5",
    "execution": {
     "iopub.execute_input": "2022-08-18T09:44:29.588093Z",
     "iopub.status.busy": "2022-08-18T09:44:29.587585Z",
     "iopub.status.idle": "2022-08-18T09:44:30.758722Z",
     "shell.execute_reply": "2022-08-18T09:44:30.755779Z"
    },
    "papermill": {
     "duration": 1.18315,
     "end_time": "2022-08-18T09:44:30.761839",
     "exception": false,
     "start_time": "2022-08-18T09:44:29.578689",
     "status": "completed"
    },
    "tags": []
   },
   "outputs": [],
   "source": [
    "import pandas as pd # data processing, CSV file I/O (e.g. pd.read_csv)\n",
    "import matplotlib.pyplot as plt\n",
    "import seaborn as sns\n",
    "import os\n",
    "# for dirname, _, filenames in os.walk('/kaggle/input'):\n",
    "#     for filename in filenames:\n",
    "#         print(os.path.join(dirname, filename))"
   ]
  },
  {
   "cell_type": "markdown",
   "id": "413b1bdf",
   "metadata": {},
   "source": [
    "## Load Dataset\n",
    "\n",
    "Label column is if the text should be considered depressed"
   ]
  },
  {
   "cell_type": "code",
   "execution_count": 3,
   "id": "5a89be6b",
   "metadata": {
    "execution": {
     "iopub.execute_input": "2022-08-18T09:44:30.779717Z",
     "iopub.status.busy": "2022-08-18T09:44:30.779322Z",
     "iopub.status.idle": "2022-08-18T09:44:30.928245Z",
     "shell.execute_reply": "2022-08-18T09:44:30.926986Z"
    },
    "papermill": {
     "duration": 0.16077,
     "end_time": "2022-08-18T09:44:30.931034",
     "exception": false,
     "start_time": "2022-08-18T09:44:30.770264",
     "status": "completed"
    },
    "tags": []
   },
   "outputs": [
    {
     "data": {
      "text/html": [
       "<div>\n",
       "<style scoped>\n",
       "    .dataframe tbody tr th:only-of-type {\n",
       "        vertical-align: middle;\n",
       "    }\n",
       "\n",
       "    .dataframe tbody tr th {\n",
       "        vertical-align: top;\n",
       "    }\n",
       "\n",
       "    .dataframe thead th {\n",
       "        text-align: right;\n",
       "    }\n",
       "</style>\n",
       "<table border=\"1\" class=\"dataframe\">\n",
       "  <thead>\n",
       "    <tr style=\"text-align: right;\">\n",
       "      <th></th>\n",
       "      <th>post_id</th>\n",
       "      <th>post_created</th>\n",
       "      <th>post_text</th>\n",
       "      <th>user_id</th>\n",
       "      <th>followers</th>\n",
       "      <th>friends</th>\n",
       "      <th>favourites</th>\n",
       "      <th>statuses</th>\n",
       "      <th>retweets</th>\n",
       "      <th>label</th>\n",
       "    </tr>\n",
       "  </thead>\n",
       "  <tbody>\n",
       "    <tr>\n",
       "      <th>9977</th>\n",
       "      <td>589525784231944192</td>\n",
       "      <td>Sat Apr 18 20:27:54 +0000 2015</td>\n",
       "      <td>RT @YoungLife: Can we get a slow clap for hamm...</td>\n",
       "      <td>2766067037</td>\n",
       "      <td>78</td>\n",
       "      <td>175</td>\n",
       "      <td>664</td>\n",
       "      <td>1148</td>\n",
       "      <td>73</td>\n",
       "      <td>1</td>\n",
       "    </tr>\n",
       "    <tr>\n",
       "      <th>1368</th>\n",
       "      <td>580408324488847361</td>\n",
       "      <td>Tue Mar 24 16:38:22 +0000 2015</td>\n",
       "      <td>(1/2) To mark the start of #autismawareness we...</td>\n",
       "      <td>1629737760</td>\n",
       "      <td>2377</td>\n",
       "      <td>738</td>\n",
       "      <td>3189</td>\n",
       "      <td>5624</td>\n",
       "      <td>4</td>\n",
       "      <td>1</td>\n",
       "    </tr>\n",
       "    <tr>\n",
       "      <th>12029</th>\n",
       "      <td>810572263938473984</td>\n",
       "      <td>Sun Dec 18 19:47:42 +0000 2016</td>\n",
       "      <td>Since the #Lions offense can't score a TD, the...</td>\n",
       "      <td>18831261</td>\n",
       "      <td>884</td>\n",
       "      <td>2389</td>\n",
       "      <td>8466</td>\n",
       "      <td>57269</td>\n",
       "      <td>0</td>\n",
       "      <td>0</td>\n",
       "    </tr>\n",
       "    <tr>\n",
       "      <th>5929</th>\n",
       "      <td>596958401709608960</td>\n",
       "      <td>Sat May 09 08:42:28 +0000 2015</td>\n",
       "      <td>I'm seriously rejoining the gym and training l...</td>\n",
       "      <td>718984718</td>\n",
       "      <td>501</td>\n",
       "      <td>149</td>\n",
       "      <td>472</td>\n",
       "      <td>945</td>\n",
       "      <td>0</td>\n",
       "      <td>1</td>\n",
       "    </tr>\n",
       "    <tr>\n",
       "      <th>1150</th>\n",
       "      <td>559747980174327808</td>\n",
       "      <td>Mon Jan 26 16:21:32 +0000 2015</td>\n",
       "      <td>I'm doing  INSANITY MAX:30™ - MAX OUT ABS in T...</td>\n",
       "      <td>221788137</td>\n",
       "      <td>155</td>\n",
       "      <td>355</td>\n",
       "      <td>130</td>\n",
       "      <td>5479</td>\n",
       "      <td>0</td>\n",
       "      <td>1</td>\n",
       "    </tr>\n",
       "    <tr>\n",
       "      <th>6364</th>\n",
       "      <td>595445717218369536</td>\n",
       "      <td>Tue May 05 04:31:36 +0000 2015</td>\n",
       "      <td>Mother and Daughter selfie 💖 http://t.co/PJ1l4...</td>\n",
       "      <td>1306425758</td>\n",
       "      <td>734</td>\n",
       "      <td>1899</td>\n",
       "      <td>154</td>\n",
       "      <td>5929</td>\n",
       "      <td>0</td>\n",
       "      <td>1</td>\n",
       "    </tr>\n",
       "    <tr>\n",
       "      <th>1749</th>\n",
       "      <td>593282239384915968</td>\n",
       "      <td>Wed Apr 29 05:14:43 +0000 2015</td>\n",
       "      <td>She Talk: WhyDepressionHitsSoHardAthome | http...</td>\n",
       "      <td>1616997456</td>\n",
       "      <td>476</td>\n",
       "      <td>1235</td>\n",
       "      <td>0</td>\n",
       "      <td>21533</td>\n",
       "      <td>0</td>\n",
       "      <td>1</td>\n",
       "    </tr>\n",
       "    <tr>\n",
       "      <th>16753</th>\n",
       "      <td>810134718725263360</td>\n",
       "      <td>Sat Dec 17 14:49:03 +0000 2016</td>\n",
       "      <td>Highlight of the year indeed.</td>\n",
       "      <td>490044008</td>\n",
       "      <td>1849</td>\n",
       "      <td>561</td>\n",
       "      <td>8229</td>\n",
       "      <td>86352</td>\n",
       "      <td>0</td>\n",
       "      <td>0</td>\n",
       "    </tr>\n",
       "    <tr>\n",
       "      <th>12700</th>\n",
       "      <td>816698690740097024</td>\n",
       "      <td>Wed Jan 04 17:31:56 +0000 2017</td>\n",
       "      <td>2016 in Charts. (And Can Trump Deliver in 2017...</td>\n",
       "      <td>145626605</td>\n",
       "      <td>126</td>\n",
       "      <td>621</td>\n",
       "      <td>22</td>\n",
       "      <td>2111</td>\n",
       "      <td>0</td>\n",
       "      <td>0</td>\n",
       "    </tr>\n",
       "    <tr>\n",
       "      <th>2244</th>\n",
       "      <td>587013393149722625</td>\n",
       "      <td>Sat Apr 11 22:04:33 +0000 2015</td>\n",
       "      <td>Overcome Depression: Tristan Walker: The Visib...</td>\n",
       "      <td>1616997456</td>\n",
       "      <td>476</td>\n",
       "      <td>1235</td>\n",
       "      <td>0</td>\n",
       "      <td>21533</td>\n",
       "      <td>0</td>\n",
       "      <td>1</td>\n",
       "    </tr>\n",
       "  </tbody>\n",
       "</table>\n",
       "</div>"
      ],
      "text/plain": [
       "                  post_id                    post_created  \\\n",
       "9977   589525784231944192  Sat Apr 18 20:27:54 +0000 2015   \n",
       "1368   580408324488847361  Tue Mar 24 16:38:22 +0000 2015   \n",
       "12029  810572263938473984  Sun Dec 18 19:47:42 +0000 2016   \n",
       "5929   596958401709608960  Sat May 09 08:42:28 +0000 2015   \n",
       "1150   559747980174327808  Mon Jan 26 16:21:32 +0000 2015   \n",
       "6364   595445717218369536  Tue May 05 04:31:36 +0000 2015   \n",
       "1749   593282239384915968  Wed Apr 29 05:14:43 +0000 2015   \n",
       "16753  810134718725263360  Sat Dec 17 14:49:03 +0000 2016   \n",
       "12700  816698690740097024  Wed Jan 04 17:31:56 +0000 2017   \n",
       "2244   587013393149722625  Sat Apr 11 22:04:33 +0000 2015   \n",
       "\n",
       "                                               post_text     user_id  \\\n",
       "9977   RT @YoungLife: Can we get a slow clap for hamm...  2766067037   \n",
       "1368   (1/2) To mark the start of #autismawareness we...  1629737760   \n",
       "12029  Since the #Lions offense can't score a TD, the...    18831261   \n",
       "5929   I'm seriously rejoining the gym and training l...   718984718   \n",
       "1150   I'm doing  INSANITY MAX:30™ - MAX OUT ABS in T...   221788137   \n",
       "6364   Mother and Daughter selfie 💖 http://t.co/PJ1l4...  1306425758   \n",
       "1749   She Talk: WhyDepressionHitsSoHardAthome | http...  1616997456   \n",
       "16753                      Highlight of the year indeed.   490044008   \n",
       "12700  2016 in Charts. (And Can Trump Deliver in 2017...   145626605   \n",
       "2244   Overcome Depression: Tristan Walker: The Visib...  1616997456   \n",
       "\n",
       "       followers  friends  favourites  statuses  retweets  label  \n",
       "9977          78      175         664      1148        73      1  \n",
       "1368        2377      738        3189      5624         4      1  \n",
       "12029        884     2389        8466     57269         0      0  \n",
       "5929         501      149         472       945         0      1  \n",
       "1150         155      355         130      5479         0      1  \n",
       "6364         734     1899         154      5929         0      1  \n",
       "1749         476     1235           0     21533         0      1  \n",
       "16753       1849      561        8229     86352         0      0  \n",
       "12700        126      621          22      2111         0      0  \n",
       "2244         476     1235           0     21533         0      1  "
      ]
     },
     "execution_count": 3,
     "metadata": {},
     "output_type": "execute_result"
    }
   ],
   "source": [
    "data=pd.read_csv(\"./datasets/Mental-Health-Twitter.csv\", index_col=0)\n",
    "data.sample(10)\n",
    "# data.columns"
   ]
  },
  {
   "cell_type": "code",
   "execution_count": 4,
   "id": "e89ab0a0",
   "metadata": {
    "execution": {
     "iopub.execute_input": "2022-08-18T09:44:31.032282Z",
     "iopub.status.busy": "2022-08-18T09:44:31.031815Z",
     "iopub.status.idle": "2022-08-18T09:44:31.241920Z",
     "shell.execute_reply": "2022-08-18T09:44:31.240715Z"
    },
    "papermill": {
     "duration": 0.222412,
     "end_time": "2022-08-18T09:44:31.244418",
     "exception": false,
     "start_time": "2022-08-18T09:44:31.022006",
     "status": "completed"
    },
    "tags": []
   },
   "outputs": [
    {
     "data": {
      "text/plain": [
       "<Axes: xlabel='label', ylabel='count'>"
      ]
     },
     "execution_count": 4,
     "metadata": {},
     "output_type": "execute_result"
    },
    {
     "data": {
      "image/png": "[encoded data removed]",
      "text/plain": [
       "<Figure size 640x480 with 1 Axes>"
      ]
     },
     "metadata": {},
     "output_type": "display_data"
    }
   ],
   "source": [
    "sns.countplot(data=data, x=\"label\")"
   ]
  },
  {
   "cell_type": "markdown",
   "id": "0d3f28a4",
   "metadata": {
    "papermill": {
     "duration": 0.008236,
     "end_time": "2022-08-18T09:44:31.260967",
     "exception": false,
     "start_time": "2022-08-18T09:44:31.252731",
     "status": "completed"
    },
    "tags": []
   },
   "source": [
    "## Natural Language Processing Libraries"
   ]
  },
  {
   "cell_type": "code",
   "execution_count": 5,
   "id": "9f015c0f",
   "metadata": {
    "execution": {
     "iopub.execute_input": "2022-08-18T09:44:31.278710Z",
     "iopub.status.busy": "2022-08-18T09:44:31.278305Z",
     "iopub.status.idle": "2022-08-18T09:44:32.113028Z",
     "shell.execute_reply": "2022-08-18T09:44:32.111824Z"
    },
    "papermill": {
     "duration": 0.846736,
     "end_time": "2022-08-18T09:44:32.115754",
     "exception": false,
     "start_time": "2022-08-18T09:44:31.269018",
     "status": "completed"
    },
    "tags": []
   },
   "outputs": [
    {
     "name": "stderr",
     "output_type": "stream",
     "text": [
      "[nltk_data] Downloading package omw-1.4 to\n",
      "[nltk_data]     /Users/robrohan/nltk_data...\n",
      "[nltk_data]   Package omw-1.4 is already up-to-date!\n",
      "[nltk_data] Downloading package punkt_tab to\n",
      "[nltk_data]     /Users/robrohan/nltk_data...\n",
      "[nltk_data]   Package punkt_tab is already up-to-date!\n",
      "[nltk_data] Downloading package stopwords to\n",
      "[nltk_data]     /Users/robrohan/nltk_data...\n",
      "[nltk_data]   Package stopwords is already up-to-date!\n"
     ]
    }
   ],
   "source": [
    "import re\n",
    "import nltk\n",
    "nltk.download('omw-1.4')\n",
    "nltk.download('punkt_tab')\n",
    "nltk.download(\"stopwords\")\n",
    "from nltk.corpus import stopwords"
   ]
  },
  {
   "cell_type": "markdown",
   "id": "e3fcaf41",
   "metadata": {
    "papermill": {
     "duration": 0.008123,
     "end_time": "2022-08-18T09:44:32.624460",
     "exception": false,
     "start_time": "2022-08-18T09:44:32.616337",
     "status": "completed"
    },
    "tags": []
   },
   "source": [
    "## Text Clean Up\n",
    "\n",
    "A lemmatizer is a text processing tool used in natural language processing (NLP) to reduce words to their base or root form, known as a lemma. Unlike stemming, which simply chops off the ends of words to return the root form, lemmatization considers the context and meaning of the word."
   ]
  },
  {
   "cell_type": "code",
   "execution_count": 6,
   "id": "1221adc5",
   "metadata": {
    "execution": {
     "iopub.execute_input": "2022-08-18T09:44:32.642897Z",
     "iopub.status.busy": "2022-08-18T09:44:32.642403Z",
     "iopub.status.idle": "2022-08-18T09:44:46.464402Z",
     "shell.execute_reply": "2022-08-18T09:44:46.463165Z"
    },
    "papermill": {
     "duration": 13.834407,
     "end_time": "2022-08-18T09:44:46.467167",
     "exception": false,
     "start_time": "2022-08-18T09:44:32.632760",
     "status": "completed"
    },
    "tags": []
   },
   "outputs": [],
   "source": [
    "lemma = nltk.WordNetLemmatizer()\n",
    "text_list=[]\n",
    "for text in data.post_text:\n",
    "    description = re.sub(\"[^a-zA-Z]\",\" \",text)                                            # a remover from text without letters\n",
    "    description = description.lower()\n",
    "    description = nltk.word_tokenize(text)\n",
    "    # description = [word for word in text if word not in set(stopwords.words(\"english\"))] Done in vectorize below\n",
    "    description = [lemma.lemmatize(word) for word in text]                                # lemmatize the words\n",
    "    description = \"\".join(description)                                                    # put the words back into a single blob\n",
    "    text_list.append(description)\n"
   ]
  },
  {
   "cell_type": "markdown",
   "id": "9d08d9bd",
   "metadata": {
    "papermill": {
     "duration": 0.008272,
     "end_time": "2022-08-18T09:44:46.484162",
     "exception": false,
     "start_time": "2022-08-18T09:44:46.475890",
     "status": "completed"
    },
    "tags": []
   },
   "source": [
    "## Vectorize the Text"
   ]
  },
  {
   "cell_type": "code",
   "execution_count": 7,
   "id": "d08b997f",
   "metadata": {
    "execution": {
     "iopub.execute_input": "2022-08-18T09:44:46.503187Z",
     "iopub.status.busy": "2022-08-18T09:44:46.502710Z",
     "iopub.status.idle": "2022-08-18T09:44:46.508109Z",
     "shell.execute_reply": "2022-08-18T09:44:46.506741Z"
    },
    "papermill": {
     "duration": 0.01802,
     "end_time": "2022-08-18T09:44:46.510688",
     "exception": false,
     "start_time": "2022-08-18T09:44:46.492668",
     "status": "completed"
    },
    "tags": []
   },
   "outputs": [],
   "source": [
    "from sklearn.feature_extraction.text import CountVectorizer\n",
    "count_vectorizer = CountVectorizer(max_features=1024, stop_words=\"english\")   # Use 512 words and remove english stop words\n",
    "sparce_matrix = count_vectorizer.fit_transform(text_list).toarray()"
   ]
  },
  {
   "cell_type": "markdown",
   "id": "79e24670",
   "metadata": {
    "papermill": {
     "duration": 0.008078,
     "end_time": "2022-08-18T09:44:47.025991",
     "exception": false,
     "start_time": "2022-08-18T09:44:47.017913",
     "status": "completed"
    },
    "tags": []
   },
   "source": [
    "## Set x and y axis"
   ]
  },
  {
   "cell_type": "code",
   "execution_count": 8,
   "id": "0b1f65a0",
   "metadata": {
    "execution": {
     "iopub.execute_input": "2022-08-18T09:44:47.044843Z",
     "iopub.status.busy": "2022-08-18T09:44:47.044427Z",
     "iopub.status.idle": "2022-08-18T09:44:47.049109Z",
     "shell.execute_reply": "2022-08-18T09:44:47.048213Z"
    },
    "papermill": {
     "duration": 0.016281,
     "end_time": "2022-08-18T09:44:47.051134",
     "exception": false,
     "start_time": "2022-08-18T09:44:47.034853",
     "status": "completed"
    },
    "tags": []
   },
   "outputs": [],
   "source": [
    "x = sparce_matrix\n",
    "y = data[\"label\"].values"
   ]
  },
  {
   "cell_type": "markdown",
   "id": "534405d4",
   "metadata": {
    "papermill": {
     "duration": 0.008035,
     "end_time": "2022-08-18T09:44:47.067619",
     "exception": false,
     "start_time": "2022-08-18T09:44:47.059584",
     "status": "completed"
    },
    "tags": []
   },
   "source": [
    "## Split into train and test"
   ]
  },
  {
   "cell_type": "code",
   "execution_count": 9,
   "id": "3a04e313",
   "metadata": {
    "execution": {
     "iopub.execute_input": "2022-08-18T09:44:47.086316Z",
     "iopub.status.busy": "2022-08-18T09:44:47.085859Z",
     "iopub.status.idle": "2022-08-18T09:44:47.091474Z",
     "shell.execute_reply": "2022-08-18T09:44:47.090155Z"
    },
    "papermill": {
     "duration": 0.017934,
     "end_time": "2022-08-18T09:44:47.093843",
     "exception": false,
     "start_time": "2022-08-18T09:44:47.075909",
     "status": "completed"
    },
    "tags": []
   },
   "outputs": [],
   "source": [
    "from sklearn.model_selection import train_test_split\n",
    "x_train, x_test, y_train, y_test = train_test_split(x, y, test_size=0.3, random_state=42)"
   ]
  },
  {
   "cell_type": "markdown",
   "id": "c923340e",
   "metadata": {
    "papermill": {
     "duration": 0.008094,
     "end_time": "2022-08-18T09:44:47.188620",
     "exception": false,
     "start_time": "2022-08-18T09:44:47.180526",
     "status": "completed"
    },
    "tags": []
   },
   "source": [
    "## Algorithm to predict depression\n",
    "\n",
    "Gaussian Naive Bayes is a probabilistic machine learning algorithm based on Bayes' Theorem, used primarily for classification tasks. It's called \"naive\" because it assumes that the features are independent of each other, which is often not the case in real-world data. Despite this simplifying assumption, it often performs well and is widely used due to its simplicity and efficiency."
   ]
  },
  {
   "cell_type": "code",
   "execution_count": 10,
   "id": "ab008479",
   "metadata": {
    "execution": {
     "iopub.execute_input": "2022-08-18T09:44:47.208178Z",
     "iopub.status.busy": "2022-08-18T09:44:47.207320Z",
     "iopub.status.idle": "2022-08-18T09:44:47.214875Z",
     "shell.execute_reply": "2022-08-18T09:44:47.213882Z"
    },
    "papermill": {
     "duration": 0.020767,
     "end_time": "2022-08-18T09:44:47.217672",
     "exception": false,
     "start_time": "2022-08-18T09:44:47.196905",
     "status": "completed"
    },
    "tags": []
   },
   "outputs": [
    {
     "data": {
      "text/html": [
       "<style>#sk-container-id-1 {\n",
       "  /* Definition of color scheme common for light and dark mode */\n",
       "  --sklearn-color-text: #000;\n",
       "  --sklearn-color-text-muted: #666;\n",
       "  --sklearn-color-line: gray;\n",
       "  /* Definition of color scheme for unfitted estimators */\n",
       "  --sklearn-color-unfitted-level-0: #fff5e6;\n",
       "  --sklearn-color-unfitted-level-1: #f6e4d2;\n",
       "  --sklearn-color-unfitted-level-2: #ffe0b3;\n",
       "  --sklearn-color-unfitted-level-3: chocolate;\n",
       "  /* Definition of color scheme for fitted estimators */\n",
       "  --sklearn-color-fitted-level-0: #f0f8ff;\n",
       "  --sklearn-color-fitted-level-1: #d4ebff;\n",
       "  --sklearn-color-fitted-level-2: #b3dbfd;\n",
       "  --sklearn-color-fitted-level-3: cornflowerblue;\n",
       "\n",
       "  /* Specific color for light theme */\n",
       "  --sklearn-color-text-on-default-background: var(--sg-text-color, var(--theme-code-foreground, var(--jp-content-font-color1, black)));\n",
       "  --sklearn-color-background: var(--sg-background-color, var(--theme-background, var(--jp-layout-color0, white)));\n",
       "  --sklearn-color-border-box: var(--sg-text-color, var(--theme-code-foreground, var(--jp-content-font-color1, black)));\n",
       "  --sklearn-color-icon: #696969;\n",
       "\n",
       "  @media (prefers-color-scheme: dark) {\n",
       "    /* Redefinition of color scheme for dark theme */\n",
       "    --sklearn-color-text-on-default-background: var(--sg-text-color, var(--theme-code-foreground, var(--jp-content-font-color1, white)));\n",
       "    --sklearn-color-background: var(--sg-background-color, var(--theme-background, var(--jp-layout-color0, #111)));\n",
       "    --sklearn-color-border-box: var(--sg-text-color, var(--theme-code-foreground, var(--jp-content-font-color1, white)));\n",
       "    --sklearn-color-icon: #878787;\n",
       "  }\n",
       "}\n",
       "\n",
       "#sk-container-id-1 {\n",
       "  color: var(--sklearn-color-text);\n",
       "}\n",
       "\n",
       "#sk-container-id-1 pre {\n",
       "  padding: 0;\n",
       "}\n",
       "\n",
       "#sk-container-id-1 input.sk-hidden--visually {\n",
       "  border: 0;\n",
       "  clip: rect(1px 1px 1px 1px);\n",
       "  clip: rect(1px, 1px, 1px, 1px);\n",
       "  height: 1px;\n",
       "  margin: -1px;\n",
       "  overflow: hidden;\n",
       "  padding: 0;\n",
       "  position: absolute;\n",
       "  width: 1px;\n",
       "}\n",
       "\n",
       "#sk-container-id-1 div.sk-dashed-wrapped {\n",
       "  border: 1px dashed var(--sklearn-color-line);\n",
       "  margin: 0 0.4em 0.5em 0.4em;\n",
       "  box-sizing: border-box;\n",
       "  padding-bottom: 0.4em;\n",
       "  background-color: var(--sklearn-color-background);\n",
       "}\n",
       "\n",
       "#sk-container-id-1 div.sk-container {\n",
       "  /* jupyter's `normalize.less` sets `[hidden] { display: none; }`\n",
       "     but bootstrap.min.css set `[hidden] { display: none !important; }`\n",
       "     so we also need the `!important` here to be able to override the\n",
       "     default hidden behavior on the sphinx rendered scikit-learn.org.\n",
       "     See: https://github.com/scikit-learn/scikit-learn/issues/21755 */\n",
       "  display: inline-block !important;\n",
       "  position: relative;\n",
       "}\n",
       "\n",
       "#sk-container-id-1 div.sk-text-repr-fallback {\n",
       "  display: none;\n",
       "}\n",
       "\n",
       "div.sk-parallel-item,\n",
       "div.sk-serial,\n",
       "div.sk-item {\n",
       "  /* draw centered vertical line to link estimators */\n",
       "  background-image: linear-gradient(var(--sklearn-color-text-on-default-background), var(--sklearn-color-text-on-default-background));\n",
       "  background-size: 2px 100%;\n",
       "  background-repeat: no-repeat;\n",
       "  background-position: center center;\n",
       "}\n",
       "\n",
       "/* Parallel-specific style estimator block */\n",
       "\n",
       "#sk-container-id-1 div.sk-parallel-item::after {\n",
       "  content: \"\";\n",
       "  width: 100%;\n",
       "  border-bottom: 2px solid var(--sklearn-color-text-on-default-background);\n",
       "  flex-grow: 1;\n",
       "}\n",
       "\n",
       "#sk-container-id-1 div.sk-parallel {\n",
       "  display: flex;\n",
       "  align-items: stretch;\n",
       "  justify-content: center;\n",
       "  background-color: var(--sklearn-color-background);\n",
       "  position: relative;\n",
       "}\n",
       "\n",
       "#sk-container-id-1 div.sk-parallel-item {\n",
       "  display: flex;\n",
       "  flex-direction: column;\n",
       "}\n",
       "\n",
       "#sk-container-id-1 div.sk-parallel-item:first-child::after {\n",
       "  align-self: flex-end;\n",
       "  width: 50%;\n",
       "}\n",
       "\n",
       "#sk-container-id-1 div.sk-parallel-item:last-child::after {\n",
       "  align-self: flex-start;\n",
       "  width: 50%;\n",
       "}\n",
       "\n",
       "#sk-container-id-1 div.sk-parallel-item:only-child::after {\n",
       "  width: 0;\n",
       "}\n",
       "\n",
       "/* Serial-specific style estimator block */\n",
       "\n",
       "#sk-container-id-1 div.sk-serial {\n",
       "  display: flex;\n",
       "  flex-direction: column;\n",
       "  align-items: center;\n",
       "  background-color: var(--sklearn-color-background);\n",
       "  padding-right: 1em;\n",
       "  padding-left: 1em;\n",
       "}\n",
       "\n",
       "\n",
       "/* Toggleable style: style used for estimator/Pipeline/ColumnTransformer box that is\n",
       "clickable and can be expanded/collapsed.\n",
       "- Pipeline and ColumnTransformer use this feature and define the default style\n",
       "- Estimators will overwrite some part of the style using the `sk-estimator` class\n",
       "*/\n",
       "\n",
       "/* Pipeline and ColumnTransformer style (default) */\n",
       "\n",
       "#sk-container-id-1 div.sk-toggleable {\n",
       "  /* Default theme specific background. It is overwritten whether we have a\n",
       "  specific estimator or a Pipeline/ColumnTransformer */\n",
       "  background-color: var(--sklearn-color-background);\n",
       "}\n",
       "\n",
       "/* Toggleable label */\n",
       "#sk-container-id-1 label.sk-toggleable__label {\n",
       "  cursor: pointer;\n",
       "  display: flex;\n",
       "  width: 100%;\n",
       "  margin-bottom: 0;\n",
       "  padding: 0.5em;\n",
       "  box-sizing: border-box;\n",
       "  text-align: center;\n",
       "  align-items: start;\n",
       "  justify-content: space-between;\n",
       "  gap: 0.5em;\n",
       "}\n",
       "\n",
       "#sk-container-id-1 label.sk-toggleable__label .caption {\n",
       "  font-size: 0.6rem;\n",
       "  font-weight: lighter;\n",
       "  color: var(--sklearn-color-text-muted);\n",
       "}\n",
       "\n",
       "#sk-container-id-1 label.sk-toggleable__label-arrow:before {\n",
       "  /* Arrow on the left of the label */\n",
       "  content: \"▸\";\n",
       "  float: left;\n",
       "  margin-right: 0.25em;\n",
       "  color: var(--sklearn-color-icon);\n",
       "}\n",
       "\n",
       "#sk-container-id-1 label.sk-toggleable__label-arrow:hover:before {\n",
       "  color: var(--sklearn-color-text);\n",
       "}\n",
       "\n",
       "/* Toggleable content - dropdown */\n",
       "\n",
       "#sk-container-id-1 div.sk-toggleable__content {\n",
       "  max-height: 0;\n",
       "  max-width: 0;\n",
       "  overflow: hidden;\n",
       "  text-align: left;\n",
       "  /* unfitted */\n",
       "  background-color: var(--sklearn-color-unfitted-level-0);\n",
       "}\n",
       "\n",
       "#sk-container-id-1 div.sk-toggleable__content.fitted {\n",
       "  /* fitted */\n",
       "  background-color: var(--sklearn-color-fitted-level-0);\n",
       "}\n",
       "\n",
       "#sk-container-id-1 div.sk-toggleable__content pre {\n",
       "  margin: 0.2em;\n",
       "  border-radius: 0.25em;\n",
       "  color: var(--sklearn-color-text);\n",
       "  /* unfitted */\n",
       "  background-color: var(--sklearn-color-unfitted-level-0);\n",
       "}\n",
       "\n",
       "#sk-container-id-1 div.sk-toggleable__content.fitted pre {\n",
       "  /* unfitted */\n",
       "  background-color: var(--sklearn-color-fitted-level-0);\n",
       "}\n",
       "\n",
       "#sk-container-id-1 input.sk-toggleable__control:checked~div.sk-toggleable__content {\n",
       "  /* Expand drop-down */\n",
       "  max-height: 200px;\n",
       "  max-width: 100%;\n",
       "  overflow: auto;\n",
       "}\n",
       "\n",
       "#sk-container-id-1 input.sk-toggleable__control:checked~label.sk-toggleable__label-arrow:before {\n",
       "  content: \"▾\";\n",
       "}\n",
       "\n",
       "/* Pipeline/ColumnTransformer-specific style */\n",
       "\n",
       "#sk-container-id-1 div.sk-label input.sk-toggleable__control:checked~label.sk-toggleable__label {\n",
       "  color: var(--sklearn-color-text);\n",
       "  background-color: var(--sklearn-color-unfitted-level-2);\n",
       "}\n",
       "\n",
       "#sk-container-id-1 div.sk-label.fitted input.sk-toggleable__control:checked~label.sk-toggleable__label {\n",
       "  background-color: var(--sklearn-color-fitted-level-2);\n",
       "}\n",
       "\n",
       "/* Estimator-specific style */\n",
       "\n",
       "/* Colorize estimator box */\n",
       "#sk-container-id-1 div.sk-estimator input.sk-toggleable__control:checked~label.sk-toggleable__label {\n",
       "  /* unfitted */\n",
       "  background-color: var(--sklearn-color-unfitted-level-2);\n",
       "}\n",
       "\n",
       "#sk-container-id-1 div.sk-estimator.fitted input.sk-toggleable__control:checked~label.sk-toggleable__label {\n",
       "  /* fitted */\n",
       "  background-color: var(--sklearn-color-fitted-level-2);\n",
       "}\n",
       "\n",
       "#sk-container-id-1 div.sk-label label.sk-toggleable__label,\n",
       "#sk-container-id-1 div.sk-label label {\n",
       "  /* The background is the default theme color */\n",
       "  color: var(--sklearn-color-text-on-default-background);\n",
       "}\n",
       "\n",
       "/* On hover, darken the color of the background */\n",
       "#sk-container-id-1 div.sk-label:hover label.sk-toggleable__label {\n",
       "  color: var(--sklearn-color-text);\n",
       "  background-color: var(--sklearn-color-unfitted-level-2);\n",
       "}\n",
       "\n",
       "/* Label box, darken color on hover, fitted */\n",
       "#sk-container-id-1 div.sk-label.fitted:hover label.sk-toggleable__label.fitted {\n",
       "  color: var(--sklearn-color-text);\n",
       "  background-color: var(--sklearn-color-fitted-level-2);\n",
       "}\n",
       "\n",
       "/* Estimator label */\n",
       "\n",
       "#sk-container-id-1 div.sk-label label {\n",
       "  font-family: monospace;\n",
       "  font-weight: bold;\n",
       "  display: inline-block;\n",
       "  line-height: 1.2em;\n",
       "}\n",
       "\n",
       "#sk-container-id-1 div.sk-label-container {\n",
       "  text-align: center;\n",
       "}\n",
       "\n",
       "/* Estimator-specific */\n",
       "#sk-container-id-1 div.sk-estimator {\n",
       "  font-family: monospace;\n",
       "  border: 1px dotted var(--sklearn-color-border-box);\n",
       "  border-radius: 0.25em;\n",
       "  box-sizing: border-box;\n",
       "  margin-bottom: 0.5em;\n",
       "  /* unfitted */\n",
       "  background-color: var(--sklearn-color-unfitted-level-0);\n",
       "}\n",
       "\n",
       "#sk-container-id-1 div.sk-estimator.fitted {\n",
       "  /* fitted */\n",
       "  background-color: var(--sklearn-color-fitted-level-0);\n",
       "}\n",
       "\n",
       "/* on hover */\n",
       "#sk-container-id-1 div.sk-estimator:hover {\n",
       "  /* unfitted */\n",
       "  background-color: var(--sklearn-color-unfitted-level-2);\n",
       "}\n",
       "\n",
       "#sk-container-id-1 div.sk-estimator.fitted:hover {\n",
       "  /* fitted */\n",
       "  background-color: var(--sklearn-color-fitted-level-2);\n",
       "}\n",
       "\n",
       "/* Specification for estimator info (e.g. \"i\" and \"?\") */\n",
       "\n",
       "/* Common style for \"i\" and \"?\" */\n",
       "\n",
       ".sk-estimator-doc-link,\n",
       "a:link.sk-estimator-doc-link,\n",
       "a:visited.sk-estimator-doc-link {\n",
       "  float: right;\n",
       "  font-size: smaller;\n",
       "  line-height: 1em;\n",
       "  font-family: monospace;\n",
       "  background-color: var(--sklearn-color-background);\n",
       "  border-radius: 1em;\n",
       "  height: 1em;\n",
       "  width: 1em;\n",
       "  text-decoration: none !important;\n",
       "  margin-left: 0.5em;\n",
       "  text-align: center;\n",
       "  /* unfitted */\n",
       "  border: var(--sklearn-color-unfitted-level-1) 1pt solid;\n",
       "  color: var(--sklearn-color-unfitted-level-1);\n",
       "}\n",
       "\n",
       ".sk-estimator-doc-link.fitted,\n",
       "a:link.sk-estimator-doc-link.fitted,\n",
       "a:visited.sk-estimator-doc-link.fitted {\n",
       "  /* fitted */\n",
       "  border: var(--sklearn-color-fitted-level-1) 1pt solid;\n",
       "  color: var(--sklearn-color-fitted-level-1);\n",
       "}\n",
       "\n",
       "/* On hover */\n",
       "div.sk-estimator:hover .sk-estimator-doc-link:hover,\n",
       ".sk-estimator-doc-link:hover,\n",
       "div.sk-label-container:hover .sk-estimator-doc-link:hover,\n",
       ".sk-estimator-doc-link:hover {\n",
       "  /* unfitted */\n",
       "  background-color: var(--sklearn-color-unfitted-level-3);\n",
       "  color: var(--sklearn-color-background);\n",
       "  text-decoration: none;\n",
       "}\n",
       "\n",
       "div.sk-estimator.fitted:hover .sk-estimator-doc-link.fitted:hover,\n",
       ".sk-estimator-doc-link.fitted:hover,\n",
       "div.sk-label-container:hover .sk-estimator-doc-link.fitted:hover,\n",
       ".sk-estimator-doc-link.fitted:hover {\n",
       "  /* fitted */\n",
       "  background-color: var(--sklearn-color-fitted-level-3);\n",
       "  color: var(--sklearn-color-background);\n",
       "  text-decoration: none;\n",
       "}\n",
       "\n",
       "/* Span, style for the box shown on hovering the info icon */\n",
       ".sk-estimator-doc-link span {\n",
       "  display: none;\n",
       "  z-index: 9999;\n",
       "  position: relative;\n",
       "  font-weight: normal;\n",
       "  right: .2ex;\n",
       "  padding: .5ex;\n",
       "  margin: .5ex;\n",
       "  width: min-content;\n",
       "  min-width: 20ex;\n",
       "  max-width: 50ex;\n",
       "  color: var(--sklearn-color-text);\n",
       "  box-shadow: 2pt 2pt 4pt #999;\n",
       "  /* unfitted */\n",
       "  background: var(--sklearn-color-unfitted-level-0);\n",
       "  border: .5pt solid var(--sklearn-color-unfitted-level-3);\n",
       "}\n",
       "\n",
       ".sk-estimator-doc-link.fitted span {\n",
       "  /* fitted */\n",
       "  background: var(--sklearn-color-fitted-level-0);\n",
       "  border: var(--sklearn-color-fitted-level-3);\n",
       "}\n",
       "\n",
       ".sk-estimator-doc-link:hover span {\n",
       "  display: block;\n",
       "}\n",
       "\n",
       "/* \"?\"-specific style due to the `<a>` HTML tag */\n",
       "\n",
       "#sk-container-id-1 a.estimator_doc_link {\n",
       "  float: right;\n",
       "  font-size: 1rem;\n",
       "  line-height: 1em;\n",
       "  font-family: monospace;\n",
       "  background-color: var(--sklearn-color-background);\n",
       "  border-radius: 1rem;\n",
       "  height: 1rem;\n",
       "  width: 1rem;\n",
       "  text-decoration: none;\n",
       "  /* unfitted */\n",
       "  color: var(--sklearn-color-unfitted-level-1);\n",
       "  border: var(--sklearn-color-unfitted-level-1) 1pt solid;\n",
       "}\n",
       "\n",
       "#sk-container-id-1 a.estimator_doc_link.fitted {\n",
       "  /* fitted */\n",
       "  border: var(--sklearn-color-fitted-level-1) 1pt solid;\n",
       "  color: var(--sklearn-color-fitted-level-1);\n",
       "}\n",
       "\n",
       "/* On hover */\n",
       "#sk-container-id-1 a.estimator_doc_link:hover {\n",
       "  /* unfitted */\n",
       "  background-color: var(--sklearn-color-unfitted-level-3);\n",
       "  color: var(--sklearn-color-background);\n",
       "  text-decoration: none;\n",
       "}\n",
       "\n",
       "#sk-container-id-1 a.estimator_doc_link.fitted:hover {\n",
       "  /* fitted */\n",
       "  background-color: var(--sklearn-color-fitted-level-3);\n",
       "}\n",
       "</style><div id=\"sk-container-id-1\" class=\"sk-top-container\"><div class=\"sk-text-repr-fallback\"><pre>GaussianNB()</pre><b>In a Jupyter environment, please rerun this cell to show the HTML representation or trust the notebook. <br />On GitHub, the HTML representation is unable to render, please try loading this page with nbviewer.org.</b></div><div class=\"sk-container\" hidden><div class=\"sk-item\"><div class=\"sk-estimator fitted sk-toggleable\"><input class=\"sk-toggleable__control sk-hidden--visually\" id=\"sk-estimator-id-1\" type=\"checkbox\" checked><label for=\"sk-estimator-id-1\" class=\"sk-toggleable__label fitted sk-toggleable__label-arrow\"><div><div>GaussianNB</div></div><div><a class=\"sk-estimator-doc-link fitted\" rel=\"noreferrer\" target=\"_blank\" href=\"https://scikit-learn.org/1.6/modules/generated/sklearn.naive_bayes.GaussianNB.html\">?<span>Documentation for GaussianNB</span></a><span class=\"sk-estimator-doc-link fitted\">i<span>Fitted</span></span></div></label><div class=\"sk-toggleable__content fitted\"><pre>GaussianNB()</pre></div> </div></div></div></div>"
      ],
      "text/plain": [
       "GaussianNB()"
      ]
     },
     "execution_count": 10,
     "metadata": {},
     "output_type": "execute_result"
    }
   ],
   "source": [
    "from sklearn.naive_bayes import GaussianNB\n",
    "ga=GaussianNB()\n",
    "ga.fit(x_train,y_train)"
   ]
  },
  {
   "cell_type": "markdown",
   "id": "126dba18",
   "metadata": {
    "papermill": {
     "duration": 0.008286,
     "end_time": "2022-08-18T09:44:47.445994",
     "exception": false,
     "start_time": "2022-08-18T09:44:47.437708",
     "status": "completed"
    },
    "tags": []
   },
   "source": [
    "## Testing"
   ]
  },
  {
   "cell_type": "code",
   "execution_count": 11,
   "id": "2e8fa87e",
   "metadata": {
    "execution": {
     "iopub.execute_input": "2022-08-18T09:44:47.464676Z",
     "iopub.status.busy": "2022-08-18T09:44:47.464302Z",
     "iopub.status.idle": "2022-08-18T09:44:47.522356Z",
     "shell.execute_reply": "2022-08-18T09:44:47.521199Z"
    },
    "papermill": {
     "duration": 0.070596,
     "end_time": "2022-08-18T09:44:47.524966",
     "exception": false,
     "start_time": "2022-08-18T09:44:47.454370",
     "status": "completed"
    },
    "tags": []
   },
   "outputs": [
    {
     "data": {
      "text/plain": [
       "0.7681666666666667"
      ]
     },
     "execution_count": 11,
     "metadata": {},
     "output_type": "execute_result"
    }
   ],
   "source": [
    "ga.score(x_test, y_test)"
   ]
  },
  {
   "cell_type": "code",
   "execution_count": 12,
   "id": "f92e46dc",
   "metadata": {
    "execution": {
     "iopub.execute_input": "2022-08-18T09:44:47.544100Z",
     "iopub.status.busy": "2022-08-18T09:44:47.543351Z",
     "iopub.status.idle": "2022-08-18T09:44:47.548607Z",
     "shell.execute_reply": "2022-08-18T09:44:47.547332Z"
    },
    "papermill": {
     "duration": 0.017179,
     "end_time": "2022-08-18T09:44:47.550854",
     "exception": false,
     "start_time": "2022-08-18T09:44:47.533675",
     "status": "completed"
    },
    "tags": []
   },
   "outputs": [
    {
     "data": {
      "text/plain": [
       "array([[2009,  974],\n",
       "       [ 417, 2600]])"
      ]
     },
     "execution_count": 12,
     "metadata": {},
     "output_type": "execute_result"
    }
   ],
   "source": [
    "from sklearn.metrics import confusion_matrix\n",
    "confusion_matrix(y_test,ga.predict(x_test))"
   ]
  }
 ],
 "metadata": {
  "kernelspec": {
   "display_name": "comp838_report2",
   "language": "python",
   "name": "python3"
  },
  "language_info": {
   "codemirror_mode": {
    "name": "ipython",
    "version": 3
   },
   "file_extension": ".py",
   "mimetype": "text/x-python",
   "name": "python",
   "nbconvert_exporter": "python",
   "pygments_lexer": "ipython3",
   "version": "3.11.11"
  },
  "papermill": {
   "default_parameters": {},
   "duration": 28.620445,
   "end_time": "2022-08-18T09:44:48.654054",
   "environment_variables": {},
   "exception": null,
   "input_path": "__notebook__.ipynb",
   "output_path": "__notebook__.ipynb",
   "parameters": {},
   "start_time": "2022-08-18T09:44:20.033609",
   "version": "2.3.4"
  }
 },
 "nbformat": 4,
 "nbformat_minor": 5
}
