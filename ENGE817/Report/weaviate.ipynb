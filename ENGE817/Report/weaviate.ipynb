{
 "cells": [
  {
   "cell_type": "code",
   "execution_count": 48,
   "id": "6f1a85ea",
   "metadata": {},
   "outputs": [
    {
     "name": "stdout",
     "output_type": "stream",
     "text": [
      "Requirement already satisfied: weaviate-client in /Users/robrohan/miniconda3/envs/spikes/lib/python3.11/site-packages (4.16.9)\n",
      "Requirement already satisfied: httpx<0.29.0,>=0.26.0 in /Users/robrohan/miniconda3/envs/spikes/lib/python3.11/site-packages (from weaviate-client) (0.28.1)\n",
      "Requirement already satisfied: validators<1.0.0,>=0.34.0 in /Users/robrohan/miniconda3/envs/spikes/lib/python3.11/site-packages (from weaviate-client) (0.35.0)\n",
      "Requirement already satisfied: authlib<2.0.0,>=1.2.1 in /Users/robrohan/miniconda3/envs/spikes/lib/python3.11/site-packages (from weaviate-client) (1.6.2)\n",
      "Requirement already satisfied: pydantic<3.0.0,>=2.8.0 in /Users/robrohan/miniconda3/envs/spikes/lib/python3.11/site-packages (from weaviate-client) (2.11.7)\n",
      "Requirement already satisfied: grpcio<1.80.0,>=1.59.5 in /Users/robrohan/miniconda3/envs/spikes/lib/python3.11/site-packages (from weaviate-client) (1.74.0)\n",
      "Requirement already satisfied: protobuf<7.0.0,>=4.21.6 in /Users/robrohan/miniconda3/envs/spikes/lib/python3.11/site-packages (from weaviate-client) (6.32.0)\n",
      "Requirement already satisfied: deprecation<3.0.0,>=2.1.0 in /Users/robrohan/miniconda3/envs/spikes/lib/python3.11/site-packages (from weaviate-client) (2.1.0)\n",
      "Requirement already satisfied: cryptography in /Users/robrohan/miniconda3/envs/spikes/lib/python3.11/site-packages (from authlib<2.0.0,>=1.2.1->weaviate-client) (45.0.6)\n",
      "Requirement already satisfied: packaging in /Users/robrohan/miniconda3/envs/spikes/lib/python3.11/site-packages (from deprecation<3.0.0,>=2.1.0->weaviate-client) (25.0)\n",
      "Requirement already satisfied: anyio in /Users/robrohan/miniconda3/envs/spikes/lib/python3.11/site-packages (from httpx<0.29.0,>=0.26.0->weaviate-client) (4.10.0)\n",
      "Requirement already satisfied: certifi in /Users/robrohan/miniconda3/envs/spikes/lib/python3.11/site-packages (from httpx<0.29.0,>=0.26.0->weaviate-client) (2025.8.3)\n",
      "Requirement already satisfied: httpcore==1.* in /Users/robrohan/miniconda3/envs/spikes/lib/python3.11/site-packages (from httpx<0.29.0,>=0.26.0->weaviate-client) (1.0.9)\n",
      "Requirement already satisfied: idna in /Users/robrohan/miniconda3/envs/spikes/lib/python3.11/site-packages (from httpx<0.29.0,>=0.26.0->weaviate-client) (3.10)\n",
      "Requirement already satisfied: h11>=0.16 in /Users/robrohan/miniconda3/envs/spikes/lib/python3.11/site-packages (from httpcore==1.*->httpx<0.29.0,>=0.26.0->weaviate-client) (0.16.0)\n",
      "Requirement already satisfied: annotated-types>=0.6.0 in /Users/robrohan/miniconda3/envs/spikes/lib/python3.11/site-packages (from pydantic<3.0.0,>=2.8.0->weaviate-client) (0.7.0)\n",
      "Requirement already satisfied: pydantic-core==2.33.2 in /Users/robrohan/miniconda3/envs/spikes/lib/python3.11/site-packages (from pydantic<3.0.0,>=2.8.0->weaviate-client) (2.33.2)\n",
      "Requirement already satisfied: typing-extensions>=4.12.2 in /Users/robrohan/miniconda3/envs/spikes/lib/python3.11/site-packages (from pydantic<3.0.0,>=2.8.0->weaviate-client) (4.14.1)\n",
      "Requirement already satisfied: typing-inspection>=0.4.0 in /Users/robrohan/miniconda3/envs/spikes/lib/python3.11/site-packages (from pydantic<3.0.0,>=2.8.0->weaviate-client) (0.4.1)\n",
      "Requirement already satisfied: sniffio>=1.1 in /Users/robrohan/miniconda3/envs/spikes/lib/python3.11/site-packages (from anyio->httpx<0.29.0,>=0.26.0->weaviate-client) (1.3.1)\n",
      "Requirement already satisfied: cffi>=1.14 in /Users/robrohan/miniconda3/envs/spikes/lib/python3.11/site-packages (from cryptography->authlib<2.0.0,>=1.2.1->weaviate-client) (1.17.1)\n",
      "Requirement already satisfied: pycparser in /Users/robrohan/miniconda3/envs/spikes/lib/python3.11/site-packages (from cffi>=1.14->cryptography->authlib<2.0.0,>=1.2.1->weaviate-client) (2.22)\n",
      "Note: you may need to restart the kernel to use updated packages.\n"
     ]
    }
   ],
   "source": [
    "%pip install -U weaviate-client # weaviate-client[agents]"
   ]
  },
  {
   "cell_type": "code",
   "execution_count": 49,
   "id": "99dae71c",
   "metadata": {},
   "outputs": [
    {
     "name": "stderr",
     "output_type": "stream",
     "text": [
      "/Users/robrohan/miniconda3/envs/spikes/lib/python3.11/site-packages/weaviate/warnings.py:302: ResourceWarning: Con004: The connection to Weaviate was not closed properly. This can lead to memory leaks.\n",
      "            Please make sure to close the connection using `client.close()`.\n",
      "  warnings.warn(\n",
      "/var/folders/ks/zt1_dy0976s0n809crmcsppc0000gn/T/ipykernel_62539/2743767457.py:5: ResourceWarning: unclosed <socket.socket fd=82, family=30, type=1, proto=6, laddr=('::1', 52234, 0, 0), raddr=('::1', 8080, 0, 0)>\n",
      "  client = weaviate.connect_to_local()\n",
      "ResourceWarning: Enable tracemalloc to get the object allocation traceback\n"
     ]
    }
   ],
   "source": [
    "import weaviate\n",
    "import requests, json\n",
    "from weaviate.classes.config import Configure\n",
    "\n",
    "client = weaviate.connect_to_local()"
   ]
  },
  {
   "cell_type": "code",
   "execution_count": null,
   "id": "9050dff2",
   "metadata": {},
   "outputs": [
    {
     "name": "stderr",
     "output_type": "stream",
     "text": [
      "/var/folders/ks/zt1_dy0976s0n809crmcsppc0000gn/T/ipykernel_62539/2824629436.py:16: ResourceWarning: unclosed <socket.socket fd=80, family=30, type=1, proto=6, laddr=('::1', 51804, 0, 0), raddr=('::1', 8080, 0, 0)>\n",
      "  with dsm.batch.dynamic() as batch:\n",
      "ResourceWarning: Enable tracemalloc to get the object allocation traceback\n"
     ]
    }
   ],
   "source": [
    "try:\n",
    "    dsm = client.collections.create(\n",
    "        name=\"DSM\",\n",
    "        vector_config=Configure.Vectors.text2vec_transformers(\n",
    "            name=\"text_vector\",\n",
    "            source_properties=[\"text\"],\n",
    "        ),\n",
    "    )\n",
    "\n",
    "    content = None\n",
    "    with open(\"77ae23f919eb03b955ef70dd572a56b2.txt\", \"r\") as f:\n",
    "        content = f.read()\n",
    "\n",
    "    with dsm.batch.dynamic() as batch:\n",
    "        batch.add_object(\n",
    "            {\n",
    "                \"key\": \"77ae23f919eb03b955ef70dd572a56b2\",\n",
    "                \"text\": content\n",
    "            }\n",
    "        )\n",
    "except Exception as ex:\n",
    "    print(\"probably already exists\", ex)"
   ]
  },
  {
   "cell_type": "code",
   "execution_count": 51,
   "id": "c6ef5e79",
   "metadata": {},
   "outputs": [],
   "source": [
    "# resp = requests.get(\n",
    "#     \"https://raw.githubusercontent.com/weaviate-tutorials/quickstart/main/data/jeopardy_tiny.json\"\n",
    "# )\n",
    "# data = json.loads(resp.text)\n",
    "\n",
    "\n",
    "# with questions.batch.dynamic() as batch:\n",
    "#     for d in data:\n",
    "#         batch.add_object(\n",
    "#             {\n",
    "#                 \"answer\": d[\"Answer\"],\n",
    "#                 \"question\": d[\"Question\"],\n",
    "#                 \"category\": d[\"Category\"],\n",
    "#             }\n",
    "#         )\n",
    "#         if batch.number_errors > 10:\n",
    "#             print(\"Batch import stopped due to excessive errors.\")\n",
    "#             break\n",
    "\n",
    "# failed_objects = questions.batch.failed_objects\n",
    "# if failed_objects:\n",
    "#     print(f\"Number of failed imports: {len(failed_objects)}\")\n",
    "#     print(f\"First failed object: {failed_objects[0]}\")\n",
    "\n",
    "# response = questions.query.near_text(query=\"biology\", limit=2)\n",
    "\n",
    "# for obj in response.objects:\n",
    "#     print(json.dumps(obj.properties, indent=2))\n",
    "\n",
    "# client.close()"
   ]
  }
 ],
 "metadata": {
  "kernelspec": {
   "display_name": "spikes",
   "language": "python",
   "name": "python3"
  },
  "language_info": {
   "codemirror_mode": {
    "name": "ipython",
    "version": 3
   },
   "file_extension": ".py",
   "mimetype": "text/x-python",
   "name": "python",
   "nbconvert_exporter": "python",
   "pygments_lexer": "ipython3",
   "version": "3.11.13"
  }
 },
 "nbformat": 4,
 "nbformat_minor": 5
}
