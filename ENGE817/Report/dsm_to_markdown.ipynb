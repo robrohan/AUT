{
 "cells": [
  {
   "cell_type": "markdown",
   "id": "e5625539",
   "metadata": {},
   "source": [
    "# DSM PDF to Text\n",
    "\n",
    "In order to vectorize the data in the DSM, we're going to extra the data into markdown and trying to chunk it in a meaningful way."
   ]
  },
  {
   "cell_type": "markdown",
   "id": "0f0149a2",
   "metadata": {},
   "source": [
    "## Install Libraries\n"
   ]
  },
  {
   "cell_type": "code",
   "execution_count": 22,
   "id": "6c80bc52",
   "metadata": {},
   "outputs": [
    {
     "name": "stdout",
     "output_type": "stream",
     "text": [
      "Requirement already satisfied: numpy in /Users/robrohan/miniconda3/envs/spikes/lib/python3.11/site-packages (from -r requirements.txt (line 1)) (2.2.6)\n",
      "Requirement already satisfied: pandas in /Users/robrohan/miniconda3/envs/spikes/lib/python3.11/site-packages (from -r requirements.txt (line 2)) (2.3.1)\n",
      "Requirement already satisfied: seaborn in /Users/robrohan/miniconda3/envs/spikes/lib/python3.11/site-packages (from -r requirements.txt (line 3)) (0.13.2)\n",
      "Requirement already satisfied: matplotlib in /Users/robrohan/miniconda3/envs/spikes/lib/python3.11/site-packages (from -r requirements.txt (line 4)) (3.10.5)\n",
      "Requirement already satisfied: ipywidgets in /Users/robrohan/miniconda3/envs/spikes/lib/python3.11/site-packages (from -r requirements.txt (line 5)) (8.1.7)\n",
      "Requirement already satisfied: pymupdf4llm in /Users/robrohan/miniconda3/envs/spikes/lib/python3.11/site-packages (from -r requirements.txt (line 6)) (0.0.27)\n",
      "Requirement already satisfied: markdown in /Users/robrohan/miniconda3/envs/spikes/lib/python3.11/site-packages (from -r requirements.txt (line 7)) (3.8.2)\n",
      "Collecting markdown-query (from -r requirements.txt (line 8))\n",
      "  Downloading markdown_query-0.2.18-cp39-abi3-macosx_11_0_arm64.whl.metadata (3.0 kB)\n",
      "Requirement already satisfied: python-dateutil>=2.8.2 in /Users/robrohan/miniconda3/envs/spikes/lib/python3.11/site-packages (from pandas->-r requirements.txt (line 2)) (2.9.0.post0)\n",
      "Requirement already satisfied: pytz>=2020.1 in /Users/robrohan/miniconda3/envs/spikes/lib/python3.11/site-packages (from pandas->-r requirements.txt (line 2)) (2025.2)\n",
      "Requirement already satisfied: tzdata>=2022.7 in /Users/robrohan/miniconda3/envs/spikes/lib/python3.11/site-packages (from pandas->-r requirements.txt (line 2)) (2025.2)\n",
      "Requirement already satisfied: contourpy>=1.0.1 in /Users/robrohan/miniconda3/envs/spikes/lib/python3.11/site-packages (from matplotlib->-r requirements.txt (line 4)) (1.3.3)\n",
      "Requirement already satisfied: cycler>=0.10 in /Users/robrohan/miniconda3/envs/spikes/lib/python3.11/site-packages (from matplotlib->-r requirements.txt (line 4)) (0.12.1)\n",
      "Requirement already satisfied: fonttools>=4.22.0 in /Users/robrohan/miniconda3/envs/spikes/lib/python3.11/site-packages (from matplotlib->-r requirements.txt (line 4)) (4.59.1)\n",
      "Requirement already satisfied: kiwisolver>=1.3.1 in /Users/robrohan/miniconda3/envs/spikes/lib/python3.11/site-packages (from matplotlib->-r requirements.txt (line 4)) (1.4.9)\n",
      "Requirement already satisfied: packaging>=20.0 in /Users/robrohan/miniconda3/envs/spikes/lib/python3.11/site-packages (from matplotlib->-r requirements.txt (line 4)) (25.0)\n",
      "Requirement already satisfied: pillow>=8 in /Users/robrohan/miniconda3/envs/spikes/lib/python3.11/site-packages (from matplotlib->-r requirements.txt (line 4)) (11.3.0)\n",
      "Requirement already satisfied: pyparsing>=2.3.1 in /Users/robrohan/miniconda3/envs/spikes/lib/python3.11/site-packages (from matplotlib->-r requirements.txt (line 4)) (3.2.3)\n",
      "Requirement already satisfied: comm>=0.1.3 in /Users/robrohan/miniconda3/envs/spikes/lib/python3.11/site-packages (from ipywidgets->-r requirements.txt (line 5)) (0.2.3)\n",
      "Requirement already satisfied: ipython>=6.1.0 in /Users/robrohan/miniconda3/envs/spikes/lib/python3.11/site-packages (from ipywidgets->-r requirements.txt (line 5)) (9.4.0)\n",
      "Requirement already satisfied: traitlets>=4.3.1 in /Users/robrohan/miniconda3/envs/spikes/lib/python3.11/site-packages (from ipywidgets->-r requirements.txt (line 5)) (5.14.3)\n",
      "Requirement already satisfied: widgetsnbextension~=4.0.14 in /Users/robrohan/miniconda3/envs/spikes/lib/python3.11/site-packages (from ipywidgets->-r requirements.txt (line 5)) (4.0.14)\n",
      "Requirement already satisfied: jupyterlab_widgets~=3.0.15 in /Users/robrohan/miniconda3/envs/spikes/lib/python3.11/site-packages (from ipywidgets->-r requirements.txt (line 5)) (3.0.15)\n",
      "Requirement already satisfied: pymupdf>=1.26.3 in /Users/robrohan/miniconda3/envs/spikes/lib/python3.11/site-packages (from pymupdf4llm->-r requirements.txt (line 6)) (1.26.3)\n",
      "Requirement already satisfied: decorator in /Users/robrohan/miniconda3/envs/spikes/lib/python3.11/site-packages (from ipython>=6.1.0->ipywidgets->-r requirements.txt (line 5)) (5.2.1)\n",
      "Requirement already satisfied: ipython-pygments-lexers in /Users/robrohan/miniconda3/envs/spikes/lib/python3.11/site-packages (from ipython>=6.1.0->ipywidgets->-r requirements.txt (line 5)) (1.1.1)\n",
      "Requirement already satisfied: jedi>=0.16 in /Users/robrohan/miniconda3/envs/spikes/lib/python3.11/site-packages (from ipython>=6.1.0->ipywidgets->-r requirements.txt (line 5)) (0.19.2)\n",
      "Requirement already satisfied: matplotlib-inline in /Users/robrohan/miniconda3/envs/spikes/lib/python3.11/site-packages (from ipython>=6.1.0->ipywidgets->-r requirements.txt (line 5)) (0.1.7)\n",
      "Requirement already satisfied: pexpect>4.3 in /Users/robrohan/miniconda3/envs/spikes/lib/python3.11/site-packages (from ipython>=6.1.0->ipywidgets->-r requirements.txt (line 5)) (4.9.0)\n",
      "Requirement already satisfied: prompt_toolkit<3.1.0,>=3.0.41 in /Users/robrohan/miniconda3/envs/spikes/lib/python3.11/site-packages (from ipython>=6.1.0->ipywidgets->-r requirements.txt (line 5)) (3.0.51)\n",
      "Requirement already satisfied: pygments>=2.4.0 in /Users/robrohan/miniconda3/envs/spikes/lib/python3.11/site-packages (from ipython>=6.1.0->ipywidgets->-r requirements.txt (line 5)) (2.19.2)\n",
      "Requirement already satisfied: stack_data in /Users/robrohan/miniconda3/envs/spikes/lib/python3.11/site-packages (from ipython>=6.1.0->ipywidgets->-r requirements.txt (line 5)) (0.6.3)\n",
      "Requirement already satisfied: typing_extensions>=4.6 in /Users/robrohan/miniconda3/envs/spikes/lib/python3.11/site-packages (from ipython>=6.1.0->ipywidgets->-r requirements.txt (line 5)) (4.14.1)\n",
      "Requirement already satisfied: wcwidth in /Users/robrohan/miniconda3/envs/spikes/lib/python3.11/site-packages (from prompt_toolkit<3.1.0,>=3.0.41->ipython>=6.1.0->ipywidgets->-r requirements.txt (line 5)) (0.2.13)\n",
      "Requirement already satisfied: parso<0.9.0,>=0.8.4 in /Users/robrohan/miniconda3/envs/spikes/lib/python3.11/site-packages (from jedi>=0.16->ipython>=6.1.0->ipywidgets->-r requirements.txt (line 5)) (0.8.4)\n",
      "Requirement already satisfied: ptyprocess>=0.5 in /Users/robrohan/miniconda3/envs/spikes/lib/python3.11/site-packages (from pexpect>4.3->ipython>=6.1.0->ipywidgets->-r requirements.txt (line 5)) (0.7.0)\n",
      "Requirement already satisfied: six>=1.5 in /Users/robrohan/miniconda3/envs/spikes/lib/python3.11/site-packages (from python-dateutil>=2.8.2->pandas->-r requirements.txt (line 2)) (1.17.0)\n",
      "Requirement already satisfied: executing>=1.2.0 in /Users/robrohan/miniconda3/envs/spikes/lib/python3.11/site-packages (from stack_data->ipython>=6.1.0->ipywidgets->-r requirements.txt (line 5)) (2.2.0)\n",
      "Requirement already satisfied: asttokens>=2.1.0 in /Users/robrohan/miniconda3/envs/spikes/lib/python3.11/site-packages (from stack_data->ipython>=6.1.0->ipywidgets->-r requirements.txt (line 5)) (3.0.0)\n",
      "Requirement already satisfied: pure_eval in /Users/robrohan/miniconda3/envs/spikes/lib/python3.11/site-packages (from stack_data->ipython>=6.1.0->ipywidgets->-r requirements.txt (line 5)) (0.2.3)\n",
      "Downloading markdown_query-0.2.18-cp39-abi3-macosx_11_0_arm64.whl (1.0 MB)\n",
      "\u001b[2K   \u001b[90m━━━━━━━━━━━━━━━━━━━━━━━━━━━━━━━━━━━━━━━━\u001b[0m \u001b[32m1.0/1.0 MB\u001b[0m \u001b[31m21.6 MB/s\u001b[0m eta \u001b[36m0:00:00\u001b[0m\n",
      "\u001b[?25hInstalling collected packages: markdown-query\n",
      "Successfully installed markdown-query-0.2.18\n",
      "Note: you may need to restart the kernel to use updated packages.\n"
     ]
    }
   ],
   "source": [
    "%pip install -r requirements.txt"
   ]
  },
  {
   "cell_type": "markdown",
   "id": "6554a28c",
   "metadata": {},
   "source": [
    "## Extra DSM.pdf\n",
    "\n",
    "Extract the PDF text into plain text. It would be better to get a real database copy of this if it exists"
   ]
  },
  {
   "cell_type": "code",
   "execution_count": 23,
   "id": "4278412f",
   "metadata": {},
   "outputs": [],
   "source": [
    "if False:\n",
    "    import pymupdf4llm\n",
    "    plain_text = pymupdf4llm.to_markdown(\"./datasets/DSM-5-TR.pdf\")\n",
    "\n",
    "    with open(\"./datasets/dsm.md\", \"w\", encoding='utf-8') as f:\n",
    "        f.write(plain_text)\n"
   ]
  },
  {
   "cell_type": "code",
   "execution_count": null,
   "id": "7eeb6a84",
   "metadata": {},
   "outputs": [
    {
     "name": "stdout",
     "output_type": "stream",
     "text": [
      "3667715\n"
     ]
    },
    {
     "data": {
      "text/plain": [
       "['### FIFTH EDITION TEXT REVISION',\n",
       " '### **American Psychiatric Association** **DSM-5-TR**',\n",
       " '### **DSM-5**',\n",
       " '### FIFTH EDITION TEXT REVISION',\n",
       " '### **DSM-5-TR Chairs**',\n",
       " '### **DSM-5 Task Force and Work Groups**',\n",
       " '### **Preface to DSM-5-TR**',\n",
       " '### **Preface to DSM-5**',\n",
       " '### **DSM-5-TR Classification**',\n",
       " '### **DSM-5 Basics**',\n",
       " '### **Development of DSM-5-TR**',\n",
       " '### **Changes in DSM-5 Organizational** **Structure**',\n",
       " '### **Key Conceptual Frameworks and** **Approaches**',\n",
       " '### **Additional Resources and Future** **Directions**',\n",
       " '### **Diagnostic Criteria and Codes**',\n",
       " '### **Neurodevelopmental Disorders**',\n",
       " '### **Intellectual Developmental Disorders**',\n",
       " '### **Communication Disorders**',\n",
       " '### **Autism Spectrum Disorder**',\n",
       " '### **Attention-Deficit/Hyperactivity** **Disorder**',\n",
       " '### **Specific Learning Disorder**',\n",
       " '### **Motor Disorders**',\n",
       " '### **Other Neurodevelo mental Disorders** **p**',\n",
       " '### **Schizophrenia Spectrum and Other** **Psychotic Disorders**',\n",
       " '### **Catatonia**',\n",
       " '### **Bipolar and Related Disorders**',\n",
       " '### **Depressive Disorders**',\n",
       " '### **Anxiety Disorders**',\n",
       " '### **Obsessive-Compulsive and Related** **Disorders**',\n",
       " '### **Trauma- and Stressor-Related** **Disorders**',\n",
       " '### **Dissociative Disorders**',\n",
       " '### **Somatic Symptom and Related** **Disorders**',\n",
       " '### **Feeding and Eating Disorders**',\n",
       " '### **Elimination Disorders**',\n",
       " '### **Sleep-Wake Disorders**',\n",
       " '### **Breathing-Related Sleep Disorders**',\n",
       " '### **Parasomnias**',\n",
       " '### **Sexual Dysfunctions**',\n",
       " '### **Gender Dysphoria**',\n",
       " '### **Disruptive, Impulse-Control, and** **Conduct Disorders**',\n",
       " '### **Neurocognitive Disorders**',\n",
       " '### **Personality Disorders**',\n",
       " '### **Cluster A Personality Disorders**',\n",
       " '### **Cluster B Personality Disorders**',\n",
       " '### **Cluster C Personalit Disorders** **y**',\n",
       " '### **Other Personality Disorders**',\n",
       " '### **Paraphilic Disorders**',\n",
       " '### **Other Mental Disorders and** **Additional Codes**',\n",
       " '### **Additional Codes**',\n",
       " '### **Medication-Induced Movement** **Disorders and Other Adverse** **Effects of Medication**',\n",
       " '### **Other Conditions That May Be a** **Focus of Clinical Attention**',\n",
       " '### **Emerging Measures and Models**',\n",
       " '### **Culture and Psychiatric Diagnosis**',\n",
       " '### **Key Terms**',\n",
       " '### **Cultural Formulation**',\n",
       " '### **Cultural Concepts of Distress**',\n",
       " '### **Alternative DSM-5 Model for** **Personality Disorders**',\n",
       " '### **Conditions for Further Study**',\n",
       " '### **DSM-5 Advisors and Other** **Contributors**']"
      ]
     },
     "metadata": {},
     "output_type": "display_data"
    }
   ],
   "source": [
    "import pandas as pd\n",
    "import numpy as np\n",
    "import mq\n",
    "\n",
    "content = None\n",
    "with open('./datasets/dsm.md', 'r', encoding='utf-8') as file:\n",
    "    content = file.read()\n",
    "\n",
    "print(len(content))\n",
    "display(mq.run(\"select(.h3)\", content, None).values)\n",
    "display(mq.run(\"select(.h4)\", content, None).values)\n"
   ]
  }
 ],
 "metadata": {
  "kernelspec": {
   "display_name": "spikes",
   "language": "python",
   "name": "python3"
  },
  "language_info": {
   "codemirror_mode": {
    "name": "ipython",
    "version": 3
   },
   "file_extension": ".py",
   "mimetype": "text/x-python",
   "name": "python",
   "nbconvert_exporter": "python",
   "pygments_lexer": "ipython3",
   "version": "3.11.13"
  }
 },
 "nbformat": 4,
 "nbformat_minor": 5
}
