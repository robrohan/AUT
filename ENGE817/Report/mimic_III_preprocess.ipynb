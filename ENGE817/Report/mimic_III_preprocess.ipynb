{
 "cells": [
  {
   "cell_type": "markdown",
   "id": "1fd449db",
   "metadata": {},
   "source": [
    "DOI (version 1.4):\n",
    "https://doi.org/10.13026/C2HM2Q\n",
    "\n",
    "DOI (latest version):\n",
    "https://doi.org/10.13026/jbmn-w042\n",
    "\n",
    "Topics:\n",
    "critical care mimic electronic health records\n",
    "\n",
    "Project Website:\n",
    "https://mimic.physionet.org\n",
    "\n",
    "https://physionet.org/content/mimiciii-demo/1.4/"
   ]
  },
  {
   "cell_type": "code",
   "execution_count": null,
   "id": "f16b7659",
   "metadata": {},
   "outputs": [],
   "source": []
  }
 ],
 "metadata": {
  "kernelspec": {
   "display_name": "spikes",
   "language": "python",
   "name": "python3"
  },
  "language_info": {
   "codemirror_mode": {
    "name": "ipython",
    "version": 3
   },
   "file_extension": ".py",
   "mimetype": "text/x-python",
   "name": "python",
   "nbconvert_exporter": "python",
   "pygments_lexer": "ipython3",
   "version": "3.11.13"
  }
 },
 "nbformat": 4,
 "nbformat_minor": 5
}
