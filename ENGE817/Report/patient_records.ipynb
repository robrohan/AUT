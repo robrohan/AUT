{
 "cells": [
  {
   "cell_type": "markdown",
   "id": "ecc57fbe",
   "metadata": {},
   "source": [
    "https://synthetichealth.github.io/synthea-sample-data/\n",
    "synthea_sample_data_fhir_r4_nov2021.zip"
   ]
  },
  {
   "cell_type": "markdown",
   "id": "6d6d9269",
   "metadata": {},
   "source": [
    "To extract from FHIR\n",
    "```\n",
    "jq '.. | .div? | select(. != null)' Tracy345_Kassulke119_2987fe83-93bf-9d7d-1b8d-481913f54c5c.json\n",
    "```"
   ]
  }
 ],
 "metadata": {
  "language_info": {
   "name": "python"
  }
 },
 "nbformat": 4,
 "nbformat_minor": 5
}
