{
 "cells": [
  {
   "cell_type": "code",
   "execution_count": 1,
   "id": "df2c1cb3",
   "metadata": {},
   "outputs": [
    {
     "name": "stdout",
     "output_type": "stream",
     "text": [
      "Note: you may need to restart the kernel to use updated packages.\n"
     ]
    }
   ],
   "source": [
    "%pip install -qU langchain-text-splitters transformers pandas"
   ]
  },
  {
   "cell_type": "code",
   "execution_count": 2,
   "id": "9ba4f16e",
   "metadata": {},
   "outputs": [],
   "source": [
    "from transformers import AutoTokenizer\n",
    "from langchain_text_splitters import CharacterTextSplitter\n",
    "\n",
    "# Load a tokenizer for a BERT-like model\n",
    "tokenizer = AutoTokenizer.from_pretrained(\"bert-base-uncased\")\n",
    "def count_tokens(text):\n",
    "    return len(tokenizer.encode(text))\n",
    "\n",
    "text_splitter = CharacterTextSplitter(\n",
    "    separator=\"\\n\",\n",
    "    chunk_size=400,\n",
    "    chunk_overlap=50,\n",
    "    # length_function=len,\n",
    "    length_function=count_tokens,\n",
    "    # is_separator_regex=False,\n",
    ")"
   ]
  },
  {
   "cell_type": "code",
   "execution_count": 3,
   "id": "456840f8",
   "metadata": {},
   "outputs": [],
   "source": [
    "def chunk(text):\n",
    "    texts = text_splitter.create_documents([text])\n",
    "    chunks = []\n",
    "    for i,t in enumerate(texts):\n",
    "        # replace newlines with spaces this can help keep word boundires\n",
    "        chunks.append(t.page_content.replace(\"\\n\", \" \"))\n",
    "    return chunks"
   ]
  },
  {
   "cell_type": "code",
   "execution_count": 18,
   "id": "e6d0b26e",
   "metadata": {},
   "outputs": [],
   "source": [
    "import pandas as pd\n",
    "df = pd.read_csv('./datasets/text_classes.csv', delimiter='|')\n",
    "# 4353\n",
    "# display(df)"
   ]
  },
  {
   "cell_type": "code",
   "execution_count": 6,
   "id": "6a9457f7",
   "metadata": {},
   "outputs": [],
   "source": [
    "classes = [\n",
    "    \"Intellectual Developmental Disorders\",                        # 0\n",
    "    \"Communication Disorders\",\n",
    "    \"Autism Spectrum Disorder\",\n",
    "    \"Attention-Deficit/Hyperactivity Disorder\",\n",
    "    \"Specific Learning Disorder\",\n",
    "    \"Motor Disorders\",\n",
    "    \"Other Neurodevelo mental Disorders p\",\n",
    "    \"Schizophrenia Spectrum and Other Psychotic Disorders\",\n",
    "    \"Catatonia\",\n",
    "    \"Bipolar and Related Disorders\",\n",
    "    \"Depressive Disorders\",                                        # 10\n",
    "    \"Anxiety Disorders\",\n",
    "    \"Obsessive-Compulsive and Related Disorders\",\n",
    "    \"Trauma- and Stressor-Related Disorders\",\n",
    "    \"Dissociative Disorders\",\n",
    "    \"Somatic Symptom and Related Disorders\",\n",
    "    \"Feeding and Eating Disorders\",\n",
    "    \"Elimination Disorders\",\n",
    "    \"Sleep-Wake Disorders\",\n",
    "    \"Breathing-Related Sleep Disorders\",\n",
    "    \"Parasomnias\",                                                # 20\n",
    "    \"Sexual Dysfunctions\",\n",
    "    \"Gender Dysphoria\",\n",
    "    \"Disruptive, Impulse-Control, and Conduct Disorders\",\n",
    "    \"Neurocognitive Disorders\",\n",
    "    \"Personality Disorders\",\n",
    "    \"Cluster A Personality Disorders\",\n",
    "    \"Cluster B Personality Disorders\",\n",
    "    \"Cluster C Personalit Disorders y\",\n",
    "    \"Other Personality Disorders\",\n",
    "    \"Paraphilic Disorders\",                                       # 30\n",
    "    \"Other Mental Disorders and Additional Codes\",\n",
    "    \"Additional Codes\",\n",
    "    \"Medication-Induced Movement Disorders and Other Adverse Effects of Medication\",\n",
    "    \"Other Conditions That May Be a Focus of Clinical Attention\", # 34\n",
    "]"
   ]
  },
  {
   "cell_type": "code",
   "execution_count": 7,
   "id": "43f99cdb",
   "metadata": {},
   "outputs": [],
   "source": [
    "schema_dicts = [\n",
    "    { \"name\": \"Distilbert\", \"url\": \"http://t2v-transformers:8080\", \"schema\": \"DSMDistilbert\" },\n",
    "    { \"name\": \"Roberta\", \"url\": \"http://t2v-transformers-drobert:8080\", \"schema\": \"DSMRoberta\" },\n",
    "    { \"name\": \"Biobert\", \"url\": \"http://t2v-transformers-biobert:8080\", \"schema\": \"DSMBiobert\" },\n",
    "    { \"name\": \"Clinicalbert\", \"url\": \"http://t2v-transformers-clicbert:8080\", \"schema\": \"DSMClinicalbert\" },\n",
    "]\n",
    "schema_index = 0"
   ]
  },
  {
   "cell_type": "code",
   "execution_count": 8,
   "id": "f70362f3",
   "metadata": {},
   "outputs": [],
   "source": [
    "import weaviate\n",
    "import weaviate.classes as wvc\n",
    "\n",
    "def query_top_five(text, limit=1):\n",
    "    client = weaviate.connect_to_local()\n",
    "    res = None\n",
    "    try:\n",
    "        collection = client.collections.use(schema_dicts[schema_index][\"schema\"])\n",
    "\n",
    "        results = collection.query.near_text(\n",
    "            # Because near_text is a purely vector search, we get a\n",
    "            # distance and no score\n",
    "            return_metadata=wvc.query.MetadataQuery(\n",
    "                score=True, explain_score=True, distance=True, certainty=True\n",
    "            ),\n",
    "            query=text,\n",
    "            limit=limit\n",
    "        )\n",
    "        for r in results.objects:\n",
    "            if r.metadata.distance < 8:\n",
    "                res = [classes.index(r.properties['title']), r.metadata.distance]\n",
    "\n",
    "        return res\n",
    "    finally:\n",
    "        client.close()"
   ]
  },
  {
   "cell_type": "code",
   "execution_count": 16,
   "id": "6054757c",
   "metadata": {},
   "outputs": [
    {
     "name": "stdout",
     "output_type": "stream",
     "text": [
      "Chunks size: 701\n",
      "Scores size: 552\n"
     ]
    }
   ],
   "source": [
    "item = 4\n",
    "\n",
    "chart_chunks = chunk(df.iloc[item][\"chart_text\"])\n",
    "print(f\"Chunks size: {len(chart_chunks)}\")\n",
    "\n",
    "scores = []\n",
    "for c in chart_chunks:\n",
    "    d = query_top_five(c)\n",
    "    if d is not None:\n",
    "        scores.append(d)\n",
    "\n",
    "print(f\"Scores size: {len(scores)}\")"
   ]
  },
  {
   "cell_type": "code",
   "execution_count": 17,
   "id": "8d437978",
   "metadata": {},
   "outputs": [
    {
     "name": "stdout",
     "output_type": "stream",
     "text": [
      "09 6.637991837092808 Bipolar and Related Disorders\n",
      "10 5.920181900262833 Depressive Disorders\n",
      "11 7.039983749389648 Anxiety Disorders\n",
      "16 7.254909873008728 Feeding and Eating Disorders\n",
      "17 6.788992881774902 Elimination Disorders\n",
      "19 6.615343553048593 Breathing-Related Sleep Disorders\n",
      "21 6.951370716094971 Sexual Dysfunctions\n",
      "23 6.156726730042609 Disruptive, Impulse-Control, and Conduct Disorders\n",
      "24 6.5375165505842725 Neurocognitive Disorders\n",
      "34 5.394190788269043 Other Conditions That May Be a Focus of Clinical Attention\n",
      "--------------\n",
      "10 Depressive Disorders\n"
     ]
    }
   ],
   "source": [
    "def score_document(s):\n",
    "    cat = {}\n",
    "\n",
    "    for i, cls in enumerate(classes):\n",
    "        cat[i] = {\"count\":0, \"distance\":0}\n",
    "\n",
    "    for c, d in enumerate(s):\n",
    "        cat[d[0]][\"count\"] += 1\n",
    "        cat[d[0]][\"distance\"] += d[1]\n",
    "        cat[d[0]][\"avg\"] = cat[d[0]][\"distance\"] / cat[d[0]][\"count\"]\n",
    "\n",
    "    for i, cls in enumerate(classes):\n",
    "        if cat[i][\"count\"] > 0 and cat[i][\"avg\"] < 8:\n",
    "            print(f'{i:02} {cat[i][\"avg\"]} {classes[i]}')\n",
    "\n",
    "score_document(scores)\n",
    "print('--------------')\n",
    "print(f'{df.iloc[item][\"class_number\"]:02} {classes[df.iloc[item][\"class_number\"]]}')"
   ]
  }
 ],
 "metadata": {
  "kernelspec": {
   "display_name": "spikes",
   "language": "python",
   "name": "python3"
  },
  "language_info": {
   "codemirror_mode": {
    "name": "ipython",
    "version": 3
   },
   "file_extension": ".py",
   "mimetype": "text/x-python",
   "name": "python",
   "nbconvert_exporter": "python",
   "pygments_lexer": "ipython3",
   "version": "3.11.13"
  }
 },
 "nbformat": 4,
 "nbformat_minor": 5
}
