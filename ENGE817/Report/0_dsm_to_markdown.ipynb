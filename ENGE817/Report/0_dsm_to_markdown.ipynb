{
 "cells": [
  {
   "cell_type": "markdown",
   "id": "e5625539",
   "metadata": {},
   "source": [
    "# DSM PDF to Text\n",
    "\n",
    "In order to vectorize the data in the DSM, we're going to extra the data into markdown and trying to chunk it in a meaningful way."
   ]
  },
  {
   "cell_type": "markdown",
   "id": "0f0149a2",
   "metadata": {},
   "source": [
    "## Install Libraries\n"
   ]
  },
  {
   "cell_type": "code",
   "execution_count": 1,
   "id": "6c80bc52",
   "metadata": {},
   "outputs": [
    {
     "name": "stdout",
     "output_type": "stream",
     "text": [
      "Requirement already satisfied: numpy in /home/rob/miniconda3/envs/school/lib/python3.11/site-packages (from -r requirements.txt (line 1)) (2.3.3)\n",
      "Requirement already satisfied: pandas in /home/rob/miniconda3/envs/school/lib/python3.11/site-packages (from -r requirements.txt (line 2)) (2.3.2)\n",
      "Requirement already satisfied: seaborn in /home/rob/miniconda3/envs/school/lib/python3.11/site-packages (from -r requirements.txt (line 3)) (0.13.2)\n",
      "Requirement already satisfied: matplotlib in /home/rob/miniconda3/envs/school/lib/python3.11/site-packages (from -r requirements.txt (line 4)) (3.10.6)\n",
      "Requirement already satisfied: ipywidgets in /home/rob/miniconda3/envs/school/lib/python3.11/site-packages (from -r requirements.txt (line 5)) (8.1.7)\n",
      "Requirement already satisfied: pymupdf4llm in /home/rob/miniconda3/envs/school/lib/python3.11/site-packages (from -r requirements.txt (line 6)) (0.0.27)\n",
      "Requirement already satisfied: markdown in /home/rob/miniconda3/envs/school/lib/python3.11/site-packages (from -r requirements.txt (line 7)) (3.9)\n",
      "Requirement already satisfied: markdown-query in /home/rob/miniconda3/envs/school/lib/python3.11/site-packages (from -r requirements.txt (line 8)) (0.2.22)\n",
      "Requirement already satisfied: bs4 in /home/rob/miniconda3/envs/school/lib/python3.11/site-packages (from -r requirements.txt (line 9)) (0.0.2)\n",
      "Requirement already satisfied: markdownify in /home/rob/miniconda3/envs/school/lib/python3.11/site-packages (from -r requirements.txt (line 10)) (1.2.0)\n",
      "Requirement already satisfied: python-dateutil>=2.8.2 in /home/rob/miniconda3/envs/school/lib/python3.11/site-packages (from pandas->-r requirements.txt (line 2)) (2.9.0.post0)\n",
      "Requirement already satisfied: pytz>=2020.1 in /home/rob/miniconda3/envs/school/lib/python3.11/site-packages (from pandas->-r requirements.txt (line 2)) (2025.2)\n",
      "Requirement already satisfied: tzdata>=2022.7 in /home/rob/miniconda3/envs/school/lib/python3.11/site-packages (from pandas->-r requirements.txt (line 2)) (2025.2)\n",
      "Requirement already satisfied: contourpy>=1.0.1 in /home/rob/miniconda3/envs/school/lib/python3.11/site-packages (from matplotlib->-r requirements.txt (line 4)) (1.3.3)\n",
      "Requirement already satisfied: cycler>=0.10 in /home/rob/miniconda3/envs/school/lib/python3.11/site-packages (from matplotlib->-r requirements.txt (line 4)) (0.12.1)\n",
      "Requirement already satisfied: fonttools>=4.22.0 in /home/rob/miniconda3/envs/school/lib/python3.11/site-packages (from matplotlib->-r requirements.txt (line 4)) (4.60.0)\n",
      "Requirement already satisfied: kiwisolver>=1.3.1 in /home/rob/miniconda3/envs/school/lib/python3.11/site-packages (from matplotlib->-r requirements.txt (line 4)) (1.4.9)\n",
      "Requirement already satisfied: packaging>=20.0 in /home/rob/miniconda3/envs/school/lib/python3.11/site-packages (from matplotlib->-r requirements.txt (line 4)) (25.0)\n",
      "Requirement already satisfied: pillow>=8 in /home/rob/miniconda3/envs/school/lib/python3.11/site-packages (from matplotlib->-r requirements.txt (line 4)) (11.3.0)\n",
      "Requirement already satisfied: pyparsing>=2.3.1 in /home/rob/miniconda3/envs/school/lib/python3.11/site-packages (from matplotlib->-r requirements.txt (line 4)) (3.2.4)\n",
      "Requirement already satisfied: comm>=0.1.3 in /home/rob/miniconda3/envs/school/lib/python3.11/site-packages (from ipywidgets->-r requirements.txt (line 5)) (0.2.3)\n",
      "Requirement already satisfied: ipython>=6.1.0 in /home/rob/miniconda3/envs/school/lib/python3.11/site-packages (from ipywidgets->-r requirements.txt (line 5)) (9.5.0)\n",
      "Requirement already satisfied: traitlets>=4.3.1 in /home/rob/miniconda3/envs/school/lib/python3.11/site-packages (from ipywidgets->-r requirements.txt (line 5)) (5.14.3)\n",
      "Requirement already satisfied: widgetsnbextension~=4.0.14 in /home/rob/miniconda3/envs/school/lib/python3.11/site-packages (from ipywidgets->-r requirements.txt (line 5)) (4.0.14)\n",
      "Requirement already satisfied: jupyterlab_widgets~=3.0.15 in /home/rob/miniconda3/envs/school/lib/python3.11/site-packages (from ipywidgets->-r requirements.txt (line 5)) (3.0.15)\n",
      "Requirement already satisfied: pymupdf>=1.26.3 in /home/rob/miniconda3/envs/school/lib/python3.11/site-packages (from pymupdf4llm->-r requirements.txt (line 6)) (1.26.4)\n",
      "Requirement already satisfied: beautifulsoup4 in /home/rob/miniconda3/envs/school/lib/python3.11/site-packages (from bs4->-r requirements.txt (line 9)) (4.13.5)\n",
      "Requirement already satisfied: six<2,>=1.15 in /home/rob/miniconda3/envs/school/lib/python3.11/site-packages (from markdownify->-r requirements.txt (line 10)) (1.17.0)\n",
      "Requirement already satisfied: soupsieve>1.2 in /home/rob/miniconda3/envs/school/lib/python3.11/site-packages (from beautifulsoup4->bs4->-r requirements.txt (line 9)) (2.8)\n",
      "Requirement already satisfied: typing-extensions>=4.0.0 in /home/rob/miniconda3/envs/school/lib/python3.11/site-packages (from beautifulsoup4->bs4->-r requirements.txt (line 9)) (4.15.0)\n",
      "Requirement already satisfied: decorator in /home/rob/miniconda3/envs/school/lib/python3.11/site-packages (from ipython>=6.1.0->ipywidgets->-r requirements.txt (line 5)) (5.2.1)\n",
      "Requirement already satisfied: ipython-pygments-lexers in /home/rob/miniconda3/envs/school/lib/python3.11/site-packages (from ipython>=6.1.0->ipywidgets->-r requirements.txt (line 5)) (1.1.1)\n",
      "Requirement already satisfied: jedi>=0.16 in /home/rob/miniconda3/envs/school/lib/python3.11/site-packages (from ipython>=6.1.0->ipywidgets->-r requirements.txt (line 5)) (0.19.2)\n",
      "Requirement already satisfied: matplotlib-inline in /home/rob/miniconda3/envs/school/lib/python3.11/site-packages (from ipython>=6.1.0->ipywidgets->-r requirements.txt (line 5)) (0.1.7)\n",
      "Requirement already satisfied: pexpect>4.3 in /home/rob/miniconda3/envs/school/lib/python3.11/site-packages (from ipython>=6.1.0->ipywidgets->-r requirements.txt (line 5)) (4.9.0)\n",
      "Requirement already satisfied: prompt_toolkit<3.1.0,>=3.0.41 in /home/rob/miniconda3/envs/school/lib/python3.11/site-packages (from ipython>=6.1.0->ipywidgets->-r requirements.txt (line 5)) (3.0.52)\n",
      "Requirement already satisfied: pygments>=2.4.0 in /home/rob/miniconda3/envs/school/lib/python3.11/site-packages (from ipython>=6.1.0->ipywidgets->-r requirements.txt (line 5)) (2.19.2)\n",
      "Requirement already satisfied: stack_data in /home/rob/miniconda3/envs/school/lib/python3.11/site-packages (from ipython>=6.1.0->ipywidgets->-r requirements.txt (line 5)) (0.6.3)\n",
      "Requirement already satisfied: wcwidth in /home/rob/miniconda3/envs/school/lib/python3.11/site-packages (from prompt_toolkit<3.1.0,>=3.0.41->ipython>=6.1.0->ipywidgets->-r requirements.txt (line 5)) (0.2.13)\n",
      "Requirement already satisfied: parso<0.9.0,>=0.8.4 in /home/rob/miniconda3/envs/school/lib/python3.11/site-packages (from jedi>=0.16->ipython>=6.1.0->ipywidgets->-r requirements.txt (line 5)) (0.8.5)\n",
      "Requirement already satisfied: ptyprocess>=0.5 in /home/rob/miniconda3/envs/school/lib/python3.11/site-packages (from pexpect>4.3->ipython>=6.1.0->ipywidgets->-r requirements.txt (line 5)) (0.7.0)\n",
      "Requirement already satisfied: executing>=1.2.0 in /home/rob/miniconda3/envs/school/lib/python3.11/site-packages (from stack_data->ipython>=6.1.0->ipywidgets->-r requirements.txt (line 5)) (2.2.1)\n",
      "Requirement already satisfied: asttokens>=2.1.0 in /home/rob/miniconda3/envs/school/lib/python3.11/site-packages (from stack_data->ipython>=6.1.0->ipywidgets->-r requirements.txt (line 5)) (3.0.0)\n",
      "Requirement already satisfied: pure_eval in /home/rob/miniconda3/envs/school/lib/python3.11/site-packages (from stack_data->ipython>=6.1.0->ipywidgets->-r requirements.txt (line 5)) (0.2.3)\n",
      "Note: you may need to restart the kernel to use updated packages.\n"
     ]
    }
   ],
   "source": [
    "%pip install -r requirements.txt"
   ]
  },
  {
   "cell_type": "markdown",
   "id": "6554a28c",
   "metadata": {},
   "source": [
    "## Extra DSM.pdf\n",
    "\n",
    "Extract the PDF text into plain text. It would be better to get a real database copy of this if it exists"
   ]
  },
  {
   "cell_type": "code",
   "execution_count": 2,
   "id": "4278412f",
   "metadata": {},
   "outputs": [],
   "source": [
    "if False:\n",
    "    import pymupdf4llm\n",
    "    plain_text = pymupdf4llm.to_markdown(\"./datasets/DSM-5-TR.pdf\")\n",
    "\n",
    "    with open(\"./datasets/dsm.md\", \"w\", encoding='utf-8') as f:\n",
    "        f.write(plain_text)\n"
   ]
  },
  {
   "cell_type": "code",
   "execution_count": 3,
   "id": "7ea4e9b6",
   "metadata": {},
   "outputs": [],
   "source": [
    "content = None\n",
    "with open('./datasets/dsm.md', 'r', encoding='utf-8') as file:\n",
    "    content = file.read()"
   ]
  },
  {
   "cell_type": "markdown",
   "id": "ee0c0967",
   "metadata": {},
   "source": [
    "## Markdown to HTML\n",
    "Doing this gives us a better ablity to \"query\" the document"
   ]
  },
  {
   "cell_type": "code",
   "execution_count": 4,
   "id": "87c5bb02",
   "metadata": {},
   "outputs": [],
   "source": [
    "from markdown import markdown\n",
    "from bs4 import BeautifulSoup\n",
    "import hashlib\n",
    "\n",
    "# Convert markdown to html so we can query it\n",
    "html = markdown(content)\n",
    "\n",
    "# hash_object = hashlib.md5(b'Hello World')\n",
    "# print(hash_object.hexdigest())\n",
    "\n",
    "def extract_section(html, level: str, section_title: str):\n",
    "    soup = BeautifulSoup(html, \"html.parser\")\n",
    "    for h3 in soup.find_all(level):\n",
    "        if h3.get_text().strip() == section_title:\n",
    "            section = []\n",
    "            next_node = h3.next_sibling\n",
    "            while next_node and next_node.name not in [level]:\n",
    "                section.append(str(next_node))\n",
    "                next_node = next_node.next_sibling\n",
    "            return \"\".join(section).strip()\n",
    "    return None\n",
    "\n",
    "def extract(html, level: str) -> dict:\n",
    "    soup = BeautifulSoup(html, \"html.parser\")\n",
    "    sections = []\n",
    "    for h3 in soup.find_all(level):\n",
    "        section = []\n",
    "        s = {}\n",
    "        s[\"title\"] = h3.get_text()\n",
    "        s[\"id\"] = hashlib.md5(h3.get_text().encode('utf-8')).hexdigest()\n",
    "        next_node = h3.next_sibling\n",
    "        while next_node and next_node.name not in [level]:\n",
    "            section.append(str(next_node))\n",
    "            next_node = next_node.next_sibling\n",
    "        s[\"section\"] = \"\".join(section).strip()\n",
    "        sections.append(s)\n",
    "    return sections\n",
    "\n",
    "## Extract the overall section, this will have subsections we may be\n",
    "## intrested in\n",
    "\n",
    "# section_html = extract_disorder_section(html, \"h3\", \"Autism Spectrum Disorder\")\n",
    "# section_html = extract_disorder_section(html, \"h3\", \"Anxiety Disorders\")\n",
    "# section_html = extract_disorder_section(html, \"h3\", \"Bipolar and Related Disorders\")\n",
    "# section_html = extract_section(html, \"h3\", \"Depressive Disorders\")\n",
    "# sub_section_html = extract_section(section_html, \"h4\", \"Unspecified Depressive Disorder\")\n",
    "# section_html = extract_disorder_section(html, \"h3\", \"Schizophrenia Spectrum and Other Psychotic Disorders\")\n",
    "\n",
    "# print(BeautifulSoup(section_html).get_text())\n",
    "# print(\".................\")\n",
    "# print(BeautifulSoup(sub_section_html).get_text())\n",
    "#  display(BeautifulSoup(section_html).find_all(\"h4\"))"
   ]
  },
  {
   "cell_type": "code",
   "execution_count": 5,
   "id": "790e9e14",
   "metadata": {},
   "outputs": [],
   "source": [
    "# import nltk\n",
    "# from nltk.corpus import stopwords\n",
    "# from nltk.tokenize import word_tokenize\n",
    "# nltk.download('stopwords')\n",
    "# nltk.download('punkt')\n",
    "# stop_words = set(stopwords.words('english'))\n",
    "# tokens = word_tokenize(text.lower())\n",
    "# filtered_tokens = [word for word in tokens if word not in stop_words]\n",
    "# print(\"Filtered:\", filtered_tokens)"
   ]
  },
  {
   "cell_type": "code",
   "execution_count": 7,
   "id": "935ad818",
   "metadata": {},
   "outputs": [
    {
     "name": "stdout",
     "output_type": "stream",
     "text": [
      "Intellectual Developmental Disorders :: 28318\n",
      "Communication Disorders :: 33350\n",
      "Autism Spectrum Disorder :: 45567\n",
      "Attention-Deficit/Hyperactivity Disorder :: 30609\n",
      "Specific Learning Disorder :: 36862\n",
      "Motor Disorders :: 48192\n",
      "Other Neurodevelo mental Disorders p :: 1905\n",
      "Schizophrenia Spectrum and Other Psychotic Disorders :: 123638\n",
      "Catatonia :: 13071\n",
      "Bipolar and Related Disorders :: 135175\n",
      "Depressive Disorders :: 139932\n",
      "Anxiety Disorders :: 177603\n",
      "Obsessive-Compulsive and Related Disorders :: 118533\n",
      "Trauma- and Stressor-Related Disorders :: 124770\n",
      "Dissociative Disorders :: 76433\n",
      "Somatic Symptom and Related Disorders :: 79040\n",
      "Feeding and Eating Disorders :: 96282\n",
      "Elimination Disorders :: 22951\n",
      "Sleep-Wake Disorders :: 83929\n",
      "Breathing-Related Sleep Disorders :: 77701\n",
      "Parasomnias :: 89363\n",
      "Sexual Dysfunctions :: 116011\n",
      "Gender Dysphoria :: 38383\n",
      "Disruptive, Impulse-Control, and Conduct Disorders :: 491096\n",
      "Neurocognitive Disorders :: 222091\n",
      "Personality Disorders :: 17569\n",
      "Cluster A Personality Disorders :: 38813\n",
      "Cluster B Personality Disorders :: 62882\n",
      "Cluster C Personalit Disorders y :: 41499\n",
      "Other Personality Disorders :: 9663\n",
      "Paraphilic Disorders :: 81571\n",
      "Other Mental Disorders and Additional Codes :: 6957\n",
      "Additional Codes :: 179\n",
      "Medication-Induced Movement Disorders and Other Adverse Effects of Medication :: 49225\n",
      "Other Conditions That May Be a Focus of Clinical Attention :: 45892\n"
     ]
    }
   ],
   "source": [
    "import re\n",
    "import json\n",
    "from markdownify import markdownify as md\n",
    "\n",
    "section_ii = extract_section(html, \"h1\", \"SECTION II\")\n",
    "disorders = extract(section_ii, \"h3\")\n",
    "\n",
    "for i,d in enumerate(disorders):\n",
    "    if i <= 1:\n",
    "        continue\n",
    "    d[\"section\"] = re.sub(r'<p>[0-9]+<\\/p>', r'', d[\"section\"])\n",
    "    d[\"section\"] = d[\"section\"].replace(\"“\",\"\\\"\")\n",
    "    d[\"section\"] = d[\"section\"].replace(\"”\",\"\\\"\")\n",
    "    d[\"section\"] = d[\"section\"].replace(\"’\",\"'\")\n",
    "    d[\"section\"] = d[\"section\"].replace(\"–\",\"-\")\n",
    "    d[\"section\"] = md(d[\"section\"])\n",
    "\n",
    "    with open(f'./sections/{d[\"id\"]}.json', 'w', encoding='utf-8') as file:\n",
    "        print(f'{d[\"title\"]} :: {len(d[\"section\"])}')\n",
    "        file.write(json.dumps(d))\n",
    "\n",
    "# with open('./datasets/section_ii.html', 'w', encoding='utf-8') as file:\n",
    "#     section_ii = re.sub(r'<p>[0-9]+<\\/p>', r'', section_ii)\n",
    "#     section_ii = section_ii.replace(\"“\",\"\\\"\")\n",
    "#     section_ii = section_ii.replace(\"”\",\"\\\"\")\n",
    "#     section_ii = section_ii.replace(\"’\",\"'\")\n",
    "#     section_ii = section_ii.replace(\"–\",\"-\")\n",
    "#     file.write(section_ii)\n",
    "\n",
    "# print(section_ii)\n",
    "# section_html = extract_section(section_ii, \"h4\", \"Major Depressive Disorder\")\n",
    "# depressive_id = hashlib.md5(b'Major Depressive Disorder')\n",
    "# print(section_html)\n",
    "\n",
    "# sub_section_html = extract_section(section_html, \"h6\", \"Diagnostic Criteria\")\n",
    "# Associated Features\n",
    "# Comorbidity\n",
    "\n",
    "# text = BeautifulSoup(sub_section_html).get_text().replace(\"\\n\", \" \")\n",
    "# print(depressive_id.hexdigest())\n",
    "# print(text)\n",
    "\n",
    "# with open(f\"{depressive_id.hexdigest()}.txt\", \"w\") as f:\n",
    "#     f.write(text)"
   ]
  },
  {
   "cell_type": "markdown",
   "id": "78a7b0f0",
   "metadata": {},
   "source": [
    "\"Diagnostic Criteria\""
   ]
  },
  {
   "cell_type": "code",
   "execution_count": 8,
   "id": "7eeb6a84",
   "metadata": {},
   "outputs": [
    {
     "name": "stdout",
     "output_type": "stream",
     "text": [
      "3667715\n"
     ]
    },
    {
     "data": {
      "text/plain": [
       "['# DIAGNOSTIC AND STATISTICAL MANUAL OF MENTAL DISORDERS',\n",
       " '# DSM-5-TR™',\n",
       " '# DIAGNOSTIC AND STATISTICAL MANUAL OF MENTAL DISORDERS',\n",
       " '# DSM-5-TR™',\n",
       " '# **SECTION I**',\n",
       " '# **SECTION II**',\n",
       " '# **SECTION III**',\n",
       " '# **APPENDIX**']"
      ]
     },
     "metadata": {},
     "output_type": "display_data"
    }
   ],
   "source": [
    "import pandas as pd\n",
    "import numpy as np\n",
    "import mq\n",
    "print(len(content))\n",
    "display(mq.run('.h1', content, None).values)"
   ]
  }
 ],
 "metadata": {
  "kernelspec": {
   "display_name": "school",
   "language": "python",
   "name": "python3"
  },
  "language_info": {
   "codemirror_mode": {
    "name": "ipython",
    "version": 3
   },
   "file_extension": ".py",
   "mimetype": "text/x-python",
   "name": "python",
   "nbconvert_exporter": "python",
   "pygments_lexer": "ipython3",
   "version": "3.11.0"
  }
 },
 "nbformat": 4,
 "nbformat_minor": 5
}
