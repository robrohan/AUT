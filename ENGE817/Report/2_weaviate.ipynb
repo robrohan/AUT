{
 "cells": [
  {
   "cell_type": "markdown",
   "id": "5044ab30",
   "metadata": {},
   "source": [
    "## Install Libraries"
   ]
  },
  {
   "cell_type": "code",
   "execution_count": 25,
   "id": "6f1a85ea",
   "metadata": {},
   "outputs": [
    {
     "name": "stdout",
     "output_type": "stream",
     "text": [
      "Requirement already satisfied: weaviate-client in /Users/robrohan/miniconda3/envs/spikes/lib/python3.11/site-packages (4.16.9)\n",
      "Requirement already satisfied: plotly in /Users/robrohan/miniconda3/envs/spikes/lib/python3.11/site-packages (6.3.0)\n",
      "Requirement already satisfied: numpy in /Users/robrohan/miniconda3/envs/spikes/lib/python3.11/site-packages (2.3.2)\n",
      "Requirement already satisfied: httpx<0.29.0,>=0.26.0 in /Users/robrohan/miniconda3/envs/spikes/lib/python3.11/site-packages (from weaviate-client) (0.28.1)\n",
      "Requirement already satisfied: validators<1.0.0,>=0.34.0 in /Users/robrohan/miniconda3/envs/spikes/lib/python3.11/site-packages (from weaviate-client) (0.35.0)\n",
      "Requirement already satisfied: authlib<2.0.0,>=1.2.1 in /Users/robrohan/miniconda3/envs/spikes/lib/python3.11/site-packages (from weaviate-client) (1.6.2)\n",
      "Requirement already satisfied: pydantic<3.0.0,>=2.8.0 in /Users/robrohan/miniconda3/envs/spikes/lib/python3.11/site-packages (from weaviate-client) (2.11.7)\n",
      "Requirement already satisfied: grpcio<1.80.0,>=1.59.5 in /Users/robrohan/miniconda3/envs/spikes/lib/python3.11/site-packages (from weaviate-client) (1.74.0)\n",
      "Requirement already satisfied: protobuf<7.0.0,>=4.21.6 in /Users/robrohan/miniconda3/envs/spikes/lib/python3.11/site-packages (from weaviate-client) (6.32.0)\n",
      "Requirement already satisfied: deprecation<3.0.0,>=2.1.0 in /Users/robrohan/miniconda3/envs/spikes/lib/python3.11/site-packages (from weaviate-client) (2.1.0)\n",
      "Requirement already satisfied: cryptography in /Users/robrohan/miniconda3/envs/spikes/lib/python3.11/site-packages (from authlib<2.0.0,>=1.2.1->weaviate-client) (45.0.6)\n",
      "Requirement already satisfied: packaging in /Users/robrohan/miniconda3/envs/spikes/lib/python3.11/site-packages (from deprecation<3.0.0,>=2.1.0->weaviate-client) (25.0)\n",
      "Requirement already satisfied: anyio in /Users/robrohan/miniconda3/envs/spikes/lib/python3.11/site-packages (from httpx<0.29.0,>=0.26.0->weaviate-client) (4.10.0)\n",
      "Requirement already satisfied: certifi in /Users/robrohan/miniconda3/envs/spikes/lib/python3.11/site-packages (from httpx<0.29.0,>=0.26.0->weaviate-client) (2025.8.3)\n",
      "Requirement already satisfied: httpcore==1.* in /Users/robrohan/miniconda3/envs/spikes/lib/python3.11/site-packages (from httpx<0.29.0,>=0.26.0->weaviate-client) (1.0.9)\n",
      "Requirement already satisfied: idna in /Users/robrohan/miniconda3/envs/spikes/lib/python3.11/site-packages (from httpx<0.29.0,>=0.26.0->weaviate-client) (3.10)\n",
      "Requirement already satisfied: h11>=0.16 in /Users/robrohan/miniconda3/envs/spikes/lib/python3.11/site-packages (from httpcore==1.*->httpx<0.29.0,>=0.26.0->weaviate-client) (0.16.0)\n",
      "Requirement already satisfied: annotated-types>=0.6.0 in /Users/robrohan/miniconda3/envs/spikes/lib/python3.11/site-packages (from pydantic<3.0.0,>=2.8.0->weaviate-client) (0.7.0)\n",
      "Requirement already satisfied: pydantic-core==2.33.2 in /Users/robrohan/miniconda3/envs/spikes/lib/python3.11/site-packages (from pydantic<3.0.0,>=2.8.0->weaviate-client) (2.33.2)\n",
      "Requirement already satisfied: typing-extensions>=4.12.2 in /Users/robrohan/miniconda3/envs/spikes/lib/python3.11/site-packages (from pydantic<3.0.0,>=2.8.0->weaviate-client) (4.14.1)\n",
      "Requirement already satisfied: typing-inspection>=0.4.0 in /Users/robrohan/miniconda3/envs/spikes/lib/python3.11/site-packages (from pydantic<3.0.0,>=2.8.0->weaviate-client) (0.4.1)\n",
      "Requirement already satisfied: narwhals>=1.15.1 in /Users/robrohan/miniconda3/envs/spikes/lib/python3.11/site-packages (from plotly) (2.2.0)\n",
      "Requirement already satisfied: sniffio>=1.1 in /Users/robrohan/miniconda3/envs/spikes/lib/python3.11/site-packages (from anyio->httpx<0.29.0,>=0.26.0->weaviate-client) (1.3.1)\n",
      "Requirement already satisfied: cffi>=1.14 in /Users/robrohan/miniconda3/envs/spikes/lib/python3.11/site-packages (from cryptography->authlib<2.0.0,>=1.2.1->weaviate-client) (1.17.1)\n",
      "Requirement already satisfied: pycparser in /Users/robrohan/miniconda3/envs/spikes/lib/python3.11/site-packages (from cffi>=1.14->cryptography->authlib<2.0.0,>=1.2.1->weaviate-client) (2.22)\n",
      "Note: you may need to restart the kernel to use updated packages.\n",
      "Requirement already satisfied: nbformat in /Users/robrohan/miniconda3/envs/spikes/lib/python3.11/site-packages (5.10.4)\n",
      "Requirement already satisfied: kaleido in /Users/robrohan/miniconda3/envs/spikes/lib/python3.11/site-packages (1.0.0)\n",
      "Requirement already satisfied: fastjsonschema>=2.15 in /Users/robrohan/miniconda3/envs/spikes/lib/python3.11/site-packages (from nbformat) (2.21.2)\n",
      "Requirement already satisfied: jsonschema>=2.6 in /Users/robrohan/miniconda3/envs/spikes/lib/python3.11/site-packages (from nbformat) (4.25.1)\n",
      "Requirement already satisfied: jupyter-core!=5.0.*,>=4.12 in /Users/robrohan/miniconda3/envs/spikes/lib/python3.11/site-packages (from nbformat) (5.8.1)\n",
      "Requirement already satisfied: traitlets>=5.1 in /Users/robrohan/miniconda3/envs/spikes/lib/python3.11/site-packages (from nbformat) (5.14.3)\n",
      "Requirement already satisfied: choreographer>=1.0.5 in /Users/robrohan/miniconda3/envs/spikes/lib/python3.11/site-packages (from kaleido) (1.0.10)\n",
      "Requirement already satisfied: logistro>=1.0.8 in /Users/robrohan/miniconda3/envs/spikes/lib/python3.11/site-packages (from kaleido) (1.1.0)\n",
      "Requirement already satisfied: orjson>=3.10.15 in /Users/robrohan/miniconda3/envs/spikes/lib/python3.11/site-packages (from kaleido) (3.11.2)\n",
      "Requirement already satisfied: packaging in /Users/robrohan/miniconda3/envs/spikes/lib/python3.11/site-packages (from kaleido) (25.0)\n",
      "Requirement already satisfied: simplejson>=3.19.3 in /Users/robrohan/miniconda3/envs/spikes/lib/python3.11/site-packages (from choreographer>=1.0.5->kaleido) (3.20.1)\n",
      "Requirement already satisfied: attrs>=22.2.0 in /Users/robrohan/miniconda3/envs/spikes/lib/python3.11/site-packages (from jsonschema>=2.6->nbformat) (25.3.0)\n",
      "Requirement already satisfied: jsonschema-specifications>=2023.03.6 in /Users/robrohan/miniconda3/envs/spikes/lib/python3.11/site-packages (from jsonschema>=2.6->nbformat) (2025.4.1)\n",
      "Requirement already satisfied: referencing>=0.28.4 in /Users/robrohan/miniconda3/envs/spikes/lib/python3.11/site-packages (from jsonschema>=2.6->nbformat) (0.36.2)\n",
      "Requirement already satisfied: rpds-py>=0.7.1 in /Users/robrohan/miniconda3/envs/spikes/lib/python3.11/site-packages (from jsonschema>=2.6->nbformat) (0.27.1)\n",
      "Requirement already satisfied: platformdirs>=2.5 in /Users/robrohan/miniconda3/envs/spikes/lib/python3.11/site-packages (from jupyter-core!=5.0.*,>=4.12->nbformat) (4.3.8)\n",
      "Requirement already satisfied: typing-extensions>=4.4.0 in /Users/robrohan/miniconda3/envs/spikes/lib/python3.11/site-packages (from referencing>=0.28.4->jsonschema>=2.6->nbformat) (4.14.1)\n",
      "Note: you may need to restart the kernel to use updated packages.\n"
     ]
    }
   ],
   "source": [
    "%pip install -U weaviate-client plotly numpy\n",
    "%pip install --upgrade nbformat kaleido"
   ]
  },
  {
   "cell_type": "markdown",
   "id": "c90bb679",
   "metadata": {},
   "source": [
    "## Imports"
   ]
  },
  {
   "cell_type": "code",
   "execution_count": 26,
   "id": "99dae71c",
   "metadata": {},
   "outputs": [],
   "source": [
    "import os\n",
    "import requests, json\n",
    "import weaviate\n",
    "import numpy as np\n",
    "from weaviate.classes.config import Configure, VectorDistances\n",
    "import weaviate.classes as wvc\n",
    "\n",
    "from sklearn.decomposition import PCA\n",
    "import matplotlib.pyplot as plt\n",
    "\n",
    "import plotly.express as px\n"
   ]
  },
  {
   "cell_type": "markdown",
   "id": "4c658fac",
   "metadata": {},
   "source": [
    "## Create Schema and Populate DSM Data"
   ]
  },
  {
   "cell_type": "code",
   "execution_count": 27,
   "id": "9050dff2",
   "metadata": {},
   "outputs": [],
   "source": [
    "client = weaviate.connect_to_local()\n",
    "try:\n",
    "    dsm = client.collections.create(\n",
    "        name=\"DSM\",\n",
    "        vector_config=Configure.Vectors.text2vec_transformers(\n",
    "            name=\"text_vector\",\n",
    "            source_properties=[\"text\"],\n",
    "            vector_index_config=Configure.VectorIndex.hnsw(\n",
    "                # https://docs.weaviate.io/weaviate/config-refs/distances\n",
    "                distance_metric=VectorDistances.COSINE\n",
    "            ),\n",
    "        ),\n",
    "    )\n",
    "\n",
    "    directory = \"./chunks\"\n",
    "    for file in os.listdir(directory):\n",
    "        filename = os.fsdecode(file)\n",
    "        if filename.endswith(\".json\"):\n",
    "            with open(os.path.join(directory, filename)) as f:\n",
    "                jsn = json.loads(f.read())\n",
    "\n",
    "                cks = jsn[\"chunks\"]\n",
    "                for i,c in enumerate(cks):\n",
    "                    with dsm.batch.dynamic() as batch:\n",
    "                        batch.add_object(\n",
    "                            {\n",
    "                                \"key\": f\"{jsn['id']}::{i}\",\n",
    "                                \"title\": jsn[\"title\"],\n",
    "                                \"text\": c,\n",
    "                            }\n",
    "                        )\n",
    "except Exception as ex:\n",
    "    print(\"probably already exists\", ex)\n",
    "finally:\n",
    "    client.close()"
   ]
  },
  {
   "cell_type": "markdown",
   "id": "b5e76f03",
   "metadata": {},
   "source": [
    "## Tests Query"
   ]
  },
  {
   "cell_type": "code",
   "execution_count": null,
   "id": "513eeb39",
   "metadata": {},
   "outputs": [
    {
     "name": "stdout",
     "output_type": "stream",
     "text": [
      "distance: 0.05510437488555908, certainty: 0.9724478125572205, score: 94.5%\n",
      "Trauma- and Stressor-Related Disorders\n",
      "In children, distress may be expressed in play and behavior, developmental regressions, and anxious or protest behavior at times of separation and reunion. Young children may exper\n",
      "----------------------------\n",
      "distance: 0.05539822578430176, certainty: 0.9723008871078491, score: 94.5%\n",
      "Cluster C Personalit Disorders y\n",
      "Individuals with obsessive-compulsive personality disorder display excessive devotion to work and productivity to the exclusion or devaluing of leisure activities and friendships (\n",
      "----------------------------\n",
      "distance: 0.05620396137237549, certainty: 0.9718980193138123, score: 94.4%\n",
      "Neurocognitive Disorders\n",
      "###### **Associated Features**  Delirium is often associated with a disturbance in the sleep-wake cycle. This disturbance can include daytime sleepiness, nighttime agitation, diffi\n",
      "----------------------------\n",
      "distance: 0.05655503273010254, certainty: 0.9717224836349487, score: 94.3%\n",
      "Cluster C Personalit Disorders y\n",
      "spending a few moments trying their best to recreate it from memory and proceeding to accomplish the tasks. They dismiss the fact that other people tend to become very annoyed at t\n",
      "----------------------------\n"
     ]
    }
   ],
   "source": [
    "# client = weaviate.connect_to_weaviate_cloud(\n",
    "#     cluster_url=weaviate_url,                                    # Replace with your Weaviate Cloud URL\n",
    "#     # auth_credentials=wvc.init.Auth.api_key(weaviate_api_key),    # Replace with your Weaviate Cloud key\n",
    "#     # headers={\"X-OpenAI-Api-Key\": openai_api_key}            # Replace with appropriate header key/value pair for the required API\n",
    "# )\n",
    "client = weaviate.connect_to_local()\n",
    "try:\n",
    "    collection = client.collections.use(\"DSM\")\n",
    "\n",
    "    # results = collection.query.hybrid(\n",
    "    #     # https://deepwiki.com/weaviate/weaviate-python-client/5.2-keyword-and-hybrid-search\n",
    "    #     return_metadata=wvc.query.MetadataQuery(\n",
    "    #         score=True,\n",
    "    #         explain_score=True,\n",
    "    #         distance=True,\n",
    "    #         certainty=True\n",
    "    #     ),\n",
    "    #     query=\"patient has been complaining of lack of sleep and low mood\",\n",
    "    #     alpha=0.5,  # Equal balance between BM25 and vector search\n",
    "    #     target_vector=\"text_vector\",\n",
    "    #     limit=4,\n",
    "    # )\n",
    "    # pprint.pprint(results)\n",
    "\n",
    "    # response = collection.query.bm25()\n",
    "    # https://deepwiki.com/weaviate/weaviate/6.2-keyword-search-(bm25)\n",
    "    # https://medium.com/etoai/hybrid-search-combining-bm25-and-semantic-search-for-better-results-with-lan-1358038fe7e6\n",
    "\n",
    "    results = collection.query.near_text(\n",
    "       # Because near_text is a purely vector search, you get a distance instead of a score.\n",
    "        return_metadata=wvc.query.MetadataQuery(\n",
    "            score=True, explain_score=True, distance=True, certainty=True\n",
    "        ),\n",
    "        query=\"patient complains of inablity to stay asleep, low mood, and doesn't care about day to day activities\",\n",
    "        limit=4\n",
    "    )\n",
    "    for r in results.objects:\n",
    "        print(f\"distance: {r.metadata.distance}, certainty: {r.metadata.certainty}, score: {round((1-r.metadata.distance)*100, 1)}%\")\n",
    "        print(r.properties['title'])\n",
    "        print(r.properties['text'][:180].replace(\"\\n\",\"\"))\n",
    "        print(\"----------------------------\")\n",
    "\n",
    "finally:\n",
    "    client.close()  # Close client gracefully\n",
    "\n",
    "# Most text embeddings (e.g., from BERT, Sentence-BERT, etc.) are normalized, so cosine similarity is between 0 and 1."
   ]
  },
  {
   "cell_type": "markdown",
   "id": "dd2c9907",
   "metadata": {},
   "source": [
    "## Fetch All Vectors"
   ]
  },
  {
   "cell_type": "code",
   "execution_count": null,
   "id": "1dc92070",
   "metadata": {},
   "outputs": [
    {
     "name": "stdout",
     "output_type": "stream",
     "text": [
      "Fetched 1957 vectors.\n"
     ]
    }
   ],
   "source": [
    "client = weaviate.connect_to_local()\n",
    "try:\n",
    "    dsm = client.collections.get(\"DSM\")\n",
    "    response = dsm.query.fetch_objects(limit=10000, include_vector=True)\n",
    "\n",
    "    vectors = np.array([np.array(obj.vector[\"text_vector\"]) for obj in response.objects])\n",
    "    titles = np.array(np.array([obj.properties[\"title\"] for obj in response.objects]))\n",
    "\n",
    "    print(f\"Fetched {len(vectors)} vectors.\")\n",
    "except Exception as ex:\n",
    "    print(f\"Error: {ex}\")\n",
    "finally:\n",
    "    client.close()\n",
    "\n",
    "unique_titles = list(set(titles))"
   ]
  },
  {
   "cell_type": "markdown",
   "id": "ecb7c8db",
   "metadata": {},
   "source": [
    "## Average Pairwise Distance\n",
    "\n",
    "My guess is a tightly clustered vector space (where most vectors are close to each other) will indicate poor discriminative power, especially if the clusters overlap or lack clear separation. I think this will lead to worse classification performance.\n",
    "\n",
    "Calculate the average distance between all pairs of vectors. If this value is small, the vectors are tightly clustered.\n",
    "\n",
    "**Interpretation**\n",
    "- Low average distance (e.g., close to 0 for cosine distance): Vectors are tightly clustered.\n",
    "- High average distance (e.g., close to 1 for cosine distance): Vectors are spread out."
   ]
  },
  {
   "cell_type": "code",
   "execution_count": 34,
   "id": "5acfabdc",
   "metadata": {},
   "outputs": [
    {
     "name": "stdout",
     "output_type": "stream",
     "text": [
      "Average pairwise distance: 0.042\n"
     ]
    }
   ],
   "source": [
    "from sklearn.metrics.pairwise import cosine_distances\n",
    "import numpy as np\n",
    "\n",
    "# Assume `vectors` is your numpy array of embeddings\n",
    "distance_matrix = cosine_distances(vectors)\n",
    "avg_distance = np.mean(distance_matrix)\n",
    "print(f\"Average pairwise distance: {avg_distance:.3f}\")\n"
   ]
  },
  {
   "cell_type": "markdown",
   "id": "7f9e213d",
   "metadata": {},
   "source": [
    "## Eigenvalue Decay of the Distance Matrix\n",
    "\n",
    "If the vector space is tightly clustered, the eigenvalues of the distance matrix will decay slowly (indicating low-dimensional structure). This is related to Multidimensional Scaling (MDS).\n",
    "Steps:\n",
    "\n",
    "- Compute the distance matrix.\n",
    "- Perform eigenvalue decomposition.\n",
    "- Plot the eigenvalues to see how quickly they decay.\n",
    "\n",
    "**Interpretation**\n",
    "- Slow decay (flat curve): Vectors are tightly clustered (low-dimensional structure).\n",
    "- Fast decay (steep curve): Vectors are spread out (high-dimensional structure)."
   ]
  },
  {
   "cell_type": "code",
   "execution_count": 35,
   "id": "b9b1a3fb",
   "metadata": {},
   "outputs": [
    {
     "data": {
      "image/png": "[encoded data removed]",
      "text/plain": [
       "<Figure size 640x480 with 1 Axes>"
      ]
     },
     "metadata": {},
     "output_type": "display_data"
    }
   ],
   "source": [
    "from scipy.spatial.distance import pdist, squareform\n",
    "from numpy.linalg import eigh\n",
    "\n",
    "# Compute pairwise Euclidean distances\n",
    "distance_matrix = squareform(pdist(vectors, 'euclidean'))\n",
    "eigenvalues = eigh(distance_matrix)[0]\n",
    "eigenvalues = np.sort(np.abs(eigenvalues))[::-1]  # Sort in descending order\n",
    "\n",
    "# Plot eigenvalue decay\n",
    "plt.plot(eigenvalues)\n",
    "plt.xlabel(\"Eigenvalue Index\")\n",
    "plt.ylabel(\"Eigenvalue Magnitude\")\n",
    "plt.title(\"Eigenvalue Decay of Distance Matrix\")\n",
    "plt.show()"
   ]
  },
  {
   "cell_type": "markdown",
   "id": "6ce83d6b",
   "metadata": {},
   "source": [
    "## Silhouette Score\n",
    "\n",
    "The silhouette score measures how similar a vector is to its own cluster compared to other clusters. You can use it even if you don’t have true labels by applying k-means first.\n",
    "\n",
    "**Interpretation**\n",
    "- Score close to 1: Vectors are well-separated into distinct clusters.\n",
    "- Score close to 0 or negative: Vectors are tightly clustered or overlapping.\n",
    "\n",
    "----\n",
    "\n",
    "- Silhouette Score > 0.5 Clusters are well-separated.\n",
    "- Adjusted Rand Index > 0.7 K-means clusters align well with true categories.\n",
    "- Normalized Mutual Info > 0.7 High agreement between clusters and categories."
   ]
  },
  {
   "cell_type": "code",
   "execution_count": null,
   "id": "e0eade8c",
   "metadata": {},
   "outputs": [
    {
     "name": "stdout",
     "output_type": "stream",
     "text": [
      "Silhouette score: 0.114\n",
      "Adjusted Rand Index: 0.065\n",
      "Normalized Mutual Information: 0.284\n"
     ]
    }
   ],
   "source": [
    "from sklearn.cluster import KMeans\n",
    "from sklearn.metrics import silhouette_score\n",
    "\n",
    "k = len(unique_titles) # 5  # Number of clusters\n",
    "labels = KMeans(n_clusters=k, random_state=42).fit_predict(vectors)\n",
    "score = silhouette_score(vectors, labels, metric='cosine')\n",
    "print(f\"Silhouette score: {score:.3f}\")\n",
    "\n",
    "\n",
    "# Compares the k-means cluster assignments to your true category labels.\n",
    "# - Score close to 1: Cluster assignments match the true categories well.\n",
    "# - Score close to 0: Cluster assignments are random relative to the true categories.\n",
    "from sklearn.metrics import adjusted_rand_score\n",
    "ari = adjusted_rand_score(titles, labels)\n",
    "print(f\"Adjusted Rand Index: {ari:.3f}\")\n",
    "##\n",
    "# Measures the mutual dependence between the k-means clusters and true categories.\n",
    "# - Score close to 1: High agreement between clusters and categories.\n",
    "# - Score close to 0: No agreement.\n",
    "from sklearn.metrics import normalized_mutual_info_score\n",
    "nmi = normalized_mutual_info_score(titles, labels)\n",
    "print(f\"Normalized Mutual Information: {nmi:.3f}\")\n"
   ]
  },
  {
   "cell_type": "markdown",
   "id": "a8e6fc43",
   "metadata": {},
   "source": [
    "## PCA and Graph DSM Data"
   ]
  },
  {
   "cell_type": "code",
   "execution_count": null,
   "id": "e1618a33",
   "metadata": {},
   "outputs": [
    {
     "data": {
      "image/png": "[encoded data removed]",
      "text/plain": [
       "<Figure size 640x480 with 1 Axes>"
      ]
     },
     "metadata": {},
     "output_type": "display_data"
    }
   ],
   "source": [
    "np.random.seed(42)\n",
    "# PCA can show relative structure (e.g., tight vs. loose clusters)\n",
    "pca = PCA(n_components=3)\n",
    "reduced_vectors = pca.fit_transform(vectors)\n",
    "\n",
    "# unique_titles = list(set(titles))\n",
    "colors = plt.cm.tab20(np.linspace(0, 1, len(unique_titles)))\n",
    "\n",
    "plt.scatter(reduced_vectors[:, 0], reduced_vectors[:, 1])\n",
    "plt.title(\"DSM BioBert Vectors\")\n",
    "plt.xlabel(\"PC1\")\n",
    "plt.ylabel(\"PC2\")\n",
    "plt.show()"
   ]
  },
  {
   "cell_type": "code",
   "execution_count": 33,
   "id": "d69764d5",
   "metadata": {},
   "outputs": [
    {
     "data": {
      "application/vnd.plotly.v1+json": {
       "config": {
        "plotlyServerURL": "https://plot.ly"
       },
       "data": [
        {
         "hovertemplate": "color=Other Conditions That May Be a Focus of Clinical Attention<br>x=%{x}<br>y=%{y}<br>z=%{z}<extra></extra>",
         "legendgroup": "Other Conditions That May Be a Focus of Clinical Attention",
         "marker": {
          "color": "#636efa",
          "opacity": 0.7,
          "size": 4,
          "symbol": "circle"
         },
         "mode": "markers",
         "name": "Other Conditions That May Be a Focus of Clinical Attention",
         "scene": "scene",
         "showlegend": true,
         "type": "scatter3d",
         "x": {
          "bdata": "DQxE4BZW5z9UsyXzZx7sP4nPalRU3u8/FSyFFK0Z5T86K9bJvavkP00KQLLFteg/XL8LKvXf7D/tbaT58A7yv9KBy6z3m9Q/x2uTFheH1L8HvSXiTiHTP2rONwCIoeg/CVrzY7oL4j9cl+eSAMMBwKPpbewAhPA/4n7dW2Ir7T87ZVZqKCTlPxW8Ria+AOA/8dDYYzOA4D9hEIPLFMLzv5mp3No6s+Q/cKJcOyTj6z8FvWby/dHVPy5v1pEKhOI/ihgxMhT+yD93A09PLujGP9UNb53YS/I/Ywhu6iRz6D+o6PztZqbTP2xU+kiEeug/2RL9Z2U6DcBh/NX1cbnRP68LpE8rpwnAsOkK0Pmr6T81c+/IBZjXP9l8LfFfbd4/",
          "dtype": "f8"
         },
         "y": {
          "bdata": "hIA7IWAD+z9mlzwoMtf8P8/mNfJZh/A/LaLNeWxN3T9p7ixmjT6+PxjumibM6+0/9PDpyZcI0D+rGZXz1Ya7vye1ZOtPFv4/VT/WRD2P9j8jSi2kgTrpP09twMjIsvE/dp8+kYA4zT89f4k4vVriv34PJZDInRBACsiHnwtX7T8v08ZzAuzwP1rk2OfXLPs/cXNoh6A37z8iMDnJdgPXv7aIHewhYNk/gg3/x/rHsD+qhOqoCoPYP80EJNwHG+s/MJ7sOXka8T9tAFUPhLfjv/DHLTHne9E/m6HbU9CT4z+MEGlEj28VQAi9GVsDfuw/Tj52azhG0L8gl21QGafpv/2N1wNLYtI/NQ+7muTnEkDZPkNf2DveP9I7NX6tdOQ/",
          "dtype": "f8"
         },
         "z": {
          "bdata": "2Uwx/O878z8Eq3Qxx9X2P0g5ohFkwPw/DA3OhOqW7T+aCam2eYTbP+QmBSOCs+4/XwSRrgo04T9Sjck+NWPgP2e01lncltY/45vbece22z+KlrcQGcXtP+h14XIV3Oc/k5ns2CSKzD/zLckxP3jSP3FT8deIhAFAX22+EgsM9D+/92ds0+buPx3m9svZVvU/6cllHBJr6z8SYjDHg96rP3ginS0Y9/M/x3rcjnLD5j8J1gr+DD3XPzsk9sRmc8k/itQIzp+S1j+RrDwt9M/KP54ny+49UNc/cInjJ92I4T81zH79xRv8P1EMiZwq2uQ/lqvwiIoE4z/LRJJPLJbTPzD1q5CO/to//4CCb9IuCkCIerq1xRzdPxQrhlEznck/",
          "dtype": "f8"
         }
        },
        {
         "hovertemplate": "color=Trauma- and Stressor-Related Disorders<br>x=%{x}<br>y=%{y}<br>z=%{z}<extra></extra>",
         "legendgroup": "Trauma- and Stressor-Related Disorders",
         "marker": {
          "color": "#EF553B",
          "opacity": 0.7,
          "size": 4,
          "symbol": "circle"
         },
         "mode": "markers",
         "name": "Trauma- and Stressor-Related Disorders",
         "scene": "scene",
         "showlegend": true,
         "type": "scatter3d",
         "x": {
          "bdata": "n3FZAX+vqr8tVoEqbpkEwMweEBgp8+A/xdKWABEOyT/3QUeT+/CkP3K1CgEEkNk/2UUTLTlj1r8kGmRttVOxv4V1v/CvQ86/+HH+KOo81b8rgC6U+kTQv1T6T7kuhwbAZzcjHr5J978vS5/qeWEGwL0OGhkzTts/KJM9hmEPCsAwAEbtkUvvPwQKfRTS6Ow/kRjrzVZO5T88AVYEE6Wlvw8ahCaFdtc/W0dkg6IPBcDY0YKAoFnav+WGuX1Hbsg/y6iHySBt4z9ZmCMOWZbhv/BvpGfKNOQ/kDoNvNAu9r96mktOHCfxv7BhNyzo/fy/hO4F/fUbkT+5K/dlA3Oyv1F5Me+VLgLAc1VfQA3u2z9OtkXyK63mP9VNxp0oMvK/vDSwfplQ0T/KXVFDsPS1vznQgfT8irE/tysoslhP1L+BhGcvwJHoP3Eysh8o8OI/ZDI2KgNZBsAI2FwzZSjtPx2+R+VqPtS/AASfsDg32z8dJ2ele58FwN9lGNlmnOC/KHfeKXmA5j89pwU4rSfQv6cbGYFwCt2/Zg3s+4fAtz/UBGXTDRfRP+mucI7oyf+/ozej6CBm4T8A2XEOsYHqP0lspqTUlAfAo+aXOH3z0j8GobTgo7wFwBOKaM7uUA3AIhzftxSgsD/TDCBLnEYBwLUGoY7jsOI/h8CEfly/3T/8cpHPpPOWv2HcHQcgCbq/8osjIaBfAsA9yLboW9QGwPBEWRfEnNM/5FWYyOPH+L+e+GgI0cnGP4le1WR27+0/gqTc5YxT8D/zVNnxgQfiP4Tjw9EKw9k/40G+risWyj/ZC8TXm8voP7I6Rhjatcs/c9EvBdrC4z+5aMDckv8EwH91YqYGoJa/T4uS1qPh5D/Zg7TmbKLFP24GmYfLsuI/ak0+hBC+zz/bkNL+dKfQvw==",
          "dtype": "f8"
         },
         "y": {
          "bdata": "GytPOSkF4T8RMxZ2qGrcvyvGwvYbq7+/csbGKPG+4j/i59lal27aPxjXNtDzUdY/AGOdtQrz3D972sh9vJnbvxOIEGMVhMO/wswFayGvwD9SFlVbfK7gP1fN9BpBy+O/Zk8U2vhx9D8+veclaCrXv918/mA6wHG/xeHg7GU4778jHnwvvVTtv3xwgM+RnOS/jr29Gjvu5b/S/czuIFfOP9fnNqaqodY/iI3Wf8FM5L+P78MZH3nSP8y5uMwLMrU/poemoXDM4r9EJ1NQO1DWv7NWfTkE+/K/rQBVzhSyyL98mQcfBwamvxaKpELPy+C/fIq1dJKg37+9hS205bzavyeZouBmDOG/n+FBH8Yp4r/JkxDhZzvrv99mNi5m2NE/e4hXAkoQ1z8hlVgg/u7OP2IZfwWBrfE/ylrD+Kly4D9eu/QmFF3ovy5TQJAORdS/6yxKrstV27+4xuClwjbwv7Ftvogl++S/y2OhtNSr479DRYr5IZXnv6vQtHscGOg/vDfESXGT6L982XZc1V2nv8T2kWUtPNQ/fajrF8M3pj86BgL9phfgv8yQrVzuH+E/gfUygpbs5L+Dix/EQ87lv+PRKBcDf+a/SshZqSI0pD+idfQeFE/ev3sQSBUAQuq/g7HLPZG41b871tE2ZwrHPzDU5rXiJuO/UTA2T78T2j+VRsZT2cKiv7VFwYESouS/M7sd/yWky78gpDKcH3Pkv/DGxelyNeK/giSPE8X17L9CcJmawKPrP7RdwtqhJ+a/bCZTuOBF179cw7yFbMbLPzw1TfSTVd6/D/L/bcLQ9L/q2xRjDuzUv/q9yxaYE90/1zD/2iI56b8bBtMl9ofov0LMsW5b8eK/W7qyBA4q479kuPeSOUHwv41OozqYzcW/zwqR3Oim379teVdmTkjZPw==",
          "dtype": "f8"
         },
         "z": {
          "bdata": "r7rCjmNq3L+PpBqtmtfmPwrRwoeOttG/+qhoMFm+sz+oiB5b/CnRvzljCPquwse/cc9hciOk5r8jVvbjjkDuP69XAcET2uq/V0b4uZ1Gfj8j3bs4WdTVvw3jxDV4GeU/MzQ/E5jQkz/5l5EK8nfhP7NechT1+Oa/WyHDk77C6z9rQ/U5/PjJP709DVwdkNI/oY1kEa5Lnb+LnvAuV63fv4xTTmGfPeq/hiB4TP1a4T9pzwu/rifmvyZdu8zKBdi/QWdr+UoCz79KSEbiqB/pv2KEHhFwr88/UD5lCV4alj+GRpWq5wCmv5CFrmbiH7g/Nq5Li3/Syr97niV5iH3nv23th1j4wcA/6iiR5X1U2D9CyR8keSzgP4+T0T2NLOy/A0Ncsrnokz8YCYpMoxfgv7GK1m+0KcG/SSdrMX7e3L8JglkKe2XmP2BWcbRe/Jq/kxKR5yl71z8smrohu4jQP3IdMwYHq9s/iyMlS3iV3L/Kyw6/rpjiPyhIniBHquq/W76yy3rU2T+/VxgE7sDKvy5hZQpoCOe//x/+f9OJ1r+qhX038F/av18dBSbCddQ/ggCRaQbo0L9OAF4mbgnyP9osC6T5E98/l869PoUTyL8lR50pDcbbP/7LaCS8Bd4/oz08CExw0r+9b2hdh2/IPzi5J+Q/Qsi/mXpk0uSn1r+Ev9urEEjqv5Kw02mjeOU/b7WDhIn/4z8m8JK4rqvZP++mVuN/p3E/zoM9Eyx+0T/RIn9Nprrnv0ZxFJ+Hz+0/YZG4nO5N6T9CPihSX9fgv2/J1IGxot6/b5wM6YQgwL9F4DejuD/fPwKOQAXM29m/2+BPm0Cy5j/4p9CKnpPjP6w/qBc6k+e/SnKQmGU3wD+2ptNZ9XTCP5xkLulNMda/VgTqwjNCtT9RrPTkt9jlvw==",
          "dtype": "f8"
         }
        },
        {
         "hovertemplate": "color=Specific Learning Disorder<br>x=%{x}<br>y=%{y}<br>z=%{z}<extra></extra>",
         "legendgroup": "Specific Learning Disorder",
         "marker": {
          "color": "#00cc96",
          "opacity": 0.7,
          "size": 4,
          "symbol": "circle"
         },
         "mode": "markers",
         "name": "Specific Learning Disorder",
         "scene": "scene",
         "showlegend": true,
         "type": "scatter3d",
         "x": {
          "bdata": "syfplLTo6z/Au1pPyRXoP//LWo8yEO8/A9Mcnazz2D/feo47s2gJwIGKEUx8JPA/+ZTWLiF96D/D/BJp1LzcPxDMMHUqwuU/Hj3xi7TAwT+xIw076pvSPw9BdOH9r8M/XVLVeJUG4D9AJ2CXg9/VPztr5C6hcuG/6it59Jml5z8yIF686MvYP4LALd+/f+W/aatuaVcv4T/776dBaVjeP4cOFXPSjOI/GTrIa2NL8D8=",
          "dtype": "f8"
         },
         "y": {
          "bdata": "Tzz39HoTtr/a0jQxz/bkvxPb2zyXg+C/oqmYx7ZW4r/x2OVZrZbWv3IeiYaRCOK/omBNSM9v8b/DuXf53rXlv75Bhez++OQ/kAh5dQIA1j/jmhosJgnbP5CP2LHE9Lk/nKxP8rjG5D/uIBKNICXvv+1MQvaH2Mm/OP0H259/4r/njcP4jJ7Dv4t3jjYYsvC/XwQSP6vV1L+ZjyK6juDqvy2aZ9t3Wuq/mDWSJjY6478=",
          "dtype": "f8"
         },
         "z": {
          "bdata": "EBdaJPceyb8gxn1jK9fHP6xtuKt5B9Q/G44ZSOUAx79ixW21ftjlP7HCORqNROQ/PdA2k2x0wD/ytmhhksHKv00iN7zwbsU/ixz0mY7I5r+MVcSK2TLivxMJKwzx+Ny/CRPTlEjiur9S0505KjXHP6AxMb5Y96i/xLhZmUI66D8VGpfWnP3bv7uqeMC5Rsu/qLjkEl9j2r954L58XYTCPwYsEyxs+LM/Xcz24IdS0D8=",
          "dtype": "f8"
         }
        },
        {
         "hovertemplate": "color=Anxiety Disorders<br>x=%{x}<br>y=%{y}<br>z=%{z}<extra></extra>",
         "legendgroup": "Anxiety Disorders",
         "marker": {
          "color": "#ab63fa",
          "opacity": 0.7,
          "size": 4,
          "symbol": "circle"
         },
         "mode": "markers",
         "name": "Anxiety Disorders",
         "scene": "scene",
         "showlegend": true,
         "type": "scatter3d",
         "x": {
          "bdata": "2TgBKbX+zj8lIka7w8DSP4L9nHdNSvi/+xuFbQwp6T+x88GpqsfYP6tmKpA/Mtw/pz9uDPyx4D8AhIiBf/XkvzP3F3geReU/tSWGAQ+O5T8SUef82DUEwDd6TEZdlxHAVetiBRGH6T9vW9HaN0SyP5PMZPC/NMo//wzL6cOa0D9UqN4uSRfIP5oQmOU//AzAvv/o7BKyxT/ct7+1tWnhPyMtLlPR7rC/a5K3HVZjEcBP8Gn+Qoq+PwHG50yb3+U/j1K3RP8fzb9CS5A+SA3VPzw9InVHrOQ/lNGRpfhP0j94zpTzvK3hP/VnWAKKleo/8XxBTeXO3z9C5kvm8EEDwEzZBcrNauo/Hx7tDmHw0D/cFzKOX03hP8QvxROs1dS/J2PEYTfbtb/tqRDd433Lv+24BLfUyt0/b24Cxl4QtT/x2t1NyT/SP13qIV6KGtM/x1Iv1mef1T9hFwfEEdDUv2ZstbUxJeI/453BaCfS4L+HE/mbM9/uP0cl/JNP8uo/yfRZ6YYMvb9+3oLtfNvhvwDvxmsj0dO/8E4HhTt08b/vuWWM5aXEvxrKuJ8cYeC/wyymJRaUwT8e6D84GmrXP2Nm5AvKNsg/UXVvBiLi6j8vPi48n0DLPzMdFEw09eW/CeB3EjHAz78GTsxebznlPxQ0D5lDFNA/bk2TcOcz479EabBPp1OdP5oKUD7Y4fe/QsVvn+Z/zz+LuU2UNl3oP56m9soNIeQ/cgkqwLm03z+L8Wc/77Gav8204lKdo9u/32LtVJj79b/3Z/0WzK+4vzkpiEHatdw/apvl7PpYzL+NwQUk50TMvwfRhEpIQcm/aNgQFc/b4T/tfiJ+b4foPw2/siurXfC/ZlnC8sdy0T8brKLZaNTZP7utMRMh8dQ/LTwYWQLp4j9fCsYr8Z3NP3k0WRZWlM4/XIrbBqte3j8Mn+tRUCPgvwC1DGWSLts/wlJo8Sjj4D+3hAGHM8XdvzXHUfDRBOI/m5fHvqxj5T/qExjK0LTMv1VB59BWpM2/foE9xclzC8AKsP29/gHiP05Lnmn0ReU/Iyl/uE3w5r9MmGIyT+zSv+avyJTZR92/nwysYiOh5D8HnyV6lrLoP54o6/VW49M/zQy7zd8l8L9vpqv+5Ki9P+D4mIy5ArY/mmwRR1/wyT+9+2lQW63JP/8UBJO1c8O/YU91nCiG4j/txIEsyAXiP4jpUXGsddw/H7gUfs5w2D/TImYyX1nVv4d3/H74ysi/5yG0uj8X4j8=",
          "dtype": "f8"
         },
         "y": {
          "bdata": "V7NVmhbmvb80cP/0aDXMPxWMp4mbIeO/af50cFGF6L9M0y2yB9vxv4awSZdXQ7q/LNF6Cbj41b9PeqZHJcKqv7MYfG292e6/SHdCz86phr+tsAVfHyj2Pzoshh7GHOq/nVuwsu8/6b9RDffP8t/av5JyLn9Wm9Y/TJvhJOfV3r8YkK1qgRzcP9yFlhdUjtm/we/9L7t92z8msjMCKMXVv2f+mHRctdA/z9/LPjua5r/s5LvYFjXuP7iEMqJSdum/0SWxOxvqxj9JnYoI6vLcvxiUtB/sF+q/DlE4BzVZ6T9AxaAUGpq2P7z/HNtFDuK/U1tCOApz6L/lON/RaFTfvzAKwekYk72/SII3rG7O5L/FW+Pe0k7uv5IQkm4J1uQ/Iimd1Ty2qT98Q6P4cjngv4zLauq7pt+/Y+rRuvnL17/a+XoJf0Xwv36gQY5Qpd2/o9t+jgZ75j9h94HWBFXeP7iPx0MlLu2/1FZKW6u51T8yqY4AAUHnvzQarhDHfe+/yzJ1rPdZz7/BWW7aANLjvyUJFdltFaY/HcmmJ4DG3z/FRiCfHHrjPwUBxq39V+G/KYx4ltwfP7+AupUonzbrv18qWKFWLdo/XR6cczvnvL/vq7m4JKjgPy0cMAKxo9o/RrE0tTiU2z+FplREGvLvv3E6+3M0atU/38ckJkQIwT86KcFQZVLlPyRUAMQ+adO/awFiuXHJ0b/0UH1qJpb0v+x56s9ERPU/mwU+CNU17D+baskFinHDP0yHU8QSk7c/eP4FZM9RWL/yrsbg4KsBQDpS/BZ8/by/+0pYFivLxD/MBNhd+B3gP2FA2HkWO8y/0YKox1nXyj/iNR4EwW/tv6m1cd/Rtdc/44k2DZzm3T8fm3B9U/XTP7iFIUe+p/G/+kZzBREZ6b8flCiIu63Pv6ZMxzcvSMm/ZbkJ6HxQt79ezvvgTiXhP0JWiUQKgt+/+AG7cvlgur8kXA7VATLaPycfwgpP5qI/E8A5Nvqg8b8pNq8pfHPlPxl5nZ5OObY/nGUSTIem6r954d5CED3GPwwzMQAtFu2/pxfVxyJpir/bllGf+1HSv393GK1zidk/8qa+wUx90b8gPo8ChcHyv+++YYFBmcS/ipkFqdVj1L/wNr7vw2TQv1Ek57g5F+o/gXwsxLgTyr8C6WdFvkHLPxs4Afz+w+E/VWYzc8V51b+YCjUwWr3nv5CIgE6KM9a/+fO9bOb/4T+FnZK3s5Wrvzvty3V+hqy/Nvgdfo2P1T8=",
          "dtype": "f8"
         },
         "z": {
          "bdata": "MLjcQscr2b+KTeLr+ly+vyZIw/otqdw/Ci9KNr+Dzz9bcj0Vxz3iP93t2kQBa8c/d0gAP0/huL/lzEtgb3fMPw1KrKhqdMa/LNp7ptlf17/En+yzl1Hdv5581e2gWt0/JNMlIBTu3T9d2mxCry25v4lNimm8V+C/Al1dJOT8pj/pZQ6l3ovrv6c0BmxWZt0/vCY38hV05b/cc8F7WzHGP7HCT4pGOeO/RZMMqnI/3j9iv8KghXbZP7anlYYAjvM/sQ93HkPL5b9GbJiJ93nMvwaTxBvvQOI/vvTQ1hbClr9PKN4woG7kPyLdiFDhj9G/naTE+Ny0vb8N90GF71bdPw+I+3bU7sm/m3vnf0S50z/YofKRj7jUv+OBRl2mK9a/MgWi7vvz1b/xPhnE8MLevyKyFPlbWde/w3egzz/L5L/Fq4m9zqyPv/PSd7dfK6W/pYAmy86iwT+m3Ht2Y7Ppv32AuwkOCeQ/tBcoJX2SzT+pI5qAytXqPxl1iP4RS6C/EEPtkATP4L/S8g/UGLjAPy/OKQOxTNm/FQNhY5aM5z8luDIzZPPVv6gOUJ6d/NQ/qx9qlGK10L/IvZ1piVTav66IX/NH2Ms/OLIrG+ub4z8w/9JMUujQv4hhj4dgSOi/qNbPEW8X4b+ZoZB/7VDqP/ghIa3bMNu/Ve0Or4Gd6b+hUOBPcb/Vv81/7uquP8o/fLi59wYv478+/5HpdpzLvyf8KiyfePo/72jMaoue4b88D4iTyGTZv6En6CFrgOC//favE26Xkj/xaNztKPu0P4gAlXM6hqA/0FEwul6b7L+zLFET8m/dv5orwfV54OK/5VHUKiiuwT8jz9wGlkLNPza7L0fR3b6/U0wBAHUxuD9nBCf8oZHgv2vOTMpPo8S/WsT3MRwqsb8X1Ig/15vjvzlFEi6KW8a/cfYgWHnz3b+3kV9IVrnOvyydNleTINe/fBMdwaDV4z9Pc4Zd7nLIvyEPShT2A9y/7qLMupje4T/2oklyPg7VvwODRU7UzN+/N9lyZdbo5D9kHAiDR87NP+nMKSzkqMg/P7yKMZ+u3L8/ybFFqJrav+8nko+zhOe/hFDIOhnm3j8wy8s325/Fv6y5rqW8zde/CWl3aZUArz9Z+TKmBXvcv5U2WgBHuL2/rSj6na881T++vlHr493Pv4Gv5+aPet6/zIVmkhC4lr8dLUbhUYm7v6sCLnYvheO//OJoY5o44786bJiTsDflv7eedFEtX+G/1dZLHVQL2L8=",
          "dtype": "f8"
         }
        },
        {
         "hovertemplate": "color=Sexual Dysfunctions<br>x=%{x}<br>y=%{y}<br>z=%{z}<extra></extra>",
         "legendgroup": "Sexual Dysfunctions",
         "marker": {
          "color": "#FFA15A",
          "opacity": 0.7,
          "size": 4,
          "symbol": "circle"
         },
         "mode": "markers",
         "name": "Sexual Dysfunctions",
         "scene": "scene",
         "showlegend": true,
         "type": "scatter3d",
         "x": {
          "bdata": "3bNLgKkPzz+etDbaAAXrP0TDrWyrP9E/LjLXPr8sxT8ej+jOhmjfv8PUmA010su/OEShTeF53z91g4FnKdfmP7c1W/Bftbg/uWVCXvpO4T/hZA80bzLpP2cGEYMFqcO/Df37/7un4D/RIySyC5LuP+JZWXTsFqs/jnyt7JDV1b8TsrW8jVplP/nUnSsJUMk/RiHC5cu54D9skEKxWLrzv5JYkTtr2OA/I0cKiN1H5D+0JNcngIjdP0sVwB0Ku9c/lFRVbptw3T+Io7ukEa/tv+ic0wUez8k/asGUsdR/5j+GtCnM5B//vwIih72908A/mJW/Fn1mtD9Z8UTF1hDgv+Kcx5uUWcW/WY5PDdwn6T+y514IyPTnP/RFADgbCeu/rqeFasnd7b8eNlQTZu3yv0/0frayuLk/wncydmx64j9GAG7yqV7qPyZ41SjcFrm/L7rhfve96j9GD+D476AHwJlDOEXIO8c/EUg2RcVUnz85xTcyJq/GP7SbXPpVAeU/pER7BP5S4T/1Sx9mz/7PP+ZdPosJaO8/I4RMjO2W0z8H6IkOM0jfP6glu+aDL+q/EW5rmpKS7T+MYzZHd7nTP/zbC1ks2J4/Uvd+qiDy+b9xQ1vSaZbiPyyItgqvH8C/pZ3XaZ0X4j810cKmRGsCwACe+rO20+i//SNddbeuzj/Ydkxkz8jiP6/4Il7pwLA/z8QoMyro2z/1DWu2WbbrP3vmGltDiNE/71ShLJ8C5T9lUBIfLnjkP/YTd56vAfS/iu+UyJ+fvL+2CBi5xeLTP0ChFsUGudw/FMX5D1zh8b/8XbtWLH/nP0PT+d48zuM/2tNZdYSo278aicOiot/dPw==",
          "dtype": "f8"
         },
         "y": {
          "bdata": "OTyBPwM70b/Qr3JKewnqv+uB/lZOaeW/AJLuUs5nqz/JbBBClIDiP4VzAG0zlqE/Pnxken4Q57/P41uxk6Xkvz3LJ6unNeI/99Y5Fqv+7D8vf3cSWWO7P6gZyMXO69A/pbhblRql4r+f3ZwKHe3bP4YtYhsXqu8/sJVpFszw5T/13vcpfgLlPwhKSbfKMOu/SeZXYa9g4b8Uj66Oyfj2P+grhyIQN+K/JQ2Y6o1x8L+KVV0ZvdrTP4Jp/urJCwJAmtSI/3E01z/rso7nC3PDv8KMEA6vme0/foWoZ+Uo4L9LIOj32HTeP9Uj/N2kjOE/E2N6Ic7W1b9esNPMEzTAP4DH1Ghmobo/kqxvRQmG5z8+CktYs1PlP7BVEjx3juM/msTOSDFc/j8Z02AaYfSvv2Fap4a9w50/FTmv5Kc2yD+D81dbAU/Pv4+MG9LYHOM/0PuTQx8o7L/HagvluIPTv4s0B9btj+G/lz7nrs/Z6T8VF4hn1CnxP86pYWp5nOa/M2Uyj77L2L+5ohTBQ63TvwcZ0Vh7oOe/r2nPUU4/sr9LmeyYzH/nv9BDj41aXu0/1nySzxA04b8u6z+qBfb5PwiFjE9MYOM/YKZNjhlpxb+MSMYn0mbZv0lnySNngcg/uWBsTFQt0T8nDPj16CviPzDwWOnuP+I/9gr9ZOCXxr9r5T3lpJjnvxZNj2wzmuQ/35RjN4iS4D9u7c/J6l7pv5zKf9+7RNu/QEKv87xJ478aQHUq8zfqv+OPbByHDOo//Cfxqqv8dL9uYgAHodLXv2LyKliJJti/TP4hlRQ/o7+H8/0JL7/kvxP4zk9Z/Na/lKuBamkW7D9hcj7eTnjbvw==",
          "dtype": "f8"
         },
         "z": {
          "bdata": "oOlCiCndx7+L/4V4s5zQP8+ofe2aAai/B9HT9KzO27/BuMKyBWzVv8yM+3NMLOC/bz294CN8wb87WLyDsHTcPx93ak8WduO/jB0itOFf0T+noax1r1CBP4ITZfp0j+S/uCXTglUexj93FILzrAnoP5r209kmlts/SWD7MFdK6r+XaJ090kblvxV1jwJt6Kc/Pl/P1sIYu78cBSTOkyjrv+wmWpq7xuE/A+2fz1C93D9j2G/s8FvLv1jGwnTJ7LU/zzGTx7kAoT+tfa5j/uyRP4fuuBJjSbi/Z76jjo7z4T+iphlzAIXZv4Xinag2wco/uFA1v2zRfL818i+GaqnjvzTImcIlq+G/TjyvjW0e5j/jJFOX4hbhP55JFaKCBMK/FXgcTJ9J67/GlqOHf9W/v0QcqWsGYY2/R1aCZpWr1T9h/15GMNffP8botfSq2t2/WPhVAQL72T9/cJcbobfMPzzEmURlJNW/8LVl+Q3W4r84l/jTrRaTP0tqhKTmI8C/OC1zI0olvL/bYq+XAhHkv75SOFLSS9o/nPl4sMSbzr8BFfSUge/Fv8LuYkL9yb+/6TVK2MUf2D9XbydMRVbwPyvpLK6IW9q/ZPU6Z2zJkz/00iBXPMSmvyjSjXp6ENS/kzusMX29dL+pXgm0CuHXv4DoPugYB+K/UICHT9Bu0L/toGuGlOnOP8vq0FzW3tO/FdEViKii0b+at3gYEbjaP4zNzFR3L56/RrAaoMne1z8Q7BNfHianP2QgTGq6QOC/RCh78rY04L/Ci25q67TRv32sAoau5IY/YtEehmlezD9DaBTV5IrQP0xLtIknRbi/VSOMsM1C47+tEa/Br5DTPw==",
          "dtype": "f8"
         }
        },
        {
         "hovertemplate": "color=Autism Spectrum Disorder<br>x=%{x}<br>y=%{y}<br>z=%{z}<extra></extra>",
         "legendgroup": "Autism Spectrum Disorder",
         "marker": {
          "color": "#19d3f3",
          "opacity": 0.7,
          "size": 4,
          "symbol": "circle"
         },
         "mode": "markers",
         "name": "Autism Spectrum Disorder",
         "scene": "scene",
         "showlegend": true,
         "type": "scatter3d",
         "x": {
          "bdata": "ZpGZppOmzr80YJCjYgDkv8jyHFrqHeY/jLPEC065nL9/rnqN0bjjP/39ZqnzgOo/xd7zfPHS3z9dfNVKDbrrP5VF3OKtx98/Pi/4qiRt/b8wSebOkSnnP81VfSkxRuQ/fJcH/MWu6T9XwGTeBwHzP17rMjBIaes/5jFGoKD84z8JtBb1mNifv/wNTZXeNeU/CqvCJiyfAMA3faNUc9PnPz/kQxT/2us/QkqASBG36T8vOtzTB0HGP/KonqBo+Og/T3HmNXwsxz/hFtccHbnHP2VbkwlfPuA/GZMqwI1uyb9o8nIsXOHePw==",
          "dtype": "f8"
         },
         "y": {
          "bdata": "tqa3VK2Gwr+F8Pt7wQXMvy5WFRK6Fe+/iFNYzVhU0D9171/gc1fmv7ThvdZ6UuO/6EcGWi7W2L92n9Hku0z0v6cnlC7EPMe/h0lwn6X86b/rv0Ij1Dfov+L1Tlv5dPK/lkDueYI7779ucTjyVaPVv6yskGjDsOy/6OlHSi0U6r/PDpV8yVLCv+qnET/C8d6/LZCXT1UNiD/Dhw1SRaf0v2flOFNkYaq/TAO4al4M5b9t3V2uoT3ov8d23+QIzdA/XGkchhBsur/gnxywdbzcv6qX2wfka9W/tQd19Hq02T9Jr2xSZEIAQA==",
          "dtype": "f8"
         },
         "z": {
          "bdata": "6AdBW9bb679X4u/5UFChP7yWSX7KPLY/GoI6a4w25L8MQRXTc/bCv1uvDWl4Zew/bDCREiR8yb9kTREjSsDZP67Y+4XOStG/p0veSyBV5D9E6QDcIr7Tv0zmsONxmNA/7sRMHzBvy79GwPYryrvoP7EmgrdOJcc/+RYcXono17+pSYJ9BV3gv4qwMkzCKcI/pnwLLCGx4D8fg5H7HCnmPwl5VfLAFai/t+nt9h2BqL+srVG556ijvzl6RDlor+O/vfObvlBS6L8z2+YYwnzRv3znVS118+O/W3g0K0D84r+dDDfXm0HCvw==",
          "dtype": "f8"
         }
        },
        {
         "hovertemplate": "color=Bipolar and Related Disorders<br>x=%{x}<br>y=%{y}<br>z=%{z}<extra></extra>",
         "legendgroup": "Bipolar and Related Disorders",
         "marker": {
          "color": "#FF6692",
          "opacity": 0.7,
          "size": 4,
          "symbol": "circle"
         },
         "mode": "markers",
         "name": "Bipolar and Related Disorders",
         "scene": "scene",
         "showlegend": true,
         "type": "scatter3d",
         "x": {
          "bdata": "wKcZsRk1C8CFmcUujEwBwLvMGBJ5DuA/6OkAgsnC4j+Kt12JevTuP7X8Zsv7A+Q/NNDKdtK2p7/rhSKbogbbPzshJ5U+Zrs/D/MFUvP0779z482K7jjvv5JpldDprdI/ioVC+W8C4D/WMCT5h923v+9NUHHCi/e/x9RKZz2Irz+Fs8xh/ozrv87VkIaTw+M/H11r3+VZ4z8wLYVw6qIJwKXp3d8NfOS/w09Hlnwm8T+c8Jm/8zTsP5UpflDt+N8/8KwKgeLF5T8jd1taguLtP3XJt214Wue/LDz0aGlQ4T/tDg/0KurQvyI9XF7bLgnAxD49puv18j/4XE1VeGLxv9LtVgZlBeY/hMUXV/V7xT8r7pHoNI3cP1V4hy8x1Pu/vRqWQXnj6j8zf+Fi/O7BP4vdajXpK/E/5n6r2TB18T8BZAXFVYjSP8THmcVS7++/VOUj4EPTxT+Htw5J7xTHv2Bw2RyqvPO/jMJJwGOO8L8Lzy+aujCrv3HAKxqHw8S/UFICoJIM2z+hkkRLJFsJwMJQ0wKbfOc//b+xP9T66D/TlRFy98LgP2+bra4JBMI/x8tSp4w/5D+yl8TcyjfyP8tbYgqG0/E/NI30kxo1/r/DTuAtfGT0P8geNt9mdZ8/MwK14qAEB8DxweSFDy3sP0TK3yUxJfK/qSkCA8WL5z9hY0A+qVLZP1RUwzj6cs+/trII3UITAcCNIl/L66rCv0nmgHmDf+I/ozC2x7nv7D8o3y6A1ZgHwNN6QcxSG+I/O3SQwLV84T+86rqX0K7wP303EyiV3us/KDRXLLpK4j/4/YCsEbbmv0Rut+HCRQTA+5Jgccf73z+ssP+zFQT0P0Uh2tj9K7U/MlRq1fow9L9d52kRou/hPwNZJuivKe8/3CZdKHHA4z9uV1HFsJ4FwPZDQCgI3Og/EB8fOJlm3j/dgiJAuZO1vzOfzHkAqdQ/dTRcTxlKs79Y7IHQlfwJwOz/umHHs+4/cbi7+y8S0T/lV1ggIcnjPxHT4KaiEfK/",
          "dtype": "f8"
         },
         "y": {
          "bdata": "vW36mvVt4r+uFyv1JX7EP0037PgjQPG/4MPTjpYy7T+rIm48mxfLv9lZ1lEkPNC/N6i7XnEC4b824Cm3L8Cjv5HnLrJxjfM/fq3WFuTSAEA13r0fxqb4P0PX8HacbcM/lgB9lJZg579E3hR7O/HVP0obLGBIjdu/I+xaFwFu5T+6QCqc2R8EQDS+L2RQGdY/ZSW+xW6f37+NQjbSdMHov0jfeyfMvvQ/r9Vdgb7d5r85qZomnwy0v55b7V6XwNE/ZTj7gMAU7b+kQXgZP8Sgv2hJOK/Am56/e2FLI/l94b9292UY+ujoP1LWyFO87dK/PV0IAEuY6r+BcuCqKbrSv7RSeW4ZBeq/Bio2GzVszj+PyJVdWdPQP+T+/GWsZKS/PJZ1AhS60r8NLP2N6HDnP53Xyl95MvM/FBUNsiHa178kfGJUCJ/hP/AvsMNhFqy/xSVdtgAT478JmT26iMXnP70ZeR6waMY/FtQWK3lOuD+FiASz2agdQIZ7mzb7Ke6/jsp1Eitc5b9iMEzCthfrvxb7VZ+tNcq/yuhPb+clzb8MT6n86zLsPxqcbsmryrQ/QBftvZsM7b+eEtdY8Yrkv2SYCBIqt96/08jVP0sN37/SJlk8WYLbP83Sc4xs8cC/GoEOEJTY7L8aYd7YseDAP+VOMT2bmdG/aJtc2Rafh797btCMqKHfP/I61DNGz/Y/3Aik79OC6L+jLR8tE8TrP2Th/FTWJ+s/H6JkLfPw2b/gWYBgYs/hvw2YhBouh9m/1UID1XFj4b+SyUTWDlrjvyZWq/Rp/+q/xa/V6JuL8b/pbjstYHXgP0JXXeGt5rA/eI6mEdut8T+XnQmxTZWpv4YdMGNZJcQ/0NsXN1lzuD+JzpTwpiHhP7fzux2Py4a/BjulbXcd37/pUPowEM3kv5WoeLRt0sO/H7pnbsaj3D+enwsLfk3mv/QIf1FZE98/NBVaNm9v6b/Tj+CHAlflv7UqdVxfWOi/2Kiu9aotsj8+fVbRm3bKP7dDgyjSQLc/",
          "dtype": "f8"
         },
         "z": {
          "bdata": "c2tuVPci2T+YQB1bz7vcP0W+/jvFt9c/iIy17GEQyT+74K9z9DLIP9PopfJOd9C/HTVl4PLn3j+3JalZPonWP92Yioz/tda/KUhY2/Z95r8unMWTc0TSv+RTdfhzJeO/IJGz9vdK1T8edR4YcSriv499Pnu5Ucw/bY724YOr578HgziUoLTRv8kak3h70Xg/ZS1R69m61j/N7z8SSNbZP5j3MSguXLu/+Letg7QI1r8tLCF+Cejbvy3Qk8Z7Kty/aTd7RpLf4D8zto0zbrblP0Kg3VQC87k/r7FUQRlIwj8rPp9A1Tvmv481Xn1D09w/gdb/KFMcvb+TQxuTymXWPx6DW23XH9w/UTorG9/M5r8fa2JjNuTWP08k1PGHwds/xDzJYWBrxz+b9283WrrHv1ysVzHHMeg/faoR/pSs7D98QEkkrWKfv7DWqlsxmpk/u9aNY4jP4L8b/lvxfOjjv1ilJ+4/g90/5OtcO9F3uT/DqkxV27wHQJ7QdxNNO84/VDOLpKBSwL8n/EsDTOLnPzrQtIuJH66/ws12YVZW2r9nnMPfJWTFP3TMzACmL7k/aG7CNI4O2z8hcec/zOLVvzO7kk7XS9A/pMh8fMc53T/FqoLKEe/vP6EUOVEvnOK/+9R3qQj04z/QT5bI7k3Zv0y95sDXfMs/Qsc/J5pC3D8BT5pJm8W5v84HjU7BrsO//fX1WgBR0D/Nf0bduhulPwhyOIQm8rm/UonUMxV32r+sdRFaJDzZP+b996FrAde/wZKj+5rGU78Bgu5ME6nRP4d0HpigRbm/4h20WJ9A4j+8gpin76uXP/+T/QoVS7O/V9w4hSI08z/5aHCfD7XwP/CEwEkqhM+/wC4lpgwd4z9on2SDz+3kP0qGPyNwXNy/ZIvcQajB0b8C0Kj0PxDgP52w8BLoBd2/WScKzqLRwD9gzhXn6DKtP4kLNeCJ4d+/F6K4l5af6z/vQLt9tLPSP2TF/lvRisu/ZCznBt2go7/OCtcLxUOkPw6SM4MLctU/",
          "dtype": "f8"
         }
        },
        {
         "hovertemplate": "color=Obsessive-Compulsive and Related Disorders<br>x=%{x}<br>y=%{y}<br>z=%{z}<extra></extra>",
         "legendgroup": "Obsessive-Compulsive and Related Disorders",
         "marker": {
          "color": "#B6E880",
          "opacity": 0.7,
          "size": 4,
          "symbol": "circle"
         },
         "mode": "markers",
         "name": "Obsessive-Compulsive and Related Disorders",
         "scene": "scene",
         "showlegend": true,
         "type": "scatter3d",
         "x": {
          "bdata": "x18b/P0H1r+yiWz0V6LEP2a1fTYOh9I/0k/1QvtA0L8arkz5AtDvPwSrmcMcWeM/zz7njUCw2D9LjMPzcQy8v7WLgoIYrt+/+L+cwYchvD/jVoFo2N52v0tvc5RAPfO/JRlDoyZB8D+YWAuwMnnsv1QgJXk0ob0/rabChQt8vL/xZz8mdAl5P73GzXX/HN+/K+v9O9NE0b8DW23JPobVv65ymYyYxNU/cXZuXilw2b8n03kAhDLuP/99rb8htNw/cYSejjwt4L+3+zJz0Pblv0ClTkiOO+E/6fLkkrXDuT+Om9KrO9H1P2lmAvx/I+o/WXkdTnHP2j+D3oUSho7VP5AQZX2WDO0/xoj1JIY63D/Qmp1cr4qYPwu2tLtbmMQ/ZFN/WCppkr9avfacPwG0v8iSkn89yqU/rNH/vcynzz/z5yNzjle9v/fV7t7JoaS/PX5pFoI35T/1TFjMi4Skv7aqkti/mOg/VvGrzvcfub859cpO2qHEvxUX+amAnce/IaUb2yUuyz8m9uSeJQn6vygVaEkX++M/Sebfq1Hg27960z8+DVzRP90gWeCwD/I/wRngw9m1CsCfh57kRNzMv6qiTqftcNu/1EqCCZTK9z9HcYfyJN7gP66RH7DSVp0/jGG4ZJTh4D+ISzlwrNjlv9LLX6Xnb6A/EFdcX4THz7874l1jGcTGPxx/53kohrG/BC4ohWGT6T+7UA5VSB7pP68tYP+DZOE/8pN435FZ3D/XIFXRK63WPwk49Zzto9E/vdDkVLjxxT/QYS2F/CvjP25o8pe8INg/o6QghGGXx78KBCKqCQ3kP4svIHbrksW/8P8bagSA2z/wQOK7PgXjP+gL9yQfYq8/p8GZGRxXyj/r5FtO6T/2v0dqRSLlS/A/Aib5aG4V4T8=",
          "dtype": "f8"
         },
         "y": {
          "bdata": "mOeWy5VDyj8ZY2AE/fzgv0yLgFFspNK/KEAgbcG1uD/WGgGG5gLbvxTg2B0VI9S/tRgVaMU47r8sXmhMSngFQFQtJld3Hr8/S4lhGYN42D+WSe8wtszZP/cFbRVX+bG/CWXkkCzq2D/HxBwsUa3XvwLrGSCEuOo/aidcH2H5R7+EVVh0xj3gP8vL3lnTJd0/VSeJ6myV7z9IghFQ8fvuPx7QRRd9GJg/1vhJzktq3z/a2TUXWSHiPxUs1Mb4B6e/Q67OVgZv2z/JyMkEH+qpv3RBS5JX+OS/VteQ36985j/6DBkFoFDAv8ulh4kk07o/2R11hUweu786+YeWa+WWv58nbmrdK9w/Z5GvjEuvpj+PpAfAeIXTP4n07ufA3eS/0D8gXDhYy7/Hv1lqr7DYv+/2MmSq5us/fXTOPVKS278095EjK0NyPwui+8iTnMu/U6pvhvp5xr91dcl0eRzvP1m66LuXFte/MgWNUKAO0D8Yl7JL1eyoPw4KrqiTjaI/4sUCp9sc47+tcoVNjajjv4//TR2wC+M/Z5fXAMGr5z8x0jyPoGngP0TJFoeEy96/53MBdvCtv78miXUDMujkP3KBOkvzMtw/vWY/PMW/3r9qeQESxljEP2nl8E8T7+6/6OqdouEu2T/Qxs0YCXnXP1ZSFM0auci/HIcaFC50d78sfQxxe3e7v/ixLTAR89+/qvDgSasvw7/T/jRmaXntv6jq0lo0J+U/jcDeL2G82T8YEl6BfoLRv72hj80A8NK/ZqO4M3uH2z/DRy4AtIHgv8TTt7yK4Om/YXIxLNMA4D8sGHZQ+O+aP0xPGD7Sv/k/ehIbTiCJ0L/E8p6JStjrvz280294WGc/v2Z9CBpozT9MytMGDmDFPw4+ZbrxduO/1lY8Dfa4478=",
          "dtype": "f8"
         },
         "z": {
          "bdata": "zOh1nBv77L8DUxjOp0Ssv/Z8eNLZZMQ/IgOnrGpl479SFnX8BnTjP2wxfSGFztc/G4o/4AuD6D8gtcUdVR23P/dEX6+cnL0/15GVxIr94b/j8XpmtgXpv0HPeUyc8Is/QObTGx2amz+QxWemlLKuP6KR5Dtmws+/p2MnCsoD6L/NI0jVxErVv/Xec02cus0///iKknz10z/yKUJXzqXkvx1rO7hFnM6/Cv4qTBBM6r/0WBv//IvZP75t7tZTbrU/rth6Fp3ptr/2qFokeuPsP6u0XLpaKK8/rG1apq8B4L/NJ/ypWYHnPzp7XjImLr4/i2WPkq1q1L9AzzvtRtq8P1qgkcH05vA/ZHOvO+Tmz78TdoXhzwbkv7UxHjjR3eU/5JwMGOEt1L84bBhx876wv8UsiFU/3rO/W56CVBtE0D9rg3Rp7JXcv4/5uBbp3dG/9jmGFZA20T+mWgaW2LnDv7ZOtAUfFJs/T7tGYo5A278eNs6x4YPfv5+rLLgoDOG/VE/7FpDGyr+Xde0QleDnP+0J/ltJudA/pSvqDL1S4L+UNyQRrJS9v/tNEWHspMs/Vx+EwiX4yj8sukX3glziv0Ot4knhiOI/WPJwWXHc6D9si1lWahDDv44g01kt3Mm/YHoPFh8XyD/MRM7D/+LOP8DfjAycR6i/bADtZn/pyr8Y5uHDkcrnvwqk3RsmC5K/LeOvjMgU0r+EPE3fk87aP0/VYbjCZNm/eSdrP8FTxz9S7YvWmMGhP8uhjvw9QcU/5rLjkMm/2b/Y4NiZxqXvP7gNVcfr7rY/G+V1FLYR2L/L5xWeWYbeP6xqWfWKOuK/RbGyIu9NxL9YeFpZyQ/nP81MYMNMHtG/WRnGiiDkuL/AXCfaogniP+4W8+4zIew/epXI7Rv05z8=",
          "dtype": "f8"
         }
        },
        {
         "hovertemplate": "color=Dissociative Disorders<br>x=%{x}<br>y=%{y}<br>z=%{z}<extra></extra>",
         "legendgroup": "Dissociative Disorders",
         "marker": {
          "color": "#FF97FF",
          "opacity": 0.7,
          "size": 4,
          "symbol": "circle"
         },
         "mode": "markers",
         "name": "Dissociative Disorders",
         "scene": "scene",
         "showlegend": true,
         "type": "scatter3d",
         "x": {
          "bdata": "srMRg//R4z9+7ZBc4dHvP2hFRPZV5uk/1djBgVJx5j8yLJ35Ri/lP1FIDBTaXOE/ISkCag5mzj/ZDj790ufVPxgmv1VfBuk/+7Xpgl9A4D9k2ZpodJnkP7qpPj789t8/x4BrDk1O9D+fb2wrE7XmP/D/a9YlULG/t5CFT54F3T+Q5SmnwNHVv4IL8LWLu98/DNGBQse9wL9HKW3YG6XgP+M5m/REJf2/qJeScqE74j9bAfYQacCvv05SWdIUVtY/Q9iHfTlR6D9f1OUpkEnIvwYq7hWd1OE/1dCgE3D40D99D4Ob493iP4WS7pzLn6a/2bqWA32g8D8E/CmVHjDcP4A+Dei6POC/WAtpZSW86D/6yAOCIV7UP++J5SWSocw/42kVuIFh1T9ODPzTIJeDv5ZBuWlDcec/P7Y7nihaxL8qOOzAT7bpP+L/78EBKvS/rUQS+bPHtj8ETTfnhM3oP0LwHD0vls6/l8ctW7JOzj9GFlX0/PjfP3YuzpV049U/45bWrkBR1j/kU95ax67lPw==",
          "dtype": "f8"
         },
         "y": {
          "bdata": "I6C8LUZC6b9TLCkgL+Tnv2cwaYL8W8k//MizTlhslD+0Qdhvt7vov0odxeIIQee/Gf+3weZxzj9sbVWKmzbev5VjZoXTXd2/tKh0/S55zj+nSHiYQizbvxPor5Ryqu2/Jtgc9hFh5j+qs4HA7P/cv42LxTJqh8s/UvGX9D3k4L+u+lx/rdajv5t6FoZZUvK/tgSSJeOQwD8nk9xzesOTv1Y9gQPA+lc/mheUy2o4oD8KH/h2YrbsP26gY1LqQd+/RECL80/N4782JWzoxS/fPzQVQ03GD+e/ocoYM3cTxj/sz2B8GVXBv00PFTQ/b8A/LSt+fiVB5L9FYAMr2unaP0GKMp7U28g/YcPXCzUA67/xhCOM8iXUv3WzsmJM26e/vFf5J0cs8L/tQpyFfhngv1H4H/+NUqq/QKy/uvhZyb/gpSLcbQjlvxRbQwkryeQ/4J7uvHBqxj8EayJJRCbVvywJf1Aeqdi/E20PNo0yyb+Q74i0qku2vxTdKKkTFtU/PJcJFjmP4z9dPuiDVRa0vw==",
          "dtype": "f8"
         },
         "z": {
          "bdata": "oWWXzzPD4T+8w5BZL3DWPxz8YsRyEOG/CRaPDZIg1b+8h8ERuxTmP4iA/kUqvto/AY4UnaeV3b8AIepYFRrZv46Vb9uSBdM/A4VI6Asyyr9JRN3VsSvIP3aXOGLI3Kg/1alFus1E8D9QMFdFrL/Zv0Kp6/Ru2eO/1EGRN2Pj0b9sEinPMQjNv2xrZ2ZHYM4/MaGDAA0s1b8PVoIMY0K/v5Ev6zoVoOI/njJ9btdyqr+BB8zuT6HXvwqnw2eBotA/crROmgVXwL9WaYwrC0zTP2I1Tg3vAug/UWET7O9g3r+pHxYyHUPVv+v9crqsauG/YGvyQydB0j/yVvOGjlHOvx7P/3nwI8A/J4T8pT3L2j+1wK4QgojWv5B++M/T3sC/PifHemnMy78bt2JJm2/Xv8I9D7KjIuA/4pP0aw/11b/GUa+yzAy2Px5CxMH/O9k/pbtgUBuT07/nwG9wLUDwPyllR58xTOW/wkS5rXyL0L+E2UYQ5LO3v+5Hz5Dg1tq/1XxPOCgIyD8mjchQLXPLPw==",
          "dtype": "f8"
         }
        },
        {
         "hovertemplate": "color=Depressive Disorders<br>x=%{x}<br>y=%{y}<br>z=%{z}<extra></extra>",
         "legendgroup": "Depressive Disorders",
         "marker": {
          "color": "#FECB52",
          "opacity": 0.7,
          "size": 4,
          "symbol": "circle"
         },
         "mode": "markers",
         "name": "Depressive Disorders",
         "scene": "scene",
         "showlegend": true,
         "type": "scatter3d",
         "x": {
          "bdata": "EmJabCXkzz/Ag3hLXuTgv+7hcyuUKQvAlcVbCgK44T8W365yZk/Av0vI/x3xYnm/Fxpj29BLvT8P+qbmCk+ZP+WGwqduUOW/El4jHmId4b9Ce3ZgGn74vzqQIsiUZeI/CphYgcEaDMDoKMCVSxG0v+z84G4VS+Y/f+4+39XP3D9BkcHQRO/hP1Ar1T5ibce/E++fUgIa5T+tnT/VpKv1v+3OMrpygtg/PQb9DmAJ6L+3ibyEVXbqP44Wumk6Btm/hgWH0x8D2z8ZcIh/WUbgPy9Lskitz9A/pBoBJJpBAsAmqcOA81fjvzgearnq4fE/URpuAB0q0b/VMiz52y/lv+JhM4IJUuI/rKIxEue93j9edNmt2AfwPwR9OzEcbdY//F4b3k0GuT/YLrDWW4HTP9bLGfLCfdi/9VRDaQAz2j/bvRXCOWDaP82MN22oUPM/mKru3GtgAsCNIIOGWJHgP2rGbxE7MAHAIdXcPB3F2z/ZRpNEZR7gPyATsOT/r9C/UvXABmdo7j/oOYiKr8TDP8OfP/2HpwrAXPOcwmG31T+W4GrzDFfTP8yLUyQQ780/pYGjElXQCMB+GI5KAKHjP9QY7kt9pLk/vylgJKVTub8fBG/SygPNPyZBX8SFXNg/+icldpUE5T+glTiCsLbPv0/5OzYgiAnAV1gxvk7hzz+1LCpft+TKP497AXn+wOk/zIyF33PNzb8jF9fGk+0HwLlRaq05QeA/tVz2355BxT8go+zOmH/jvzrNhO0GPeq/bESAvbfAsr8hcB5KUJXdP912ykaeD/M/ayV6eEC0BMC+w8pQV9LoP76naZnFCeM/4nGCjQb+47919GRWRBbvP8Yk8uwGc88/65gyLd164z8ivssVG7THP7xJQxwCnN4/eJvlsVdA4T85rzEoCF3PP7uTB+jWi9k/a0M7F4Ey2j/SoieX2xzYP1QDKZVk8de/T6C8lnoU8T8maQim1tjtP8oAvPOL+uo/RX0pZM3j7z/YuNbSE2joP4nccLb/R+Y//FRmzfE0uz8=",
          "dtype": "f8"
         },
         "y": {
          "bdata": "XiLAxYKhxz/NM0Ubn+zHPyLqzDzeCNW/KtYHVj+R4T81eeRltWrSPxVTWdJUhPc/5Pv8WcJMqL8Tk31LDYPlP4PlyqGWJ+G/zUJGnYTn6z9M+xa/HZe9vwJNlm7Q1OE/zfmT8G0+6L8JVZ2+/jj0P2zFL8jvyOi//9oARl9Y1r89awaoqtTbv2fWzluLStM/Ga/TbKN/4r8iNPARPayTP/llGnWroO2/iuxlrqx/xz/B+eg3pjvgv9RibgS3R/U/275u43mOyb8siraPX33tv5YL+C1SXOe/55MrnCVK7j9UlA78a7riP6ZoXZqQXfC/cIPdlypa1z/8Aq+Zdbi8vye+E38gCeG/0KS6NF4C4j9SZ6oCPKfsv644Nr3SpvG/6Ft9MMwr4T+9j3INziLhP5Lyg0cmweO/lma2AXIiDUCcgWjOeBrpv/F1qSj/CvA/AWpwMEjOvL/0mehY9rrcP0psET3Jy+K/Qyqua6rh5L/raFLax0zjPy8/9q5qF7c/6u1SE4XD2L+OjVrB47vZPyKK15YqF+S/o2FF95ws4D/kIjjF9B1iv7sa4BFFJNe/Pw/cvoXY5L+PbECgJ9Lhv/GhvA1P0a6/2gB1KGgQyb8IK+7k52TPP5+4ShnnUbm/yeyzrBeC5L9lcmyqFs7hP82GeusN+8O/XpIJqj5C8b/VheY97N/nP7/KRrrb0Nq/Mnn2sJzq9D/u/E6Wkf3mv+FsBrPY2bM/VvASqM6b3T91CLMIRlngv/EjA3EcSuK/AqRUuxvV8D9AIOHVTOvAv12bE93/J+q/Nhn7uuhU478AGxkPuTDav5M+JKNXndu/jZbRfLka8j/JgoFrzIbcvzJy1A4NyeA/Mw0/GkCu8L9KNP1l4BjiP7EMLxHiT9C/tbpt2nGrvb/EtvMX4SHlP3cImNm6Qew/oWmfSkmXwL9Ly3LB1irDP9rtNBoHi9E/ox0vhLbx6L+8Nls/eMDlv9/22nVncOa/LNtaEbXB2r9JEjfs65TTP1Ju/IPAwd+/eLaW+qfRvT8=",
          "dtype": "f8"
         },
         "z": {
          "bdata": "1dnA9qUg2L9UiFUGylflvwqcO+lcGaC/bkFZ59CM5T9X0ooxdILUP8qC1BeFIdC/nwls7vuT4b9M0TusEirev27Ful/cpcI/Sss0eRHI6b+Q74tmj/jXP3TbcU3tAtm/rTOwab/82j9z1Vog3pTav3Lv/AWUk7S/Gc/51pUt3r9A/SyfwhXRv7AariSGGOW/BCUa9Hjc0z+ZXao0O0jxv3OOaO579uE/0kGkd0C5oj+aot5OOK7hP/TsevtOG8S/MMuUt8++2r/lNxSNBfvRP+Hw1wO/Z8G/2bpGI1rguj9BowiGTlWFv1y8omJ7mrg/XGAjTWHzzL/GQCTUgFvTP+N/a+tSRdO/Lyx/fShZzr+uMRqtoxTfPz8fHcnjecA/KXbaYhVY3r988S/Y89fUP6gADLMaPsU/f4vxb0TiCUAcRFY9SrPmP5J93l8dlus/001btQdG0D/hyJuqP+fHP+NQdHgz99U/LYlLms9u1b9OVI9eqh/RP7wPl9NwKNg/b36nCHHO3D+CmpJuDPzJP7Z7qM10hNQ/Yf+hZZpggb8yQWEKi7XPv1eSVVSV8Mm/YBMKg7lW2j9UjDza+yTYPyKDSUQM39S/NAIyEk0WyL+DiQgjKYrhv63k6WpgONA/mBAEBAng2L/rLSCkEpnev0nQ+08dQt0/7DAPpZsF1T+7Kc5rXbq4vxqkNiqlne4/99wCKlXL6b+mq+wuPjTUP1x1O4BJdsy/jYSQAFt35L/aVB1YeJ7hPzC7kCMr1dI/a5+gCrE937+3CgndfsPWv8LPs7bQf+Q/sDWyNQkg3j8fMxwMpebPv0r5Jiu6OtK/1IMi83jjtz+Fk1QwqbuWv2s92vJRAOK/53WXajER4j8JasWsgsbRvyqR8DFdv9+/yFi5Fj+Dy7+tQ+dGHSDav/vH4wq7Cbs/sQdXeVxZxr9hnVusEn3Fv8ZH62NG9Oq/UwsiGc5aQj9AmDDOpsTSv4qWmWo4rco/pz+DIdjIkT+b+u/Er7fZvwvCnr4BatK/u4HxzVXrwb8=",
          "dtype": "f8"
         }
        },
        {
         "hovertemplate": "color=Schizophrenia Spectrum and Other Psychotic Disorders<br>x=%{x}<br>y=%{y}<br>z=%{z}<extra></extra>",
         "legendgroup": "Schizophrenia Spectrum and Other Psychotic Disorders",
         "marker": {
          "color": "#636efa",
          "opacity": 0.7,
          "size": 4,
          "symbol": "circle"
         },
         "mode": "markers",
         "name": "Schizophrenia Spectrum and Other Psychotic Disorders",
         "scene": "scene",
         "showlegend": true,
         "type": "scatter3d",
         "x": {
          "bdata": "Bu2GbjLuuz8SzIe22NbpP0E8eEaWFeQ/aYdKRw0o9D+4FQVpxq3yP5S1VbP7F9s/IYN7i3U4xj9uhHKx1rPXPxDHZY502uc/zWh8C0uq3z/zT8yY1wzaP2JLPthkOOY/9cvOnfpcwD8tn9wMVL7hPx4W5CPTnMY/Kv6S8Maqqz9O+UkbYavmP9za83idzeE/S0s9fCEA7L9jZI0Ka3/EPzAacuIdsP6/3I2HPqaa3j+XGBbReD3qP+S9FQvVxt4/aRifmSAI0T80tcTMQY3ZP397/trt2eg/aHzrutBE5T/E8zRtNWTKP9k0+eM/JN8/OWbL9q0s2j+ncglCHbHiP/2lS7uj5uk/wi/xrcvE8r+6CbdIvT7pP+AQjslpqeE/J5Yv2FxPwz/GwbrqHvfRP0aQf500L+s/aU0xlwCNw78zk/jhNS7oP6/8/ww2tNE/EzZoXTZ02D8Y2CKsxkDoP+P7urNNtuE/R4ee2SIz0T+d1DNP69HSP35g+ScQ2OM/88OL6NgGxz9qTIg3u8/cP88D5+ONpNk/tT1z8juB5T/tVWTrT5PiP2+JHyZZNNc//L1acO708z8Aa8gLCUruPw4m61zmdd8/NdSqLkOq6T++epuRcuPYv6QZbSix6+M/cnf2ngFT4j8REm1lQXPmPwcGJMggBuA/BcvtOVwh8D/cMWagDPbhPxPCwsgsLu4/wD35XqGG3L8xNo3nPSWZv8GPEGIT+QPAcROw2FeDBMCZW6q888zjP1brrEEtZeA/ph9ar+r87z+W9SKx3lvkP43EAACfsMQ/hzBarUdmwT9bJor6I//rPw+W30qxCwbAKz6u8BbR7D83eo04Mf7NP0MIarSWq9M/HCy4GYQW5z8st1wv1ZaoP7Z5nQap2PM/fghmoZbirz8=",
          "dtype": "f8"
         },
         "y": {
          "bdata": "P+YzlUl04b9b1MVFCg/uv2zYbWoWJOI/wupq+0pa5L/2bnnAivHpv2/TxGgVIck/bxsEs3JeqL+47ec4YMDnPw2Nwh470sW/JUTF/H4W77/lcFjZQU3gP7qK9FOl+bo/VtrZ3PFW6z/woKHnhiPBPye5S5cFReM//b0wIl71/D8+fXV2E/TSvxoTt6+Se9i/QQ8fpIXE6D+jDXwowB/jP6t7pdBXR8m/WIwM7KZH1r8BJ0hS0RfQP0G4BDF1aOI/sShL8QJiyr+6ErBfj9/IP6+L56QHE94/d//UTdiQ5b9zDrMJ4OPlPw3hJ7MRAOq/N/JQNeHywT9sWGuCeyjWv5c2Nz/t4Mw/v3XjpS/m5b9mJsp8OWXyv+qXffLIu+U/jJE8Y+ke4b9xTW7TDbHjP8i5qd+zlOO/4KI3w+p5x7/2RnRsNlPhP1I4Ks4mT/I/S3qrU0oi1L9YTstCfhPSP/FMWB+9tcS/zKHg7AbQC0BRkw6Sx8fjP4Og7DegLp4/lNwFrZ1P3D922lHxk2yuv5ShHCyMEPo/U0RKekEoyD9BQ/q7Qhrmv3gBj/QN6sa/dR602OcXu78vQ7y3NGy8v5VuQTsnLto/Z9fQr12Y1z9RpegC3vTaP5Ckbl8zj2a/VO+ZrzWMsj+cjR4MP/H0P42hCVDj4fC/mgFtIGkD5r8Hu+/W4v/BPxMNX+CH0sK/AdIrnkxt4z9kKU5jYzfNPzjsa8eFas6/jtWyhxipsz+lm+F+5BXov32UR0kD3sw/IeJ1Sa37zL9XMyAms2rOPzoK0Wusle8/t43dAYTm9T9zu/XhzQTov1GoQqpShb+/PLDoD+ia1D/JdEQemzD6PxwFWLt7G9I//k9NRjRw2T9EBkBTO+/ov0YPLjBEtOu/NuG2YRTVyD8=",
          "dtype": "f8"
         },
         "z": {
          "bdata": "qnTUQ1KF2b99VFjt4/zjP/mJCnSOqsU/CEjv+R/85j+2E3W1QA7fP9dLP5m+H9O/fhmbUG/EuD9N2ehmeGnjv6oWiTUaxMk/pEW9WICZyr8/Qm2QfCa4v8Ur9BOsdOM/kdWThPcc0r+XZfc9xdjhv4g8+2NqV+K/ZqfcLaoDw78PGHN3xsvIP2nKtBJE2+c/8ArTjiVGv798lKGXrMGzv3c4UPrUW7e/hmwkTjhPzr/KEfNDKGnoP1jsWMajycS/L5R0sqX11L+KNoPjkK/kv0N0Utke8LA/xh5jW7zNhT8khVow50zJP4qCHutp8Mo/80XOIVWpxL9GHJfapn6iv72uke+TlNK/RKhI1yN/6T8FCVff0QHJvzWFUHjaQOa/DPFlX6JB0b8H4lP08ebZPzKFyNjxEdQ/b1yxtg+tor8yVrhc56XWv3fSTHnPT9y/kqxQQQF1qL9QFcJR2a+TvxwBQrmfEda/D7LqtEIMCUDMGK1qyya8v7S4IiTfT+C/W1d4ls7nxD/1J4GDlZ3jv0KPlv+lCpO/Y259x0mEwb8FCgTymOzAv5GNCKUV77+/fsgGNzXc8z/Tw7c5slCFP7416McRCrc/MKN/3j4jy79PEXLZJADJvyTbqvlzCMO/4JRXAE5pzb/sCMJHvu7gvzTZ6gxdHdi/9Ek7Izv5rj+xhefhZhPDv9phxaG7ToI/E3Z9KfINpT9cU/kzCRXXv+pWJEXyEcY/1O4wN8jq1T/49KxK7v/Tv4ZxHv48Bq+/iNVtXlD5079O3gatnGmYP2u0Pc+Zds+/34v16eMS4r+3O8WjUlvXP73FI1weA9E/otwrOpFj7T+sC3Dkte+Ov0h2F+8WkNG/gqoiXqawz7+rafBoHcDWv4B2DMC48b0/IL9VQ0F93L8=",
          "dtype": "f8"
         }
        },
        {
         "hovertemplate": "color=Neurocognitive Disorders<br>x=%{x}<br>y=%{y}<br>z=%{z}<extra></extra>",
         "legendgroup": "Neurocognitive Disorders",
         "marker": {
          "color": "#EF553B",
          "opacity": 0.7,
          "size": 4,
          "symbol": "circle"
         },
         "mode": "markers",
         "name": "Neurocognitive Disorders",
         "scene": "scene",
         "showlegend": true,
         "type": "scatter3d",
         "x": {
          "bdata": "oUpIXq7J0z9ktDKuRnDaP7n4/b3r+t+/KiAoAr4a4D+ln/nGP2nWP+Z531gGzeQ/AXpl0pGGvD+vdWbH2g7MPzu6X7gCQMI/jcaGxgD3zb8pXQp6glzgP8CuCUMMedK/pb/V69bo5T+XFesgwMjBvzXXbKJKTdc/YjscrN1C378/cmCXn5b2v5RMfVMsvuO/ZBOmIwcn3D954c2t8wHTP9MD2ZnOtPO/lSBNnBs0zj/PtLbLVVXVP4lK+44JMeQ/ehyBZ/Cq5j/KeXTHP8Ocv2z+JbK6zt0/iz+1j8ab0T+0GpN7BTHnPzc42kW6z86/2xqyT+wI0j/v+EZgcT+vPxReR+87pes/FK/35N6iy7/eeHNqfmnbv6i4lHhGu8k/k9/8WziN4L9tJ7OvNCLXP6yQwm0BzOk/g5ySW2L12T9yJupoTfDIvxXq0QrjztA/Y8mUiaik2D9gukbsYLXNP3D9vetVIMc/5sCtCIZh5z/ljU2+GvXyv7IMWwMsIgLApmNqTdif0T/AbDo7/zboP4phmISlhqq/EMXdGoLP4D9C1HNxed/Vv/UWI157VOY/yg9wnK334L/w6k2EyNbnP/Dkm4xjuMk/8HfCi61s478GAVNEnMneP0xc9fzRnrg/6Ay0q6vxrb8vDDlRlRbOP1frrA7c3Mi/d5EyjF1a4z8+1AfokCXXv1gRBHHyYuQ/sPXX5Hr00z+vydlik9HTP/eY6poYxOo/GXRKUqeD4b/FHoiIfTPdP0gPxlu+V98/XOMwkVwO7j+KO7J/HeHAvz4VH2NAl94/ig5GA7sP1D9MKELPWROov+NhhB0RJd4/PQF/Gv+U1D8m/VcQldDeP11OotvOsLS/SajOtP5D3D+mjBUxWXiCvwUQq8XHkOA/GV9N5j8+xD/yHf7f1eznP5D1FdMGv9Y/a3IstUnr0T+LMcRyTdXrP0xBEt7bb6Y/h0EuiJt27z/onuzjrbyAv8M4nMcUYcS/nNIjlIVF4z/xHgEyJxbovxxPaTpynNI/RDH9BTk/BcB1qbzvTDnSP6lOIN5QTe8/EmtEyKJZ6b9rJPVEH1LGv2Unt6yNs/A/ZQevtSRO4T9spthUEJnrP+cb3HyvF9g/07UfE2Nkuz8U50sgwNbqP4uf+gAGEuU/LpmD6S0bxz//hNzuSuXbPy81O2elsfO/VnnRXOTd4j9pXN3hEdvEv96twFz9GO4/mQoGIIxz37/I1+NDTCvwP6sHuI+GYN2/2j3sniwUzj+W/zxjTKvRv9TP9Uf9Kd8/F6iJla6brT8R5zr5P6HUv5IBxXjJrsc/hObsByl4yr+vRG6ytSvgP3BpQvrfBMO/0xfOmfr15z/6OvlweRzZP8E3CwG/DMk/bTLGSIxE3L8iyiUZp7Tsv8FZT3v06tU/OV1xKD5v2j/+NCf/uNfDv3q6RYsL3de/aL6R49o64z9Ajj2H0Eziv+EuveVZ4QLAJ5K6Gyv7rD81wvAGWU4GwPbzOaajL/M/Tjq5apNF2D/8u8z9amndP1KeILgKer8/w/xuMgxQ3L+xi2BPGIywP/tjqlNUnfS/AcCrzGHP5T+oPqiJhSCbP8A4Z3/N5/m/49JlSESu3T9yeUi3ydJrv9nYElQZGQHA/am6NJWqzz/yW406majWPw3+CcRP5fA/Y1oKAToWvL/A3Hrrekvgv9gA5JD/dsS/30fa8DaI4T971wtEtCi4P1kR5pqRP+m/MzUFLSCtvz/ouPlLlSjmPzZRInVqRfW/tCuEKJxz5r/D+FlP9if2Pw==",
          "dtype": "f8"
         },
         "y": {
          "bdata": "dKVJpiId5b/DExWONpW2v5TcN7AgMvU/meiN706l07/6zEahKL3iv9tajvw33Oi/c2auFZ2Q8D95YVhK5YvrP+xntoxgpMu/4Mba1vzagz/j3jx5FrG3vw72jKUqXcA/NxY21vUO2z/tYZ7aYCsSQJS1t4gV9du//aA3MxzXzb/sqrXV49/wP+Nl8GcdeO0/xD3VgUSx2b+BMfXMKCPZv7p628fR17w/SByxpOOt6T+pZWniETnlv27mDsQPMuy/UQjr8uGz1r/2hWGKVwrYv7BRXTGPF88/pfqaIL1V5r89JYdIpTrqP9lNZE3fGNw/cCc3qc3wzD86PEnHtO/DP/adSgyLffI/fYyB4HGW0D9LZY+FKYv2P4b6o2pubOC/9qC1f77PxT9MVNIw+trFPxXWeoxmELi/eFKirXzJzr/0VhoGEQnEv1RMTq3LgfE/nVSOA8Z2mD/eMpRF3HG9P2atmMvEieS/vlPIsSqjr7+N9H5hJOrHv3jtRnryPq+/8+0nPBqr4T9hwWq52Ufev+rHChauE+W/g/6aVLxk+z9+ztZGHrqxP3fFrMJoGfY/12mjvU5P9D+VZnwhZnd7v29w/sSYkPM/eko9Jojoo787mj5D9Cqjv9FhVH2Aic8/ZTR66DhLsD8IR9qp4Fjhvx69h98/Bvw/sG3BOGPy9z82/fyb4ZHkP1/6xmfXca4/6rQ0+S3S4T+yKUQFCeflP9NToNynheA/zPNQCaB7wT/cVQkIgR0PQDNGWUhPucc/5oB3ZM+kt7/spigEzeX7P7PBjVQGtfY/qMc6zatjzj88dN6PPH4BQOKLih2SpNy/7is6aJsh0z/I8p4VWaKrv3SQB5094PE/am8FvFYp8D9rCn2awyX3P6ECRDj1F+S/DSesNpV347+Eea6eTB7pv9QkNX3UJeO/CAdczjoL2r9GxMKmu/eWv3Q5LdCFGdG/CELa5omg5r/2i3fnWgnLv0Er1W0ycLm/zG9pti7g3r/vtEGIT8jePxM8CBQSvLq/osHIrKaDsL8pqthhvkLjv2/RNeoshti/mG+iVxoClT/96qhtB8b9PzKaqQZ2yMa/7Nu8XSz3uj9efi9JDSvhP3RCjxQZY9M/hUVGM0PU2z/TglSpfSnNv61T+fEfsuI/NNZGw+an0j+mrXzd9WnqP1VNHCHq5eY/nfg0DWJk6L+bVM5/dRXjP23kmrnFhcS/nqzMA+qgvj+z5vYUm+btv6/C5jkn/fc/aTYf4Mmqsr9s7ybktV7MPwhaNtOo39E/OivAL3Pc8j9tScKvKGr9P7F7Z4NWqdi//EVNc+pDxD8mH48N1vDtv98twY6Qb+Y/901N7fBH7785TwmGAb3AP6vJoIs6q9c/GDdH1xFP0T/0tnvKO9zlPwX93tIQnuS/Dlz+YaCm9z/V2+5Cfm6fv81GxyQnuYa/0TT3ldG4678cW9msgXjiP60coSHle9c/deyMUieCv7/f/kA4PYnOvyUxMJfNRcg/7AIqVM472z/5grjL5sHxP5u/cCCZHcM/I5zyCrK/4T/4MNEHVZLVv5q6fDwkE7k/Fg1uEBJP6r8LoLzaTibWP/L5UJ4fMsA/CKmBr7kQ3b9sYFpIXhH8P1Wpwl7KdsW/aZQEObR8zj/RnuvVdeTZPxqkHG3bVu+/q1p8HJ5evb/E+g3p4DjuP8hV6u8qtABALKOz4zNK8L9VBYqj8EjoP7FrD5RVMfA/Le9AnzGdzD+Cn14G05Xcv+ftxYeqD8g/8U4h6bSd6D/n9ApTd/3ivw==",
          "dtype": "f8"
         },
         "z": {
          "bdata": "oX8C93xpsb+fSLJrtbClvwYx57UxLeC/iF9a3vfSy7/xQV+oJ0+1v4+Z/MWde7m/yEOPIXnxwz/ampwf4vDHv3OKWQq3sMm/GlX2toQ74r+Foi64/bXXvw7cXhiQte6/ss/bbVfB0T/mP3W9L6/9PxjmKPGKOZ+/pasvu3z0rT/4RKbvS8OWvye0hQgue8M/m2VC5kud1b8zrOXsam/fv10eVLTas9K/bptUrrHx2L+RzLYbNnHSv5dk2yR8aIs/rQ3sKe0roz+w2dDGwjLmv/F8VVlZada/VzH+Ab1tzj8kxZLjiN3KP+JcdmyeYW0/pGNJLC1N2L/UAnxO9PXnv71mWI8c1+I/G8h1V0v85L90IOL3mFvev3CG8gyxc9G/LkFsHGH+nz+t4CVDDEfcv1ArlUx+ZdY/NYdNUAsA4L+pdxTfZ87bvwQRXybldcc/rY844kmq1L9gKdRwXdbgv/fPqM446Kk/4W1xlMEWxr+z73NkQTLRvyLzwWCx0au/JJBs0Zg2lL9Cu5xE7PKyv34gl2xNGNO/5b6WVssmub/eJfWaLGbqvwM5Vy+1V/I/xun/p0Ih6r/AncS47uLXPz+jXrCj0tm/5hEVJb2D3r8jSwqd3nDQv+wtKWXzZ+S/v31opqiY37+p6KKVAIG6P+vZHhnBuNy/djFCLUi70T805xjbm13Qv7KcNvn1C9i/LkwhXzBzwT8v8O8s6mDev6e1bvOxSpu/lzlNILDm27+9JWA55UINQJorbjJ4T76/Hzu7jBRc5z8HTmNYUaKfv1bXdaidpNW/6krgsg5X2D9+ZxxVy7bEv7fbf73Vh76/9sSeT3uotj+lG54y1Oizv9HiKJSxjN0/Vtsb4/gr5z8CvYMVc/jovy5sdyyZlHE/bYuzgkhe0b+rJKSuWQzHv0DTD12LKcK/nay5yBN217/KrKLsGU6pv9OxQq44Zd8/uMzG1FL7xD+jyc+5GOPevxWWN4RE550/T8vwLiuhwb96nKAhZjCyP8QI4PiIvM+/3OC5fNYlzT8bXcXwzk/bP9SaRLie2tM/CCcHvVstur/qM0zEuO/gv/AUn9eQwnO/liWxTzgm4r/oTo76rF/vP3yMadDWUNC/DaNrX3nw5b+GbsNFsQ67P0LoFySD0r6/xzE/otbuwL8iNK2wNDv4Pwi3I9YrtdG/H+KG4xD0yL/3yMzkCP3kv1oQGAZMR6a/duYIAJuZrj9d+qxflneeP/nVMsAHxeG/58BSSFv/wz8WLBnl6J/TP09Wij4JFcu/TSiYFd/mwr/c4xiEJYPev6e/nzvYdrq/Ev16BcCk4b/tdzohENbJP7x6SYp8X+W/iqkw70sXsj93sFTDJNnFvxPJH1wI97+/M4bp/7/d2L+1v3HuhpbCvxIyKf3RS8a/oGStymMz9z+vIrPNrBbbv+QAefPu2Oa/smfpfwj61b/JhuC6BmLQv7JC0zWh1Na/ozNbfYNjwb9xsGCWK9Szv5VXKt/9JOc/wFhUYzSb2T+UVMGVtge+P4Keu8HtH9y/WJni717Y6L+mmIEw0QPhvxtt1jg107i/qvXE51gw0b/uAprICobhv9aaw+b6kMQ/n/Ax7mMgjb/pvyD624zOv/QwW97Cs8Q/Fey05jWp4L8FTzuBgUHCv3VPvRNd440/HqdM3jNd0j981azGic3SP1C3UetlVti/iFuX3bYL3j/MYWMHuUvmv1u/264Tjr4/scK7HC094L/V0beh1iTLvx43hDK8br6/TG2YYHOsyL8YKgbjnETsPw==",
          "dtype": "f8"
         }
        },
        {
         "hovertemplate": "color=Disruptive, Impulse-Control, and Conduct Disorders<br>x=%{x}<br>y=%{y}<br>z=%{z}<extra></extra>",
         "legendgroup": "Disruptive, Impulse-Control, and Conduct Disorders",
         "marker": {
          "color": "#00cc96",
          "opacity": 0.7,
          "size": 4,
          "symbol": "circle"
         },
         "mode": "markers",
         "name": "Disruptive, Impulse-Control, and Conduct Disorders",
         "scene": "scene",
         "showlegend": true,
         "type": "scatter3d",
         "x": {
          "bdata": "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",
          "dtype": "f8"
         },
         "y": {
          "bdata": "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",
          "dtype": "f8"
         },
         "z": {
          "bdata": "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",
          "dtype": "f8"
         }
        },
        {
         "hovertemplate": "color=Paraphilic Disorders<br>x=%{x}<br>y=%{y}<br>z=%{z}<extra></extra>",
         "legendgroup": "Paraphilic Disorders",
         "marker": {
          "color": "#ab63fa",
          "opacity": 0.7,
          "size": 4,
          "symbol": "circle"
         },
         "mode": "markers",
         "name": "Paraphilic Disorders",
         "scene": "scene",
         "showlegend": true,
         "type": "scatter3d",
         "x": {
          "bdata": "0i6ClVwA4z+jFmukgBu4v4evKAl8b+K/HqpKSX184D8UqBB60ITOP48/KYUbXOY/jlVFnmtq4z8TEVA5z4LjP3MjC3JThd8/rnx71EMUvr978mHe2gjhP1wrUgcJ2uk/z8J7qx5u4j+C2zN65rfRP7elTVC8LPO/T9dIGuuV5z9oj6cmLLHNv32FdDSTjOE/w32g4vDh4D+cQFsqqm3Zv2RzD0Shw9c/9spICP4N3z8y6Sl6qUrhv1tfNlNyocW/eO7RaSVq4j/d2tP+YKrJvwx0YtbTTb0/TVBsu21Y6D8yJQbQE1rRv++0A5bGMOE/Oq3vbrGR1r8VfgdDyObvP4cDT7qw+u0/ZD/a/uMW0z8TPKVZrmnWPzB7gVRz19a/AH7d/0Lh6D/SA05mplfjPw4ObCitfeU/Mv66bGVU5T+vA2mVW4/gv0pS7QCiAb4/FW58TT1Z2j+H8RaB+G7Kv15XpFhTGOo/j7V5r+4zur+jVTTF4gWOPwmacKGEUuy/Rd8GyyaE5j/9B3EMZXHrPzWW7xMNAeS/DBwGmfxF0T+7cNnWypTQv5hfkNtOpOo/cS2z/4tqzz8=",
          "dtype": "f8"
         },
         "y": {
          "bdata": "qWE+CKtk1r9dMznCeSDfPwIxv2IE/vA/VyWoqZKJyz+hbm8LPsagPxoTZ0d+rrk/87zoF98Cw7+pXtV7vH68P8GttCBnoNY/DyWu9nkN9z8l3DY6y4TnvyrbP90gt+y/mw2CtIXr1r/yP63yIsPEv1ClEE1nTvI/YiIPIzYZ579+3L21XqrPP+IPV6pfxfE/0VVMNtzs5j+MbkCF8xHSP5RWFdtw59M/7+6YKl323z9eLRCUAKXeP5U4sW/eeaA/KxoziD+43L++ZOUuTmy1PxJz9PPOyt2/Zx1Y2jKFib/KxnbeUPbuP4DcWlZY4cO/lOCiKkEI5D/iQlWlZCjbv5y1EThE34i/rOSGD4ue4L/TcfomHQ7tP5pR0jj3bdc/PHovpPAtzD8DzUYlb3jhvwGm5KTXMuS/6FWnNZUqx7+kB/BYUgzkPwNna1q+asu/IWIfIqtM0r9lyky0/jLmP62jH9AWweA/WT1CX2JA7L+3cbQPG1LSP4pk+xp+S/E/TkD47PxM4b/1CCMeUuXfv+Hrtu608fA/E4+qhPTnvj/MYDPFA6vcPzo7f1Sa1d+/jhDntKmZ4D8=",
          "dtype": "f8"
         },
         "z": {
          "bdata": "gWN3tMXf4T8z/YVCHcTkv2csBouDsOq/0Ccpdu+Xtb98jNioRSDJv8jPWRaJYdQ/8X5a4w+txr+9rdLq3cTUPwlcQOeQ6+C/Bld60/Ry67+VwWQdVGfpPyS6urX43OA/dhHiJda52z+3L5XMzXvVv3DqZcYACK8/dC7YhNXR1D8DPpkjWenYv8SV9T9kUdW/651SIVllxT+6U0ecbh7ZP1m56HIWS9C/d30XZgFpwb8wA9cnYfDKv9SC0ZCTkuG/4OoRgcaW3D8H7ADIGDHevxCwK2i2C9S/ewvZp09Hz78A9LGqH0XAP9+7fsQNc6M/JsvAYTBFsD8/FtXFhlzYP9fGj7RA3Mw/cu8gDOJOxb8Pjnh/gmDTv8uT1DTSrGM/nTa8ItVgrr996r0WsrPbP6xHpdubOdc/qAh8CKSC1D/NeT1KpIXUv73K94ucPsK/MfeWZ3FAwz8qx2NHKAvjv1DPSTJGWeY/87lwOjkomr96+7RqkYPgv0qrg6rQvdq/nV0AbScP1T9al2vKHQ/bP/CVfMxGd8i/qUxKmF/g1b9AmIl5zuDov7sntIthob4/aEz1lAcL578=",
          "dtype": "f8"
         }
        },
        {
         "hovertemplate": "color=Breathing-Related Sleep Disorders<br>x=%{x}<br>y=%{y}<br>z=%{z}<extra></extra>",
         "legendgroup": "Breathing-Related Sleep Disorders",
         "marker": {
          "color": "#FFA15A",
          "opacity": 0.7,
          "size": 4,
          "symbol": "circle"
         },
         "mode": "markers",
         "name": "Breathing-Related Sleep Disorders",
         "scene": "scene",
         "showlegend": true,
         "type": "scatter3d",
         "x": {
          "bdata": "1LXThQuO4D/bln/qcI21PzU2aolRM8K/om6t0TAc1z+3UNHyiu7CP5b5nKit6NE/QcgQyxmkxD8VXlX25JPOP+gvtaElUuG/3+ylVBBU7b987qZP2ArNv79kshjdzr8/UyMAu2xZzb+9WIt6DyO0vxsiGJeyhs2/2YcYBGuJ0z/dG1QL/KreP49TklifzOA/4E8HN0Fu6T8qIaXnmlbHP8Rnfc0aANu/N7WOo/wT5T/+ApDVe0TFP88pNJURZqq/CQ9Gwav+wr85aDzcK8DiP1A2e2W6fuY/u3UXvNRd5r9H12zu08vsv2O5Nuamzse/vs1iiTOr+L8nJ1WvrL3sv5swHL0gub0/x4hIXxfc2T/wommQBeffv58i9SgxOLo/OmuCB9YD4b9veBkhHQntvznXWh/OqJI/aAcBswoexb+KXZFkp5Dqv6TmX8O7ncA/yP5S/qfx4j/6wlTwH0DVP+UfWhumE7Q/FPSUUWE75T9uUTTdv5HbP9PLbNCVkeC/OAHRQ7IVtT8JsZWJzGbOv4QKpETPf9U/jyUJTqbF5j9/Dsh0U0jEv1Cv/4HZvuU/E8fRtEpP4j8=",
          "dtype": "f8"
         },
         "y": {
          "bdata": "L68clzHK4b9gHsM5WhmiP/f4WncgP+w/yadjmSnU6L8jv0x+VZzxP4wIbsZg1d4/oRw82VAcuj/n/XdJmmbQPyyUIkcbb+4/k6aYFXFm+T9N6rZ3UA3YP306edEYcdA/eodxreOJyj9KHtNoZQHfv5ZidpROIPA/0bWE1YKY0L+VlpqPOJp3v/XLzfT1PpS/zNDD95/Qdr8jEc5szXflv2ChnzNU1NA/5pySUy3J3b8Qk7mxHNfjP2XYhFcmf9i/qavLA3jKyr8vpS5BR3njv0BU3dDUksI/IIyiMKVs3j/S+LRNagXyP+oya6pituY/dZ4dgn6T6D/NesYmawrSPx+P9OlonNW/hiC18w+l3L9Npky48xvdP461invea9C/VPOH8WOw1T8WJHmrYs3aP7zV8QZpatE/ONkd368m9T+upLlO+j/gPzlipknLBOE/l5m22mNXlb8kEwI1Y4akP6EftiWU3ug/Qh5gAg0e2L+6SN2j2HWev2HdMYKcA98/pn3O1UxpoD++qK0+HG+mP5wtrJAmDeC/+tXwd1gK4j9NGsxgz5OhP3tng6E0Z9w/G8OuDc1OZL8=",
          "dtype": "f8"
         },
         "z": {
          "bdata": "vVEDqkBMtL+IYjTKu4Hiv6CfeH3wUdW/yyXSC+6Azr/0Qs7Ps6TTv3WFsp7bMN2/pk+lnPzA478BmXOJ/MrLvyYMgwkJS9q/6dYzNiWA1L+YZjCKc+rpv0NzRiCG0OC/wXS5yKKDs7+O6EJz5Pvfv5jJwDtPsue/7sHjBBC2wb/CeNhPXBCeP3k7POd1ltK/IRhubCsFwr9SpJKZdmTev/2uqvQH4+i/6EJU8SMBrb/4akZg28znv0VNw7RaGNC/5S2rbyLK4r+OEUq92gPKvxgcupPyKsq/TIFEAdthy7/ThUfAlOTxv7nSabafZOy/ynWrkdIy2r+QkXXJ4FG/vw72LpW2Gti/9TgkFPSu27+bAWvFiNHBv5tabbhbddy/mkK0C66U3r/wSUXqCcHSv47VD8iaJsu/R6YHZgDH2r+WW2iroqXmv/N0rrgZDuK/nvTdBa59zL9ebou4ELTWv+a/QzrPvOW/9F9+j0oUi7+kbXa1rYzNv9shnk/b2+G/S6mC8NZt37/d9ruPCyTjvw93vv5Nsb6/IWXCKGrpqr9mmnWRWY3ivzubK+/n3a2/x/t4uwtF1b8=",
          "dtype": "f8"
         }
        },
        {
         "hovertemplate": "color=Feeding and Eating Disorders<br>x=%{x}<br>y=%{y}<br>z=%{z}<extra></extra>",
         "legendgroup": "Feeding and Eating Disorders",
         "marker": {
          "color": "#19d3f3",
          "opacity": 0.7,
          "size": 4,
          "symbol": "circle"
         },
         "mode": "markers",
         "name": "Feeding and Eating Disorders",
         "scene": "scene",
         "showlegend": true,
         "type": "scatter3d",
         "x": {
          "bdata": "Qrar9OKV4T+M5jQ5Z4kHwCth80e83fC/fxfDBIxW1T/N2oGI6gfqP5jHI0b79ADAWw5QCapu4T8zeVnAjlquvzIYX0vvNK8/nnw88THPwD+3f2Cvtf/fP3ZNmWb+XNY/vrd5twkl4T8k1AaGFXLDP+m7yHBDvte/ID3MRSVHyT9cGauSG6Szv1S8S/11mfK/6TUr7iQT4L/tvpj8nGLnP8Mc+5szYNg/GA/Lw0iewD+G833q2dHeP/YToXCa1eA/n6N6SE0+4D9hXybSV/PRvzWIfy9DRMs/drkw9p09579LKe42EZrfP2ZswUZAj+u/0C+Ijk7G27/xBHTvza/yv8XiEbNox7s/xdFWsxoBrj9azX0rV7nRP3c1lyNEftE/JsKMVjud5D++ye4L3f/jPyOLHp90ttK/aVAlAVrH4r8M+lHXtTLYv8djCtSrGeU/UmcJ0Bkbyj+YofwKis/TPzvabTa37OE/hSF3LAvq3785attZP0PeP7Gp97KSYco/gfyoVCOGwT9Yc5SQKTDiP2Cb6B908Ng/sEDsNZ550r+Ej3MGGjfIPydiKYqUc7I/u3G3yAuC6D9WziPuTw/bP+DsXiKXBdk/ukd41+IT2b9l7xPIienUP/j5cLyy5OY/rOK+WEZDwz+DnDMKg3L1v06KMC1WHOA/xjPSiDJa1T+b4iDxpGirvx1DrU6uyro/xfJv8zRxqz/kdHUe4mfVvw==",
          "dtype": "f8"
         },
         "y": {
          "bdata": "9voBZKJK8r+mXzk09xfjv2TKgrGCcek/07iTE7OD3b+bX3wASYmWP+QJ0sAeduK/x/7qTSvv4r/UtEdlIhqevybZ/nfuh+M//Nc3vJvKkD+DY/T2fWPkv45X9tNvlNe/hCDoj5gGzb/xaCM8VrvJP9sMvQ4U7cc/Ks32zlNTzj94luzUl1PkP6P2XOVlFNe/AndPwvm+3L/rg/F4MsTNv9E7r+tt/uO/8mb68Smtyr8zJFShSRTjv5SENYPpAuS/qQWrviNF57+KLJoNhaTyP2P/HhXVCta/A9P53YYU8D/7SUWqKkLwP36Q3ur7Es4/zxxLOoPw7D+08Ek7vG+zP/dd7gy29ci/ncYBRpLQ6z+qgUArtR2vv08MLU+Aw8I/0uF3IUF6yj8Slfd9fLrkv+E0APEspPc/mYaFHQiE3j9uhCcoJZOWP3e+6R2rNfK/KdyzObcb1j+KAi/kDknTv9OoLNEW8uq/JoekDVt4tD/TV6nm0BHpv8xaOVIpyqC/9s3GJeaG3j+iYbjx88PRv7lhbzP0na+/wTKNCXn96D86pda17L/aP2GUFflEDro//vNzvLUptL92QSClRpPnv4M6/rIp9PM/M6yXFHMp4D8RSy7tK0HhvzfiBZd4b+y/7mgD4FU75r/o/UU+FLTiPy/57UqL/vC/VP09eFCvsz/yRmsKCIjWPwB3VKsk2de/fsETAkRh8b8ZAWtqeL/RPw==",
          "dtype": "f8"
         },
         "z": {
          "bdata": "yuPQcs663z+JLq83J6fbP8BaFIOdqcS/Ahq+E+C32L8Iu3hs3nWuP+9zOvOQScw/9tYxkxBE0D9QcQVtlm/hv8Uqs6/hcN2/DQr2WA5N5L9MqvwoKdWtv0SvJqoN9NS/2Vg7A2msy7/I6Gyv6W7Lvz6wGeupkKC/yafRmE4A0L+srCiHi8jDP6Nu+N26ldg/n4rNwTjf0z8ts8bgBvXwP+549DnBq9g/yWN07Ujcz79qTL5S76rZP24GY2xhzcS/DLsOTIzHv78UiyXnq0HYvyyv9iJJE9i/HFn+/75i5r/i2PM0xu6VPyf8LwZIZOm/3HoxB3xs6r+L44YCFFbXPwefHMouGZa/RahGxag57L98GdcRhJ/gv++AKjrb0Ny/nEKDxULL5r/kAJRY2uHIPzDgQajkr+i/SzUWeJ/F679/L5Z5/q2jv7/ShaI6K90/0qQ++rrP5L98asEFwA3Rv/nGsJrafL+/URMzJUI75r/H3luh7NXSvxdayUcE1ua/8Y5smhLc0b9ap52X59zHv4+ceMcHJdM/c5btmANC278JfaEQOVLJv4wXVwirduK/8f1bRT8rvL9/PKfp/pbgv4bvB4ci76C/aOGTPJvK2b9wgTIkYVniv0UeKxuQY1G/YTZxx3AfvL9IGB4+qFaav1FikjlE56k/S3WlAlQEyj9JQX9Y6DLkv94ow13Veck/dxqpEMEhpT8JTcrmsGjnvw==",
          "dtype": "f8"
         }
        },
        {
         "hovertemplate": "color=Somatic Symptom and Related Disorders<br>x=%{x}<br>y=%{y}<br>z=%{z}<extra></extra>",
         "legendgroup": "Somatic Symptom and Related Disorders",
         "marker": {
          "color": "#FF6692",
          "opacity": 0.7,
          "size": 4,
          "symbol": "circle"
         },
         "mode": "markers",
         "name": "Somatic Symptom and Related Disorders",
         "scene": "scene",
         "showlegend": true,
         "type": "scatter3d",
         "x": {
          "bdata": "Pw1JuhbJ1z9e5VZrSZDKv/tzh68ur+E/hYy4ABJc6D//chZbEpTgv5l6ce81JuA/D8Splt926T/j3MORaIvQvxYSLXZz4eY/VKYFj0m74j/dH/t/VLTlvyvfSiv6o9E/wt5/7MFg6b/2uANBNjDgP883UJeMftA/t8RfFwuDzT9jMkFf5irgv9VeSBAvV+k/TPS79rj0xz8L7aA3XVjTP8tCCKMxJvA/MbjeM1B6wD943zVGoi2+P2cYuUQ1ktA/kJK9J3qiAMCKwCCkVw66PyRFN0kVzfW/MxNoV4zB6D9HO0kh1QXhP7hCfoRDseO//BJnbNyN2T+D3XQQcfPaP5ejBEx5acQ/RlZ/Gl/dt79aoXkN1E3lv/yRPiZIfvE/yXE6o530+r/0u4OxT5W5v++AO/SUteE/hcXvpFEf+r9792UQi6jhPyMutzhincG/0C2tHkAN1z9MOkgVYtyjP4HOLBaOubo/dwdG/nDL4z9J9uPpoc2vP6msfxsz8uc/2bs7QfMF0z99/U8yGVSuvwB4gIGyoLw/r5a5yyIW1j+pQuVGPHm0P37GPK1iM/+/",
          "dtype": "f8"
         },
         "y": {
          "bdata": "JH3L2adhdL/UgQeA1dG7PwnFlgsIq+G/6iLIqvJd679Vwu90qy7MPymDQteB4Kg/lyTy2tN35b+xF2ElvvPbP5WCaI29EvC/gAgYID+Hz79qilWztG/XP33fXHRhZcQ/jut8qLh86j/48a2vLXjkPxKnC9mTkcq/waC0f4at2D8V0lOMB+Lqv4OzzbKc9so/1OF1vn3s07/Dq1N9HtrVP69Ze0/vEOO/v/iY9tJMzT/NTTKhe8biP47QtyZJiOk/ehwxnkqHuD/9QLPJvLDaP8p0rtBMM9Q/4PGHZFut07/gqJJhf83uv4TgZdz28vI/e1z2Y4lz57/beeYqGRrsv0cwr0xzXM2/YaS/ADvkuj88oryCgBbhP42n6v6Uh+e/ylwGzgI91D+anoL5tby0PwuxwfeEr8w/a4DEK705qr/H/rvulzLuv7YRog/o9Ni/q6cKm2QO279kM/JjHC3dP+hsk48NHdY/n5tqcSHexD+odiZlNjiwP97R+gDvt+m/jGbDIyhn2z+wWEM2EuvlvyMRPagGua4/D1/kv0PBy78ztrBvCYmtv5B74JGZX+A/",
          "dtype": "f8"
         },
         "z": {
          "bdata": "uNnWi9cB37+mzq8PqAjov2Lrt6uGyMu/8SsZoFzEl7/xFh9QdDPpv8BDqw0nZpU/U4CGwdkL1T+j85olrfruv+MuXT6RR6G/z92Q8NTDhz8EZe/2xDiRP+26u7P+d2k/qE0nZn550j8G05JTFb7cP7xgbYIuds+/GdFG0rFG1r+SsK3Cm2XEv9wP4iVSj9+/URgsYsHR17+RcaCrg1rTv9jpQIqyctI/+cKJVz2C2L8hThe3MRbDP3PoBb7rxrc/xQx30hPt0T95dPSjjY+6v9MNsll2u9W/S8uLsDD72r+S6kfhQ4DLv5vPrzQIGe2/AkybMtognb8feE9Wq26xP9aXTSfgV7S/yo533ep33L/td0+aFgHpvw+B6wDBCek/ruPmC2U0wj/IbCxKwKnNv6TU//zSmdq/f5d/1Otvrj9HGTaQqxjMP3p1BMEAWta/y3GYYbYF4b8CfuOmZ0fMPx5V+UWoUOK/YUSCiNjn3b9KYGUuMFXavw2h41X/lOM/C1es8PJgpb+3DM1ScaPSPzDJtox9WOO/BKvb9J+00L8Hh4mWWgrSP+mCvwZRGb+/",
          "dtype": "f8"
         }
        },
        {
         "hovertemplate": "color=Sleep-Wake Disorders<br>x=%{x}<br>y=%{y}<br>z=%{z}<extra></extra>",
         "legendgroup": "Sleep-Wake Disorders",
         "marker": {
          "color": "#B6E880",
          "opacity": 0.7,
          "size": 4,
          "symbol": "circle"
         },
         "mode": "markers",
         "name": "Sleep-Wake Disorders",
         "scene": "scene",
         "showlegend": true,
         "type": "scatter3d",
         "x": {
          "bdata": "2kUXfuBQAcBX6BhnjULMvy3AzoRKTMI/Fyflgs6o2L/V5++np0/TP6pTDkR4fOA/XTKiCbaV4z/eoVT/ggT5v0L/+IVmiJ8/2/FLlPYJ1T9UitDuaKG1v0fW8Zb90+i/Zd6QHQrl07/3rDqQBATevyK4w2+wgtY/SlP8tgWp1b82Cm9xlwm3P9Ioo9A+FMK/TOPQFFyCx79pip95HKOPv+Qyg08sYqi//sFzm8i60T9pMjs/k2njP7iuVs02Quc/OCW2KfeP3D9srVKeW2HBv11kns9HMdc/EYzldSN26b/EAKJY+pIBwPzGGM6Ss9U/wwoOBRqlxT8b4KqMwlvFP4qyWiBc8Oc/vXHWZCPp5r8J3ymR1vq2v5tu9MH55bw/l6EOmf/I4T/B/1JkPqjNv85F+OQ6Wq8/L8jzf5Sr2j8Fu1e321HBP43c35IEnd0/ZpJq0DhO7b/isgCiVd3iPz1vGHomSeU/30bJL+zbw7+iuYj3QB/eP/Ke1pZetP2/2lCnKTsPnb/X1xe403m9vz7EKCMCfbW/5XC/pLDZ4T/n+RTXG7XOv3gik/c0Bbu/i6uuYIQM1T/ih6CxZyTAP1+NbTcRJdk//6WTp1oU5z8AMfvI2L++Pw==",
          "dtype": "f8"
         },
         "y": {
          "bdata": "N2yEa3ndrb+hiugG4Ryzv31xzrFH+cM/0/SX0Znlwr9KsD9kXqDQv31M0CNf3cI/zKxhlRr67788EUi3E3nTv2HXkf0zQbS/x7/8vYwY6L9NXOl0AUDmv09t4qSCXcg/ccEdetQ90z8CXx9K+k6Qvxvv12juw8O/TaBgR4871z86hZGMWhvzv8a1Zg7Z0eW/5g6Lv6Xk1b8l/6FhJ2bkP3udb2HMg+e/HIV96P1g6r/WNaUAxvDsv4R/2t+++eC/6KhdnMbG8b9OwZ2tqNvPP1wNMK6jsOi/mG32Ctz74j8lgsv/0YvKv0Z+lllrcea/E7Jdljqp2z+7l8Gq+f/iv9vVhXj7IMM/HUoKSBtY/j8w26EcBNflP56LBGzp7M6/NTXDCifNnb8mF4NxUaaKP/sQsN1KK3+/wNE1ZWEA17+64D4ebOvwPwvm1FhLEdG/nvIYw4u/xT+mt2ldY0zgv6R4iVtjO96/jjXPDwhd3j8hohCCekzuv8pd2YhFhMO/KWf/UHbN1b/ULVKe9eXGv2/6YohGYt0/czL8gr8k3L9NHydyP77KvwnFG/XYApg/PQDyzlJbyr9BrN/KmnLmv/Mbn+Vkkdm/4Ic5KZq85r9qEKyX+6TYvw==",
          "dtype": "f8"
         },
         "z": {
          "bdata": "0NDVAGpW5D+IXGV5chXfvwLUvhnv092/8dsX8JS96b821ALGcZjMP7GZqP0Agsu/vt8ej2bhpD/Hn3/55uWxP38MNcBqOue/HHuGrL2ao78DwAN3WgjOv1AMcibs9ua/uEFltEl/3r95GNaxmdzov9TYteBjPru/zfSTsDCXwb+HFCK9ku/Ov8tBYwRiz9q/BuYiQwHJ4b8a3qWz0pKTP09gGZaVmdi/Ej4Dov0ZwL+X14mPWjrGP5rlOtt6h7a/HZZALEO72D++gTE0SkPmv/QqlnnMztO/5VHnPtkG6r99bO1w2X/TP1dEYttJq9c/MmOlGHvy2r+6ssnOI8/JvxJGnajQj8S/eXKB/B5z5r+XeYwFPtfdv6no3a7Uq8O/4yQzQvLC1b/tRMBEMJOov4LuKlplQ8m/OwnNb8I4yT+ovgR3d3vgP+qFGdtF/I6/EGVTmOKF6L8VjWaZMQvVv23uIdmq89o/NT14z22c1L9cs9QU1irUv0pLZHl0xtY/uovx+ckn17+q1ieoBOrfv66FkNKaXui/Cltaibwgwb9jGbbT4VnYv8P0Qu9iWeO/NNU4QBQbqL8bQRCGj0XHv2mlAEpYhtA/rH0MvSDDxD8KeMJv2WqnPw==",
          "dtype": "f8"
         }
        },
        {
         "hovertemplate": "color=Elimination Disorders<br>x=%{x}<br>y=%{y}<br>z=%{z}<extra></extra>",
         "legendgroup": "Elimination Disorders",
         "marker": {
          "color": "#FF97FF",
          "opacity": 0.7,
          "size": 4,
          "symbol": "circle"
         },
         "mode": "markers",
         "name": "Elimination Disorders",
         "scene": "scene",
         "showlegend": true,
         "type": "scatter3d",
         "x": {
          "bdata": "VVLrktGkuD+RHIzCfL/UP0mNU7y0uN2/w7hRTix10T/5UmPW9/foP9r/kkYhmM6/bkcBU+gQ2z/acxrlDsm6P1tuiEW629E/0/QgaEv82j+oXQ7RZUfTPxFVoGszJeA/bx+s3ZRp479ccABj/DayP1gjnZV0+Mw/bOYb/wM8yb/X4Ui1fSa5vw==",
          "dtype": "f8"
         },
         "y": {
          "bdata": "mMMZKvfV47/95BNXMu/iv2+eRN1w+J6/2qJPcNXUxL9XsxaI2aPwPy0jtGLyh8q/7qcHn57I5T8Gmiwm7FfGP6W6LaDfG8G/ndOauxRS6j83m2TcGgDZP9HMM98hqs4/4+M6yP9tpb+PAKMPYJbYPyR2ZQy2G7i/Tk159jQ37T8ZGLFwowXkvw==",
          "dtype": "f8"
         },
         "z": {
          "bdata": "c30ezHQE1T9P62u4Z2PiP6QgGpVvudI/TAs6XWv2mz8onZEQ2qPnP7HeK62mGOC/0KPlfkb0zD+akwe5t27Cv3JCKLzB2au/NEyp2rBq4D+aqahi2SLXv/khHPfXEZY/ZzqwYFbtvD8BChXAaRLDv1KaxJPM+dS/K5Zf5VWE2L/O4FP7wS7cvw==",
          "dtype": "f8"
         }
        },
        {
         "hovertemplate": "color=Gender Dysphoria<br>x=%{x}<br>y=%{y}<br>z=%{z}<extra></extra>",
         "legendgroup": "Gender Dysphoria",
         "marker": {
          "color": "#FECB52",
          "opacity": 0.7,
          "size": 4,
          "symbol": "circle"
         },
         "mode": "markers",
         "name": "Gender Dysphoria",
         "scene": "scene",
         "showlegend": true,
         "type": "scatter3d",
         "x": {
          "bdata": "9RhWORq+wz8Nzrwa0nmxv1UXfahB+ew/bc38S5Ub1T8bEZSm3G7gP2w9SKtrAQnA1sZxeeMg2D9j0tuIokPoP6TVGvaAFcM/HIT48JMR2T+CNwnje6foP5SiaBqGDvI/3m/TkeLJBcBx7/WTxz8GwCDeXpQuxeU/b5Nvc/5f4T+D9N5V/mrOvxuoUU0kW+M/YgDXxNJitL+6SdJpRp/sPwfI9hsSFME/cyYknQamqL+MdFdDZYffv2x9JCpKFa8/1irecwGAxD89pRx8oSHLv8y05LeLo9Y/",
          "dtype": "f8"
         },
         "y": {
          "bdata": "xR6rrSsu0L/a29PSb4vmv1b5ymqurse/jiFYj+sQ8L9Ct91H78rwv5C0QMkCrM6/cZqu67/gub/fQFELAczlv5t+8mfiZP4/xDVZwzAu8r+yTGyPn+7jP2CqSQBKhu0/0HeI6OZR3b8DBGndd4HZvweDf8uGCdO/8Vt+zVkdtr8lyu7rJX3Uv0hhPh7qMPC/OMurapePu7/xYK+hkrDxv7o6m5dVH+u/yWNXR5ygy78UfdB/dcbYP6cVn5iyctM/tgCwqqeO47/5rZox1SLlP0oJKc0DuLO/",
          "dtype": "f8"
         },
         "z": {
          "bdata": "8XR18yLa1r9+SruyrnvKv/ku+0xMtNa/4JDSxBBH2r8t6NWTqFWsP6Ydex3/N+E/Q7Nf6eMKyD/knlZ+fyzJv28pbvOTOdq/mY4gD/St2T+jFsjaiILLvyd2GWv+aOY/z8EXFRk43z8zlnJJB+XcP2bTFVDKPdG/HpeAQ96v0b8airwT3mezvzFMGKP/l9w/MMiCj24gxD9swcLFAXy3vzFZNCiyTsU/gVmaYgMt279PisvV6SXqv6eDDQT9Yea/JQR+LzfP0b+txdwZ8qzNvxelCWOxdNq/",
          "dtype": "f8"
         }
        },
        {
         "hovertemplate": "color=Cluster B Personality Disorders<br>x=%{x}<br>y=%{y}<br>z=%{z}<extra></extra>",
         "legendgroup": "Cluster B Personality Disorders",
         "marker": {
          "color": "#636efa",
          "opacity": 0.7,
          "size": 4,
          "symbol": "circle"
         },
         "mode": "markers",
         "name": "Cluster B Personality Disorders",
         "scene": "scene",
         "showlegend": true,
         "type": "scatter3d",
         "x": {
          "bdata": "ifXAsecJDMDNurJ5MvKtP1sRlTqSS+U/J5sr8W+K0z8I18Xky4kHwCNiQtzIYOU/mrGTGGYF5T9zXvmnQkzAP/QJUo3v8eU/mTKK8RkP3z9uxP3ob63RPynYmwAEEZg/ATh6vP0tCMBdL/9NuKvYP2RXqwwPZNA/cFueyyJY6L+yY0rEgSndPznKPHWsVdY/diXGTqykwr+cGQHm/ZENwPzNPgzf4PA/zb1VSQbr3j96iJA5/+HjP+KZYh6Rh+Y/8ZSYHVuz07/0DQHMz7PPv+so2eRPm+Y/Ol4TsJQg5T/x0s+PtdPYP3b0yBftPKE/bD77NVkm6D955HiUskzSP2XAzPBLC9m/rFfZnPRd1j//gs1KerZRP+44yU3MYc0/u7Ee6AM14D8M/Si0m6zwP2THR1Js8Nm/c5HVgqrH5L9EtN0qw9nUPw==",
          "dtype": "f8"
         },
         "y": {
          "bdata": "1LwFk+JZ67+WBg3uFSXOv9hKiY11lLG/+abZRW578r/3DTiZHdjsvzTaGBYEvMG/8f24J75C8r/Umy9Wv/3iv1u3yag2JPO/VOTB6uv55L+2NA2TRTXZv91+g2ZhHsY/7qh5YGYs4r+X90BKizruv6lnTSijN/C/uAo0f9J97b9nwgLrYhH1v4gTxH2gzeC/cUipdHPd5T9gm4kzVwngvxHacK2DWO2/68o7IlNA4r9IbfxEmvSrv8JP352qdri/cBzFMYmP17/DAdmhx9Ojv4nqA5BzJMC/z2M0aGlYzz/7A8dUr/3UP5EkjJqHz+K/fxswK8e+tr/2C8Nifxzyv4kjFQiAUvA/ZrcQSoc/wD9zFnlqA/e7P6S5adJbmfC/Wobv9N0p8L8cLJAh8ufgv1yWJQAKS+C/xFMXgoC0079QgfdrZZnOvw==",
          "dtype": "f8"
         },
         "z": {
          "bdata": "FY8FseeT2z9eootuIPrXvyaE+IY9zNC/drKuhOg80z/HMAf3UgfLP4d4YB2wGMY//GLVzM/C3D804JP39SKwv1Yxzo5ogdM/rwZsxlo9ur9Op/YkHBbQP3K43Py4q96/krKik8gA2T8O9I0bIwTTP4MkJXOects/jIOlUnsD0D90H7d3Y5nhP+hz77hJPMy/ZpCU8kvZ578iEEm6gf/gP7s+wzjGt8M/S42F6qO00b8r39jo3yzhv0PMJWrKf9W/mNAFujua2L+EZ/dzex/cvyi7Q8de4sY/PM9L/J0j4L9dhq1Pe3Dfv4MDcBv/tZi/QXZZ6V2QzL/LFmxKXVTZP861uknw8/K/5h9kQ3zz1L/ejR9FdezlvycRlGCKfNI/KqOPGJKOlb8LCnoVTZDPv7rKaw/U29o/9yuNzYhvxb9yTuQRWLbbvw==",
          "dtype": "f8"
         }
        },
        {
         "hovertemplate": "color=Cluster C Personalit Disorders y<br>x=%{x}<br>y=%{y}<br>z=%{z}<extra></extra>",
         "legendgroup": "Cluster C Personalit Disorders y",
         "marker": {
          "color": "#EF553B",
          "opacity": 0.7,
          "size": 4,
          "symbol": "circle"
         },
         "mode": "markers",
         "name": "Cluster C Personalit Disorders y",
         "scene": "scene",
         "showlegend": true,
         "type": "scatter3d",
         "x": {
          "bdata": "/lp6Dh/D1D9scLT4utFoPyFSQTs5cOO/uvRXApy52D/8Y0oVSRflP/te6B1Niuo/GiWyD9Pivj8oMKWiP33gP3S1bfLv8fq/WI/yicvx278Uvn7ppj/cP30xtoxUdQnAYPl/d3qOpD80UM9GdOHkP7/hNTCw1e4/hzzQmRZ1xz+iSwP26r7FP+/jLRjrVQLAPA/8P9jHBcD+6ifTqVjcP2w43+/xesE/G6FFik2G3z8dSn5deLPPP3IEgFFmluU/ZuxMN3O6+b99OWH3VJvUP8xrqCHpY3O/uqNff42N2z8=",
          "dtype": "f8"
         },
         "y": {
          "bdata": "YRPITqk047860m0fXSrdP+3lfWGVO9i/Oy96+5bI8L8+6L6J/oeWv4xmIeI+t+S//3X2+jnH4b9ruXK4w1DzvyuroBrqQuK/P92kR9qs7b/OWhU3NCHPv0rKlCvlW+2/GZMkSq3xwr/V5oEbej/Qv1fSc58qS/O/vEQPRtQC8b9J7YfODfPxv9afpTnzLPC/1FgPy0l+7b8wPf8wQFD1v7x0f2GIUPS/2Ak7Wtslx7+VSFtWN5bwv8P2yQdRHPW/vXVmad8q0r9THRK+rxXkv2tOVJj0M9E/YDe9kl+Z3j8=",
          "dtype": "f8"
         },
         "z": {
          "bdata": "BJf2DW/61T927hqd4lzpv7Ug8pSdf+G/Rf1EQ5yJ3T8+LmTvZ2XTv8mT5CxBVKm/poHxpeF42L/9QNfl6gTcP1FvgBq4w8s/SSe8RnMKwT+RnEVYcjXSv6AbE0V6e+M/xJ7kygcx5L98rFQpEyTGv1YhK7by/Os/5GOCt9kk4D/4ar3e1VrdPxr81wpfjt4/bmoybEj73D+7cMIaTB7gPwRUb9d7lLU/h9hC+hxk378GufYTQxWwP3YKkmJ+CeI/oyTDNnXEtr8yAbxKRGXdvyhPDcNQiN6/NXTvM6WFzb8=",
          "dtype": "f8"
         }
        },
        {
         "hovertemplate": "color=Medication-Induced Movement Disorders and Other Adverse Effects of Medication<br>x=%{x}<br>y=%{y}<br>z=%{z}<extra></extra>",
         "legendgroup": "Medication-Induced Movement Disorders and Other Adverse Effects of Medication",
         "marker": {
          "color": "#00cc96",
          "opacity": 0.7,
          "size": 4,
          "symbol": "circle"
         },
         "mode": "markers",
         "name": "Medication-Induced Movement Disorders and Other Adverse Effects of Medication",
         "scene": "scene",
         "showlegend": true,
         "type": "scatter3d",
         "x": {
          "bdata": "0OC5bKyi4T8Q080kbcjsP4TpP0Py2+Q/SygEQNwK2D9c4yrJtjTnP00vCWKptO4/KEbw3jGfqD9H1u4W5K7xP132clLR5uM/w/kh1yLY4T8zDeltJfjrPzCF7U9WreM/KWnwnGjb3T8SxpyDUernPztyi1NrQew/p6dHMeUqyT+eyw+SLa3rP6YkrG7fLus/t3xZ+FOLzD8HohgV07rpP4YybVDn+eE/bULWy+JO8D/7BiHcWWDzP3stl77WFuY/WZGF0W0r6z8NUziz8eHjP/pASYcpHdY/QJ1Mg+8J1T+c5ggwoifdPzlgBY4a0tg/En0/rIai5D+LFNqDnpbTP7H1gR8iOda/vW0Oo3MN4D+7vpcIfWbkPw==",
          "dtype": "f8"
         },
         "y": {
          "bdata": "2+oy6jRD8L9a4mC9Qr7hv8IETjUXdO+/D5vnOa0p479aTkFFz5jnv23o6yvQxZc/iavvaN8vw7+NXlxQNwXRvw1SsPWinOi/Seyl6TROyb/RIH1QEB/jv2b9QvpS5tG/1jrVoYc4y79Ho/dSOUvqv3d+EYMv5ce/IvhdnWbr479NZPrFpePpv4Kf28U0bra/S+BRfNMerb835auyovTWv8AZD7MfMrc/LeqEuJ8H47+B6oqalcnhvwagW9QRruK/+hnICYbKwr/aItgV7r0DQIoCuv7zY8u/cakP6ELk579T9G2z0Z3kv28ZZ+Fher8/vQnIfQ6YzD/35r+73mLvv/yLwVDjr9i/cvqUMPE03b8kfwNSN/buvw==",
          "dtype": "f8"
         },
         "z": {
          "bdata": "bsE4Ec05nz+JCha1YpnEPyeAPbXNPLg/XjI4Rfabvj8HiptZfobGP7JI+xgwK/w/J5+URmyHzr+M72vg65vtP/hepbe949E/2aGTVwJQ0z8ymyOXc9bZP3T3B8p+odM/GxDnwWKNmz9O3tc9F5TfP1coSnGBdOY/Jl0vFYI+wL+pQJzfeuC/P19uUjyql7o/waNBKfux4L/jlz/++ibUP25sMXHI4+A/htWy6qvO3z/iljv5cNfvP0I80mAV784/19g83kTk1z/ipNH114XgP4A4LNcnsMY/yoMJtoV/zj+n2BlesBXHv7RBlmOEmIA/cIm1DdIt4j+wVn+TCnqkvwP7CEHsJec/dk2HtBMrxz8ujQ6GjvyvPw==",
          "dtype": "f8"
         }
        },
        {
         "hovertemplate": "color=Parasomnias<br>x=%{x}<br>y=%{y}<br>z=%{z}<extra></extra>",
         "legendgroup": "Parasomnias",
         "marker": {
          "color": "#ab63fa",
          "opacity": 0.7,
          "size": 4,
          "symbol": "circle"
         },
         "mode": "markers",
         "name": "Parasomnias",
         "scene": "scene",
         "showlegend": true,
         "type": "scatter3d",
         "x": {
          "bdata": "NDl8fxotuT+w+ciB5n3qPzjp6pyruuQ/lcOyjwVq4r+2ORvASefSP8to1wjOIeS/V6dDZTIb1L9cSj05tw/Jv/+hEbDHuPa/KsB8yJO/1D8BYjLW937rvx0FcwwhiLC/FwTpJHdb579idslow07DP3ZIA/oCJdU/1uyFSsds4D8sZbqOL0Lvv1U0NUxoTeO/fSlv3/lRxr/H/+lBftvmP0vnhPZ/1L6/3NxQUUQe8L9VRMLa8HriP6bCeoOFYPG/yG90BLvEwr9FjS4ZQcTcP6m7A5jWa+O/x2fZMyV09r9+GDFlg7vRP7y9TFfoarM/BneaHf4U17+K7k6/+ZzHv8dxThSkesK/JKX0Frfhyb+asf7TqsLMP18j50CWeN0/b4dAMyFw579CuB0VxarYP3iwR/zQ78c/7hLYUtPO3j/g9t6XOCipP/Yh8W3s3sk/Lj8OC1nP4j8f1Oa/AD7LP/LSuNcSNqA/BNl1SC7Utb95q4JDdUjIP/nh3Ymam7I/FzUkbQCysz9A8m4J5sfaP6SZx3w3IQHAIl1EGSsq8T8ilhCn8efJP2mBWma22cA/fhu5lTqP0j/jCZvpYXvlv94wvjHEwdK/06++rP0vyz/F4mowLBjXP3JNiUnFA8E/rU96Th772b/JXaOG6FbOv7nLYvDo5bq/0t3f9voO3z8=",
          "dtype": "f8"
         },
         "y": {
          "bdata": "r6P3PwFgyD8DeqekEH/2P0nMrwEvBeE/pfoVRqrR2j9UAofjz33Zv3W5SFBZ3Lm/2E2f4zKNyr9caEeCYC/eP1lA58OnHs4/aG4TEjh74j+dk4Krmh3QP9L7HLJ7I+K/6GialHEi4j/vAmE/sJ/TP/Yddwou5d2/3IGJ5X4W4b/5hNOHWEbxP5bJNXUPwrc/0RQaNRTP2z+E3nHKnw/hv13QuNpNXfs/sHb6NsVh3T9EwtKljQy/vxb60IMa38G/hOKSNudo4b+xLbbBoVjrP5HXRs7zl9S/hu6TveLl1T+A4u7BZFGpv9OEwf3M7tE/FwV8TPEo2D87jbkUbSqlv53LQWgg7+m/LXuzwEK32j9piq3TezrSv1MepckwDMG/FlKHbCuP8z+6MEiSrubQP7o7B21aI7A/zgIEluv44D/cm0jKWJW2v/FFwLusPui/rY2FW29Duz/iAPwvupnRvzupt6z/oOK/5wXUdM+h079yjR3dAw/QP5K3GFRrAtU/mfNIPc9t1L/mWKoCFcfnP9/w4SPVGs+/kxm0a3dI2j92xAxx0W/lv+5lrKOBzqY/4Ax9pLGX0z9307zvLJICQNlTg4Z9u5q/hv2APOmZ8T9Eof6h1o6xv/loTDD3ztY/VyymlMobz7+6nGCYLRbFP83X0/jjcdc/3dLxJzzD1j8=",
          "dtype": "f8"
         },
         "z": {
          "bdata": "WgJZ0F0t1z+jG4nSIg/kP4U0EFSOydo/TNEkm+qgyb/dYjirMFzcv3fAMuKtAt6/l1MrPg3E7L9v1Pm/1Frrvx88JFXaZ8U//DjzrA0s8D8E3FyR7bHJP5tluubFGOe/fFrqzdDJ67/1bipMFejZvyq9UppeQtS/Q/pEBKIRzT/zejsV8DzEP5FQf5led+W/Gu/fNziD4r9NbPDlec7RPz2gbLopwLy/NwgVjbyl6b+9mJxSqn68P7Y7lHEnBro/0hPhrKiE2r++INoJuFXSPzFKksIqTdg/PJrknqTKxr/cerz0g0bTP1CjFtGcG6m/0DuYT4tK2r/RGJVdhRzev/YCbf5yxmw/sN1qcMUe5r/UhL/8+2lzP2v+k4jtE9a/20L1HsMop79N6Us19FPgv81vpKTkPc+/VEwaLr881L/88YXPaVbKv+Gib/95m8G/GBb4Y8eEv7849t46eLGHP4jH/L5peNM/Xr8RGCih0L/qzmQoCP7WvyvRUizLxOC/zNu+gb4pyb/Ra5AZ4Mjhv2YWJwN4HOA/BMJlIFL26z8iIaGzyDC3P4VZX0dBm+G/Y1TrLe7Mvb+ydSeLgh7nv07QPI+x/OS/DpslSOW28T/FLm5KlbLCv/i4f/tQUuC/5U9UZiYR4r+Hj1OFEznlv+6EWRq05uS/9kig0L4ilL8=",
          "dtype": "f8"
         }
        },
        {
         "hovertemplate": "color=Cluster A Personality Disorders<br>x=%{x}<br>y=%{y}<br>z=%{z}<extra></extra>",
         "legendgroup": "Cluster A Personality Disorders",
         "marker": {
          "color": "#FFA15A",
          "opacity": 0.7,
          "size": 4,
          "symbol": "circle"
         },
         "mode": "markers",
         "name": "Cluster A Personality Disorders",
         "scene": "scene",
         "showlegend": true,
         "type": "scatter3d",
         "x": {
          "bdata": "Oxc7T2wSCsDDCcheJ2OwP4Vu4KeRqwnALCrY+Gf3AcBbuX8la0TcP0hHGkGKfO8/v/un+R492z8Y0gD0WC/tP9yhfOmGmbK/LUYj2sab1T/iRLpZXTLev8tyfBLJ3/u/uY60UswQBMA0iOHxIivWP9R/55lxntM/e/XSbEnf4j8olHzPsKvjPw6W06l6BNs/CLmtVfAzpD+9xPtixV3dPz24HFZp5aM/ud8RqNmVzj9kaTa8UcrxPyuhKpDe2tc/cuOczIqi2D8=",
          "dtype": "f8"
         },
         "y": {
          "bdata": "z6mNRFzA5b+OnHyEjR7nP4SZdy22SOG/ggfu9+eO6r+XzRRGeVPZP2F8SfRZ8PC/3/Hfvx6j1j+CuDxFZsa8P/OdpquJ3NY/JTslVSjQ8D9VTTCuA57sP/AW8bIcCd+/OxRFFvM507/JTJb/F6PZv2b4tCqPMea/A5ODt9Q50L+TQ03QNonxv6GACC21X+a/2E2ATSya6L+5lCp8jj3yv7kOMQOMsuq/RyKhBkt9xr8X9dQ1k7zovxFAlimMrN4/zCeM6SwjtT8=",
          "dtype": "f8"
         },
         "z": {
          "bdata": "c+VrSwV71j9+GBauaCnrvwhRG7pgrec/vuDt+ftX1j+ib36+2yXiv1+d3hnML6Y/5DzlQXKy0L9fijYuFh/gv1uRqz7WNOa/+R1F4ct65r8v0fZkLlDsv+jkccOmIro/WAXdgF3pvj/J1xCobSnHP2L9j/EXrJS/0tZc+Ow32b+nvK5S2efbP1EtSEohN68/AA7AnZet1z8DmiAn+YjlP1+fdARCgeQ/ntSJAQ/G4L8QAprFj2uVP9JzMxz0dOS/eRekhTM94r8=",
          "dtype": "f8"
         }
        },
        {
         "hovertemplate": "color=Motor Disorders<br>x=%{x}<br>y=%{y}<br>z=%{z}<extra></extra>",
         "legendgroup": "Motor Disorders",
         "marker": {
          "color": "#19d3f3",
          "opacity": 0.7,
          "size": 4,
          "symbol": "circle"
         },
         "mode": "markers",
         "name": "Motor Disorders",
         "scene": "scene",
         "showlegend": true,
         "type": "scatter3d",
         "x": {
          "bdata": "oKrazZs/4L8QbyXM6pLcP65ZTwt5i+a/twGOFrUewD8VIXZDMozXP+7e8ph+2N8/v/iZ/Ttroj83Dk/JlmPrP3Q+uQFGvs4/SZogAnXj8D+fEJhX4dG2v6K6kUOrwuE/cLbqdCIT778rlASkwRnYP+ZHnnfXpvi/lmmGHloU1D+LzMp0sDnQP2uhWUbGcd4/p+7A3VyD679YgxuQA33SvwmSC1Zqd30/TIresHsmwT8b/mQYLnHbP5Kl9mPpU9C/RccCEZsYyb9y1WLj1ETTP7gp4nhugcU/Xrq1I/w+6z/B2Rrtw7Tdv2ayf9vwRNg/WE8FmUuFkr8DXp7+hTjhv7cKF3wtz8k/",
          "dtype": "f8"
         },
         "y": {
          "bdata": "lkAEuSddgr+1VfBh8dPuv6zxuPEZGuU/hmaynEcf1j+Wuh79Vdrwv85ZG3XMPeO/v1v7k5Lphz8tGi8hjgTVP/KFs1txz9+/X3qgEwbo2z8vFLZg+n/BPxRMiN1kp+u/ERHfV9ux6j//LQcDaKvlvzSFPigGKsY/oaxUYrmNw7/42Lrm6YbWvwGgwA4qMOK/B/KALo6o7z+iyyDpUN7aP1HIoMTLt64/EMKDjLo+qj+6qQt4U6/Tv2LfYed9UKM/dghO59j5rj/21oHQ1sTVP/zU74c4wrk/HUUlQg+35788r5f5ENfRP2coHuP/j9M/5V40QWW10b95h/cbv0PIP5akGBUMMMq/",
          "dtype": "f8"
         },
         "z": {
          "bdata": "LV4kaoUR6r8N+D7rLqPIP12R5Uak58I/BhtvPOgq5r+AQ0XSeuHSPz+/T9A+j7g/Bcb5BXa75b/X+/o+Hfqtv5Uur1lW4tW/mLU8tZKP6D9CEjqCytHPv5dYt67wv6s/w2TbN6ac17+0hXY2H1+TP3FXcQZvp6m/x8D88FTggz98mCMyRdXXvyBvic3kPqm/AOzADiDeyb8mJLzz5Hjbv/sMJvMZFtG/hBfuTTaS37/Z/nOBafTSv0HQAnzc1uy/FSV/sAAC5b96CZCV1pfiv8DVSPa2AtG/dP3Z4o7q0T8DcRLz7dvgv/bfBNA05rk/o68c6dH41L8OL0mUI9Tsv/okpGJHDNa/",
          "dtype": "f8"
         }
        },
        {
         "hovertemplate": "color=Other Personality Disorders<br>x=%{x}<br>y=%{y}<br>z=%{z}<extra></extra>",
         "legendgroup": "Other Personality Disorders",
         "marker": {
          "color": "#FF6692",
          "opacity": 0.7,
          "size": 4,
          "symbol": "circle"
         },
         "mode": "markers",
         "name": "Other Personality Disorders",
         "scene": "scene",
         "showlegend": true,
         "type": "scatter3d",
         "x": {
          "bdata": "jqk5iAml8D+XKEHLSUeqv5oRUIfetJ+/BJOgOqw+nT8OoEE6BGXdP3WI2zNkBMw/JAiCfN6j578=",
          "dtype": "f8"
         },
         "y": {
          "bdata": "iV+ZWwBM6j9UBTYNbiHRP7c7Fw1B7uw/vzr/+blZ4j8c6+BZtKq+v4Cb1OUmqt4/f68WT3By6D8=",
          "dtype": "f8"
         },
         "z": {
          "bdata": "TFTkz1bR5T/4mzTBXGjcvxtf/ZgOo8O/AQ7jKK+r0L8qLEZ5uXbDP+UAOdyFLNO/jBe0BZpi1b8=",
          "dtype": "f8"
         }
        },
        {
         "hovertemplate": "color=Intellectual Developmental Disorders<br>x=%{x}<br>y=%{y}<br>z=%{z}<extra></extra>",
         "legendgroup": "Intellectual Developmental Disorders",
         "marker": {
          "color": "#B6E880",
          "opacity": 0.7,
          "size": 4,
          "symbol": "circle"
         },
         "mode": "markers",
         "name": "Intellectual Developmental Disorders",
         "scene": "scene",
         "showlegend": true,
         "type": "scatter3d",
         "x": {
          "bdata": "AeJPFK1C4z8hNA1aGl3UP4mYS22H5d4/6aJ4JpsTwz96xScvP+nnv6PGIBDwbeI/GFvsB+hXyD+xSeYB6GPaP/0KsRL5MdA/8vDwj8lDvz8xPMhhSTHYP1mMbiH42OY/ZWGEDrci179QG2Ru6xurP+DBWfNCyNo/3ZNOAVoB4D8=",
          "dtype": "f8"
         },
         "y": {
          "bdata": "J47klVtl5b9ibgKisyfMv16lXO/5U+u/8ahXkNgLxz8ORAhNCNDLPxurMDNip+q/tbrCdKEs8r/6UkERPqfTP4mCujsotvO/AQN589RQ4b/6ierdWNjkv1YaQc46fu6/GZxkFWjXFUCVDj+GgUXXP+iDrwpzZOC/zlaalCyivT8=",
          "dtype": "f8"
         },
         "z": {
          "bdata": "SCTRndwJnr/IwbpnuKLsv9FKYjlyqco/yyybA8n9t79yIe84oczMv0Yei64Jaa8/LjzfOT2hub97GRioVuK9v0b+ZclWWdG/mYQ10gFXxr93EbGjvw3bv3/C17jXc8Q/nLpWD4ea37/uAz93WkDmv/xAtI7Rote/wPnTE9D0x78=",
          "dtype": "f8"
         }
        },
        {
         "hovertemplate": "color=Attention-Deficit/Hyperactivity Disorder<br>x=%{x}<br>y=%{y}<br>z=%{z}<extra></extra>",
         "legendgroup": "Attention-Deficit/Hyperactivity Disorder",
         "marker": {
          "color": "#FF97FF",
          "opacity": 0.7,
          "size": 4,
          "symbol": "circle"
         },
         "mode": "markers",
         "name": "Attention-Deficit/Hyperactivity Disorder",
         "scene": "scene",
         "showlegend": true,
         "type": "scatter3d",
         "x": {
          "bdata": "KhRbC1qwsz9ZqnqkwrrhP9B9ubqkYADAO/7SzXA28T9Pjz+MPYTBv5SA4JcGQta/BQpIKcJ28794ySnlTm3yPwCXZ3UBqNY/VgLPB3Sj8z9huZ4DukHWP7zhV8DTeNY/A6G3kE6F1L/Yv9sumxPhv7zbeolcYgLAWv3Djpa+0D8NwZKvioawPywWY2MtM8m/nNSdEi8osz8j6vP0L7rZv7RL7RKUB+q/JUyb0kamzD8=",
          "dtype": "f8"
         },
         "y": {
          "bdata": "kzDW6SQLuT94wdcQxDjdv2E49YnquOO/P85V9c3c0b95QgrhISrKv/47WONkici/pJZnOw8Pur+z1PTgPCvev1/XrefXXLW/iH2iUj+j1T93yX+EZG7wv34jv3DXu7U/7+HD8OhN0D+AIWFU3miyP/GAGN2qnua/OGH70qEY/T/BPOym1i7hP5f1OQXeZJQ/GUg2FqT96b9zWKQGFkTNP+ReYpj2LNU/qYQcJbTijL8=",
          "dtype": "f8"
         },
         "z": {
          "bdata": "8yrYpyvN1D8KEaLSq9PdP2Fd1UfwQ9o/c/dCMyrcqz8YH5nJQAPnv8SJy7gCHuu/7/9uSkrj2z/tSvjCgMbTvzXPa77rI9+/U6MrGCdc4z+4yPqGshfYv+IfRu+YI92/r9o8DdOj57+xlrxIftvrv2d9aZ4FMuE/xUAQXC8R2L+5yIYLIw3jv+xgtOJLKOm/O1o4kBbMuL80usiuLmfsvwd0EVnn8+a/MbrJkGFP1b8=",
          "dtype": "f8"
         }
        },
        {
         "hovertemplate": "color=Personality Disorders<br>x=%{x}<br>y=%{y}<br>z=%{z}<extra></extra>",
         "legendgroup": "Personality Disorders",
         "marker": {
          "color": "#FECB52",
          "opacity": 0.7,
          "size": 4,
          "symbol": "circle"
         },
         "mode": "markers",
         "name": "Personality Disorders",
         "scene": "scene",
         "showlegend": true,
         "type": "scatter3d",
         "x": {
          "bdata": "bfE+GSAJ5D+n/riuKWUDwIntIwCkf7m/6/K432NOxj8q64rapljpP6JT30TMlO8/4enuRw41tT8NuS9uiZjoP+KwUEEw68I/W4hbZMRF1D/OKWcpQSDkPw==",
          "dtype": "f8"
         },
         "y": {
          "bdata": "/pzXCyC+1z+TaLGIWs3rv8Sx/dmCm+A/0E1j/XcF1r/Gsko0BW/ov7QOIalBTO+/3vVoLhxmx7/9FmNN6wbsv21CVBt9/+e/rTtvdoyjwT8pOAomvzfpvw==",
          "dtype": "f8"
         },
         "z": {
          "bdata": "rqFXMOMhx7+GbIAfnO/dP2o4Mh3m3de/Q9zX6Ayxur+jduN++5yYP6DoGMhoUtc/997k8idexr9QFal5G53MPzwPKaHzJNO/xq6fEcSW2r/sQxK/omfmPw==",
          "dtype": "f8"
         }
        },
        {
         "hovertemplate": "color=Communication Disorders<br>x=%{x}<br>y=%{y}<br>z=%{z}<extra></extra>",
         "legendgroup": "Communication Disorders",
         "marker": {
          "color": "#636efa",
          "opacity": 0.7,
          "size": 4,
          "symbol": "circle"
         },
         "mode": "markers",
         "name": "Communication Disorders",
         "scene": "scene",
         "showlegend": true,
         "type": "scatter3d",
         "x": {
          "bdata": "cDCEkgVO2r9O+8qGoC3CPwM8HU5mWdE/gaUhtdNLxL9QMwHzOEvavw8LsUhZ3eC/oyrthNTE2r8CLfyGS/DkP4iZ7j5j5+Q/DZBA6QNF0T9o5AgZhVUEwNlwALwUDtg/TOdknzev5z9VvZW6LAPgP6QgbQCwQr0/3n0O4I3O6b8EgsD4nWXgvyzP6hWgP80/bBRhfvAy1L/rf6sjrQjdv9rJssVkJAzAHfCaiciT+r8=",
          "dtype": "f8"
         },
         "y": {
          "bdata": "MYuHTEg84L93KU2EDMvQv8tm1UYlgL4/7qmK2cQ+1r/L9HQdhJ/QP7Vpfi7hPeM/l7zZgWpH5T+oHVAFyHu7P/s3fMioeeC/bMzAKy9S5D8ll68w6tPZv3GLm7J9ROC/okXBid+m/T+T0jHCMijTv0a+UrZf48g/+DG0y6Ww1T/yimM8i3nhP/dzQKOkcsU/+qfdrNUq3j9SReh12wX9P0E0Exu1dd+/JGKFBQyWw78=",
          "dtype": "f8"
         },
         "z": {
          "bdata": "TD76SQcYuT8RpnMeylXfv3m1rjs1St6/2GVlGm+F3b8QPAcum6Lfv+Q6mU3O5u2/CDjFcpwo47/vREIp5DvBP1iz4q8PGte/OmvCIbt4rD+8Km3mcDvaP7m4Q3xl7eO/Mx2v4HBL0r/8Zoyvlhysv/htVkHnkNi/Ab6H1sun17+iRLtXBnfvv1g7qRURyOe/Gv12oN0w7r8doJsAO9nwvwmWMPiHjNU/drnCjbdZm78=",
          "dtype": "f8"
         }
        },
        {
         "hovertemplate": "color=Catatonia<br>x=%{x}<br>y=%{y}<br>z=%{z}<extra></extra>",
         "legendgroup": "Catatonia",
         "marker": {
          "color": "#EF553B",
          "opacity": 0.7,
          "size": 4,
          "symbol": "circle"
         },
         "mode": "markers",
         "name": "Catatonia",
         "scene": "scene",
         "showlegend": true,
         "type": "scatter3d",
         "x": {
          "bdata": "qhpXEFpC4z8TBWiqdlXzP1QNbr9UXwrAPqFbCznNC8DkUHZpxlkIwPIPSJMqhfe/xBPyRuJFD8Dg+zIPKFbVPyYPtU5Krvq/ysiwTSnDzD8=",
          "dtype": "f8"
         },
         "y": {
          "bdata": "bsvMZ45x4D+QXQZQS4O3v7bfNoU7meG/UsHlF2t72L8zhsds1dDjv5ybk6orpOA/1AUQZpuk07+q96clPoHpP71OdcPPf52/6yWH0vOu5b8=",
          "dtype": "f8"
         },
         "z": {
          "bdata": "6zQRcOB6vb8TFQpPuOLZPxZNK2U/a9w/1bb9bfvL6j8j6GjKhWnrP2WGj4fx6cQ/K/I0XCOc3D/ckkvtlo6hv0P8bjTZCOM/MiQIbQY6uT8=",
          "dtype": "f8"
         }
        },
        {
         "hovertemplate": "color=Other Mental Disorders and Additional Codes<br>x=%{x}<br>y=%{y}<br>z=%{z}<extra></extra>",
         "legendgroup": "Other Mental Disorders and Additional Codes",
         "marker": {
          "color": "#00cc96",
          "opacity": 0.7,
          "size": 4,
          "symbol": "circle"
         },
         "mode": "markers",
         "name": "Other Mental Disorders and Additional Codes",
         "scene": "scene",
         "showlegend": true,
         "type": "scatter3d",
         "x": {
          "bdata": "7sdhZkO/8D+XRX9lMjXgP64D3fEUCuA/c6jnqUCr7z8=",
          "dtype": "f8"
         },
         "y": {
          "bdata": "lrsYW3Q8pL+rR6StxiXUP43nxMs86NI/m5leT1ZT3D8=",
          "dtype": "f8"
         },
         "z": {
          "bdata": "PMwQTUru8z/5uNq9F77iP2f7EWQGn+A/9SCeLQoz8T8=",
          "dtype": "f8"
         }
        },
        {
         "hovertemplate": "color=Other Neurodevelo mental Disorders p<br>x=%{x}<br>y=%{y}<br>z=%{z}<extra></extra>",
         "legendgroup": "Other Neurodevelo mental Disorders p",
         "marker": {
          "color": "#ab63fa",
          "opacity": 0.7,
          "size": 4,
          "symbol": "circle"
         },
         "mode": "markers",
         "name": "Other Neurodevelo mental Disorders p",
         "scene": "scene",
         "showlegend": true,
         "type": "scatter3d",
         "x": {
          "bdata": "BGv8XbWP8j+ZBIfoL/HUvw==",
          "dtype": "f8"
         },
         "y": {
          "bdata": "4xkGERWV+D/vivkNE/7SPw==",
          "dtype": "f8"
         },
         "z": {
          "bdata": "ZNbds54Y1T/P4hVv/UDNPw==",
          "dtype": "f8"
         }
        },
        {
         "hovertemplate": "color=Additional Codes<br>x=%{x}<br>y=%{y}<br>z=%{z}<extra></extra>",
         "legendgroup": "Additional Codes",
         "marker": {
          "color": "#FFA15A",
          "opacity": 0.7,
          "size": 4,
          "symbol": "circle"
         },
         "mode": "markers",
         "name": "Additional Codes",
         "scene": "scene",
         "showlegend": true,
         "type": "scatter3d",
         "x": {
          "bdata": "rtrXiCnu2z8=",
          "dtype": "f8"
         },
         "y": {
          "bdata": "tmmlmyJ36D8=",
          "dtype": "f8"
         },
         "z": {
          "bdata": "EpD1ut7e6j8=",
          "dtype": "f8"
         }
        }
       ],
       "layout": {
        "height": 800,
        "legend": {
         "title": {
          "text": "color"
         },
         "tracegroupgap": 0
        },
        "scene": {
         "domain": {
          "x": [
           0,
           1
          ],
          "y": [
           0,
           1
          ]
         },
         "xaxis": {
          "title": {
           "text": "x"
          }
         },
         "yaxis": {
          "title": {
           "text": "y"
          }
         },
         "zaxis": {
          "title": {
           "text": "z"
          }
         }
        },
        "template": {
         "data": {
          "bar": [
           {
            "error_x": {
             "color": "#2a3f5f"
            },
            "error_y": {
             "color": "#2a3f5f"
            },
            "marker": {
             "line": {
              "color": "#E5ECF6",
              "width": 0.5
             },
             "pattern": {
              "fillmode": "overlay",
              "size": 10,
              "solidity": 0.2
             }
            },
            "type": "bar"
           }
          ],
          "barpolar": [
           {
            "marker": {
             "line": {
              "color": "#E5ECF6",
              "width": 0.5
             },
             "pattern": {
              "fillmode": "overlay",
              "size": 10,
              "solidity": 0.2
             }
            },
            "type": "barpolar"
           }
          ],
          "carpet": [
           {
            "aaxis": {
             "endlinecolor": "#2a3f5f",
             "gridcolor": "white",
             "linecolor": "white",
             "minorgridcolor": "white",
             "startlinecolor": "#2a3f5f"
            },
            "baxis": {
             "endlinecolor": "#2a3f5f",
             "gridcolor": "white",
             "linecolor": "white",
             "minorgridcolor": "white",
             "startlinecolor": "#2a3f5f"
            },
            "type": "carpet"
           }
          ],
          "choropleth": [
           {
            "colorbar": {
             "outlinewidth": 0,
             "ticks": ""
            },
            "type": "choropleth"
           }
          ],
          "contour": [
           {
            "colorbar": {
             "outlinewidth": 0,
             "ticks": ""
            },
            "colorscale": [
             [
              0,
              "#0d0887"
             ],
             [
              0.1111111111111111,
              "#46039f"
             ],
             [
              0.2222222222222222,
              "#7201a8"
             ],
             [
              0.3333333333333333,
              "#9c179e"
             ],
             [
              0.4444444444444444,
              "#bd3786"
             ],
             [
              0.5555555555555556,
              "#d8576b"
             ],
             [
              0.6666666666666666,
              "#ed7953"
             ],
             [
              0.7777777777777778,
              "#fb9f3a"
             ],
             [
              0.8888888888888888,
              "#fdca26"
             ],
             [
              1,
              "#f0f921"
             ]
            ],
            "type": "contour"
           }
          ],
          "contourcarpet": [
           {
            "colorbar": {
             "outlinewidth": 0,
             "ticks": ""
            },
            "type": "contourcarpet"
           }
          ],
          "heatmap": [
           {
            "colorbar": {
             "outlinewidth": 0,
             "ticks": ""
            },
            "colorscale": [
             [
              0,
              "#0d0887"
             ],
             [
              0.1111111111111111,
              "#46039f"
             ],
             [
              0.2222222222222222,
              "#7201a8"
             ],
             [
              0.3333333333333333,
              "#9c179e"
             ],
             [
              0.4444444444444444,
              "#bd3786"
             ],
             [
              0.5555555555555556,
              "#d8576b"
             ],
             [
              0.6666666666666666,
              "#ed7953"
             ],
             [
              0.7777777777777778,
              "#fb9f3a"
             ],
             [
              0.8888888888888888,
              "#fdca26"
             ],
             [
              1,
              "#f0f921"
             ]
            ],
            "type": "heatmap"
           }
          ],
          "histogram": [
           {
            "marker": {
             "pattern": {
              "fillmode": "overlay",
              "size": 10,
              "solidity": 0.2
             }
            },
            "type": "histogram"
           }
          ],
          "histogram2d": [
           {
            "colorbar": {
             "outlinewidth": 0,
             "ticks": ""
            },
            "colorscale": [
             [
              0,
              "#0d0887"
             ],
             [
              0.1111111111111111,
              "#46039f"
             ],
             [
              0.2222222222222222,
              "#7201a8"
             ],
             [
              0.3333333333333333,
              "#9c179e"
             ],
             [
              0.4444444444444444,
              "#bd3786"
             ],
             [
              0.5555555555555556,
              "#d8576b"
             ],
             [
              0.6666666666666666,
              "#ed7953"
             ],
             [
              0.7777777777777778,
              "#fb9f3a"
             ],
             [
              0.8888888888888888,
              "#fdca26"
             ],
             [
              1,
              "#f0f921"
             ]
            ],
            "type": "histogram2d"
           }
          ],
          "histogram2dcontour": [
           {
            "colorbar": {
             "outlinewidth": 0,
             "ticks": ""
            },
            "colorscale": [
             [
              0,
              "#0d0887"
             ],
             [
              0.1111111111111111,
              "#46039f"
             ],
             [
              0.2222222222222222,
              "#7201a8"
             ],
             [
              0.3333333333333333,
              "#9c179e"
             ],
             [
              0.4444444444444444,
              "#bd3786"
             ],
             [
              0.5555555555555556,
              "#d8576b"
             ],
             [
              0.6666666666666666,
              "#ed7953"
             ],
             [
              0.7777777777777778,
              "#fb9f3a"
             ],
             [
              0.8888888888888888,
              "#fdca26"
             ],
             [
              1,
              "#f0f921"
             ]
            ],
            "type": "histogram2dcontour"
           }
          ],
          "mesh3d": [
           {
            "colorbar": {
             "outlinewidth": 0,
             "ticks": ""
            },
            "type": "mesh3d"
           }
          ],
          "parcoords": [
           {
            "line": {
             "colorbar": {
              "outlinewidth": 0,
              "ticks": ""
             }
            },
            "type": "parcoords"
           }
          ],
          "pie": [
           {
            "automargin": true,
            "type": "pie"
           }
          ],
          "scatter": [
           {
            "fillpattern": {
             "fillmode": "overlay",
             "size": 10,
             "solidity": 0.2
            },
            "type": "scatter"
           }
          ],
          "scatter3d": [
           {
            "line": {
             "colorbar": {
              "outlinewidth": 0,
              "ticks": ""
             }
            },
            "marker": {
             "colorbar": {
              "outlinewidth": 0,
              "ticks": ""
             }
            },
            "type": "scatter3d"
           }
          ],
          "scattercarpet": [
           {
            "marker": {
             "colorbar": {
              "outlinewidth": 0,
              "ticks": ""
             }
            },
            "type": "scattercarpet"
           }
          ],
          "scattergeo": [
           {
            "marker": {
             "colorbar": {
              "outlinewidth": 0,
              "ticks": ""
             }
            },
            "type": "scattergeo"
           }
          ],
          "scattergl": [
           {
            "marker": {
             "colorbar": {
              "outlinewidth": 0,
              "ticks": ""
             }
            },
            "type": "scattergl"
           }
          ],
          "scattermap": [
           {
            "marker": {
             "colorbar": {
              "outlinewidth": 0,
              "ticks": ""
             }
            },
            "type": "scattermap"
           }
          ],
          "scattermapbox": [
           {
            "marker": {
             "colorbar": {
              "outlinewidth": 0,
              "ticks": ""
             }
            },
            "type": "scattermapbox"
           }
          ],
          "scatterpolar": [
           {
            "marker": {
             "colorbar": {
              "outlinewidth": 0,
              "ticks": ""
             }
            },
            "type": "scatterpolar"
           }
          ],
          "scatterpolargl": [
           {
            "marker": {
             "colorbar": {
              "outlinewidth": 0,
              "ticks": ""
             }
            },
            "type": "scatterpolargl"
           }
          ],
          "scatterternary": [
           {
            "marker": {
             "colorbar": {
              "outlinewidth": 0,
              "ticks": ""
             }
            },
            "type": "scatterternary"
           }
          ],
          "surface": [
           {
            "colorbar": {
             "outlinewidth": 0,
             "ticks": ""
            },
            "colorscale": [
             [
              0,
              "#0d0887"
             ],
             [
              0.1111111111111111,
              "#46039f"
             ],
             [
              0.2222222222222222,
              "#7201a8"
             ],
             [
              0.3333333333333333,
              "#9c179e"
             ],
             [
              0.4444444444444444,
              "#bd3786"
             ],
             [
              0.5555555555555556,
              "#d8576b"
             ],
             [
              0.6666666666666666,
              "#ed7953"
             ],
             [
              0.7777777777777778,
              "#fb9f3a"
             ],
             [
              0.8888888888888888,
              "#fdca26"
             ],
             [
              1,
              "#f0f921"
             ]
            ],
            "type": "surface"
           }
          ],
          "table": [
           {
            "cells": {
             "fill": {
              "color": "#EBF0F8"
             },
             "line": {
              "color": "white"
             }
            },
            "header": {
             "fill": {
              "color": "#C8D4E3"
             },
             "line": {
              "color": "white"
             }
            },
            "type": "table"
           }
          ]
         },
         "layout": {
          "annotationdefaults": {
           "arrowcolor": "#2a3f5f",
           "arrowhead": 0,
           "arrowwidth": 1
          },
          "autotypenumbers": "strict",
          "coloraxis": {
           "colorbar": {
            "outlinewidth": 0,
            "ticks": ""
           }
          },
          "colorscale": {
           "diverging": [
            [
             0,
             "#8e0152"
            ],
            [
             0.1,
             "#c51b7d"
            ],
            [
             0.2,
             "#de77ae"
            ],
            [
             0.3,
             "#f1b6da"
            ],
            [
             0.4,
             "#fde0ef"
            ],
            [
             0.5,
             "#f7f7f7"
            ],
            [
             0.6,
             "#e6f5d0"
            ],
            [
             0.7,
             "#b8e186"
            ],
            [
             0.8,
             "#7fbc41"
            ],
            [
             0.9,
             "#4d9221"
            ],
            [
             1,
             "#276419"
            ]
           ],
           "sequential": [
            [
             0,
             "#0d0887"
            ],
            [
             0.1111111111111111,
             "#46039f"
            ],
            [
             0.2222222222222222,
             "#7201a8"
            ],
            [
             0.3333333333333333,
             "#9c179e"
            ],
            [
             0.4444444444444444,
             "#bd3786"
            ],
            [
             0.5555555555555556,
             "#d8576b"
            ],
            [
             0.6666666666666666,
             "#ed7953"
            ],
            [
             0.7777777777777778,
             "#fb9f3a"
            ],
            [
             0.8888888888888888,
             "#fdca26"
            ],
            [
             1,
             "#f0f921"
            ]
           ],
           "sequentialminus": [
            [
             0,
             "#0d0887"
            ],
            [
             0.1111111111111111,
             "#46039f"
            ],
            [
             0.2222222222222222,
             "#7201a8"
            ],
            [
             0.3333333333333333,
             "#9c179e"
            ],
            [
             0.4444444444444444,
             "#bd3786"
            ],
            [
             0.5555555555555556,
             "#d8576b"
            ],
            [
             0.6666666666666666,
             "#ed7953"
            ],
            [
             0.7777777777777778,
             "#fb9f3a"
            ],
            [
             0.8888888888888888,
             "#fdca26"
            ],
            [
             1,
             "#f0f921"
            ]
           ]
          },
          "colorway": [
           "#636efa",
           "#EF553B",
           "#00cc96",
           "#ab63fa",
           "#FFA15A",
           "#19d3f3",
           "#FF6692",
           "#B6E880",
           "#FF97FF",
           "#FECB52"
          ],
          "font": {
           "color": "#2a3f5f"
          },
          "geo": {
           "bgcolor": "white",
           "lakecolor": "white",
           "landcolor": "#E5ECF6",
           "showlakes": true,
           "showland": true,
           "subunitcolor": "white"
          },
          "hoverlabel": {
           "align": "left"
          },
          "hovermode": "closest",
          "mapbox": {
           "style": "light"
          },
          "paper_bgcolor": "white",
          "plot_bgcolor": "#E5ECF6",
          "polar": {
           "angularaxis": {
            "gridcolor": "white",
            "linecolor": "white",
            "ticks": ""
           },
           "bgcolor": "#E5ECF6",
           "radialaxis": {
            "gridcolor": "white",
            "linecolor": "white",
            "ticks": ""
           }
          },
          "scene": {
           "xaxis": {
            "backgroundcolor": "#E5ECF6",
            "gridcolor": "white",
            "gridwidth": 2,
            "linecolor": "white",
            "showbackground": true,
            "ticks": "",
            "zerolinecolor": "white"
           },
           "yaxis": {
            "backgroundcolor": "#E5ECF6",
            "gridcolor": "white",
            "gridwidth": 2,
            "linecolor": "white",
            "showbackground": true,
            "ticks": "",
            "zerolinecolor": "white"
           },
           "zaxis": {
            "backgroundcolor": "#E5ECF6",
            "gridcolor": "white",
            "gridwidth": 2,
            "linecolor": "white",
            "showbackground": true,
            "ticks": "",
            "zerolinecolor": "white"
           }
          },
          "shapedefaults": {
           "line": {
            "color": "#2a3f5f"
           }
          },
          "ternary": {
           "aaxis": {
            "gridcolor": "white",
            "linecolor": "white",
            "ticks": ""
           },
           "baxis": {
            "gridcolor": "white",
            "linecolor": "white",
            "ticks": ""
           },
           "bgcolor": "#E5ECF6",
           "caxis": {
            "gridcolor": "white",
            "linecolor": "white",
            "ticks": ""
           }
          },
          "title": {
           "x": 0.05
          },
          "xaxis": {
           "automargin": true,
           "gridcolor": "white",
           "linecolor": "white",
           "ticks": "",
           "title": {
            "standoff": 15
           },
           "zerolinecolor": "white",
           "zerolinewidth": 2
          },
          "yaxis": {
           "automargin": true,
           "gridcolor": "white",
           "linecolor": "white",
           "ticks": "",
           "title": {
            "standoff": 15
           },
           "zerolinecolor": "white",
           "zerolinewidth": 2
          }
         }
        },
        "title": {
         "font": {
          "size": 20
         },
         "text": "DSM BioBert Vectors"
        },
        "width": 1200
       }
      }
     },
     "metadata": {},
     "output_type": "display_data"
    },
    {
     "name": "stderr",
     "output_type": "stream",
     "text": [
      "/Users/robrohan/miniconda3/envs/spikes/lib/python3.11/site-packages/plotly/io/_kaleido.py:510: DeprecationWarning:\n",
      "\n",
      "\n",
      "Support for the 'engine' argument is deprecated and will be removed after September 2025.\n",
      "Kaleido will be the only supported engine at that time.\n",
      "\n",
      "\n"
     ]
    }
   ],
   "source": [
    "fig = px.scatter_3d(\n",
    "    x=reduced_vectors[:, 0],\n",
    "    y=reduced_vectors[:, 1],\n",
    "    z=reduced_vectors[:, 2],\n",
    "    color=titles,\n",
    "    title=\"DSM BioBert Vectors\",\n",
    "    size_max=3,\n",
    "    opacity=0.7\n",
    ")\n",
    "fig.update_traces(marker=dict(size=4))\n",
    "fig.update_layout(\n",
    "    width=1200,   # in pixels\n",
    "    height=800,   # in pixels\n",
    "    title_font_size=20,\n",
    ")\n",
    "fig.show()\n",
    "\n",
    "fig.write_html(\"graphs/pca_plot_version1.html\")\n",
    "fig.write_image(\n",
    "    \"graphs/pca_plot_version1.png\",\n",
    "    width=1200,\n",
    "    height=800,\n",
    "    scale=1\n",
    ")\n"
   ]
  },
  {
   "cell_type": "markdown",
   "id": "14c46175",
   "metadata": {},
   "source": [
    "## Scoring Ideas\n",
    "- Precision/Recall: retrieving top-k results, calculate precision/recall for each model\n",
    "- Ranking Metrics: metrics like Mean Reciprocal Rank (MRR) or Normalized Discounted Cumulative Gain (NDCG)\n",
    "\n",
    "> \"Which BERT model gives the most accurate results for my labeled data?\"\n",
    "\n",
    "### Mean Reciprocal Rank (MRR)\n",
    "\n",
    "The position of the first correct result is important\n",
    "\n",
    "For each query, find the rank of the first correct result. The Reciprocal Rank (RR) is $1 / rank$. MRR is the average RR across all queries.\n",
    "\n",
    "Example: Suppose you have 3 queries:\n",
    "- Query 1: Correct result is ranked 1st → RR = 1/1 = 1.0\n",
    "- Query 2: Correct result is ranked 3rd → RR = 1/3 ≈ 0.33\n",
    "- Query 3: Correct result is ranked 2nd → RR = 1/2 = 0.5\n",
    "\n",
    "$$\n",
    "MRR = (1.0 + 0.33 + 0.5) / 3 ≈ 0.61\n",
    "$$\n",
    "\n",
    "### Normalized Discounted Cumulative Gain (NDCG)\n",
    "\n",
    "NDCG is a ranking metric that measures the quality of the _entire ranked list_, not just the top result.\n",
    "\n",
    "- For each position in the ranked list, calculate: DCG = sum((2^relevance - 1) / log2(rank + 1))\n",
    "- relevance is typically a binary (0/1) or graded score (e.g., 1/2/3).\n",
    "- The DCG of the perfect ranking (correct results sorted by relevance).\n",
    "- Normalizes the score to [0, 1], where 1 is perfect.\n",
    "\n",
    "Example:\n",
    "\n",
    "- Rank 1: (2^1 - 1) / log2(1+1) = 1 / 1 = 1.0\n",
    "- Rank 2: (2^0 - 1) / log2(2+1) = 0 / 1.58 ≈ 0\n",
    "- Rank 3: (2^3 - 1) / log2(3+1) = 7 / 2 ≈ 3.5\n",
    "- Rank 4: (2^2 - 1) / log2(4+1) = 3 / 2.32 ≈ 1.29\n",
    "- $DCG = 1.0 + 0 + 3.5 + 1.29 ≈ 5.79$\n"
   ]
  }
 ],
 "metadata": {
  "kernelspec": {
   "display_name": "spikes",
   "language": "python",
   "name": "python3"
  },
  "language_info": {
   "codemirror_mode": {
    "name": "ipython",
    "version": 3
   },
   "file_extension": ".py",
   "mimetype": "text/x-python",
   "name": "python",
   "nbconvert_exporter": "python",
   "pygments_lexer": "ipython3",
   "version": "3.11.13"
  }
 },
 "nbformat": 4,
 "nbformat_minor": 5
}
