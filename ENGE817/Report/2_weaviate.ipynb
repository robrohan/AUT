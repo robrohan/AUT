{
 "cells": [
  {
   "cell_type": "code",
   "execution_count": 15,
   "id": "6f1a85ea",
   "metadata": {},
   "outputs": [
    {
     "name": "stdout",
     "output_type": "stream",
     "text": [
      "Requirement already satisfied: weaviate-client in /Users/robrohan/miniconda3/envs/spikes/lib/python3.11/site-packages (4.16.9)\n",
      "Requirement already satisfied: httpx<0.29.0,>=0.26.0 in /Users/robrohan/miniconda3/envs/spikes/lib/python3.11/site-packages (from weaviate-client) (0.28.1)\n",
      "Requirement already satisfied: validators<1.0.0,>=0.34.0 in /Users/robrohan/miniconda3/envs/spikes/lib/python3.11/site-packages (from weaviate-client) (0.35.0)\n",
      "Requirement already satisfied: authlib<2.0.0,>=1.2.1 in /Users/robrohan/miniconda3/envs/spikes/lib/python3.11/site-packages (from weaviate-client) (1.6.2)\n",
      "Requirement already satisfied: pydantic<3.0.0,>=2.8.0 in /Users/robrohan/miniconda3/envs/spikes/lib/python3.11/site-packages (from weaviate-client) (2.11.7)\n",
      "Requirement already satisfied: grpcio<1.80.0,>=1.59.5 in /Users/robrohan/miniconda3/envs/spikes/lib/python3.11/site-packages (from weaviate-client) (1.74.0)\n",
      "Requirement already satisfied: protobuf<7.0.0,>=4.21.6 in /Users/robrohan/miniconda3/envs/spikes/lib/python3.11/site-packages (from weaviate-client) (6.32.0)\n",
      "Requirement already satisfied: deprecation<3.0.0,>=2.1.0 in /Users/robrohan/miniconda3/envs/spikes/lib/python3.11/site-packages (from weaviate-client) (2.1.0)\n",
      "Requirement already satisfied: cryptography in /Users/robrohan/miniconda3/envs/spikes/lib/python3.11/site-packages (from authlib<2.0.0,>=1.2.1->weaviate-client) (45.0.6)\n",
      "Requirement already satisfied: packaging in /Users/robrohan/miniconda3/envs/spikes/lib/python3.11/site-packages (from deprecation<3.0.0,>=2.1.0->weaviate-client) (25.0)\n",
      "Requirement already satisfied: anyio in /Users/robrohan/miniconda3/envs/spikes/lib/python3.11/site-packages (from httpx<0.29.0,>=0.26.0->weaviate-client) (4.10.0)\n",
      "Requirement already satisfied: certifi in /Users/robrohan/miniconda3/envs/spikes/lib/python3.11/site-packages (from httpx<0.29.0,>=0.26.0->weaviate-client) (2025.8.3)\n",
      "Requirement already satisfied: httpcore==1.* in /Users/robrohan/miniconda3/envs/spikes/lib/python3.11/site-packages (from httpx<0.29.0,>=0.26.0->weaviate-client) (1.0.9)\n",
      "Requirement already satisfied: idna in /Users/robrohan/miniconda3/envs/spikes/lib/python3.11/site-packages (from httpx<0.29.0,>=0.26.0->weaviate-client) (3.10)\n",
      "Requirement already satisfied: h11>=0.16 in /Users/robrohan/miniconda3/envs/spikes/lib/python3.11/site-packages (from httpcore==1.*->httpx<0.29.0,>=0.26.0->weaviate-client) (0.16.0)\n",
      "Requirement already satisfied: annotated-types>=0.6.0 in /Users/robrohan/miniconda3/envs/spikes/lib/python3.11/site-packages (from pydantic<3.0.0,>=2.8.0->weaviate-client) (0.7.0)\n",
      "Requirement already satisfied: pydantic-core==2.33.2 in /Users/robrohan/miniconda3/envs/spikes/lib/python3.11/site-packages (from pydantic<3.0.0,>=2.8.0->weaviate-client) (2.33.2)\n",
      "Requirement already satisfied: typing-extensions>=4.12.2 in /Users/robrohan/miniconda3/envs/spikes/lib/python3.11/site-packages (from pydantic<3.0.0,>=2.8.0->weaviate-client) (4.14.1)\n",
      "Requirement already satisfied: typing-inspection>=0.4.0 in /Users/robrohan/miniconda3/envs/spikes/lib/python3.11/site-packages (from pydantic<3.0.0,>=2.8.0->weaviate-client) (0.4.1)\n",
      "Requirement already satisfied: sniffio>=1.1 in /Users/robrohan/miniconda3/envs/spikes/lib/python3.11/site-packages (from anyio->httpx<0.29.0,>=0.26.0->weaviate-client) (1.3.1)\n",
      "Requirement already satisfied: cffi>=1.14 in /Users/robrohan/miniconda3/envs/spikes/lib/python3.11/site-packages (from cryptography->authlib<2.0.0,>=1.2.1->weaviate-client) (1.17.1)\n",
      "Requirement already satisfied: pycparser in /Users/robrohan/miniconda3/envs/spikes/lib/python3.11/site-packages (from cffi>=1.14->cryptography->authlib<2.0.0,>=1.2.1->weaviate-client) (2.22)\n",
      "Note: you may need to restart the kernel to use updated packages.\n"
     ]
    }
   ],
   "source": [
    "%pip install -U weaviate-client # weaviate-client[agents]"
   ]
  },
  {
   "cell_type": "code",
   "execution_count": null,
   "id": "99dae71c",
   "metadata": {},
   "outputs": [],
   "source": [
    "import os\n",
    "import requests, json\n",
    "import weaviate\n",
    "from weaviate.classes.config import Configure, VectorDistances\n",
    "import weaviate.classes as wvc\n",
    "\n",
    "# Best practice: store your credentials in environment variables\n",
    "# weaviate_url = os.environ[\"WEAVIATE_URL\"]\n",
    "# weaviate_api_key = os.environ[\"WEAVIATE_API_KEY\"]\n",
    "# openai_api_key = os.environ[\"OPENAI_APIKEY\"]\n",
    "\n",
    "client = weaviate.connect_to_local()"
   ]
  },
  {
   "cell_type": "code",
   "execution_count": null,
   "id": "9050dff2",
   "metadata": {},
   "outputs": [
    {
     "name": "stdout",
     "output_type": "stream",
     "text": [
      "probably already exists Collection may not have been created properly.! Unexpected status code: 422, with response body: {'error': [{'message': 'class name DSM already exists'}]}.\n"
     ]
    }
   ],
   "source": [
    "try:\n",
    "    dsm = client.collections.create(\n",
    "        name=\"DSM\",\n",
    "        vector_config=Configure.Vectors.text2vec_transformers(\n",
    "            name=\"text_vector\",\n",
    "            source_properties=[\"text\"],\n",
    "            vector_index_config=Configure.VectorIndex.hnsw(\n",
    "                # https://docs.weaviate.io/weaviate/config-refs/distances\n",
    "                distance_metric=VectorDistances.COSINE\n",
    "            ),\n",
    "        ),\n",
    "    )\n",
    "\n",
    "    directory = \"./chunks\"\n",
    "    for file in os.listdir(directory):\n",
    "        filename = os.fsdecode(file)\n",
    "        if filename.endswith(\".json\"):\n",
    "            with open(os.path.join(directory, filename)) as f:\n",
    "                jsn = json.loads(f.read())\n",
    "\n",
    "                cks = jsn[\"chunks\"]\n",
    "                for i,c in enumerate(cks):\n",
    "                    with dsm.batch.dynamic() as batch:\n",
    "                        batch.add_object(\n",
    "                            {\n",
    "                                \"key\": f\"{jsn['id']}::{i}\",\n",
    "                                \"title\": jsn[\"title\"],\n",
    "                                \"text\": c,\n",
    "                            }\n",
    "                        )\n",
    "except Exception as ex:\n",
    "    print(\"probably already exists\", ex)"
   ]
  },
  {
   "cell_type": "code",
   "execution_count": 41,
   "id": "513eeb39",
   "metadata": {},
   "outputs": [
    {
     "name": "stdout",
     "output_type": "stream",
     "text": [
      "distance: 0.1520099639892578, certainty: 0.9239950180053711, score: 84.8%\n",
      "Sleep-Wake Disorders\n",
      "morning obligations, such as arriving at work on time. Unintentionaldaytime sleep episodes can be embarrassing and even dangerous, if, forinstance, the individual is driving or o\n",
      "----------------------------\n",
      "distance: 0.154221773147583, certainty: 0.9228891134262085, score: 84.6%\n",
      "Sleep-Wake Disorders\n",
      "###### **Differential Diagnosis****Other hypersomnias.** Hypersomnolence disorder (also known as idiopathichypersomnia) and narcolepsy are similar with respect to the presence \n",
      "----------------------------\n",
      "distance: 0.15458935499191284, certainty: 0.9227052927017212, score: 84.5%\n",
      "Breathing-Related Sleep Disorders\n",
      "asymptomatic periods. Starting with the asymptomatic period, when theindividual's sleep phase is aligned to the external environment, sleeplatency will gradually increase and the\n",
      "----------------------------\n",
      "distance: 0.15590494871139526, certainty: 0.92204749584198, score: 84.4%\n",
      "Breathing-Related Sleep Disorders\n",
      "**Normal variations in sleep.** Behavioral factors such as irregular sleepschedules, voluntary early awakening, and exposure to light in the earlymorning should be considered, p\n",
      "----------------------------\n"
     ]
    }
   ],
   "source": [
    "# client = weaviate.connect_to_weaviate_cloud(\n",
    "#     cluster_url=weaviate_url,                                    # Replace with your Weaviate Cloud URL\n",
    "#     # auth_credentials=wvc.init.Auth.api_key(weaviate_api_key),    # Replace with your Weaviate Cloud key\n",
    "#     # headers={\"X-OpenAI-Api-Key\": openai_api_key}            # Replace with appropriate header key/value pair for the required API\n",
    "# )\n",
    "import pprint\n",
    "\n",
    "client = weaviate.connect_to_local()\n",
    "try:\n",
    "    collection = client.collections.use(\"DSM\")\n",
    "\n",
    "    # results = collection.query.hybrid(\n",
    "    #     # https://deepwiki.com/weaviate/weaviate-python-client/5.2-keyword-and-hybrid-search\n",
    "    #     return_metadata=wvc.query.MetadataQuery(\n",
    "    #         score=True,\n",
    "    #         explain_score=True,\n",
    "    #         distance=True,\n",
    "    #         certainty=True\n",
    "    #     ),\n",
    "    #     query=\"patient has been complaining of lack of sleep and low mood\",\n",
    "    #     alpha=0.5,  # Equal balance between BM25 and vector search\n",
    "    #     target_vector=\"text_vector\",\n",
    "    #     limit=4,\n",
    "    # )\n",
    "    # pprint.pprint(results)\n",
    "\n",
    "    # response = collection.query.bm25()\n",
    "    # https://deepwiki.com/weaviate/weaviate/6.2-keyword-search-(bm25)\n",
    "    # https://medium.com/etoai/hybrid-search-combining-bm25-and-semantic-search-for-better-results-with-lan-1358038fe7e6\n",
    "\n",
    "    results = collection.query.near_text(\n",
    "       # Because near_text is a purely vector search, you get a distance instead of a score.\n",
    "        return_metadata=wvc.query.MetadataQuery(\n",
    "            score=True, explain_score=True, distance=True, certainty=True\n",
    "        ),\n",
    "        query=\"patient has been complaining of lack of sleep and low mood\",\n",
    "        limit=4\n",
    "    )\n",
    "    for r in results.objects:\n",
    "        print(f\"distance: {r.metadata.distance}, certainty: {r.metadata.certainty}, score: {round((1-r.metadata.distance)*100, 1)}%\")\n",
    "        print(r.properties['title'])\n",
    "        print(r.properties['text'][:180].replace(\"\\n\",\"\"))\n",
    "        print(\"----------------------------\")\n",
    "\n",
    "finally:\n",
    "    client.close()  # Close client gracefully\n",
    "\n",
    "# Most text embeddings (e.g., from BERT, Sentence-BERT, etc.) are normalized, so cosine similarity is between 0 and 1."
   ]
  },
  {
   "cell_type": "code",
   "execution_count": 19,
   "id": "c6ef5e79",
   "metadata": {},
   "outputs": [],
   "source": [
    "# resp = requests.get(\n",
    "#     \"https://raw.githubusercontent.com/weaviate-tutorials/quickstart/main/data/jeopardy_tiny.json\"\n",
    "# )\n",
    "# data = json.loads(resp.text)\n",
    "\n",
    "\n",
    "# with questions.batch.dynamic() as batch:\n",
    "#     for d in data:\n",
    "#         batch.add_object(\n",
    "#             {\n",
    "#                 \"answer\": d[\"Answer\"],\n",
    "#                 \"question\": d[\"Question\"],\n",
    "#                 \"category\": d[\"Category\"],\n",
    "#             }\n",
    "#         )\n",
    "#         if batch.number_errors > 10:\n",
    "#             print(\"Batch import stopped due to excessive errors.\")\n",
    "#             break\n",
    "\n",
    "# failed_objects = questions.batch.failed_objects\n",
    "# if failed_objects:\n",
    "#     print(f\"Number of failed imports: {len(failed_objects)}\")\n",
    "#     print(f\"First failed object: {failed_objects[0]}\")\n",
    "\n",
    "# response = questions.query.near_text(query=\"biology\", limit=2)\n",
    "\n",
    "# for obj in response.objects:\n",
    "#     print(json.dumps(obj.properties, indent=2))\n",
    "\n",
    "# client.close()"
   ]
  }
 ],
 "metadata": {
  "kernelspec": {
   "display_name": "spikes",
   "language": "python",
   "name": "python3"
  },
  "language_info": {
   "codemirror_mode": {
    "name": "ipython",
    "version": 3
   },
   "file_extension": ".py",
   "mimetype": "text/x-python",
   "name": "python",
   "nbconvert_exporter": "python",
   "pygments_lexer": "ipython3",
   "version": "3.11.13"
  }
 },
 "nbformat": 4,
 "nbformat_minor": 5
}
