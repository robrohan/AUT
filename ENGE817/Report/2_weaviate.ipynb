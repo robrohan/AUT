{
 "cells": [
  {
   "cell_type": "markdown",
   "id": "27f7ba4e",
   "metadata": {},
   "source": [
    "# Create a Vector Database"
   ]
  },
  {
   "cell_type": "markdown",
   "id": "b58b8f82",
   "metadata": {},
   "source": [
    "| ID | Model | Port |\n",
    "|----|-------|------|\n",
    "| 0 | Distilbert | 9090 |\n",
    "| 1 | Roberta | 9091 |\n",
    "| 2 | Biobert | 9092 |\n",
    "| 3 | Clinicalbert | 9093 |"
   ]
  },
  {
   "cell_type": "markdown",
   "id": "f60866d5",
   "metadata": {},
   "source": [
    "# Create Schemas and Populate DSM Data"
   ]
  },
  {
   "cell_type": "markdown",
   "id": "5044ab30",
   "metadata": {},
   "source": [
    "## Install Libraries"
   ]
  },
  {
   "cell_type": "code",
   "execution_count": 4,
   "id": "6f1a85ea",
   "metadata": {},
   "outputs": [
    {
     "name": "stdout",
     "output_type": "stream",
     "text": [
      "Requirement already satisfied: weaviate-client in /home/rob/miniconda3/envs/school/lib/python3.11/site-packages (4.16.10)\n",
      "Requirement already satisfied: plotly in /home/rob/miniconda3/envs/school/lib/python3.11/site-packages (6.3.0)\n",
      "Requirement already satisfied: numpy in /home/rob/miniconda3/envs/school/lib/python3.11/site-packages (2.3.3)\n",
      "Requirement already satisfied: scikit-learn in /home/rob/miniconda3/envs/school/lib/python3.11/site-packages (1.7.2)\n",
      "Requirement already satisfied: httpx<0.29.0,>=0.26.0 in /home/rob/miniconda3/envs/school/lib/python3.11/site-packages (from weaviate-client) (0.28.1)\n",
      "Requirement already satisfied: validators<1.0.0,>=0.34.0 in /home/rob/miniconda3/envs/school/lib/python3.11/site-packages (from weaviate-client) (0.35.0)\n",
      "Requirement already satisfied: authlib<2.0.0,>=1.2.1 in /home/rob/miniconda3/envs/school/lib/python3.11/site-packages (from weaviate-client) (1.6.4)\n",
      "Requirement already satisfied: pydantic<3.0.0,>=2.8.0 in /home/rob/miniconda3/envs/school/lib/python3.11/site-packages (from weaviate-client) (2.11.9)\n",
      "Requirement already satisfied: grpcio<1.80.0,>=1.59.5 in /home/rob/miniconda3/envs/school/lib/python3.11/site-packages (from weaviate-client) (1.75.0)\n",
      "Requirement already satisfied: protobuf<7.0.0,>=4.21.6 in /home/rob/miniconda3/envs/school/lib/python3.11/site-packages (from weaviate-client) (6.32.1)\n",
      "Requirement already satisfied: deprecation<3.0.0,>=2.1.0 in /home/rob/miniconda3/envs/school/lib/python3.11/site-packages (from weaviate-client) (2.1.0)\n",
      "Requirement already satisfied: cryptography in /home/rob/miniconda3/envs/school/lib/python3.11/site-packages (from authlib<2.0.0,>=1.2.1->weaviate-client) (46.0.1)\n",
      "Requirement already satisfied: packaging in /home/rob/miniconda3/envs/school/lib/python3.11/site-packages (from deprecation<3.0.0,>=2.1.0->weaviate-client) (25.0)\n",
      "Requirement already satisfied: typing-extensions~=4.12 in /home/rob/miniconda3/envs/school/lib/python3.11/site-packages (from grpcio<1.80.0,>=1.59.5->weaviate-client) (4.15.0)\n",
      "Requirement already satisfied: anyio in /home/rob/miniconda3/envs/school/lib/python3.11/site-packages (from httpx<0.29.0,>=0.26.0->weaviate-client) (4.10.0)\n",
      "Requirement already satisfied: certifi in /home/rob/miniconda3/envs/school/lib/python3.11/site-packages (from httpx<0.29.0,>=0.26.0->weaviate-client) (2025.8.3)\n",
      "Requirement already satisfied: httpcore==1.* in /home/rob/miniconda3/envs/school/lib/python3.11/site-packages (from httpx<0.29.0,>=0.26.0->weaviate-client) (1.0.9)\n",
      "Requirement already satisfied: idna in /home/rob/miniconda3/envs/school/lib/python3.11/site-packages (from httpx<0.29.0,>=0.26.0->weaviate-client) (3.10)\n",
      "Requirement already satisfied: h11>=0.16 in /home/rob/miniconda3/envs/school/lib/python3.11/site-packages (from httpcore==1.*->httpx<0.29.0,>=0.26.0->weaviate-client) (0.16.0)\n",
      "Requirement already satisfied: annotated-types>=0.6.0 in /home/rob/miniconda3/envs/school/lib/python3.11/site-packages (from pydantic<3.0.0,>=2.8.0->weaviate-client) (0.7.0)\n",
      "Requirement already satisfied: pydantic-core==2.33.2 in /home/rob/miniconda3/envs/school/lib/python3.11/site-packages (from pydantic<3.0.0,>=2.8.0->weaviate-client) (2.33.2)\n",
      "Requirement already satisfied: typing-inspection>=0.4.0 in /home/rob/miniconda3/envs/school/lib/python3.11/site-packages (from pydantic<3.0.0,>=2.8.0->weaviate-client) (0.4.1)\n",
      "Requirement already satisfied: narwhals>=1.15.1 in /home/rob/miniconda3/envs/school/lib/python3.11/site-packages (from plotly) (2.5.0)\n",
      "Requirement already satisfied: scipy>=1.8.0 in /home/rob/miniconda3/envs/school/lib/python3.11/site-packages (from scikit-learn) (1.16.2)\n",
      "Requirement already satisfied: joblib>=1.2.0 in /home/rob/miniconda3/envs/school/lib/python3.11/site-packages (from scikit-learn) (1.5.2)\n",
      "Requirement already satisfied: threadpoolctl>=3.1.0 in /home/rob/miniconda3/envs/school/lib/python3.11/site-packages (from scikit-learn) (3.6.0)\n",
      "Requirement already satisfied: sniffio>=1.1 in /home/rob/miniconda3/envs/school/lib/python3.11/site-packages (from anyio->httpx<0.29.0,>=0.26.0->weaviate-client) (1.3.1)\n",
      "Requirement already satisfied: cffi>=2.0.0 in /home/rob/miniconda3/envs/school/lib/python3.11/site-packages (from cryptography->authlib<2.0.0,>=1.2.1->weaviate-client) (2.0.0)\n",
      "Requirement already satisfied: pycparser in /home/rob/miniconda3/envs/school/lib/python3.11/site-packages (from cffi>=2.0.0->cryptography->authlib<2.0.0,>=1.2.1->weaviate-client) (2.23)\n",
      "Note: you may need to restart the kernel to use updated packages.\n",
      "Requirement already satisfied: nbformat in /home/rob/miniconda3/envs/school/lib/python3.11/site-packages (5.10.4)\n",
      "Requirement already satisfied: kaleido in /home/rob/miniconda3/envs/school/lib/python3.11/site-packages (1.1.0)\n",
      "Requirement already satisfied: fastjsonschema>=2.15 in /home/rob/miniconda3/envs/school/lib/python3.11/site-packages (from nbformat) (2.21.2)\n",
      "Requirement already satisfied: jsonschema>=2.6 in /home/rob/miniconda3/envs/school/lib/python3.11/site-packages (from nbformat) (4.25.1)\n",
      "Requirement already satisfied: jupyter-core!=5.0.*,>=4.12 in /home/rob/miniconda3/envs/school/lib/python3.11/site-packages (from nbformat) (5.8.1)\n",
      "Requirement already satisfied: traitlets>=5.1 in /home/rob/miniconda3/envs/school/lib/python3.11/site-packages (from nbformat) (5.14.3)\n",
      "Requirement already satisfied: choreographer>=1.0.10 in /home/rob/miniconda3/envs/school/lib/python3.11/site-packages (from kaleido) (1.1.1)\n",
      "Requirement already satisfied: logistro>=1.0.8 in /home/rob/miniconda3/envs/school/lib/python3.11/site-packages (from kaleido) (1.1.0)\n",
      "Requirement already satisfied: orjson>=3.10.15 in /home/rob/miniconda3/envs/school/lib/python3.11/site-packages (from kaleido) (3.11.3)\n",
      "Requirement already satisfied: packaging in /home/rob/miniconda3/envs/school/lib/python3.11/site-packages (from kaleido) (25.0)\n",
      "Requirement already satisfied: pytest-timeout>=2.4.0 in /home/rob/miniconda3/envs/school/lib/python3.11/site-packages (from kaleido) (2.4.0)\n",
      "Requirement already satisfied: simplejson>=3.19.3 in /home/rob/miniconda3/envs/school/lib/python3.11/site-packages (from choreographer>=1.0.10->kaleido) (3.20.1)\n",
      "Requirement already satisfied: attrs>=22.2.0 in /home/rob/miniconda3/envs/school/lib/python3.11/site-packages (from jsonschema>=2.6->nbformat) (25.3.0)\n",
      "Requirement already satisfied: jsonschema-specifications>=2023.03.6 in /home/rob/miniconda3/envs/school/lib/python3.11/site-packages (from jsonschema>=2.6->nbformat) (2025.9.1)\n",
      "Requirement already satisfied: referencing>=0.28.4 in /home/rob/miniconda3/envs/school/lib/python3.11/site-packages (from jsonschema>=2.6->nbformat) (0.36.2)\n",
      "Requirement already satisfied: rpds-py>=0.7.1 in /home/rob/miniconda3/envs/school/lib/python3.11/site-packages (from jsonschema>=2.6->nbformat) (0.27.1)\n",
      "Requirement already satisfied: platformdirs>=2.5 in /home/rob/miniconda3/envs/school/lib/python3.11/site-packages (from jupyter-core!=5.0.*,>=4.12->nbformat) (4.4.0)\n",
      "Requirement already satisfied: pytest>=7.0.0 in /home/rob/miniconda3/envs/school/lib/python3.11/site-packages (from pytest-timeout>=2.4.0->kaleido) (8.4.2)\n",
      "Requirement already satisfied: iniconfig>=1 in /home/rob/miniconda3/envs/school/lib/python3.11/site-packages (from pytest>=7.0.0->pytest-timeout>=2.4.0->kaleido) (2.1.0)\n",
      "Requirement already satisfied: pluggy<2,>=1.5 in /home/rob/miniconda3/envs/school/lib/python3.11/site-packages (from pytest>=7.0.0->pytest-timeout>=2.4.0->kaleido) (1.6.0)\n",
      "Requirement already satisfied: pygments>=2.7.2 in /home/rob/miniconda3/envs/school/lib/python3.11/site-packages (from pytest>=7.0.0->pytest-timeout>=2.4.0->kaleido) (2.19.2)\n",
      "Requirement already satisfied: typing-extensions>=4.4.0 in /home/rob/miniconda3/envs/school/lib/python3.11/site-packages (from referencing>=0.28.4->jsonschema>=2.6->nbformat) (4.15.0)\n",
      "Note: you may need to restart the kernel to use updated packages.\n"
     ]
    }
   ],
   "source": [
    "%pip install -U weaviate-client plotly numpy scikit-learn\n",
    "%pip install --upgrade nbformat kaleido"
   ]
  },
  {
   "cell_type": "markdown",
   "id": "c90bb679",
   "metadata": {},
   "source": [
    "## Imports"
   ]
  },
  {
   "cell_type": "code",
   "execution_count": 5,
   "id": "99dae71c",
   "metadata": {},
   "outputs": [],
   "source": [
    "import os\n",
    "import requests, json\n",
    "import weaviate\n",
    "import numpy as np\n",
    "from weaviate.classes.config import Configure, VectorDistances\n",
    "import weaviate.classes as wvc\n",
    "\n",
    "from sklearn.decomposition import PCA\n",
    "import matplotlib.pyplot as plt\n",
    "\n",
    "import plotly.express as px\n"
   ]
  },
  {
   "cell_type": "markdown",
   "id": "4c658fac",
   "metadata": {},
   "source": [
    "## Create Schemas and Populate DSM Data"
   ]
  },
  {
   "cell_type": "code",
   "execution_count": 6,
   "id": "1ba9b6f6",
   "metadata": {},
   "outputs": [
    {
     "name": "stdout",
     "output_type": "stream",
     "text": [
      "[{'name': 'Distilbert', 'url': 'http://t2v-transformers:8080', 'schema': 'DSMDistilbert'}, {'name': 'Roberta', 'url': 'http://t2v-transformers-drobert:8080', 'schema': 'DSMRoberta'}, {'name': 'Biobert', 'url': 'http://t2v-transformers-biobert:8080', 'schema': 'DSMBiobert'}, {'name': 'Clinicalbert', 'url': 'http://t2v-transformers-clicbert:8080', 'schema': 'DSMClinicalbert'}]\n"
     ]
    }
   ],
   "source": [
    "from tables import classes, schema_dicts\n",
    "print(schema_dicts)"
   ]
  },
  {
   "cell_type": "markdown",
   "id": "b7b79274",
   "metadata": {},
   "source": [
    "I started off by using cosine similarity (just because I am used to it), but I think in this context euclidean distance makes more sense. [Here are different distance metrics](https://docs.weaviate.io/weaviate/config-refs/distances). My idea is that the closer it is to a given passage, the more likely a diagnoisis would be. $\\theta$ could be really far away from something, but just on the same trajectory - I don't think that makes sense in this context.\n",
    "\n",
    "However, after some research it turns out that cosine similarity is probably better."
   ]
  },
  {
   "cell_type": "code",
   "execution_count": null,
   "id": "9050dff2",
   "metadata": {},
   "outputs": [
    {
     "name": "stdout",
     "output_type": "stream",
     "text": [
      "Distilbert :: DSMDistilbert\n",
      "Roberta :: DSMRoberta\n",
      "Biobert :: DSMBiobert\n",
      "Clinicalbert :: DSMClinicalbert\n"
     ]
    }
   ],
   "source": [
    "if False:\n",
    "    client = weaviate.connect_to_local()\n",
    "    try:\n",
    "        for s in schema_dicts:\n",
    "            print(f'{s[\"name\"]} :: {s[\"schema\"]}')\n",
    "\n",
    "            dsm = client.collections.create(\n",
    "                name=s[\"schema\"],\n",
    "                vector_config=Configure.Vectors.text2vec_transformers(\n",
    "                    name=\"text_vector\",\n",
    "                    source_properties=[\"text\"],\n",
    "                    vector_index_config=Configure.VectorIndex.hnsw(\n",
    "                        # https://docs.weaviate.io/weaviate/config-refs/distances\n",
    "                        distance_metric=VectorDistances.COSINE # Cosine (angular) distance\n",
    "                        # distance_metric=VectorDistances.L2_SQUARED       # 0 <= d < ∞\n",
    "                    ),\n",
    "                    inference_url=s[\"url\"],\n",
    "                ),\n",
    "            )\n",
    "\n",
    "            directory = \"./chunks\"\n",
    "            for file in os.listdir(directory):\n",
    "                filename = os.fsdecode(file)\n",
    "                if filename.endswith(\".json\"):\n",
    "                    with open(os.path.join(directory, filename)) as f:\n",
    "                        jsn = json.loads(f.read())\n",
    "\n",
    "                        cks = jsn[\"chunks\"]\n",
    "                        for i,c in enumerate(cks):\n",
    "                            with dsm.batch.dynamic() as batch:\n",
    "                                batch.add_object(\n",
    "                                    {\n",
    "                                        \"key\": f\"{jsn['id']}::{i}\",\n",
    "                                        \"title\": jsn[\"title\"],\n",
    "                                        \"text\": c,\n",
    "                                    }\n",
    "                                )\n",
    "    except Exception as ex:\n",
    "        print(\"Schema probably already exists.\", ex)\n",
    "    finally:\n",
    "        client.close()"
   ]
  },
  {
   "cell_type": "code",
   "execution_count": 8,
   "id": "5fed1ee6",
   "metadata": {},
   "outputs": [],
   "source": [
    "# client = weaviate.connect_to_local()\n",
    "# try:\n",
    "#     schema = client.collections.get(schema_dicts[0][\"schema\"])\n",
    "#     print(schema)\n",
    "# finally:\n",
    "#     client.close()"
   ]
  },
  {
   "cell_type": "markdown",
   "id": "b5e76f03",
   "metadata": {},
   "source": [
    "## Tests Query\n",
    "\n",
    "How to query the collections using the different embedding models. This is only using cosine similarity to get the results. For something more productionish, see the appendex where we use a mix of keywords and embeddings to get a (possibly) more accurate score. Not used in this research."
   ]
  },
  {
   "cell_type": "code",
   "execution_count": 9,
   "id": "59bb0ed1",
   "metadata": {},
   "outputs": [],
   "source": [
    "schema_index = 0"
   ]
  },
  {
   "cell_type": "code",
   "execution_count": 10,
   "id": "513eeb39",
   "metadata": {},
   "outputs": [
    {
     "name": "stdout",
     "output_type": "stream",
     "text": [
      "distance: 0.10876303911209106\n",
      "Breathing-Related Sleep Disorders\n",
      "----------------------------\n",
      "B. The disturbance is not better explained by another current  sleep disorder.  *Specify* whether:  **G47.34 Idiopathic hypoventilation:** This subtype is not attributable to any readily identified condition.  **G47.35 Congenital central alveolar hypoventilation:** This subtype is a rare congenital disorder in which the individual typically presents in the perinatal period with shallow breathing, or cyanosis and apnea during sleep.  **G47.36 Comorbid sleep-related hypoventilation:** This subtype occurs as a consequence of a medical condition, such as a pulmonary disorder (e.g., interstitial lung disease, chronic obstructive pulmonary disease) or a neuromuscular or chest wall disorder (e.g., muscular dystrophies, postpolio syndrome, cervical spinal cord injury, kyphoscoliosis), or medications (e.g., benzodiazepines, opiates). It also occurs with obesity (obesity hypoventilation disorder), where it reflects a combination of increased work of breathing due to reduced chest wall compliance and ventilation-perfusion mismatch and variably reduced ventilatory drive. Such individuals usually are characterized by body mass index of greater than 30 and hypercapnia during wakefulness (with a pCO 2 of greater than 45), without other evidence of hypoventilation.  *Specify* current severity:\n",
      "----------------------------\n",
      "distance: 0.10984885692596436\n",
      "Motor Disorders\n",
      "----------------------------\n",
      "**Myoclonus.** Myoclonus is characterized by a sudden unidirectional  movement that is often nonrhythmic. It may be worsened by movement and occur during sleep. Myoclonus is differentiated from tics by its rapidity, lack of suppressibility, and absence of a premonitory sensation or urge.  **Obsessive-compulsive and related disorders.** Differentiating compulsions in  OCD from complex tics may be difficult, especially because they frequently  co-occur in the same individual. The compulsions of OCD are aimed at preventing or reducing anxiety or distress and are usually performed in response to an obsession (e.g., fear of contamination). In contrast, many individuals with a tic disorder feel the need to perform the action in a particular fashion, equally on both sides of the body a certain number of times or until a \"just right\" feeling is achieved. Body-focused repetitive behavior disorders (i.e., persistent hair-pulling, skin-picking, nail-biting) are more goal-directed and complex than tics.  **Functional tic disorder.** Functional disorders should also be considered when  an individual presents with \"tic attacks\" that can go on for extended periods of time lasting from 15 minutes to several hours.  ###### **Comorbidity**  Many medical and psychiatric conditions have been described as cooccurring with tic disorders, and ADHD, disruptive behavior, and OCD and related disorders are particularly\n",
      "----------------------------\n",
      "distance: 0.11218160390853882\n",
      "Sleep-Wake Disorders\n",
      "----------------------------\n",
      "**Breathing-related sleep disorders.** Chronic sleepiness is common in breathing related sleep disorders. Individuals with hypersomnolence and breathingrelated sleep disorders may have similar patterns of excessive sleepiness. Breathing-related sleep disorders are suggested by a history of loud snoring, pauses in breathing during sleep, and nonrefreshing sleep. Examination often reveals obesity, a small airway, and large neck diameter. Hypertension is common, and some individuals may demonstrate signs of heart failure. Polysomnographic studies can confirm the presence of apneic events in breathing-related sleep disorder (and their absence in hypersomnolence disorder).  **Circadian rhythm sleep-wake disorders.** In contrast to individuals with  hypersomnolence disorder, individuals with specific subtypes of circadian rhythm sleep-wake disorder show specific temporal patterns of symptoms. For example, individuals with delayed sleep phase type often have sleep inertia and sleepiness in the morning and feel most alert in the evening and night, with habitually late bedtimes. In contrast, those with advanced sleep phase type become sleepy and go to bed early in the evening but are alert and wake easily in the early morning.  **Parasomnias.** Parasomnias such as non-REM sleep arousal disorders  (sleepwalking/sleep terrors) or REM sleep behavior disorder rarely produce the prolonged, undisturbed nocturnal sleep or daytime sleepiness characteristic of hypersomnolence disorder. However, parasomnias such as  nightmare disorder, which may result in significant curtailment of total sleep time, may conceivably manifest with daytime sleepiness.  **Hypersomnolence in other mental disorders and medical conditions.** Hypersomno\n",
      "----------------------------\n",
      "distance: 0.11295509338378906\n",
      "Sleep-Wake Disorders\n",
      "----------------------------\n",
      "**Delayed sleep phase and shift work types of circadian rhythm sleep-wake disorder.**  Individuals with the delayed sleep phase type of circadian rhythm sleepwake disorder report sleep-onset insomnia only when they try to sleep at socially normal times, but they do not report difficulty falling asleep or staying asleep when their bed and rising times are delayed and coincide with their endogenous circadian rhythm. This pattern is observed particularly among adolescents and younger adults. Shift work type differs from insomnia disorder by the history of recent shift work.  **Restless legs syndrome.** Restless legs syndrome often produces difficulties  initiating and maintaining sleep. However, an urge to move the legs and any accompanying unpleasant leg sensations are features that differentiate this disorder from insomnia disorder.  **Breathing-related sleep disorders.** Most individuals with a breathing-related  sleep disorder have a history of loud snoring, breathing pauses during sleep, and excessive daytime sleepiness. Nonetheless, as many as 50% of individuals with sleep apnea may also report insomnia symptoms, a feature that is more common among women and older adults.  **Narcolepsy.** Narcolepsy may cause insomnia complaints but is distinguished  from insomnia disorder by the predominance of symptoms of excessive daytime sleepiness, cataplexy, sleep paralysis, and sleep-related hallucinations.  **Parasomnias.** Parasomnias are characterized by a complaint of unusual  behavior or events during sleep that may lead to intermittent awakenings and difficulty resuming sleep. However, it is these behavioral events, rather than the insomnia per se, that dominate the clinical picture.\n",
      "----------------------------\n",
      "distance: 0.1132243275642395\n",
      "Sleep-Wake Disorders\n",
      "----------------------------\n",
      "###### **Differential Diagnosis**  **Other hypersomnias.** Hypersomnolence disorder (also known as idiopathic  hypersomnia) and narcolepsy are similar with respect to the presence of chronic daytime sleepiness, age at onset (typically adolescence or early adulthood), and stable course over time, but can be distinguished based on distinctive clinical and laboratory features. Individuals with hypersomnolence disorder typically have longer and less disrupted nocturnal sleep, greater difficulty awakening, more persistent daytime sleepiness (as opposed to more discrete \"sleep attacks\" in narcolepsy), longer and less refreshing daytime sleep episodes, and little or no dreaming during daytime naps. By contrast, individuals with NT1 generally have cataplexy. Those with NT1 or NT2 may demonstrate recurrent intrusions of elements of REM sleep into the transition between sleep and wakefulness (e.g., sleep-related hallucinations and sleep paralysis). The MSLT typically demonstrates shorter sleep latencies (i.e., greater physiological sleepiness) as well as the presence of multiple SOREMPs in individuals with narcolepsy.  **Sleep deprivation and insufficient nocturnal sleep.** Sleep deprivation and  insufficient nocturnal sleep are common in adolescents and shift workers. In adolescents, difficulties falling asleep at night are common, causing sleep deprivation. The MSLT result may be falsely positive if conducted while the individual is sleep deprived or while his or her sleep is phase delayed.  **Sleep apnea syndromes.** Obstructive sleep apnea is common in the general\n",
      "----------------------------\n"
     ]
    }
   ],
   "source": [
    "client = weaviate.connect_to_local()\n",
    "try:\n",
    "    collection = client.collections.use(schema_dicts[schema_index][\"schema\"])\n",
    "\n",
    "    results = collection.query.near_text(\n",
    "       # Because near_text is a purely vector search, we get a\n",
    "       # distance and no score\n",
    "        return_metadata=wvc.query.MetadataQuery(\n",
    "            score=True, explain_score=True, distance=True, certainty=True\n",
    "        ),\n",
    "        query=\"\"\"patient sad has lost intrest in activites and is having difficulty sleeping\"\"\",\n",
    "        limit=5\n",
    "    )\n",
    "    for r in results.objects:\n",
    "        # This doesn't work now we are using distance instead of cosine: , score: {round((1-r.metadata.distance)*100, 1)}%\n",
    "        # Same with this: , certainty: {r.metadata.certainty}\n",
    "        print(f\"distance: {r.metadata.distance}\")\n",
    "        print(r.properties['title'])\n",
    "        print(\"----------------------------\")\n",
    "        print(r.properties['text'])\n",
    "        print(\"----------------------------\")\n",
    "\n",
    "finally:\n",
    "    client.close()  # Close client gracefully\n",
    "\n",
    "# Most text embeddings (e.g., from BERT, Sentence-BERT, etc.) are normalized, so cosine similarity is between 0 and 1."
   ]
  },
  {
   "cell_type": "markdown",
   "id": "dd2c9907",
   "metadata": {},
   "source": [
    "## Fetch All Vectors"
   ]
  },
  {
   "cell_type": "code",
   "execution_count": 11,
   "id": "1dc92070",
   "metadata": {},
   "outputs": [
    {
     "name": "stdout",
     "output_type": "stream",
     "text": [
      "Fetched 1957 vectors.\n"
     ]
    }
   ],
   "source": [
    "client = weaviate.connect_to_local()\n",
    "try:\n",
    "    dsm = client.collections.get(schema_dicts[schema_index][\"schema\"])\n",
    "    # only using 1957 recrods in this research :)\n",
    "    response = dsm.query.fetch_objects(limit=10000, include_vector=True)\n",
    "\n",
    "    vectors = np.array([np.array(obj.vector[\"text_vector\"]) for obj in response.objects])\n",
    "    titles = np.array(np.array([obj.properties[\"title\"] for obj in response.objects]))\n",
    "\n",
    "    print(f\"Fetched {len(vectors)} vectors.\")\n",
    "except Exception as ex:\n",
    "    print(f\"Error: {ex}\")\n",
    "finally:\n",
    "    client.close()\n",
    "\n",
    "unique_titles = list(set(titles))"
   ]
  },
  {
   "cell_type": "markdown",
   "id": "b837ce60",
   "metadata": {},
   "source": [
    "# Analysis"
   ]
  },
  {
   "cell_type": "markdown",
   "id": "ecb7c8db",
   "metadata": {},
   "source": [
    "## Average Pairwise Distance\n",
    "\n",
    "My guess is a tightly clustered vector space (where most vectors are close to each other) will indicate poor discriminative power, especially if the clusters overlap or lack clear separation. I think this will lead to worse classification performance.\n",
    "\n",
    "Calculate the average distance between all pairs of vectors. If this value is small, the vectors are tightly clustered.\n",
    "\n",
    "**Interpretation**\n",
    "- Low average distance (e.g., close to 0 for cosine distance): Vectors are tightly clustered.\n",
    "- High average distance (e.g., close to 1 for cosine distance): Vectors are spread out."
   ]
  },
  {
   "cell_type": "code",
   "execution_count": 12,
   "id": "5acfabdc",
   "metadata": {},
   "outputs": [
    {
     "name": "stdout",
     "output_type": "stream",
     "text": [
      "Average pairwise distance: 0.088\n"
     ]
    }
   ],
   "source": [
    "from sklearn.metrics.pairwise import cosine_distances\n",
    "import numpy as np\n",
    "\n",
    "# Assume `vectors` is your numpy array of embeddings\n",
    "distance_matrix = cosine_distances(vectors)\n",
    "avg_distance = np.mean(distance_matrix)\n",
    "print(f\"Average pairwise distance: {avg_distance:.3f}\")"
   ]
  },
  {
   "cell_type": "markdown",
   "id": "7f9e213d",
   "metadata": {},
   "source": [
    "## Eigenvalue Decay of the Distance Matrix\n",
    "\n",
    "If the vector space is tightly clustered, the eigenvalues of the distance matrix will decay slowly (indicating low-dimensional structure). This is related to Multidimensional Scaling (MDS).\n",
    "Steps:\n",
    "\n",
    "- Compute the distance matrix.\n",
    "- Perform eigenvalue decomposition.\n",
    "- Plot the eigenvalues to see how quickly they decay.\n",
    "\n",
    "**Interpretation**\n",
    "- Slow decay (flat curve): Vectors are tightly clustered (low-dimensional structure).\n",
    "- Fast decay (steep curve): Vectors are spread out (high-dimensional structure)."
   ]
  },
  {
   "cell_type": "code",
   "execution_count": 13,
   "id": "b9b1a3fb",
   "metadata": {},
   "outputs": [
    {
     "data": {
      "image/png": "[encoded data removed]",
      "text/plain": [
       "<Figure size 640x480 with 1 Axes>"
      ]
     },
     "metadata": {},
     "output_type": "display_data"
    }
   ],
   "source": [
    "from scipy.spatial.distance import pdist, squareform\n",
    "from numpy.linalg import eigh\n",
    "\n",
    "# Compute pairwise Euclidean distances\n",
    "distance_matrix = squareform(pdist(vectors, 'euclidean'))\n",
    "eigenvalues = eigh(distance_matrix)[0]\n",
    "eigenvalues = np.sort(np.abs(eigenvalues))[::-1]  # Sort in descending order\n",
    "\n",
    "# Plot eigenvalue decay\n",
    "plt.plot(eigenvalues)\n",
    "plt.xlabel(\"Eigenvalue Index\")\n",
    "plt.ylabel(\"Eigenvalue Magnitude\")\n",
    "plt.title(\"Eigenvalue Decay of Distance Matrix\")\n",
    "plt.show()"
   ]
  },
  {
   "cell_type": "markdown",
   "id": "6ce83d6b",
   "metadata": {},
   "source": [
    "## Silhouette Score\n",
    "\n",
    "The silhouette score measures how similar a vector is to its own cluster compared to other clusters. You can use it even if you don’t have true labels by applying k-means first.\n",
    "\n",
    "**Interpretation**\n",
    "- Score close to 1: Vectors are well-separated into distinct clusters.\n",
    "- Score close to 0 or negative: Vectors are tightly clustered or overlapping.\n",
    "\n",
    "----\n",
    "\n",
    "- Silhouette Score > 0.5 Clusters are well-separated.\n",
    "- Adjusted Rand Index > 0.7 K-means clusters align well with true categories.\n",
    "- Normalized Mutual Info > 0.7 High agreement between clusters and categories."
   ]
  },
  {
   "cell_type": "code",
   "execution_count": 14,
   "id": "e0eade8c",
   "metadata": {},
   "outputs": [
    {
     "name": "stdout",
     "output_type": "stream",
     "text": [
      "Silhouette score: 0.207\n",
      "Adjusted Rand Index: -0.003\n",
      "Normalized Mutual Information: 0.043\n"
     ]
    }
   ],
   "source": [
    "from sklearn.cluster import KMeans\n",
    "from sklearn.metrics import silhouette_score\n",
    "\n",
    "k = 3  # Number of clusters , random_state=42\n",
    "labels = KMeans(n_clusters=k).fit_predict(vectors)\n",
    "score = silhouette_score(vectors, labels, metric='cosine')\n",
    "print(f\"Silhouette score: {score:.3f}\")\n",
    "\n",
    "\n",
    "# Compares the k-means cluster assignments to your true category labels.\n",
    "# - Score close to 1: Cluster assignments match the true categories well.\n",
    "# - Score close to 0: Cluster assignments are random relative to the true categories.\n",
    "from sklearn.metrics import adjusted_rand_score\n",
    "ari = adjusted_rand_score(titles, labels)\n",
    "print(f\"Adjusted Rand Index: {ari:.3f}\")\n",
    "##\n",
    "# Measures the mutual dependence between the k-means clusters and true categories.\n",
    "# - Score close to 1: High agreement between clusters and categories.\n",
    "# - Score close to 0: No agreement.\n",
    "from sklearn.metrics import normalized_mutual_info_score\n",
    "nmi = normalized_mutual_info_score(titles, labels)\n",
    "print(f\"Normalized Mutual Information: {nmi:.3f}\")\n"
   ]
  },
  {
   "cell_type": "markdown",
   "id": "a8e6fc43",
   "metadata": {},
   "source": [
    "## PCA and Graph DSM Data"
   ]
  },
  {
   "cell_type": "code",
   "execution_count": 15,
   "id": "e1618a33",
   "metadata": {},
   "outputs": [
    {
     "data": {
      "image/png": "[encoded data removed]",
      "text/plain": [
       "<Figure size 640x480 with 1 Axes>"
      ]
     },
     "metadata": {},
     "output_type": "display_data"
    }
   ],
   "source": [
    "np.random.seed(42)\n",
    "# PCA can show relative structure (e.g., tight vs. loose clusters)\n",
    "pca = PCA(n_components=3)\n",
    "reduced_vectors = pca.fit_transform(vectors)\n",
    "\n",
    "# unique_titles = list(set(titles))\n",
    "colors = plt.cm.tab20(np.linspace(0, 1, len(unique_titles)))\n",
    "\n",
    "plt.scatter(reduced_vectors[:, 0], reduced_vectors[:, 1])\n",
    "plt.title(schema_dicts[schema_index][\"name\"])\n",
    "plt.xlabel(\"PC1\")\n",
    "plt.ylabel(\"PC2\")\n",
    "plt.show()"
   ]
  },
  {
   "cell_type": "code",
   "execution_count": 17,
   "id": "d69764d5",
   "metadata": {},
   "outputs": [
    {
     "data": {
      "application/vnd.plotly.v1+json": {
       "config": {
        "plotlyServerURL": "https://plot.ly"
       },
       "data": [
        {
         "hovertemplate": "color=Disruptive, Impulse-Control, and Conduct Disorders<br>x=%{x}<br>y=%{y}<br>z=%{z}<extra></extra>",
         "legendgroup": "Disruptive, Impulse-Control, and Conduct Disorders",
         "marker": {
          "color": "#636efa",
          "opacity": 0.7,
          "size": 4,
          "symbol": "circle"
         },
         "mode": "markers",
         "name": "Disruptive, Impulse-Control, and Conduct Disorders",
         "scene": "scene",
         "showlegend": true,
         "type": "scatter3d",
         "x": {
          "bdata": "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",
          "dtype": "f8"
         },
         "y": {
          "bdata": "LKEU8cv7wT8NCZu9HzykP2vQbuRd4fg/ZODvySwW6z84Bpa0wTbWP5zoF9bsnd0/diroJ7cF1j+LNStutIfev1YLD7cWoeg/sKIrfxLxyT/MuJZF7P7FP+vR+pQb0+4/g+mZasQd9j/2zczRLva9P987NC/aeOC/hIDIGOU+7j/mElAjpKuyP2sqQtdUOda/4Z8ghNU027+QKh+q2a7sPwiBbdsZseM/xX5Ckgr25j93nYpfUmz6P63yO32j8tg/m+dyk15S+j8GF/xM6wbVP/aZB79Vafc/iK1+0jzw3L/bjPAK15b3P4g+EkkrweM/r6eeleSynj9JLn8tDCH4P8ZzcLw+7OQ/7h+J5aN54j9CIKI1d/r6PxHevNP4Wvo/iJkc4Jf27j9BgPvLcDDwP/W433YO7dA/Di3lnuOA8T8cCNPXkVzeP3v6GmKWmuO/Tw/L8kryxD9SgEp4Kk//PzC/JToa8vQ/IuKUHzP5wT8Io3fVg9H2PyMi2STqNOg/E4dZYxhK1r9CncRmUMS0vxzTCJVKcuS/PG23aWN85D/lvISJnTz5P9DHtTB1Afs/w9kTdYQV4z8qhpXuteTdP+NXUbQiQNs/Zb6cAnfvtr8qzmKyHqX+P3iFxQvmMeM/P5YnM1f0rT8eifXOBnPyP22hrok/VcO/zUAr4ebp7b/S8L7cQjRXv71j7Vnde/M/8/0AqCq/6D9kV5d8Ghv/P/GA0cnuNea/e9z7ahz18T9eyjXQBzzWPyfpzF0PLdC/aSJjHnzd7D+XvSGSCwvpP/Hu6LIJOu+/Rt2Yy+wX/D+aS+lPOP3uP7mLBuG4+M0/weV3xQcU6z/hJCUfav3oPx95g+4l38Q/C/qj5G3R9j9NS6vj5cTfv5a1dlU1lQFAccrOsPjk77/VJUgqPTmrv7C1xjbiFN8/gZC0R04g4D9tNNSatjO4v6qdn0B2uuK/Km1UcQR81T/pToPHt6jzP0m/JCpua+q/xxvKZ7lcyj/nHDneE6Xdv6pkcTcsFfA/Xk8iMrFy6D95wgyUmtrbP95CZ71Zyeg/X70K9/l55D+GtdyKpinzPzAx5o14VvE/VDlqnwYql78KEVfJpWbiP2aI8CPFia0/fAzGSWcJ77+aj2Z3Hrrdv9k0O6L90N0/yrErV0Gg6T/GPznUDt2+v0cXPLNNZcE/evH91aBOCkAKRrS37R3AP9FEVqmprqy/tebzyDoj7r8eKjAwyovrP4e7pM+clrs/d3Z7gnGS5T8mSz7gDdDwP8tDR0YHseG/iJqKyffv0L8GuD0G0XT2P3gUFViDKfM/WdPmtpou4T/qSp+/jqC5v6HuQHI7ldO/JjBpTbjs5T9iHMoIgvLkP6sbE3gn48M/V3gDfbgD0L/SmetobFP3P9rjqI0yYfM/S8hXsz4i7D9GSQHkhXDWP1ezGnwT6d6/YD/RN2RbWb99j+Qhx3Lgv9vTizmo5dm/DBVoW2K9xr9xrZKPFir4P+Jdu1YEfPU/jZ6SzZg9ub/uF8wrzAzXv0o+r94Khtg/WuDOz6FAAUDKPCNC29PxPxJ3zQE7LNU/ugwaa18Lxj9Yb3+LZHTNPyzvyAkBm9A/btb7cEeo+T8ArKcFrDvQvwia+9BG2fM/wUgVs+WHzT+rsQEiXr8BQNY3b2D/DuG/jnGg1V847D/0vni6U2TZPx5UnwjP4cu/skLYvpO7wr/nn2slrzn7P0uTeXR2peA/6GW1GiC48j83+CxHxhnNv1Df0i9o/Ke/BqHu9o681z+EB1GUHFDyP4pq1HOIt+W/4PdZO3p92T9UpZ3r7CDsPxmV37D/UeO/H9srQfZW6D/fx5upGxb6Pxk5dRX5o+a/tuOgIE248z89AHQIVYrKPzr6J8II6fo/XMFZyF2P2T/bXgqE0uvQPzi8rt+9A+o/URA+EZZ2yD9zw2M1yazwP9lbkrXtbtK/FR1i40kK4j9U8pNUFvnvPw7/HaZ8K/K/2fHI8IpJ8j/BbjYZZNDUv39vj/okKFc/lzSdp2/J4L8YAKofe6TAvzH2BdCwgPo//LMcPBr85T+jIYxmAH7/P/OtlwFS5eC/R/qYClIJ2T/DdLrDsVaDP/O2pVyQN84/zk/mqSUT2D8cfNJpc7r/P4je8Cr30dA/7L5zuP7L8z++RsgBpLIFQPlfybfFZeY/6zG9+Bgl5j/PwoNfSWD3Pym63DwbXsg/IjA9Togx7T/marxGhbv1P3zZLQMNK7K/RJYIS7EN0z8eHeS9TPn0PzIn9t6tPWe/fqJIntXl+z89yKQxdYXxP8eSrzgKAtc/v8wgMxEQ8D/dEc6+bQrQvxVyWL6Czt4/7Eqm3RHk2j8zToXDlz3mP4bDgLFFNtU/And/HAuU+T+fYIBu/DjgPzYMB5f3PNC/Bl6aVlY69D+wGIQypAHzP/5HbzPJC/Q/wcmIYz3s278caHdxAq72PxICeAIkf98/GIzFDK8z3b/49vJHWRb9P5mbpzl6VN0/t7ecrPfjrj/UNsfQlEPYP4/SEklMScu/zz9iDfZn0j+zv7t6QoPbPygfWBuTEHe/VfNwt+9o8D9cUIcU/yeXPx/kmb4hFeE/XKD4qCa8/D99u6imFqjlv8ySVbR5xvQ/XF1o9b504r+UZ6y2JaD7P3RRCZgWtuU/ecQzk9/0xD8VFYdncmPov58Mc4oTob4/ZsQBETJ/579plvlqEObxP1kWThrBiPM/je+//5058b9nLD8KzI3rP5KOihJVgsi/VkJ0kvJQtD+/lTU5M7n1P4BdLLwHnPg/NW3xVJ0v+j9Ns++dzPXxPwScSUqXH8M/p1s+EDxY9z+M4auaFzTov9W9cYINA54/ZX7XpR6mxj9Rg+fF0bHLv93HgymT19y/9aEaI40e678AAIyv88YBQMO526PYkfQ/9f9bAqPX4j+3F7txVAe+vzcnPUbBd9E/zoCmmRWLvj+oG3HF5a7UP2/FEMsEU80/tHjLsazC2z8ZavpNRanmP+dH/WwxlcA/XdsMqAyb8T9ak84W/vvoP9iNDOki3tw/HnZ7CDL0/D87ZdAjOyDfv46fXF73+eo/YyftV/mdwD+FTq9ps6+rP6MilfvuAOw/z53kx92Hwb/WQVDBxP7+Px6Uyh6uQGA/0QNhWda9pL/I73AZ9xHcv5v1DmYuZfU/6ByVvKFH1b+l93T8pTDNv2G5m2tka/0/LJ1/l+wt1b8VBRnJzxDcP9qnOnBuYPs/TW5wL7Rf+D+tkfi1kFTsv6305ouzs+u/Lx41AYMJ4L8bfGa0KKDKv96iqWK+uvU/z0zZy1sO1b9I2v/jFPioPyskmY/pMsi/RZFq0wzcor+m+ff8/j/KP5kErHLwAtC/sl+niss6iz9u++Kl82LlP6VwcteIFe4/Fr2l8IgfAECbD57nl47DP5jHs8ls77u/sWhXESqp/T+qEMnH1DDcP+iEQ55DZKw/tZItPpb61D9aDLcMbYHzP8Aln42jDOW/7bZJOkDu6z89yH8GFgDev4ddU1r+z/4/jV7dgD5D6z/y0B5j7GPfPzlv+YDRO82/Iud+HOmfmD/xpHXJH77tP4GQmc7PUM6/y6gDxxIf4b8O5gWamRrLPyG6nmbCtpQ/F0BhK/nN4j9KksXVxCD+PyzJOqUkGfA/aoEcnxeFyb+5yy/x7zn6P5aAWCjSH9m/wG7lpxRK5z9SHvUWdxniv1mtq8z6D8o/EHHwMDoB+j9nTtOldyqqPw==",
          "dtype": "f8"
         },
         "z": {
          "bdata": "uUnhik7k1r+jJcsXfJj3P43LiafF49g/2IvIhXku8b+knS4VQcDYP8sldo4qDbS/ScbA+GvG4j/9d5ofOxHhP9lrL6m0kec/Vqk7sN+p0D/i1Y8B5dm1vxuitk8Ztec/xvAv3caW4j+iBjNOdiHjP7/RcDUMy66/EXbpEClF6D9i9nz72AvSP7Y/I5+mhtO/HFL8VTL28T8+94nNbg7oP928I638lM4/q4SeD8lzxz+wWuu7B2rlv7KYMyhJCOE/W0bxn+W/yj9c8CZ/dtLWP25HnoD+sLy/TP9XsLCT9j9UD0GE/8TmP0bROP6I5e0/CGHdzigH4r+kbbSg90vuP0aCxeEjIOA/dv3jz2aykT/7HLTWh9Tgv+OCNr9c+bo/aZDBcgjMwL8N9EHkgKzuPzJ3Y3xNnO0/5Yqqvrl/6j9SFfxRJlLsP2yEo2wDd9k/fsa1DMH3wr+JaKY9HR+Rv5KICsMrG/G/ow2Uo8uo7z/USCjqGZrkv+YP29IapNO/Ha0jezGQ0L94jwRhGPPTv8RHBzeEOuK/4YNdkQay0j+ej/FjN43Vv0LWPm6JWfM/91RS/1Uq6T80dX+33+HmPwP0HJnFksA/QLBs7T+D0j/ZL6Y4EOjoP8pmhGH1K+k/QMKiUdmh1T/SfbodEK3tP4RSYyCdqfE/RkdOVi/xxj8kiEROwdXoP0UYSB6HMeE/v+nQ0pW98D9oEupHWDPzP0gYJbJrpOM/zFXtbVNS8j88nhJICDrpP+/eNJZw58K/XEMvuj+j4z/fJ1aoMmnqPy7GbD5F0+I/Lvzsgoh/4j9L5PZnQUnjP0nBkXm74sC/OkmjK1ju4T9HE3VEu4nYv8Ap6/C8zt0/AYAgnjSn6z9VluW2GGyzv+GWP8rjmuy/exfCXC2m3T95L98wYYn1P6OVXkTBP9M/YCSJe9kYyT8fE2fUwoLgv76E20p33dG/Xan5yLax8T93sYVXxr7gv8ZQJY8leOG/6gOMCWia1D/3+7MkZY/VP6cnyfIT2rY/pCUiMXAirz/1t/zH7nbfv4R0QiVTTOs/n3GkVJ3Azz8IOneebcvyP5OhnnzY4PE/rEV9PWAf1b+IS5UqqvuoPw+yH/e1V/g/5WvATfO9x7/H24ptUrfQPzEgtykBq/U/JrAEP5vsyT+pgy87+JyXv5JLZwUHEMc/n80AZfXN/7+OS6u6IDbzP20HTSL85OU/a4mB2oslt7/uk3hKlqPwPwpDTqlmiMg/GX7jZ+TQ0r+uge40f5T2P7kKt0WKcvM/uEh2U6ipz79dy2tHQe3kP7TxvtPq4tg/fSst6r9kuz8lhwOEs4/uPxMDeL6f87s/DHAO9o8F6D/g1tLYFULqP7QoCGfw+/I/hx1yogc93j8rXfjEZQ/0P9UUjK6l0Hs/cMFWqWOJ8j+hCsPZj9WJv8VZ3eaTtvQ/NpbHEyLLxD8owF09fj3xv5rGSUwsrvo/57Y2D0ltwT/bTGBgfCvoP/rEUc4Of9U/xXAaQ80hyL8CbtX61KD7P4c4KEtz7Ok/BSzP8JuN6b84uCOkPkfXP6C3bxr+c82/0Ea2ZJP2wL+yQpbpjdPwPwCx1w7ZRe4/B+eOCiAT5L/uy/yMzXn5PxrfOHYMUeY/ZtSnNQ8V7j9kBkI7BgjMP26pMfqE/4i/99C2DCUo5z+6FAwrIJ3pPwPxZEpSuIS/fPewfq+JxL973isGY7Txv4RgAs+JZOU/ic20C+Xi6D87cFLPByvhv7vnF1xKcvk/wiRx+mUaxz+qEHPdG+jrP6UZK3J+qso/TlbZz51v5D9bvtoOJQ7JPyalofqKUtg/Er2Lsb1U8j8jSqIALTyGv+3wxyGlOvO/5pXAe6kzhj8shF3BN1bpP+1dYZwWG+i/CLJSiJBjzr9EztkJwBG4vx0YD3imRMS/jvBjvxNQoj9lm81D5DTvPw6vrIBHr98/qpoYXaePzr9RXZsnyp7xPxQfHBQvQ9C/uTkK2KMZ9j97u/gYO0XTv/icn8/Gdtw/Y8MNZfyZjT8IiOieQcTyP7wh0hWMrdY/pQTXxBoZ9j/Q0HYwkIrkv+VCB/jpj4k/6lPvPhzZxz/nkdMIqxeyv6Vq/kvXv/I/hsbtMeKwdL+au6vGcirev5TMSP3xf2Y/XjObLF1e879sLilsr03xv0+gq2WuYO4/2ieRnQx18z9RAoYGCgvzvz7HWSVfI/Y/BtDvucBY7D/1OUWx4BzXv73tV0f5Tdk/XNQo1ET97T9MNhKz4bDtvyiQHoCtUNc/ATwab9Eb67+Y2NU+Y9DrPzAnkghMZ64/bGg4NYqX8z9v55orpAj1P9acGIwudvA/uotVQkUc8j9Pc6IEPcLGP85E8zdFxPc/FsHIWpEA7z8E4Uii5A7QP6BiqsEAJd+/KvCA2xvR2L8is4hZfj7sP/L0t+YDfdk/9EkhlAc9wr+AE0metCJ1vwvL6D+2CLI/SmlPEa0ejr9drHxEHpHsv8lJPv3H1uI/keLdWMiB2D9PheWDy6PiP8xnUsE7Jv0/JF6qftaQ1j9pU4FNZAvjPw9I+7NR16W/hAedLTTQ9j+4qJXd8ofaP9aNdin/cNg/VGjuHJ7Xwj8r/o71k3fyvzXoik5CW/Y/cqWLDY4j9b9Bse8ARhvRPzZ0AW/S6b8/xWk1vwuV0D8dgkE479fhvxg+dfwHYfc/2SgSuBWVwT/lwKrmASnxP2lE0TXMCuc/VmXi3vRv6r8nQd2lOuruPxofliPfg9+/0i3nYkHxnT9FvPZlA5PeP0NYBQIjvvA/xk7VF+AT9D/KKoL8KuHnv46SMViNQ/Y/Q8w5KEdA87+mHB9zfVbjvw3CMlalRvo/+XAJnsKn8j8OeOxTEcCmP5Sf8gxDi/c/xYqO+jR5z7/kQXFoY8LRv2NON+D0rMw/yvDIv1BH+z/qZS5UtkTJP5aaZgte4+0/aZIG+7Xs2z8CYgnX8vP0P9UY/NSoduM/oV/Pr5ULmr9oeNPOXSG3P0/WR3eeDKC/hfWvSg924T+7cU8wgYnlP/49N21nJ8c/RqWYT+kW8z/snWYtpyPwv8BEeRUjJuo/hDTP6JLDsT+Zt575oZnmP321yEdKwuU/FpV3xSU+zT/12FkuP7/qv3/t2ugsKNo/8ATmlRQ+wT8/UIWlqeD8P35FiADCqec/H7glMVE8kr8QD1fO0grTPxmbk/Z8SdG/+V6lqP8qyj/wZViaLLfHP1EVehEfpOG/KuzQRU5Ttb9EKxznqGuyP5VIEYwQZOK/46RiMW69179tLPdK2EHbv6ylZeLPv8m/3UJ8HLvU+j9QcdUzdCLWP8CpHN6it/0/5m6tsCqWxT+5T/RlTlbnPz5zcEGm6Ms/WPASbzEP8j83UYs27grmv8jxAvMLJOM/UZrVQq987L87c2d4kBXev+1QZ4eWkeg/tqoQljzH4L/JzsocDhmtv9fEfJl80cc/8l9p+npAxT+rAmezVcDWv2pBRByQEuE/xxz5KwPC4D8xzi4DsvbOP42uScxDf90/u34V1PnI4z8qlNfEN6jev4TPSytXT+C/VBEXZ+5g8T/Sa28BGGTaP1uViAIkoJ8/eHaLGI4A0b+7bfnS8EPDP6srz6SLsuM/OuF3/Jly0T+celODipbyP42ZiSwPJ6w/6Ai4WKbG/T9vgrtVyF3Gv1635rH+bpG/pSOMjqvfuD9v9MRLDMn8PxwSU9DaB9Y/Rzlk+auD8L+hyHULQ7zqPw==",
          "dtype": "f8"
         }
        },
        {
         "hovertemplate": "color=Dissociative Disorders<br>x=%{x}<br>y=%{y}<br>z=%{z}<extra></extra>",
         "legendgroup": "Dissociative Disorders",
         "marker": {
          "color": "#EF553B",
          "opacity": 0.7,
          "size": 4,
          "symbol": "circle"
         },
         "mode": "markers",
         "name": "Dissociative Disorders",
         "scene": "scene",
         "showlegend": true,
         "type": "scatter3d",
         "x": {
          "bdata": "h/7KZMBpzj82REBiQPjIv2M+rmkDu8c/BMymx8jU5D/RDhluqjf0P9ScovQvRbI/PixhLfYq5z8H8PagYevGP6oi1F7ys+g/3Pw/0IOm5z9ALQVyTpTmP1m62HQ6b8I/kWOdF7to7D+jgQl3UaLaPwyK+7QAZOU/QLRYbUbR2j9mW2550Jy8P4Ns4MW+F+o/hqCXwjKtur+CCa1ruQfuPxEVBCzEAuI/RlCQz8Ns8D9ak8gV76r8v5wdx1oiiuY/zMxaUU5i3j/0Iqy0h1vaPww6pUckn/e/lfyT7Okq7D/pavjg/s7RPxN9aymDsNg/UDWMmiek1D8iJU7vJYjuP2V5D6NNs9w/rhmcQPP65D/f0JAhRHeDP2LKcfAVBN0/ur4TgY5zx79Hf8PeA4WzPzbHB5Etbd8/AzSqHpN5sb+ze1zfpGPvP9hlTFsWXcs/LqjfYJu13j/oLPuRm5vTP1flFdU6KuO/tQfZ+wWs8z8on9HTEOPzP6L0tU9G8+Y/Wu2a3NNu6j9hbww9zK7rPw==",
          "dtype": "f8"
         },
         "y": {
          "bdata": "kdIa/ugu4b+d3vt38B3gPyVZ64ajbsy/arvnuXBk079XXb3cjRTQv41rahZUvd+/sqse940kpz9dzLAoYR7kv2oKWfgeOOq/DV8Y2ik1p7+vAnIBrrzev4PVDeiXEbG/85trLFyj079IT8sRp42ePyMDuMpEnfC/ALru062B4r+yb/pMPt7iP6OJ2cKQCcm/BgkYEsLNtT97wy7H0E7Pv6qh3kLwj9m/nANkKnqftz+jRLzd9CLMv4dwEBAdKua/JAqNR29477/25aOgQwDRv0Xq8UNV47q/UYhlRI6R7r+z/pvOqmroP5QjJPf2mua/oPdDsM/w078PjULk0Rrjv9GZncWxVPG/48Rriqc2wr+I2wpNffGyv54qZdYAuMW/i1RtzpCoyD930opelojhv1nSkpUC+NI/dlvit6Ff4b/wqWaW49Drv2XqKDkA9e6/GwC+JkJ5+L9BzvjImWjavyOnjatRBMk/NrwZvVW5nr98Ki2qH/3jvx8ppuuFve+/ix6WFIcaqT8N/YbRaFPgvw==",
          "dtype": "f8"
         },
         "z": {
          "bdata": "WqNkHyDm1b9VnVse1Yblv48S4h1olcu/TQ0yuTXH8D9qI24lhyHTPx6NnvcSvLc/mELvK0H83z8RhtSGWkrYv/7rYhGf9uQ/ssEESkaY1r+HVGAiwV2zv1q1w1SVdeG/n1atl9Im0z9f2tT9m2DMP8cKWUag8OQ/Vdp/nzATw794mmdVD7DCP+DSQ8TCa+I/+VxfMuUezD+lNTRFzsDpPxCo+C8zkuG/aI38o3XS3j+aMsjsqAPYP3B90KVjL9w/tfs9DE/8yb8UR8mxqCzUv3zSugCuXo2/pWyW+Js8zb/I54pzplr4v/+009dw7NO/7GMA4Sd+sT8NGNbyL2ciP5y8FU866cc/yu3e3Mks4j+pIM+5zbXNv+Yq5IIs0NU/N+0gMRnN4j+6/PQzkvvrv3hj6KzR+O0/VsFTKVsg2b/6pjm2Do2Uv/JGpJDHnqc/FNLZXwFhuL+hYuQx6YPhv0YXdEbyisS/JVd/k0fj4D9Kp/YcjBTMP0jvgIlyI64/ENM4U5ZH7T/op1cwQy7Xvw==",
          "dtype": "f8"
         }
        },
        {
         "hovertemplate": "color=Intellectual Developmental Disorders<br>x=%{x}<br>y=%{y}<br>z=%{z}<extra></extra>",
         "legendgroup": "Intellectual Developmental Disorders",
         "marker": {
          "color": "#00cc96",
          "opacity": 0.7,
          "size": 4,
          "symbol": "circle"
         },
         "mode": "markers",
         "name": "Intellectual Developmental Disorders",
         "scene": "scene",
         "showlegend": true,
         "type": "scatter3d",
         "x": {
          "bdata": "T9xhqHuMqj8eAlQ249Dvv0Baeq9zQ+0/U516fL4c9D9mDf/aN63Hv1iL1cy3ruA/Ys7X9KITsz924i0sCViWP0S9DJ41OO8/4htl/rDw0T/NWlohn2Lzv9vv2AyD6c0/fw3CVq0c2D/FwxGvIQ/hv1YexzxceNC/jBEIQSZw1j8=",
          "dtype": "f8"
         },
         "y": {
          "bdata": "otNITlYG8b9PIIDEqBngv98igi8YmOO/ga2iKmsL479tJdsuONb/v9oTFiMchfO/yTXxgBAQxD9HKkUN4nX2vwht7TQS6uW/csc+hUW+sL9gHeznwRoEQMiAUsWXvuS/PY1N3T7J9b89/eKWO+e4P9tEuTXASv+/sWbfTrj47b8=",
          "dtype": "f8"
         },
         "z": {
          "bdata": "MSkIt/eQ6r+jsdlicFjlv+4dMRhottQ/+xkP0PS+3T8hgomyM9DsvzCnoflwlOS/6RXjq+dZ27/hmMDamUfwvzs0bdNBZdw/DZggrmjScT/D32zXkUYEwCYgwOFR7/C/cntOKvwX7798gbZkpub1v9Xxx/Wod+q/3JglXTWS3L8=",
          "dtype": "f8"
         }
        },
        {
         "hovertemplate": "color=Elimination Disorders<br>x=%{x}<br>y=%{y}<br>z=%{z}<extra></extra>",
         "legendgroup": "Elimination Disorders",
         "marker": {
          "color": "#ab63fa",
          "opacity": 0.7,
          "size": 4,
          "symbol": "circle"
         },
         "mode": "markers",
         "name": "Elimination Disorders",
         "scene": "scene",
         "showlegend": true,
         "type": "scatter3d",
         "x": {
          "bdata": "xbeO1AONyT/tDIZfpEPmv0tUGvDpz+S/rN8Hyp1+zD9wOjZrn8LPv5gWpxj7++i/qtqiqaeTyD8vzIisbvjMP280ceL/Uos/5XVXIHmr0D+1n4pX/XzRv6XRsghgK6Q/C2TAGSR4678HkHzLali8P/4sMVzy2NW/ozgf27/H1T9WCQ8ezBvYPw==",
          "dtype": "f8"
         },
         "y": {
          "bdata": "Lvxb4asT2L99jPa/mB3lP4ul1Edi6KO/Q3/pCeZm0T86XuuXkM7tP0CWsNNlm9w/NpAlVuAG3b+p0ZW/91+lv7VRVaHVGec/ke5jT3m8xb/vdXhUgVHTP5l5LZkowtG/AnKvAxiLvT8EFc/FAzTMvyRtd6INjNm/u4TyrlXn5T+86CUGk9Xgvw==",
          "dtype": "f8"
         },
         "z": {
          "bdata": "BwoCtvfU5r+rizfUyPjZv9SQeLqJkas/nlNc1k0HyL+am2guU8v6vznVvIX+dOq/D2CZNaZMvT+GIkQ97LXev6P6eeJanOm/AOYcAOA/sL9uD+eyTym4P5L3WizMBcE/EE4jQANM0D88sLveTtfeP35V5iGuTaO/m5pZzK454D9uq9IA7JzHPw==",
          "dtype": "f8"
         }
        },
        {
         "hovertemplate": "color=Depressive Disorders<br>x=%{x}<br>y=%{y}<br>z=%{z}<extra></extra>",
         "legendgroup": "Depressive Disorders",
         "marker": {
          "color": "#FFA15A",
          "opacity": 0.7,
          "size": 4,
          "symbol": "circle"
         },
         "mode": "markers",
         "name": "Depressive Disorders",
         "scene": "scene",
         "showlegend": true,
         "type": "scatter3d",
         "x": {
          "bdata": "Ilikc6AwtT+95nLRop34v/i7y+EBfeI/7s6gn1738z/+VKh5e8rcPyWWucOTFNM/EG8Hkyjb5D9Lr1yvJUB2vx0fQ+f1G9O/nTGRqlSA1b+678Ti8CwGwPUuwr9lwdo/kGMYsJqD8T/PMX44xJ/iP5cV9stbgfE/ZM90lnMS4L+GvqXYx4+BP9KEHM4cmfM/SJNlq6hS3z/dFtsI8ybxPzMNd5lSVu8/50m1blth3T/9V8h081z+v526z1hrfdw/XY5A6gNXyL9j/8eC4OfyPybcpw3pkvc/J94ZO7O25b/kN7Fz5HndP8O4Hz2vYde/pjhSorlo9D8zOfIIgAhzP+koBzYAouS/65u4R/5Mxj/NAFYhS/X+v/F8l63rM/C/QfewG/M3B8D+kRRg1q3Gv1+gXdRvSQLAXZTsf3iu7L/YIr5YZ+HpPy48aY4x3NY/x9td1YMA8j9iG8AwEvu0PxPG+3wci+4/XAcSJ3Tgoz/QPX8KP4zGP9KfkCpATcs/JydUivVW5T8OqelZsoDEPyLo+wj3Vd8/NHhjPCVb+L9KjRa7HjjeP5BuYx5opATAr3NanpUL6D9crUG5mgPXPyH9Z3U3G84/ISAwllvbBcDaAP79norhv2fKM+ssPN4/WhVtxlON8j/2WFtu5KHbP9opAOmE6+Q/PBWJlvib8z8lXdu/9v30PxvvsV1YB/U/9VYBrxJK1r+UYftaiqrnPyDh+zu90NE/q8ZrclZS7b/KmlrGeiXjv69Sp0xyPbo/RCVcbEyX4D9mU6ZyrBfiPxrZ41Oj8gfAs5ocrqgFzj+ieorTDuvWv1TmAC+aacw/DznBud5Mxb8/aWYZmtPMP0FcpsI2d+U/W60D9BHD8j8e228sp4bSv8xlRglm/wLA9Y0ZQh/V678EzW6358vmPwkZPMhgi+Q/O9ddw3xq2z9XCq8YiNXiP5WnFOnvh7i/x0YjNZVgtD9sepLGFy8JwJVJvkpm8Pi/iJip19Kx9j/J7rCpbsbTPzmw6152U8+/mwWjHpz92z8=",
          "dtype": "f8"
         },
         "y": {
          "bdata": "ZjDrZE3a4z/8dNvsfz7kP2G3tBG2RtK/Spm1zR+Uwz8mIpope7vQPwXZlX/lJdk/SAPBb8jm4L8gYJmhdE7Jv0mOQxCeW+Y/iQuTuvIV4j/X6DLlU+nevxWt+ohGZeC/BdDuSvmFu79EC3f/g+zTv2XFxOBuotU/WsvTKz055D9LOQoilh29vzC47by/xsK/B7i7Ogoh27+vWBoyCESUP0ZhGD5xbty//ZRf6R9PzD/CtikDTZzQv5RGko6oyOm/eQFhjyZa8j/jq5+2m6XRv6vKY3iqo/C/m2oTCjph7z8I9xD1RlruP54uVreojeg/ttnp7Y8d27/PXQkzbPW1P8zRTDG9stU/WIbcSG343j9eiF3Aq5rSv5/9/WEFKcC/2AM12dT22r/vGDYlNcrrP+oPn1k4aOO/wqBNhZ6e4b+FUSbT4ZDevwru2ormhdQ/7Ea/6Yde7D+VfFrur6m+PxCUCVuKV8U/cWLpopid4j8rHMXUUdfoP/0kagBP8eM/VM9bIbxQzz8ol3hAgBSjv0WxBgvshPO/VjlkTBB4vj/VUx9wuOfzP9YUK8EDVOO/GnvVXrdH4z+mWIUb3rDHPy9hDQ+0OMI/RVB/kNkG4L+3y2usAevCv8Y+8Ymc7ec/4UIkwX+Psz/ihfrUSunPPx5TbEqPPvA/JyKpBcU017/Qwmx0Qc7avxJUbfpw28C//7cmaPo61r/4xrgpABzGv/wyrp59Q/a/Sn/eAMCjyj8wECSDbpyzvzkkTI9dUvY/XnUKk6ps0j+vFAEOqvPRvxHQpzhISOG/0bzmaLDi5z8kvDKom0bUP+ilmPF+2No/vsAFd/f19z/j87dNGizQv1g8vzyOace/poXmVfqp3D9sHlu94VzPP6LJ5+FisOY/K+b30rUABkCbSTyE9kTfv1yojiXHd9e//ta0Te+k7j/keWiDmJ3iP57H9hB/pcm/jz7tY4NH8b+NrykaDVjiv5n+atcXbO0/giyXaAo31b8btsvD+KbvP/r+i6LYk+o/83ZNMyED8b8=",
          "dtype": "f8"
         },
         "z": {
          "bdata": "NC1rhczV0D8QZ3uF0HLpv5ZdGMqH3OU/zfjU/WxO5T+itCgPGYDgv0ZSrwA6/uw/4Ur6EFMz1b/5zT5RExjLP3qEsmxtkN2/QxmoaA4S4r/igZX36jf1PxdlC7gB/uE/JxggvGA8xj8LeFC82ejJP7sUVnfyabE/vQaVT3o4lz8mkHBgL6uiP7Z8UlGno+E/Od7jR0VVlL/Qhxl0vZKtPyu44i3BPMc/CLjfgUnurb8YuWRHndblP+6iP79mI+s/Vtgq/AXz1r/cMgIGMUqhv71g0mDINcy/IFwCVZBK679jXqDfYsn1v3LExeZzSOU/YPgNPvVnwz9DvEMS16cgv9To8KGRGr0/0EmjxzWD0D/HFr/eHcXlP18Q8/Q16bo/CUmkimuJ7D+YRY8iKK/Uv1n0qCDkbOY/dW89s5BY0z+2qOF6DLLXP+h11UXsJdw/JoR+DimS3D9oo8A36zK5P/ZPdJs4C7i/xpLCl9G42j/sNuELgvPcv/s2ph88t5G/zkSlLWxo2D9OGFB54HC4P2hdXSZS7tE/qVHOaYG32j+RffhLW/XhPxQyDtq7e/Q/DUsr82abwD+UFylNXWWmv/sHhUgUs8m/vNjYlArc8T/D7QWz0YDnP3+qGGD2ZuQ/M6ANoI3bzz9wP9soOXLFP6Q/rAouLKI/+dYb6nGS4T9k+B8G+ejbP2oIc8Yomu0/zHRqfevrsD+MppuM78DJPx1NEDwNhre/4aWUtz2Fhz8MOM3mZbXYP37/KGUGva0/AAO3knrHsL9RfjV3RsayP4TpTAigDe8/3yrCvdsH3b+p+4hTFLfsP+lEoarum8Q/Y9sdFeDo07/eeTZ06kbDP6OVP/UKWsC/pMUQP2h7yT8Dx8q6YorsvwpzR0dG08M/qCQ7omrZ+L9uaJS9HmygP9MMZbipydA/UPR6T0aG2j8b92/5jXTjP8MqwD+Fnsw/tbxzlcTcmj++EAob+Kj2P5V9luKBu/S/sq6A+xKR4D/CpH+34oO4P+lDXmghHNy/WFVrJitDyb8=",
          "dtype": "f8"
         }
        },
        {
         "hovertemplate": "color=Medication-Induced Movement Disorders and Other Adverse Effects of Medication<br>x=%{x}<br>y=%{y}<br>z=%{z}<extra></extra>",
         "legendgroup": "Medication-Induced Movement Disorders and Other Adverse Effects of Medication",
         "marker": {
          "color": "#19d3f3",
          "opacity": 0.7,
          "size": 4,
          "symbol": "circle"
         },
         "mode": "markers",
         "name": "Medication-Induced Movement Disorders and Other Adverse Effects of Medication",
         "scene": "scene",
         "showlegend": true,
         "type": "scatter3d",
         "x": {
          "bdata": "PLdXUiA09D8lHv4QkZ3dv5uoNV+Ow/Y/cs48DTdd9j8diNhiNPPoP9GI9MPCpOQ/l4Z0knPz6D/T1NLtj2HxP+rLtjsOcNs/IPhtjYsa8j+qWeAhMBLkP1bbDZNc7uM/91+BZlzX6z8y+JTW1VzxP2IcfUeozOs/B5gYmBOr4z/0+sPJ3LfxP8e5b11gtu4/pF0SJHnR9T9VQtnhBCb3Pz3osMF6pfM/lS5+02HD6D9DgyUrtd3pPwjVX1bcNPE/TGXjRydo8T8qpO/A6H/dP+cfnmcjxOs/9uTYwx3l7z//gueqTkjxP4HYFKYHzfA/DBgO9FJ24L8F7x5defL1P2anxcZzAfQ/RPM4Q/Ff9z8E/kJ49nvzPw==",
          "dtype": "f8"
         },
         "y": {
          "bdata": "uRFD1tDR1z+ifvKYEusBQLkevD3xxeU/QbRurtVU8z9LRkn1o/vmP+lV0luSy9g/BCAEPoSU5T81xZbfqX/WP2P8HraNlO0/yDSmWkcV1j9jCUxM5tvQv+itBPD1/fU/e1g1YL7oxj9uvGIi9Ry/v8Ysa8cKrus/mVmmtvUv+j9vLB14dw7XP5aXlYhtpvM/ydto+qwS0z/8iXfYlOryP+F+Ul0Jv+E/ZeklWgQ16T9Mtp+H+FDiP2aXgNsmpuE/4EYOgENX8T+s6zw4zWzpv5dsPeK5Ose/DoUqLk8byL8f37gCjh7gP+pYa3zdGOw/VxKeItqaYz+tjVdCDZrzP1RzCdwtr8q/2hForxNM4j9XDcQNfGTaPw==",
          "dtype": "f8"
         },
         "z": {
          "bdata": "tL35V2sT4T/lOt+T0jTsv5v0+2Blme0/CIQWskBB9D+09DI10eflP5jijDfFovI/7asWjRpH7D+IXMnRA93fP9g5AWKzReU/kwzwUEg68D/tHxsglXTmP4GyB6EcFOY/6s1YM2nd4T/k/RWexYbqPxGMSxrMu9I/G8w5PakI6D8p5YOxUpvjPw6V1vvxZfA/JS3c0y/T3D90kavNe+LzPx2x8akpcfI/fnh+7NvJ0D9NuMnJfGzAP8Y/2C0lFuc/JFxpp7wJ9z//gpxA0pXUP4ZfqdUiHeo/bj7qQF415j+J5QfX4CrwPx9Z9E2Hj/E/WabIsv615T/FxqZF+KLyP2neAAseV/E/P0ZfLvnn8D/FlEewWh3uPw==",
          "dtype": "f8"
         }
        },
        {
         "hovertemplate": "color=Schizophrenia Spectrum and Other Psychotic Disorders<br>x=%{x}<br>y=%{y}<br>z=%{z}<extra></extra>",
         "legendgroup": "Schizophrenia Spectrum and Other Psychotic Disorders",
         "marker": {
          "color": "#FF6692",
          "opacity": 0.7,
          "size": 4,
          "symbol": "circle"
         },
         "mode": "markers",
         "name": "Schizophrenia Spectrum and Other Psychotic Disorders",
         "scene": "scene",
         "showlegend": true,
         "type": "scatter3d",
         "x": {
          "bdata": "YwVgl8pe7j8qh6Wyuf/xP5K6tNvtWLe/AAb2zNRz5z8Fi/+HAOWqv3+BbZSvmuM/smAPgsyL4D/NKQXF1RzuvzvFg6+aLvA/3s2QPTqr3D/OMM8rg37rP/+1Fasaaua/Njz5TKJb7b+o6/X/Kx3rP5gBH2YeZM6/eymZf2yp5T/fJP6UZRPFP0e2/KVcU9g/9HueueYJ9D+8v0KW6uG5P2xzdXsr5N0/9uYRIl4L8D9PZfxpY97XP6kVwkeMAuQ/ECa0L2ns2z+4SycWahDpv0PukKDXuNs/8lyUSZf6yD+V7nlvzeXWP3x0A/r8OwTA6U+qrqkI5T8QCzN8/Dnsv+HrxcTekPU/6lsiBIow3D8UYCd4JrjhP3O9lR8Zn9a/IZA9s838qT8TEEPEvyXcP3USJVEPZ/E/b0z/Rg40sD/wUK6LAeXTPxDRy9Jvcd0/qb0Zjm6rwD+oAtdqAu/rv/sLKRk1HcY/VJ3yMrbetz8zWSglKI7Qv1iY/iJoIOA/O7txfVVlwD/XOBQiEMfbP8qj7Sn5vOA/9VbpDiEh87/0E2FGDyjYvy/iLrMXve4/C/I17dPB3z+Tw/kcglbkv0lyDKV5jdu/yhurjIiT3T9xh4BVYarzP7vop9da5Og/29VIrYD1qT8nM+S6VgXPvzmSibNbduS/egI1YDJ15j9z55W9JCX5v8DM6fZH+sO/r75lV9TmAcD0XSX/qyLmP3NaU3mrzvI/HzFH6SYE3D/2XVQ0HIzDvzWte2uKoeI/gllfd3IU6D/Eujz9TTrXv3INWDr7s+0/xkUtB85i0D+DKOxtPcPov5TfOsi07fY/0xJI7lPc4z/me/w7KLu3v4aa/2TbkLK/zJC6cXvnBcBWgGUdlA72PyRsxjsPF9M/MVR6NOk43j8=",
          "dtype": "f8"
         },
         "y": {
          "bdata": "T1Fqo4YT1z8lv0zbbUvJP8hJzyY9hOs/MkEzclX2xj9+IKMgF4TmPzYVEQ8BoHM/7hU6EBmo4r9LhgkfTHzNP/36gfM39vY/zj+VmAEC+D9ztCjqxXXMP4lHAx47TtO/XxtRMrGvBECZ0de6D7riP+lkWsbTBPQ/uIk4XLpy4b9f/3gY4JHfP4Ea+pkiNa2/jjsc2RFE4b/B329XrpnbvyKcMmySt+Q/JsWmRqlQZD+KqAyn9iTmv2ZT4Elipdw/Pv9zk72c3r9o1wJH4eblv1EkMaSNj+e/la0gKvYk4j+fxy9s5P7sv4JHlvahdNK/iCJV0abiwz+Vz5ncS9GWv/alXolGf9C/3pOhgCpj1D/sC5cXt3TVv0XAwAQg39a/Swl+RwUU8D8GxJWYmaTTv6Rg6/h28Hy/aO7cGXlP0D8tYjNn4EDjP7lDzZc4iOo/EeAMsDLz57+BNxL8vp30PwDxtCP8mvM/PxcojZLg7D8E0H5Sl3jYP9JWWy/SEu8/uQIMBj/R5b/R+/DrH9O6Py6QZtODQ9s/KjDDfIFQ3z/D1fCrd8LxP60Kam12AcM/+B9VSee+3D9P9RIev0DPP6D6NG1eEe4/jnGcGG7vzj8+PYWpwv+xP72D5KFQBdc/PhhC941yoD9y2u84rvK9P7KYLWTGDvQ//HqHEVLgxz+nVGJA7KqoP8b3Scn3r/I/oEmMNx8L07/Uf3bSLgLWP27Jj2Eodui/nlHtbkJK778kK7CKisXoP9fG7uwNdtO/WTG3m6VWx79CHGObNorkPwaJIN6lg8A/qm29iWHAwL8O+ABgk13pP67UO+ySD+6/ZOQ5enJ53b9cUbbOISW7P+Bv3wD/jfA/0aJbmDpg17+MwYPm/N3zv76Bmm6IusW/SCuhFzgM5D8=",
          "dtype": "f8"
         },
         "z": {
          "bdata": "fDf+L9iNn7++bnzxJSzkP34SWeOFtuG/V9BhwnuE0b+ds/kUmC3ivzhr5o0VTte/o3o+rUN8xz/rDRvrrMXrPzP41OR+xOY/sI12G2yPuD8dd0yb5CW+P7UfzghRHOm/61vdQMhT+r9w+nJUuabqP0JOi5j5rPC/wMNp1y6aoj8jIxP4yyTIv4/0Xd55v92/VSlzOnoh5j+N16njiSbWv7WkblO879A/HksnrJ9Q3D+TJRTsZUzKv9nLPHw3hsy/9ZJN+1K92L8pMLkQj/rivz44nrSFG+A/7dCPbxuNfr9LWQvmeEPpv4DkwZNjCuY/qIShD7dZxL+Ip2jF3Y35vz5i5LWaVdg/dm5+1d1vwb97YSkBpQnKv25ged/w5Oy/MxQXxZk5679X6sGcEnbhvydaJGsyeec/O1IN2jx13L/kapHoVlHmvxtUGpbGKcQ/6bAoMzA72L80zNW82c70v2LMCkqsZai/wtG6V3/j3D/+Xf/fozTQP8SxLzILocS/+UI4Ut7EsD/AQemsN9jKvwjxdK1SnMI/FZLPqCcvrr+oCSTQ7QPgv9dnVPMAldI/8jLBZHxr0b8ia7TlvPDkv1zv5WROGuu/RBWKuho/sb8vKKybVgTHP86wpJD3oMM/O/Klpsbu5b96AXieB3rhv1QXBuggZPO/Fh+b1iHf4D82dfA+rvvnP0ErEnpo+9i/0iQpPz028j8jeJE95ibGP2F1eysFe+M/PVqRnIPV6b+1HjEEJ7zov4ke3vfHmLa/pOsAKrzzwz+2qoQ81xPAPyspP8G9Buk/DyBKMaEwqz9xsHKp5kDhv03iLSC+deA/Uv+KvNQmzz97OGt2CD/lv4D89i3939s/vOr12/cm8D+1s22Z/QvyP4097wPDctI/Z/yBNY9z4z8=",
          "dtype": "f8"
         }
        },
        {
         "hovertemplate": "color=Motor Disorders<br>x=%{x}<br>y=%{y}<br>z=%{z}<extra></extra>",
         "legendgroup": "Motor Disorders",
         "marker": {
          "color": "#B6E880",
          "opacity": 0.7,
          "size": 4,
          "symbol": "circle"
         },
         "mode": "markers",
         "name": "Motor Disorders",
         "scene": "scene",
         "showlegend": true,
         "type": "scatter3d",
         "x": {
          "bdata": "pXINwaTo3z/Rj/a6zSvgP6+dkmGGBrA/vLzC1rspor9fQ3Wgq0DnPxZuFbm288A/PZMF2jiRw7+iAng1v7vvP0hHrWl/OJk/GJa3qL8G+L90PgT1AL/vv4szfDs4hsc/WC5Yzfncwz8v/BU4+lvEv9NPGjyVHNE/7MLXF1Q30j+CNCeUV4/0v9d6YlO5n+Q/o/I+cKMoub/9tWmkv//iP2195z4HVsQ/9S2yWnS/3T+4LdnOgXbiPzyZaIzqrtu/irMCnFky8b9SQxLJ4V3aPwquoVgdmNU/2vwddTzhyD9RVO5WxKLLPyUJsAnTc+w/7Y52L1050D+6v776I7SkP1gg8LJZ0aa/",
          "dtype": "f8"
         },
         "y": {
          "bdata": "FLJFR7Au7L8RRb2GnDfkv0XKHp+ZpPa/ItdSNb0Z4L/hztKGhRvavwfDRIz/2+q/o1ZOf2z1x78UR8XXelSGP09dw+CJjOK/4+bjSBXDvj9EV2bQuva1v300xSVELvW/yNurcAx45r+MFJ1xfO3fv6i01cv8kca/S1pNKlmt3D/QrVKgDADFv2ZYa43bxba/3oTOHcMTxD+5jyws27Dpv/C9QS7VFcC/vro0a0Paxr8itJBJ7UbpvxxN1ehddby/9Qb5fIeZ4D8jAy8D3Vjiv68yQ404Qak/b9BQR9Wb4r+j0o4y3Rrrvz898yucLsa/XROEPpfH0b9pQq3pw6fOv4xw6L7UmuE/",
          "dtype": "f8"
         },
         "z": {
          "bdata": "tCM6E5nuzj/0X2/40o3DP6iq4u0jH7G/tOUaHlzluD++bSU2xuHCP8Oic/x5Xbo/jYRbF+hyxz9P9dxQGPHDvy4nc5WZHIq/aMjh9HzC4j97G/AV34rLv3qM5XA+WuK/c+Eu1+dPxr+ZoBS8ua/Wv4UApyJhyrY/slhOXj239L9D0Y3UzN/hvy36sZaqneA/2lv7cUld2z8ijH3sC4PZP4HCp6qiBuG/AZ94OpxF2D/7rVGfRyrQv+/yNQnJlOC/s1zFsDqQxD9s/Vmr8yPEv6L4Lx7haeI/39wfw0mvzz9+Du4oUYquPy/RgXe0y8w/g/yjKwrsfr8pxx87lxRcv0NcdXPwc9q/",
          "dtype": "f8"
         }
        },
        {
         "hovertemplate": "color=Trauma- and Stressor-Related Disorders<br>x=%{x}<br>y=%{y}<br>z=%{z}<extra></extra>",
         "legendgroup": "Trauma- and Stressor-Related Disorders",
         "marker": {
          "color": "#FF97FF",
          "opacity": 0.7,
          "size": 4,
          "symbol": "circle"
         },
         "mode": "markers",
         "name": "Trauma- and Stressor-Related Disorders",
         "scene": "scene",
         "showlegend": true,
         "type": "scatter3d",
         "x": {
          "bdata": "Z9Jh2ysB4j9MyS/2inzdP0TRuunuj9s/zD5isr55nr+vM5w7bxfjP86xtm3UPuQ/Ih4BJW/BgD+ZV95hRe/iP9hBw9NjXATA9Faycr5Q4z/GUcMHAEjTvyOJEton4qa/CEqJdlDIBMASrIERQQvMP0U5s5+4igDAlWS6Mqy42T9JsSoXD8XmP8nMvyLtPu4/5iUFPG1Q0j/DkwXc6LjcP7PeoxGDCQTAeV6n5hwfwD9ZNoYGYLnhPx7Vh0k0MtY/P+maKvvy3T+M0N/uv624v1QqtcHPtIA//1nZEJS+lr+ANS+lDbrgP2gjCK9gyvQ/xjRiMF7t7T/phsYgxgfTv3LvuuRZ/eM/BZO/0wvh6j9z+e6xe8b4v/ePzWyTc/2/aM5ToKKDAsDYVp3qRzXlP5X3v6OYQgPAG4cXIC9V4b+4fXEF6eT+v3JuZIt0D+I/C+rfvHZQ9D8+mcRuSivuP22zJIlX38m/Ze2j7Y5d7D/5ewQrQ9Xsv3YV212cWgbA0jbSSfR+yb+yYj9lA0/iv/7atPSEj/A/eoyvyn882b+JOr5P6M/av82fCKRmw+I/ic46oT+rvb9thrXPH+wBwBC/Mc/riwbA2dVKZPJpu7+NvhepREbJP+Kaj6jnhuU/tT1tCXi+0D/7glKttn3mv6yJ3GlWWAbAFX/22wIi4L8/nkyTN5D0PxIAl7d8FtE/Xg5Nrysz0z8fWBDF8EHjP62yQ0ma/Py/nP+C4+DA3j/udeJ0BS+qPzrG9/R3hQXAHHaB+TGH6T8kxnnPvwHuP01BhRpXIOE/8RT+NXIHA8BLNmfcIUTcP/O/7bdNz8Q/po7BLAXN7r/gy3aqNBbrP+gfhvpIagjA1MTTPYd62z+h+/J8BduJv4Q1uiQI+uA/QeO7ZTEHA8BThppbXBXyvw==",
          "dtype": "f8"
         },
         "y": {
          "bdata": "LpVSBYl12b97a8/Ne4fxv70x5RMX5cg/0HgDXkOL6r88ycWfye36v6fEwuisOum/C2ty2o42zD9CJI1PuBniv6sdGqn+Mue/5sMY3j8b4r+nZ4uwapbOv1mUS/k4DPK/K7mo8q2v7b9Ggx4e3Vrxv2utWH9gxta/A+HLAQL69L8/K8arL13iv+Qm77/+YvC/7dCpnj3wlz80sBuCQKr5v6s8mYlxIeC/eG73pTZQlr9QCrHhcRTyv7rBVTt1v7m/um1vk/Uv3r+DyNjKGFLHv816zLCDk8M/vttGt6V51r9+M4HRyZTlv0ZzSHQVHfC/ObPf6ZNY4r9Z2ymFKW/hP8OxgIGyAa+/DpkvLE6z0b/72WGOt7znv/IE4vc0z+2/O553FJ4j6r/cK0SjL0K2P0mDEb7O6ei/dmrmYD1v5b/09j7Mr0LdP0OMytmyW+G/2acu6AGg67+b8Osp46ncvzBsh5bv4dK/qRGJdG8Z5L8zQr9N0q6xv+CfvO5pCea/t8gZ/WVB5b+Y33hZpajpPxLXaGyr/+G/MgCgh4IxxL/yi1P4ce7TvyMlljaS4em/IpFnjn4z6b+aQ5gdw+TYvymZEqknwe6/rjywSKfopT8i/ISCMhTWvwGm1S7rbeS/hGF4v2Qj1z/VZe/9ILHWv0049JTOPOS/8jUr2ZXmyr99sJBW0cLev2QNmlDkhrW/4XvNi9B/2r8ifAXbcHfpv+JzX6pwpeE/j4SpWDjNsD+bUOqf4rLuv/i5a7VsYue/bNLs0TVO4L8w6rgzubPwv1YTYDSdk+2/dWbFH/PE4L8m29gY7Xrgv3pcfzuIFOG/lbXFgFrI3b9bgLiSgJruvw/jnac+nu+/JTBF9tmV579N/nlx7RCsP82qcasax9+/ruoHr0tc6L8qcxGO07btvw==",
          "dtype": "f8"
         },
         "z": {
          "bdata": "LNR9RwUB1L/FnSU5ORngv7zs2K7KB4U/mDjXeVNz57/kU911oh28Pz6Bsx394NS/2RQyxgVK4z/sSE0uN5zJP7UmO/vFsvA/K4ObZa/qyL+9fVZOwKm9vzw+eogChuK/Yhy4ijYwzj8t3H7ZrujRv3+30NLqWdI/CJYZqa/buj8l/bELMY3av3mrBe1IW9W/wARZMSLp3D/Svh29Y6XMv42uzFREj/A/sQz0TMEr2L9Abwr9eU/qv/9vhnxBkdu/Oxg1g74V1D+rcjGf7n6/vz2oTx8Ax7o/3WvUkuQc6r/Sdb/q1mbgv1mFsS68T84/MD3kuaivr7/oM5P5503cv4ztWoIvyN0/bAq52DI8qj9d3D0h+QbGPw7+UPV7m90/nttjUIH/3j+g+W0xuM3Tv6EijyZyv+E/BvvTWxmr2b/xid+CPxDdv2oDjur24eO/X91+i3S4kD8ulyC2+fXUvzTvBg5Es8W/wp0q95Onxb/KJb7YNWXFP7Kkss00cdE/SsUbb9vE0z95I1jJworuvyaMwd9dtKI/ij06cxh/279N3RQv+Ee3vwMj6qhXJc6/Lw9uDKenv7+haIjleCnIP+PaBeNtIew/nXckg2PQvT8owy6D4kDJPwbv+TQiwr8/RjADOLR+oL+KAOmZZIDuvyqDkuhzGNo/vYSpwZeX4791R4vo5P3UPzUS4AIO682/KPBvbH/n6b+/VZsGTNLXP+ma5kxvCeW/LYlnTSVh4T8nAiHh0L3Tv88oniyPd+M/VllwkVovwb+qR1fSQwjAP/1VUcycTb6/mXZzsy4Z7j9TavMmtEntv7LuWc5J4cQ/ewLNBmgN2D9e4KTCy7rgv6Td7x1MdvM/NIRSnB5e4b96EbnavN/aP2KZ4P1TpsC/YByDS/UN5z+3woaiN2zYPw==",
          "dtype": "f8"
         }
        },
        {
         "hovertemplate": "color=Gender Dysphoria<br>x=%{x}<br>y=%{y}<br>z=%{z}<extra></extra>",
         "legendgroup": "Gender Dysphoria",
         "marker": {
          "color": "#FECB52",
          "opacity": 0.7,
          "size": 4,
          "symbol": "circle"
         },
         "mode": "markers",
         "name": "Gender Dysphoria",
         "scene": "scene",
         "showlegend": true,
         "type": "scatter3d",
         "x": {
          "bdata": "6EAldDa/7z+bpw4FEzaiP5kotaJafHQ/yVk/+vOs5j+pE4UlTTHhP72Xf2VijcS/F1cWicE25D9a4pFqBasFwD8wYS4G2t8/+i2ttgiPwb8T/OkBr9vHvzYCh0cEW8U/ghqIpadi7D9hHg6XDXPlP6iin9NuEta/60h9Nc+7mT9LFI2MITjsv5quVpf7+tw/ye5qhr7bBsCYWdzjneDmP0g2b/QrouY/T960Hq5q679S86RgLMuRv90yazNYyQTAk40lnfOO4r/xr9jOiYDnP7YaKgEf4tI/",
          "dtype": "f8"
         },
         "y": {
          "bdata": "TyQNHGsy4b/J2wYwgfH1vxeCsvTxMtm/2ZjBBY8g5r8g5IegPsryvzfwxntDN+i/0tJTTmns1b+49D7YYLTsv0wtPo0wMPK/06YO1paO+L9DPIcKJMDgv+NTRbcNNOK/FxZb4fAv9b8egL3S4M6Ev3yz25WvBvq/hFp3frNv0r+33+UPScLrP/eIG1SiluS/G7JL49qI47/HhLWKlvzyv3shC44SLfS/+BLlYecv1b8hlcRiLz7xv9JMSz7lQOm/DKwUNCH95L9JsqBZtP/Yv8SGRrhiJNs/",
          "dtype": "f8"
         },
         "z": {
          "bdata": "8YtuIY0nx7/3rAuGG0Pwv9ojg5ckHvK//oqDBgRC679GKBF52Gbuv56tEGmmJ+m/746b0QCB3L8xVteol1KtP+5fcq0jRdy/MycPqqjv5r9SScALFLDlv+1K87903dm/z7kch4sA2L8LBID9ffzlv24AzqgyI+S/TgcCRcSmvL8lgVO7UX/+v4cWxURIWvK/4qQbKY/4wz97P6mEd5W7v8GGO6aVI9i/9Jea7KRk+7+IIoYXFCPrvzxFnF42HcU/cLgQptPn8L+J6QqeiNPjv5iaD23Z2fy/",
          "dtype": "f8"
         }
        },
        {
         "hovertemplate": "color=Parasomnias<br>x=%{x}<br>y=%{y}<br>z=%{z}<extra></extra>",
         "legendgroup": "Parasomnias",
         "marker": {
          "color": "#636efa",
          "opacity": 0.7,
          "size": 4,
          "symbol": "circle"
         },
         "mode": "markers",
         "name": "Parasomnias",
         "scene": "scene",
         "showlegend": true,
         "type": "scatter3d",
         "x": {
          "bdata": "O9O963bg4r9lXcPfEoXYP1mI7qnkkdg/NTatnn1E1D80+moeZnK+v3PvgZbxiN0/PiTzSHQQ5z8XFdYN0ivyv3oHTGdNi90/fNQMI7AHjj+K5DWj3+LjPy21QigbNdi/ShJcfvmR2z9PTF2ljHPfPw61HV3A5dQ/uC2JAFNF6r++VnbvB8/JP0d0Vrsyy9Q/cpFCLdNB7L9icQ+vhvWBPxVM6kkMS+k/o+bKuhBxlL+fg6J/0wvcvyIIK+OA/eC/URnVgmGu5j8A64ETcwHwP7lgDfxNVNQ/UbygRlHbyj/7mrtK2fX/v4covyiE5NW/pXk7Ebb/1L8nQ93LnG/eP+weQJNkDds/U6TxtGLl0j9raY9BOZrCP/avnCsnh8c/KiBKIlPu8z9hTbm08rPbP4tur1hmLPG/X5G4xBu117+s4U6b52nTP5HPBTW6INg/zwKt+Vfnwj8ZFl5ZKv/1v7u7K7nqH/C/XVEJKavg+b+gdQ8E022Wv7yfqdup2+g/UwYYjpI52T9RmZfx/xjjPw+xPWqVT8W/lymNls6A1j9q/9Db/fm+vyZpeD6yxtE/1fZu2qpE1z9dryiejkC3P97F5qT+lME/aZOEZ1s4+L+GrMZ7rwLiP58esQ6budq/6Vc54JCi2D89HZE1miLtP5ujeK8Losm/IcoBYn8C0T8=",
          "dtype": "f8"
         },
         "y": {
          "bdata": "FaS4Jho08b/axeUx2dLiv0bUpN+Pb94/zm2qehhQ0z8x7O8PmguhP0gmryGirOE/BL45gV71lj/Cgy/CGqvRv/IAQpfEE9c/PtZXtAdh5b/nDg1YnAvRP69TTYLFx8g/kFCZ1EB54T8FWCmETEbPP1OYjrwgWOg/Bfpn9Ut6y7/zBuP1tEHwP4G1kHLopew/iT6AQL/N0T8wU5T9TGL4P1a+AIBwHtK/bxuC78L87T8SBZMFLpv4P0nb6bUWhPM//QNbabLuw79bW+B0j4zVP4ND9jNZeOQ/k7gHPJ992T+DOLyYAK7HvyWNJLJtbdQ/UipNouiwiD/V0J0OBIn0P3VkepxKa+Y/3TgL49oR0T/Y+Vs2iePfv8i/kh10WN2/63kkAS4F9D+zrmNSU//jvxyw7IXDONI/nXKPrLQVvT+PieWwVc3iPyId7WgA5NK/MbeWzNFj4z/PuEW/BnToP6Ai8Cxfi+A/zjVOHI598z/an5m1ZR79P2pEnt0SJdm/57CKdXU+wj/+fie795PWP4iN0Rm5iuS/EUeZpfBxy7+LFSmbS9Div/q92N3L6Me/FleWfP9t2T+6i3WCbY62v7ry9rJ4G+q/0GCRfdl1pz/+uD6UeF/hPzwJUx/O6OI/GZezlWsnwz9KLFDTXyXOv8dXgc/J+eY/KRXqkONGwr8=",
          "dtype": "f8"
         },
         "z": {
          "bdata": "P8UWaivYoL92cQSP8dG1v1hlgSg7AKu/n4xvbyfK4b8Y1qUanpPSPxU+u/JRadk/HtMpNcaxqz9JCWqBMtvXP85CYm6wKPU/I4KU/ckt2D+IA1R01PWiv8DLolReR8Y/wDko/9CA8792bO8RToHPPxUmmV5DrtQ/KfkXbtd80r+yNLDXnyLAvziztQZ2C+i/FmoT03KB0r+gpX203YS1v15mZSUh18w/O4aznb4y9r+YXEwsoh3ov22EcOPA5uC/yx1QOa4dxr/dqdyBEv/IPwL93bFDJ44/0jzmcXzolD8RQ/tNGszpP/rit6eXP+g/JsmVx5vz279o/CcirCb5P6AyPbi7e+s/Q3sxJFR24j+2QqcEalrSP8HKjofI7cw/n4DSmJ2Q/j/bLCE437zSP7IixCUbTKw/wAzNU20n4z9TpNNu/BvYPwe0OOC1Jqs/+cLDKrQn+j/x9cAEiwfiv5n4oRu03eA/ZuqZpgFn8b9dvhhWAZnevzsZdsRFg+U/gPWWQuwLlr8zGTcdcdjRP27GBGHDvb8/k3YZng5m1z/YlbwMDyKmv09Clq8B/OE/+lzSENFT3T+PbIfyJzbbv/bNxCma+84/nNDWtxpI0D/wno5ncAD7P7XTNosQ/dk/ZlNrSTzL1z90kGYPNofyPyZB7Dv1TeQ/Lbd9GeiFxb8=",
          "dtype": "f8"
         }
        },
        {
         "hovertemplate": "color=Neurocognitive Disorders<br>x=%{x}<br>y=%{y}<br>z=%{z}<extra></extra>",
         "legendgroup": "Neurocognitive Disorders",
         "marker": {
          "color": "#EF553B",
          "opacity": 0.7,
          "size": 4,
          "symbol": "circle"
         },
         "mode": "markers",
         "name": "Neurocognitive Disorders",
         "scene": "scene",
         "showlegend": true,
         "type": "scatter3d",
         "x": {
          "bdata": "y88qhuHTgj9UkjI4emPzvycOEY3Mnu2/WSAEJrjG7r9ELvtWXfHfPzTrW7lBmtI/A2W9fAcp8T86L/jtuLPhv3W290wa998/3XZgiyIJsb/n36NATIvjP74Abir4pee/mATyL05m/D+v2KARUUTnP/Puzs7EDfk/20c+WTuh8r/xwxNi9ZnUP0jryw0W8eI/KQxNJ/fQ4z+I1r/KLWT0PwOzMcGRItw/gmxZ70sK4j9jvTknzEXcP8rBywPh4dM/ozgfmXYx8L83jjy0tbrjv9nB9gmYs+E/zMoWSw3p5L8Ixn/XywC2v08eWnprP8Q/0jfIQHSl+7/5olm8nxryv+iSyoGnMtc/UHDjfUs0+D9Wh+3ArQbxv1vbGWDSXtc/m5XHE5qwyD/pU52KWJ3zv/waA8noavA/3+wY5LVl5b8h7U2j7Bjyvxc27QrdBt+/rTCxBSeA5j9hEtsSBB72P/lTNucWou4/a8xJ0qv8s78o3n6Hu8vlPwO2TUBBeOA/61ZtJ9k2778dTKYZAKDsPzfLpwE1wPK/PrSBwK3U4L9WFo/Y71T+v5lYLnHo7Ng/2jhmJvfb0j/DlXn0GEHpP5pS63GBduQ/lYKSIRYQ6T992Vqi9DLbPymo6X1xUvk/m92pd9/z4z+ejPF39wLsv6V1DmRiP9I/xUc9x3tm6r/QLqq/IpTzPw1+fZkR5APAVga4EFPM8T9Fj8XE1gbsP4gqk2AJNOc/MDFigYgt3D847a15F9G/v6nv5celTqy/8vFtG7Py9T9j9mZWWqnbP5thZUMzm7y/5qhu9TrY8r+QgujvqhThv2QiCmWFWLe/cpTATis/lz/3sPQUZkaAv3XS+tazPPI/wYH1clsQ978BdFeJ+3DJP/mVKcIrRtk/ECyCVwGs67/w2fWnMgHXv9su3JnanOK/NGsOrkr9979KYOhnwOO8P4gWmeAxOPE/1K58QEEUwL/8vY0s3SnGPwR4QBqzGuk/cKhYgDIH5L/JA1AWQvXovy+2/OnY2+8/hrtchowMqL/7dOD/VhXvP3PNI2ALofC/nFw+oASD/b8Wne6y6XbyP/uEmFEs/uM/pimwXUzXpj95LCUT4FPzv7jWosDufuI/410AoG6te79xsQfXAozqP2/XcsP9G9i/B65EH+7O6z8JudelbTbrP6wqfkn2reo/fQkl06Og6z8xRLjZix/Rv3dhQEXPHPa/HR3lHns43b82XD3EqznGP+5loFcZ7OA/YqUaqvRtpD/E9pJOJZnjP/auJLgzTvQ/Ic7NXRnCpj8cGB/OzR3rP42uJHkk+PA/uib2IiSX6b8ZkAFQO13eP3k0YRt5COM/MXnAB6/O6j9xTP2W7xX1P8qe1k6BjuI/zL+2DLbP8T8Uu9jKIEi5PwbIBOsT+OA/rlVz+zmA4z8kPIn1HIrwP6RASaK6N+I/PZsq6Tzp1L+6ch0Td6nZP7Aiv8Zfp/W/g7CG6KSg8D8Yc6MsWiXxP7XHpWgW+sI/KITTzW6/tz9U1spELwzmvxW+px0AAb0/SoVD2X0az79GRvgjKX/xvyDuvqeHtALAHDXPWBNV8D/4STBknxDOPxje/HphFb6/fBDwOCmh4z+v8b5oCZ7mPyO092kvIOO/Xj/Wp1Lq2L+YA+SCPVviP+jfNyLXpKg/nrHwEsaw6D+pLBXcH63gP5tZE+Ush9I/whcVJzzD/b+vMe2G/zPjP8KZBBIAQtQ/74cqIc938L+ak1pRflbav/9VIfy8zM0/dlw6yzsL4D/iL0NmETfUPw==",
          "dtype": "f8"
         },
         "y": {
          "bdata": "mIlMW+b1wz+5HZuppa70P28MIy+BjNg/+S9meEE05j/fjcg/CGSfP+cGi0IJkvA/D1D2dMsj5L8dMwJJKkTgP8VGLfJ0cPk/omGnn9EH9D/8wEaREW/TPz4sHZB1udU/bYsLXo7x17+UEVwA1HixP1BTr2Yri8w/gE+qEE1v7L+I8DNzQ424PzkzUC1MzNK/hhn8EMZdwT8R5+aKteLOv/tCLrdcdOQ/qXSInz3Mzb84mRT+dB2+v8Mj2cS6u9E/u08uHOZF8D+4Kt1HbH7xP51Wjl4KuMo/Ypw+ZBww+T9Gpwdp6Ib0P0oz9h8rDfG/uC1eqmMbtL/LkVPLlSb1P27AZtQj7OM/YG5LGGDrpz+p+l3zeeGzP/jI5ZU/1Ng/vJNV4avL6T+P0LvlQNTpP09imrvZ2re/foUQxr6SvL9shdZsyQn1P/JbSSx90ec/PebmIumM4j9a462u07+2v3KFViISiq0/XG9TCldH4T+rQZvuH+rIvzGlyoOWENG/ENVa/RCz6z/bcGBnwwqNv4HdxlT5c+g/po26Z/lT8j+HK1NqpgfzPy3jIgcl3+U/z0tt0Z0u6L+8aHfUs3/RP9cU9XfJd+O/kFApqNUbyD+MH6vatl/qvwizDuXtxNe/Y+UJzBA0wT9vw6gAIBTXP9XlotWvNvg/0lfRQmjDBEBhR3WDqW7Rv7Y2hnjaiuC/myiSejBTyD++c/XBaYXCv0IZw6Apjby/ZCYCyndZ2T+cqLD3E7biP0lFxD/aEPg/D/Lz6M0ZxL+QSHr6X4PBP6S32GckfdS/EEasFpkp9T/WegmEg7LxP+f83124v+E/LUO5QC2L2D8Uv6d5aRfXP+E3kKPyCJ6/RHder85E6b/nspyIIVzHP2yPcPMBqdG/WG7O3IMd9D9o3JBh60b1Pw+s4bL79sm/zl5FgBRFwT/e/IH7mPPgP4clnESP6K6/Yat0sxk1AEBfVVdHqCXXP+ZLhv1Oh9g/A3Qr2W7B9z9KnuVM8Z/qP65xVaXfHOc/XUuaXyI9x7/+fcTGix6ePwHKc0rHBvc/joNFPhlmnb9ud4mvT7znv7iJcnORJcq/Pr9uscHl4D9QhJFl1kHfP4PtPmk33bI/1Sp3IhSK4r8oJSs++vXovyQjnv3CifA/xfQZ0lOf5b8BEbc0F7K7v8mzByAT296/6kWOHe+x4r/5U1EVNdjRP4ZcuNhuC9s/nSGyewqb6j9hDxD5nuLwPxIRObfYGOA/yDHmj1ts6T/kIcmfQgnwv7KLOwnPB9O/om9x1eDru7+1JnGuyNu5P3eVb3nnROi/Wx677Byg5z+895X3wn3SP32fLrCdsu0/rNMVQJngzD8w5ypJQm7aPzyHASxciNK/j3DrcWNd8b8JQsy2L3PZP6LR8hqpS94/5k/BW3L7oT9MxmcZIE7SP0kGeJe2bNG/JuzKrjbl/T/Ln1ZZT5TNP37YifHYE+K/rDkA/KWV0T/JSurFNPPWP4DrPVXsNWW/4xKJ5Nzw3z99xud+SMr8P8AVW/53iOc/i3iCmxAK0T8muFurwFIIQDPwkAgW5aw/kTxW719l1z8yQq1ZtxYxP82t1EialuM/73zSVKSKyb+5ojuwppriv0/A7NdjHLy/xPP47SlE+T/IJdqsV9vav8IzDI76qO6/5OB08yPpxj9wKXAsPR/LP7PWI/+9mfM/LtVoctRXkr+UJ924zpXmP+46F88w2Mw/wpbtnGsP9D+z29p1DzfkvzouZbEoGrO/MtLBaabgxr/WqDNoDpziPw==",
          "dtype": "f8"
         },
         "z": {
          "bdata": "IvT7cygIo7+e6M77/4b1v8q5cGo3Gsq/81LujxuZyL8m3QnOeoTgv0O/X6D779O/J4xBpbOYxT+ksz4KfsrBv8Jpwi6p3++/596Qv44q3L+QoDSSwPqpv2dR6xlGhOM/4pyLHKz64T8gdYJAxlnFP2jqGv93yeA/1oMJoy+e8b8Gfe8Ra3TnP880NKCxpOE/fInRGNM01r9f8ugFnajaP/y31BiViOG/Y0m/H8LSxj8CC9q206npv3Q9EXhXCNE/+s3QcyLX3L82Hltl6YTxvwfucpzqLOQ/akmlSsrk4b9oiyvapAbRv9JMOaLmVOa/sMt9zneq8j8CZfod4M/zvwz40G8cHdO/QNOZPIya4T99MMzrQjHGv2lfLuLhMcW/SLOrHuNqs79VLI99e2LWvwKtkK0vjae/jLH+8b+/3j/JF/F/pT7vvxCkxfKWGea/2RDC6suK1T95UzGBu0HmP6qOA12Pday/mn++ZtAunT8ix/boYWPWvxqtzrDj77a/xZRtgyW9z7+neLB2Ug67P1gxQY1I6Lm/ByaFzKdJ8r9zAusdZSfsv0MqLghn0tK/L1hW8hq+ir+F95fu0prTPzuzCfdbY+s/EaPR+VMVub/Kt8oBg0qtP8XrkCMWgOw/No/gGNtO2z/LGRYiJinpP30WvENgJeO/A2m890Xg+7/STF1L0R7iv4Z6df+le/A/wHTFLZxw1j8+GFotzPO4v1AzmlpDreE/6EKa91F/yr8aBl02Siruv+VapRQ07sU/mpWMLeMX1D/o2SDyA77Kv7B3zom+b9+/EAXB+tdE9r8EhU+NyxfsvytETPFWz+W/v3vbMbg8gr9baU97JaDtvzPNWvz8ANo/RqigINTw5r9zxkFeYj60v2jFRhXt33i/bhpsCngQ7r+Sm/43xs7mP3t6/18J4sa/QqcYKCui0T+aW95hDrbZv/7dQIYDlsA/3rUS+ubw5r8zhHsQTX/iP17tIJWc4L6/P6Vn2I1G2r8sQYRI0S3Xv6pAiTWDlM8/2YlzLF2Hkz+KkFAPl83Pv+2sP3o13OG/8axNt7jy3j/e/WjZCezlP/27Pb4ttcm/2Ll0DnGdor8gtRtONLTGPwghqyvyb9a/4DzV7Zxr5L/iNfGy0dfdv960oDSjL/C/w5NiGmTDR79VJxvhA0LdP0okbMtAnNU/O5BcVpA+zz9PBKQIV7HbPw0MeWRffMY/DK//r/pQ9L/Lig7sJp/gPxVQ1CFvNuM/ARa+VPXT6b/RQocGXj7Dv6GTMdb8TKk/qtj3z6Vj8b92+JOsmeLCPyQJlQ+4A+k/n63V/qP66r+gEUarz2fOv1xAEW9vlOQ/iC3aF5Dpt7801H/NBlTbPyaBjsTPms2/DQkuX5kn4L/2SVoxOGjAv3YMCKAkP+a/i3vXh7vGy78e5teYT5XqP9q8cFbdLMk/MFcbVkQb4L9riunGpB7XP5t6Xsgh1O2/9+Ql7/9xuT8XCl5MkD6kP4qtJpLYvua/MwYW60dCwz/xaC22Twz0v/y9L5i4ecO/kfOix6QL2T8wXEmS5Iz+v6NWiQXUye8/ULQ68u6Q6j+//UudGT7HP0+8W/0CCdW/qKLtiWdssj8t2Qg1nSDRP9P0ukIHsd6/rfrO5WBp67+JYppYtNnDP4AfL086HfO/uiztvYIv4D/wWi1OOFiXvx2/giNC2OS/CbklRPIF5T87KDiXkT7uv20rrM9+0LC/EQfRFUuu9L/2RP8J6XPuv0H9ryFFvcw/lUwv5sty1j8eaA46D6vbPw==",
          "dtype": "f8"
         }
        },
        {
         "hovertemplate": "color=Anxiety Disorders<br>x=%{x}<br>y=%{y}<br>z=%{z}<extra></extra>",
         "legendgroup": "Anxiety Disorders",
         "marker": {
          "color": "#00cc96",
          "opacity": 0.7,
          "size": 4,
          "symbol": "circle"
         },
         "mode": "markers",
         "name": "Anxiety Disorders",
         "scene": "scene",
         "showlegend": true,
         "type": "scatter3d",
         "x": {
          "bdata": "FBEdekhdgT/xOfahX+bbv/y8CbvikATAXhYGiX3t4z9e7AaRIR+3PzB/MRh+ocy/tGLKhEPV2T9vzK9QkjPuP4r/SD/wTso/0Ycs30Wo4b8tDPZ4qv7Ev8G4OtGlxtk/j+iwGkWZ6z86cpoX/zDMP2PyHA4Evta/5rTzu7WxyL99HoTYHDDkP53LJQ3Xy5g/9337nau5tb8fT6VkUqIHwMCdSyM4Zay/VYj190lm3z/0t70MWvDrP3HIqVivRNE/C4YganFU77+c01gPWVrTP6auZPQNROU/NHckJCYs0z+mTVzGdSjhP/ZHf1M9KNE/oYzxSfVw07/WaIp+I334vxeUa1qjKuk/o2ohKXny7T+Dgi+n7BztP+HgZj+0/JG/AkRXsKq+0z9TbhM/Zky1P1RO3jTtTve/2xhLwrz11r8jnkSYfZ3hP+S0JlOn7vI/kYOgxNsV8T/4srSJ5VPlP8AJQEkGr+s/QjQVmNxX7j+YQ+tDAAT3v/Kl9iAZyO2/RvbWrFgWzT9fdQTtBM7Wv8BcwZTTApq/2bOUAcary7/b+sw5aYHuv0J+01YVPsO/R0Ppfpvk0z8w495DogUNwLqChrs8XuQ/2McvubKBtb/Rg71k1PClP5yIBN5s0tc/t2GZSef/r7+INVd3eTXUP3xq8iV1qJ+/kAcTLQLg0T8ZZjFLi82fv6j0yGgEY+6/plLPDKAp4T+pdkBoOF/kP3JNrLr8QOY/bWldslb27j+lyNFIHJINwMxjX8FR5/I/IRoHT2vw4z9LWZ+k803hPxq8Pg7uMfY/Lv3o2S3o3j8T4O4TPTDfPzjwMtnmzes/YVE+xpnH0b9AUYJBayvXP9+ShvyFMvA/Sr41mI/ttb+/gffDZTHxv2twdAf6duO/qL2aqup/2r+u5mpDbe3Pv3IHD67Uk8w/Abiag3YWxD9nFjijHwXPP59ujILoZd4/enL8MHD/9j+GwG89qSAEwCwYUJyEZfA/BluX6hYi0D8fsP4zSgbgv+carLchjPE/wCQM38v68r/xTDBnSMTZPwWTVXcTzsc/7JKCsUlY1j+kFvFpHmHEPy8aoxvKGe0/nGkEsLBo0j/hFiGgH1HDv9+l2GRYvtE/IiOMhyVQ3T9/WoL/NZLUP70y+rchIOY/RodDSd1q6z8Vs4IbG1XjPxEMwzGSs+a/mNFHZZLVzj9he3OcfdMJwBXGmU6OBbS/oeZy7OLMvj99S8QF7uDBv8EBuUo7DbE/2ZZmHH/vqr8=",
          "dtype": "f8"
         },
         "y": {
          "bdata": "Lr6E72z74r97++hjfZLnv7/A58HLFuc/9hpuC3Ox5T+QR3gLKVzwvzF9l55lOOo/HNt1sT+h77/+iFT5Y9Tyv4LSw4ax/vK/7x+bPcPuyL/f2PzGXpzcv33nsGFBiva//+K9MdycxL/xdjdkAJnkv5AfZytZqr+/TsEBzw0x57+KRiPSOfrYv1N5TX4ns7S/KmdMKyO0ir+G0Usx58Tuv7P9OiOfPu+/ObM1wK1G7L/Leph1jGjev9OQXLr1ruW/smxpiJMl77+Wd765c1navxSTmKdsoMi/ySo2e6uIw78kM3Jpes3zP8rwX94sy+q/tZngFg3Jwz+YCb/d8++tPykcl+cs1+W/G5LOiCn/7r/Jd1cHxybhvxc5v1DcMuk/fWmTexBPsD+e7TcdgOjoP+ZBpdTUiO6/cWAL0QtP4L/8FGQNzJLbP2ZYfWO3tPG/OOfwxE2Zzb8CCuzaxdzbv5oR3gxk6Nm/HjkDNCY487+VKKhZJBrdv5WaXYji9r4/B44Mu/vE8T+nzHPOELvAv6jege20Zfi/8/8nxIC65r97j3wLkLTRv49m+rkOzNg/4DF9Nh2U8L/6cd+mg33nv4UwgU2rc4Q/VCGa4fuu6T8IK6e+MOLPP59ZXZ+yBee/HOcJ2q5Ak7+/dIX7fo2kv6A09YXORti/ktZ+LBiU0b/gffEwSujwvxYa6e1z1Ns/BT6yc3Er47+GEXaNxFZ6vzQiyWD7c/K/4uvC+OWf0b8URO2X85Xnv0eYrk+jRO6/VT5HRlEC5r/dtKLWo+DmvyJ6TsFIJdm/EthqUUuM8L+m2fNDoJTjv3vVgyXcRvS/S83uQOfG27/JTPhIhKLZvy4+yhossem/t5ZZck6p479uh0YqZijRP7M0ta54XuG/uUVwLyMd5L9mYUklzXr6P9st8EIv8de/ddsS5hGisj9E4hgGfZ3yvyMXS3uz4a2/drEaDEakvL8o3QVknljkv/NFBHu5Ms2/YJs2udL/4L+2nh+xHNzAPycXDS+Swpk/q87piObI+T9jstlRjkz1vwOhGWYOf/W/qtB49hO0Mz+1JuMC9a7nPw6DbLQD7/O/UdETwz5l57/vAI+S6aXhv/qcD2dMvcy/1PxS4Sid2r8c6zSFf7zQv61QV5UcYOe/aOiYn+Ag7r81jfsf30S5v3+idsxWPdU/DeBeRjPa9T9ziNSfHzjkvwDEhAphTfC/xFL1HnY/1T8qctgPRRzev/CqMw5afuA/yo09s5vq1r8=",
          "dtype": "f8"
         },
         "z": {
          "bdata": "znrov6Ot0L+1h2B+VKfEv30fnO7ljtG/czzcSv/F1D/NwnCblwbVv5bU4KSjIdg/g8st2lv6yb8Ca+zN28rSP33LnAoAStG/lnyJbCw6yL9BoeGjfoTRP+sUdOf62Ni/vPAYcZgP4T/jI4/pzn7OP07oEuvJJ+S/fTq95ba5sb9+SHJZqJuwP0UIC6rtDtE/iCd96T011z/4ZYgdVYLuP8JAGwuyW8W/hTxXIYc9vr/UcxfqJp/gP97S6tXLL7i/tv8SDWYR0r+nYUTCiH3WP9EXFIQuube/1HPvegbk3T8n3/nndsPCP+xVKcpVfra/AO6bJeyc3L+Xz/4hLfK1P5ZcsvFFY8y/ii2/V75Vrr8M6voc78WMP8JeXdKUe+A/IKkRMyim1D8jjpJBlw/RP7usDJklXNw/vsJ5ZpvG2D9LgcURk3XIv4YrDtsS2so/9DAmZwoJzj+ble9hGueGv66mkyLy0tc/iWI0UEllyT9EDlgXj03bP3Ic6WCiDNE/831dJrX8yz9IazpFmk/Xv0fPnj//49e/w9rEDR4V8L94rUpEM+/Sv4XAoIJuMtO/MPEo8Fzqz78XlQ0Vjgz6P32osptoAt4/aOaa+iOvxL+aybYfsCPQvweJ2GwjgNa/6iA/muHV3T9nsGjM0L3cv+Yx0wnFeOC/+rNm0ndz6b9slnP3gwvFvw3a5/T7LKu/iV5QLR3tvL+ncZLhvv+1P4vr+S7e4au/q8hG9ZYq0T9vQ5WM3rv6P4xwlid3iN0/VNiMQw/+u7+bp5dJtADjv5/91YL/iuw/FtSAe4X4oL+xriEe4zaGP3Jz4wLKpMA/nVB0Om6v278p7WaHUCi2v84PIal4pNA/aabhGOe2rT+OFElWByDPP+IJI4cOWL4/zA1egi1qnL8cyyYADUDmv7QyF238E+C/EJoNAEto4T/cZdI+pEvQv0EYqXud4NQ/rENBz7Nt5z9rWwKDDzvjP64si/2WDeA/Q/PTeRqbzr8iiaJotM7Zv6VLzy6gBrc/eUVLGWzm7r9j95hn8TfSv4UJ9Evh9d6/KYp3MlDgor8PhAXMjna8P4/wuc7xSOM/6xMuDKeNyj/40aNTrUTCPwSMTlSfoNm/CN5OM+hhwr/lcoN+ezfUv1y8ZEnTQd+/ruyEVc/mzj+fLgwxwOvEP+DIHMREafG/9J7Tkc82oT8v/2CwmGnyP5gSW0pVD+S/N4eAbzlq279Stpb1mANyPxwelq+40OE/JG9B0t7u2L8=",
          "dtype": "f8"
         }
        },
        {
         "hovertemplate": "color=Other Conditions That May Be a Focus of Clinical Attention<br>x=%{x}<br>y=%{y}<br>z=%{z}<extra></extra>",
         "legendgroup": "Other Conditions That May Be a Focus of Clinical Attention",
         "marker": {
          "color": "#ab63fa",
          "opacity": 0.7,
          "size": 4,
          "symbol": "circle"
         },
         "mode": "markers",
         "name": "Other Conditions That May Be a Focus of Clinical Attention",
         "scene": "scene",
         "showlegend": true,
         "type": "scatter3d",
         "x": {
          "bdata": "BHqpUFLm0L+KY9soLK/kv4URWSBhZeq/9sBUeGHE8L/BaLGpvNXYP7jGXwDYrsm/ukz3k0iWzr+IDu67mxbIv11lFzqoBsA/tOA2k6Q67b+/DYM5RlO6v+/0nRvcjeS/SRH11JUZ7b8s1P2QHyoNwKJK5j28KuK/kEO5Qp5x4b85PPu4Wvbwv8fHb2hil+2/aT93HCskxb+uMpjU0kD6v9CuA4TNj8c/otb/AFfZCsBDKQVU4BkBwOIx60qoK+S/KuGz2G0t7b+EcOOR0WPOP1JSfa2Htq0/poLizLpc6L/6Pq7gkezYv/WGDyvrtLC/jb+VCcJ8yr/Xvd5q0hziv9N8o7oJpuW/OBuGOqys3b9nK/zH0P7iv7FY2hLn9uc/",
          "dtype": "f8"
         },
         "y": {
          "bdata": "L7C+KBozpr+SqwQ0T4/QP3eJMeoqneo/X6kmszoawT9f7CVZ6U23v2zsJOHw5Yc/UbaoLVm64D8uh+7+CzGbvxrr+td59sM/dYuqKmcQsb/67xC2jizsv8nG6Q+cqdc/HpjESyLnzz8Lf2S3QMznv3MNuM+avqa/Xv/4FDEz3j8+qSah+nvSv0p9cyqUIuI/uX3P37CF8r/c3fbPiru0v4XE+EykJuO/n8egaI/eyL83UmdlPObZvwwWwU8ResS/VNOXWABhAUCPa8gwf35gv0edVvo438i/EAvISjMmAkCDp6gFPy2jv8GH7yhSqMQ/WY027Trj2T/l7tM4UJiwvyjDPW700/w/ICwjAhqOtz8E8LTvUibRv/yCeQ1VkdE/",
          "dtype": "f8"
         },
         "z": {
          "bdata": "efX+1Ofy/b9nnrGhM8AAwCqyTp1IXf2/AvEWOxQD/78QEqiO6L30v+iB6+IxZvy/hguSg99E8L9vK5bn9ar6vw0Ck8P+seq/EqYSU3xz978jdV3HJXjov3pGePDdDALAnQnGSis8/r/pmckBNZ/jP26r1SSzdPa/F9ZhLd4a97/T07JASHi4P8Ad/CZQHADAkRxMz78J6r+bn2QPdfvUv1xpvx0RLfa/meF9eiRdxD/ik2nsut/QP5xuheanHPa/Vv2qmeZfCcAjENyPjDLxvxa8CAVwRe6/y6aJmIyBCcA8SexeRA36vzPJi7DvFP2/Ykgks8CM/7/0yPUGdfP2v94V3NsZpQbA4FMwcjZx+r+lm4ic/7r4vz8NIA1baum/",
          "dtype": "f8"
         }
        },
        {
         "hovertemplate": "color=Feeding and Eating Disorders<br>x=%{x}<br>y=%{y}<br>z=%{z}<extra></extra>",
         "legendgroup": "Feeding and Eating Disorders",
         "marker": {
          "color": "#FFA15A",
          "opacity": 0.7,
          "size": 4,
          "symbol": "circle"
         },
         "mode": "markers",
         "name": "Feeding and Eating Disorders",
         "scene": "scene",
         "showlegend": true,
         "type": "scatter3d",
         "x": {
          "bdata": "15G+Ie+/9L8Z/KK92xvSv6TMoslASrm/KQXRx2LO6T+7vUPTwKvCP58ownWk2vu//g+N0qLn7z9UIMuGDBfjv1JfScs42dG/tmpHZHFP7D+waw/x5WnwP6SmME0xX+Q/Qma7ZTag0r9hDbwItjTnPx+lV2zreeE/CujiSEb6eL+b+LDUxmzlPzIh4pTrH/C/FiA8e5g96D+66I0RkNXmP1/hRuNPr4o/cmiePpoDzL/LEosGrqH0v4YGjRbIavA/Tf1KpIY+yL+Hpce6Mi7rP+gM4hV8CNI/Ag+HfkJM5z8H0CkNMSflv2RAcc9+lNw/RwmQpobv+L+HTSxkYifuP/TCiS+BdeQ/foYb5Dhl0j+weejaKA3Qv6qXV1Vs0ek/ZsXAITJwgD8lw6rYrIniP3gkyT6Iz9e/NFzN/C8TwL8ZSeqrtDOWPxn94nAyDte/OUTeXiqHvT9jlfjXP77lP5IpdJUYCdw/Fek27KvP7j98nuZe/EzzP74npmifCu+/AgSqIV7M8D81/NgVjdurP7VD2dlgiNW/LOI4zv5+4783116MkQ6XP2PUN9AQF7I/y433zdhRx79ytg26/q7Mv5LeDBa5E+c/koq1pzxI2T8rOGi+wzoHwDrfNcd5fN6/i0RkQIYp1b94wvfJAY3HP4mrvSVE/9m/Gu/wFaZyzD9ncEbGZtvfP7rB3AZTAMm/BA1dSX3j7T8Hnb3NcSrZPw==",
          "dtype": "f8"
         },
         "y": {
          "bdata": "zQaGtG+1yD/SYErZ+mzYPx57aSdqYuS/qM1/qfto1T8hXuGrxubMP8KuBQqZAdi/gteguTt+zj8u1oc8Z/zLP6Q0UrvBX5A/2pM25MPBsr9IcJkZQgXcv4uZfF4Zf9q/TlFTKn4GxT9n+9jbrgejv0DQ6eijHds/jMVIHRnxzj+Jq+h8Mam4v75/LushbtS/d8uU3MnV078GpJzfzTPuv7/mTgE5Pcg/dra5gmfLyj9Z1dYeOGyyP1cvZWYdbbY/WU8wSCvmuz91cSYPhKPlv+joJIQAPcQ/bZI9xp41zr/azJvj8svoP9E/rCf1TKM/3iablz/jyD9BSSHD/nLDvwQZwTgtYbO/rMIuuX5T4T8km8K9eEzmP3ED2VXVl+2/uzQACbme3b90B7J4NQXkv6gMfq/Atek/88ixL1SLwz+FGg4uKo/hPwnxiNkodMW/A7u48hkG67/ugU+9RRilv5yG+3LS5+K/R2cj5D7D2b90hSkfCGjVv/Lj0QPP4ew/i/ctN/WY17/RJg3zNrjOv0BTJdUlJ9U/kAsJuFm6zL+07C/XSb3pP6UP2jU6F7K/fKEJKpkl0L+HZ66IO4TJP80zTrY7W8m/GF3NBbpCvr+CDcsxUiXjvzZ3LVumRsU/7kZ5tJNTzj94kSchk9Dsvz0/LeU7GN2/Z5v5u53zz79wPMdr5oPsv/xaeFEVr9o/FQ9BjLGJnr8Rg+YGRkDePw==",
          "dtype": "f8"
         },
         "z": {
          "bdata": "pXZqYKtOsz8vyCHrB+/lvw+WAkNGv7m/s8/iTZxTwj+tf1ksa+ztP0WJotVph+k/g0fnbyo6uD8A+zQJ2cDjPzCL1wUXU76/LecN2Fj16j/5+PzY8l/rP8pL2nXRVba/3Tm6/7Bc1j8I5+DPP5zlP531C8tG0Ns/0A/pOZAixr9lFwKkXNvbP5+GxS7X09k/wp4vSv7L4T/MV/KxCTLmPx2YcVJT0NA/rEmVqjMx4b8LPFA0Z57hvxNyhj4GC+Y/BlSSBMq33z8nbRqtjvXhP8qXPRDHZ6w//QY30iNi8T/pueAXjSjkvzXlrKipcsk/qc+/nfWzy78EQcYbLz3sP0kXW8+Wi9M/Librbhmkoz+DI6MzN5rAvytcxZq9wtc/6UvIIsIj4r81nhf65V/Pvx8F5DfRWtO/GYugw3Yj0z/KXq4gnqXhP7j4bBjpMOG/zmcOVcoASb/dH/IdJK/RP53wyas9xMK/2mohp3CryT8d71QIjHXdP8EqqkjdRNe/PZXFRZqg3j93VgFTCU3av5X4H8Tvttu/0iM0oNgt0T9dfuimtNHXv1eYntRf3eW/6uUMrhiOu790qFOZuAfIP9/BXbUn+eU/om0PQxfg4T+G5Yv9jWLsP/uElniBT+8/7veGBX1v2D94iVe+AEXMv3fv8WiYY9i/651nRbCnxD9W58TCS27DPyMieTt5i76/l/U8WAI46z8bnXGgOlXlvw==",
          "dtype": "f8"
         }
        },
        {
         "hovertemplate": "color=Obsessive-Compulsive and Related Disorders<br>x=%{x}<br>y=%{y}<br>z=%{z}<extra></extra>",
         "legendgroup": "Obsessive-Compulsive and Related Disorders",
         "marker": {
          "color": "#19d3f3",
          "opacity": 0.7,
          "size": 4,
          "symbol": "circle"
         },
         "mode": "markers",
         "name": "Obsessive-Compulsive and Related Disorders",
         "scene": "scene",
         "showlegend": true,
         "type": "scatter3d",
         "x": {
          "bdata": "7spghp3a5z8VzBYH6gn5P5A7WqRokOe/5UCuBZaA6j/QuIxKRjXvPzbMueC+l9c/R/eIp/br0L+XlsG8zhTrvwnzr7Yho7I/BDJGAVIZiz9D8O2rjAndP5yjzDt8bsM/cvFN4K5u378V51QkSlLSP18Rh+DyOOS/6LE08uRLwz/HesOkCGHXvxOBWiB8cM6/0Q3Jc0GE678G5Kuk9cDJPwOHtLwIyqM/MiZPUf3P5L+nei95GBbyP8fOmvarVu0/7/jaJyMOsj+rU/mqxDYEwBjjioHULfW/Wjba/yNqwz9gPV5i+NzRP6vaSuQXlKm/Yi00O6Td6D94gG8LkA7lv18XFCJzDec/TG2buhY9xT+W8G8r4RjZvxzSmgdIxeW/3HIVzOD3oT/Yj7BA9GrFP5uqfnMZbdy/HGR9zdeixL9y9wYU4FXnP8td0bKkPue/s88L2jSw2D8bLDJ0zgX3v2c/lBwcqs8/XtuCbsRg5b9Ls/T42UjEP9ZzMkAGAeg/YICGiHiSfT9N3e+aV+fdvwr/Vw0swuC/dfCf5vkwvb8j7aBq1oLiv+HATraB+6m/oRqhA2xmz7+BkoG+//PUPzvgahQnN+O/zRqMkngbxj+HAsQ0bcDYPx7XPAd4hMa/dzyMoUJC6j/06Cm3Jr3lvwSJD7WzyrY/GYOFs5CGyz9sfLbTpVH6P0Nc48ZfcsE/aYmZV7EF+7/gT7tyySGhvxf31Ovv4PM/AkPEzYuo0j+qsIfEdQa8v99SmwRIbMC/oB1xcOcwwb8FA7i+jMzKP96xn4QMPfQ/GvuB14Parj+3jF2k2P3WP/mqOGEQnc4/GmdCuGEG5D/hJ5EmPTbgPz1fY8SXwNM/IgBunG9ayr9nHymfLJL3P8qIG3iyV/O/9okcx6lTuz8=",
          "dtype": "f8"
         },
         "y": {
          "bdata": "khjDGvLp2L+tAClClpLhP+xBwX0gDc8/6moBqVIV2j81cdRHUZLuvxRNn8qe1PA/7eBOkBGs5b82Da6vc7eyP92qL/xFbNc/zN73WUSw9z8EwrqOAFbdv+AOEtdhc+u/HIU4L0rv8L8uDci5haTuv8hAEa8LY7u/isQ3b6Pn4b8BGaZJmajkv+q9bRZiq+A/Fqmv1O2F0r9tYw7bOwzTv1mWzL5/RPC/Lige6m5c07/t2tL7AZPiv+vZapPdDuY/i33jBPuu8b8uObnvnrPZv+ZrsuR4INW/2FI0EBMPsr8WUkcWUKy3v9PHvfhmVOq/SxFfkqi40L/Lh0oq8iPEv/6SeYPFKdQ/LUf9c0LNur/LU4gPC2fsPz5j/39y4ME/gMZ6Lzyd5r8OT3n8SxrvPz7Zhy3HVbI//CW9l6r+Gb8v5rzn0pDcv5srR3ETXaO/hId1PQ3c0z8bZu1gxWSxP4ppSvjVu+c/pf5BcsLOzj8v4tXxjVzivwNfMHzuwtq/o3beCMJR6D9QnEWgEV/nP5YR4FtgUfK/UiOsYxyAz7+C1IEehmXYP2yM8zzbjeC/TPDvhD034b+TA0jp0Wrwv/yk+5kKO+e/obX2L1G9vb/P/wdM3Oy0P6UB7HqFVeE/gEgAWNgY4r+ErrCo10zxv9BeUJbQ4fA/jhp7Cflw4r+tTVVUUqaqPyjdtvah4vC/WShtYvNS3b8VNG5LqQ7bv34Hz5iybtC/lT/lbE24Zj9pKI3Rut3kv/tVx7n7tbk/qVWkBkTY5r/v1+wgUuDxv5hRmshn3tu/Z2upzb8MtL/GmPRftYPyP2pmChyGceG/SV2DrF6BgD9asJ78KSPgPzBCQ5szK9a/efNIeOm4sj9t8w6GKPfQP6/uTQSW+Ps/K89fXiobwT8=",
          "dtype": "f8"
         },
         "z": {
          "bdata": "6pEB/wmLlr83P63ttMHVPwUCbpUS8cI/gFhxXc4H4D9Lemrx+SXXP3Nb6AMvDsu/qviF3yCp4b/DlcS6ajnlv11KsPKTwKK/lTC7qScA3r8ZwCED7FjVPwvyAZUbLs6/VTadck9P7r/bzef8P/jDPxmSYfyUs+q/1kxjf3hb2L9NAf0JeCXQv+ktS0zpY8c/AFazRaDYz7/v+7dRIDHWv7gO6TP7daq/+V33Dzrm0z+ml0jBVO7Hv1wi2ulxtts/XXzKLIoRrT+BXPin5W7oPypMs70V0ce/W5gzj1vClb/mmWJ1Ye7fvyxZk+X7Fue/BALAmZFyvz+8gGwVQXPRv7/jjCUaRuG/3VhakWhN4T8/gyygbLXJv3jpfuMcQeU/30LGXTLcpr+xtgueNQTdP/qttD1l3/C/jjBSMtOQpj9lo438CH7Lv1JgzUtXbfS/tFZ95zBdtT+6E5tmcQuQvywzQ5/LCOI/+WrZf9CAqT+GxvRU1ga+Px/hGjRONeU/1MPuHu5etj9+xdNYZ17YP3iZuS5xfeK/nKbFe6ze1j+wB3hb8KHlvzZ+lU4bpNQ/UKZoIquC1L/wrMc8QqvAP3CFRKiEHcO/3zcBYhdE4T9rPPpjILnKP+RQWInJNde/l+h/pm3q1r/OFvtHuK/kv4Zvvq30FMO/WEs65efB6L/OlA6Mj4flP+Qx7CiNalU/jSfMYk8D0T+zn0ci01ubP9O1CvVCncE/Rc/Ol4uM5D+6dxnjcYPQvxjbgEnbhdg/rOdgKoeW3b887FSJSqvHP/9Tadmoqdg/Xw7IZrWOvj/CUg97NanGv8Dd5NCSV9G/UGeShhxRzD832kYBuKXXP3Cu5z0H5N8/z5i1OoR/xD/8l0R/ctPYP+XyrjsRNPK/keYIyzIalj8=",
          "dtype": "f8"
         }
        },
        {
         "hovertemplate": "color=Breathing-Related Sleep Disorders<br>x=%{x}<br>y=%{y}<br>z=%{z}<extra></extra>",
         "legendgroup": "Breathing-Related Sleep Disorders",
         "marker": {
          "color": "#FF6692",
          "opacity": 0.7,
          "size": 4,
          "symbol": "circle"
         },
         "mode": "markers",
         "name": "Breathing-Related Sleep Disorders",
         "scene": "scene",
         "showlegend": true,
         "type": "scatter3d",
         "x": {
          "bdata": "Lb+8qpyC5z8PMRTKdpTfv9rZu2uBgu4/eUkZteCd4r9FCMu8G1nuP2ltNYs66uQ/RkSZiELW5r/qoeIdh1nkP6WJcucdbOK/UmM2oiR03b+5AB2I9G3DPycd43zPxfA/i2YNoiHE1j+Vjuw/wf7pPwgKd8NRYse/CYfMP6VX5D+8gu3K9KXpv+646faIseQ/fVLBM3uw6j8oeqPKalDTP61+PcecrOw/VlpxiEuurj9+kkv9N+7XP7s1qKfYxc+/l8ez3OAh9L/1J1wxqwzLP1e38C404/I/cwjF4/Nm7j+bduVdGXGtv+CwYeFTO+q/Pk/Tvlvx7D8B/U8cZp7zP+/20kKfW8m/05i4Rsgc7j+LP+ZoQrvcv/yCHNKs0vE/uKSGFon77z9PvsqNTEzNP6/uTT3HevM/O0c8y+lz8r9jIF1VzwTjP2shoIfgrd0/EKAqNFvb6j91VSnK6qrzPxL2uU6B4dg/ikGwvie31D9hk/xt9jaiv95HpJuYxuE/1Sj74Qsz6T8XCGrfM63xP/8Zr/IqC9k/Iq+OXAuOzz9ekQfnJ9LVv5tTyopm3vE/ROsWmRPh4T8=",
          "dtype": "f8"
         },
         "y": {
          "bdata": "1t+fV5Nduj+tKtu+m6DSP4YDyLXVstY/XDWF15Rd4z8Cnb04jLzZP5kcafuM8Ly/UKvFAK0A5D9ss+6utsLaP7Jtq28dLti/0LUJlC2P4D9uuomqYdCuvz5TLW/DjOG/o9lnMLLG1D9ELBo5g1Tlv4Tdwrfq7O0/N+HHWrRSoj8XoI5xX8PTv6Lvri8uTuw/T14rQn5K0r8/LNvoh0bbv32CIvwaTMI/OfzUW+oh2T+z7sesOfTWP1N9si52feM/KD0z8Fp75D/897DzZA7TP3WPXuaz5ac/wghBcYJ74z8Fr0JO+ky1P2ucGyELfdY/cmsYyKGg4780gB4HBtnEP3enJDMfcd0/ETBsb2p9xD8dsWPKuUvEP8JAdrgYtdc/tVFg4qg61T9vAEMCp2PRP6vazgjNk5W/fkWJFJYP8D8waXaXLTvgP7G/YCsiMuG/li2Poj5MxT+3xmE/85zMP3FDC6bfANw/SvHdlmUlzj/5DhwrilHZP6chG4OSmt0/VMXzgERN2T8A2EWQ3lbXvyQiJrjFFcC/G7mmLahA0j+byY4s3Q/gPy7j+2pJia+/MrNaZrc03z8=",
          "dtype": "f8"
         },
         "z": {
          "bdata": "lcmtAdWlvb98NW520Oi4v6o2ZQdxMNY/Z+IY89hX278QWoXn09XxP3Q8eDe8/JI/5aJr40yj4L9t+rwG7yXWP+2o0EHvhNa/V9hP+8ZNsr9D42pNxqDDvxzxZYAK6eU/OHDq6wCJmj86c0KAp8zcP67qkEQTnrk/9rg6YWke8D+NtCFBkT/Rvxn+wIghh+E/RRbueVkk4z+oUWtNVmi3P0ddT1otjtU/hWxBd3GF0z+S+kTmzBrtP6K2wpC0muK/GHM9OEr1sD+hWVrFzinpPxkkEP2K4ug/DTwq5W6n1D/6nyI33obDv1oDiGTQusE/VAzzrHEb0D93mt2bLPTfP4EMbuV1e9y/dP0QJktG0T+8YpbKQNfXP3R87tORPOA/HXlcpzPa6z+C4lcmObDxP9AdaTyPAeI/eb7ASaUu079wXP8681bbP2IFVVF2geE/5ZT0BDt77T//t0nO+pS0PxP5JqypV9o/7AzpREw24D8tBdqf6xXBPxJzbbVSB94/xlbh7fBt3j819jXxlyjtP+Hyj1cKGbI/wNWrjlRz1L87+2IsiES8Py2uu34hUuU/kiqK5S2j4D8=",
          "dtype": "f8"
         }
        },
        {
         "hovertemplate": "color=Attention-Deficit/Hyperactivity Disorder<br>x=%{x}<br>y=%{y}<br>z=%{z}<extra></extra>",
         "legendgroup": "Attention-Deficit/Hyperactivity Disorder",
         "marker": {
          "color": "#B6E880",
          "opacity": 0.7,
          "size": 4,
          "symbol": "circle"
         },
         "mode": "markers",
         "name": "Attention-Deficit/Hyperactivity Disorder",
         "scene": "scene",
         "showlegend": true,
         "type": "scatter3d",
         "x": {
          "bdata": "T69mlwUZA8CNVpLCl1XOPwDnlYvsVOw/JZurHfXVv7/jbRxIHaXbPy5OQp0Hsvs/TAcz0BOL5D9+s5bvW7PUP8t/u4pgINa/ejqD39uHAUCMMrSmmzXKP45sJSrOiOO/vuNBH3oo/L9Wd10X8arxP8HD3xGNZdM/Qzlb88Yc6T91BMwrEonmPwMpapkfYgPAyJHSRBW/5j82Yn+VQwTdP0ejPN6qsNU/LGXJ+rTq4j8=",
          "dtype": "f8"
         },
         "y": {
          "bdata": "Fh51LRad7b/v66RdgvLcP5vZru1EEc6/uDrBCKaFpD8AB9aoofXcv1aMbw7pQq6/lmie5QdTw7+/s2hEq7Dev+Cnc2qVDc0/hulAZoFz0L88VUWef9ShvxE+SewDy+s/IMSSfFKh6L//49706tX2v0sU0wf01u2/voRQsIlk47/k6PtcLEjkP/BFnUQhbOu/H0/BgbDt6r+u+DneCFPZvzG7fqOKPee/6T5XW4il478=",
          "dtype": "f8"
         },
         "z": {
          "bdata": "ZRl8+vs32j/dP312FNXfP1ArDZnTjJe/6fJla3UA2T/IeM4sNEWMv2JOZrQOKNo/07P3m7Vp8D8srMdBnmXsPxkqWcUEYsC/+KQXXs9M6D/aHsc72z7lP2rh5vgp0++/YwCrU/Ihrz9CNkEh4iPaP2q33ATpNru/iQPjSBoQ5b++nK2eZ7vYvyasNTxHAdU/1+pyau5Nxz+h0SLeXIDkPwGGb2EVg+I/5vVvCPFT6D8=",
          "dtype": "f8"
         }
        },
        {
         "hovertemplate": "color=Somatic Symptom and Related Disorders<br>x=%{x}<br>y=%{y}<br>z=%{z}<extra></extra>",
         "legendgroup": "Somatic Symptom and Related Disorders",
         "marker": {
          "color": "#FF97FF",
          "opacity": 0.7,
          "size": 4,
          "symbol": "circle"
         },
         "mode": "markers",
         "name": "Somatic Symptom and Related Disorders",
         "scene": "scene",
         "showlegend": true,
         "type": "scatter3d",
         "x": {
          "bdata": "VDgi3EV58L94zvsDAlnnP2SlOc3rHsq/ae6WIio76j+tKuHuXyPwP+oCBefmisu/j7QiDzntyT+sa1ItipbzP7aABEPISrO/SSrmXnQn6j+3JunGlL2TPyCDqIUgMdq/ulSD6bm98T/oIU9H8xy5v6CLHXvqEOw/VJ+fR/TAyz9l7Fy/3anrP7CoG+aWpvY/8hF/Bc3J2D8w5Gy7jUK2P27K0gHH59C/v7I/56cD/L8eC+2WGEK8P8EkYhaareU/ynXhT80H2L8ix1LZrHj9v2S3bfhzXJy/s/2CAVit1z94SRjlZj/Yv0Ho2s+ZK/S/6IUZesvK4T/nZdx/rob0P7ex4OlTrd8/dAAfZycrrL8r9nXW5Ivav5/dVneDw+G/34xG7025xT+Jchn0qArtP8e1Y8gaSOo/3jezLcgX8D8J/Dl1fsDKP3ihYG9AnNk/g56qN+YmzT/j7nrzuJDUP9Imybmuquk/RFpwqvUa1D9ig6TEClbLv70NrkeSHQDArWfz1jkQ2b8kdQgUDaP0v1B/fHSRCuw/6Ia+mGEg7D8lZYIm45/bv19e+lInFeU/",
          "dtype": "f8"
         },
         "y": {
          "bdata": "Ch65TROX3T+nDhfMtyXpvye34SxWyLo/EvqC47YTmb989BH23qq5v/qoq9GZkba/XeeTM8vu0r/T6OP37lOxv06UkEj+drE/oCNcJiWX4b9WGjAaf1nFvyJISsdNCLs/6Z5FGGYe5b+YK5iqqoDnP3jhAmgyJek/yot5gIFXzj87tGOjRVvyvzJEsMhppuS/z5ai2dvps7/IFgrSYq/QvxwCTzMtYNI/1GMp3y1I1j90Lo2nzn2nP74RA/wI1ci/msG+HNYYtr8guXM4IMHBv9pOK/5gOcK/f8g77W9Ayb+zdsnqW8Xcv/l28uMfX9A/3N2UDq8R079SimoqnTnWv/UwloA7rfG/VypOqhmZ2r9JHgrImLzRP9/oYhx218I/BNYC6uaI1z/G6O1kXpW/v0omOVxhjdm/q+9HwlS90b9Lb4SEQe/Cv2BiDaGf28k/dxqyVWld0T+v553gRKvMv9Xkc2wO1NG/6mk3FOwU0r/xZzDquICHv8RIU+x5y9a/AzaB0iJ6qD/d4B2d7XasvwgUgTjqKJC/MSsX392/2T8K+d0FIgbwPznCQWq/pda/",
          "dtype": "f8"
         },
         "z": {
          "bdata": "GHabCBejwr+p4istJhioP+EADkIPb+I/91DmJ0w5pb9hPAhjEie+v5IRisyTucK/bQyhcpKDyj+laGucw5PQv0744C5I9t+/0I0Yt/PO4T8kAzJUdITav1xGlyxgA+C/IRITznoG1z+isoaobTzTv82saSZFy7y/46gPc5hFzr/xGlH9GbDUv09NpSJBAdg/hAtq9FCk0j/oZ862OPerv05csQyOnde/KMJQ42PrvD+m2mJq7Ba0P+rFFeb8scK/BFMoYP8gsj8efUYM8FrgP5dA3DyzcvG/u6Rg1hFH3D+wEHWXP6LQP4FHoqtVTIs/xRFa7om50r+7wMyK+sSzvzbhAQfxXoa/4PZ0AVdf8b+bmjrBU2Liv0YShgst0/K/W8lKsQIRrL9f4X0i1T24v+rU7JrBds2/E7SQp7w4sD97f93J0ZLOP4uumtDok+k/1j0T9d1Kw79sMTzPOFPRv+uSsRRYdXI/nqROxMzpyz9kZpcquA7Kv6AAdpiDMNS//hXc+TfC579ZPsmfFsvdP7zuVwl+mdm/eAZa4fuBzb/qKOIuLkPWv/dqgIJzcs+/",
          "dtype": "f8"
         }
        },
        {
         "hovertemplate": "color=Sexual Dysfunctions<br>x=%{x}<br>y=%{y}<br>z=%{z}<extra></extra>",
         "legendgroup": "Sexual Dysfunctions",
         "marker": {
          "color": "#FECB52",
          "opacity": 0.7,
          "size": 4,
          "symbol": "circle"
         },
         "mode": "markers",
         "name": "Sexual Dysfunctions",
         "scene": "scene",
         "showlegend": true,
         "type": "scatter3d",
         "x": {
          "bdata": "8OOe4zDM8b90cjalZrruv4yy9nP6+OI/2p700cOK5T9K38k701PQv2/ru78Nwui/2jDLfn89yz+xKcnLUnCav2aDC4nUs8u/a3CFp0EMjL9QGVfRKDroP9T8HZpvjdC/EdUxYgan1z/hb5uoQH3zvyNAPV84094/K8gxkuyO+D8tRSg/wizRPxycmRF36si/9ZNMfmeH0L+ygzaG0fjVP5VxkvV034k/LJBcyHx2yL8OV/iWQ/jxvyvWpd5Pef6/A7SqSLM1wz+ZougT4F2dP12nKFq5e+I/66SFJlww5r9F7ugO7cvmv3UuY6TxJOk/y5kuYuIHyT/LrSnBWB3zv8d1b7eggty/Ya8hq/EH5L+enicnfjXlP5uuqhs1SfC/O345Cxwe5D8F5x2VoJuavxQG59XCVec/dN07PiPa4z9P7Og48tDTP4b9HY3VhQXAX3CFyzwC5T+OdutVavTkv3aJW/Xc/8O/xB6zgnlI4j9FSeQV/Vrbv17YmsPWaOw/6WFNuJM6+b/jYocEc7W0vzU91QYMhvO/6E2O138O5z/wbO/NdwTKvwB1nlLR/8Q/d2LKW4gTxL8f8yJMKkXnPz39jVCu+KW/ZA9iuoRJ4z/sLIpp8f/jP30hGEQfcuA/7Tu8vRdQ8j9G/C21jNisvxuwT26QZrU/vnmUCaff4j9ntY8S/CjWP9uo2NEAGtW/rNmlE7mh+L8TEkgmjodsPyWQ3L1sWNu/RWLRHRrR6z/6xkHH+VXIPy5A1vpNLbA/rcUf4C1T0j+SZKC/dsnNv/Zo/LMg/+Q/xIhQ4G5o7z/yrm11Zofuv0yzQG/nF8A/Rv6CERekrb+7YvjFlOjcvw==",
          "dtype": "f8"
         },
         "y": {
          "bdata": "uEW+ZJADpj8B53MwgESZP0MN4q4Qrdy/bvcraBS/678rM/CJqwuPPwUpOeeyKdi/4m+hrx9D47+BDLbHCZS9vwC//cmC2+0/L1QuIDjz2797OHWojk3qv2yvvSlLLto/mqMRHIp32L+DrJiMCn/JP3O4rX3W5+G/0F5JGcUx8j8H71QpQQPgv7OfBzAfVqO/kgoymxtJuz+6F58ZLG7sv/6CQi/34N2/0krqLmfMyz+4yJHZz/rkP+MyqWzQm8w/8EfbHaMg4z82agPPsWnaP56wQQMeQvW/gKxqDHXHvr8z24IBvIPyPzT3w+HuC+i/PwF54vh+4j8O1j0IbPXnPyLHvN4QFcY/CI6YsNKtzD/0llHNNY3iv6SnfvEmV+A/v3X7Bfpy4r9As49tldzxP965D6pfeOi/lw5EVvf357+2msOnPDrIPzkTbaKo7N6/Bn8ech5v67/9oOuYi3jeP0gS5EZOWPE/xsEF1dQ2zz8ZdFoph8mHvzglCOeaht0/npjIBuFkzD+dRXMMCh3mv3ruGlTvP8k/z8lHiia46L9UaBSQIKLNPyXj1NOJW82/MPMKbisaxD/Y3+NZ10Twv3kzm8PHP9m/d3fxzTT0579NWeTtyTXbv3zxyptjfvG/PC49rEkG5D9QCM8HMTLpv5rEGvGRasI/OREu09hp6L8sgH33SkDPv10d+1ehIto/7CI3UIZV0L9YY/z5mQjSP+/hZr9R8ua/idMslCsduL8savaLkLvLv6qOeoa+MOG//rC+xcym579tj6HfHiqyP5dT93BsWOY//kTP7zhl3z+RaZ1B1pPPv9RpU4m8uMq/a0dN6Bxz5r/1pSZfwdv6Pw==",
          "dtype": "f8"
         },
         "z": {
          "bdata": "xxtutmZY3z8HhFu6faLhv1OSNKXWZLw/3DZ/nDMD4r8oHVuNqEvgvw5w1UZq9Nc/+vZMwpqF7b8/MCbTSV3sv+7Vx+G6hOC/n8hvbHhpWr9bMvHEiQPiv4Bkx+9l5+y/XKjnyTvt0r+Xkr/4V3Tlv2Zd1avJ8+C/309Y7KSL9T/bgEdr2HamP4roFJD6zNW/LPV/4M3RuD9wg4rj33fdv5YNf1+fP8g/+S9siQiN+r+fkocJewDov/EfdZ2Wd8I/U05Rce5257+dg/RUZhfqv50Z1kmqod6/dgwFwpTe4D9wlF09QKrov8FLAiattsC/Vj4V8vtWu79HcjaPqf/xv74jQMP53O6/8bBlw8Lxsb/tYI6Epuq1vzp4PUA6Jvi/BLbOnpUPyr+f/SDa1MrJv4N65Zhu28+/lyUAVRBF1L+QAN3gGEa0P8BWlRbm5eE/MPVouaNQx7/+xAxf+mbsv0VhgdXhl9W/VEsguqO31z8BdJTqIi3Ov3WDDQL5IvY/iZvI7exLqD/85L3YnS/Ivx4g3gVUc+S/J4nYfeDkwL8iuNRsFqvLv+x21VPuGcC/UHZrY6cGtj9R0XrHe+LRvwKb7mnJzKQ/fClb+MVcpz8EOKNK8MzGv0zAPVQ964q/ap7esF319j+zM91iH1nhv3QloZ/RqNq/5lyZOnsM378j1ls5aOHfv9TrCKxKkO2/WM62GBL03z8h1Vlib33Qv4cpr1NA3NO/vLk4UxBa4b9I8OPwHpPiv0SU/JUvnuC/LLl5RCTb5r9gu4d4GKXmv+HLn74Yv7U/fJ7PnVEe8j9R1sYwFNnAP9e6vkyp9aA/mzjbdIP14L+RSdxkml7jvw==",
          "dtype": "f8"
         }
        },
        {
         "hovertemplate": "color=Communication Disorders<br>x=%{x}<br>y=%{y}<br>z=%{z}<extra></extra>",
         "legendgroup": "Communication Disorders",
         "marker": {
          "color": "#636efa",
          "opacity": 0.7,
          "size": 4,
          "symbol": "circle"
         },
         "mode": "markers",
         "name": "Communication Disorders",
         "scene": "scene",
         "showlegend": true,
         "type": "scatter3d",
         "x": {
          "bdata": "AdysXdHMob9Y0wjKVATfP/yNbtm4lsW/71aYYycg5b/2f7uOdczfvyVpoc+E18Y/EV8IyRg95L+14lkrvQytvxqsHQ1PpOA/t3jyL5SG3b+MFYQg4pH7v7Pj6rTICLU/WCMY7kad37/Y0VrMQmzbv33DIdyHZcW/SE0xOLEDA8Ca6HzT1CQKwOnsrm6zB9Y/L9GYdUKp7j96Ylmf3qvLv6K6HNo6DtC/4oh1px7Mz78=",
          "dtype": "f8"
         },
         "y": {
          "bdata": "O9ljWqi96L8X4cPKqXvhv6BnW3IJCN6/8i1k+bt1nL9UWBbBdanAv6+V2fGJ6fO/dioUI5N6sT8mupoksK/0vysf8o/yyOC/76CYbdPb2b96OXWBUm/uv239r3Czv+Q/oB7RGK0z7r87pTIxgOfgv5e2TBg45fG/Knd6kkKh7L8jZToqIfPlvwL9H8Z2SOe/LvpjxL7D9b8hwEOtuqKjvy1iFYEWFsS/vWxXUKW53b8=",
          "dtype": "f8"
         },
         "z": {
          "bdata": "2p1jzfln7b/niqfh0KOnvzVxDf/qL9W/gM0gLCwArT8KQB8uPVjEP3Gryin+ouG/4bvvZs5D6b/rylw+bETtv9bsYU/o55C/SvSzSjyL1j/uUZqXfV2Yv7W9dZr88fy/oYHHNRelqb8FbIot7SatvzAn6ZcbPcq/OC3z1O5ewz9TbE9T0zfqP37f+Hqis7w/OrT/keK90b8nnBzc8x3XP7DLfytCBeG/9qGkD9dHwb8=",
          "dtype": "f8"
         }
        },
        {
         "hovertemplate": "color=Paraphilic Disorders<br>x=%{x}<br>y=%{y}<br>z=%{z}<extra></extra>",
         "legendgroup": "Paraphilic Disorders",
         "marker": {
          "color": "#EF553B",
          "opacity": 0.7,
          "size": 4,
          "symbol": "circle"
         },
         "mode": "markers",
         "name": "Paraphilic Disorders",
         "scene": "scene",
         "showlegend": true,
         "type": "scatter3d",
         "x": {
          "bdata": "0TSbG7nV1z/LigM5rGnRP69w+4pC/+O/gjvRBoE+2r/gtNCcIQO6v4SdcACZ5qm/ppPzHGSFwz/D8seOPuDKP1JQms96PtE/GaaZofk/tD/uNqkKFqr+v7PjGdu6j9A/Ac0G4Bsrnr/pFH5OKTPlP0BJXOWYnN8/f3tUfbF06r9ZRlpX4YXhP8l+Pjv+/tg/2VR+UB/8zT9THawlLbPTP6crYV5ruau/tZSbc1JB678aDDDAj8C/v8Npv9gZh6A/UdsJ62jx4b+2d1Edn7HCv5805lZKyNi/8ovg1sVD2b8V4qnHEKKuP4TEsl4luNM/DCmGAq+xrj9gMEONL0bfv7KWPljEJfC/56THviYI4L/Z1m741gbJv840T8fLnsw/e5vuK7q85j+VVA5Iy7S1v825hPBzu9k/x4oJfeMN878+fTVn6HDgP4nyDsxszuC/21hkhX/j4T9x4elk9Ifkv2HP1y0XX9q/OJxxEd7E17/yZDggviHZP41S/Lr6oNY/NYi4yPN+yL/UwNkQK37Iv4Cw8K/YXL4/UrnOaPmL0j87YP535uamv888Gw81jak/U3aUCbKb7T8=",
          "dtype": "f8"
         },
         "y": {
          "bdata": "IOx3kcsV4j8afOMU38Ppv+wzt+pmBqa/Dhjdq6EWrz9shgiKCQvSv6/ALzjsb+q/2sfyiWdexD9LGmjsaWfpv3CLcaUIz6w/QzLavedD3r9+4qKsat2wP48bx01w7qo/74X2K33Q3b9Da9nKzvPfv6wcVAIt4ei/SmuMkN4hw7/9gSuV5CXov7WIJ1QQlMK/u0eubtq2x7/1OgMr3ha0v79U2uxw0b6/4P2sRt3iyz/0wYRkP9nSPwkmOX6g1ce/uuTCNWf4xT/oBeWan0LWv10V0PbzcNS/W7ZlPa9V6L/xzbT0UHnIv2n0Hzh6e+q/XSgUP3f66L9ReD+Iw3/Pv8HZqtAnU88/PI8TZ/cb4D/+WxJDleg+P6toG4csFNG/dC/cABSK4790uFdV2LfOv072E1YDvem/2axxuHRmtj/g0yKPozzhv/eDmMcVRZ2/DSsvq8p527/+RaDyFNIcvzodC2/xFLo/dRS8lkTy1L+K2+yoC4Lev1Gyx0m67eu/WxybyKSPwr9mREffbpzSP3MyYGKXmue/7Q4njN4qsz8CIAtQ+ovlv9CS3cpdy+W/PU3PiWrKrD8=",
          "dtype": "f8"
         },
         "z": {
          "bdata": "jFT18oGc8L8pHm3ejkXhvzwCsWFU3da/m8FDJiIM4L9JnK71rk7ov0fb106exfK/HaGMOA1587+4nh9N4VXrv+R4bSGSt/O/EesB2PIo1r+z4VxTop3vvwCOouFAQei/RCz3C4Ye3r8NhYkV9PrFv4UaUekdM/O/nIRUzyqj6L8dM49uJ+vwv8s2JcYcJeW/s50Qwh519L+JT8LVzSXjvxgMAowZ0eK/+99txzZR7b8ICUfSRUvXv0wDSy3aaOq/OaOmis5N4r/fMncGmjXxvy/LRniYldq/27BVadCa7r/lxFPlugTkv0TAkRdEHfO/y9onXuJE4L/Kyb1qoZKvv+errdRkdOS/+CdwUDMf8r8RYoYuWxq+P4jlc/VGvOm/k16lKtK08r8H1V51FBzyv19xl379fOa/5tRU1AOI4r9BS1Iy6a7xv6q+mhEe2sy/KcWb9lLf47//o+0jlGnjv2Hm9zqjwvW/v3A5gDC84b9HB8aCSU7iv7rAvKEDCdI/3g8REdgy078ZS8xcq3/kv7kNmfZ4Vuu/6F3GgpmM6L+MiQOzZsPzv6BL9/ZcluS/p9Qzi2L0oD8=",
          "dtype": "f8"
         }
        },
        {
         "hovertemplate": "color=Cluster B Personality Disorders<br>x=%{x}<br>y=%{y}<br>z=%{z}<extra></extra>",
         "legendgroup": "Cluster B Personality Disorders",
         "marker": {
          "color": "#00cc96",
          "opacity": 0.7,
          "size": 4,
          "symbol": "circle"
         },
         "mode": "markers",
         "name": "Cluster B Personality Disorders",
         "scene": "scene",
         "showlegend": true,
         "type": "scatter3d",
         "x": {
          "bdata": "t4l5U5G3tT8a7ScLO7DQv5grAQixhA3Aff8/xIGaB8C7kd2TxN7RP8yInsod7eQ/a7BX+lvI179oKYrBZDfeP5Yf5k8DP9y/G8CrNZ9w679VVckihSTCv6XxnzaWYeG/hq74Ps110r9zjDpibGoGwAmKJjbRI+k/C/+6GEDVtj/++Y9C4y7YPzcBuqi+osc/mnrO2rg63z8BsfGMV/bjPy2tN0fM8pm/Y+pgTIkf4T/pU64+v0TRv/khGm017cY/d+qALrNVB8Dv1gtOoyvdP1Ct3JKYTeI/yziCjk0YzL/sL7re7uryP5gO7eCzSeY/Ybv/8Qin1D/zp0WnNt7FvzWeQUh7VcA/okiRmbUq17/beQvvZbXnPw5rhr4v8NK/hDzN56lW9T9WOlVNsZzkP/hWENWtcvG/FssaNjURxr+NZA9a32/mPw==",
          "dtype": "f8"
         },
         "y": {
          "bdata": "IMBXBb3a5b/LVxvUUGrCv0HxjsjX6fC/RSuAC1zv7b8ufdPPht36v7OXTmxjhPa/aCT+8s4d9L9IwZWJ1RXjv+k4AIO7q/u/Iqdsnc0K8b/4bYkx1yP/v5J6Q6pKiN+/4gqCRsE+9L+Vjmum/Y/1v4phV4IAU9u/0BD3gExQy7/oWLGGk8vfv4l2KRS+rtO/pD4EIwxTpr/9k1qlIDTEv1WZ+A+q+/K/+BNvkMtu4b/6FM2ZBFL4v3nLMDMKkPa/lmDabsBZ7L8Dx0wu8si3v1ZMLRGji/K/AeQDO5B9+r8pup3hINriv/jvUnlU1+q/xfLh7T8b579oK9YExDDOP+QMegs+iPi/QmzfiMUb8L+sBYPVVDTmvxQbEuCmJ+q/HBYenHT09r+JmmaOZznEv4ovOFMi8fS/GCVaFR/SsL/PGmL21g7gvw==",
          "dtype": "f8"
         },
         "z": {
          "bdata": "6t1wRPAFs7/Ueig1Q7DFP5d+bUaqVtU/A33TFMOJ8j9zAWUTyZrnvzKBicGcvME/ZNZbwFw66b9JbUBYegDsv/AvH+vMRPC/FUtW9EWTz7+ZKXIWb7nvv6J7Pv9f3MQ//XAm2fqp37/MC5e8AkPhPzeK+jcyxtm/nB3a2IAr1r9thxPaKXKwP6xFBaUAde+/7WOQYl263j9/XBMKkTjhv5kohqPbraG/h6+drBUi3r+SDEVo0qLkv8Qe9FDZxNS/g332xS3S3z+UTRUY34Tmvy1VktJnTuS/RuizreTq7L8AHRs+FYfTv7oeqHo88+y/Cdhpf8gkwT+girxXRymkv32yd5vKjuC/1nV2KSMe6r8GXXvNwOaGvzjTgbtGMPC/GhH3K9Hc0r/fxQlsvruqv1LyZSFZvuS/1R5MyP0gwL9n0Xgku2fjvw==",
          "dtype": "f8"
         }
        },
        {
         "hovertemplate": "color=Bipolar and Related Disorders<br>x=%{x}<br>y=%{y}<br>z=%{z}<extra></extra>",
         "legendgroup": "Bipolar and Related Disorders",
         "marker": {
          "color": "#ab63fa",
          "opacity": 0.7,
          "size": 4,
          "symbol": "circle"
         },
         "mode": "markers",
         "name": "Bipolar and Related Disorders",
         "scene": "scene",
         "showlegend": true,
         "type": "scatter3d",
         "x": {
          "bdata": "BYxo4qqg9T+gZ1hMg2bSPw6eUtggugXAk9I2cAph3T+xpSh3YKb/vxYyhfbLNPy/nFjxt2CHyT8cdz38yqPcPzzz5W7iPQDAmePgBhaf4L9/WXfqq4/1P0QmgYX6vOg/eTM06zqB5z9W8OlASjHsvz3u7IXAKPE/uIDa/bNN7D+3S6T5aFDsv+8DSMA6F/M/0SHzrf+p4z+WAbuZ7kjnP9BRaQbPiOq/sCJG+GJuA8Bjxk5nB7R7P7ob3vMmIJM/inwOFcFh/j+oH9WYjA/1P6a5JCN+nn+/OsHs7ALWzz9B1hAkGcLpvw8zyyPG/Ow/XokckDpB+T92yNAPk7v6v1EPE3bFSwDAF0XEUSR47j/HVTudgxPSv4GEwewIXrO/HvEXuwm+679qcioWEiT/v2nHaIK+beM/yoJ0v0lF6T8ep10KZZr4P6dPf1MMq+I/3Pl9P8VS9z8h3PGOspvxP7rhGFQCZfS/Oa+epPEo6T/LqRU5X+nxP57lKwosjve/+RHBK6Cu0D/R4i2lPHQGwI4tzONRQfg/Xy/yOswv4D87fH4lGVPwPx0RSlmL7sM/+6QwZmCpAcAZQc3bKOvlP2B2+sgqSdA/+nW4uS1a4j/aE/50cVvyv2c6dOE63tU/HgYXLwM8rz/wfwe0s+m0v9D6toTWHuO/mJxA5mkF8D/65cUR7S/tP5JMMx8sH7S/tujlUj0H7L8xKGZtWnKnvyS3MaT03O6/6Q//KBzE8j/ITILhzDb8v3LZYn/JJ+Y/5vCIjvPGtj8TAoF+EO7xPzd72xgV7cg/zl9mlxZXB8DN+Gjw8CzeP8GALTDLMsS/l7QcM5Of6D+NsaGypRIGwBhpTYVPB80/g/WvYBqa7r++cYfMDPUGwJMg/w1smrw/4Gvnq2FmBcD5bNXQAR7kP3cjqIV84tA/bQSWJZkG/7+dyWH2qc/Mv6iHcEtwXQfAStmAKLAN0j/RX2PqikHrP/gV1O7s2I2/Ma4Wyat15r8qSZrKhI3zPyZNdaXa8PC/",
          "dtype": "f8"
         },
         "y": {
          "bdata": "VjQw4j9Inr+adrFQC9fyP3tF+S0sbOq/Ow82BVDSdT+/B12imk3Sv2FEECHK18A/r4mlPzW36j9ZfBybD/DCv9Gwh1qc3u8/Uh7HsFZH9L+oaIVhAPfUP1FIhgBnlea/6q53v+y+7D/2YUxwLkDWv4zKjGkHN8M/XzxmfcsHxr8KnIiNejrZPwVXC22c96+/e5y4bPD+yz87aJjBtaXoP+wSJs86090/uGaCj0g04b+mU+uprzfSP7VPT0HXKuI/DeiJ19TKz7+am2Qi56m4v0MUQRy2s+4/IMsuUUB84z8gZ37VBMzGv0LJtRXTuto/I7QWct8+17/U+NKfYsrjv2YSsISzJfU/zUyAc7UF4T8Carou9QLsPzilUutM4da/Ie8iaVa57D8Q78P+0XXuP7zeABdSmuK/ELD/lkBH378Dfnl/4Z/hv2NuSUpJI8G/z/CmYxm42r9PwIKZHnqVv4/AE3gtt9S/nZwzlgj32b8NgcGqOQu8v/oeJLRtBcc/3jMBGhJS8D+n+HSv3q/av5SH1mINXNq/oKLUU2KV8L9mFuOVa5nAPw8Qode14PC/1MlP8zyauL++0pr7gLfqP03WkiQjCbw/AhOSvmmqvr8Hzbs7BVDaPz0v3fcthNG/maMklPnh9D8+FlkjwrntP183lTLyAuS/D0wk5/9XxL+P9kWUUyznP9OoQA6dDOQ/A/VG8wKG7D9t+zhjm+vjP6g9QXfw++Q/kn0xB/OZyD/GzdL0WWEFQOpXhFkqWtY/As7IKLOn2T+4fLB7WvzKv89R205k8uk/akDIYv/C579vMAatJWLyv4wFFKcKv/c/wn5f/sQGvD+/6zlPyD7nvzIsK5BEa/S/zoXyYOC/fD/8Tz/s2GPgv+X8nomZCPO/Vv8YRB084b/5Rk7aNO3oP8NSxzdw9eU/sDHDxnQJxj/SX/A+4lX7Pw0TM0WOBua/EpQVzeva5j8cKEU/+DyYvxXVn4ZLzeM/cuvAZj6vxj+ftGq1rujbP2q2MQbMz9k/",
          "dtype": "f8"
         },
         "z": {
          "bdata": "+aklMm5n3j/0mvf714HWP7B/OZPM5+0/JATN910fwj8QmXanoFTnP/h4b6UC6NQ/AC+4BGZZtL9SnuxByiXJvyZgWKSAafa/8v1JlUAXu7+wTsVYEYKwP5sERUA2YXS/TV3K+QZt1r80qI1+/9nlPzkQVRy+Q+0/6A4BX+Et4T8/X+dslha5P2eR2r1IYtA/OhZGfpDu4z9HFIsVoxfqP6uIm7FN8uW/JKvWfgT57T+IDMnO2PjXPzkd72Rl/Oi/aoFL5K2q6T9uE7AogDTXP6PCgNa+t+S/quasjIlrqj/9NYj/YGnoPy1t9ObG2dk/cYrvy0ZQ7D8iIvq24v7wPxw4Qv961Pa/ZN36ADOrkT8rL5ZjjYq3Py5E1mImld0/8Ts4qTCR8L9LLCJ7wtnzv5HPRdRLNNM/oTtOjfMz5T+hlTSID2XMPykd1kWwic0/HySH5l2a5T+lkyQK5qPhPxtvug4QCto/eU15R8dm1D8TBEumIdfaPyuzHUlbM9g/Q25mTe8N8L87+tZCzvfvP+nX8qeQEuE/7JuFrfih1r8QHGBdS7Ojv9gAr72f1oa/dkNHPg6L6T8Y2HLZ7R/mP3i74RrxguM/nTvtMlh91z82y6iHEdPPP/2J5z5N89W/ZNZDAUg+cD+nhp1Hsoa6P0/ztOoSI8G/SrCPHA3p5D/PWgMxRFLIP4g0FHhPA9s/2gBA9C7S1b9rW0SLWtnSv6UlipTp7qE/55Okktc4rz+klhoGaAcJwBLok+X568o/PLXKyaeDxj91eR4PwnPQP59S6BvbyLq/O67GjSth7z9n1FcZjEnXv7ya2M+m5tO/YfVL8n3R1j8wD+mpNQ/uPxDe///1C8i/+3EGRjs/4D/v+u3Pd43yPxbpDqhkmMy/xwBDkAFM9z9koMIDEi+cP4o/g5Spw3Q/ZiF77kTH6D/5AYWbri3fv+boKbeVM/A/J6UKjjA76j9OfribIG7iP5k7MZrgJ9i/Wdp9rpyUuD8mBvWegTvXP3XKy+52Q9I/",
          "dtype": "f8"
         }
        },
        {
         "hovertemplate": "color=Sleep-Wake Disorders<br>x=%{x}<br>y=%{y}<br>z=%{z}<extra></extra>",
         "legendgroup": "Sleep-Wake Disorders",
         "marker": {
          "color": "#FFA15A",
          "opacity": 0.7,
          "size": 4,
          "symbol": "circle"
         },
         "mode": "markers",
         "name": "Sleep-Wake Disorders",
         "scene": "scene",
         "showlegend": true,
         "type": "scatter3d",
         "x": {
          "bdata": "lBt05ayD3j+4DwALOU/IP7a83gpovu8/q5egCtPs8T9gaiDWM3m6P/KXiZoeu/6/0MNql4U/4L8t1uLDb0Tjv5+UFYzzK+E/GzUnkeBX8j+FeQnV9I/PP/CSf4GWovY/lA230Far3L8FdTBZCjzZP6xn1Hbp7n2/hhX3rMImVj8YYD+uCbDkP1gXWCtdYvQ/ieHLAOpe6z+5RfxTYymzP5zz1isAA9w/qwekETGX1z+WLJbgxejwP+vbQ9Wl3Pe/B5Omq2Fi9L9mv33AKlPRP4mfkZr3HOM/C93f243Y579drSOvl+LjP++81d6DiPI/cCnFvWt10z93j4T0PTbkP0XYbzENZ/E/MeSBGn0o2D/poyVfN4i4P/3nq814Ntg/+QQtS5Ek8j8mme99ynPyP0+wObKICdE/AGbhzMkO2z+Y67whkzvXP2ojeUrPALY/LQmljYOC8D+VRr7mNuPvP9J0Y9/kyMo/fie9xOyI6T/M88m3V9HxP14xREcBJdC//0qVVIBk9b8vKaZGN+DFP+XM9+9tnNQ/HZBnRJpl8D95d9hZJJjZP7JtK9DZxeY/kSuXoj2l67925WaW2YzgP6ZMruUfXOE/1sijDy0S7j+B48leY3z4vw==",
          "dtype": "f8"
         },
         "y": {
          "bdata": "z8MfOaxPyr8/A0Jiitrgv3Fxs2/tvuW/oaoz7XQW7L9sfXDfm/rIv9UcVDZxBaM/gtceYs74wz/ylBj3HwTTv3juKmerb9U/LBTGHonN5j9Pi8LUi1rcP7bPp4tFGbq/ByYGBE1o1L+DCudkB2XFP8P9+2Bgydo/LBP55rD+tb+4bEOjyRLhv3S+J2qGnsq/GUAj2PQo5D+cMMzsw03pP31BCOHXsNi/eNx5FwA/3L+irtwPHDzbPytGdHgqwcK/UK3vTJ9N3b8AIkru8ja4vyIHHgCWz9i/UZw+4XQU3j9T+mkx8WDlP6QwOwp3zdY/18eE7qpA07+pYjzqDlZyP9m3rC/iaNM/nubVhW0I4D9arB3kvUzDvxBp+722+pA/9P4VMkBX07/2b+cy+xLhP1ud5R3CZsw/B+hrbV2nxL91R6uAhznMPygqFZ90is8/JYi3q+NM6b/fdVrw0YnYPyWsMW3YjMq/vH87gkmb8L8cVNRStmePP78AChMbSfI/Xr8+cs278T9+RbEFCbDhP5yXQ5AlX8m/qYGnHzTF0z+NKgz2fE7uv6nzA6h2tty/lN6faYQj4j+mxjsHCC6Bv0+ZOS2A1+c/n6IULn6St7/rXIAjYeLYPw==",
          "dtype": "f8"
         },
         "z": {
          "bdata": "XCJc5r+30z8xaQnfKQDmPzcvTgZLEPA/MW5UspyW5D8RvWcV4tOjP0bE3sWTIuc/u7Z5Dyf25L/SteK7S4/PP2d58xSV4+O/4j5SFudj3z9WHUUAD67fP3+ckM2QFdk/jwisuZBOyj+IXS9n3VHEP81GLFT9Vb8/9ElFCvxF2T/IubKY0g7MP7R71xPWDss/XYqanHJ94T+kQVXcbvOAP4/aLRrwF+s/mDkdrSRcuT8mL74A74nqP4NIYudjku4/Mf8uAOGq6j8r2Q3+HyvrP6MWBN2mfOI/KPSL5xUDmj+gfbZ2MVDUP9nJ7dmQHes/94uDjFmg2z8c2WBKo33dPx3kbZ+XQc8/CyEcBa6a3L9t8evOsZ/dP05CARxWOOU/4RvBMsLt7T9LpCI2h43rP4e/LUl4ccS/TOf6xTqn4z/JW23UGpfRP8eAKFYzaOI/rMr0iXBA2D/BtsYvj6vxP54/Np30GZo/vTYxEC6v6z/g3DfuIb/pP6JaDxSK/tA/V38zpp1A5L9cLZ9pFqzVvwO7Rt7JoeI/KwK34c0g6D86qyvzFFXfPwDrLr7xDOo/e/8Nkf4v8j+RM39GqxbwP9L3iJBQo8Q/v7i/jsZZ1D92fbQ8E2HkPw==",
          "dtype": "f8"
         }
        },
        {
         "hovertemplate": "color=Autism Spectrum Disorder<br>x=%{x}<br>y=%{y}<br>z=%{z}<extra></extra>",
         "legendgroup": "Autism Spectrum Disorder",
         "marker": {
          "color": "#19d3f3",
          "opacity": 0.7,
          "size": 4,
          "symbol": "circle"
         },
         "mode": "markers",
         "name": "Autism Spectrum Disorder",
         "scene": "scene",
         "showlegend": true,
         "type": "scatter3d",
         "x": {
          "bdata": "2JmlO/Hd6D/n75xrCjbeP/A+H2YStuY//RE4ouRt6T+qauwnV+bVPympmQigRuG/9gw4/or80z9/UuDa6+XzP6DDt+XGzOw/TMVMxSEa679ixPHJe2LQPzwDpmjFiec/jaHLXKoP4z90uIT01AC4v6cSostHuMU/WHesLHf++L8bgkweIwzFv8zsoAwd/Mg/RfMdrhtV5T/4usr/9+bgP3cvnpqwmOI/Raj5uAsY4j/j0oSaNcfMPywXT0nHkEY/zt0p8Z7b5D8aYyBS+lTvP5Ae9mHzQAHA4lHwU8wfwD/o2sACkn7UPw==",
          "dtype": "f8"
         },
         "y": {
          "bdata": "4xGYyEyy5r8ULSjc8tfuvz1oMv4HLPG/yZD3n4ne+7+9U8BQ1Njvv7TBAQZzQPG/Lj88GLlc578dSSigKYjjv0DqOmR2+em/ZFK4DyOX8b8qqCV1CTnfv+y7rTFVK/a/uVFEq9hh7r+6mIVmoEzvP+m6Qf5/GuO/bBJTkFZl7r8S/2p/xtC8v1RpB3gpJOW/6ODE7WwW97+warnOxUvnvyYP4rOc8fq/H+7nfPZm7r9MYI8r3RHgv2HQINZThf+/dVFwOwRu879Y+OsYkBM1P2IF0m8HE+m/33chtL6t579PjvQ+2/bevw==",
          "dtype": "f8"
         },
         "z": {
          "bdata": "gtzuvA4ruL9AWdCiRXt/P4qI8ePrTt2/L183kv4G5L8Y4rvr/M/nvy8MV55DAua/uemvLyqoxr+/QHSvBAviP1hNPM2md7U/BcniNMPP4b/zyQQzaVW+P5O3xpzhsNi/IuQMJLHM3r/tJAyCRMn6v9d+BCf9Mds/XhOMDSz83T+UQVlBZZXhv7N9lI/6eeG/rPvMcj4KpL+q5MrQecjzvzbarbb75uu/5kQBB+RQ6r8Dsz6rg0nlv8x6puFUzuq/AsyrztNB27+E9rF0wjvfv4loBu2jmMi/voC7oWFz6r92eHvhu8fUPw==",
          "dtype": "f8"
         }
        },
        {
         "hovertemplate": "color=Cluster A Personality Disorders<br>x=%{x}<br>y=%{y}<br>z=%{z}<extra></extra>",
         "legendgroup": "Cluster A Personality Disorders",
         "marker": {
          "color": "#FF6692",
          "opacity": 0.7,
          "size": 4,
          "symbol": "circle"
         },
         "mode": "markers",
         "name": "Cluster A Personality Disorders",
         "scene": "scene",
         "showlegend": true,
         "type": "scatter3d",
         "x": {
          "bdata": "24QGcUQ6pb8iPqIM1JsFwLR/n8EkKeY/0GsY8vcV8D/6ACkDIu3gvwqit72i1uq/oBJl5Kb72b+/KZSNmFL6v62fD9vi7dU/yDh2noALzD9bDrrMNxICwMeMvr4NwNk/9enlqzwbC8BBHEuWyF/3P1gH+CuVZti/omzYXrSNvT9MkWN2fsHfvxtiHtXWzADAnRz3SvQ42T8EjA3MQ/2nPzITQRy9AuE/fVj1HwgFv79SkMQ+kMO7P7o7SAmNXcm/54RhdH1h9T8=",
          "dtype": "f8"
         },
         "y": {
          "bdata": "kALXS85orz9756+5Ww7qv5pgjuvP8t+/liKP6XHzxb8KLahXMdbpv3NiHZ15avO/NGHxBXFUxD/S27lXlYTnv4cgO8A8Tdq/OZ/x+RUr4L/qP4jC/4Dwv/SDxBz1Cq4/6njRSNjL6L+fieSEH9fmv5U0+qnNA/C/C66zGaq0979ZhpAY/F72v1Pm2y8aLOS/CZBRgTymsz95lLy7pYHPv/KVeRJei9S/WlqELlyY8L8qUvL5+8HCP3kuDKBIcPG/1MUoosCG8b8=",
          "dtype": "f8"
         },
         "z": {
          "bdata": "E+4Drt5/qj9nLFMM38XsP/gFZaN1m8C/sbBJTnjV5b8Ndyqairbmv/tsPyqZWuW/sGF2CK1jyT9fHaXEwmHmP6mOOqF3pdm/FfNlao117L9N8vQSJv/fP9ZN4cb889i/Ri1RIERy0T+OY6z88BLXP2pfSvbeC+e/Gg2cUbxt5r9JEvKkYWfxv2nfwhCGTus/Dg5wWjdbwL/FVQMl72Dnv/BzsrkeccI/VVZhAqvh6b96qy7jmq/ov2A38jrc+eq/joxiLRckpb8=",
          "dtype": "f8"
         }
        },
        {
         "hovertemplate": "color=Cluster C Personalit Disorders y<br>x=%{x}<br>y=%{y}<br>z=%{z}<extra></extra>",
         "legendgroup": "Cluster C Personalit Disorders y",
         "marker": {
          "color": "#B6E880",
          "opacity": 0.7,
          "size": 4,
          "symbol": "circle"
         },
         "mode": "markers",
         "name": "Cluster C Personalit Disorders y",
         "scene": "scene",
         "showlegend": true,
         "type": "scatter3d",
         "x": {
          "bdata": "iMNxpMsuBcCGQ8wWJaHDP9NevKEtgfu/2bUwYrpy4T+u4wE+YCawP1W4ZIyEXNQ/04zveuEQ4z8ryEL+yrfgP0X5fLeXAcO/b+Hcbkh9A8AIA3IDOxbYP8lhr3oJCwnAXIdf0+pG8j+bh9s5to9dv242eKSKK8s/rhid2ntSpr+f3RueXg3evxXsUd5mubO/2GSIm49oyL8khhUAirzwP/fXC9oagIU/75TWQNxu+r+c0OdtMGHnv0dYgvGmj+a/+lGK4VvZyD/QzMlTvS59v5EORu6iRuq/xdNwfzoP5L8=",
          "dtype": "f8"
         },
         "y": {
          "bdata": "JF4NsFWd8r+Kv45DEA/6v4dCqSN4ZOW/tCT2iOEQ5b98qPYtOlXRvzhUZPzdPua/LijKQS906r8NU3E4Ht7gv1aQgGe7gfy/zdiAxmAb879Vn8VE0g7wv5hhVPbfwPK/Q2bGLER/67979Wld8tv4v8YeYiWjyMA/0oze4bdx+L8E2H8Sp371vwhqszKt4/y/5I5vM+Dv5L97PCjAsgO5v5wMd2qOlP6/W+pnw3Zn4r9Vbla93Mz3v/fVzFoL+Pa/oPPpv0285r+e6QctXIbGv3EDx56Vs/i/JL/LtMsx+L8=",
          "dtype": "f8"
         },
         "z": {
          "bdata": "+WV+CFC00D+LsONDxNTwv7lFWu/1BdM/Pb8e0uAh0L9WtvzevF7Zv0OFHty8Ie6/DQtaxs8v5r/c5O9GzlXivyMfQzzf3ei/tM6JQakcsz+HoEVi/Y7APx5xgqQEDtw/2NHWJBo/tj+XlIrKDDHev3MCUkGQzeK/W1RzXeLJ4b8l8aSNOAvvvyUCT6Zq2+K/hcRC9wVA0z9r8ot0bdzdPzWyPuAfNe6/dy+pdEwA0T/16Balb4rkvxzgcbmg7PC/9ZfoOMrtfD/zngsiOAfCP3MYnZM6K+K/hJwMDA198b8=",
          "dtype": "f8"
         }
        },
        {
         "hovertemplate": "color=Specific Learning Disorder<br>x=%{x}<br>y=%{y}<br>z=%{z}<extra></extra>",
         "legendgroup": "Specific Learning Disorder",
         "marker": {
          "color": "#FF97FF",
          "opacity": 0.7,
          "size": 4,
          "symbol": "circle"
         },
         "mode": "markers",
         "name": "Specific Learning Disorder",
         "scene": "scene",
         "showlegend": true,
         "type": "scatter3d",
         "x": {
          "bdata": "yYpg+2WRwL83Ggt+7sDZP2dULkvRJ9U/D9JNG+K8CcC4E3n6tK7TP49fRFWQeuc/ODj+ITba4j/GcHnelf/dP6Qv5EX3mM0/3O7Dl1eL4j+V6LSxBW23P+VuF/Zsm98/VzqBuFK+zj+HUivMb3Hhv2Fp8PioTLe/9XrFUAhA2j9Tz2rsSFfiv/BAaTLgqOc/XnhYK1c027+0fm7RyPnaPwt1uyyJSdA/F0vc+RRO7r8=",
          "dtype": "f8"
         },
         "y": {
          "bdata": "uRaOc9gTvr/KWjWqu4Hzv6XUWQ7hieS/AERRjl5N6r+3X135XDu0v8GtBJMnv+u/uRT7oCho9b/7i5g0AsDmv2kCt6ENVNq/zWnVi99T87/36e56dazbvy1Sol+NaPe/83ggnMRE8r98rKfpAo3zv5qTVp+G/vO//2hpfn2c5L/t0Q1Pv8TUv4hMPVXOuem/KR8BB24B97+kKfVTeQb1v9fLnS029Pa/zTTxIjm53b8=",
          "dtype": "f8"
         },
         "z": {
          "bdata": "TxXDs+h597+gOgnPY5fqv5cs07yncte/64+ioWw81z8XFwclbzzLP2ApWJSH5tK/mSHZTyLIzb9OscL82+TIv0CEZtZLtdq/C7Tot0VM7b/P5AUADdHZv2yMLPqrtdu/AvB0tknI4L/SZuRuohfnv6wdq0v8u+2/Xlcl2V5c8L8XTiZBSVz2vwEJsrMja+C/2MkEwseD2L/wVEUUoLfiv+le5c3RId2/+J+7uvNV7L8=",
          "dtype": "f8"
         }
        },
        {
         "hovertemplate": "color=Personality Disorders<br>x=%{x}<br>y=%{y}<br>z=%{z}<extra></extra>",
         "legendgroup": "Personality Disorders",
         "marker": {
          "color": "#FECB52",
          "opacity": 0.7,
          "size": 4,
          "symbol": "circle"
         },
         "mode": "markers",
         "name": "Personality Disorders",
         "scene": "scene",
         "showlegend": true,
         "type": "scatter3d",
         "x": {
          "bdata": "sQ11RXCLxb+8OXsmlFUBwI7Na31s9OY/WPGUkghP5D+Y59f1kN7fP4Ir4g9m2c8/pGin2oDM4j86E2ttui/uP2on1Auih7K/DxGaQy/H0L+QStVZ4L/kPw==",
          "dtype": "f8"
         },
         "y": {
          "bdata": "PoRH2Rc+0z/FnNB4WTPwv5zRRvNluvC/EuWfwgri4L//jKP2f1bjv2hpl5pTX86/oBEt+Qpc8b8Fflna6cTpvzCAIgF2juK/JYaM24Uw5r+Ud+YGfJvxvw==",
          "dtype": "f8"
         },
         "z": {
          "bdata": "IMa2henm1D8PlmoWmEXiPz+LLTTEpOy/oNqqL+Sj2b+uZzHaJwThvyQ28sLKMdS/5Orjlys2478iOtnDAhLaP+IYWUvTjeG/RgG1HMU38b/tJ78czC3kvw==",
          "dtype": "f8"
         }
        },
        {
         "hovertemplate": "color=Catatonia<br>x=%{x}<br>y=%{y}<br>z=%{z}<extra></extra>",
         "legendgroup": "Catatonia",
         "marker": {
          "color": "#636efa",
          "opacity": 0.7,
          "size": 4,
          "symbol": "circle"
         },
         "mode": "markers",
         "name": "Catatonia",
         "scene": "scene",
         "showlegend": true,
         "type": "scatter3d",
         "x": {
          "bdata": "V9/KIgtKB8DeuODZ0C7nP4Y/bI0wgvu/64eo1gXp+b9JoQ8mr73iP9KZYE4GDfY/2ZHVSUPvCsBn6WtdLiQLwKtdzdIUZgbADj8gW5cvlr8=",
          "dtype": "f8"
         },
         "y": {
          "bdata": "tYb9HWI04796ogKqjibmP9DGxYGvkqC/RZEy6ecB1T8m8kyx7Gndvxi7mrQsGN8/nHH8j4qf4b+ul7DvlpPjvyYzslZGUeK/kHWEHsRD5D8=",
          "dtype": "f8"
         },
         "z": {
          "bdata": "hSVEMsUF7j/O0mZckZDQv4UPZtr+s5e/bptDMbKQw79S/uSrYIjpP6+CUid5VdI/z0y+q0DB6D87bIYeZoXwP3Z6/ZIkuvA/FwLSdMUA4L8=",
          "dtype": "f8"
         }
        },
        {
         "hovertemplate": "color=Other Personality Disorders<br>x=%{x}<br>y=%{y}<br>z=%{z}<extra></extra>",
         "legendgroup": "Other Personality Disorders",
         "marker": {
          "color": "#EF553B",
          "opacity": 0.7,
          "size": 4,
          "symbol": "circle"
         },
         "mode": "markers",
         "name": "Other Personality Disorders",
         "scene": "scene",
         "showlegend": true,
         "type": "scatter3d",
         "x": {
          "bdata": "MNHoDtOJ77+CTE1YZbnBP2lKmjnK6MG/k5Yd1WbAvz86Rg3+E9bav7PgUvs3Ktg/4OLF4hCr1r8=",
          "dtype": "f8"
         },
         "y": {
          "bdata": "z/hnFVXApL9RYYOYWAPTPwT2KICf7tM/Gk885DqA2z/rznty+CvAPzmiHMga2ta/6uOhxPeezz8=",
          "dtype": "f8"
         },
         "z": {
          "bdata": "iCogqjc53r+J+KwSyV68v93EXG46p9Q/czifywmw/r8GaMFq+ofuv1uI4Cvj19q/iHe1TXYc3r8=",
          "dtype": "f8"
         }
        },
        {
         "hovertemplate": "color=Other Mental Disorders and Additional Codes<br>x=%{x}<br>y=%{y}<br>z=%{z}<extra></extra>",
         "legendgroup": "Other Mental Disorders and Additional Codes",
         "marker": {
          "color": "#00cc96",
          "opacity": 0.7,
          "size": 4,
          "symbol": "circle"
         },
         "mode": "markers",
         "name": "Other Mental Disorders and Additional Codes",
         "scene": "scene",
         "showlegend": true,
         "type": "scatter3d",
         "x": {
          "bdata": "A0a6VGpr0L84MGaIKy/Ov+nRQ4eFRcG/m9Eer9wbub8=",
          "dtype": "f8"
         },
         "y": {
          "bdata": "RnaCJqON5T+SimLWTRviP9/e0Bt1l9Y/TASJUx+N5T8=",
          "dtype": "f8"
         },
         "z": {
          "bdata": "BODw3z6t7r+9DJtnC5jyvwzjtOEchfa/3YSxtz5l+L8=",
          "dtype": "f8"
         }
        },
        {
         "hovertemplate": "color=Other Neurodevelo mental Disorders p<br>x=%{x}<br>y=%{y}<br>z=%{z}<extra></extra>",
         "legendgroup": "Other Neurodevelo mental Disorders p",
         "marker": {
          "color": "#ab63fa",
          "opacity": 0.7,
          "size": 4,
          "symbol": "circle"
         },
         "mode": "markers",
         "name": "Other Neurodevelo mental Disorders p",
         "scene": "scene",
         "showlegend": true,
         "type": "scatter3d",
         "x": {
          "bdata": "hEi1P0W23D+jvSFugUbXvw==",
          "dtype": "f8"
         },
         "y": {
          "bdata": "XFc1CpyP7D8CBlTWtYfsPw==",
          "dtype": "f8"
         },
         "z": {
          "bdata": "vWCoZU/B8r+KDgYWMNbdvw==",
          "dtype": "f8"
         }
        },
        {
         "hovertemplate": "color=Additional Codes<br>x=%{x}<br>y=%{y}<br>z=%{z}<extra></extra>",
         "legendgroup": "Additional Codes",
         "marker": {
          "color": "#FFA15A",
          "opacity": 0.7,
          "size": 4,
          "symbol": "circle"
         },
         "mode": "markers",
         "name": "Additional Codes",
         "scene": "scene",
         "showlegend": true,
         "type": "scatter3d",
         "x": {
          "bdata": "2Jo3b/L7578=",
          "dtype": "f8"
         },
         "y": {
          "bdata": "/WVlk9+w8j8=",
          "dtype": "f8"
         },
         "z": {
          "bdata": "BeuaO35W978=",
          "dtype": "f8"
         }
        }
       ],
       "layout": {
        "height": 800,
        "legend": {
         "title": {
          "text": "color"
         },
         "tracegroupgap": 0
        },
        "scene": {
         "domain": {
          "x": [
           0,
           1
          ],
          "y": [
           0,
           1
          ]
         },
         "xaxis": {
          "title": {
           "text": "x"
          }
         },
         "yaxis": {
          "title": {
           "text": "y"
          }
         },
         "zaxis": {
          "title": {
           "text": "z"
          }
         }
        },
        "template": {
         "data": {
          "bar": [
           {
            "error_x": {
             "color": "#2a3f5f"
            },
            "error_y": {
             "color": "#2a3f5f"
            },
            "marker": {
             "line": {
              "color": "#E5ECF6",
              "width": 0.5
             },
             "pattern": {
              "fillmode": "overlay",
              "size": 10,
              "solidity": 0.2
             }
            },
            "type": "bar"
           }
          ],
          "barpolar": [
           {
            "marker": {
             "line": {
              "color": "#E5ECF6",
              "width": 0.5
             },
             "pattern": {
              "fillmode": "overlay",
              "size": 10,
              "solidity": 0.2
             }
            },
            "type": "barpolar"
           }
          ],
          "carpet": [
           {
            "aaxis": {
             "endlinecolor": "#2a3f5f",
             "gridcolor": "white",
             "linecolor": "white",
             "minorgridcolor": "white",
             "startlinecolor": "#2a3f5f"
            },
            "baxis": {
             "endlinecolor": "#2a3f5f",
             "gridcolor": "white",
             "linecolor": "white",
             "minorgridcolor": "white",
             "startlinecolor": "#2a3f5f"
            },
            "type": "carpet"
           }
          ],
          "choropleth": [
           {
            "colorbar": {
             "outlinewidth": 0,
             "ticks": ""
            },
            "type": "choropleth"
           }
          ],
          "contour": [
           {
            "colorbar": {
             "outlinewidth": 0,
             "ticks": ""
            },
            "colorscale": [
             [
              0,
              "#0d0887"
             ],
             [
              0.1111111111111111,
              "#46039f"
             ],
             [
              0.2222222222222222,
              "#7201a8"
             ],
             [
              0.3333333333333333,
              "#9c179e"
             ],
             [
              0.4444444444444444,
              "#bd3786"
             ],
             [
              0.5555555555555556,
              "#d8576b"
             ],
             [
              0.6666666666666666,
              "#ed7953"
             ],
             [
              0.7777777777777778,
              "#fb9f3a"
             ],
             [
              0.8888888888888888,
              "#fdca26"
             ],
             [
              1,
              "#f0f921"
             ]
            ],
            "type": "contour"
           }
          ],
          "contourcarpet": [
           {
            "colorbar": {
             "outlinewidth": 0,
             "ticks": ""
            },
            "type": "contourcarpet"
           }
          ],
          "heatmap": [
           {
            "colorbar": {
             "outlinewidth": 0,
             "ticks": ""
            },
            "colorscale": [
             [
              0,
              "#0d0887"
             ],
             [
              0.1111111111111111,
              "#46039f"
             ],
             [
              0.2222222222222222,
              "#7201a8"
             ],
             [
              0.3333333333333333,
              "#9c179e"
             ],
             [
              0.4444444444444444,
              "#bd3786"
             ],
             [
              0.5555555555555556,
              "#d8576b"
             ],
             [
              0.6666666666666666,
              "#ed7953"
             ],
             [
              0.7777777777777778,
              "#fb9f3a"
             ],
             [
              0.8888888888888888,
              "#fdca26"
             ],
             [
              1,
              "#f0f921"
             ]
            ],
            "type": "heatmap"
           }
          ],
          "histogram": [
           {
            "marker": {
             "pattern": {
              "fillmode": "overlay",
              "size": 10,
              "solidity": 0.2
             }
            },
            "type": "histogram"
           }
          ],
          "histogram2d": [
           {
            "colorbar": {
             "outlinewidth": 0,
             "ticks": ""
            },
            "colorscale": [
             [
              0,
              "#0d0887"
             ],
             [
              0.1111111111111111,
              "#46039f"
             ],
             [
              0.2222222222222222,
              "#7201a8"
             ],
             [
              0.3333333333333333,
              "#9c179e"
             ],
             [
              0.4444444444444444,
              "#bd3786"
             ],
             [
              0.5555555555555556,
              "#d8576b"
             ],
             [
              0.6666666666666666,
              "#ed7953"
             ],
             [
              0.7777777777777778,
              "#fb9f3a"
             ],
             [
              0.8888888888888888,
              "#fdca26"
             ],
             [
              1,
              "#f0f921"
             ]
            ],
            "type": "histogram2d"
           }
          ],
          "histogram2dcontour": [
           {
            "colorbar": {
             "outlinewidth": 0,
             "ticks": ""
            },
            "colorscale": [
             [
              0,
              "#0d0887"
             ],
             [
              0.1111111111111111,
              "#46039f"
             ],
             [
              0.2222222222222222,
              "#7201a8"
             ],
             [
              0.3333333333333333,
              "#9c179e"
             ],
             [
              0.4444444444444444,
              "#bd3786"
             ],
             [
              0.5555555555555556,
              "#d8576b"
             ],
             [
              0.6666666666666666,
              "#ed7953"
             ],
             [
              0.7777777777777778,
              "#fb9f3a"
             ],
             [
              0.8888888888888888,
              "#fdca26"
             ],
             [
              1,
              "#f0f921"
             ]
            ],
            "type": "histogram2dcontour"
           }
          ],
          "mesh3d": [
           {
            "colorbar": {
             "outlinewidth": 0,
             "ticks": ""
            },
            "type": "mesh3d"
           }
          ],
          "parcoords": [
           {
            "line": {
             "colorbar": {
              "outlinewidth": 0,
              "ticks": ""
             }
            },
            "type": "parcoords"
           }
          ],
          "pie": [
           {
            "automargin": true,
            "type": "pie"
           }
          ],
          "scatter": [
           {
            "fillpattern": {
             "fillmode": "overlay",
             "size": 10,
             "solidity": 0.2
            },
            "type": "scatter"
           }
          ],
          "scatter3d": [
           {
            "line": {
             "colorbar": {
              "outlinewidth": 0,
              "ticks": ""
             }
            },
            "marker": {
             "colorbar": {
              "outlinewidth": 0,
              "ticks": ""
             }
            },
            "type": "scatter3d"
           }
          ],
          "scattercarpet": [
           {
            "marker": {
             "colorbar": {
              "outlinewidth": 0,
              "ticks": ""
             }
            },
            "type": "scattercarpet"
           }
          ],
          "scattergeo": [
           {
            "marker": {
             "colorbar": {
              "outlinewidth": 0,
              "ticks": ""
             }
            },
            "type": "scattergeo"
           }
          ],
          "scattergl": [
           {
            "marker": {
             "colorbar": {
              "outlinewidth": 0,
              "ticks": ""
             }
            },
            "type": "scattergl"
           }
          ],
          "scattermap": [
           {
            "marker": {
             "colorbar": {
              "outlinewidth": 0,
              "ticks": ""
             }
            },
            "type": "scattermap"
           }
          ],
          "scattermapbox": [
           {
            "marker": {
             "colorbar": {
              "outlinewidth": 0,
              "ticks": ""
             }
            },
            "type": "scattermapbox"
           }
          ],
          "scatterpolar": [
           {
            "marker": {
             "colorbar": {
              "outlinewidth": 0,
              "ticks": ""
             }
            },
            "type": "scatterpolar"
           }
          ],
          "scatterpolargl": [
           {
            "marker": {
             "colorbar": {
              "outlinewidth": 0,
              "ticks": ""
             }
            },
            "type": "scatterpolargl"
           }
          ],
          "scatterternary": [
           {
            "marker": {
             "colorbar": {
              "outlinewidth": 0,
              "ticks": ""
             }
            },
            "type": "scatterternary"
           }
          ],
          "surface": [
           {
            "colorbar": {
             "outlinewidth": 0,
             "ticks": ""
            },
            "colorscale": [
             [
              0,
              "#0d0887"
             ],
             [
              0.1111111111111111,
              "#46039f"
             ],
             [
              0.2222222222222222,
              "#7201a8"
             ],
             [
              0.3333333333333333,
              "#9c179e"
             ],
             [
              0.4444444444444444,
              "#bd3786"
             ],
             [
              0.5555555555555556,
              "#d8576b"
             ],
             [
              0.6666666666666666,
              "#ed7953"
             ],
             [
              0.7777777777777778,
              "#fb9f3a"
             ],
             [
              0.8888888888888888,
              "#fdca26"
             ],
             [
              1,
              "#f0f921"
             ]
            ],
            "type": "surface"
           }
          ],
          "table": [
           {
            "cells": {
             "fill": {
              "color": "#EBF0F8"
             },
             "line": {
              "color": "white"
             }
            },
            "header": {
             "fill": {
              "color": "#C8D4E3"
             },
             "line": {
              "color": "white"
             }
            },
            "type": "table"
           }
          ]
         },
         "layout": {
          "annotationdefaults": {
           "arrowcolor": "#2a3f5f",
           "arrowhead": 0,
           "arrowwidth": 1
          },
          "autotypenumbers": "strict",
          "coloraxis": {
           "colorbar": {
            "outlinewidth": 0,
            "ticks": ""
           }
          },
          "colorscale": {
           "diverging": [
            [
             0,
             "#8e0152"
            ],
            [
             0.1,
             "#c51b7d"
            ],
            [
             0.2,
             "#de77ae"
            ],
            [
             0.3,
             "#f1b6da"
            ],
            [
             0.4,
             "#fde0ef"
            ],
            [
             0.5,
             "#f7f7f7"
            ],
            [
             0.6,
             "#e6f5d0"
            ],
            [
             0.7,
             "#b8e186"
            ],
            [
             0.8,
             "#7fbc41"
            ],
            [
             0.9,
             "#4d9221"
            ],
            [
             1,
             "#276419"
            ]
           ],
           "sequential": [
            [
             0,
             "#0d0887"
            ],
            [
             0.1111111111111111,
             "#46039f"
            ],
            [
             0.2222222222222222,
             "#7201a8"
            ],
            [
             0.3333333333333333,
             "#9c179e"
            ],
            [
             0.4444444444444444,
             "#bd3786"
            ],
            [
             0.5555555555555556,
             "#d8576b"
            ],
            [
             0.6666666666666666,
             "#ed7953"
            ],
            [
             0.7777777777777778,
             "#fb9f3a"
            ],
            [
             0.8888888888888888,
             "#fdca26"
            ],
            [
             1,
             "#f0f921"
            ]
           ],
           "sequentialminus": [
            [
             0,
             "#0d0887"
            ],
            [
             0.1111111111111111,
             "#46039f"
            ],
            [
             0.2222222222222222,
             "#7201a8"
            ],
            [
             0.3333333333333333,
             "#9c179e"
            ],
            [
             0.4444444444444444,
             "#bd3786"
            ],
            [
             0.5555555555555556,
             "#d8576b"
            ],
            [
             0.6666666666666666,
             "#ed7953"
            ],
            [
             0.7777777777777778,
             "#fb9f3a"
            ],
            [
             0.8888888888888888,
             "#fdca26"
            ],
            [
             1,
             "#f0f921"
            ]
           ]
          },
          "colorway": [
           "#636efa",
           "#EF553B",
           "#00cc96",
           "#ab63fa",
           "#FFA15A",
           "#19d3f3",
           "#FF6692",
           "#B6E880",
           "#FF97FF",
           "#FECB52"
          ],
          "font": {
           "color": "#2a3f5f"
          },
          "geo": {
           "bgcolor": "white",
           "lakecolor": "white",
           "landcolor": "#E5ECF6",
           "showlakes": true,
           "showland": true,
           "subunitcolor": "white"
          },
          "hoverlabel": {
           "align": "left"
          },
          "hovermode": "closest",
          "mapbox": {
           "style": "light"
          },
          "paper_bgcolor": "white",
          "plot_bgcolor": "#E5ECF6",
          "polar": {
           "angularaxis": {
            "gridcolor": "white",
            "linecolor": "white",
            "ticks": ""
           },
           "bgcolor": "#E5ECF6",
           "radialaxis": {
            "gridcolor": "white",
            "linecolor": "white",
            "ticks": ""
           }
          },
          "scene": {
           "xaxis": {
            "backgroundcolor": "#E5ECF6",
            "gridcolor": "white",
            "gridwidth": 2,
            "linecolor": "white",
            "showbackground": true,
            "ticks": "",
            "zerolinecolor": "white"
           },
           "yaxis": {
            "backgroundcolor": "#E5ECF6",
            "gridcolor": "white",
            "gridwidth": 2,
            "linecolor": "white",
            "showbackground": true,
            "ticks": "",
            "zerolinecolor": "white"
           },
           "zaxis": {
            "backgroundcolor": "#E5ECF6",
            "gridcolor": "white",
            "gridwidth": 2,
            "linecolor": "white",
            "showbackground": true,
            "ticks": "",
            "zerolinecolor": "white"
           }
          },
          "shapedefaults": {
           "line": {
            "color": "#2a3f5f"
           }
          },
          "ternary": {
           "aaxis": {
            "gridcolor": "white",
            "linecolor": "white",
            "ticks": ""
           },
           "baxis": {
            "gridcolor": "white",
            "linecolor": "white",
            "ticks": ""
           },
           "bgcolor": "#E5ECF6",
           "caxis": {
            "gridcolor": "white",
            "linecolor": "white",
            "ticks": ""
           }
          },
          "title": {
           "x": 0.05
          },
          "xaxis": {
           "automargin": true,
           "gridcolor": "white",
           "linecolor": "white",
           "ticks": "",
           "title": {
            "standoff": 15
           },
           "zerolinecolor": "white",
           "zerolinewidth": 2
          },
          "yaxis": {
           "automargin": true,
           "gridcolor": "white",
           "linecolor": "white",
           "ticks": "",
           "title": {
            "standoff": 15
           },
           "zerolinecolor": "white",
           "zerolinewidth": 2
          }
         }
        },
        "title": {
         "font": {
          "size": 20
         },
         "text": "Distilbert Vectors"
        },
        "width": 1200
       }
      }
     },
     "metadata": {},
     "output_type": "display_data"
    },
    {
     "name": "stderr",
     "output_type": "stream",
     "text": [
      "/home/rob/miniconda3/envs/school/lib/python3.11/site-packages/plotly/io/_kaleido.py:510: DeprecationWarning:\n",
      "\n",
      "\n",
      "Support for the 'engine' argument is deprecated and will be removed after September 2025.\n",
      "Kaleido will be the only supported engine at that time.\n",
      "\n",
      "\n"
     ]
    },
    {
     "ename": "RuntimeError",
     "evalue": "\n\nKaleido requires Google Chrome to be installed.\n\nEither download and install Chrome yourself following Google's instructions for your operating system,\nor install it from your terminal by running:\n\n    $ plotly_get_chrome\n\n",
     "output_type": "error",
     "traceback": [
      "\u001b[31m---------------------------------------------------------------------------\u001b[39m",
      "\u001b[31mChromeNotFoundError\u001b[39m                       Traceback (most recent call last)",
      "\u001b[31mChromeNotFoundError\u001b[39m: ",
      "\nThe above exception was the direct cause of the following exception:\n",
      "\u001b[31mChromeNotFoundError\u001b[39m                       Traceback (most recent call last)",
      "\u001b[36mFile \u001b[39m\u001b[32m~/miniconda3/envs/school/lib/python3.11/site-packages/plotly/io/_kaleido.py:380\u001b[39m, in \u001b[36mto_image\u001b[39m\u001b[34m(fig, format, width, height, scale, validate, engine)\u001b[39m\n\u001b[32m    379\u001b[39m     \u001b[38;5;66;03m# TODO: Refactor to make it possible to use a shared Kaleido instance here\u001b[39;00m\n\u001b[32m--> \u001b[39m\u001b[32m380\u001b[39m     img_bytes = \u001b[43mkaleido\u001b[49m\u001b[43m.\u001b[49m\u001b[43mcalc_fig_sync\u001b[49m\u001b[43m(\u001b[49m\n\u001b[32m    381\u001b[39m \u001b[43m        \u001b[49m\u001b[43mfig_dict\u001b[49m\u001b[43m,\u001b[49m\n\u001b[32m    382\u001b[39m \u001b[43m        \u001b[49m\u001b[43mopts\u001b[49m\u001b[43m=\u001b[49m\u001b[38;5;28;43mdict\u001b[39;49m\u001b[43m(\u001b[49m\n\u001b[32m    383\u001b[39m \u001b[43m            \u001b[49m\u001b[38;5;28;43mformat\u001b[39;49m\u001b[43m=\u001b[49m\u001b[38;5;28;43mformat\u001b[39;49m\u001b[43m \u001b[49m\u001b[38;5;129;43;01mor\u001b[39;49;00m\u001b[43m \u001b[49m\u001b[43mdefaults\u001b[49m\u001b[43m.\u001b[49m\u001b[43mdefault_format\u001b[49m\u001b[43m,\u001b[49m\n\u001b[32m    384\u001b[39m \u001b[43m            \u001b[49m\u001b[43mwidth\u001b[49m\u001b[43m=\u001b[49m\u001b[43mwidth\u001b[49m\u001b[43m \u001b[49m\u001b[38;5;129;43;01mor\u001b[39;49;00m\u001b[43m \u001b[49m\u001b[43mdefaults\u001b[49m\u001b[43m.\u001b[49m\u001b[43mdefault_width\u001b[49m\u001b[43m,\u001b[49m\n\u001b[32m    385\u001b[39m \u001b[43m            \u001b[49m\u001b[43mheight\u001b[49m\u001b[43m=\u001b[49m\u001b[43mheight\u001b[49m\u001b[43m \u001b[49m\u001b[38;5;129;43;01mor\u001b[39;49;00m\u001b[43m \u001b[49m\u001b[43mdefaults\u001b[49m\u001b[43m.\u001b[49m\u001b[43mdefault_height\u001b[49m\u001b[43m,\u001b[49m\n\u001b[32m    386\u001b[39m \u001b[43m            \u001b[49m\u001b[43mscale\u001b[49m\u001b[43m=\u001b[49m\u001b[43mscale\u001b[49m\u001b[43m \u001b[49m\u001b[38;5;129;43;01mor\u001b[39;49;00m\u001b[43m \u001b[49m\u001b[43mdefaults\u001b[49m\u001b[43m.\u001b[49m\u001b[43mdefault_scale\u001b[49m\u001b[43m,\u001b[49m\n\u001b[32m    387\u001b[39m \u001b[43m        \u001b[49m\u001b[43m)\u001b[49m\u001b[43m,\u001b[49m\n\u001b[32m    388\u001b[39m \u001b[43m        \u001b[49m\u001b[43mtopojson\u001b[49m\u001b[43m=\u001b[49m\u001b[43mdefaults\u001b[49m\u001b[43m.\u001b[49m\u001b[43mtopojson\u001b[49m\u001b[43m,\u001b[49m\n\u001b[32m    389\u001b[39m \u001b[43m        \u001b[49m\u001b[43mkopts\u001b[49m\u001b[43m=\u001b[49m\u001b[43mkopts\u001b[49m\u001b[43m,\u001b[49m\n\u001b[32m    390\u001b[39m \u001b[43m    \u001b[49m\u001b[43m)\u001b[49m\n\u001b[32m    391\u001b[39m \u001b[38;5;28;01mexcept\u001b[39;00m ChromeNotFoundError:\n",
      "\u001b[36mFile \u001b[39m\u001b[32m~/miniconda3/envs/school/lib/python3.11/site-packages/kaleido/__init__.py:171\u001b[39m, in \u001b[36mcalc_fig_sync\u001b[39m\u001b[34m(*args, **kwargs)\u001b[39m\n\u001b[32m    170\u001b[39m \u001b[38;5;28;01melse\u001b[39;00m:\n\u001b[32m--> \u001b[39m\u001b[32m171\u001b[39m     \u001b[38;5;28;01mreturn\u001b[39;00m \u001b[43m_sync_server\u001b[49m\u001b[43m.\u001b[49m\u001b[43moneshot_async_run\u001b[49m\u001b[43m(\u001b[49m\u001b[43mcalc_fig\u001b[49m\u001b[43m,\u001b[49m\u001b[43m \u001b[49m\u001b[43margs\u001b[49m\u001b[43m=\u001b[49m\u001b[43margs\u001b[49m\u001b[43m,\u001b[49m\u001b[43m \u001b[49m\u001b[43mkwargs\u001b[49m\u001b[43m=\u001b[49m\u001b[43mkwargs\u001b[49m\u001b[43m)\u001b[49m\n",
      "\u001b[36mFile \u001b[39m\u001b[32m~/miniconda3/envs/school/lib/python3.11/site-packages/kaleido/_sync_server.py:131\u001b[39m, in \u001b[36moneshot_async_run\u001b[39m\u001b[34m(func, args, kwargs)\u001b[39m\n\u001b[32m    130\u001b[39m \u001b[38;5;28;01mif\u001b[39;00m \u001b[38;5;28misinstance\u001b[39m(res, \u001b[38;5;167;01mBaseException\u001b[39;00m):\n\u001b[32m--> \u001b[39m\u001b[32m131\u001b[39m     \u001b[38;5;28;01mraise\u001b[39;00m res\n\u001b[32m    132\u001b[39m \u001b[38;5;28;01melse\u001b[39;00m:\n",
      "\u001b[36mFile \u001b[39m\u001b[32m~/miniconda3/envs/school/lib/python3.11/site-packages/kaleido/_sync_server.py:122\u001b[39m, in \u001b[36moneshot_async_run.<locals>.run\u001b[39m\u001b[34m(func, q, *args, **kwargs)\u001b[39m\n\u001b[32m    121\u001b[39m \u001b[38;5;28;01mtry\u001b[39;00m:\n\u001b[32m--> \u001b[39m\u001b[32m122\u001b[39m     q.put(\u001b[43masyncio\u001b[49m\u001b[43m.\u001b[49m\u001b[43mrun\u001b[49m\u001b[43m(\u001b[49m\u001b[43mfunc\u001b[49m\u001b[43m(\u001b[49m\u001b[43m*\u001b[49m\u001b[43margs\u001b[49m\u001b[43m,\u001b[49m\u001b[43m \u001b[49m\u001b[43m*\u001b[49m\u001b[43m*\u001b[49m\u001b[43mkwargs\u001b[49m\u001b[43m)\u001b[49m\u001b[43m)\u001b[49m)\n\u001b[32m    123\u001b[39m \u001b[38;5;28;01mexcept\u001b[39;00m \u001b[38;5;167;01mBaseException\u001b[39;00m \u001b[38;5;28;01mas\u001b[39;00m e:  \u001b[38;5;66;03m# noqa: BLE001\u001b[39;00m\n",
      "\u001b[36mFile \u001b[39m\u001b[32m~/miniconda3/envs/school/lib/python3.11/asyncio/runners.py:190\u001b[39m, in \u001b[36mrun\u001b[39m\u001b[34m(main, debug)\u001b[39m\n\u001b[32m    189\u001b[39m \u001b[38;5;28;01mwith\u001b[39;00m Runner(debug=debug) \u001b[38;5;28;01mas\u001b[39;00m runner:\n\u001b[32m--> \u001b[39m\u001b[32m190\u001b[39m     \u001b[38;5;28;01mreturn\u001b[39;00m \u001b[43mrunner\u001b[49m\u001b[43m.\u001b[49m\u001b[43mrun\u001b[49m\u001b[43m(\u001b[49m\u001b[43mmain\u001b[49m\u001b[43m)\u001b[49m\n",
      "\u001b[36mFile \u001b[39m\u001b[32m~/miniconda3/envs/school/lib/python3.11/asyncio/runners.py:118\u001b[39m, in \u001b[36mRunner.run\u001b[39m\u001b[34m(self, coro, context)\u001b[39m\n\u001b[32m    117\u001b[39m \u001b[38;5;28;01mtry\u001b[39;00m:\n\u001b[32m--> \u001b[39m\u001b[32m118\u001b[39m     \u001b[38;5;28;01mreturn\u001b[39;00m \u001b[38;5;28;43mself\u001b[39;49m\u001b[43m.\u001b[49m\u001b[43m_loop\u001b[49m\u001b[43m.\u001b[49m\u001b[43mrun_until_complete\u001b[49m\u001b[43m(\u001b[49m\u001b[43mtask\u001b[49m\u001b[43m)\u001b[49m\n\u001b[32m    119\u001b[39m \u001b[38;5;28;01mexcept\u001b[39;00m exceptions.CancelledError:\n",
      "\u001b[36mFile \u001b[39m\u001b[32m~/miniconda3/envs/school/lib/python3.11/asyncio/base_events.py:654\u001b[39m, in \u001b[36mBaseEventLoop.run_until_complete\u001b[39m\u001b[34m(self, future)\u001b[39m\n\u001b[32m    652\u001b[39m     \u001b[38;5;28;01mraise\u001b[39;00m \u001b[38;5;167;01mRuntimeError\u001b[39;00m(\u001b[33m'\u001b[39m\u001b[33mEvent loop stopped before Future completed.\u001b[39m\u001b[33m'\u001b[39m)\n\u001b[32m--> \u001b[39m\u001b[32m654\u001b[39m \u001b[38;5;28;01mreturn\u001b[39;00m \u001b[43mfuture\u001b[49m\u001b[43m.\u001b[49m\u001b[43mresult\u001b[49m\u001b[43m(\u001b[49m\u001b[43m)\u001b[49m\n",
      "\u001b[36mFile \u001b[39m\u001b[32m~/miniconda3/envs/school/lib/python3.11/site-packages/kaleido/__init__.py:101\u001b[39m, in \u001b[36mcalc_fig\u001b[39m\u001b[34m(fig, path, opts, topojson, kopts)\u001b[39m\n\u001b[32m    100\u001b[39m kopts[\u001b[33m\"\u001b[39m\u001b[33mn\u001b[39m\u001b[33m\"\u001b[39m] = \u001b[32m1\u001b[39m  \u001b[38;5;66;03m# should we force this?\u001b[39;00m\n\u001b[32m--> \u001b[39m\u001b[32m101\u001b[39m \u001b[38;5;28;01masync\u001b[39;00m \u001b[38;5;28;01mwith\u001b[39;00m \u001b[43mKaleido\u001b[49m\u001b[43m(\u001b[49m\u001b[43m*\u001b[49m\u001b[43m*\u001b[49m\u001b[43mkopts\u001b[49m\u001b[43m)\u001b[49m \u001b[38;5;28;01mas\u001b[39;00m k:\n\u001b[32m    102\u001b[39m     \u001b[38;5;28;01mreturn\u001b[39;00m \u001b[38;5;28;01mawait\u001b[39;00m k.calc_fig(\n\u001b[32m    103\u001b[39m         fig,\n\u001b[32m    104\u001b[39m         path=path,\n\u001b[32m    105\u001b[39m         opts=opts,\n\u001b[32m    106\u001b[39m         topojson=topojson,\n\u001b[32m    107\u001b[39m     )\n",
      "\u001b[36mFile \u001b[39m\u001b[32m~/miniconda3/envs/school/lib/python3.11/site-packages/kaleido/kaleido.py:155\u001b[39m, in \u001b[36mKaleido.__init__\u001b[39m\u001b[34m(self, page_generator, n, timeout, width, height, stepper, plotlyjs, mathjax, *args, **kwargs)\u001b[39m\n\u001b[32m    154\u001b[39m \u001b[38;5;28;01mexcept\u001b[39;00m ChromeNotFoundError:\n\u001b[32m--> \u001b[39m\u001b[32m155\u001b[39m     \u001b[38;5;28;01mraise\u001b[39;00m ChromeNotFoundError(\n\u001b[32m    156\u001b[39m         \u001b[33m\"\u001b[39m\u001b[33mKaleido v1 and later requires Chrome to be installed. \u001b[39m\u001b[33m\"\u001b[39m\n\u001b[32m    157\u001b[39m         \u001b[33m\"\u001b[39m\u001b[33mTo install Chrome, use the CLI command `kaleido_get_chrome`, \u001b[39m\u001b[33m\"\u001b[39m\n\u001b[32m    158\u001b[39m         \u001b[33m\"\u001b[39m\u001b[33mor from Python, use either `kaleido.get_chrome()` \u001b[39m\u001b[33m\"\u001b[39m\n\u001b[32m    159\u001b[39m         \u001b[33m\"\u001b[39m\u001b[33mor `kaleido.get_chrome_sync()`.\u001b[39m\u001b[33m\"\u001b[39m,\n\u001b[32m    160\u001b[39m     ) \u001b[38;5;28;01mfrom\u001b[39;00m\u001b[38;5;250m \u001b[39m\u001b[34;01mChromeNotFoundError\u001b[39;00m\n\u001b[32m    162\u001b[39m \u001b[38;5;66;03m# do this during open because it requires close\u001b[39;00m\n",
      "\u001b[31mChromeNotFoundError\u001b[39m: Kaleido v1 and later requires Chrome to be installed. To install Chrome, use the CLI command `kaleido_get_chrome`, or from Python, use either `kaleido.get_chrome()` or `kaleido.get_chrome_sync()`.",
      "\nDuring handling of the above exception, another exception occurred:\n",
      "\u001b[31mRuntimeError\u001b[39m                              Traceback (most recent call last)",
      "\u001b[36mCell\u001b[39m\u001b[36m \u001b[39m\u001b[32mIn[17]\u001b[39m\u001b[32m, line 19\u001b[39m\n\u001b[32m     16\u001b[39m fig.show()\n\u001b[32m     18\u001b[39m fig.write_html(\u001b[33mf\u001b[39m\u001b[33m'\u001b[39m\u001b[33mgraphs/pca_plot_\u001b[39m\u001b[38;5;132;01m{\u001b[39;00mschema_dicts[schema_index][\u001b[33m\"\u001b[39m\u001b[33mname\u001b[39m\u001b[33m\"\u001b[39m]\u001b[38;5;132;01m}\u001b[39;00m\u001b[33m.html\u001b[39m\u001b[33m'\u001b[39m)\n\u001b[32m---> \u001b[39m\u001b[32m19\u001b[39m \u001b[43mfig\u001b[49m\u001b[43m.\u001b[49m\u001b[43mwrite_image\u001b[49m\u001b[43m(\u001b[49m\n\u001b[32m     20\u001b[39m \u001b[43m    \u001b[49m\u001b[33;43mf\u001b[39;49m\u001b[33;43m'\u001b[39;49m\u001b[33;43mgraphs/pca_plot_\u001b[39;49m\u001b[38;5;132;43;01m{\u001b[39;49;00m\u001b[43mschema_dicts\u001b[49m\u001b[43m[\u001b[49m\u001b[43mschema_index\u001b[49m\u001b[43m]\u001b[49m\u001b[43m[\u001b[49m\u001b[33;43m\"\u001b[39;49m\u001b[33;43mname\u001b[39;49m\u001b[33;43m\"\u001b[39;49m\u001b[43m]\u001b[49m\u001b[38;5;132;43;01m}\u001b[39;49;00m\u001b[33;43m.png\u001b[39;49m\u001b[33;43m'\u001b[39;49m\u001b[43m,\u001b[49m\n\u001b[32m     21\u001b[39m \u001b[43m    \u001b[49m\u001b[43mwidth\u001b[49m\u001b[43m=\u001b[49m\u001b[32;43m1200\u001b[39;49m\u001b[43m,\u001b[49m\n\u001b[32m     22\u001b[39m \u001b[43m    \u001b[49m\u001b[43mheight\u001b[49m\u001b[43m=\u001b[49m\u001b[32;43m800\u001b[39;49m\u001b[43m,\u001b[49m\n\u001b[32m     23\u001b[39m \u001b[43m    \u001b[49m\u001b[43mscale\u001b[49m\u001b[43m=\u001b[49m\u001b[32;43m1\u001b[39;49m\n\u001b[32m     24\u001b[39m \u001b[43m)\u001b[49m\n",
      "\u001b[36mFile \u001b[39m\u001b[32m~/miniconda3/envs/school/lib/python3.11/site-packages/plotly/basedatatypes.py:3895\u001b[39m, in \u001b[36mBaseFigure.write_image\u001b[39m\u001b[34m(self, *args, **kwargs)\u001b[39m\n\u001b[32m   3891\u001b[39m     \u001b[38;5;28;01mif\u001b[39;00m kwargs.get(\u001b[33m\"\u001b[39m\u001b[33mengine\u001b[39m\u001b[33m\"\u001b[39m, \u001b[38;5;28;01mNone\u001b[39;00m):\n\u001b[32m   3892\u001b[39m         warnings.warn(\n\u001b[32m   3893\u001b[39m             ENGINE_PARAM_DEPRECATION_MSG, \u001b[38;5;167;01mDeprecationWarning\u001b[39;00m, stacklevel=\u001b[32m2\u001b[39m\n\u001b[32m   3894\u001b[39m         )\n\u001b[32m-> \u001b[39m\u001b[32m3895\u001b[39m \u001b[38;5;28;01mreturn\u001b[39;00m \u001b[43mpio\u001b[49m\u001b[43m.\u001b[49m\u001b[43mwrite_image\u001b[49m\u001b[43m(\u001b[49m\u001b[38;5;28;43mself\u001b[39;49m\u001b[43m,\u001b[49m\u001b[43m \u001b[49m\u001b[43m*\u001b[49m\u001b[43margs\u001b[49m\u001b[43m,\u001b[49m\u001b[43m \u001b[49m\u001b[43m*\u001b[49m\u001b[43m*\u001b[49m\u001b[43mkwargs\u001b[49m\u001b[43m)\u001b[49m\n",
      "\u001b[36mFile \u001b[39m\u001b[32m~/miniconda3/envs/school/lib/python3.11/site-packages/plotly/io/_kaleido.py:510\u001b[39m, in \u001b[36mwrite_image\u001b[39m\u001b[34m(fig, file, format, scale, width, height, validate, engine)\u001b[39m\n\u001b[32m    506\u001b[39m \u001b[38;5;28mformat\u001b[39m = infer_format(path, \u001b[38;5;28mformat\u001b[39m)\n\u001b[32m    508\u001b[39m \u001b[38;5;66;03m# Request image\u001b[39;00m\n\u001b[32m    509\u001b[39m \u001b[38;5;66;03m# Do this first so we don't create a file if image conversion fails\u001b[39;00m\n\u001b[32m--> \u001b[39m\u001b[32m510\u001b[39m img_data = \u001b[43mto_image\u001b[49m\u001b[43m(\u001b[49m\n\u001b[32m    511\u001b[39m \u001b[43m    \u001b[49m\u001b[43mfig\u001b[49m\u001b[43m,\u001b[49m\n\u001b[32m    512\u001b[39m \u001b[43m    \u001b[49m\u001b[38;5;28;43mformat\u001b[39;49m\u001b[43m=\u001b[49m\u001b[38;5;28;43mformat\u001b[39;49m\u001b[43m,\u001b[49m\n\u001b[32m    513\u001b[39m \u001b[43m    \u001b[49m\u001b[43mscale\u001b[49m\u001b[43m=\u001b[49m\u001b[43mscale\u001b[49m\u001b[43m,\u001b[49m\n\u001b[32m    514\u001b[39m \u001b[43m    \u001b[49m\u001b[43mwidth\u001b[49m\u001b[43m=\u001b[49m\u001b[43mwidth\u001b[49m\u001b[43m,\u001b[49m\n\u001b[32m    515\u001b[39m \u001b[43m    \u001b[49m\u001b[43mheight\u001b[49m\u001b[43m=\u001b[49m\u001b[43mheight\u001b[49m\u001b[43m,\u001b[49m\n\u001b[32m    516\u001b[39m \u001b[43m    \u001b[49m\u001b[43mvalidate\u001b[49m\u001b[43m=\u001b[49m\u001b[43mvalidate\u001b[49m\u001b[43m,\u001b[49m\n\u001b[32m    517\u001b[39m \u001b[43m    \u001b[49m\u001b[43mengine\u001b[49m\u001b[43m=\u001b[49m\u001b[43mengine\u001b[49m\u001b[43m,\u001b[49m\n\u001b[32m    518\u001b[39m \u001b[43m\u001b[49m\u001b[43m)\u001b[49m\n\u001b[32m    520\u001b[39m \u001b[38;5;66;03m# Open file\u001b[39;00m\n\u001b[32m    521\u001b[39m \u001b[38;5;28;01mif\u001b[39;00m path \u001b[38;5;129;01mis\u001b[39;00m \u001b[38;5;28;01mNone\u001b[39;00m:\n\u001b[32m    522\u001b[39m     \u001b[38;5;66;03m# We previously failed to make sense of `file` as a pathlib object.\u001b[39;00m\n\u001b[32m    523\u001b[39m     \u001b[38;5;66;03m# Attempt to write to `file` as an open file descriptor.\u001b[39;00m\n",
      "\u001b[36mFile \u001b[39m\u001b[32m~/miniconda3/envs/school/lib/python3.11/site-packages/plotly/io/_kaleido.py:392\u001b[39m, in \u001b[36mto_image\u001b[39m\u001b[34m(fig, format, width, height, scale, validate, engine)\u001b[39m\n\u001b[32m    380\u001b[39m         img_bytes = kaleido.calc_fig_sync(\n\u001b[32m    381\u001b[39m             fig_dict,\n\u001b[32m    382\u001b[39m             opts=\u001b[38;5;28mdict\u001b[39m(\n\u001b[32m   (...)\u001b[39m\u001b[32m    389\u001b[39m             kopts=kopts,\n\u001b[32m    390\u001b[39m         )\n\u001b[32m    391\u001b[39m     \u001b[38;5;28;01mexcept\u001b[39;00m ChromeNotFoundError:\n\u001b[32m--> \u001b[39m\u001b[32m392\u001b[39m         \u001b[38;5;28;01mraise\u001b[39;00m \u001b[38;5;167;01mRuntimeError\u001b[39;00m(PLOTLY_GET_CHROME_ERROR_MSG)\n\u001b[32m    394\u001b[39m \u001b[38;5;28;01melse\u001b[39;00m:\n\u001b[32m    395\u001b[39m     \u001b[38;5;66;03m# Kaleido v0\u001b[39;00m\n\u001b[32m    396\u001b[39m     \u001b[38;5;28;01mif\u001b[39;00m ENABLE_KALEIDO_V0_DEPRECATION_WARNINGS:\n",
      "\u001b[31mRuntimeError\u001b[39m: \n\nKaleido requires Google Chrome to be installed.\n\nEither download and install Chrome yourself following Google's instructions for your operating system,\nor install it from your terminal by running:\n\n    $ plotly_get_chrome\n\n"
     ]
    }
   ],
   "source": [
    "fig = px.scatter_3d(\n",
    "    x=reduced_vectors[:, 0],\n",
    "    y=reduced_vectors[:, 1],\n",
    "    z=reduced_vectors[:, 2],\n",
    "    color=titles,\n",
    "    title=f'{schema_dicts[schema_index][\"name\"]} Vectors',\n",
    "    size_max=3,\n",
    "    opacity=0.7\n",
    ")\n",
    "fig.update_traces(marker=dict(size=4))\n",
    "fig.update_layout(\n",
    "    width=1200,   # in pixels\n",
    "    height=800,   # in pixels\n",
    "    title_font_size=20,\n",
    ")\n",
    "fig.show()\n",
    "\n",
    "fig.write_html(f'graphs/pca_plot_{schema_dicts[schema_index][\"name\"]}.html')\n",
    "fig.write_image(\n",
    "    f'graphs/pca_plot_{schema_dicts[schema_index][\"name\"]}.png',\n",
    "    width=1200,\n",
    "    height=800,\n",
    "    scale=1\n",
    ")\n"
   ]
  },
  {
   "cell_type": "markdown",
   "id": "14c46175",
   "metadata": {},
   "source": [
    "## Scoring Ideas\n",
    "- Precision/Recall: retrieving top-k results, calculate precision/recall for each model\n",
    "- Ranking Metrics: metrics like Mean Reciprocal Rank (MRR) or Normalized Discounted Cumulative Gain (NDCG)\n",
    "\n",
    "> \"Which BERT model gives the most accurate results for my labeled data?\"\n",
    "\n",
    "### Mean Reciprocal Rank (MRR)\n",
    "\n",
    "The position of the first correct result is important\n",
    "\n",
    "For each query, find the rank of the first correct result. The Reciprocal Rank (RR) is $1 / rank$. MRR is the average RR across all queries.\n",
    "\n",
    "Example: Suppose you have 3 queries:\n",
    "- Query 1: Correct result is ranked 1st → RR = 1/1 = 1.0\n",
    "- Query 2: Correct result is ranked 3rd → RR = 1/3 ≈ 0.33\n",
    "- Query 3: Correct result is ranked 2nd → RR = 1/2 = 0.5\n",
    "\n",
    "$$\n",
    "MRR = (1.0 + 0.33 + 0.5) / 3 ≈ 0.61\n",
    "$$\n",
    "\n",
    "### Normalized Discounted Cumulative Gain (NDCG)\n",
    "\n",
    "NDCG is a ranking metric that measures the quality of the _entire ranked list_, not just the top result.\n",
    "\n",
    "- For each position in the ranked list, calculate: DCG = sum((2^relevance - 1) / log2(rank + 1))\n",
    "- relevance is typically a binary (0/1) or graded score (e.g., 1/2/3).\n",
    "- The DCG of the perfect ranking (correct results sorted by relevance).\n",
    "- Normalizes the score to [0, 1], where 1 is perfect.\n",
    "\n",
    "Example:\n",
    "\n",
    "- Rank 1: (2^1 - 1) / log2(1+1) = 1 / 1 = 1.0\n",
    "- Rank 2: (2^0 - 1) / log2(2+1) = 0 / 1.58 ≈ 0\n",
    "- Rank 3: (2^3 - 1) / log2(3+1) = 7 / 2 ≈ 3.5\n",
    "- Rank 4: (2^2 - 1) / log2(4+1) = 3 / 2.32 ≈ 1.29\n",
    "- $DCG = 1.0 + 0 + 3.5 + 1.29 ≈ 5.79$\n"
   ]
  },
  {
   "cell_type": "markdown",
   "id": "fbf598ea",
   "metadata": {},
   "source": [
    "# Appendix"
   ]
  },
  {
   "cell_type": "markdown",
   "id": "7d0f9e42",
   "metadata": {},
   "source": [
    "You can also use the [bm25](https://deepwiki.com/weaviate/weaviate/6.2-keyword-search-(bm25)) keywords style search, or better, the [Hybrid search](https://medium.com/etoai/hybrid-search-combining-bm25-and-semantic-search-for-better-results-with-lan-1358038fe7e6) shown below which combines the vector embedding and the bm25."
   ]
  },
  {
   "cell_type": "code",
   "execution_count": null,
   "id": "967c1f9f",
   "metadata": {},
   "outputs": [],
   "source": [
    "if False:\n",
    "    results = collection.query.hybrid(\n",
    "        # https://deepwiki.com/weaviate/weaviate-python-client/5.2-keyword-and-hybrid-search\n",
    "        return_metadata=wvc.query.MetadataQuery(\n",
    "            score=True,\n",
    "            explain_score=True,\n",
    "            distance=True,\n",
    "            certainty=True\n",
    "        ),\n",
    "        query=\"patient has been complaining of lack of sleep and low mood\",\n",
    "        alpha=0.5,  # Equal balance between BM25 and vector search\n",
    "        target_vector=\"text_vector\",\n",
    "        limit=4,\n",
    "    )\n",
    "    pprint.pprint(results)\n",
    "    # response = collection.query.bm25()\n"
   ]
  }
 ],
 "metadata": {
  "kernelspec": {
   "display_name": "school",
   "language": "python",
   "name": "python3"
  },
  "language_info": {
   "codemirror_mode": {
    "name": "ipython",
    "version": 3
   },
   "file_extension": ".py",
   "mimetype": "text/x-python",
   "name": "python",
   "nbconvert_exporter": "python",
   "pygments_lexer": "ipython3",
   "version": "3.11.13"
  }
 },
 "nbformat": 4,
 "nbformat_minor": 5
}
