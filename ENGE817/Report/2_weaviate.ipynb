{
 "cells": [
  {
   "cell_type": "markdown",
   "id": "27f7ba4e",
   "metadata": {},
   "source": [
    "# Create a Vector Database"
   ]
  },
  {
   "cell_type": "markdown",
   "id": "b58b8f82",
   "metadata": {},
   "source": [
    "| ID | Model | Port |\n",
    "|----|-------|------|\n",
    "| 0 | Distilbert | 9090 |\n",
    "| 1 | Roberta | 9091 |\n",
    "| 2 | Biobert | 9092 |\n",
    "| 3 | Clinicalbert | 9093 |"
   ]
  },
  {
   "cell_type": "markdown",
   "id": "f60866d5",
   "metadata": {},
   "source": [
    "# Create Schemas and Populate DSM Data"
   ]
  },
  {
   "cell_type": "markdown",
   "id": "5044ab30",
   "metadata": {},
   "source": [
    "## Install Libraries"
   ]
  },
  {
   "cell_type": "code",
   "execution_count": 6,
   "id": "6f1a85ea",
   "metadata": {},
   "outputs": [
    {
     "name": "stdout",
     "output_type": "stream",
     "text": [
      "Requirement already satisfied: weaviate-client in /Users/robrohan/miniconda3/envs/spikes/lib/python3.11/site-packages (4.16.9)\n",
      "Requirement already satisfied: plotly in /Users/robrohan/miniconda3/envs/spikes/lib/python3.11/site-packages (6.3.0)\n",
      "Requirement already satisfied: numpy in /Users/robrohan/miniconda3/envs/spikes/lib/python3.11/site-packages (2.3.2)\n",
      "Requirement already satisfied: httpx<0.29.0,>=0.26.0 in /Users/robrohan/miniconda3/envs/spikes/lib/python3.11/site-packages (from weaviate-client) (0.28.1)\n",
      "Requirement already satisfied: validators<1.0.0,>=0.34.0 in /Users/robrohan/miniconda3/envs/spikes/lib/python3.11/site-packages (from weaviate-client) (0.35.0)\n",
      "Requirement already satisfied: authlib<2.0.0,>=1.2.1 in /Users/robrohan/miniconda3/envs/spikes/lib/python3.11/site-packages (from weaviate-client) (1.6.2)\n",
      "Requirement already satisfied: pydantic<3.0.0,>=2.8.0 in /Users/robrohan/miniconda3/envs/spikes/lib/python3.11/site-packages (from weaviate-client) (2.11.7)\n",
      "Requirement already satisfied: grpcio<1.80.0,>=1.59.5 in /Users/robrohan/miniconda3/envs/spikes/lib/python3.11/site-packages (from weaviate-client) (1.74.0)\n",
      "Requirement already satisfied: protobuf<7.0.0,>=4.21.6 in /Users/robrohan/miniconda3/envs/spikes/lib/python3.11/site-packages (from weaviate-client) (6.32.0)\n",
      "Requirement already satisfied: deprecation<3.0.0,>=2.1.0 in /Users/robrohan/miniconda3/envs/spikes/lib/python3.11/site-packages (from weaviate-client) (2.1.0)\n",
      "Requirement already satisfied: cryptography in /Users/robrohan/miniconda3/envs/spikes/lib/python3.11/site-packages (from authlib<2.0.0,>=1.2.1->weaviate-client) (45.0.6)\n",
      "Requirement already satisfied: packaging in /Users/robrohan/miniconda3/envs/spikes/lib/python3.11/site-packages (from deprecation<3.0.0,>=2.1.0->weaviate-client) (25.0)\n",
      "Requirement already satisfied: anyio in /Users/robrohan/miniconda3/envs/spikes/lib/python3.11/site-packages (from httpx<0.29.0,>=0.26.0->weaviate-client) (4.10.0)\n",
      "Requirement already satisfied: certifi in /Users/robrohan/miniconda3/envs/spikes/lib/python3.11/site-packages (from httpx<0.29.0,>=0.26.0->weaviate-client) (2025.8.3)\n",
      "Requirement already satisfied: httpcore==1.* in /Users/robrohan/miniconda3/envs/spikes/lib/python3.11/site-packages (from httpx<0.29.0,>=0.26.0->weaviate-client) (1.0.9)\n",
      "Requirement already satisfied: idna in /Users/robrohan/miniconda3/envs/spikes/lib/python3.11/site-packages (from httpx<0.29.0,>=0.26.0->weaviate-client) (3.10)\n",
      "Requirement already satisfied: h11>=0.16 in /Users/robrohan/miniconda3/envs/spikes/lib/python3.11/site-packages (from httpcore==1.*->httpx<0.29.0,>=0.26.0->weaviate-client) (0.16.0)\n",
      "Requirement already satisfied: annotated-types>=0.6.0 in /Users/robrohan/miniconda3/envs/spikes/lib/python3.11/site-packages (from pydantic<3.0.0,>=2.8.0->weaviate-client) (0.7.0)\n",
      "Requirement already satisfied: pydantic-core==2.33.2 in /Users/robrohan/miniconda3/envs/spikes/lib/python3.11/site-packages (from pydantic<3.0.0,>=2.8.0->weaviate-client) (2.33.2)\n",
      "Requirement already satisfied: typing-extensions>=4.12.2 in /Users/robrohan/miniconda3/envs/spikes/lib/python3.11/site-packages (from pydantic<3.0.0,>=2.8.0->weaviate-client) (4.14.1)\n",
      "Requirement already satisfied: typing-inspection>=0.4.0 in /Users/robrohan/miniconda3/envs/spikes/lib/python3.11/site-packages (from pydantic<3.0.0,>=2.8.0->weaviate-client) (0.4.1)\n",
      "Requirement already satisfied: narwhals>=1.15.1 in /Users/robrohan/miniconda3/envs/spikes/lib/python3.11/site-packages (from plotly) (2.2.0)\n",
      "Requirement already satisfied: sniffio>=1.1 in /Users/robrohan/miniconda3/envs/spikes/lib/python3.11/site-packages (from anyio->httpx<0.29.0,>=0.26.0->weaviate-client) (1.3.1)\n",
      "Requirement already satisfied: cffi>=1.14 in /Users/robrohan/miniconda3/envs/spikes/lib/python3.11/site-packages (from cryptography->authlib<2.0.0,>=1.2.1->weaviate-client) (1.17.1)\n",
      "Requirement already satisfied: pycparser in /Users/robrohan/miniconda3/envs/spikes/lib/python3.11/site-packages (from cffi>=1.14->cryptography->authlib<2.0.0,>=1.2.1->weaviate-client) (2.22)\n",
      "Note: you may need to restart the kernel to use updated packages.\n",
      "Requirement already satisfied: nbformat in /Users/robrohan/miniconda3/envs/spikes/lib/python3.11/site-packages (5.10.4)\n",
      "Requirement already satisfied: kaleido in /Users/robrohan/miniconda3/envs/spikes/lib/python3.11/site-packages (1.0.0)\n",
      "Requirement already satisfied: fastjsonschema>=2.15 in /Users/robrohan/miniconda3/envs/spikes/lib/python3.11/site-packages (from nbformat) (2.21.2)\n",
      "Requirement already satisfied: jsonschema>=2.6 in /Users/robrohan/miniconda3/envs/spikes/lib/python3.11/site-packages (from nbformat) (4.25.1)\n",
      "Requirement already satisfied: jupyter-core!=5.0.*,>=4.12 in /Users/robrohan/miniconda3/envs/spikes/lib/python3.11/site-packages (from nbformat) (5.8.1)\n",
      "Requirement already satisfied: traitlets>=5.1 in /Users/robrohan/miniconda3/envs/spikes/lib/python3.11/site-packages (from nbformat) (5.14.3)\n",
      "Requirement already satisfied: choreographer>=1.0.5 in /Users/robrohan/miniconda3/envs/spikes/lib/python3.11/site-packages (from kaleido) (1.0.10)\n",
      "Requirement already satisfied: logistro>=1.0.8 in /Users/robrohan/miniconda3/envs/spikes/lib/python3.11/site-packages (from kaleido) (1.1.0)\n",
      "Requirement already satisfied: orjson>=3.10.15 in /Users/robrohan/miniconda3/envs/spikes/lib/python3.11/site-packages (from kaleido) (3.11.2)\n",
      "Requirement already satisfied: packaging in /Users/robrohan/miniconda3/envs/spikes/lib/python3.11/site-packages (from kaleido) (25.0)\n",
      "Requirement already satisfied: simplejson>=3.19.3 in /Users/robrohan/miniconda3/envs/spikes/lib/python3.11/site-packages (from choreographer>=1.0.5->kaleido) (3.20.1)\n",
      "Requirement already satisfied: attrs>=22.2.0 in /Users/robrohan/miniconda3/envs/spikes/lib/python3.11/site-packages (from jsonschema>=2.6->nbformat) (25.3.0)\n",
      "Requirement already satisfied: jsonschema-specifications>=2023.03.6 in /Users/robrohan/miniconda3/envs/spikes/lib/python3.11/site-packages (from jsonschema>=2.6->nbformat) (2025.4.1)\n",
      "Requirement already satisfied: referencing>=0.28.4 in /Users/robrohan/miniconda3/envs/spikes/lib/python3.11/site-packages (from jsonschema>=2.6->nbformat) (0.36.2)\n",
      "Requirement already satisfied: rpds-py>=0.7.1 in /Users/robrohan/miniconda3/envs/spikes/lib/python3.11/site-packages (from jsonschema>=2.6->nbformat) (0.27.1)\n",
      "Requirement already satisfied: platformdirs>=2.5 in /Users/robrohan/miniconda3/envs/spikes/lib/python3.11/site-packages (from jupyter-core!=5.0.*,>=4.12->nbformat) (4.3.8)\n",
      "Requirement already satisfied: typing-extensions>=4.4.0 in /Users/robrohan/miniconda3/envs/spikes/lib/python3.11/site-packages (from referencing>=0.28.4->jsonschema>=2.6->nbformat) (4.14.1)\n",
      "Note: you may need to restart the kernel to use updated packages.\n"
     ]
    }
   ],
   "source": [
    "%pip install -U weaviate-client plotly numpy\n",
    "%pip install --upgrade nbformat kaleido"
   ]
  },
  {
   "cell_type": "markdown",
   "id": "c90bb679",
   "metadata": {},
   "source": [
    "## Imports"
   ]
  },
  {
   "cell_type": "code",
   "execution_count": 7,
   "id": "99dae71c",
   "metadata": {},
   "outputs": [],
   "source": [
    "import os\n",
    "import requests, json\n",
    "import weaviate\n",
    "import numpy as np\n",
    "from weaviate.classes.config import Configure, VectorDistances\n",
    "import weaviate.classes as wvc\n",
    "\n",
    "from sklearn.decomposition import PCA\n",
    "import matplotlib.pyplot as plt\n",
    "\n",
    "import plotly.express as px\n"
   ]
  },
  {
   "cell_type": "markdown",
   "id": "4c658fac",
   "metadata": {},
   "source": [
    "## Create Schemas and Populate DSM Data"
   ]
  },
  {
   "cell_type": "code",
   "execution_count": 8,
   "id": "1ba9b6f6",
   "metadata": {},
   "outputs": [],
   "source": [
    "schema_dicts = [\n",
    "    { \"name\": \"Distilbert\", \"url\": \"http://localhost:9090\", \"schema\": \"DSMDistilbert\" },\n",
    "    { \"name\": \"Roberta\", \"url\": \"http://localhost:9090\", \"schema\": \"DSMRoberta\" },\n",
    "    { \"name\": \"Biobert\", \"url\": \"http://localhost:9090\", \"schema\": \"DSMBiobert\" },\n",
    "    { \"name\": \"Clinicalbert\", \"url\": \"http://localhost:9090\", \"schema\": \"DSMClinicalbert\" },\n",
    "]"
   ]
  },
  {
   "cell_type": "code",
   "execution_count": null,
   "id": "9050dff2",
   "metadata": {},
   "outputs": [],
   "source": [
    "client = weaviate.connect_to_local()\n",
    "try:\n",
    "    dsm = client.collections.create(\n",
    "        name=\"DSM\",\n",
    "        vector_config=Configure.Vectors.text2vec_transformers(\n",
    "            name=\"text_vector\",\n",
    "            source_properties=[\"text\"],\n",
    "            vector_index_config=Configure.VectorIndex.hnsw(\n",
    "                # https://docs.weaviate.io/weaviate/config-refs/distances\n",
    "                distance_metric=VectorDistances.COSINE\n",
    "            ),\n",
    "            inference_url=\"http://localhost:9090\",\n",
    "        ),\n",
    "    )\n",
    "\n",
    "    directory = \"./chunks\"\n",
    "    for file in os.listdir(directory):\n",
    "        filename = os.fsdecode(file)\n",
    "        if filename.endswith(\".json\"):\n",
    "            with open(os.path.join(directory, filename)) as f:\n",
    "                jsn = json.loads(f.read())\n",
    "\n",
    "                cks = jsn[\"chunks\"]\n",
    "                for i,c in enumerate(cks):\n",
    "                    with dsm.batch.dynamic() as batch:\n",
    "                        batch.add_object(\n",
    "                            {\n",
    "                                \"key\": f\"{jsn['id']}::{i}\",\n",
    "                                \"title\": jsn[\"title\"],\n",
    "                                \"text\": c,\n",
    "                            }\n",
    "                        )\n",
    "except Exception as ex:\n",
    "    print(\"probably already exists\", ex)\n",
    "finally:\n",
    "    client.close()"
   ]
  },
  {
   "cell_type": "markdown",
   "id": "b5e76f03",
   "metadata": {},
   "source": [
    "## Tests Query\n",
    "\n",
    "How to query the collections using the different embedding models. This is only using cosine similarity to get the results. For something more productionish, see the appendex where we use a mix of keywords and embeddings to get a (possibly) more accurate score. Not used in this research."
   ]
  },
  {
   "cell_type": "code",
   "execution_count": null,
   "id": "513eeb39",
   "metadata": {},
   "outputs": [
    {
     "ename": "WeaviateQueryError",
     "evalue": "Query call with protocol GRPC search failed with message explorer: get class: concurrentTargetVectorSearch): explorer: get class: vectorize search vector: vectorize params: vectorize params: vectorize keywords: remote client vectorize: send POST request: Post \"http://localhost:9090/vectors\": dial tcp [::1]:9090: connect: connection refused.",
     "output_type": "error",
     "traceback": [
      "\u001b[31m---------------------------------------------------------------------------\u001b[39m",
      "\u001b[31m_InactiveRpcError\u001b[39m                         Traceback (most recent call last)",
      "\u001b[36mFile \u001b[39m\u001b[32m~/miniconda3/envs/spikes/lib/python3.11/site-packages/weaviate/connect/v4.py:987\u001b[39m, in \u001b[36mConnectionSync.grpc_search\u001b[39m\u001b[34m(self, request)\u001b[39m\n\u001b[32m    986\u001b[39m \u001b[38;5;28;01massert\u001b[39;00m \u001b[38;5;28mself\u001b[39m.grpc_stub \u001b[38;5;129;01mis\u001b[39;00m \u001b[38;5;129;01mnot\u001b[39;00m \u001b[38;5;28;01mNone\u001b[39;00m\n\u001b[32m--> \u001b[39m\u001b[32m987\u001b[39m res = \u001b[43m_Retry\u001b[49m\u001b[43m(\u001b[49m\u001b[32;43m4\u001b[39;49m\u001b[43m)\u001b[49m\u001b[43m.\u001b[49m\u001b[43mwith_exponential_backoff\u001b[49m\u001b[43m(\u001b[49m\n\u001b[32m    988\u001b[39m \u001b[43m    \u001b[49m\u001b[32;43m0\u001b[39;49m\u001b[43m,\u001b[49m\n\u001b[32m    989\u001b[39m \u001b[43m    \u001b[49m\u001b[33;43mf\u001b[39;49m\u001b[33;43m\"\u001b[39;49m\u001b[33;43mSearching in collection \u001b[39;49m\u001b[38;5;132;43;01m{\u001b[39;49;00m\u001b[43mrequest\u001b[49m\u001b[43m.\u001b[49m\u001b[43mcollection\u001b[49m\u001b[38;5;132;43;01m}\u001b[39;49;00m\u001b[33;43m\"\u001b[39;49m\u001b[43m,\u001b[49m\n\u001b[32m    990\u001b[39m \u001b[43m    \u001b[49m\u001b[38;5;28;43mself\u001b[39;49m\u001b[43m.\u001b[49m\u001b[43mgrpc_stub\u001b[49m\u001b[43m.\u001b[49m\u001b[43mSearch\u001b[49m\u001b[43m,\u001b[49m\n\u001b[32m    991\u001b[39m \u001b[43m    \u001b[49m\u001b[43mrequest\u001b[49m\u001b[43m,\u001b[49m\n\u001b[32m    992\u001b[39m \u001b[43m    \u001b[49m\u001b[43mmetadata\u001b[49m\u001b[43m=\u001b[49m\u001b[38;5;28;43mself\u001b[39;49m\u001b[43m.\u001b[49m\u001b[43mgrpc_headers\u001b[49m\u001b[43m(\u001b[49m\u001b[43m)\u001b[49m\u001b[43m,\u001b[49m\n\u001b[32m    993\u001b[39m \u001b[43m    \u001b[49m\u001b[43mtimeout\u001b[49m\u001b[43m=\u001b[49m\u001b[38;5;28;43mself\u001b[39;49m\u001b[43m.\u001b[49m\u001b[43mtimeout_config\u001b[49m\u001b[43m.\u001b[49m\u001b[43mquery\u001b[49m\u001b[43m,\u001b[49m\n\u001b[32m    994\u001b[39m \u001b[43m\u001b[49m\u001b[43m)\u001b[49m\n\u001b[32m    995\u001b[39m \u001b[38;5;28;01mreturn\u001b[39;00m cast(search_get_pb2.SearchReply, res)\n",
      "\u001b[36mFile \u001b[39m\u001b[32m~/miniconda3/envs/spikes/lib/python3.11/site-packages/weaviate/retry.py:54\u001b[39m, in \u001b[36m_Retry.with_exponential_backoff\u001b[39m\u001b[34m(self, count, error, f, *args, **kwargs)\u001b[39m\n\u001b[32m     53\u001b[39m \u001b[38;5;28;01mif\u001b[39;00m err.code() != StatusCode.UNAVAILABLE:\n\u001b[32m---> \u001b[39m\u001b[32m54\u001b[39m     \u001b[38;5;28;01mraise\u001b[39;00m e\n\u001b[32m     55\u001b[39m logger.info(\n\u001b[32m     56\u001b[39m     \u001b[33mf\u001b[39m\u001b[33m\"\u001b[39m\u001b[38;5;132;01m{\u001b[39;00merror\u001b[38;5;132;01m}\u001b[39;00m\u001b[33m received exception: \u001b[39m\u001b[38;5;132;01m{\u001b[39;00me\u001b[38;5;132;01m}\u001b[39;00m\u001b[33m. Retrying with exponential backoff in \u001b[39m\u001b[38;5;132;01m{\u001b[39;00m\u001b[32m2\u001b[39m**count\u001b[38;5;132;01m}\u001b[39;00m\u001b[33m seconds\u001b[39m\u001b[33m\"\u001b[39m\n\u001b[32m     57\u001b[39m )\n",
      "\u001b[36mFile \u001b[39m\u001b[32m~/miniconda3/envs/spikes/lib/python3.11/site-packages/weaviate/retry.py:50\u001b[39m, in \u001b[36m_Retry.with_exponential_backoff\u001b[39m\u001b[34m(self, count, error, f, *args, **kwargs)\u001b[39m\n\u001b[32m     49\u001b[39m \u001b[38;5;28;01mtry\u001b[39;00m:\n\u001b[32m---> \u001b[39m\u001b[32m50\u001b[39m     \u001b[38;5;28;01mreturn\u001b[39;00m \u001b[43mf\u001b[49m\u001b[43m(\u001b[49m\u001b[43m*\u001b[49m\u001b[43margs\u001b[49m\u001b[43m,\u001b[49m\u001b[43m \u001b[49m\u001b[43m*\u001b[49m\u001b[43m*\u001b[49m\u001b[43mkwargs\u001b[49m\u001b[43m)\u001b[49m\n\u001b[32m     51\u001b[39m \u001b[38;5;28;01mexcept\u001b[39;00m RpcError \u001b[38;5;28;01mas\u001b[39;00m e:\n",
      "\u001b[36mFile \u001b[39m\u001b[32m~/miniconda3/envs/spikes/lib/python3.11/site-packages/grpc/_channel.py:1178\u001b[39m, in \u001b[36m_UnaryUnaryMultiCallable.__call__\u001b[39m\u001b[34m(self, request, timeout, metadata, credentials, wait_for_ready, compression)\u001b[39m\n\u001b[32m   1175\u001b[39m state, call = \u001b[38;5;28mself\u001b[39m._blocking(\n\u001b[32m   1176\u001b[39m     request, timeout, metadata, credentials, wait_for_ready, compression\n\u001b[32m   1177\u001b[39m )\n\u001b[32m-> \u001b[39m\u001b[32m1178\u001b[39m \u001b[38;5;28;01mreturn\u001b[39;00m \u001b[43m_end_unary_response_blocking\u001b[49m\u001b[43m(\u001b[49m\u001b[43mstate\u001b[49m\u001b[43m,\u001b[49m\u001b[43m \u001b[49m\u001b[43mcall\u001b[49m\u001b[43m,\u001b[49m\u001b[43m \u001b[49m\u001b[38;5;28;43;01mFalse\u001b[39;49;00m\u001b[43m,\u001b[49m\u001b[43m \u001b[49m\u001b[38;5;28;43;01mNone\u001b[39;49;00m\u001b[43m)\u001b[49m\n",
      "\u001b[36mFile \u001b[39m\u001b[32m~/miniconda3/envs/spikes/lib/python3.11/site-packages/grpc/_channel.py:1006\u001b[39m, in \u001b[36m_end_unary_response_blocking\u001b[39m\u001b[34m(state, call, with_call, deadline)\u001b[39m\n\u001b[32m   1005\u001b[39m \u001b[38;5;28;01melse\u001b[39;00m:\n\u001b[32m-> \u001b[39m\u001b[32m1006\u001b[39m     \u001b[38;5;28;01mraise\u001b[39;00m _InactiveRpcError(state)\n",
      "\u001b[31m_InactiveRpcError\u001b[39m: <_InactiveRpcError of RPC that terminated with:\n\tstatus = StatusCode.UNKNOWN\n\tdetails = \"explorer: get class: concurrentTargetVectorSearch): explorer: get class: vectorize search vector: vectorize params: vectorize params: vectorize keywords: remote client vectorize: send POST request: Post \"http://localhost:9090/vectors\": dial tcp [::1]:9090: connect: connection refused\"\n\tdebug_error_string = \"UNKNOWN:Error received from peer  {grpc_message:\"explorer: get class: concurrentTargetVectorSearch): explorer: get class: vectorize search vector: vectorize params: vectorize params: vectorize keywords: remote client vectorize: send POST request: Post \\\"http://localhost:9090/vectors\\\": dial tcp [::1]:9090: connect: connection refused\", grpc_status:2}\"\n>",
      "\nDuring handling of the above exception, another exception occurred:\n",
      "\u001b[31mWeaviateQueryError\u001b[39m                        Traceback (most recent call last)",
      "\u001b[36mCell\u001b[39m\u001b[36m \u001b[39m\u001b[32mIn[10]\u001b[39m\u001b[32m, line 29\u001b[39m\n\u001b[32m      8\u001b[39m collection = client.collections.use(\u001b[33m\"\u001b[39m\u001b[33mDSM\u001b[39m\u001b[33m\"\u001b[39m)\n\u001b[32m     10\u001b[39m \u001b[38;5;66;03m# results = collection.query.hybrid(\u001b[39;00m\n\u001b[32m     11\u001b[39m \u001b[38;5;66;03m#     # https://deepwiki.com/weaviate/weaviate-python-client/5.2-keyword-and-hybrid-search\u001b[39;00m\n\u001b[32m     12\u001b[39m \u001b[38;5;66;03m#     return_metadata=wvc.query.MetadataQuery(\u001b[39;00m\n\u001b[32m   (...)\u001b[39m\u001b[32m     26\u001b[39m \u001b[38;5;66;03m# https://deepwiki.com/weaviate/weaviate/6.2-keyword-search-(bm25)\u001b[39;00m\n\u001b[32m     27\u001b[39m \u001b[38;5;66;03m# https://medium.com/etoai/hybrid-search-combining-bm25-and-semantic-search-for-better-results-with-lan-1358038fe7e6\u001b[39;00m\n\u001b[32m---> \u001b[39m\u001b[32m29\u001b[39m results = \u001b[43mcollection\u001b[49m\u001b[43m.\u001b[49m\u001b[43mquery\u001b[49m\u001b[43m.\u001b[49m\u001b[43mnear_text\u001b[49m\u001b[43m(\u001b[49m\n\u001b[32m     30\u001b[39m \u001b[43m   \u001b[49m\u001b[38;5;66;43;03m# Because near_text is a purely vector search, you get a distance instead of a score.\u001b[39;49;00m\n\u001b[32m     31\u001b[39m \u001b[43m    \u001b[49m\u001b[43mreturn_metadata\u001b[49m\u001b[43m=\u001b[49m\u001b[43mwvc\u001b[49m\u001b[43m.\u001b[49m\u001b[43mquery\u001b[49m\u001b[43m.\u001b[49m\u001b[43mMetadataQuery\u001b[49m\u001b[43m(\u001b[49m\n\u001b[32m     32\u001b[39m \u001b[43m        \u001b[49m\u001b[43mscore\u001b[49m\u001b[43m=\u001b[49m\u001b[38;5;28;43;01mTrue\u001b[39;49;00m\u001b[43m,\u001b[49m\u001b[43m \u001b[49m\u001b[43mexplain_score\u001b[49m\u001b[43m=\u001b[49m\u001b[38;5;28;43;01mTrue\u001b[39;49;00m\u001b[43m,\u001b[49m\u001b[43m \u001b[49m\u001b[43mdistance\u001b[49m\u001b[43m=\u001b[49m\u001b[38;5;28;43;01mTrue\u001b[39;49;00m\u001b[43m,\u001b[49m\u001b[43m \u001b[49m\u001b[43mcertainty\u001b[49m\u001b[43m=\u001b[49m\u001b[38;5;28;43;01mTrue\u001b[39;49;00m\n\u001b[32m     33\u001b[39m \u001b[43m    \u001b[49m\u001b[43m)\u001b[49m\u001b[43m,\u001b[49m\n\u001b[32m     34\u001b[39m \u001b[43m    \u001b[49m\u001b[43mquery\u001b[49m\u001b[43m=\u001b[49m\u001b[33;43m\"\"\"\u001b[39;49m\u001b[33;43mpatient was angry\u001b[39;49m\u001b[33;43m\"\"\"\u001b[39;49m\u001b[43m,\u001b[49m\n\u001b[32m     35\u001b[39m \u001b[43m    \u001b[49m\u001b[43mlimit\u001b[49m\u001b[43m=\u001b[49m\u001b[32;43m1\u001b[39;49m\n\u001b[32m     36\u001b[39m \u001b[43m\u001b[49m\u001b[43m)\u001b[49m\n\u001b[32m     37\u001b[39m \u001b[38;5;28;01mfor\u001b[39;00m r \u001b[38;5;129;01min\u001b[39;00m results.objects:\n\u001b[32m     38\u001b[39m     \u001b[38;5;28mprint\u001b[39m(\u001b[33mf\u001b[39m\u001b[33m\"\u001b[39m\u001b[33mdistance: \u001b[39m\u001b[38;5;132;01m{\u001b[39;00mr.metadata.distance\u001b[38;5;132;01m}\u001b[39;00m\u001b[33m, certainty: \u001b[39m\u001b[38;5;132;01m{\u001b[39;00mr.metadata.certainty\u001b[38;5;132;01m}\u001b[39;00m\u001b[33m, score: \u001b[39m\u001b[38;5;132;01m{\u001b[39;00m\u001b[38;5;28mround\u001b[39m((\u001b[32m1\u001b[39m-r.metadata.distance)*\u001b[32m100\u001b[39m,\u001b[38;5;250m \u001b[39m\u001b[32m1\u001b[39m)\u001b[38;5;132;01m}\u001b[39;00m\u001b[33m%\u001b[39m\u001b[33m\"\u001b[39m)\n",
      "\u001b[36mFile \u001b[39m\u001b[32m~/miniconda3/envs/spikes/lib/python3.11/site-packages/weaviate/collections/queries/near_text/query/executor.py:424\u001b[39m, in \u001b[36m_NearTextQueryExecutor.near_text\u001b[39m\u001b[34m(self, query, certainty, distance, move_to, move_away, limit, offset, auto_limit, filters, group_by, rerank, target_vector, include_vector, return_metadata, return_properties, return_references)\u001b[39m\n\u001b[32m    391\u001b[39m     \u001b[38;5;28;01mreturn\u001b[39;00m cast(\n\u001b[32m    392\u001b[39m         Any,\n\u001b[32m    393\u001b[39m         \u001b[38;5;28mself\u001b[39m._result_to_query_or_groupby_return(\n\u001b[32m   (...)\u001b[39m\u001b[32m    404\u001b[39m         ),\n\u001b[32m    405\u001b[39m     )\n\u001b[32m    407\u001b[39m request = \u001b[38;5;28mself\u001b[39m._query.near_text(\n\u001b[32m    408\u001b[39m     near_text=query,\n\u001b[32m    409\u001b[39m     certainty=certainty,\n\u001b[32m   (...)\u001b[39m\u001b[32m    422\u001b[39m     return_references=\u001b[38;5;28mself\u001b[39m._parse_return_references(return_references),\n\u001b[32m    423\u001b[39m )\n\u001b[32m--> \u001b[39m\u001b[32m424\u001b[39m \u001b[38;5;28;01mreturn\u001b[39;00m \u001b[43mexecutor\u001b[49m\u001b[43m.\u001b[49m\u001b[43mexecute\u001b[49m\u001b[43m(\u001b[49m\n\u001b[32m    425\u001b[39m \u001b[43m    \u001b[49m\u001b[43mresponse_callback\u001b[49m\u001b[43m=\u001b[49m\u001b[43mresp\u001b[49m\u001b[43m,\u001b[49m\n\u001b[32m    426\u001b[39m \u001b[43m    \u001b[49m\u001b[43mmethod\u001b[49m\u001b[43m=\u001b[49m\u001b[38;5;28;43mself\u001b[39;49m\u001b[43m.\u001b[49m\u001b[43m_connection\u001b[49m\u001b[43m.\u001b[49m\u001b[43mgrpc_search\u001b[49m\u001b[43m,\u001b[49m\n\u001b[32m    427\u001b[39m \u001b[43m    \u001b[49m\u001b[43mrequest\u001b[49m\u001b[43m=\u001b[49m\u001b[43mrequest\u001b[49m\u001b[43m,\u001b[49m\n\u001b[32m    428\u001b[39m \u001b[43m\u001b[49m\u001b[43m)\u001b[49m\n",
      "\u001b[36mFile \u001b[39m\u001b[32m~/miniconda3/envs/spikes/lib/python3.11/site-packages/weaviate/connect/executor.py:99\u001b[39m, in \u001b[36mexecute\u001b[39m\u001b[34m(method, response_callback, exception_callback, *args, **kwargs)\u001b[39m\n\u001b[32m     97\u001b[39m     \u001b[38;5;28;01mreturn\u001b[39;00m resp_call\n\u001b[32m     98\u001b[39m \u001b[38;5;28;01mexcept\u001b[39;00m \u001b[38;5;167;01mException\u001b[39;00m \u001b[38;5;28;01mas\u001b[39;00m e:\n\u001b[32m---> \u001b[39m\u001b[32m99\u001b[39m     \u001b[38;5;28;01mreturn\u001b[39;00m cast(T, \u001b[43mexception_callback\u001b[49m\u001b[43m(\u001b[49m\u001b[43me\u001b[49m\u001b[43m)\u001b[49m)\n",
      "\u001b[36mFile \u001b[39m\u001b[32m~/miniconda3/envs/spikes/lib/python3.11/site-packages/weaviate/connect/executor.py:38\u001b[39m, in \u001b[36mraise_exception\u001b[39m\u001b[34m(e)\u001b[39m\n\u001b[32m     37\u001b[39m \u001b[38;5;28;01mdef\u001b[39;00m\u001b[38;5;250m \u001b[39m\u001b[34mraise_exception\u001b[39m(e: \u001b[38;5;167;01mException\u001b[39;00m) -> Any:\n\u001b[32m---> \u001b[39m\u001b[32m38\u001b[39m     \u001b[38;5;28;01mraise\u001b[39;00m e\n",
      "\u001b[36mFile \u001b[39m\u001b[32m~/miniconda3/envs/spikes/lib/python3.11/site-packages/weaviate/connect/executor.py:80\u001b[39m, in \u001b[36mexecute\u001b[39m\u001b[34m(method, response_callback, exception_callback, *args, **kwargs)\u001b[39m\n\u001b[32m     71\u001b[39m \u001b[38;5;28;01mdef\u001b[39;00m\u001b[38;5;250m \u001b[39m\u001b[34mexecute\u001b[39m(\n\u001b[32m     72\u001b[39m     method: SyncOrAsyncMethod[P, R],\n\u001b[32m     73\u001b[39m     response_callback: SyncOrAsyncCallback[R, T, A],\n\u001b[32m   (...)\u001b[39m\u001b[32m     77\u001b[39m ) -> Union[T, Awaitable[T], Awaitable[A]]:\n\u001b[32m     78\u001b[39m     \u001b[38;5;66;03m# wrap method call in try-except to catch exceptions for sync method\u001b[39;00m\n\u001b[32m     79\u001b[39m     \u001b[38;5;28;01mtry\u001b[39;00m:\n\u001b[32m---> \u001b[39m\u001b[32m80\u001b[39m         call = \u001b[43mmethod\u001b[49m\u001b[43m(\u001b[49m\u001b[43m*\u001b[49m\u001b[43margs\u001b[49m\u001b[43m,\u001b[49m\u001b[43m \u001b[49m\u001b[43m*\u001b[49m\u001b[43m*\u001b[49m\u001b[43mkwargs\u001b[49m\u001b[43m)\u001b[49m\n\u001b[32m     81\u001b[39m         \u001b[38;5;28;01mif\u001b[39;00m \u001b[38;5;28misinstance\u001b[39m(call, Awaitable):\n\u001b[32m     83\u001b[39m             \u001b[38;5;28;01masync\u001b[39;00m \u001b[38;5;28;01mdef\u001b[39;00m\u001b[38;5;250m \u001b[39m\u001b[34m_execute\u001b[39m() -> T:\n\u001b[32m     84\u001b[39m                 \u001b[38;5;66;03m# wrap await in try-except to catch exceptions for async method\u001b[39;00m\n",
      "\u001b[36mFile \u001b[39m\u001b[32m~/miniconda3/envs/spikes/lib/python3.11/site-packages/weaviate/connect/v4.py:1000\u001b[39m, in \u001b[36mConnectionSync.grpc_search\u001b[39m\u001b[34m(self, request)\u001b[39m\n\u001b[32m    998\u001b[39m     \u001b[38;5;28;01mif\u001b[39;00m error.code() == StatusCode.PERMISSION_DENIED:\n\u001b[32m    999\u001b[39m         \u001b[38;5;28;01mraise\u001b[39;00m InsufficientPermissionsError(error)\n\u001b[32m-> \u001b[39m\u001b[32m1000\u001b[39m     \u001b[38;5;28;01mraise\u001b[39;00m WeaviateQueryError(\u001b[38;5;28mstr\u001b[39m(error.details()), \u001b[33m\"\u001b[39m\u001b[33mGRPC search\u001b[39m\u001b[33m\"\u001b[39m)  \u001b[38;5;66;03m# pyright: ignore\u001b[39;00m\n\u001b[32m   1001\u001b[39m \u001b[38;5;28;01mexcept\u001b[39;00m WeaviateRetryError \u001b[38;5;28;01mas\u001b[39;00m e:\n\u001b[32m   1002\u001b[39m     \u001b[38;5;28;01mraise\u001b[39;00m WeaviateQueryError(\u001b[38;5;28mstr\u001b[39m(e), \u001b[33m\"\u001b[39m\u001b[33mGRPC search\u001b[39m\u001b[33m\"\u001b[39m)\n",
      "\u001b[31mWeaviateQueryError\u001b[39m: Query call with protocol GRPC search failed with message explorer: get class: concurrentTargetVectorSearch): explorer: get class: vectorize search vector: vectorize params: vectorize params: vectorize keywords: remote client vectorize: send POST request: Post \"http://localhost:9090/vectors\": dial tcp [::1]:9090: connect: connection refused."
     ]
    }
   ],
   "source": [
    "client = weaviate.connect_to_local()\n",
    "try:\n",
    "    collection = client.collections.use(\"DSM\")\n",
    "\n",
    "    results = collection.query.near_text(\n",
    "       # Because near_text is a purely vector search, we get a\n",
    "       # distance and no score\n",
    "        return_metadata=wvc.query.MetadataQuery(\n",
    "            score=True, explain_score=True, distance=True, certainty=True\n",
    "        ),\n",
    "        query=\"\"\"patient was angry\"\"\",\n",
    "        limit=1\n",
    "    )\n",
    "    for r in results.objects:\n",
    "        print(f\"distance: {r.metadata.distance}, certainty: {r.metadata.certainty}, score: {round((1-r.metadata.distance)*100, 1)}%\")\n",
    "        print(r.properties['title'])\n",
    "        print(\"----------------------------\")\n",
    "        print(r.properties['text'])\n",
    "        print(\"----------------------------\")\n",
    "\n",
    "finally:\n",
    "    client.close()  # Close client gracefully\n",
    "\n",
    "# Most text embeddings (e.g., from BERT, Sentence-BERT, etc.) are normalized, so cosine similarity is between 0 and 1."
   ]
  },
  {
   "cell_type": "markdown",
   "id": "dd2c9907",
   "metadata": {},
   "source": [
    "## Fetch All Vectors"
   ]
  },
  {
   "cell_type": "code",
   "execution_count": null,
   "id": "1dc92070",
   "metadata": {},
   "outputs": [
    {
     "name": "stdout",
     "output_type": "stream",
     "text": [
      "Fetched 1957 vectors.\n"
     ]
    }
   ],
   "source": [
    "client = weaviate.connect_to_local()\n",
    "try:\n",
    "    dsm = client.collections.get(\"DSM\")\n",
    "    response = dsm.query.fetch_objects(limit=10000, include_vector=True)\n",
    "\n",
    "    vectors = np.array([np.array(obj.vector[\"text_vector\"]) for obj in response.objects])\n",
    "    titles = np.array(np.array([obj.properties[\"title\"] for obj in response.objects]))\n",
    "\n",
    "    print(f\"Fetched {len(vectors)} vectors.\")\n",
    "except Exception as ex:\n",
    "    print(f\"Error: {ex}\")\n",
    "finally:\n",
    "    client.close()\n",
    "\n",
    "unique_titles = list(set(titles))"
   ]
  },
  {
   "cell_type": "markdown",
   "id": "b837ce60",
   "metadata": {},
   "source": [
    "# Analysis"
   ]
  },
  {
   "cell_type": "markdown",
   "id": "ecb7c8db",
   "metadata": {},
   "source": [
    "## Average Pairwise Distance\n",
    "\n",
    "My guess is a tightly clustered vector space (where most vectors are close to each other) will indicate poor discriminative power, especially if the clusters overlap or lack clear separation. I think this will lead to worse classification performance.\n",
    "\n",
    "Calculate the average distance between all pairs of vectors. If this value is small, the vectors are tightly clustered.\n",
    "\n",
    "**Interpretation**\n",
    "- Low average distance (e.g., close to 0 for cosine distance): Vectors are tightly clustered.\n",
    "- High average distance (e.g., close to 1 for cosine distance): Vectors are spread out."
   ]
  },
  {
   "cell_type": "code",
   "execution_count": null,
   "id": "5acfabdc",
   "metadata": {},
   "outputs": [
    {
     "name": "stdout",
     "output_type": "stream",
     "text": [
      "Average pairwise distance: 0.042\n"
     ]
    }
   ],
   "source": [
    "from sklearn.metrics.pairwise import cosine_distances\n",
    "import numpy as np\n",
    "\n",
    "# Assume `vectors` is your numpy array of embeddings\n",
    "distance_matrix = cosine_distances(vectors)\n",
    "avg_distance = np.mean(distance_matrix)\n",
    "print(f\"Average pairwise distance: {avg_distance:.3f}\")"
   ]
  },
  {
   "cell_type": "markdown",
   "id": "7f9e213d",
   "metadata": {},
   "source": [
    "## Eigenvalue Decay of the Distance Matrix\n",
    "\n",
    "If the vector space is tightly clustered, the eigenvalues of the distance matrix will decay slowly (indicating low-dimensional structure). This is related to Multidimensional Scaling (MDS).\n",
    "Steps:\n",
    "\n",
    "- Compute the distance matrix.\n",
    "- Perform eigenvalue decomposition.\n",
    "- Plot the eigenvalues to see how quickly they decay.\n",
    "\n",
    "**Interpretation**\n",
    "- Slow decay (flat curve): Vectors are tightly clustered (low-dimensional structure).\n",
    "- Fast decay (steep curve): Vectors are spread out (high-dimensional structure)."
   ]
  },
  {
   "cell_type": "code",
   "execution_count": null,
   "id": "b9b1a3fb",
   "metadata": {},
   "outputs": [
    {
     "data": {
      "image/png": "[encoded data removed]",
      "text/plain": [
       "<Figure size 640x480 with 1 Axes>"
      ]
     },
     "metadata": {},
     "output_type": "display_data"
    }
   ],
   "source": [
    "from scipy.spatial.distance import pdist, squareform\n",
    "from numpy.linalg import eigh\n",
    "\n",
    "# Compute pairwise Euclidean distances\n",
    "distance_matrix = squareform(pdist(vectors, 'euclidean'))\n",
    "eigenvalues = eigh(distance_matrix)[0]\n",
    "eigenvalues = np.sort(np.abs(eigenvalues))[::-1]  # Sort in descending order\n",
    "\n",
    "# Plot eigenvalue decay\n",
    "plt.plot(eigenvalues)\n",
    "plt.xlabel(\"Eigenvalue Index\")\n",
    "plt.ylabel(\"Eigenvalue Magnitude\")\n",
    "plt.title(\"Eigenvalue Decay of Distance Matrix\")\n",
    "plt.show()"
   ]
  },
  {
   "cell_type": "markdown",
   "id": "6ce83d6b",
   "metadata": {},
   "source": [
    "## Silhouette Score\n",
    "\n",
    "The silhouette score measures how similar a vector is to its own cluster compared to other clusters. You can use it even if you don’t have true labels by applying k-means first.\n",
    "\n",
    "**Interpretation**\n",
    "- Score close to 1: Vectors are well-separated into distinct clusters.\n",
    "- Score close to 0 or negative: Vectors are tightly clustered or overlapping.\n",
    "\n",
    "----\n",
    "\n",
    "- Silhouette Score > 0.5 Clusters are well-separated.\n",
    "- Adjusted Rand Index > 0.7 K-means clusters align well with true categories.\n",
    "- Normalized Mutual Info > 0.7 High agreement between clusters and categories."
   ]
  },
  {
   "cell_type": "code",
   "execution_count": null,
   "id": "e0eade8c",
   "metadata": {},
   "outputs": [
    {
     "name": "stdout",
     "output_type": "stream",
     "text": [
      "Silhouette score: 0.114\n",
      "Adjusted Rand Index: 0.065\n",
      "Normalized Mutual Information: 0.284\n"
     ]
    }
   ],
   "source": [
    "from sklearn.cluster import KMeans\n",
    "from sklearn.metrics import silhouette_score\n",
    "\n",
    "k = len(unique_titles) # 5  # Number of clusters\n",
    "labels = KMeans(n_clusters=k, random_state=42).fit_predict(vectors)\n",
    "score = silhouette_score(vectors, labels, metric='cosine')\n",
    "print(f\"Silhouette score: {score:.3f}\")\n",
    "\n",
    "\n",
    "# Compares the k-means cluster assignments to your true category labels.\n",
    "# - Score close to 1: Cluster assignments match the true categories well.\n",
    "# - Score close to 0: Cluster assignments are random relative to the true categories.\n",
    "from sklearn.metrics import adjusted_rand_score\n",
    "ari = adjusted_rand_score(titles, labels)\n",
    "print(f\"Adjusted Rand Index: {ari:.3f}\")\n",
    "##\n",
    "# Measures the mutual dependence between the k-means clusters and true categories.\n",
    "# - Score close to 1: High agreement between clusters and categories.\n",
    "# - Score close to 0: No agreement.\n",
    "from sklearn.metrics import normalized_mutual_info_score\n",
    "nmi = normalized_mutual_info_score(titles, labels)\n",
    "print(f\"Normalized Mutual Information: {nmi:.3f}\")\n"
   ]
  },
  {
   "cell_type": "markdown",
   "id": "a8e6fc43",
   "metadata": {},
   "source": [
    "## PCA and Graph DSM Data"
   ]
  },
  {
   "cell_type": "code",
   "execution_count": null,
   "id": "e1618a33",
   "metadata": {},
   "outputs": [
    {
     "data": {
      "image/png": "[encoded data removed]",
      "text/plain": [
       "<Figure size 640x480 with 1 Axes>"
      ]
     },
     "metadata": {},
     "output_type": "display_data"
    }
   ],
   "source": [
    "np.random.seed(42)\n",
    "# PCA can show relative structure (e.g., tight vs. loose clusters)\n",
    "pca = PCA(n_components=3)\n",
    "reduced_vectors = pca.fit_transform(vectors)\n",
    "\n",
    "# unique_titles = list(set(titles))\n",
    "colors = plt.cm.tab20(np.linspace(0, 1, len(unique_titles)))\n",
    "\n",
    "plt.scatter(reduced_vectors[:, 0], reduced_vectors[:, 1])\n",
    "plt.title(\"DSM BioBert Vectors\")\n",
    "plt.xlabel(\"PC1\")\n",
    "plt.ylabel(\"PC2\")\n",
    "plt.show()"
   ]
  },
  {
   "cell_type": "code",
   "execution_count": null,
   "id": "d69764d5",
   "metadata": {},
   "outputs": [
    {
     "data": {
      "application/vnd.plotly.v1+json": {
       "config": {
        "plotlyServerURL": "https://plot.ly"
       },
       "data": [
        {
         "hovertemplate": "color=Other Conditions That May Be a Focus of Clinical Attention<br>x=%{x}<br>y=%{y}<br>z=%{z}<extra></extra>",
         "legendgroup": "Other Conditions That May Be a Focus of Clinical Attention",
         "marker": {
          "color": "#636efa",
          "opacity": 0.7,
          "size": 4,
          "symbol": "circle"
         },
         "mode": "markers",
         "name": "Other Conditions That May Be a Focus of Clinical Attention",
         "scene": "scene",
         "showlegend": true,
         "type": "scatter3d",
         "x": {
          "bdata": "upGu4BZW5z964UfzZx7sP/C021RU3u8/cTiLFK0Z5T+RAnbJvavkP8O+HrLFteg/3AwcKvXf7D9aob/58A7yv28rPKz3m9Q/CKAVFxeH1L9D7Q7jTiHTP1h5PQCIoeg/TYUJZLoL4j8isPeSAMMBwHxbcewAhPA/DMk4XGIr7T+ITVpqKCTlP8FMcya+AOA/JSfxYzOA4D+Fp5HLFMLzvxMAFds6s+Q/pLtZOyTj6z+r4/Tx/dHVPyYv65EKhOI/CLkwMRT+yD/3aRFQLujGP79BM53YS/I/6cJw6iRz6D+69x/vZqbTP+94xkiEeug/kCYNaGU6DcCfcvT1cbnRP+p0r08rpwnAVGbIz/mr6T+StanIBZjXPywqfPBfbd4/",
          "dtype": "f8"
         },
         "y": {
          "bdata": "QWF7H2AD+z+Vn4csMtf8P19CKPRZh/A/H4tQlGxN3T9uBXGhjT6+P8jPrT7M6+0/UC8M2ZcI0D8062bY1Ya7v/3cOepPFv4/EXiiSD2P9j+8mTCngTrpP9KHE8bIsvE/Xtnad4A4zT/PRdMzvVriv2fkBZLInRBAlK8/rgtX7T8JPDpzAuzwP8l9ae3XLPs/+bOJk6A37z+tNz/QdgPXv1l+/fshYNk/M7Ume/rHsD8J+EGxCoPYP7CBL+UHG+s/t+LVOnka8T8fwaQMhLfjv32IU0rne9E/n+QTS9CT4z/9+vhBj28VQGiL3lkDfuw/W0vjYThG0L97xutTGafpv9k0gQ5LYtI/uxcHnOTnEkCiADhd2DveP30UbZKtdOQ/",
          "dtype": "f8"
         },
         "z": {
          "bdata": "9BYbSuo78z87t338xdX2Pw8PNhlgwPw/3ej8tPOW7T85eMtDnITbP/U+Ej6Ts+4/RvmwKw804T9dztsuPWPgPynKPuHpltY/m/qeJ+u22z+apWE6FsXtPxkjKToW3Oc/a6M8JxOKzD+pJgxxU3jSP69TG4yLhAFAkmtUGAgM9D8by20q2ebuP4YyaQHaVvU/tDfdoBZr6z//ihi0Z96rP6Cgvd8Z9/M/IyyrWW/D5j8xbhP4JD3XP6fvzfdkc8k/m8aaQLGS1j9XSgfi7c/KPwIQtrlSUNc/NWGweNyI4T8H5cuouxv8P9jhEt0w2uQ/dC53oZUE4z/QuRiBG5bTP+8x/BWp/to/AVfWy9cuCkAUKEHEzBzdP+0LPlKHnck/",
          "dtype": "f8"
         }
        },
        {
         "hovertemplate": "color=Trauma- and Stressor-Related Disorders<br>x=%{x}<br>y=%{y}<br>z=%{z}<extra></extra>",
         "legendgroup": "Trauma- and Stressor-Related Disorders",
         "marker": {
          "color": "#EF553B",
          "opacity": 0.7,
          "size": 4,
          "symbol": "circle"
         },
         "mode": "markers",
         "name": "Trauma- and Stressor-Related Disorders",
         "scene": "scene",
         "showlegend": true,
         "type": "scatter3d",
         "x": {
          "bdata": "hBF7AH+vqr+D8GYqbpkEwL2GjRgp8+A/nfTNAREOyT+1FMST+/CkPyCc0gEEkNk/nt83LTlj1r+tVUxptVOxv61BaPGvQ86/o3xLKOo81b9iYsOU+kTQv5FUUbkuhwbAM8ApHr5J978NaYbqeWEGwA8GfhgzTts/LUskhmEPCsAu0I3tkUvvP9jO/xTS6Ow/fLAhzlZO5T/W03j9EqWlv0JPTSaFdtc/GkA/g6IPBcBq9K9/oFnav3OrtH5Hbsg/hWDkySBt4z+HhT0OWZbhv7ozu2fKNOQ/CEfiu9Au9r8g4xhOHCfxv1LXUizo/fy/GI++//UbkT+BiF1nA3Oyvy7fK++VLgLA5qxRQQ3u2z/SmQDzK63mP+7uip0oMvK/sgc3f5lQ0T9Q9VpAsPS1v9ruJvb8irE/vRd+sVhP1L9jB/wvwJHoP8kqMCAo8OI/Q040KgNZBsBfssMzZSjtP1H5RORqPtS/WjyVsTg32z8iXk+le58FwA36XthmnOC/3SQfKnmA5j8ckGA3rSfQv5iwGoFwCt2/KlWU/IfAtz+as/HSDRfRP73lio7oyf+/WB7F6CBm4T/L55kOsYHqP9R3oaTUlAfAQZ/SOH3z0j/YK6Lgo7wFwKVhYM7uUA3Ad5dEuRSgsD/5WQlLnEYBwH7J/I7jsOI/aL+yf1y/3T+zkc3VpPOWv3R5vQMgCbq/BLkJIaBfAsDW+7HoW9QGwBupfxfEnNM/TIKdyOPH+L/Jnh0J0cnGP6M/82R27+0/XMb95YxT8D+Rq07ygQfiP0RfC9EKw9k/MayIrisWyj8treDXm8voP9m8BRratcs/I/+EBdrC4z9jqpfckv8EwLqmZ7gGoJa/bVPN1qPh5D89PlzqbKLFPw1l+YfLsuI/1ERchRC+zz/pYl3+dKfQvw==",
          "dtype": "f8"
         },
         "y": {
          "bdata": "+dbVPykF4T/nQiV0qGrcv2WLVW0cq7+/t+z+IPG+4j/9WAlKl27aP7U1E7nzUdY/PtzCuwrz3D/BDRhxvJnbv2GM1EkVhMO/JEFpUSGvwD8dESBofK7gPzTqeBlBy+O/QnWX1fhx9D8p6jouaCrXv5Ys1DM1wHG/IGTZ+GU4779+1k8vvVTtv8AXS+GRnOS/jeTKKzvu5b9m0DLmIFfOP4kOj8WqodY/6WqDjMFM5L8WJNv6HnnSP8+aWoALMrU/SNDns3DM4r8M95NPO1DWv1byVTYE+/K/1i8t0xSyyL+JfOlICAamv/VH7TrPy+C/tsN+jJKg379jauen5bzav3lkiOVmDOG/RdboLMYp4r/DRuftZzvrv8cULAdm2NE/0MfuAkoQ1z9jDaIs/u7OPz9zlgCBrfE/MkkT+6ly4D+VARY0FF3ov3nCK5QORdS/hv6FrstV27+bIdKuwjbwv+2gGJAl++S/Y49KwdSr479y7K0DIpXnv87JfmccGOg/6Y6UWHGT6L9hXFIR1V2nvxsgs08tPNQ/mkqkssI3pj/45jnzphfgv0IIOlvuH+E/vqJVdpbs5L8ca2a/Q87lv8R5oRYDf+a/HYuEtCI0pD8XHeQmFE/ev5kishMAQuq/g0iOP5G41b9Whcn3ZgrHPyUI/sHiJuO/w5VJOb8T2j94thR22MKiv5epzHoSouS/v6+nDCaky7/Vba2WH3Pkv/E2gOpyNeK/ZTL0DcX17L/MAbCZwKPrP8X6hdOhJ+a/x15+yeBF17+DQMlabMbLPxLEdM6TVd6/+BB+aMLQ9L8YRp9hDuzUv3x3AgSYE90/3Hqz0iI56b/l+oQ09ofovwgQ011b8eK/V9dvCA4q478ycDCdOUHwv2KwIkKYzcW/ZOgB2Oim378MxrVbTkjZPw==",
          "dtype": "f8"
         },
         "z": {
          "bdata": "d8OnxFlq3L9fXgMEmNfmP0fPnE63ttG/r2JPac+9sz/o5h4y7CnRvybME9X7wse/jbMhVCGk5r+vkUcKk0DuP9nw0JEZ2uq/RwbaU5VAfj9IhgL8UdTVv8iZbp98GeU//Q2jqxvQkz99tMIP6XfhP++mfM3y+Oa/Ul9zXK7C6z8MbmnR7fjJP8lyBV/vj9I/LKJoJKdNnb81yj/kbq3fv553OFOnPeq/HiKVv+Va4T8aygcCwSfmv18DAifjBdi/v7MeBpMCz7/x4sS9qx/pv3Sd7+txr88/58j6ocsZlj+Hmz749AGmv91CgAjuH7g/QAQxiYLSyr/eoIyuiH3nv9pmTK3GwcA/C6XyDGxU2D/CoJCMXizgP3JR/nqfLOy/NuZsqxbnkz9mkxfaqRfgvy62cWjvKcG/p2gqHoPe3L+BhJzFaGXmP56f1uR3/Zq/Olcrryd71z/S6mHLn4jQP6VS3ejvqts/5UDL66SV3L/qJ7m7opjiP+aPz5tkquq/zQ+zEFrU2T9C3Tij8sDKv0p3z9ZlCOe/BVJ/RNKJ1r8a7Bjo61/avwEFDoXTddQ/+IrFNfnn0L+dsWa6cAnyP1ca/fn2E98/K2Ff/WgTyL/4Ck+n/MXbP2XBXU20Bd4/LCLSGEdw0r8Y9OIfT2/IP81NuYZnQsi/SaBTtA2o1r8gkIpdEEjqvwQDzNKteOU/B72ZFYL/4z/jzo9Ol6vZP0Yi3lYzqHE/clAHv0B+0T/13KIUqrrnvxnwDrqMz+0/MgyTneJN6T856i9ldtfgv13rPMyXot6/dlrXo3MgwL/O41WByz/fPwm2F6Tv29m/R5WWfEuy5j+eS2fthpPjPxHB2iAqk+e/YptfWUo3wD9hq3IFaHTCPwT0zQtkMda/WzUWDAlCtT/a31s0vtjlvw==",
          "dtype": "f8"
         }
        },
        {
         "hovertemplate": "color=Specific Learning Disorder<br>x=%{x}<br>y=%{y}<br>z=%{z}<extra></extra>",
         "legendgroup": "Specific Learning Disorder",
         "marker": {
          "color": "#00cc96",
          "opacity": 0.7,
          "size": 4,
          "symbol": "circle"
         },
         "mode": "markers",
         "name": "Specific Learning Disorder",
         "scene": "scene",
         "showlegend": true,
         "type": "scatter3d",
         "x": {
          "bdata": "IsgzlbTo6z/PtF5PyRXoP/gd6I4yEO8/VLninKzz2D89EJE7s2gJwNSWsUt8JPA//lm5LiF96D+8B8Bo1LzcP2vDynQqwuU/UP01irTAwT+CbOc66pvSP9m4/+H9r8M/2nGLeJUG4D/kfFOWg9/VPxrhxC6hcuG/4yjr85ml5z99UGS86MvYP5oXUN+/f+W/fKJ9aVcv4T8dMBRCaVjeP1kK7HLSjOI/CYuVa2NL8D8=",
          "dtype": "f8"
         },
         "y": {
          "bdata": "H+Q+7noTtr8wdt8rz/bkv247xTmXg+C//6oJw7ZW4r8E4hZarZbWv/nPmF+RCOK/xW/bQM9v8b9IkkPq3rXlv17QD/L++OQ/hzbWjAIA1j/MlC87JgnbP1g3E4LE9Lk/pXc0A7nG5D9HljKMICXvv6xfW/iH2Mm/pB5sv59/4r+Bg/najJ7Dv7KaXDUYsvC/grZ0UavV1L8nzBe+juDqv3v999d3Wuq/zusVGDY6478=",
          "dtype": "f8"
         },
         "z": {
          "bdata": "jLG3MS8fyb+4y+/5+NbHP4MH7wOcB9Q/0FpSlewAx7+GTzqGeNjlP1X0Dh2uROQ/zPSJFHh0wD+/QVaEkMHKvyW5J63+bsU/Az08GH7I5r9lcOXW1jLivxfw1pj8+Ny/adRp5Uviur+KLB6uTTXHP8TyWiE/+Ki/DyPhx1066D8aYzpep/3bv8qxV7HORsu/4vFU3Htj2r9+vjiXD4TCPzh0Zb2G+LM/i3FUMplS0D8=",
          "dtype": "f8"
         }
        },
        {
         "hovertemplate": "color=Anxiety Disorders<br>x=%{x}<br>y=%{y}<br>z=%{z}<extra></extra>",
         "legendgroup": "Anxiety Disorders",
         "marker": {
          "color": "#ab63fa",
          "opacity": 0.7,
          "size": 4,
          "symbol": "circle"
         },
         "mode": "markers",
         "name": "Anxiety Disorders",
         "scene": "scene",
         "showlegend": true,
         "type": "scatter3d",
         "x": {
          "bdata": "KE1UJ7X+zj/dyLu6w8DSP4pkmXdNSvi/bQlvbQwp6T+ypGepqsfYP9hNl48/Mtw/9jZKDPyx4D+VByyBf/Xkv3yWJHgeReU/rK+LAQ+O5T+wLO/82DUEwLocUkZdlxHAhu5oBRGH6T/TIf3cN0SyP7d5QO+/NMo/iyW46cOa0D80zPAuSRfIP96Xp+U//AzAuQtr7RKyxT9Vy3+1tWnhPyG2NlbR7rC/gNTCHVZjEcC0fwP8Qoq+P5CmlUyb3+U/0SJDRf8fzb/7EbE9SA3VP2RmMnVHrOQ/QfORpfhP0j+V1IzzvK3hP2D2NQKKleo/huvPTOXO3z9YV1Pm8EEDwBzu+MnNauo/hKIsD2Hw0D9r2sKNX03hP/v6lhOs1dS/1C2FYjfbtb8ykCPe433Lv23sk7bUyt0/lZZOxF4QtT/l/6RNyT/SP8bQi12KGtM/zU9X1mef1T8V9W/EEdDUv42Wl7UxJeI/3m7saCfS4L9d+q+bM9/uP14cxZNP8uo/P5c06IYMvb8c9l3tfNvhv4bTimsj0dO/6qnwhDt08b+CWzKM5aXEv0f0pJ8cYeC//7WNJBaUwT8yZtg3GmrXP2VtIwrKNsg/yGtHBiLi6j9Lolg7n0DLPzQgRUw09eW/52vSEzHAz79QtopebznlP4QpN5lDFNA/QAXocOcz479tKbJIp1OdP7Csfz7Y4fe/x0f7neZ/zz9XsxyUNl3oP7TmgcoNIeQ/jJmiwLm03z9HJkhI77Gav4LXcVOdo9u/CwO8VJj79b++dN8UzK+4vyZTc0Hatdw/R1CX7vpYzL9Iti4k50TMv7fmC0pIQcm/osvyFM/b4T/9iLR9b4foP6RqpyurXfC/+cPR8sdy0T+NurrZaNTZP2dcthIh8dQ/U3IQWQLp4j/v05wq8Z3NPww1JRVWlM4/LnbJBqte3j/PBBFSUCPgvzn0lGWSLts/0cLH8Sjj4D/xktqGM8XdvyfoffDRBOI/1/STvqxj5T8yg9jL0LTMv7VHSdJWpM2/7wQwxclzC8AuMue9/gHiP1vkrGn0ReU/HQehuE3w5r/hD4gyT+zSv0h5lJXZR92/nrtvYiOh5D/CS6d5lrLoPyb6C/VW49M/73nmzd8l8L+WKVwB5ai9P8BEM4q5ArY/X7HkRl/wyT/mHyVQW63JP0HLzpK1c8O/RVuqnCiG4j+PN6ksyAXiPwTAWnGsddw/GAE9fs5w2D+RKycyX1nVvyBNGYH4ysi//0PCuj8X4j8=",
          "dtype": "f8"
         },
         "y": {
          "bdata": "zVdeJBbmvb+XCmAWaTXMP9vGWImbIeO/PHPAb1GF6L+UTsOyB9vxvx/5EKlXQ7q/E90z77f41b9vvKx/JcKqv0a5ynK92e6/qTISe82phr+9XyNcHyj2P52qCB3GHOq/38yFuu8/6b8zFB728t/av3mxI5FWm9Y/01ntQ+fV3r9pNCVpgRzcPz/qgAlUjtm/r8QfN7t92z8PzBP5J8XVv7+JGpVctdA/PgLVODua5r8lcLHdFjXuPyzrGZNSdum/x2iPYxvqxj9H1rnj6fLcvywvJiXsF+q/cwg4BjVZ6T+sn9hiGpq2PzG6tt1FDuK/PPfIMgpz6L80pfm/aFTfvxcRuuwYk72/BKwrtG7O5L+ifHDZ0k7uvzawsnUJ1uQ/PyONET22qT/XWbLtcjngvyxN1wG8pt+/nd+9q/nL179aSS4Jf0Xwv7xl8HRQpd2/aKYmiQZ75j9HkPDTBFXePz9A8zwlLu2/eSwZVau51T93XuATAUHnv2PKGgDHfe+/NbBv1PdZz7/LKWTZANLjv5SfVD9tFaY/UWFoJoDG3z8ku9+iHHrjP3izibP9V+G/WohNh5kfP7/nUw0gnzbrv3wevrNWLdo/JgS+iDvnvL/Z6xHAJKjgP1/BCRWxo9o/WfOSzziU2z+KNeg0GvLvvyhjy1w0atU/3eHjI0QIwT/1UkdUZVLlP/uXw74+adO/dWffrnHJ0b+pcOZoJpb0v8Pvo9lERPU/1d3tAtU17D8qMMX/iXHDP9S4tykTk7c/ieQal+5RWL81og3i4KsBQFoi1uV7/by/zirxKCvLxD9b0/hT+B3gPz9UN5oWO8y/R00Rz1nXyj88Qz/1wG/tv/1r39TRtdc/ListHJzm3T81vO+AU/XTP2eY7T++p/G/kfJO+RAZ6b+h+lZvu63Pvx7CdwQvSMm/J05b5HxQt78Ng97cTiXhP+5xyVUKgt+/uVy8Yflgur+3nBvWATLaPwzwHBtP5qI/yQAvLfqg8b+MGqUyfHPlP5xQc9ZOObY/iraKTYem6r8mE99WED3GPyF41AktFu2/MV6e8yRpir9mVfeq+1HSv+a91b1zidk//0/QwEx90b9umugAhcHyv+D0BTFBmcS/8A8zkNVj1L+pFAUMxGTQv9gHZ8I5F+o/5qUJpbgTyr9EvuBPvkHLP6cGHO7+w+E/dR2Af8V51b/sYcY8Wr3nvybZ5FiKM9a/xKqXc+b/4T9/TcVjtJWrv4znJLB9hqy/eCphc42P1T8=",
          "dtype": "f8"
         },
         "z": {
          "bdata": "4SAifKQr2b9EQYUx2Vy+v4uObMdDqdw/6xYs9vGDzz+bx2np1j3iP/ZTnKcca8c/+LjDvejguL/rCYlkY3fMP1/CP9J4dMa/LTED7cBf178Wanz2kFHdvxx9BtnAWt0/uxwQAA7u3T9FzIDS8y25vyGdG3ipV+C/1/Ip9Db9pj+daMof34vrv5t0541wZt0/LDlrKhh05b/EHVT5vjHGP+Xot1w7OeO/h2HocKM/3j/qT+MOtHbZP8kWiZANjvM/KR7Y/DzL5b+n58c/ennMv1uqPjf2QOI/5s3l9MXBlr9W4N83oG7kP3orOvLFj9G/p16pTVi0vb9MPxTdCFfdPzvaeeiW7sm/eBJusD650z//rAaZbrjUv+CqImCwK9a/OlFXmObz1b/z8iDFxMLev4DTkLtIWde/kqh+YTbL5L9uc55loKuPv8FFOlVfKqW/ZZPyxcKiwT/d5tUkYrPpvzh6ydAbCeQ/QJvJDcySzT/F3WZa2dXqP3NRiTp/SqC/1LStjA/P4L+KHcHNFrjAPyjkIL6xTNm/ly6LVJeM5z8pN4vGXfPVv5Vcdp2l/NQ/sH4afTy10L98Q34UZVTav5YOWjaz2Ms/TI+qyPib4z+WRVlJNejQv4VNZKxOSOi/kQh72FUX4b/VY0itBlHqP3OnrArFMNu/9iFS82Kd6b9cHaEqP7/Vvwt9AdILQMo/vDTKWvku478nWq/fP5zLv8YKfD2rePo/FmiWPZSe4b9t1B57sWTZvyelQ3ZZgOC/WGUQeLuUkj9WGDmVcfq0P9xkLR79hqA/PaC5yU2b7L8Yxl2Q9G/dvxCFjK1+4OK/heiT7UyuwT+ggCdW70LNP8nBrf+g3b6/ofqx1cQxuD9HHrQVo5HgvzlTzoHyosS/0mlKctMpsb+Ih+m2y5vjv1/2lp4yW8a/M+/gW3/z3b8SYN8pL7nOvxY4CMyhINe/O/YLBpjV4z8E+vKj7HLIvyRIeYT1A9y/53GoQbHe4T/ZhyDSBA7Vv/z67IerzN+/h2wRuNDo5D9+xT9RRM7NPwb1j7XfqMg/JRRoNp2u3L+9z0yWo5rav7to+JeYhOe/87g6rEPm3j/rgm3QkZ/Fv5NU7XOEzde/T206rwwCrz/UsdBxHHvcv6n+X+h8t72/FnlT+bs81T+VWTDT0d3Pv01fAnCRet6/MmiMQc64lr9agg9atom7v3yRHF4yheO//zxGMZc4478bK2Luszflv0BtOXwSX+G/cbLzuEUL2L8=",
          "dtype": "f8"
         }
        },
        {
         "hovertemplate": "color=Sexual Dysfunctions<br>x=%{x}<br>y=%{y}<br>z=%{z}<extra></extra>",
         "legendgroup": "Sexual Dysfunctions",
         "marker": {
          "color": "#FFA15A",
          "opacity": 0.7,
          "size": 4,
          "symbol": "circle"
         },
         "mode": "markers",
         "name": "Sexual Dysfunctions",
         "scene": "scene",
         "showlegend": true,
         "type": "scatter3d",
         "x": {
          "bdata": "n9sogKkPzz9MpHLaAAXrPynSim2rP9E/HYxOP78sxT/j35nOhmjfv1XlPw010su/NZONTeF53z/51KxnKdfmP5HWOPJftbg/srZlXvpO4T9smzY0bzLpP4KYG4IFqcO/A5Dx/7un4D+GDDCyC5LuP5EIrHLsFqs/HjOg7JDV1b+HKQgOjlplPzg1QS0JUMk/wlbT5cu54D+p1AWxWLrzv47hgjtr2OA/dMNxiN1H5D+wJ2EogIjdP90lSR4Ku9c/9+GFbptw3T/jC2mkEa/tv43XZgYez8k//L38sdR/5j9HWvrL5B//v1Su1Ly908A/tqKnGH1mtD8LWhHF1hDgvxobr5qUWcW/sNfwDNwn6T/JSnwIyPTnPw9loDcbCeu/RUsNasnd7b/zCSwTZu3yvzwmvLiyuLk/TrAXdmx64j+vb3HyqV7qP+GAmSncFrm/h3nqfve96j/Pys3476AHwCDqIUbIO8c/nQU9RsVUnz/mLC8yJq/GPyqzkPpVAeU/hsrABP5S4T9+Lo9nz/7PP6kQe4sJaO8/7qmmjO2W0z8fB40PM0jfP06oXeaDL+q/MkqbmpKS7T9lD2pHd7nTP0QZTVgs2J4/h3VwqiDy+b9kP1LSaZbiP3pl1QuvH8C/Mgz7aZ0X4j/VTaimRGsCwMqYDrS20+i/4ysedbeuzj8HsSlkz8jiP7TANWDpwLA/4+RYMyro2z9FKoa2WbbrP7Dj+lpDiNE/oIp5LJ8C5T8AchsfLnjkP+RyQJ6vAfS/naisxp+fvL8yzgO5xeLTP1/HOcUGudw/gkrpD1zh8b/CcKtWLH/nPwx5M988zuM/q3umdISo27+rBPOiot/dPw==",
          "dtype": "f8"
         },
         "y": {
          "bdata": "EnJ2LwM70b+SjcJbewnqvwgsAmBOaeW/3nTqmc1nqz89leowlIDiP5JDjJYylqE/en2+eX4Q579bFFjBk6Xkv5/vsqGnNeI/beZuIav+7D+98QHaWGO7P4dMEbLO69A/6QO2pBql4r8E2BsCHe3bP7kxpSMXqu8/vQhaFMzw5T9VRJsifgLlP7PXRcXKMOu/uWHAZ69g4b/DLoeCyfj2P+xXlzAQN+K/uTll+Y1x8L/snFrwvNrTPzVWZurJCwJAp/yc73E01z9v4pcZDHPDv907TQ2vme0/i26NeeUo4L+lqy7Y2HTeP01Mg+akjOE/xmYjQ87W1b+5lg+DEzTAPwdOus5lobo/tPdgRAmG5z8HGvdYs1PlP8GNRit3juM/tVVAPDFc/j81zGeoYfSvv2Jl+vS7w50/ew+iUKc2yD+rhWyCAU/Pv8xb38zYHOM/dEyiQh8o7L+PUjfxuIPTvzNmq+ntj+G/vKqop8/Z6T/QQo5k1CnxP/P1sXp5nOa/Hk5Hk77L2L/oFtjcQ63Tv9GNcWZ7oOe/30zfgk4/sr8t+8CqzH/nv+vyiH9aXu0/eL6x4BA04b/QWCOpBfb5PyGTt0dMYOM/nn+ymxlpxb801Gw60mbZv1srZfVmgcg/+p9/UVQt0T9KPsPk6CviP/CfdODuP+I/SPeZhuCXxr+zElXqpJjnv5gxpV4zmuQ/hz8IOYiS4D/JyonP6l7pv9nc0fW7RNu/ykSE+bxJ479SmPEy8zfqv0vj2AeHDOo/PIGhGLL8dL/H58IOodLXvxDPM36JJti/unkuHhU/o7/cPFwWL7/kv8DPW25Z/Na/XWb7UWkW7D+XVrL1Tnjbvw==",
          "dtype": "f8"
         },
         "z": {
          "bdata": "eZYtwRndx78r4xR7h5zQP9QuNtUJA6i/9ny6X7nO27+gSPJrEWzVv8cXtS9ULOC/ub4Buvt7wb/cGFohinTcP2blbJ8hduO/HBtdxtlf0T+JibJW8UyBP3BPFTWCj+S/oV0X4WUexj/LquzPswnoPzNZ/wkzlts/lsyTAVdK6r8BXlfg40blv6BdQYGp5qc/XiR0CtQYu7/9Y9NArSjrv/F/TonAxuE/pFlSJx693D+sK8WCR1zLv4qdMaVh7LU/iWNABnMAoT+IeasQaOuRPzuCyCnFSbi/Eto8yH3z4T/ozCWUIoXZv8Tf38xewco/VMdt5gfafL/v2GAXeanjv/gpmFY3q+G/ZaQDrHoe5j9e4laD1xbhP3rOIXLUBMK/oUNeP7dJ67+gPWT149W/v4q6CsJOZY2/5TfJb4mr1T9/HMCgMtffP8BUBBeS2t2/spnyxvP62T/xPgdLVLfMP0r3BsCAJNW/AWpbLg3W4r/lwl218xWTPwmCTOQNJMC/SslyheUlvL9zv3s5ExHkvxAw4L6mS9o/bm6fbuqbzr/arM1v8e/Fvz/JNRKXyr+/NB/wB7Uf2D+KNA+nPVbwP4aDq9iNW9q/ycxnBozIkz8maSru0cOmv77hzHRVENS/l+bKDVPCdL/5zzFUNeHXvxh8N/kRB+K/q4Yia7du0L+6xrS+o+nOP3xQCbX03tO/AIvAybCi0b+2cK47/rfaP+lN5EgDL56/u8iPwOLe1z/zJ35xBianPxU+z4PQQOC/8FlEOMQ04L+VD77Y87TRv1kCnsrR4oY/SAW+9EZezD8FFnF734rQP6zS/HW3Rbi/FsROV+dC47+XYpGdp5DTPw==",
          "dtype": "f8"
         }
        },
        {
         "hovertemplate": "color=Autism Spectrum Disorder<br>x=%{x}<br>y=%{y}<br>z=%{z}<extra></extra>",
         "legendgroup": "Autism Spectrum Disorder",
         "marker": {
          "color": "#19d3f3",
          "opacity": 0.7,
          "size": 4,
          "symbol": "circle"
         },
         "mode": "markers",
         "name": "Autism Spectrum Disorder",
         "scene": "scene",
         "showlegend": true,
         "type": "scatter3d",
         "x": {
          "bdata": "d359qZOmzr8HSG+jYgDkv+eQalnqHeY/HNN0GE65nL+HBXuN0bjjPw6pVanzgOo/eL/DfPHS3z/Au81KDbrrP5/aH+Ktx98/gbDwqiRt/b8Su8/OkSnnP6epWykxRuQ/0VSz+8Wu6T+VXU7eBwHzP1XzCDBIaes/orgeoKD84z/kBSkFmdifvz+5D5XeNeU/UUC1JiyfAMBWqWJUc9PnPwol4xP/2us/k2I1SBG36T8bmDnTB0HGP/ZDg6Bo+Og/Z3SYM3wsxz+UtS0bHbnHP1qBVwlfPuA/zHLYwI1uyb/jjMwrXOHePw==",
          "dtype": "f8"
         },
         "y": {
          "bdata": "xEWVF62Gwr+XXJ1vwQXMv12Ffve5Fe+/A2gu8FhU0D8uDFLhc1fmv5UwTc96UuO/NfdgWy7W2L9nSzfiu0z0vw8q6/nDPMe/7mhIoKX86b9b3RoV1Dfov8ps+VT5dPK/JUh8Z4I777/fYaztVaPVv2fwE2DDsOy/dAQXSi0U6r+dEr4yyVLCvyEmqDbC8d6/gUKtrFQNiD+5iZxQRaf0v/0xn3ZjYaq/G82YWF4M5b8nYN6YoT3ov16PsecIzdA/pbW43w9sur9//raRdbzcv6fCdffja9W/clHX6Hq02T9wptFSZEIAQA==",
          "dtype": "f8"
         },
         "z": {
          "bdata": "ePr4urvb67994zgxlE+hPxLBn5S9PbY/z4oOc3c25L+Ja/DRkPbCv+8AwtJ7Zew/ad/nXEV8yb9hoFGKO8DZPwuY7Qm1StG/yVwhJhhV5D9JDKdJI77Tv92LK3hqmNA/hftDXgZvy7+LReh92rvoPyEt8u9DJcc/2Od/5Izo178mKXP371zgv2NgAn3kKcI/KlUxkgyx4D/1QJacISnmP1DPz3V4FKi/oMtXtPyAqL+tKXxKvaijv2kDKm5tr+O/bRRWwD5S6L+Q3G20mXzRv9/bMdpq8+O/BM3JITr84r9CFfh2gkHCvw==",
          "dtype": "f8"
         }
        },
        {
         "hovertemplate": "color=Bipolar and Related Disorders<br>x=%{x}<br>y=%{y}<br>z=%{z}<extra></extra>",
         "legendgroup": "Bipolar and Related Disorders",
         "marker": {
          "color": "#FF6692",
          "opacity": 0.7,
          "size": 4,
          "symbol": "circle"
         },
         "mode": "markers",
         "name": "Bipolar and Related Disorders",
         "scene": "scene",
         "showlegend": true,
         "type": "scatter3d",
         "x": {
          "bdata": "sLwRsRk1C8DejLgujEwBwIgs8BF5DuA/ZVUVgsnC4j/vE5yJevTuP9I728v7A+Q/X6cudNK2p79B0lWbogbbP0mdU5Q+Zrs/+2GlUfP077+Pxo6K7jjvvxQxLtDprdI/s5FJ+W8C4D+DCCT4h923v1isLHHCi/e/LzM6Yz2Irz/mVJZh/ozrvyPKYoaTw+M/hm6o3+VZ4z+A5nlw6qIJwDHVct8NfOS/KHhRlnwm8T+Pxua/8zTsP1l+z1Dt+N8/crjmgOLF5T+rHLFaguLtP7tJRm14Wue/576UaGlQ4T/uA5LzKurQvxKmXF7bLgnAaWI4puv18j88EilVeGLxv/FtxAZlBeY/la3EWPV7xT9TZOzoNI3cP5hxqS8x1Pu/N6PjQXnj6j+4n3tj/O7BP38FwjXpK/E/xwPX2TB18T9lUCfFVYjSP+hNTcVS7++/hB+w4EPTxT8TBQFJ7xTHv+f+zhyqvPO/X75LwGOO8L8rguKfujCrv2o7GhqHw8S/07+MoJIM2z8yzT5LJFsJwCd3PwKbfOc/lcTZP9T66D9gEUBy98LgP9N27a8JBMI/ZZrZp4w/5D/zTtHcyjfyP3pjmgqG0/E/Bs3skxo1/r/kbRgufGT0P+pS1ONmdZ8/oVWu4qAEB8BDYAqGDy3sPwLQviUxJfK/tsY1A8WL5z9lXuE+qVLZP82lSTf6cs+/vtsK3UITAcDKPF7K66rCvyJYcnmDf+I/qwr9x7nv7D9tciSA1ZgHwKQDR8xSG+I/JjCxwLV84T98BvuX0K7wPzn7aCiV3us/qEuQLLpK4j+Z7FusEbbmv6j5vuHCRQTAUH4Iccf73z8qMjS0FQT0P/Wd3Nr9K7U/VK1c1fow9L//MWARou/hP9FQquivKe8/khS2KHHA4z+k8kHFsJ4FwDjPPigI3Og/VsatOJlm3j9BlDU/uZO1v0sU6nkAqdQ/kRmjTxlKs78xHXfQlfwJwBzTBGLHs+4/LC46/C8S0T9zfTMgIcnjP0YpuKaiEfK/",
          "dtype": "f8"
         },
         "y": {
          "bdata": "Ncx8n/Vt4r/M0aLhJX7EP8dmNfYjQPG/nBufiJYy7T9KB6ZQmxfLv7pvi18kPNC/2Q7IZnEC4b/9hygsL8Cjv3qUaqxxjfM/O/k3E+TSAEDim8Ibxqb4P/343JycbcM/xD5TlpZg57+sf5d9O/HVP5hm2XNIjdu/zH86IwFu5T+PNZia2R8EQGPKYodQGdY/VDkT026f3781CgnXdMHov+0Z0iDMvvQ//2rehL7d5r+BI90Enwy0vw3/PGWXwNE/l8vTesAU7b+8Ep3vP8Sgv1lq4FTCm56/VLYUFfl94b9IIo8P+ujoPz98vF287dK/dOzD80qY6r9qn+a1KbrSv87CEoMZBeq//j8S2jRszj90BjxJWdPQPxTLnZWrZKS/zRFzCRS60r+dT+F16HDnPwpdVVV5MvM/MSJDyCHa17+00OVYCJ/hP4b5UhZiFqy/O4nxwAAT47/Z9iS6iMXnP1Uq1BawaMY/smHfP3lOuD+xFHOw2agdQHbNujf7Ke6/zX4fGCtc5b+b7NzBthfrv/gWhTitNcq/BcAlcuclzb8gZ5wK7DLsP5m+5GuryrQ/woKJ0psM7b8jBVNW8Yrkv8F5iSMqt96/1x9MRUsN37+atbk7WYLbP3a06KZs8cC/Qv+4EZTY7L9S/pzJseDAP2f5okibmdG/Z/GX3hafh7+JF+WIqKHfP8XUVi5Gz/Y/LJMz8dOC6L9zAMQhE8TrP/v0iUzWJ+s/hHMdHfPw2b9ATa5iYs/hv0j+jgAuh9m/Mo8P1HFj4b/lMtzZDlrjvztUQvpp/+q/vmh/6puL8b920fElYHXgP8xkzsmt5rA/PJ/6Gtut8T9HdLQIT5Wpv01oFTFZJcQ/yMsR31hzuD/ckkD1piHhP3lAI8GOy4a/hsJgbXcd379CbuM5EM3kv0crkK5t0sO/mqHfb8aj3D9PXRkRfk3mvx5gTU5ZE98/09oOM29v6b/88/2LAlflv2LRCVlfWOi/oDx97aotsj93T1AbnHbKP7Mhb/PRQLc/",
          "dtype": "f8"
         },
         "z": {
          "bdata": "tQjid+si2T8bWqu0sbvcPwEFkn7Nt9c/niveU2UQyT8hkPcuvTLIP33PQ3dpd9C/szQ92+Tn3j9AVLHeP4nWP63/+ZLytda/3DB4+gl+5r+NnYMuikTSv/HL4kxlJeO/oGCiN/pK1T9N28cCcSriv+c+RReUUcw/6MHaTHmr579Cc6qmt7TRv4MT2mZG1ng/T16QS8S61j+KSvOfONbZPzAREFu4XLu/HhpLLbQI1r+RYJI4I+jbv1EhDYeFKty/jRaJVJ3f4D/BRk+9YbblP/4J1KSq8rk/QT/8glxIwj9aZSLP2zvmv5al1u1A09w/P5ileB8cvb8xYJFxv2XWPztHhJS4H9w/AcJjBu/M5r9tw8x2KeTWP/MfkbGzwds/nDeG4CJrxz8aL4mhlbrHv3r8w3mpMeg/lK3YzYes7D+f2qcNymOfv7slHl++mJk/qKOTTYzP4L/+1Ku6d+jjv9rDryEyg90/GciMA+F3uT9yntKr4bwHQBPlm4hPO84/sIgZBbZSwL/UTksRSuLnP3a9NASJHq6/bH13WWNW2r+z+JFMDWTFPwSZTvxpL7k/mnO5imkO2z/nhSz5zOLVv9Td9LivS9A/luwdF8E53T+NfzP9A+/vP0yAVboznOK/EmQzVwb04z9kilKfA07Zv0CDQ8CzfMs/obsog4NC3D/5fLXF4MW5v9n8KqoHr8O/N8cimP1Q0D8CeUK54hqlP0nFl8AJ8rm/8k5C4xx32r8kr343FzzZP14LVdpWAde/pBlpuI66U79EZqss5KjRP0CYvsEMRrm/3EAJSpdA4j+tBRwkRauXP2P9ChfgSrO/qqvjjSc08z/7MFi/BLXwP4kEMA8+hM+/s6w4AQod4z97AZswyu3kP2F+NnGKXNy/GLS8UarB0b/WtUXKNxDgP1qMZsrrBd2//VqO4nHRwD/H6bUg8DKtP7ktmTma4d+/wcmNf6Cf6z/MPpTgq7PSPyPDDhnsisu/6grJUFCho7+d8VujJ0SkPyIpcJ7lcdU/",
          "dtype": "f8"
         }
        },
        {
         "hovertemplate": "color=Obsessive-Compulsive and Related Disorders<br>x=%{x}<br>y=%{y}<br>z=%{z}<extra></extra>",
         "legendgroup": "Obsessive-Compulsive and Related Disorders",
         "marker": {
          "color": "#B6E880",
          "opacity": 0.7,
          "size": 4,
          "symbol": "circle"
         },
         "mode": "markers",
         "name": "Obsessive-Compulsive and Related Disorders",
         "scene": "scene",
         "showlegend": true,
         "type": "scatter3d",
         "x": {
          "bdata": "ZNvG/P0H1r91zB7zV6LEP69nRDYOh9I/1fH5QvtA0L9kZUr5AtDvP0SLYMMcWeM/tluyjUCw2D90MU3ycQy8v91aIoIYrt+/rT7jwIchvD/qJnaB2N52v/upYJRAPfO/JsaMoyZB8D9bKx2wMnnsv3xIBHk0ob0/Bxnxhgt8vL9oG3MOdAl5P5YCKXb/HN+/sxBJPNNE0b+684nJPobVvy5ezIuYxNU/OGCgXylw2b/YYnMAhDLuPyQZ/L4htNw/OD6pjjwt4L/J0yZz0Pblv2AmH0iOO+E/uL/+kLXDuT+M4LerO9H1P3Sp5ft/I+o/Ux0jTXHP2j+nI8oRho7VPwfADn2WDO0/W0iCJIY63D8mNQhXr4qYP4xMkbpbmMQ/WC8pYippkr+o6KudPwG0vw0B0IE9yqU/brO7vMynzz/IBa92jle9v2yknuHJoaS/Es9DFoI35T+Epg7Si4Skv0SU0ti/mOg/rGXP0vcfub8yNNhP2qHEv14NE6qAnce/aPFM2SUuyz/JDeSeJQn6v3BYOUkX++M/q5CRrFHg278Aqcs9DVzRP4+QXuCwD/I//ADuw9m1CsAK/GrmRNzMv/laFqjtcNu/SUlzCZTK9z97AkPyJN7gP8p94aDSVp0/sA1PZJTh4D84eE9wrNjlvy2cGJ/nb6A/26ozX4THz7/tBnBiGcTGP8cO0noohrG/2nn4hGGT6T+47vNUSB7pPxbc+f6DZOE/+0Gv3pFZ3D8WKezQK63WPwXprZzto9E/CVC0VLjxxT+uxDqF/CvjPwsNJZe8INg/nlJ9hWGXx7+pL9qpCQ3kP6vy7nbrksW/HLpFagSA2z8N87C7PgXjP8niNCYfYq8/w5L9FxxXyj+P84RO6T/2v8csHiLlS/A/i9tbaW4V4T8=",
          "dtype": "f8"
         },
         "y": {
          "bdata": "4FP925VDyj9Ejfj+/Pzgv02okTlspNK/x7zCLsG1uD8L0ImD5gLbv5sbXwsVI9S/9F1mZcU47r/YWmZNSngFQA8Zg1l3Hr8/pytrFoN42D8MI+kstszZPx9znS9X+bG/7olGgyzq2D9Yyw8bUa3XvwIy8SiEuOo/6ODzfGH5R7+MrsJ3xj3gPwsXamDTJd0/7dY/8WyV7z9YVSpN8fvuP2J7Ud99GJg/xJ/w9Etq3z88YBwjWSHiPwXzxZz4B6e/9pFZSgZv2z+poDQLH+qpvyUOg5NX+OS/JtYj56985j81T6bYn1DAv1XLzrUk07o/QmBx40seu78wV9n/a+WWv8AVVYXdK9w/GSLKwEuvpj/g8VzKeIXTP/HwTezA3eS/Ztd9SjhYy7/a701vr7DYvy4mp2Sq5us/dTRTL1KS27+nGpkEMUNyP83s5O6TnMu/UWofk/p5xr9fM/J0eRzvP/EFo8eXFte/IUHjXKAO0D9FbWXt1eyoPyY0O2WUjaI/es9umdsc478pjERUjajjv3kZVS6wC+M/nqC+B8Gr5z/y9AOUoGngP9CdqJCEy96/T8Yro/Ctv7/d8CQIMujkP+pfilPzMtw/SPaNQMW/3r8usuEvxljEP1CwBEUT7+6/MJN+vOEu2T/JUg0nCXnXP1lvmpcauci/BjPqjSl0d7/yVx53e3e7v5i1fx0R89+/wXAUKasvw79RrDNeaXntvz2p3WQ0J+U/9CxUU2G82T9n+gN3foLRv2XaV8QA8NK/V4y1UnuH2z/AbpgFtIHgv8++mreK4Om/UC2VNNMA4D8GLAC++u+aPzozej/Sv/k/UOmfZyCJ0L+3JhKCStjrvwOJ+SCBWGc/R4c/ChpozT+jXxEbDmDFPwx+cr3xduO/McQoD/a4478=",
          "dtype": "f8"
         },
         "z": {
          "bdata": "F8ZgrQn77L+29knqnkOsvyOzw9wQZcQ/uEAho2pl47/c5RRlB3TjP6roIGeaztc/E8A+fRqD6D8kt2dqsBy3P/tfzWiGnL0/SDmYkoH94b8EhK0FrgXpv4Pr7X4v74s/RqUMEvyXmz+wZyTDm7OuP/eaks9jws+/hRR5esED6L9jwf0Os0rVv86wkbLHus0/f51qy5X10z/KLn4bz6Xkvwn01ifrm86/fKXjNuxL6r+yuScD9IvZPzIwPN/bbrU/56mYQ3Pptr/P8SeDduPsP6G0lP1dKK8/VSgm7JsB4L/5WgvWYYHnP7VEh0liLr4/2Quj8Htq1L855k8a09q8P6OLcof45vA/tA3vx7/mz78vptuBxAbkv4I4eQ3k3eU/IbWpY8Mt1L9IFQF8vr6wv6KBNXhi3rO/wCfwAEBE0D8L+Q7HwZXcvwi1VbbZ3dG/u+NsRps20T/EJGqpkbnDv7ar9kCrE5s/gPTrZVpA27+gwTfpuIPfvyl7aPIdDOG/r+mxPhnGyr+8g7WVk+DnPxroKfpWudA/x9RzZ59S4L/7ZX+aN5S9v/g9eywHpcs/E4/q4Dj4yj9hSsFsZlziv/lTQuztiOI/K9Y0U3Hc6D/znektPRDDv5jJT0O328m/HPBrQooXyD+hi3qrNuPOP5sPkL3YRai/W3Pye3Ppyr9W281Ui8rnv+szrX3ICZK/+wEV5LAU0r8Nuj48m87aPyYK01ivZNm/6JkuXhFUxz/YCz+hZMKhP591JK1dQcU/naqA8rK/2b9aFZy206XvPxUMboap77Y/hE2pEZkR2L+0vAXbdIbePyFfAOh+OuK/NBsMGANOxL/D8Kdb1g/nP83TY3pRHtG/usNQa2XjuL9TqRZ2qwniP94a3ZlDIew/fASwIxH05z8=",
          "dtype": "f8"
         }
        },
        {
         "hovertemplate": "color=Dissociative Disorders<br>x=%{x}<br>y=%{y}<br>z=%{z}<extra></extra>",
         "legendgroup": "Dissociative Disorders",
         "marker": {
          "color": "#FF97FF",
          "opacity": 0.7,
          "size": 4,
          "symbol": "circle"
         },
         "mode": "markers",
         "name": "Dissociative Disorders",
         "scene": "scene",
         "showlegend": true,
         "type": "scatter3d",
         "x": {
          "bdata": "OA+9g//R4z9BM0xd4dHvPyR23vZV5uk/1/83glJx5j8VaSH6Ri/lPxsEVhTaXOE/5FhKaw5mzj9kpxX+0ufVP8rl5FVfBuk/47Uxg19A4D+o5ktpdJnkP/H/Dz/89t8/ew86Dk1O9D/NAJsrE7XmP7s7ENUlULG/7rITUJ4F3T+QaxKnwNHVvyinTLaLu98/0goKQce9wL8W2M7YG6XgP0FHhfREJf2/5fBwc6E74j86hwYRacCvvzlmRNMUVtY/PAEKfjlR6D+ViOMnkEnIv1/4bhad1OE/yfRfFHD40D/pjQCc493iP7RATJnLn6a/M+ywA32g8D8oxQSVHjDcP0Pj2ue6POC/APjMZSW86D8tGRqDIV7UPx2bPiiSocw/b8fguIFh1T+lNpnUIJeDvw9jP2pDcec/N4jEnShaxL8HsWHBT7bpPywno8EBKvS/hVN6/LPHtj/SrKHnhM3oP7j1kjsvls6/z7eFXbJOzj/QJMb1/PjfP+synZZ049U/hoV5sEBR1j++LUdbx67lPw==",
          "dtype": "f8"
         },
         "y": {
          "bdata": "Tl/lOkZC6b9QEkMxL+TnvwzFGWT8W8k/8yCVNldslD8toa12t7vovz4eEPQIQee/zUV0xeZxzj8riMCamzbevzgWMYjTXd2/eiq07S55zj8NcgKqQizbv6mqw5Nyqu2/xpl1/BFh5j9V9FOv7P/cv8J/Mjpqh8s/NsrD8T3k4L9GgKpQrdajv93P8IlZUvK/ClHH/OKQwD9AUXM2e8OTv8RKg4y2+lc/FXeTQ2o4oD9h7VlvYrbsP5hHyGzqQd+/x3G0+k/N47/7ZBraxS/fP+ViZ0vGD+e/xmSTQ3cTxj+3DUWYGVXBv0EWOzA/b8A/KaJ7gSVB5L9O7UY32unaP7Puh5bU28g/n+myFTUA679LbF2M8iXUv6lhFwtN26e/31g3Kkcs8L8Vygx+fhngv6GFcgmPUqq/7x+c7/hZyb8J0fPXbQjlv81y6PsqyeQ/sRZLnHBqxj/fBxJoRCbVv6TPGEceqdi/IowuRo0yyb8tKMIGq0u2v1tqC7ETFtU/k9TECzmP4z8BoJFwVRa0vw==",
          "dtype": "f8"
         },
         "z": {
          "bdata": "WKHF3xjD4T+AioT+4W/WP0nLVsKMEOG/oLT/F8Eg1b+1ykrFqBTmP/pDDDsivto/33zJTc6V3b+k3mEUOxrZvwkV2zeIBdM/WLU1zTcyyr+B0iY8JyvIP8QTqs8o3Kg/5mSA6dJE8D+w8/Iov7/Zvwy9MhNy2eO/xhLgAIXj0b/Pb2zeIQjNvwogqyouYM4/FLH57ycs1b96YUNh7UK/v+qE0N4FoOI/OQGc13F0qr+od5AUW6HXv0J1+XRYotA/of4TLnNXwL815vtr50vTP2DhLbbnAug/OTnRShJh3r90D6AHTkPVv8jxWRu5auG/+mjqbB5B0j8yW3ZZa1HOvxOF6ibEI8A/fruIYRjL2j8e0NZAqojWvyI61XMs38C/Yo8+2KbMy78BMA+Nj2/Xv9tySVGGIuA/hyY60R/11b+dSj+5MAy2P2+1dt3RO9k/BXu9djmT0784u0iaJkDwP5+I7g1BTOW/IDY3ALGL0L+H7hoPkbS3vyhjZb8C19q/9qoGg4EHyD+/Lb778nLLPw==",
          "dtype": "f8"
         }
        },
        {
         "hovertemplate": "color=Depressive Disorders<br>x=%{x}<br>y=%{y}<br>z=%{z}<extra></extra>",
         "legendgroup": "Depressive Disorders",
         "marker": {
          "color": "#FECB52",
          "opacity": 0.7,
          "size": 4,
          "symbol": "circle"
         },
         "mode": "markers",
         "name": "Depressive Disorders",
         "scene": "scene",
         "showlegend": true,
         "type": "scatter3d",
         "x": {
          "bdata": "YCstbSXkzz8LiCxLXuTgv+aDdyuUKQvAmVFOCgK44T9XEblxZk/Av9T1uvXwYnm/rsrl3NBLvT8NujblCk+ZP4sMnaduUOW/JuIcHmId4b+38EZgGn74v5DdWsiUZeI/aZJbgcEaDMDOLP2WSxG0v5IUDm8VS+Y/iuvy39XP3D9OCp/QRO/hP+sJLD5ibce//JOAUgIa5T9TsDHVpKv1v3zfyLlygtg/wc2tDmAJ6L/omwuFVXbqP6hFbmk6Btm/gQY00x8D2z+cPQiAWUbgP3JzFUmtz9A/L8L3I5pBAsBW4IaA81fjv7B9Z7nq4fE/asX2/xwq0b9bhwz52y/lvzW8PYIJUuI/yoeBE+e93j/IdN2t2AfwP1RNmTEcbdY/J2B5300GuT/4s1bXW4HTP/c1GvLCfdi/PrtGaAAz2j9j7QPCOWDaP0spNG2oUPM/l+bX3GtgAsDdU4aGWJHgP8M+ZRE7MAHAni9jPR3F2z8l07JEZR7gP/DvieT/r9C/kDUjB2do7j+a0UmKr8TDP2L+Of2HpwrAl7W9wmG31T/uBKbzDFfTP5aHUiMQ780//+2lElXQCMAJdchKAKHjPz8Agkt9pLk/ssbLI6VTub9riIDQygPNPzI5isSFXNg/iXhedpUE5T/xj0uCsLbPvxGiOzYgiAnAilZdvk7hzz9e3ANgt+TKP+KO/Hj+wOk/lPJU3nPNzb/KvNrGk+0HwI0iYq05QeA/RRsd4Z5BxT8MWz3PmH/jvzlxSe0GPeq/9t80vrfAsr88z35KUJXdPzW61EaeD/M/yRlveEC0BMDKyBBRV9LoP6kF4pnFCeM/eH2OjQb+478GbtVVRBbvPxehiewGc88/9fECLd164z+gnCQWG7THPxT0khsCnN4/CkGDsVdA4T9vc7QoCF3PP0YvUejWi9k/UKTmF4Ey2j+cknGX2xzYPzhXgJVk8de/faDjlnoU8T9XsAOm1tjtP6GR+fOL+uo//dKkZM3j7z+RqJDSE2joP6FiTbb/R+Y/c+eyzPE0uz8=",
          "dtype": "f8"
         },
         "y": {
          "bdata": "RULv1YKhxz+hz6/gnuzHP525JULeCNW/LBNrWj+R4T9pDupXtWrSP5QUlM5UhPc/hna6i8NMqL+sw7JHDYPlP0764qaWJ+G/wtRln4Tn6z82blIXHpe9vziq7GXQ1OE/2B5G7m0+6L/Ne2y9/jj0P5e1T8/vyOi/TC9eZ19Y1r/R04KXqtTbv7hElUCLStM/xErMaqN/4r/oeyegPayTP4E8B3KroO2/HdT2gqx/xz9H4qlBpjvgv0hExwK3R/U/VNRFs3mOyb8Lh6yjX33tv1UIMTNSXOe/A5r2lyVK7j9KXLzya7riPyeHuJqQXfC/O6KHhipa1z8EOteSdbi8v0SudIIgCeG/8IxqLF4C4j8vnKgJPKfsv/u4lbzSpvG/ahGSL8wr4T/aszMFziLhPymK+VgmweO/r0MDA3IiDUBk/3PPeBrpv/0iESn/CvA/vdMCj0jOvL/pA3RD9rrcP6PM3ELJy+K/Iyf7gKrh5L/ij9/Ax0zjP3G1F9dqF7c/4It0EIXD2L99BLnW47vZP1Q/AZoqF+S/Atz29Jws4D9ChWjc+R1ivyPQKf5EJNe/IiO3wYXY5L8794emJ9LhvwrqtIpP0a6/FF/wVmgQyb8Klg4/6GTPP5Mc3KfnUbm/bF3AuBeC5L+I7S6uFs7hP3cCdf0N+8O/QQ2qrD5C8b/+dLM87N/nP4z+GM7b0Nq/edgNqJzq9D/VRdGTkf3mv0FUjWTY2bM/Y97rjs6b3T+Jtj39RVngv6abK4AcSuK/mKjltxvV8D985a71TOvAv1Dw3OT/J+q/ty9ixOhU478dxPQLuTDav+7BqrJXndu/DjLNfLka8j+gRe04zIbcv9XqIxgNyeA/50CWG0Cu8L9wIdZk4BjiPxH1/fXhT9C/gb3JdXGrvb+ZbIcQ4SHlPwM+Vea6Qew/EVm4SEmXwL8ZSSu41irDP/qCIBgHi9E/Tryhgbbx6L+BjKBDeMDlvwX65X1ncOa/1PjHKLXB2r+gsaX+65TTPwS1oHzAwd+/vY/d7afRvT8=",
          "dtype": "f8"
         },
         "z": {
          "bdata": "qm6cB6cg2L+mIFHw2Fflv+RraPozGaC/WnzfGcyM5T8rqd/BZYLUP5QBRJSXIdC/vwv3bgaU4b9ntjPbESrev9Ou0e7ipcI/TevgRArI6b8SQ4JSavjXP6MBp60PA9m/ek6HqsD82j+zRlWX2pTavxmcFZjck7S/bW0PqLct3r/HZescuhXRvzcH9J2LGOW/ap/S+n3c0z8Sb40HPkjxvynh4vmJ9uE/kUIxwMS4oj8lGsvYKK7hPzDtGkVuG8S/hO6fAtO+2r8eI9L54PrRP8IgQG7LZ8G/3QlhR+zfuj8tXbjFVViFv2mcKCZ2mrg/OF54OnDzzL/m/AqLfVvTP+rAyiZJRdO/bcmQ8ZVZzr+n4LoopRTfP5ciC/XjecA/lJbvARFY3r8Czc7l4NfUP1nhptkXPsU/AeHE30biCUCo3XQYS7PmP1EZlFkdlus/V5JE3uRF0D+2jlFwT+fHP4TBpfUj99U/0lhBe+Zu1b94uKEJjx/RP7qpp017KNg/YAjt0U7O3D9CazYRKfzJPxYp3OVzhNQ/ManauEFfgb/KpeJKn7XPv5kqv5Z/8Mm/P6YOKrtW2j9hcSOk6iTYPw9JISUH39S/+elsxDgWyL8K8Em1FYrhvyt/XfZVONA/S6L2tx7g2L9xkOqxDpnev8MtGtgWQt0/zurjRp4F1T8p+9Svf7q4v8bj+LCane4/EAA5I2rL6b8W9fDrSzTUP3EECXpUdsy/eoqjJWp35L95HKJSi57hPwCUAxoW1dI/iplQ0qw9379D1oD3lcPWv51gVEbOf+Q/bc0IsPwf3j8zHTtCoubPv6OveELHOtK/B2oub3bjtz8fjLqw+bmWv5ozCgxKAOK/WXXubD8R4j/Ah+yNdcbRv4A4WZBCv9+/H1zPPhWDy780/4wlHyDav9bR0CiPCbs/aIgtV3FZxr+6NdHjMn3Fv9N4KzpF9Oq/FW+uOgZhQj/WM1fbx8TSv9IWnfoDrco/Wz6PsP3EkT95oCbXpLfZv92BuRrsadK/vnZOKEXrwb8=",
          "dtype": "f8"
         }
        },
        {
         "hovertemplate": "color=Schizophrenia Spectrum and Other Psychotic Disorders<br>x=%{x}<br>y=%{y}<br>z=%{z}<extra></extra>",
         "legendgroup": "Schizophrenia Spectrum and Other Psychotic Disorders",
         "marker": {
          "color": "#636efa",
          "opacity": 0.7,
          "size": 4,
          "symbol": "circle"
         },
         "mode": "markers",
         "name": "Schizophrenia Spectrum and Other Psychotic Disorders",
         "scene": "scene",
         "showlegend": true,
         "type": "scatter3d",
         "x": {
          "bdata": "aZhNcDLuuz+t1pi22NbpP2e8ckaWFeQ/bw1zRw0o9D9B4idpxq3yP8hUM7P7F9s/EvbVi3U4xj8T8G+x1rPXP0Odjo502uc//1ICDEuq3z8nOISY1wzaPwSHMdhkOOY/aaKQnPpcwD906b8MVL7hP/DqJyTTnMY/grGu9Maqqz9dvWEbYavmP8DoLnmdzeE/R0f2eyEA7L8F5XgLa3/EP0luVeIdsP6/uhNoPqaa3j9Qsi3ReD3qP1nVYAvVxt4/N5jqmSAI0T8hQcTMQY3ZP5JNBNvt2eg/9gRHu9BE5T+p0BxvNWTKP2c6+OM/JN8/Nj0e960s2j+dBVJCHbHiP9WEVruj5uk/xU+7rcvE8r+AjfdIvT7pPwAGoclpqeE/QrTM11xPwz+k/GDrHvfRP42bXJ00L+s/z3dHlgCNw79RKhHiNS7oP8hKSQ02tNE/8PGbXTZ02D/ENPurxkDoPwpv7bNNtuE/k4W92CIz0T/a2J9P69HSP85N+icQ2OM/e01P6NgGxz8l4f03u8/cPx93l+SNpNk/VvGl8juB5T+ifaLrT5PiPxHlFyZZNNc/svR5cO708z+saqQLCUruPxCw2Fzmdd8/kUmpLkOq6T8TjeKQcuPYvx3Nuyix6+M/h4XJngFT4j9gU8JlQXPmP2VdNcggBuA/NscPOlwh8D9OflqgDPbhP6g778gsLu4/43jhXqGG3L/Uh3XpPSWZv+sbGGIT+QPAWnCq2FeDBMColca888zjPzBYH0ItZeA/cMJ5r+r87z/xB0Wx3lvkPywH4ACfsMQ/dJKArUdmwT/J3cH6I//rP6sW4kqxCwbA3fj+8BbR7D+TXIY5Mf7NP0ASgbSWq9M/7nb7GYQW5z91jb8v1ZaoP/rUzwap2PM/unsVo5birz8=",
          "dtype": "f8"
         },
         "y": {
          "bdata": "dXbppUl04b+ltANUCg/uvwsD9GkWJOI/sxCOE0ta5L8swWXBivHpv5PEAYEVIck/RMV9NXNeqL8R991CYMDnPz3P2TE70sW/eX84CX8W77/OcP/YQU3gPyfioL+l+bo/XTrJ3PFW6z9+hwfehiPBP/rQs58FReM/U/LIF171/D/w3Sp1E/TSvzrtX8SSe9i/7LWnmoXE6D8MeI8uwB/jP/O3B9tXR8m/2M/25KZH1r8jKiNE0RfQPyp2viJ1aOI/KVJqJwNiyr/R7qN5j9/IPxTL660HE94/9CCbVdiQ5b+SL9n83+PlP6BM0LYRAOq/S9rfJOHywT/1QAd8eyjWvwnRqF7t4Mw/2qWDrC/m5b/FtFeCOWXyv6UzpPbIu+U/tAtFYOke4b9Kcm3CDbHjPzTwEOizlOO/oIGwzup5x787dDhuNlPhPwZDA8cmT/I/vzrQZEoi1L/6eyxJfhPSP/vFgym9tcS/QmCD7QbQC0AkcWKKx8fjP1QFy6SgLp4/ARxLw51P3D8nwZLNk2yuvzMYyCCMEPo/HFQ8WUEoyD8hJM7SQhrmv/XzFwQO6sa/MNPpY+gXu79fNBVTNGy8v/qj1VInLto/dD2Yt12Y1z+KH4333fTaPx2CcZZCj2a/mOUamzWMsj/gN2oLP/H0P/2yw1Lj4fC/NRfnJGkD5r/rG7/V4v/BP+sGrPWH0sK/+R2MmUxt4z8kjy12YzfNP1mwma6Fas6/tfMfgRipsz+V7wWD5BXov9pg+BQD3sw/qb7kWa37zL9B51ngsmrOP78vumasle8/PIXF/YPm9T/BjxzzzQTov7RHfXhShb+/2D5dEuia1D8Z0lYVmzD6PxBpKp97G9I/26WFQDRw2T8vNUxbO+/ov6FlCENEtOu/DrdRMhTVyD8=",
          "dtype": "f8"
         },
         "z": {
          "bdata": "C7GixGGF2b8iPnne5PzjP12CxFOkqsU/jbwEChT85j+/y617KQ7fPzp4kybSH9O/DxG4i2fEuD+smwe/c2njv5p1KYP1w8k/68EF68eZyr9hkQzFLCa4v7WfG4WwdOM/nzq/0Nwc0r/Va5rJw9jhv508hkJsV+K/Wt0auvkDw79TSz5wucvIP8EZ9+c42+c/JXB/FS9Gv79Y9Gy808GzvxfvCn/0W7e/8UtSbxlPzr+Qz37JJ2noP9lL4ka2ycS/t2+LhrP11L9V9Fo4j6/kvx/ikhcE8LA/AbLXEbPJhT8LpQpPqkzJP3RFSS5G8Mo/qxkAQo+pxL+GQP9HU3+ivzff0YqWlNK/Q4sXmxF/6T/mU2yGCgLJvytuy3HbQOa/SJTxBaRB0b/9g0CR2ubZPywlWwX3EdQ/AeZsB/asor+zwd2a56XWvzW2EknvT9y/uGDbd411qL+Tmk91L7CTvyfKg0evEda/4L3MGUYMCUCpYt5HHie8v/V7oRbjT+C/M29K8unnxD/2CLJVmp3jv+SiLMz/DZO/A7Ax0niEwb/QX1Fl+uzAv88tR5VB77+/0KxACCvc8z/AcYTjC1SFP/CxcwiBCrc/S4cNhUgjy7+EuUQWRgDJv1G+Z1OTCMO/vr6lwTtpzb/tAZMzxu7gv9S1BcpoHdi/joPUH1D4rj+69hcFPhPDv7V8FjYwT4I/VuhaZ90NpT+75oB3+hTXv0JoizATEsY/cNr1IMzq1T85TVHQBADUv+ks05unB6+/PTZwWF350796bktW82eYPwApUZXqds+/ehSLJ+8S4r9fMlQ/RlvXP+E/o6wiA9E/pZm7k4Rj7T+ZvSD1SfSOvxIenU4rkNG/zwzyK9Owz78LP5wcIMDWv10KETXx8L0/oGmZJVR93L8=",
          "dtype": "f8"
         }
        },
        {
         "hovertemplate": "color=Neurocognitive Disorders<br>x=%{x}<br>y=%{y}<br>z=%{z}<extra></extra>",
         "legendgroup": "Neurocognitive Disorders",
         "marker": {
          "color": "#EF553B",
          "opacity": 0.7,
          "size": 4,
          "symbol": "circle"
         },
         "mode": "markers",
         "name": "Neurocognitive Disorders",
         "scene": "scene",
         "showlegend": true,
         "type": "scatter3d",
         "x": {
          "bdata": "bPA+Xq7J0z+X8JCuRnDaPx9gk73r+t+/p43AAb4a4D8qq3PHP2nWP2gq11gGzeQ/wdTv05GGvD+FT6/G2g7MPzRgbrkCQMI/IL0+xgD3zb91PSd6glzgP+Gv50IMedK/fivj69bo5T8mStghwMjBv8oMF6NKTdc/HQ1yrN1C37+3B3GXn5b2v4k5IlMsvuO/vK+UJAcn3D8gRrat8wHTP9Uj1ZnOtPO/lz62nBs0zj+O0N3LVVXVP/Cd2o4JMeQ/qBpQZ/Cq5j+1CZvHP8Ocv5EUurG6zt0/KqAmkMab0T/U7nV7BTHnP3GjTka6z86/QZUkUOwI0j/r/71hcT+vP8K3ju87pes/IWN5496iy7/W805qfmnbv1DBXHhGu8k/pWmqWziN4L9Opt2vNCLXPywNym0BzOk/qpkSXGL12T/0znFoTfDIvxEp4ArjztA/v02Hiqik2D9e9HftYLXNP9d89uxVIMc/saSrCIZh5z/rZQ++GvXyv5gvVgMsIgLApnUFTdif0T9i28Y7/zboP2EBb4ilhqq/o1YVG4LP4D87R6Bxed/Vv0Y5DF57VOY/DYIVnK334L9DKniEyNbnP8CAdI5juMk/usFui61s47/8wehDnMnePxy0BPzRnrg/dM/jq6vxrb99NxtRlRbOPza7vQ7c3Mi/+7wzjF1a4z/7qePnkCXXv7JHVXHyYuQ/9qdh5Hr00z/ljJJik9HTP/eUZJsYxOo/LRooUqeD4b9LnR2IfTPdP615y1q+V98/IPdTkVwO7j+8DbN/HeHAv439cmRAl94/wqQSA7sP1D/1Ug/NWROov+fHih0RJd4/HOQJGv+U1D+drysQldDeP3/slt7OsLS/+nsRtf5D3D+UkCAtWXiCv5+U/sXHkOA/62mZ5z8+xD997Evg1eznP/UpRtMGv9Y/OxWAtUnr0T8z2iVzTdXrP4WeQt3bb6Y/NVw/iJt27z+5ePvZrbyAv5zs3McUYcS/4hrok4VF4z/CD+AxJxbov3WqKjtynNI/00L2BTk/BcDQX77vTDnSPwe0aN5QTe8/VWDbx6JZ6b9/G7NEH1LGv8PV1KyNs/A/YIzetSRO4T/cBmRVEJnrP99ka32vF9g/bnE6E2Nkuz/2BoUgwNbqPytI/AAGEuU/dGuB6S0bxz8kRJXuSuXbP4BGKGelsfO/jJAjXeTd4j/+SGThEdvEv9BerFz9GO4/anGuH4xz378dMx5ETCvwP0Erno+GYN2/hrBinywUzj+ju8ViTKvRvxR4Jkj9Kd8/30+3mK6brT9R5kH5P6HUv2zbFHnJrsc/9R43CCl4yr8TASKytSvgP/BPOfrfBMO/z7namfr15z8znpdweRzZPwCUKQG/DMk/IQyUSIxE3L/t3joZp7Tsv+lv9Xv06tU/7CC2Jz5v2j+FRzv/uNfDv3Hhb4sL3de/Eep749o64z9cUR6H0Eziv6vPt+VZ4QLAE5KXEyv7rD+TwtwGWU4GwDKEMqajL/M/iaikapNF2D+lFw/+amndP9GQl7gKer8/ErdwMQxQ3L/PkHlRGIywP9UGilNUnfS/eyfMzGHP5T/OjX6JhSCbPwiqQX/N5/m/ELxZSESu3T8pUZV4ydJrvwzm+FMZGQHAGzHbM5Wqzz/n+V47majWP3YKTMRP5fA/XI5h/zkWvL/FgGLrekvgv+vNSY//dsS/PWp68DaI4T+moktGtCi4P513AZuRP+m/cxGmLCCtvz9DBz9MlSjmP67FA3VqRfW/QZE+KJxz5r8tJqhP9if2Pw==",
          "dtype": "f8"
         },
         "y": {
          "bdata": "VquuoCId5b/Appy7NpW2v2barrMgMvU/1AmB306l078ZK4KmKL3ivyNiWAE43Oi/zPEHGp2Q8D/ZJ9xP5YvrP43KX4FgpMu/j+JNg/zagz+BF4yWFrG3v+vSAbwqXcA/rSKNtvUO2z+Bo23ZYCsSQDzUJo8V9du/puiJzRvXzb9DbULf49/wP3tiV10deO0/1T04oESx2b9wAvbVKCPZvw30C8XR17w/JamYqeOt6T+0tpDjETnlv+KcisQPMuy/jpam9+Gz1r/6+XuPVwrYv0RzmVCPF88/13cYI71V5r8pibFWpTrqPwEAQXrfGNw/qYskks3wzD/pvuPJtO/DPyPT0BCLffI/AND3unGW0D8bznGIKYv2P9mesmpubOC/qLJ4bL7PxT/8hRtA+trFP2YTFX9mELi/zV70vXzJzr9kZH71EAnEv0MeLbDLgfE/g7c35MR2mD8ZrXtN3HG9P6lq89DEieS/3eq1Byujr7/MPgKdJOrHvwiQWibyPq+/v9JCShqr4T+3Jwi/2UfevxqJhRyuE+W/ohewVbxk+z+EtGkjHrqxP8zGuL9oGfY/rIeXuU5P9D9o2XQfYXd7v86l9b+YkPM/4rhIZojoo78cPoXz8yqjv6XSCYWAic8/5awCuDhLsD9wEEyo4Fjhv7/ql+U/Bvw/XX6BP2Py9z8/6rCY4ZHkP+jp2/LWca4/HQYWBS7S4T90VFMNCeflP2iUGOGnheA/fTWqAKB7wT93wmYKgR0PQGXF/2xPucc/gVe8oc+kt799ul8AzeX7Px0sElIGtfY/r/AmEaxjzj/GhWaQPH4BQI2oOCKSpNy/V1zNgpsh0z+/ojWQWKKrv/8VEqg94PE/DNSAuVYp8D8fPfSWwyX3P1SDiE31F+S/j59UPZV347+vcryiTB7pv9oz5XzUJeO/zUkd8ToL2r/hA9qnvPeWv4dasK2FGdG/FFEl64mg5r9O3SAlWwnLvznpEUcycLm/YxTDtC7g3r97axKLT8jeP7kSx/MRvLq/oO6FR6aDsL/1PL9kvkLjv1Q0besshti/C0dBSBoClT/5gV5yB8b9P7sm8xx2yMa/2htYQiz3uj+kS99FDSvhPzDHwAgZY9M/j94KNUPU2z+ltKmmfSnNv//IiPgfsuI/GEnkv+an0j83h2f09WnqP45YuyXq5eY/yO4uGGJk6L84BVt9dRXjP3IwW5bFhcS/EAfWQ+qgvj+ou4Ydm+btv8tvkT4n/fc/6XAtScqqsr9T+4/0tV7MP1n6x8ao39E/m6OCN3Pc8j+ssSa3KGr9PzRRK6JWqdi/AY6gXepDxD80oD4O1vDtv08LS4qQb+Y/H5tc5fBH77+stICvAb3AP0HkupE6q9c/2XvH0hFP0T/dP4jVO9zlPwyHR9AQnuS/ov0FbqCm9z99N4QKfm6fv06HfP0muYa/p9pBmdG4678WFvqxgXjiP1kptiHle9c/2AHj+yaCv78KJfo5PYnOv5AuGX7NRcg/UOCte8472z+DzAnT5sHxP5F9M9eYHcM/OvEp/bG/4T87ZKAUVZLVv1DyUhgkE7k/Q5DyBhJP6r8ax8LPTibWP9J9mYofMsA/pFFy37kQ3b82bCBEXhH8P0JyEonKdsW/YiRXRrR8zj/qTcDQdeTZP9DUs3TbVu+/3eL3lJ1evb8ucn7u4DjuP2/iq+4qtABAtCt94zNK8L9fH9+l8EjoP3AMpZ1VMfA/od3bojGdzD/3rNoE05Xcv/Wql36qD8g/Q2oK8LSd6D+vzJZod/3ivw==",
          "dtype": "f8"
         },
         "z": {
          "bdata": "Vj16PTdpsb8Z3mLb87ClvylVGM86LeC/qsFlSHrSy7/SpZ6lcE+1v3DgIBmge7m/Pa0Oe5rxwz/+Q2yAu/DHvzs48lXbsMm/aCEi3X474r/aF824CbbXv6gPiICMte6/1JR01kjB0T/Edq+ZMa/9P7TIbx6APJ+/epKaMVH1rT8ahOwSDMCWv3xSwlPsesM/e9HFOGid1b+sifYfX2/fv1h6XcfSs9K/v1XxebDx2L8IyXZJRXHSv+vqb8Jla4s/lUuQp9Isoz/FbWDkwjLmv07WG+s8ada/BmzRtJttzj9QeXmVmN3KP4T7Hs6ncG0/iACZp0BN2L+6Q4757/XnvzJR0Y0b1+I/9N7oplr85L9M/Jlpk1vev+/MeR60c9G/6EN/ZYX8nz+ANPQWGEfcv2h9T0Z6ZdY/BKwG7BUA4L/W4pSCac7bvxk7dRH0dcc/nkKL7oKq1L/V48HaaNbgv3upa5zV56k/2azMoN8Wxr8EU5P1bzLRv0//FalN0au/KAA5Tl01lL9uvKvL0POyv2CZsj1FGNO/kY8UUi0nub9QB2l8MGbqv7Xpxf+3V/I/DZG8dU8h6r8PyTUqB+PXPyWi2+rT0tm/SPz4xL2D3r80amGmxXDQvwTM5hHlZ+S/VBSVNbSY37/CTBBisIG6P0uIsKWxuNy/w+GgyEu70T8e6Mj4mV3Qv/9WMPMJDNi/gY498mZzwT/3SGj9zWDev/sPNLBLTJu/yaEb9LPm279hOdEF6UINQDw3JTC4Tr6/O1jdqxVc5z9hD8TX+qGfv79As/jTpNW/rtTAMB5X2D8p65sdzbbEv46aT8i/h76/peC1S6iotj/EqLztIOizvzo1J7HTjN0/Xpx5Pf8r5z/c021wePjov29qF1cajnE/xogdcFde0b+BqZEphwzHvzhu06+UKcK/oIH8/hh217+dKZH09U6pv4fFyKI/Zd8/8eqwn0r7xD9wxF1QH+Pev4wyvRRi550/JA23xRShwb9xu7TiaDCyP6tdDl7EvM+/gJCi0tYlzT/a4TF7xk/bP9Pc1uSF2tM/ZZsvJPYtur/niDmBue/gv7MSHnSrxnO/8fNFezwm4r/45RVvpl/vP8mNqLnwUNC/lRI0wnbw5b8bwWKxbg67P7M962ms0r6/xJkJMgHvwL+vuliHOTv4P5p7qbs4tdG/jVMBt1j0yL8mXLMtDP3kv6RnvB1PRqa/YkxAM1+arj9w558l1HSeP7N+IYoBxeG/JInLhyr/wz/ZUq4Xz5/TP2gPE8kOFcu/xcphLOHmwr/qdwT6GIPev9xIXrX2drq/b7nBwr2k4b+mnOQWDdbJPxgMmcN0X+W/7KMeW1wXsj/WlMPL0djFv8Acay8G97+/yayquLzd2L8SqymjYZbCv95X2P4HTMa/G8o7W28z9z+S5jzyohbbv+mp0Xfr2Oa/bPs8gv751b9rlCs8BmLQv0wfd8Wq1Na/LSbl+Bdjwb8tVtEYdNSzv1k2pDj/JOc/wq0t6UGb2T/eRcGvsge+P+8OlmMEINy/FzElQG3Y6L9sE27W2gPhv52ptkdi07i/yKlFzH8w0b/ziEZ7BIbhv1IWDtXHkMQ/ENrlBBYjjb9RnSQx9ozOvzJBP7N7s8Q/BClbniup4L/2HIQIsEHCv9ALzVy33Y0/6lSSOzJd0j83TWBoks3SPw39y1WQVti/rGnjQ9AL3j88dJ5cv0vmv22IeLqzjr4/tegyfCo94L8Joy8c2yTLv8Wt/ETvbr6/hetdZIOsyL/ygEobekTsPw==",
          "dtype": "f8"
         }
        },
        {
         "hovertemplate": "color=Disruptive, Impulse-Control, and Conduct Disorders<br>x=%{x}<br>y=%{y}<br>z=%{z}<extra></extra>",
         "legendgroup": "Disruptive, Impulse-Control, and Conduct Disorders",
         "marker": {
          "color": "#00cc96",
          "opacity": 0.7,
          "size": 4,
          "symbol": "circle"
         },
         "mode": "markers",
         "name": "Disruptive, Impulse-Control, and Conduct Disorders",
         "scene": "scene",
         "showlegend": true,
         "type": "scatter3d",
         "x": {
          "bdata": "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",
          "dtype": "f8"
         },
         "y": {
          "bdata": "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",
          "dtype": "f8"
         },
         "z": {
          "bdata": "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",
          "dtype": "f8"
         }
        },
        {
         "hovertemplate": "color=Paraphilic Disorders<br>x=%{x}<br>y=%{y}<br>z=%{z}<extra></extra>",
         "legendgroup": "Paraphilic Disorders",
         "marker": {
          "color": "#ab63fa",
          "opacity": 0.7,
          "size": 4,
          "symbol": "circle"
         },
         "mode": "markers",
         "name": "Paraphilic Disorders",
         "scene": "scene",
         "showlegend": true,
         "type": "scatter3d",
         "x": {
          "bdata": "cUd4lVwA4z9ooLOjgBu4v2NbQAl8b+K/nxeNSX184D/N3dh60ITOP9RnUYUbXOY/ZgYlnmtq4z/1SnE5z4LjP/clvXJThd8/bxwi00MUvr/hGEze2gjhPyMFmAcJ2uk/sa2zqx5u4j9UHVd65rfRP6jdKlC8LPO/TwnDGuuV5z9NA0opLLHNv5TmcDSTjOE/F4aT4vDh4D+zhLIpqm3ZvwfQrEOhw9c/Yg0pCP4N3z/TccV5qUrhvy2R5VJyocW/223qaSVq4j8q/j3+YKrJvzljJNTTTb0/nKqKu21Y6D8jt6bPE1rRv9JOa5bGMOE/nj13brGR1r/Bn+dCyObvP+kZb7qw+u0/GmFI/+MW0z91EndZrmnWP2w6WVRz19a/N3oAAEPh6D+jt09mplfjPwG+eCitfeU/3m7gbGVU5T94r0aVW4/gv90bXwCiAb4/QdkWTj1Z2j8qmaaA+G7Kv8kXXlhTGOo/B8Wtr+4zur80C/q84gWOP74pNKGEUuy/tmVOyyaE5j+Fq+0LZXHrP4AfmhMNAeS/Vk38mPxF0T+g+WfWypTQv+qkJNtOpOo/zmRvAYxqzz8=",
          "dtype": "f8"
         },
         "y": {
          "bdata": "oZ7EKKtk1r9iBk2teSDfP4iWFWIE/vA/ZR4rupKJyz8pcf/+PcagP5Q1GDB+rrk/UZx1/t4Cw78rF36FvH68PxgrGxNnoNY/Un1+93kN9z+bLahCy4Tnv1XlouEgt+y/JV6lwIXr1r8tc4vzIsPEvx4sFk5nTvI/CRd0MjYZ5796T5b6XqrPPzyWaK9fxfE/k6TGPdzs5j8JABRy8xHSP+8pWuBw59M/S3KpTV323z8Eq1eLAKXeP4uz8SPeeaA/5rHghT+43L8gYTgCTmy1P1lvwNfOyt2/aq++eTGFib+wJc3cUPbuP3ZmG3JY4cO/z58AK0EI5D8J3OigZCjbv7aWI5JF34i/DqaJFIue4L9AfUIxHQ7tP3VemT33bdc/ULUTq/AtzD9KaUwib3jhv/OPM6nXMuS/eRImOZUqx78Obw9cUgzkP2ANKoi+asu/rId3JKtM0r9Rhz24/jLmPya7f80WweA/4c6gXWJA7L8cGfsSG1LSP5hdRxl+S/E/Qby0+vxM4b8ItLsjUuXfvxOo7uy08fA/d8tb0PTnvj+/EmixA6vcP/gmnjia1d+/5bSOrqmZ4D8=",
          "dtype": "f8"
         },
         "z": {
          "bdata": "EqqpI8jf4T8FDL+BKMTkv6cW/2yAsOq/Q5n/KR6Ytb+JkJGBWCDJv4q0Rr9xYdQ/QFWyu/+sxr+kXHX8zcTUP1fekFqb6+C/nhdGEv9y678O1zO6VWfpPw8C//Pw3OA/8EuRn7+52z+uT1fy2XvVvxLeWp91B68/bfoimrbR1D82jowvGOnYv5O1yTBiUdW/OV5bxWNlxT9WaU/GRx7ZP62pGrf/StC/GpM1Zslowb8CIU4arfDKv+ILrWiXkuG/ryaEnM6W3D+lgKEEJDHevzuSCIyPC9S/ORo7yV1Hz78arlbO/0TAP22zYM4IcqM/TsQwmttEsD8LsCKIkFzYP9e/e7QW3Mw/K2vf/wdPxb+ZkAdEdGDTv1vIrT2Xq2M/ahHDUkZhrr+A0HcetLPbP2TIdY6dOdc/mTOKopOC1D9Hv0DgsIXUv3pM/4WzPsK/xmFTh1dAwz+5WL2gKAvjv61xedxMWeY/qZOlXMwnmr+LsH/CjYPgv8jNAuPevdq/f1swng4P1T+I0LEWUw/bPyK452iMd8i/osluI1rg1b9riQGZ3uDov/9kjDsbor4/5p+zKhwL578=",
          "dtype": "f8"
         }
        },
        {
         "hovertemplate": "color=Breathing-Related Sleep Disorders<br>x=%{x}<br>y=%{y}<br>z=%{z}<extra></extra>",
         "legendgroup": "Breathing-Related Sleep Disorders",
         "marker": {
          "color": "#FFA15A",
          "opacity": 0.7,
          "size": 4,
          "symbol": "circle"
         },
         "mode": "markers",
         "name": "Breathing-Related Sleep Disorders",
         "scene": "scene",
         "showlegend": true,
         "type": "scatter3d",
         "x": {
          "bdata": "KMDPhQuO4D+NhE7rcI21P4hPTopRM8K/zXHq0DAc1z9hR6zyiu7CP0mJ16it6NE/aumByxmkxD9NN9315JPOPzCzPqElUuG/P1GnVBBU7b+YXN9O2ArNv5fwdxTdzr8/7V6au2xZzb/Awvt5DyO0v3vl6JWyhs2/tqfZA2uJ0z+bqWYL/KreP4uOO1ifzOA/abfTNkFu6T+SuWLmmlbHP7S1Ds4aANu/DVCDo/wT5T+PSNHVe0TFPwejFpURZqq/bmTrwKv+wr9VGMfbK8DiP4BpZ2W6fuY/GBTIu9Rd5r8NHwTu08vsv4AB5uSmzse/fW5DiTOr+L+nmlCvrL3sv6l7Ersgub0/4SYsYBfc2T9qwh2QBeffvzDlRioxOLo/0UKpB9YD4b+MrjUhHQntv/Wi0h/OqJI/lPsBsgoexb9t+Jlkp5Dqv1IWCsS7ncA/1tQn/qfx4j/eQxrwH0DVPwfTZxqmE7Q/7rtLUWE75T8DXW3dv5HbP4SIedCVkeC/+JRyQ7IVtT/HJmWJzGbOv0nYJETPf9U/bijWTabF5j9DQB50U0jEv9Gro4HZvuU/Q1TftEpP4j8=",
          "dtype": "f8"
         },
         "y": {
          "bdata": "su7emzHK4b896qcpWhmiP02FAnogP+w/tJ6wlinU6L9w3it7VZzxP5CbFcdg1d4//EL+lVAcuj90SVZDmmbQP6Yw3T8bb+4/shE3E3Fm+T/p5L1tUA3YPz3BbfEYcdA/g+qM5eOJyj+nKPNgZQHfv0F6EpJOIPA/kOFl14KY0L+O/OpTOpp3v+b0Vln1PpS/zL4gO6TQdr9DB09gzXflv3D86DtU1NA/mhUYZC3J3b+Mnn2zHNfjP064AVsmf9i/9lhD/HfKyr8aJSg8R3njvzaaf9bUksI/8SwKIaVs3j+Klj1NagXyPzX+1qpituY/O/gcfX6T6D/LKLwdawrSP11q0tZonNW/CfXM/A+l3L8bZKW18xvdPx5oy4Lea9C/nzOi/GOw1T+RHaKmYs3aPwvY/PpoatE/j4424K8m9T9uB/VR+j/gP+1120zLBOE/OSEfZGNXlb8d5g4yY4akP/OUnCWU3ug/zjpu+Awe2L95i27G2HWev6a4NYScA98/0u9J10xpoD+pZqX0HG+mP7gKuZAmDeC/pzlmelgK4j8/BKhVz5OhPw+iz7w0Z9w/xp5gP9BOZL8=",
          "dtype": "f8"
         },
         "z": {
          "bdata": "VC7ITE5MtL8iVbjLvoHiv8oBdqrdUdW/pMZ+ZaGAzr92s+OqwqTTv6l8o4HpMN2/i6WEkgvB479b5DZl88rLv3W6mgw7S9q/S6M3DS+A1L9yZo/UeOrpv147Papt0OC/dD5n03iDs793Rkma6Pvfv8zeGrRmsue/nlPm8hS2wb9FjCk2SBCeP9Z7NSZbltK/GA09Xg8Fwr8nGYdgTGTev9U5NM324ui/sm6DlpAArb9YpjF44cznvy/rV/ZkGNC/mm8PsC3K4r+HW+CLjQPKv7ahxaHjKsq/VrWtQjZiy7/FgwfUnuTxv0EfczuvZOy/ks14tOAy2r/XNrO04FG/v86ucZ2WGti/+Fi4xC2v27/YkHhcr9HBvxpn5b1lddy/CShGuaWU3r/bxtMm+8DSvy2C+9ykJsu/eekjKyHH2r+00UPpoaXmvy59jNoqDuK/96InbXp9zL+ZcZfsCrTWv0iy8j7MvOW/EmQnS6IQi7+zaPCVxYzNv+ZLRAnV2+G/cWUp/9Ft37/9o53jESTjvyt3BgLHsL6/y19HwR/pqr9RAnk9a43iv4jnYIUX3a2/l0WlpghF1b8=",
          "dtype": "f8"
         }
        },
        {
         "hovertemplate": "color=Feeding and Eating Disorders<br>x=%{x}<br>y=%{y}<br>z=%{z}<extra></extra>",
         "legendgroup": "Feeding and Eating Disorders",
         "marker": {
          "color": "#19d3f3",
          "opacity": 0.7,
          "size": 4,
          "symbol": "circle"
         },
         "mode": "markers",
         "name": "Feeding and Eating Disorders",
         "scene": "scene",
         "showlegend": true,
         "type": "scatter3d",
         "x": {
          "bdata": "aJZH9OKV4T/sRz85Z4kHwNZg9Ee83fC/wVecBIxW1T+8fPWH6gfqP13vJ0b79ADAsbBzCKpu4T9LIeTCjlquv3Y0M0vvNK8/IHGG7zHPwD+kdYOutf/fP545x2X+XNY/EfRmtwkl4T840ZqEFXLDPwsV3HBDvte//+ZwRCVHyT/T6hSSG6Szv0w6WP11mfK/UzVD7iQT4L+tzHf7nGLnP0sVOZszYNg/aamgwkiewD9BSDPq2dHeP5y9jHCa1eA/BZxTSE0+4D99m9rSV/PRvxnp1y5DRMs/80649p0957+7iC02EZrfPzlWEUdAj+u/ciTFjk7G27+22LLvza/yv89DzrBox7s/YSHMqRoBrj990RErV7nRP6v/fSNEftE/w2WoVjud5D99zdEL3f/jP0ckX590ttK/7jw/AVrH4r94T5zXtTLYv/89yNOrGeU/22ZHzxkbyj90FXwKis/TP275Mza37OE/IN3uLAvq37+BccZZP0PePxSeEbKSYco/JWHJVCOGwT+BMU6QKTDiP6iBmB908Ng/2mnpNp550r9yBZIFGjfIP0ua3oeUc7I/MoqIyAuC6D+xvuftTw/bP0T07yGXBdk/34dk2OIT2b9+OrjHienUP94og7yy5OY/IXi2V0ZDwz834kQKg3L1v/Tm+ixWHOA/FugDiDJa1T/mtW35pGirv0i0Gkyuyro/GfH77jRxqz9sBbMe4mfVvw==",
          "dtype": "f8"
         },
         "y": {
          "bdata": "o8X1WKJK8r9TKJIp9xfjvyYZVLWCcek/Abuw97KD3b+mtD/pSomWP35ufb8eduK/TTmeOSvv4r9kDMOYIRqevx9fGHfuh+M/8+s09ZzKkD/hB1rqfWPkv05HxL5vlNe/8RrlfZgGzb8TG/9aVrvJPyC/+TUU7cc/Lk72AlRTzj80+uXTl1PkPzsFbOJlFNe/P1BQw/m+3L94w7IZMsTNv1zSQ9Vt/uO/HagZrSmtyr8EulSkSRTjv35XCXvpAuS/jfrXvCNF57+oBlkPhaTyP6JQwA7VCta/5fTi44YU8D/DTrOuKkLwP5v2GNf7Es4/5y+YPIPw7D9IQ1WVvG+zP2T4t8u19ci/NoYGU5LQ6z+IeN7btB2vvwFAeziAw8I/k34dIkF6yj+XnIt7fLrkvyr70fQspPc/LM3pEAiE3j9uSnyiJpOWPzf7OhirNfK/P4G0P7cb1j9yMHjQDknTv6P1otAW8uq/LDEv8Fp4tD+vcj3d0BHpv1cHttcoyqC/ibxAJuaG3j8CcZXc88PRv6hHmPnzna+/jxxHEnn96D80iNTT7L/aPyY0Q0lFDro/IEVZyrUptL/yTgeTRpPnvzu3yrgp9PM/bu/aHnMp4D8NzlzoK0Hhv9yFsaV4b+y/sG5A4lU75r9OSqFCFLTiP6cUu0aL/vC/IRQF8VCvsz8bH8g2CIjWPyd1iZ4k2de/Vy3O+0Nh8b81mqdteL/RPw==",
          "dtype": "f8"
         },
         "z": {
          "bdata": "8wRKEvG63z/8JzSPOKfbPx+DXUasqcS/TywXBeG32L8qCbBHgneuP93ZN158Scw/5PUBflxE0D9uC1mLk2/hv6bU5OzfcN2/AsFqmgFN5L9oATlT6dOtv/wgNR3289S/5ECZLlSsy79H4QQqxm7Lv4Wa63RAkKC/B7jeuSMA0L9jk8gnZsjDP9EDx6+8ldg/BGhY3jLf0z8PgmWwIfXwP/SaA8/kq9g/oGgPpRjcz7/gx3ut6KrZP/4vChNBzcS/MgZs4zDHv7+7WslinEHYv84+RoVKE9i/qelNpali5r9HGmyzwPCVP/oqYXY6ZOm/pfu5jHts6r+Y1EgUMlbXPwqWX0emF5a/VpMIM5Y57L8/Hez+eJ/gv+xqTPfb0Ny/6VoigknL5r+ccpIlEeLIP3EadfHjr+i/QmJfl6DF679L5GX/8K2jv0ecJBRIK90/WqXjDrbP5L+btP9Bqw3RvyOw8ducfL+/LrjqIzk75r8CAlXL3tXSvyAueNT71ea/FZG5RSPc0b9u7raB2tzHv+hcwtIOJdM/sPlW3dJB27/VtXzU71HJv1Oi0aCeduK/h/JMuw0rvL84HOHX95bgv0OcaQRC7qC/1i1XtXDK2b9c2GPoVlniv0HLvA67glG/ic8JsSUfvL8yXhLdalaavx5tG9PK56k/HtvitocEyj+4S53ZzzLkv6h7ltX9eck/ALsYdXUipT/zs5Hyqmjnvw==",
          "dtype": "f8"
         }
        },
        {
         "hovertemplate": "color=Somatic Symptom and Related Disorders<br>x=%{x}<br>y=%{y}<br>z=%{z}<extra></extra>",
         "legendgroup": "Somatic Symptom and Related Disorders",
         "marker": {
          "color": "#FF6692",
          "opacity": 0.7,
          "size": 4,
          "symbol": "circle"
         },
         "mode": "markers",
         "name": "Somatic Symptom and Related Disorders",
         "scene": "scene",
         "showlegend": true,
         "type": "scatter3d",
         "x": {
          "bdata": "e00iuhbJ1z9Fh3VqSZDKvx3Gpa8ur+E/PHHyABJc6D9qHxtbEpTgv6zDbe81JuA/jRnJlt926T8cwKiRaIvQv8ymH3Zz4eY/iucKj0m74j+JHgaAVLTlv2E29Cr6o9E/ypBa7MFg6b9+EQZBNjDgPzR+05aMftA/T47EGAuDzT+BjWNf5irgv+5GmxAvV+k/vd/d9bj0xz+ZuXA3XVjTP/WYKqMxJvA/WRaUNFB6wD+ktwdGoi2+P0HG8kQ1ktA/C2SwJ3qiAMCS3JmjVw66Pwi8O0kVzfW/TJbmV4zB6D+J0qUh1QXhP43VWoRDseO/TqVYbNyN2T/TsAwQcfPaP12E4Ut5acQ/NiyKGl/dt78MYLQN1E3lv5W2YyZIfvE/ap4Qo530+r/pHuexT5W5v+vUNPSUteE/r4LIpFEf+r/2B3QQi6jhP8VerjlincG/TnfCH0AN1z/+iJIUYtyjPxnniRaOubo/CyKK/nDL4z/Zisbkoc2vPxcihxsz8uc/TD6zQfMF0z+KKkk4GVSuvxjr7oCyoLw/44KzyyIW1j/mdlRIPHm0PxGkSK1iM/+/",
          "dtype": "f8"
         },
         "y": {
          "bdata": "Ty/e+ahhdL/23uzK1NG7P5J61iIIq+G/2trpyPJd679TZlRPqy7MPyONMPOB4Kg/dedK/tN35b9eSC0QvvPbP2/cxJS9EvC/Fdm9Zz+Hz79CAwWutG/XP7Qbyh5hZcQ/peKnlrh86j8xS3C0LXjkP7IIjeuTkcq/bR3qXoat2D+ZuPmfB+LqvwmOLWCc9so/Ob1tyn3s079ov2FkHtrVPz7jjXLvEOO/8L0f5dJMzT+dVY6ee8biPwTsLRZJiOk/Z1K8/EmHuD9wu3utvLDaP9QI8rhMM9Q/1V+UiFut078xxvaBf83uvyd8EtP28vI/ZQyadYlz5796gt8qGRrsv2xWR5FzXM2/z7NY0zrkuj8LOAF7gBbhP/+UFxqVh+e/imLPxwI91D9AakkJtry0P5y6UMaEr8w/dl/SjL45qr9ae3gHmDLuv6fqXSfo9Ni/xaQQ2WQO2795OLAkHC3dP5y2wXQNHdY/FVRnKiHexD8Dio4kNjiwPymwJxXvt+m/g9y8BChn2z+h3TExEuvlv8NJn5IGua4/ODT2KETBy7/OvoByCYmtvw+vx4qZX+A/",
          "dtype": "f8"
         },
         "z": {
          "bdata": "7jYW1cwB3783/8/Krwjov02eyhWfyMu/fHVAoD3Fl78zZ44mcTPpv3RlkCWrZpU/71M+/csL1T+IYGjdqfruv/bubf1dR6G/0dKbykbEhz8xsz4W4zmRP/QkWYWyhWk/bQ7AEXZ50j8kxkJSIr7cP9Yhnizrdc+/OBhecNNG1r+MANxooWXEv9kh0npvj9+/YKSCwaTR179XZiXFb1rTv6TF/xmSctI/P5HKO0CC2L8yKceYXxbDP0mDAkZBx7c/MOyemwPt0T/GRKPxUo+6v0ANZDtsu9W/5K0u7U/72r/6XmGmg4DLvxDr/98JGe2/d1eIVIAgnb9YAs5rS2+xP4IfyoOcV7S/tGXq8t533L8kfWJHBAHpv/XD8dK1Cek/8O3CaFE0wj8EDa8FwanNv/+CD8LHmdq/JJEk6jFvrj+dmR4HwRjMP7etq9btWda/Begmv8wF4b88cYoQeEfMP7XTAByjUOK/aNf4xPTn3b+2w8HjEFXav/or7aUEleM/sxdVsKFhpb+5cAytlqPSP15J+wFzWOO/wRXB9a200L+M5UPUZQrSP7lpx0hRGb+/",
          "dtype": "f8"
         }
        },
        {
         "hovertemplate": "color=Sleep-Wake Disorders<br>x=%{x}<br>y=%{y}<br>z=%{z}<extra></extra>",
         "legendgroup": "Sleep-Wake Disorders",
         "marker": {
          "color": "#B6E880",
          "opacity": 0.7,
          "size": 4,
          "symbol": "circle"
         },
         "mode": "markers",
         "name": "Sleep-Wake Disorders",
         "scene": "scene",
         "showlegend": true,
         "type": "scatter3d",
         "x": {
          "bdata": "0T4NfuBQAcDj9bJnjULMvzDHSoVKTMI/BNPpgs6o2L81i0Sop0/TP0pf8EN4fOA/u3zDCbaV4z+hv0P/ggT5v0SWPIBmiJ8/oD9RlPYJ1T8i5LfsaKG1v26/3Zb90+i/nku0HQrl079G/aOQBATev9vsaW+wgtY/1HNptgWp1b9kh0Zxlwm3P9RsudA+FMK/wRaoFVyCx7+OmCKEHKOPv24wDk8sYqi/09qcm8i60T/ix0E/k2njP9i4nc02Quc/mXJDKfeP3D+7riGfW2HBvzKHZ89HMdc/Ai0VdiN26b/r+4tY+pIBwEV8ms2Ss9U/ZvtGBhqlxT/+mw6NwlvFP6Z+QCBc8Oc/DF6mZCPp5r+gVIeQ1vq2vydLKcP55bw/aNYOmf/I4T8oq5ljPqjNvzDUs+M6Wq8/DogYgJSr2j8au3C121HBPydZtJIEnd0/7vdz0DhO7b/GZyaiVd3iP7gUInomSeU/iJzxLezbw78SvBb3QB/eP042t5ZetP2/QhbKKTsPnb9gU9y103m9v7NNciMCfbW/f+KkpLDZ4T9ogqrXG7XOv47qBfg0Bbu/32Q0YIQM1T+gMv+xZyTAP/H0xzcRJdk/OQisp1oU5z/guInH2L++Pw==",
          "dtype": "f8"
         },
         "y": {
          "bdata": "H8BuIXrdrb+Yhq4g4Ryzv45qX6ZH+cM/ibYT0pnlwr/2zPhrXqDQv9VLgDpf3cI/X5/1nRr6778ld1avE3nTv+BhvOQzQbS/aO3SvowY6L9Lw5BuAUDmvxcMVmyCXcg/RYaDedQ90z8imsG1+U6Qv/zqvW/uw8O/EgLnN4871z9NyvmNWhvzv4I6Ew/Z0eW/x4dxq6Xk1b/7YklsJ2bkP4pWXWnMg+e/oQly5v1g6r874tgGxvDsvyWID+a++eC/u/b+lMbG8b/hAljLqNvPP/uDUaqjsOi/6ssPDdz74j/Q8SkQ0ovKv6s/dlZrcea/Pu+Hdzqp2z/JYUOs+f/iv+kw8lr7IMM/sYcRRhtY/j9jo8ESBNflP0szIpXp7M6/BAucnyfNnb+cOBUsUKaKP8GGGIpLK3+/2pUscmEA17+atmQdbOvwP5EPfXRLEdG/IQE+u4u/xT/5W1FhY0zgv1H/JnNjO96/uRSFFwhd3j8oiuR/ekzuv02yyZVFhMO/EEFLR3bN1b8meEvi9eXGvwP1X45GYt0/D4x0gL8k3L9UqiZOP77Kv05BiqjZApg/lTmNr1Jbyr/NBSrSmnLmv5pJV+tkkdm/4WBKNZq85r/FukmY+6TYvw==",
          "dtype": "f8"
         },
         "z": {
          "bdata": "Sia6xldW5D/+HQuDXRXfvzKgd9zp092/vXtYHZS96b83CdecTZjMP8DemIbOgcu/2CSSqYPhpD+y3G6oqOWxP9zQ2yhgOue/5Fkeeneao7+V75+kpAjOvzZUjUXw9ua/pqcH5Ed/3r/4AU/pjdzov5p4F04fPru/VfLP1kiXwb+JV4d9l+/OvzTzrgplz9q/E9oz3PDI4b+HTHG6yJOTP3610fOgmdi/gOCDGj8awL8r7VGbTzrGP5Pl7pkziLa/NCR8LGC72D/5LWf0PEPmv0Yi+L/AztO/i/W2DNAG6r+iBA65vn/TP1t/iRRZq9c/9lQyPJny2r+ZmzLdPs/Jv4ni1XHNj8S/SS3SrCpz5r+Y+J0KRNfdv6FAkjcgrMO/QGcuN/DC1b+jWdtWeJOov6bxbmdHQ8m/3EX3Kb84yT+X06qti3vgP3eOOjpT+46/2IuDV9+F6L/gnkZGRwvVv1Nu75mO89o/3CMav6Gc1L+jXS7ztSrUv8auvxZcxtY/t9Cszdwn179UCQMeGurfv/3tCqiUXui/mJrjlbsgwb/NxZMk11nYv7dzliZjWeO/y2ReYLcaqL+W9fLCnkXHv3VfyFA4htA/uyI7hRjDxD8BCMRwNGunPw==",
          "dtype": "f8"
         }
        },
        {
         "hovertemplate": "color=Elimination Disorders<br>x=%{x}<br>y=%{y}<br>z=%{z}<extra></extra>",
         "legendgroup": "Elimination Disorders",
         "marker": {
          "color": "#FF97FF",
          "opacity": 0.7,
          "size": 4,
          "symbol": "circle"
         },
         "mode": "markers",
         "name": "Elimination Disorders",
         "scene": "scene",
         "showlegend": true,
         "type": "scatter3d",
         "x": {
          "bdata": "qTxrkNGkuD+xzHXCfL/UP2PPa7y0uN2/ESkDTix10T9b/vPV9/foPylQ/kchmM6/ezqxUugQ2z/ymwfjDsm6Pz+SUUW629E/zBWuZ0v82j//C0LRZUfTP4D1eWszJeA/I4KG3ZRp478rCIRi/DayPzy/6JR0+Mw/CN5A/wM8yb/uxm60fSa5vw==",
          "dtype": "f8"
         },
         "y": {
          "bdata": "2lSiFvfV478LK7xUMu/iv1GPaztw+J6/MHroW9XUxL9prdqJ2aPwP9cVx0jyh8q/Rwy5op7I5T+5glQ37FfGP8Rfxq3fG8G/FHQJyxRS6j92xVPbGgDZP616lvohqs4/NTuynP9tpb/tgHITYJbYP7F8Evm1G7i/Ruak9jQ37T97Ai56owXkvw==",
          "dtype": "f8"
         },
         "z": {
          "bdata": "gqUnOpcE1T9ZGhnqa2PiP+LvAOt3udI/YKkTilb3mz/JOHDz6aPnP4A1OjmYGOC/tqdI3Gz0zD8vYfdOfm7CvxcPLFeI2au/z4vXP7xq4D8Udjcf3SLXv+9VG23fEpY/QHtEB1LtvD8OLrKkZBLDv/TXJ+i4+dS/UGtE8FuE2L8nc7n4zi7cvw==",
          "dtype": "f8"
         }
        },
        {
         "hovertemplate": "color=Gender Dysphoria<br>x=%{x}<br>y=%{y}<br>z=%{z}<extra></extra>",
         "legendgroup": "Gender Dysphoria",
         "marker": {
          "color": "#FECB52",
          "opacity": 0.7,
          "size": 4,
          "symbol": "circle"
         },
         "mode": "markers",
         "name": "Gender Dysphoria",
         "scene": "scene",
         "showlegend": true,
         "type": "scatter3d",
         "x": {
          "bdata": "MoHFORq+wz8IpAkb0nmxvxtFn6hB+ew/1unDS5Ub1T+dYG+m3G7gP3CfSKtrAQnA6KBXeeMg2D+lnbuIokPoP2d+fvaAFcM/aaM88JMR2T8uX9bie6foP/aqDBqGDvI/9H3ckeLJBcBk2viTxz8GwDUlepQuxeU/iq1lc/5f4T/MIjZX/mrOv0lh6UwkW+M/aQzexNJitL8Y0rZpRp/sP2Jm4xsSFME/ZRj1ogamqL9LA3ZDZYffv8PfXyRKFa8/OjiPcwGAxD80jAV8oSHLv+OSHriLo9Y/",
          "dtype": "f8"
         },
         "y": {
          "bdata": "xEasvysu0L8BKy7ab4vmv2JxTkmurse/R4tPiusQ8L8qGN9E78rwv6HbS9sCrM6/eYA7SMDgub/It7sDAczlvyjShWfiZP4/gM7JuDAu8r8CKtOYn+7jP2HecAVKhu0/93tJ5OZR3b9L5xDhd4HZv6cZMs6GCdO/pJZxyFkdtr/8i8XgJX3Uv71NahbqMPC/kR/OyZePu79/FtqekrDxv+A+BJlVH+u/pkBqJ5ygy78W6oJ6dcbYP48ZSKWyctM/RIIiq6eO47/8dksv1SLlP7t5AwEEuLO/",
          "dtype": "f8"
         },
         "z": {
          "bdata": "Mxfepjfa1r95FXRrwXvKv5z07wtStNa/eD5fKw5H2r8Cg5VTAFasP1XgnGv6N+E/jDxvuMwKyD92I04WcizJv6+vSoSxOdq/VhzJDiCu2T/M5K9WcYLLv8fYkTMRaeY/ECBSsxM43z9pa5dP/+TcP7C3A/zkPdG/cKHyRtyv0b/YJ/drdWezv/aBwjkumNw/k1i6cWogxD9u0/lJ/Hu3v1aG1nysTsU/MwzzCN4s278TmZkQ7CXqv8M+xbXqYea/G/zoxjrP0b9lKj+F+KzNv9j8NPjOdNq/",
          "dtype": "f8"
         }
        },
        {
         "hovertemplate": "color=Cluster B Personality Disorders<br>x=%{x}<br>y=%{y}<br>z=%{z}<extra></extra>",
         "legendgroup": "Cluster B Personality Disorders",
         "marker": {
          "color": "#636efa",
          "opacity": 0.7,
          "size": 4,
          "symbol": "circle"
         },
         "mode": "markers",
         "name": "Cluster B Personality Disorders",
         "scene": "scene",
         "showlegend": true,
         "type": "scatter3d",
         "x": {
          "bdata": "PjS8secJDMCt0tx4MvKtP/m6XDqSS+U/R2Wh8W+K0z9uvNrky4kHwG3+OdzIYOU/HnJ+GGYF5T/kZfmoQkzAP2Wve43v8eU/4HM98hkP3z/cbNXob63RP0ti/v8DEZg/7sp3vP0tCMAoTRxOuKvYPwDfTwwPZNA/WI+7yyJY6L/hjLfDgSndP2Xt1nSsVdY/uftQT6ykwr8S9xbm/ZENwK1dMgzf4PA/5JC1SAbr3j98HdU5/+HjPwaYJR6Rh+Y/ZYTKHVuz079k9SfOz7PPvyya1+RPm+Y/TnErsJQg5T9XGT+QtdPYP+E0WBXtPKE/D4HVNVkm6D/xAY6UskzSP3qPcPFLC9m/0vYvnfRd1j9zqe9CerZRP+AFZEzMYc0/VYln6AM14D/HKRq0m6zwP+ouXVJs8Nm/1QeYgqrH5L9CMrIqw9nUPw==",
          "dtype": "f8"
         },
         "y": {
          "bdata": "wL+OlOJZ67+gpF/5FSXOv5UkLMZ1lLG/2h3ASG578r8B7K6WHdjsv1aw6vEDvMG/07gkKr5C8r98Ld1dv/3iv/+bBKk2JPO/Pu7w5uv55L/rXpqGRTXZvwCy/mRhHsY/ikE8W2Ys4r+gqBhVizruv3VdyiijN/C/riIEh9J97b8EuL7rYhH1v9zYBnagzeC/XAp8enPd5T9v9CIyVwngv5d0iLCDWO2/Uot9IlNA4r85m4HymvSrv9n0Pr6qdri/f8o8LYmP179phi73xtOjvw/y0ZZzJMC/XdggeGlYzz9Uhxg+r/3UP73JLp6Hz+K/vGfS9sa+tr/6iHVdfxzyv9lOPwyAUvA/vM+KKYc/wD+l2xtUA/e7PybiNdRbmfC/ln3O+t0p8L9Veswj8ufgvwLlvQgKS+C/K3kHioC0079MahZ4ZZnOvw==",
          "dtype": "f8"
         },
         "z": {
          "bdata": "hKP5A9yT2z8y1QuIIfrXv6EKmNg/zNC/oQXp2tE80z82FGNqbAfLP7+PiWfGGMY/aN3OFc3C3D/GlwTkLyOwv7o8Hn5hgdM/cIYj3U89ur83RCHVJBbQPy1im6yxq96/hPvDh7sA2T/QII8pHQTTPz/W2hewcts/rBPa0YAD0D90JCIhapnhP1Xyoek6PMy/MD9uCknZ57/Hh9EIi//gP+YZ5a2jt8M/yxxWQJ200b8MWPiQ8yzhv2DP2wPOf9W/Ayab0TKa2L/ypKTaVR/cv2ZR2Wgt4sY/DAhoYqEj4L9XcOgalXDfv1Oh073OtZi/6ltgDlyQzL/ZAd5DYlTZP0t4f8vp8/K/9gWIIo/z1L8jhF0FeOzlv2mePDynfNI/cUHpQ6eQlb+9SX/jRpDPv7xPoYDU29o/lWsPOcdvxb+C9f1WWrbbvw==",
          "dtype": "f8"
         }
        },
        {
         "hovertemplate": "color=Cluster C Personalit Disorders y<br>x=%{x}<br>y=%{y}<br>z=%{z}<extra></extra>",
         "legendgroup": "Cluster C Personalit Disorders y",
         "marker": {
          "color": "#EF553B",
          "opacity": 0.7,
          "size": 4,
          "symbol": "circle"
         },
         "mode": "markers",
         "name": "Cluster C Personalit Disorders y",
         "scene": "scene",
         "showlegend": true,
         "type": "scatter3d",
         "x": {
          "bdata": "vDNvDR/D1D8CmI2outFoP/Dcwjs5cOO/+KFEApy52D9u8ecUSRflP+Cfhx1Niuo//OLCDdPivj8J1hiiP33gP9GIfPLv8fq/zkucisvx278v5ETppj/cP535x4xUdQnAT1uhdXqOpD+/OohGdOHkP0+osi+w1e4/ayotmBZ1xz8lsjP16r7FP4ovPxjrVQLAxWMHQNjHBcDag2HSqVjcPz0Bie/xesE/5I8Pik2G3z9OohRdeLPPP6gVUVFmluU/VVZiN3O6+b/2j3H2VJvUP8Fli3TpY3O/b98Qf42N2z8=",
          "dtype": "f8"
         },
         "y": {
          "bdata": "vXCcQqk0479d0fcZXSrdP67srmWVO9i/GryZ95bI8L92o98Z/YeWv9ghYuA+t+S/1qJU9znH4b/E3w+yw1Dzv6Bh5RjqQuK/kf88Qdqs7b8Qi+BINCHPv5MkOijlW+2/J4daPq3xwr/kszgIej/Qv7zJB5kqS/O/Z9okP9QC8b/ulIXLDfPxv9+eMjfzLPC/BWtPy0l+7b/bSS8tQFD1v0kkKmCIUPS/8MVya9slx79tE/BXN5bwv+/B1AhRHPW/ZB6dXN8q0r9IPRTCrxXkv7eRWbf0M9E/yV35nF+Z3j8=",
          "dtype": "f8"
         },
         "z": {
          "bdata": "q/Tu65X61T/4PWNC1Vzpv0WwP+KPf+G/jYbQR5+J3T8KnY+3UGXTv+UF503fU6m/XCjMfNd42L/Kd883GAXcP68febuyw8s/ygG9pK8KwT8nu91wdjXSv12Zm8J9e+M/qruGQgwx5L9wdmxV8iPGv1mtXZkH/es/w6rokewk4D9z4+an61rdPw97arpkjt4/AbrbNUr73D8IMf4sWR7gP0thVUhylLU/6PsxHiRk3780328ZQBWwP7IehJCFCeI/TeHZuVfEtr9B6/pkM2Xdv/YIdqEbiN6/rFhWoY+Fzb8=",
          "dtype": "f8"
         }
        },
        {
         "hovertemplate": "color=Medication-Induced Movement Disorders and Other Adverse Effects of Medication<br>x=%{x}<br>y=%{y}<br>z=%{z}<extra></extra>",
         "legendgroup": "Medication-Induced Movement Disorders and Other Adverse Effects of Medication",
         "marker": {
          "color": "#00cc96",
          "opacity": 0.7,
          "size": 4,
          "symbol": "circle"
         },
         "mode": "markers",
         "name": "Medication-Induced Movement Disorders and Other Adverse Effects of Medication",
         "scene": "scene",
         "showlegend": true,
         "type": "scatter3d",
         "x": {
          "bdata": "Uv9ZbKyi4T+UF3wkbcjsP2ky8ULy2+Q/aAdsP9wK2D8ZrgbJtjTnP1MZx2GptO4/h1lZ3TGfqD/6GwIX5K7xP8tY+VHR5uM/Xa0/1yLY4T+bwl9tJfjrP2MkDVBWreM/E7WnnGjb3T/aIbeDUernP13BNlNrQew/HIZ1MOUqyT9ErRqSLa3rP3jRuW7fLus/iG7H+FOLzD8Nq8EU07rpP4DhLVDn+eE/3wSXy+JO8D/DhwfcWWDzP/dInb7WFuY/osZK0W0r6z91Tu6y8eHjP1VLo4YpHdY/BcVMg+8J1T8zb4cwoifdP//wDI4a0tg/d6frq4ai5D9w/5uDnpbTPzDqliAiOda/E5VJo3MN4D9n9JYIfWbkPw==",
          "dtype": "f8"
         },
         "y": {
          "bdata": "D2Du5zRD8L+jzS+1Qr7hv5R+rjYXdO+/Y+2YNK0p47/USolFz5jnv331TKXPxZc/jUY0bN8vw7/9RY1hNwXRv3ZDNvOinOi/uTvj6TROyb9+wAlCEB/jv5XeEvtS5tG/Lw5Ij4c4y78s/mVeOUvqv3owNI4v5ce/i8ejmGbr478OrdzOpePpv095fMI0bra/nBQMPdMerb8kwOKnovTWvzOFvPAfMrc/Q3/rp58H479EFq6Vlcnhv9Lh/9YRruK/Fet0+oXKwr/zQFkc7r0DQEm/zOvzY8u/GkHA6ULk578tI0O/0Z3kv0dTcLRher8/8xS+oA6YzD/ZR6+33mLvvxq4Oyfjr9i/6Z3PQ/E03b+Ol6tON/buvw==",
          "dtype": "f8"
         },
         "z": {
          "bdata": "bihNnk47nz8iuqfRcZnEPw3BfFY2Pbg/pgHfkYOcvj+ihOpXeIbGP9uneDszK/w/gAcYDl6Hzr/qPEts3pvtP6ZRsrvp49E/e1xdqfZP0z+duplPnNbZP8fdWr9podM/USGnF3SOmz9Brfyt75PfPyJx9KOIdOY/pnsq2lU+wL8/JezcQuC/P7h3Q0eml7o/PpI+n/ux4L84uu4pHSfUP84rNZvF4+A/gfj3TdnO3z/G5+BRe9fvP6/rZTUW784/aTYNgkbk1z9prsFc14XgPzILGfI7sMY/+dmCg31/zj82/2FptxXHv8B7IEetlIA/uVvrUd4t4j8hkMi/2Xmkv9hKvDQKJuc/laHhiNEqxz+BHuP2ivyvPw==",
          "dtype": "f8"
         }
        },
        {
         "hovertemplate": "color=Parasomnias<br>x=%{x}<br>y=%{y}<br>z=%{z}<extra></extra>",
         "legendgroup": "Parasomnias",
         "marker": {
          "color": "#ab63fa",
          "opacity": 0.7,
          "size": 4,
          "symbol": "circle"
         },
         "mode": "markers",
         "name": "Parasomnias",
         "scene": "scene",
         "showlegend": true,
         "type": "scatter3d",
         "x": {
          "bdata": "+5KygBotuT9O+X6B5n3qP4Xf2pyruuQ/h7bDjwVq4r8UGxrASefSP8dorgjOIeS/upUZZTIb1L/lV3k5tw/Jv7PG76/HuPa/EaEzyJO/1D866qvV937rvypTqQ4hiLC/W8LfJHdb57+IkYZow07DP4crpPoCJdU/Bc/OSsds4D9htumOL0Lvv2P/D0xoTeO/ICB+3vlRxr8zdx5CftvmP7a+1vN/1L6/wk00UUQe8L88aVba8HriP0W0UoOFYPG/LDaZBLvEwr8FyDIZQcTcP6Ngu5fWa+O/eZurMyV09r/FXKJkg7vRPx8MLFnoarM/aCcAHv4U17+9hIK/+ZzHv3+xoxSkesK/B4hiFrfhyb/VgZbUqsLMP79fUUGWeN0/2+nDMiFw57/tjTQVxarYPyC3xfzQ78c/pSRrU9PO3j8qkXWWOCipP8UKDG7s3sk/22TcClnP4j80lSbBAD7LP27BXtoSNqA/bgIxRi7Utb/PXt1DdUjIP5hX8Ymam7I/FTxBawCysz/L1owJ5sfaP6cdyXw3IQHA9y0VGSsq8T/2Vf2n8efJP2wMEGe22cA/XE34lTqP0j+pLFLpYXvlv6+NizHEwdK/zLwaq/0vyz+4TmUwLBjXP8IZKEvFA8E/B7LzTR772b9U/ZWG6FbOv6VSxe/o5bq/V07x9voO3z8=",
          "dtype": "f8"
         },
         "y": {
          "bdata": "xsoVHAFgyD+y/n6oEH/2P54SWQMvBeE/K2dmTarR2j/gUWjYz33ZvyS/oERZ3Lm/Td7byzKNyr8Vy2KQYC/eP28tbL2nHs4/t+LQIjh74j8S13mZmh3QPyeTz697I+K/1Xsel3Ei4j+sTUZCsJ/TPy6qjRou5d2/s+t0834W4b9xNs6JWEbxPxNMG58Pwrc/ekhDOhTP2z/Z3Q/Knw/hvwP8V9hNXfs/3V0TKcVh3T//RPQKjQy/vyopzKga38G/Mrl2Nudo4b9hWqTRoVjrP/KXL9bzl9S/k3jWpeLl1T/SqEynY1Gpv3gb//bM7tE/BR50XvEo2D8GrD3XbCqlv6S5mFog7+m/jaEnxUK32j8kNZ/VezrSv14XOwYxDMG/kUvbZiuP8z9gjFSJrubQP/zxHZxaI7A/5Xh9luv44D/c1pqnWJW2v0L6IbCsPui/DBz8CG9Duz83RhFBupnRv2y5FKv/oOK/He6cb8+h07+JaAXUAw/QPwGrRVVrAtU/JxzQO89t1L+6L9kJFcfnP6zH1S3VGs+/bL6TgHdI2j9WazNw0W/lv7YysZaBzqY/i+HIqrGX0z9XGfvtLJICQJ/UhYx8u5q/O6tORemZ8T+MM5mD1o6xv+OpDiz3ztY/LiFOp8obz78/ltGpLRbFP/CfGfzjcdc/C956IjzD1j8=",
          "dtype": "f8"
         },
         "z": {
          "bdata": "bG2uUT4t1z+uzvkoJg/kP2bbNeuTydo/Sv2yi+egyb/bMM+DI1zcv/mo3OvDAt6/4lL4qQvE7L+IbOeK0lrrv5LAfmi0Z8U/heLgNBEs8D88mO8JxLHJP7T9RSy0GOe/UBOiVsrJ67+rZxoDHOjZv/YkN6eEQtS/uMwdSjsRzT/+CCAR8TzEP6MHVtFgd+W/2EVpKUCD4r+U5h9aY87RP1uxIaXawLy/ahUe9cSl6b+qj8RAnn+8P77Sy/O4Bbo/DwN+dKSE2r9y8PhLuVXSP+gefP0YTdg/pCAJxeDKxr8zbzTmnkbTP3lh+0EaHKm/CG8jqGpK2r+HwZihcxzev0xOM1sm1Ww/hf+BRMge5r/A6lYNyWdzP3HxxeEGFNa/19hHtyEqp7+ltSbo91Pgv5UHLNgHPs+/GE8hC9M81L/qE1fpUVbKvzHBaOBam8G/RtA4V4KEv7/tBmbASK2HP/jFtL1reNM/XOQoG1Sh0L/ephPzHP7Wvx7Me/jIxOC/E99ZDI8pyb/V92zZ3cjhvzp/5Jt1HOA/DXWyR2D26z9lU5atXjC3P/0iF/xDm+G/ufqpYAnNvb/xcUBqjh7nv5sR8H6v/OS/vhyky+u28T/KAhjnkrLCv3rAOSlmUuC/TwP6DD8R4r86HqLVEjnlvwlpwV275uS/1vl9FnYilL8=",
          "dtype": "f8"
         }
        },
        {
         "hovertemplate": "color=Cluster A Personality Disorders<br>x=%{x}<br>y=%{y}<br>z=%{z}<extra></extra>",
         "legendgroup": "Cluster A Personality Disorders",
         "marker": {
          "color": "#FFA15A",
          "opacity": 0.7,
          "size": 4,
          "symbol": "circle"
         },
         "mode": "markers",
         "name": "Cluster A Personality Disorders",
         "scene": "scene",
         "showlegend": true,
         "type": "scatter3d",
         "x": {
          "bdata": "37Q6T2wSCsBjh01iJ2OwP3fE06eRqwnASDDf+Gf3AcDjR2gla0TcP0PSsECKfO8/93lo+R492z+Dl0b0WC/tP+Kf9+uGmbK//eoL2sab1T/AxqZaXTLev+QahBLJ3/u/lHKtUswQBMBzi8/xIivWP1LpjJlxntM/IQukbEnf4j9yMEPPsKvjPy9jK6p6BNs/ozkmVPAzpD/p/OVixV3dP964VFRp5aM/H8IQptmVzj883Te8UcrxP8jPz4/e2tc/0il3zIqi2D8=",
          "dtype": "f8"
         },
         "y": {
          "bdata": "zwkcRVzA5b916sp2jR7nP+YsMDS2SOG/7URz8ueO6r/f8XdQeVPZP3X+EfVZ8PC/+cZduh6j1j/RQWXVZca8Pz0HRa+J3NY/u70uVijQ8D9EAP+3A57sP0q+bqgcCd+/eI6hGvM507992NsCGKPZvw/rOS2PMea/rkqGwtQ50L90DezNNonxv4vadTS1X+a/nBzUTCya6L/XszR9jj3yv1Tx/gWMsuq/I9AB90p9xr9pYpQ7k7zov0MuwjaMrN4/UTTOFC0jtT8=",
          "dtype": "f8"
         },
         "z": {
          "bdata": "13lLFwF71j/3h5JigSnrv0X1IMpTrec/sLCC0AhY1j9Lr7NP2SXiv4yD2ZpoMKY/7I8uOGuy0L9SbkNkJx/gv5+piNrJNOa/AqPrf8p65r8md+6zG1Dsv0316PetIro//2MTLyDpvj9YnFqMeSnHP4MNzKYpq5S/mU5ID/E32b9ePgPH7+fbP4gkk3yVNq8/xsJ+96at1z+/yHjt/ojlP+PHLQBNgeQ/5l1PEQHG4L+0+1po7mqVP4OnI/DvdOS/zBdkTy894r8=",
          "dtype": "f8"
         }
        },
        {
         "hovertemplate": "color=Motor Disorders<br>x=%{x}<br>y=%{y}<br>z=%{z}<extra></extra>",
         "legendgroup": "Motor Disorders",
         "marker": {
          "color": "#19d3f3",
          "opacity": 0.7,
          "size": 4,
          "symbol": "circle"
         },
         "mode": "markers",
         "name": "Motor Disorders",
         "scene": "scene",
         "showlegend": true,
         "type": "scatter3d",
         "x": {
          "bdata": "ENHezZs/4L90oZrL6pLcPzEDUAt5i+a/N4ozFbUewD8trNxCMozXP7S8iph+2N8/YJ4z8jtroj8/WEDJlmPrP5aeYAFGvs4/lIvdAXXj8D9Hbz9Z4dG2v3CQMEOrwuE/477sdCIT77+ne3KjwRnYP4X+mXfXpvi/gAw3HloU1D9imzN1sDnQP0e0NEbGcd4/8/fC3VyD679+SymQA33Sv2XvYytqd30/Fad/sHsmwT9Ynd8XLnHbPz8oT2TpU9C///0CFJsYyb9lF6zi1ETTP6YpdXdugcU/h65XI/w+6z+xvMbtw7Tdv/87l9vwRNg/JMNjnkuFkr/oaIn+hTjhv3lEp3otz8k/",
          "dtype": "f8"
         },
         "y": {
          "bdata": "HgEXIiddgr/LMoxd8dPuvyigw/0ZGuU/ghOdvEcf1j9uKyf1Vdrwvy9EE3PMPeO/qKO0opfphz8khvApjgTVP9ExLl9xz9+/HX8GLgbo2z8CMNx3+n/BP9rc/Mpkp+u/TVhXWNux6j94vuz9Z6vlvxSDpzQGKsY/zpt5bLmNw7/mptzy6YbWv6CKvh8qMOK/SEHLOo6o7z+yFELrUN7aPzMBOk3Mt64/WWB3lro+qj+AvG9IU6/Tv1EAb25+UKM/Su5I3dn5rj/lTCTi1sTVP0E6D504wrk/0hQnNQ+3578ilqEMEdfRP+HEgNX/j9M/aB30QmW10b+4afm7vkPIP9KrCMcLMMq/",
          "dtype": "f8"
         },
         "z": {
          "bdata": "wDyDnosR6r9lnrlscaPIPw4aCPKz58I/RzELrtwq5r/pt/+xneHSPwTTh2Wmj7g/T0n8jVi75b+Vk5o2E/qtv35h15RR4tW/WroKD6uP6D8Lf+HOp9HPv5hKG3BZwKs/6pCesp+c179KsOhK4V+TP6frayTEpqm/pYLZJwvigz+2zV5VRdXXv2+IOZiqPqm/IU/rqSveyb+VOQu56Hjbvzr2bKn3FdG/cMqziDOS37+VTA/4T/TSv9drCTne1uy/gReYxucB5b+y8+P0zpfiv8xb2o+VAtG/RiaW6rHq0T+KBMpa3Nvgv5LR9y0z5rk/8GmATbL41L9VK9pbK9Tsv1xNMXMrDNa/",
          "dtype": "f8"
         }
        },
        {
         "hovertemplate": "color=Other Personality Disorders<br>x=%{x}<br>y=%{y}<br>z=%{z}<extra></extra>",
         "legendgroup": "Other Personality Disorders",
         "marker": {
          "color": "#FF6692",
          "opacity": 0.7,
          "size": 4,
          "symbol": "circle"
         },
         "mode": "markers",
         "name": "Other Personality Disorders",
         "scene": "scene",
         "showlegend": true,
         "type": "scatter3d",
         "x": {
          "bdata": "Kvvxhwml8D9sjg/PSUeqv0iL0o3etJ+/+mRVOaw+nT+kiFs6BGXdPxO3YjRkBMw/taRKfN6j578=",
          "dtype": "f8"
         },
         "y": {
          "bdata": "bLEBYQBM6j98DDYfbiHRP/pn3g1B7uw/8H757LlZ4j+BfEC+tKq+v0Mnf9Imqt4/IuptQXBy6D8=",
          "dtype": "f8"
         },
         "z": {
          "bdata": "RGY5W2PR5T+8idAbMmjcv8uqNSDjosO/M5j/Aq+r0L8y98tXmnbDPxo4azqCLNO/Kyp9La9i1b8=",
          "dtype": "f8"
         }
        },
        {
         "hovertemplate": "color=Intellectual Developmental Disorders<br>x=%{x}<br>y=%{y}<br>z=%{z}<extra></extra>",
         "legendgroup": "Intellectual Developmental Disorders",
         "marker": {
          "color": "#B6E880",
          "opacity": 0.7,
          "size": 4,
          "symbol": "circle"
         },
         "mode": "markers",
         "name": "Intellectual Developmental Disorders",
         "scene": "scene",
         "showlegend": true,
         "type": "scatter3d",
         "x": {
          "bdata": "V2p5FK1C4z/tgTdZGl3UP3kt2m2H5d4/o/MEJZsTwz8FlSkvP+nnvwle9w/wbeI/xC3JBuhXyD8eiMsB6GPaP0A+KhL5MdA/q/LokMlDvz92YuFhSTHYP+nSNyH42OY/BlJWDrci179H7iZq6xurP7IcnPJCyNo/B9xnAVoB4D8=",
          "dtype": "f8"
         },
         "y": {
          "bdata": "cT7xl1tl5b9uaJlgsyfMv3QoBfz5U+u/3pl0t9gLxz/TtkxcCNDLP4LQPy9ip+q//2XCa6Es8r9hF0scPqfTP/cCFjQotvO/zgd9+NRQ4b/s0RrUWNjkv3T72886fu6/wtSwEWjXFUCurtaigUXXP/BfFAVzZOC/kEmEYyyivT8=",
          "dtype": "f8"
         },
         "z": {
          "bdata": "AHktuy0Lnr8H/ay+qaLsv3ZB1JwRqco/6g/jpqn9t7/xacy9zMzMv4N3rtmUaa8/kUgDLzGhub/pHA9FUuK9v7YBpqdeWdG/AnyM7l9Xxr/9oXhqwg3bv3ouWjTEc8Q/rLLIA7Oa3798/TAjTkDmv6qkupm2ote/Co4sSuT0x78=",
          "dtype": "f8"
         }
        },
        {
         "hovertemplate": "color=Attention-Deficit/Hyperactivity Disorder<br>x=%{x}<br>y=%{y}<br>z=%{z}<extra></extra>",
         "legendgroup": "Attention-Deficit/Hyperactivity Disorder",
         "marker": {
          "color": "#FF97FF",
          "opacity": 0.7,
          "size": 4,
          "symbol": "circle"
         },
         "mode": "markers",
         "name": "Attention-Deficit/Hyperactivity Disorder",
         "scene": "scene",
         "showlegend": true,
         "type": "scatter3d",
         "x": {
          "bdata": "mIlyDFqwsz8oTXWkwrrhPx81zrqkYADAmxW/zXA28T80ECuNPYTBvwuTOpgGQta/6O1ZKcJ287+x4wXlTm3yP7dgh3UBqNY/iCSCB3Sj8z/hH9ADukHWP8W5BMHTeNY/8c4UkU6F1L+LrjsvmxPhv1/hg4lcYgLAUU5tjpa+0D8UT0CvioawP0Vn8GMtM8m/wKqUEC8osz8Qqu/1L7rZvw1c6xKUB+q/2+4z0UamzD8=",
          "dtype": "f8"
         },
         "y": {
          "bdata": "El4UEiULuT9gtnvxwzjdv/nTrHDquOO/t6hD4c3c0b93co63ISrKv4MqXKtkici/kcc7xQ4Pur8nYljBPCvev9e//iHYXLW/xskkmj+j1T9Cqp2CZG7wvxHLMVnXu7U/mGit/uhN0D/XnrK13miyP8o70s2qnua/INygzaEY/T/idFOy1i7hP64GYnzfZJQ/5Z9wEKT96b+m1SVoFkTNP9gSQo/2LNU/OLu6AbDijL8=",
          "dtype": "f8"
         },
         "z": {
          "bdata": "u+x1OxfN1D8zcThsrNPdP5AT2jMtRNo/RBh9XVXcqz95t8h7PwPnv7c/uVX4Heu/RYTd4V/j2z+DCFyxasbTv91f5or7I9+/2+TMBT5c4z/zXuTTyRfYv8fHtbi3I92/nFlN+c+j57+1a1mIcNvrv7o5zBsVMuE/hoHITDQR2L/6nfcNIg3jv1aFmPtDKOm/kh4IxsDLuL83Ox1bGWfsv1CePHvo8+a/Y2xulDxP1b8=",
          "dtype": "f8"
         }
        },
        {
         "hovertemplate": "color=Personality Disorders<br>x=%{x}<br>y=%{y}<br>z=%{z}<extra></extra>",
         "legendgroup": "Personality Disorders",
         "marker": {
          "color": "#FECB52",
          "opacity": 0.7,
          "size": 4,
          "symbol": "circle"
         },
         "mode": "markers",
         "name": "Personality Disorders",
         "scene": "scene",
         "showlegend": true,
         "type": "scatter3d",
         "x": {
          "bdata": "7jI1GSAJ5D88WayuKWUDwF3OkwGkf7m/segM4WNOxj+5xHnapljpPwruk0TMlO8/xJBWRw41tT8RavltiZjoP0AzPEAw68I/ZbhJZMRF1D9dBWkpQSDkPw==",
          "dtype": "f8"
         },
         "y": {
          "bdata": "63x6/R++1z+GXYWSWs3rv3mC4eCCm+A/YG07KXgF1r8jA0JABW/ov88JpKZBTO+/cAnoSRxmx78ZhPRT6wbsv+Zv4R59/+e/LPnwSIyjwT+fIyYzvzfpvw==",
          "dtype": "f8"
         },
         "z": {
          "bdata": "vgPFMBkix78822dKfu/dP1S0BJzH3de/6Pp5AfSxur/EluIXupyYP+1DeR90Utc/f4pILlFexr84JFarCZ3MP+SK4BLlJNO/pqaLMNKW2r90HcItmGfmPw==",
          "dtype": "f8"
         }
        },
        {
         "hovertemplate": "color=Communication Disorders<br>x=%{x}<br>y=%{y}<br>z=%{z}<extra></extra>",
         "legendgroup": "Communication Disorders",
         "marker": {
          "color": "#636efa",
          "opacity": 0.7,
          "size": 4,
          "symbol": "circle"
         },
         "mode": "markers",
         "name": "Communication Disorders",
         "scene": "scene",
         "showlegend": true,
         "type": "scatter3d",
         "x": {
          "bdata": "nj/dkgVO2r97d8KGoC3CP1iMIU5mWdE/AMPEttNLxL+FGzfzOEvav9NydUlZ3eC/6mI6htTE2r8/c+eGS/DkP79+nj5j5+Q/bmAR6QNF0T86cAgZhVUEwC8pjrsUDtg/JjQLnzev5z+wIIW6LAPgP90DNv2vQr0/kw0R4I3O6b+80Sj5nWXgvzIjSBSgP80/CwRAf/Ay1L+6pFskrQjdv615usVkJAzA3oWciciT+r8=",
          "dtype": "f8"
         },
         "y": {
          "bdata": "YVzYQ0g84L8twCB3DMvQv/lP31clgL4/6UNltsQ+1r8IGEQzhJ/QPygB9U7hPeM/Hqn5kGpH5T+7CRQ3yHu7P9b+vrioeeC/wdlrOC9S5D9Z5wEw6tPZv16e4KV9ROC//oDdid+m/T/HRRi1MijTv/g9ttBf48g/CFF42qWw1T8zcyBOi3nhP7l/W9KkcsU/ZG+evdUq3j+3V7J22wX9P/z6ngu1dd+/a66Q5AuWw78=",
          "dtype": "f8"
         },
         "z": {
          "bdata": "Z+9TfykYuT/R0frzzFXfvwbes489St6/Tg1LAWaF3b87sqidlqLfvxPBiWmq5u2/ZwXuIX8o47/tU9MlvjvBP3/n1IQUGte/w/D8Wxp5rD/0L4FlWTvaP7Fe+aZk7eO/fv2dAm5L0r8VuhH/dx2svzzGNKTOkNi/gIsCOdan179BNxHR9nbvv25ZYjAJyOe/dqO6aNAw7r8gBmP/Odnwv3hdp9eKjNU/SWtkZzhbm78=",
          "dtype": "f8"
         }
        },
        {
         "hovertemplate": "color=Catatonia<br>x=%{x}<br>y=%{y}<br>z=%{z}<extra></extra>",
         "legendgroup": "Catatonia",
         "marker": {
          "color": "#EF553B",
          "opacity": 0.7,
          "size": 4,
          "symbol": "circle"
         },
         "mode": "markers",
         "name": "Catatonia",
         "scene": "scene",
         "showlegend": true,
         "type": "scatter3d",
         "x": {
          "bdata": "bP82EFpC4z/Wy1SqdlXzPx82db9UXwrAj2xgCznNC8AeonppxlkIwJRtSpMqhfe/2FMDR+JFD8DhNDYPKFbVP8nVx05Krvq/RrOWTSnDzD8=",
          "dtype": "f8"
         },
         "y": {
          "bdata": "xIaOZ45x4D+w/64oS4O3v/XfUoE7meG/OXLNGGt72L8/f8tr1dDjv9W12qkrpOA/IkSvU5uk07/XyCMbPoHpP5wOavXPf52/Rdy71/Ou5b8=",
          "dtype": "f8"
         },
         "z": {
          "bdata": "QVCUdKF6vb8++JXlz+LZP3OE6LRVa9w/0c7kAPjL6j/2pT6UhGnrP3Hp9enj6cQ/wgnkVUCc3D8LIz13do6hvzBEgqfWCOM/NMKvUyM6uT8=",
          "dtype": "f8"
         }
        },
        {
         "hovertemplate": "color=Other Mental Disorders and Additional Codes<br>x=%{x}<br>y=%{y}<br>z=%{z}<extra></extra>",
         "legendgroup": "Other Mental Disorders and Additional Codes",
         "marker": {
          "color": "#00cc96",
          "opacity": 0.7,
          "size": 4,
          "symbol": "circle"
         },
         "mode": "markers",
         "name": "Other Mental Disorders and Additional Codes",
         "scene": "scene",
         "showlegend": true,
         "type": "scatter3d",
         "x": {
          "bdata": "A6U2ZkO/8D+/nzVlMjXgP5Uqq/EUCuA/90eMqUCr7z8=",
          "dtype": "f8"
         },
         "y": {
          "bdata": "jk/p9nM8pL/iUynCxiXUP+51SNo86NI/Dx/vUlZT3D8=",
          "dtype": "f8"
         },
         "z": {
          "bdata": "qzhnVlPu8z9PIDG1Lr7iPyNeyj4Xn+A/GccwohMz8T8=",
          "dtype": "f8"
         }
        },
        {
         "hovertemplate": "color=Other Neurodevelo mental Disorders p<br>x=%{x}<br>y=%{y}<br>z=%{z}<extra></extra>",
         "legendgroup": "Other Neurodevelo mental Disorders p",
         "marker": {
          "color": "#ab63fa",
          "opacity": 0.7,
          "size": 4,
          "symbol": "circle"
         },
         "mode": "markers",
         "name": "Other Neurodevelo mental Disorders p",
         "scene": "scene",
         "showlegend": true,
         "type": "scatter3d",
         "x": {
          "bdata": "c/TKXbWP8j/PmFzpL/HUvw==",
          "dtype": "f8"
         },
         "y": {
          "bdata": "J4nwHRWV+D+0cfBEE/7SPw==",
          "dtype": "f8"
         },
         "z": {
          "bdata": "mSpl8cAY1T/Pa3YUZ0HNPw==",
          "dtype": "f8"
         }
        },
        {
         "hovertemplate": "color=Additional Codes<br>x=%{x}<br>y=%{y}<br>z=%{z}<extra></extra>",
         "legendgroup": "Additional Codes",
         "marker": {
          "color": "#FFA15A",
          "opacity": 0.7,
          "size": 4,
          "symbol": "circle"
         },
         "mode": "markers",
         "name": "Additional Codes",
         "scene": "scene",
         "showlegend": true,
         "type": "scatter3d",
         "x": {
          "bdata": "t3T8hynu2z8=",
          "dtype": "f8"
         },
         "y": {
          "bdata": "UIjMtSJ36D8=",
          "dtype": "f8"
         },
         "z": {
          "bdata": "9+GGFPne6j8=",
          "dtype": "f8"
         }
        }
       ],
       "layout": {
        "height": 800,
        "legend": {
         "title": {
          "text": "color"
         },
         "tracegroupgap": 0
        },
        "scene": {
         "domain": {
          "x": [
           0,
           1
          ],
          "y": [
           0,
           1
          ]
         },
         "xaxis": {
          "title": {
           "text": "x"
          }
         },
         "yaxis": {
          "title": {
           "text": "y"
          }
         },
         "zaxis": {
          "title": {
           "text": "z"
          }
         }
        },
        "template": {
         "data": {
          "bar": [
           {
            "error_x": {
             "color": "#2a3f5f"
            },
            "error_y": {
             "color": "#2a3f5f"
            },
            "marker": {
             "line": {
              "color": "#E5ECF6",
              "width": 0.5
             },
             "pattern": {
              "fillmode": "overlay",
              "size": 10,
              "solidity": 0.2
             }
            },
            "type": "bar"
           }
          ],
          "barpolar": [
           {
            "marker": {
             "line": {
              "color": "#E5ECF6",
              "width": 0.5
             },
             "pattern": {
              "fillmode": "overlay",
              "size": 10,
              "solidity": 0.2
             }
            },
            "type": "barpolar"
           }
          ],
          "carpet": [
           {
            "aaxis": {
             "endlinecolor": "#2a3f5f",
             "gridcolor": "white",
             "linecolor": "white",
             "minorgridcolor": "white",
             "startlinecolor": "#2a3f5f"
            },
            "baxis": {
             "endlinecolor": "#2a3f5f",
             "gridcolor": "white",
             "linecolor": "white",
             "minorgridcolor": "white",
             "startlinecolor": "#2a3f5f"
            },
            "type": "carpet"
           }
          ],
          "choropleth": [
           {
            "colorbar": {
             "outlinewidth": 0,
             "ticks": ""
            },
            "type": "choropleth"
           }
          ],
          "contour": [
           {
            "colorbar": {
             "outlinewidth": 0,
             "ticks": ""
            },
            "colorscale": [
             [
              0,
              "#0d0887"
             ],
             [
              0.1111111111111111,
              "#46039f"
             ],
             [
              0.2222222222222222,
              "#7201a8"
             ],
             [
              0.3333333333333333,
              "#9c179e"
             ],
             [
              0.4444444444444444,
              "#bd3786"
             ],
             [
              0.5555555555555556,
              "#d8576b"
             ],
             [
              0.6666666666666666,
              "#ed7953"
             ],
             [
              0.7777777777777778,
              "#fb9f3a"
             ],
             [
              0.8888888888888888,
              "#fdca26"
             ],
             [
              1,
              "#f0f921"
             ]
            ],
            "type": "contour"
           }
          ],
          "contourcarpet": [
           {
            "colorbar": {
             "outlinewidth": 0,
             "ticks": ""
            },
            "type": "contourcarpet"
           }
          ],
          "heatmap": [
           {
            "colorbar": {
             "outlinewidth": 0,
             "ticks": ""
            },
            "colorscale": [
             [
              0,
              "#0d0887"
             ],
             [
              0.1111111111111111,
              "#46039f"
             ],
             [
              0.2222222222222222,
              "#7201a8"
             ],
             [
              0.3333333333333333,
              "#9c179e"
             ],
             [
              0.4444444444444444,
              "#bd3786"
             ],
             [
              0.5555555555555556,
              "#d8576b"
             ],
             [
              0.6666666666666666,
              "#ed7953"
             ],
             [
              0.7777777777777778,
              "#fb9f3a"
             ],
             [
              0.8888888888888888,
              "#fdca26"
             ],
             [
              1,
              "#f0f921"
             ]
            ],
            "type": "heatmap"
           }
          ],
          "histogram": [
           {
            "marker": {
             "pattern": {
              "fillmode": "overlay",
              "size": 10,
              "solidity": 0.2
             }
            },
            "type": "histogram"
           }
          ],
          "histogram2d": [
           {
            "colorbar": {
             "outlinewidth": 0,
             "ticks": ""
            },
            "colorscale": [
             [
              0,
              "#0d0887"
             ],
             [
              0.1111111111111111,
              "#46039f"
             ],
             [
              0.2222222222222222,
              "#7201a8"
             ],
             [
              0.3333333333333333,
              "#9c179e"
             ],
             [
              0.4444444444444444,
              "#bd3786"
             ],
             [
              0.5555555555555556,
              "#d8576b"
             ],
             [
              0.6666666666666666,
              "#ed7953"
             ],
             [
              0.7777777777777778,
              "#fb9f3a"
             ],
             [
              0.8888888888888888,
              "#fdca26"
             ],
             [
              1,
              "#f0f921"
             ]
            ],
            "type": "histogram2d"
           }
          ],
          "histogram2dcontour": [
           {
            "colorbar": {
             "outlinewidth": 0,
             "ticks": ""
            },
            "colorscale": [
             [
              0,
              "#0d0887"
             ],
             [
              0.1111111111111111,
              "#46039f"
             ],
             [
              0.2222222222222222,
              "#7201a8"
             ],
             [
              0.3333333333333333,
              "#9c179e"
             ],
             [
              0.4444444444444444,
              "#bd3786"
             ],
             [
              0.5555555555555556,
              "#d8576b"
             ],
             [
              0.6666666666666666,
              "#ed7953"
             ],
             [
              0.7777777777777778,
              "#fb9f3a"
             ],
             [
              0.8888888888888888,
              "#fdca26"
             ],
             [
              1,
              "#f0f921"
             ]
            ],
            "type": "histogram2dcontour"
           }
          ],
          "mesh3d": [
           {
            "colorbar": {
             "outlinewidth": 0,
             "ticks": ""
            },
            "type": "mesh3d"
           }
          ],
          "parcoords": [
           {
            "line": {
             "colorbar": {
              "outlinewidth": 0,
              "ticks": ""
             }
            },
            "type": "parcoords"
           }
          ],
          "pie": [
           {
            "automargin": true,
            "type": "pie"
           }
          ],
          "scatter": [
           {
            "fillpattern": {
             "fillmode": "overlay",
             "size": 10,
             "solidity": 0.2
            },
            "type": "scatter"
           }
          ],
          "scatter3d": [
           {
            "line": {
             "colorbar": {
              "outlinewidth": 0,
              "ticks": ""
             }
            },
            "marker": {
             "colorbar": {
              "outlinewidth": 0,
              "ticks": ""
             }
            },
            "type": "scatter3d"
           }
          ],
          "scattercarpet": [
           {
            "marker": {
             "colorbar": {
              "outlinewidth": 0,
              "ticks": ""
             }
            },
            "type": "scattercarpet"
           }
          ],
          "scattergeo": [
           {
            "marker": {
             "colorbar": {
              "outlinewidth": 0,
              "ticks": ""
             }
            },
            "type": "scattergeo"
           }
          ],
          "scattergl": [
           {
            "marker": {
             "colorbar": {
              "outlinewidth": 0,
              "ticks": ""
             }
            },
            "type": "scattergl"
           }
          ],
          "scattermap": [
           {
            "marker": {
             "colorbar": {
              "outlinewidth": 0,
              "ticks": ""
             }
            },
            "type": "scattermap"
           }
          ],
          "scattermapbox": [
           {
            "marker": {
             "colorbar": {
              "outlinewidth": 0,
              "ticks": ""
             }
            },
            "type": "scattermapbox"
           }
          ],
          "scatterpolar": [
           {
            "marker": {
             "colorbar": {
              "outlinewidth": 0,
              "ticks": ""
             }
            },
            "type": "scatterpolar"
           }
          ],
          "scatterpolargl": [
           {
            "marker": {
             "colorbar": {
              "outlinewidth": 0,
              "ticks": ""
             }
            },
            "type": "scatterpolargl"
           }
          ],
          "scatterternary": [
           {
            "marker": {
             "colorbar": {
              "outlinewidth": 0,
              "ticks": ""
             }
            },
            "type": "scatterternary"
           }
          ],
          "surface": [
           {
            "colorbar": {
             "outlinewidth": 0,
             "ticks": ""
            },
            "colorscale": [
             [
              0,
              "#0d0887"
             ],
             [
              0.1111111111111111,
              "#46039f"
             ],
             [
              0.2222222222222222,
              "#7201a8"
             ],
             [
              0.3333333333333333,
              "#9c179e"
             ],
             [
              0.4444444444444444,
              "#bd3786"
             ],
             [
              0.5555555555555556,
              "#d8576b"
             ],
             [
              0.6666666666666666,
              "#ed7953"
             ],
             [
              0.7777777777777778,
              "#fb9f3a"
             ],
             [
              0.8888888888888888,
              "#fdca26"
             ],
             [
              1,
              "#f0f921"
             ]
            ],
            "type": "surface"
           }
          ],
          "table": [
           {
            "cells": {
             "fill": {
              "color": "#EBF0F8"
             },
             "line": {
              "color": "white"
             }
            },
            "header": {
             "fill": {
              "color": "#C8D4E3"
             },
             "line": {
              "color": "white"
             }
            },
            "type": "table"
           }
          ]
         },
         "layout": {
          "annotationdefaults": {
           "arrowcolor": "#2a3f5f",
           "arrowhead": 0,
           "arrowwidth": 1
          },
          "autotypenumbers": "strict",
          "coloraxis": {
           "colorbar": {
            "outlinewidth": 0,
            "ticks": ""
           }
          },
          "colorscale": {
           "diverging": [
            [
             0,
             "#8e0152"
            ],
            [
             0.1,
             "#c51b7d"
            ],
            [
             0.2,
             "#de77ae"
            ],
            [
             0.3,
             "#f1b6da"
            ],
            [
             0.4,
             "#fde0ef"
            ],
            [
             0.5,
             "#f7f7f7"
            ],
            [
             0.6,
             "#e6f5d0"
            ],
            [
             0.7,
             "#b8e186"
            ],
            [
             0.8,
             "#7fbc41"
            ],
            [
             0.9,
             "#4d9221"
            ],
            [
             1,
             "#276419"
            ]
           ],
           "sequential": [
            [
             0,
             "#0d0887"
            ],
            [
             0.1111111111111111,
             "#46039f"
            ],
            [
             0.2222222222222222,
             "#7201a8"
            ],
            [
             0.3333333333333333,
             "#9c179e"
            ],
            [
             0.4444444444444444,
             "#bd3786"
            ],
            [
             0.5555555555555556,
             "#d8576b"
            ],
            [
             0.6666666666666666,
             "#ed7953"
            ],
            [
             0.7777777777777778,
             "#fb9f3a"
            ],
            [
             0.8888888888888888,
             "#fdca26"
            ],
            [
             1,
             "#f0f921"
            ]
           ],
           "sequentialminus": [
            [
             0,
             "#0d0887"
            ],
            [
             0.1111111111111111,
             "#46039f"
            ],
            [
             0.2222222222222222,
             "#7201a8"
            ],
            [
             0.3333333333333333,
             "#9c179e"
            ],
            [
             0.4444444444444444,
             "#bd3786"
            ],
            [
             0.5555555555555556,
             "#d8576b"
            ],
            [
             0.6666666666666666,
             "#ed7953"
            ],
            [
             0.7777777777777778,
             "#fb9f3a"
            ],
            [
             0.8888888888888888,
             "#fdca26"
            ],
            [
             1,
             "#f0f921"
            ]
           ]
          },
          "colorway": [
           "#636efa",
           "#EF553B",
           "#00cc96",
           "#ab63fa",
           "#FFA15A",
           "#19d3f3",
           "#FF6692",
           "#B6E880",
           "#FF97FF",
           "#FECB52"
          ],
          "font": {
           "color": "#2a3f5f"
          },
          "geo": {
           "bgcolor": "white",
           "lakecolor": "white",
           "landcolor": "#E5ECF6",
           "showlakes": true,
           "showland": true,
           "subunitcolor": "white"
          },
          "hoverlabel": {
           "align": "left"
          },
          "hovermode": "closest",
          "mapbox": {
           "style": "light"
          },
          "paper_bgcolor": "white",
          "plot_bgcolor": "#E5ECF6",
          "polar": {
           "angularaxis": {
            "gridcolor": "white",
            "linecolor": "white",
            "ticks": ""
           },
           "bgcolor": "#E5ECF6",
           "radialaxis": {
            "gridcolor": "white",
            "linecolor": "white",
            "ticks": ""
           }
          },
          "scene": {
           "xaxis": {
            "backgroundcolor": "#E5ECF6",
            "gridcolor": "white",
            "gridwidth": 2,
            "linecolor": "white",
            "showbackground": true,
            "ticks": "",
            "zerolinecolor": "white"
           },
           "yaxis": {
            "backgroundcolor": "#E5ECF6",
            "gridcolor": "white",
            "gridwidth": 2,
            "linecolor": "white",
            "showbackground": true,
            "ticks": "",
            "zerolinecolor": "white"
           },
           "zaxis": {
            "backgroundcolor": "#E5ECF6",
            "gridcolor": "white",
            "gridwidth": 2,
            "linecolor": "white",
            "showbackground": true,
            "ticks": "",
            "zerolinecolor": "white"
           }
          },
          "shapedefaults": {
           "line": {
            "color": "#2a3f5f"
           }
          },
          "ternary": {
           "aaxis": {
            "gridcolor": "white",
            "linecolor": "white",
            "ticks": ""
           },
           "baxis": {
            "gridcolor": "white",
            "linecolor": "white",
            "ticks": ""
           },
           "bgcolor": "#E5ECF6",
           "caxis": {
            "gridcolor": "white",
            "linecolor": "white",
            "ticks": ""
           }
          },
          "title": {
           "x": 0.05
          },
          "xaxis": {
           "automargin": true,
           "gridcolor": "white",
           "linecolor": "white",
           "ticks": "",
           "title": {
            "standoff": 15
           },
           "zerolinecolor": "white",
           "zerolinewidth": 2
          },
          "yaxis": {
           "automargin": true,
           "gridcolor": "white",
           "linecolor": "white",
           "ticks": "",
           "title": {
            "standoff": 15
           },
           "zerolinecolor": "white",
           "zerolinewidth": 2
          }
         }
        },
        "title": {
         "font": {
          "size": 20
         },
         "text": "DSM BioBert Vectors"
        },
        "width": 1200
       }
      }
     },
     "metadata": {},
     "output_type": "display_data"
    },
    {
     "name": "stderr",
     "output_type": "stream",
     "text": [
      "/Users/robrohan/miniconda3/envs/spikes/lib/python3.11/site-packages/plotly/io/_kaleido.py:510: DeprecationWarning:\n",
      "\n",
      "\n",
      "Support for the 'engine' argument is deprecated and will be removed after September 2025.\n",
      "Kaleido will be the only supported engine at that time.\n",
      "\n",
      "\n"
     ]
    }
   ],
   "source": [
    "fig = px.scatter_3d(\n",
    "    x=reduced_vectors[:, 0],\n",
    "    y=reduced_vectors[:, 1],\n",
    "    z=reduced_vectors[:, 2],\n",
    "    color=titles,\n",
    "    title=\"DSM BioBert Vectors\",\n",
    "    size_max=3,\n",
    "    opacity=0.7\n",
    ")\n",
    "fig.update_traces(marker=dict(size=4))\n",
    "fig.update_layout(\n",
    "    width=1200,   # in pixels\n",
    "    height=800,   # in pixels\n",
    "    title_font_size=20,\n",
    ")\n",
    "fig.show()\n",
    "\n",
    "fig.write_html(\"graphs/pca_plot_version1.html\")\n",
    "fig.write_image(\n",
    "    \"graphs/pca_plot_version1.png\",\n",
    "    width=1200,\n",
    "    height=800,\n",
    "    scale=1\n",
    ")\n"
   ]
  },
  {
   "cell_type": "markdown",
   "id": "14c46175",
   "metadata": {},
   "source": [
    "## Scoring Ideas\n",
    "- Precision/Recall: retrieving top-k results, calculate precision/recall for each model\n",
    "- Ranking Metrics: metrics like Mean Reciprocal Rank (MRR) or Normalized Discounted Cumulative Gain (NDCG)\n",
    "\n",
    "> \"Which BERT model gives the most accurate results for my labeled data?\"\n",
    "\n",
    "### Mean Reciprocal Rank (MRR)\n",
    "\n",
    "The position of the first correct result is important\n",
    "\n",
    "For each query, find the rank of the first correct result. The Reciprocal Rank (RR) is $1 / rank$. MRR is the average RR across all queries.\n",
    "\n",
    "Example: Suppose you have 3 queries:\n",
    "- Query 1: Correct result is ranked 1st → RR = 1/1 = 1.0\n",
    "- Query 2: Correct result is ranked 3rd → RR = 1/3 ≈ 0.33\n",
    "- Query 3: Correct result is ranked 2nd → RR = 1/2 = 0.5\n",
    "\n",
    "$$\n",
    "MRR = (1.0 + 0.33 + 0.5) / 3 ≈ 0.61\n",
    "$$\n",
    "\n",
    "### Normalized Discounted Cumulative Gain (NDCG)\n",
    "\n",
    "NDCG is a ranking metric that measures the quality of the _entire ranked list_, not just the top result.\n",
    "\n",
    "- For each position in the ranked list, calculate: DCG = sum((2^relevance - 1) / log2(rank + 1))\n",
    "- relevance is typically a binary (0/1) or graded score (e.g., 1/2/3).\n",
    "- The DCG of the perfect ranking (correct results sorted by relevance).\n",
    "- Normalizes the score to [0, 1], where 1 is perfect.\n",
    "\n",
    "Example:\n",
    "\n",
    "- Rank 1: (2^1 - 1) / log2(1+1) = 1 / 1 = 1.0\n",
    "- Rank 2: (2^0 - 1) / log2(2+1) = 0 / 1.58 ≈ 0\n",
    "- Rank 3: (2^3 - 1) / log2(3+1) = 7 / 2 ≈ 3.5\n",
    "- Rank 4: (2^2 - 1) / log2(4+1) = 3 / 2.32 ≈ 1.29\n",
    "- $DCG = 1.0 + 0 + 3.5 + 1.29 ≈ 5.79$\n"
   ]
  },
  {
   "cell_type": "markdown",
   "id": "fbf598ea",
   "metadata": {},
   "source": [
    "# Appendix"
   ]
  },
  {
   "cell_type": "markdown",
   "id": "7d0f9e42",
   "metadata": {},
   "source": [
    "You can also use the [bm25](https://deepwiki.com/weaviate/weaviate/6.2-keyword-search-(bm25)) keywords style search, or better, the [Hybrid search](https://medium.com/etoai/hybrid-search-combining-bm25-and-semantic-search-for-better-results-with-lan-1358038fe7e6) shown below which combines the vector embedding and the bm25."
   ]
  },
  {
   "cell_type": "code",
   "execution_count": null,
   "id": "967c1f9f",
   "metadata": {},
   "outputs": [],
   "source": [
    "if False:\n",
    "    results = collection.query.hybrid(\n",
    "        # https://deepwiki.com/weaviate/weaviate-python-client/5.2-keyword-and-hybrid-search\n",
    "        return_metadata=wvc.query.MetadataQuery(\n",
    "            score=True,\n",
    "            explain_score=True,\n",
    "            distance=True,\n",
    "            certainty=True\n",
    "        ),\n",
    "        query=\"patient has been complaining of lack of sleep and low mood\",\n",
    "        alpha=0.5,  # Equal balance between BM25 and vector search\n",
    "        target_vector=\"text_vector\",\n",
    "        limit=4,\n",
    "    )\n",
    "    pprint.pprint(results)\n",
    "    # response = collection.query.bm25()\n"
   ]
  }
 ],
 "metadata": {
  "kernelspec": {
   "display_name": "spikes",
   "language": "python",
   "name": "python3"
  },
  "language_info": {
   "codemirror_mode": {
    "name": "ipython",
    "version": 3
   },
   "file_extension": ".py",
   "mimetype": "text/x-python",
   "name": "python",
   "nbconvert_exporter": "python",
   "pygments_lexer": "ipython3",
   "version": "3.11.13"
  }
 },
 "nbformat": 4,
 "nbformat_minor": 5
}
