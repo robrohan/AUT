{
 "cells": [
  {
   "cell_type": "markdown",
   "id": "27f7ba4e",
   "metadata": {},
   "source": [
    "# Create a Vector Database"
   ]
  },
  {
   "cell_type": "markdown",
   "id": "b58b8f82",
   "metadata": {},
   "source": [
    "| ID | Model | Port |\n",
    "|----|-------|------|\n",
    "| 0 | Distilbert | 9090 |\n",
    "| 1 | Roberta | 9091 |\n",
    "| 2 | Biobert | 9092 |\n",
    "| 3 | Clinicalbert | 9093 |"
   ]
  },
  {
   "cell_type": "markdown",
   "id": "f60866d5",
   "metadata": {},
   "source": [
    "# Create Schemas and Populate DSM Data"
   ]
  },
  {
   "cell_type": "markdown",
   "id": "5044ab30",
   "metadata": {},
   "source": [
    "## Install Libraries"
   ]
  },
  {
   "cell_type": "code",
   "execution_count": 76,
   "id": "6f1a85ea",
   "metadata": {},
   "outputs": [
    {
     "name": "stdout",
     "output_type": "stream",
     "text": [
      "Requirement already satisfied: weaviate-client in /Users/robrohan/miniconda3/envs/spikes/lib/python3.11/site-packages (4.16.9)\n",
      "Requirement already satisfied: plotly in /Users/robrohan/miniconda3/envs/spikes/lib/python3.11/site-packages (6.3.0)\n",
      "Requirement already satisfied: numpy in /Users/robrohan/miniconda3/envs/spikes/lib/python3.11/site-packages (2.3.2)\n",
      "Requirement already satisfied: httpx<0.29.0,>=0.26.0 in /Users/robrohan/miniconda3/envs/spikes/lib/python3.11/site-packages (from weaviate-client) (0.28.1)\n",
      "Requirement already satisfied: validators<1.0.0,>=0.34.0 in /Users/robrohan/miniconda3/envs/spikes/lib/python3.11/site-packages (from weaviate-client) (0.35.0)\n",
      "Requirement already satisfied: authlib<2.0.0,>=1.2.1 in /Users/robrohan/miniconda3/envs/spikes/lib/python3.11/site-packages (from weaviate-client) (1.6.2)\n",
      "Requirement already satisfied: pydantic<3.0.0,>=2.8.0 in /Users/robrohan/miniconda3/envs/spikes/lib/python3.11/site-packages (from weaviate-client) (2.11.7)\n",
      "Requirement already satisfied: grpcio<1.80.0,>=1.59.5 in /Users/robrohan/miniconda3/envs/spikes/lib/python3.11/site-packages (from weaviate-client) (1.74.0)\n",
      "Requirement already satisfied: protobuf<7.0.0,>=4.21.6 in /Users/robrohan/miniconda3/envs/spikes/lib/python3.11/site-packages (from weaviate-client) (6.32.0)\n",
      "Requirement already satisfied: deprecation<3.0.0,>=2.1.0 in /Users/robrohan/miniconda3/envs/spikes/lib/python3.11/site-packages (from weaviate-client) (2.1.0)\n",
      "Requirement already satisfied: cryptography in /Users/robrohan/miniconda3/envs/spikes/lib/python3.11/site-packages (from authlib<2.0.0,>=1.2.1->weaviate-client) (45.0.6)\n",
      "Requirement already satisfied: packaging in /Users/robrohan/miniconda3/envs/spikes/lib/python3.11/site-packages (from deprecation<3.0.0,>=2.1.0->weaviate-client) (25.0)\n",
      "Requirement already satisfied: anyio in /Users/robrohan/miniconda3/envs/spikes/lib/python3.11/site-packages (from httpx<0.29.0,>=0.26.0->weaviate-client) (4.10.0)\n",
      "Requirement already satisfied: certifi in /Users/robrohan/miniconda3/envs/spikes/lib/python3.11/site-packages (from httpx<0.29.0,>=0.26.0->weaviate-client) (2025.8.3)\n",
      "Requirement already satisfied: httpcore==1.* in /Users/robrohan/miniconda3/envs/spikes/lib/python3.11/site-packages (from httpx<0.29.0,>=0.26.0->weaviate-client) (1.0.9)\n",
      "Requirement already satisfied: idna in /Users/robrohan/miniconda3/envs/spikes/lib/python3.11/site-packages (from httpx<0.29.0,>=0.26.0->weaviate-client) (3.10)\n",
      "Requirement already satisfied: h11>=0.16 in /Users/robrohan/miniconda3/envs/spikes/lib/python3.11/site-packages (from httpcore==1.*->httpx<0.29.0,>=0.26.0->weaviate-client) (0.16.0)\n",
      "Requirement already satisfied: annotated-types>=0.6.0 in /Users/robrohan/miniconda3/envs/spikes/lib/python3.11/site-packages (from pydantic<3.0.0,>=2.8.0->weaviate-client) (0.7.0)\n",
      "Requirement already satisfied: pydantic-core==2.33.2 in /Users/robrohan/miniconda3/envs/spikes/lib/python3.11/site-packages (from pydantic<3.0.0,>=2.8.0->weaviate-client) (2.33.2)\n",
      "Requirement already satisfied: typing-extensions>=4.12.2 in /Users/robrohan/miniconda3/envs/spikes/lib/python3.11/site-packages (from pydantic<3.0.0,>=2.8.0->weaviate-client) (4.14.1)\n",
      "Requirement already satisfied: typing-inspection>=0.4.0 in /Users/robrohan/miniconda3/envs/spikes/lib/python3.11/site-packages (from pydantic<3.0.0,>=2.8.0->weaviate-client) (0.4.1)\n",
      "Requirement already satisfied: narwhals>=1.15.1 in /Users/robrohan/miniconda3/envs/spikes/lib/python3.11/site-packages (from plotly) (2.2.0)\n",
      "Requirement already satisfied: sniffio>=1.1 in /Users/robrohan/miniconda3/envs/spikes/lib/python3.11/site-packages (from anyio->httpx<0.29.0,>=0.26.0->weaviate-client) (1.3.1)\n",
      "Requirement already satisfied: cffi>=1.14 in /Users/robrohan/miniconda3/envs/spikes/lib/python3.11/site-packages (from cryptography->authlib<2.0.0,>=1.2.1->weaviate-client) (1.17.1)\n",
      "Requirement already satisfied: pycparser in /Users/robrohan/miniconda3/envs/spikes/lib/python3.11/site-packages (from cffi>=1.14->cryptography->authlib<2.0.0,>=1.2.1->weaviate-client) (2.22)\n",
      "Note: you may need to restart the kernel to use updated packages.\n",
      "Requirement already satisfied: nbformat in /Users/robrohan/miniconda3/envs/spikes/lib/python3.11/site-packages (5.10.4)\n",
      "Requirement already satisfied: kaleido in /Users/robrohan/miniconda3/envs/spikes/lib/python3.11/site-packages (1.0.0)\n",
      "Requirement already satisfied: fastjsonschema>=2.15 in /Users/robrohan/miniconda3/envs/spikes/lib/python3.11/site-packages (from nbformat) (2.21.2)\n",
      "Requirement already satisfied: jsonschema>=2.6 in /Users/robrohan/miniconda3/envs/spikes/lib/python3.11/site-packages (from nbformat) (4.25.1)\n",
      "Requirement already satisfied: jupyter-core!=5.0.*,>=4.12 in /Users/robrohan/miniconda3/envs/spikes/lib/python3.11/site-packages (from nbformat) (5.8.1)\n",
      "Requirement already satisfied: traitlets>=5.1 in /Users/robrohan/miniconda3/envs/spikes/lib/python3.11/site-packages (from nbformat) (5.14.3)\n",
      "Requirement already satisfied: choreographer>=1.0.5 in /Users/robrohan/miniconda3/envs/spikes/lib/python3.11/site-packages (from kaleido) (1.0.10)\n",
      "Requirement already satisfied: logistro>=1.0.8 in /Users/robrohan/miniconda3/envs/spikes/lib/python3.11/site-packages (from kaleido) (1.1.0)\n",
      "Requirement already satisfied: orjson>=3.10.15 in /Users/robrohan/miniconda3/envs/spikes/lib/python3.11/site-packages (from kaleido) (3.11.2)\n",
      "Requirement already satisfied: packaging in /Users/robrohan/miniconda3/envs/spikes/lib/python3.11/site-packages (from kaleido) (25.0)\n",
      "Requirement already satisfied: simplejson>=3.19.3 in /Users/robrohan/miniconda3/envs/spikes/lib/python3.11/site-packages (from choreographer>=1.0.5->kaleido) (3.20.1)\n",
      "Requirement already satisfied: attrs>=22.2.0 in /Users/robrohan/miniconda3/envs/spikes/lib/python3.11/site-packages (from jsonschema>=2.6->nbformat) (25.3.0)\n",
      "Requirement already satisfied: jsonschema-specifications>=2023.03.6 in /Users/robrohan/miniconda3/envs/spikes/lib/python3.11/site-packages (from jsonschema>=2.6->nbformat) (2025.4.1)\n",
      "Requirement already satisfied: referencing>=0.28.4 in /Users/robrohan/miniconda3/envs/spikes/lib/python3.11/site-packages (from jsonschema>=2.6->nbformat) (0.36.2)\n",
      "Requirement already satisfied: rpds-py>=0.7.1 in /Users/robrohan/miniconda3/envs/spikes/lib/python3.11/site-packages (from jsonschema>=2.6->nbformat) (0.27.1)\n",
      "Requirement already satisfied: platformdirs>=2.5 in /Users/robrohan/miniconda3/envs/spikes/lib/python3.11/site-packages (from jupyter-core!=5.0.*,>=4.12->nbformat) (4.3.8)\n",
      "Requirement already satisfied: typing-extensions>=4.4.0 in /Users/robrohan/miniconda3/envs/spikes/lib/python3.11/site-packages (from referencing>=0.28.4->jsonschema>=2.6->nbformat) (4.14.1)\n",
      "Note: you may need to restart the kernel to use updated packages.\n"
     ]
    }
   ],
   "source": [
    "%pip install -U weaviate-client plotly numpy\n",
    "%pip install --upgrade nbformat kaleido"
   ]
  },
  {
   "cell_type": "markdown",
   "id": "c90bb679",
   "metadata": {},
   "source": [
    "## Imports"
   ]
  },
  {
   "cell_type": "code",
   "execution_count": 77,
   "id": "99dae71c",
   "metadata": {},
   "outputs": [],
   "source": [
    "import os\n",
    "import requests, json\n",
    "import weaviate\n",
    "import numpy as np\n",
    "from weaviate.classes.config import Configure, VectorDistances\n",
    "import weaviate.classes as wvc\n",
    "\n",
    "from sklearn.decomposition import PCA\n",
    "import matplotlib.pyplot as plt\n",
    "\n",
    "import plotly.express as px\n"
   ]
  },
  {
   "cell_type": "markdown",
   "id": "4c658fac",
   "metadata": {},
   "source": [
    "## Create Schemas and Populate DSM Data"
   ]
  },
  {
   "cell_type": "code",
   "execution_count": 78,
   "id": "1ba9b6f6",
   "metadata": {},
   "outputs": [],
   "source": [
    "schema_dicts = [\n",
    "    { \"name\": \"Distilbert\", \"url\": \"http://t2v-transformers:8080\", \"schema\": \"DSMDistilbert\" },\n",
    "    { \"name\": \"Roberta\", \"url\": \"http://t2v-transformers-drobert:8080\", \"schema\": \"DSMRoberta\" },\n",
    "    { \"name\": \"Biobert\", \"url\": \"http://t2v-transformers-biobert:8080\", \"schema\": \"DSMBiobert\" },\n",
    "    { \"name\": \"Clinicalbert\", \"url\": \"http://t2v-transformers-clicbert:8080\", \"schema\": \"DSMClinicalbert\" },\n",
    "]"
   ]
  },
  {
   "cell_type": "code",
   "execution_count": 79,
   "id": "9050dff2",
   "metadata": {},
   "outputs": [],
   "source": [
    "if False:\n",
    "    client = weaviate.connect_to_local()\n",
    "    try:\n",
    "        for s in schema_dicts:\n",
    "            print(f'{s[\"name\"]} :: {s[\"schema\"]}')\n",
    "\n",
    "            dsm = client.collections.create(\n",
    "                name=s[\"schema\"],\n",
    "                vector_config=Configure.Vectors.text2vec_transformers(\n",
    "                    name=\"text_vector\",\n",
    "                    source_properties=[\"text\"],\n",
    "                    vector_index_config=Configure.VectorIndex.hnsw(\n",
    "                        # https://docs.weaviate.io/weaviate/config-refs/distances\n",
    "                        # distance_metric=VectorDistances.COSINE # Cosine (angular) distance - not good results which makes sense\n",
    "                        distance_metric=VectorDistances.L2_SQUARED       # 0 <= d < ∞\n",
    "                    ),\n",
    "                    inference_url=s[\"url\"],\n",
    "                ),\n",
    "            )\n",
    "\n",
    "            directory = \"./chunks\"\n",
    "            for file in os.listdir(directory):\n",
    "                filename = os.fsdecode(file)\n",
    "                if filename.endswith(\".json\"):\n",
    "                    with open(os.path.join(directory, filename)) as f:\n",
    "                        jsn = json.loads(f.read())\n",
    "\n",
    "                        cks = jsn[\"chunks\"]\n",
    "                        for i,c in enumerate(cks):\n",
    "                            with dsm.batch.dynamic() as batch:\n",
    "                                batch.add_object(\n",
    "                                    {\n",
    "                                        \"key\": f\"{jsn['id']}::{i}\",\n",
    "                                        \"title\": jsn[\"title\"],\n",
    "                                        \"text\": c,\n",
    "                                    }\n",
    "                                )\n",
    "    except Exception as ex:\n",
    "        print(\"Schema probably already exists.\", ex)\n",
    "    finally:\n",
    "        client.close()"
   ]
  },
  {
   "cell_type": "code",
   "execution_count": 80,
   "id": "5fed1ee6",
   "metadata": {},
   "outputs": [],
   "source": [
    "# client = weaviate.connect_to_local()\n",
    "# try:\n",
    "#     schema = client.collections.get(schema_dicts[0][\"schema\"])\n",
    "#     print(schema)\n",
    "# finally:\n",
    "#     client.close()"
   ]
  },
  {
   "cell_type": "markdown",
   "id": "b5e76f03",
   "metadata": {},
   "source": [
    "## Tests Query\n",
    "\n",
    "How to query the collections using the different embedding models. This is only using cosine similarity to get the results. For something more productionish, see the appendex where we use a mix of keywords and embeddings to get a (possibly) more accurate score. Not used in this research."
   ]
  },
  {
   "cell_type": "code",
   "execution_count": 81,
   "id": "59bb0ed1",
   "metadata": {},
   "outputs": [],
   "source": [
    "schema_index = 0"
   ]
  },
  {
   "cell_type": "code",
   "execution_count": 91,
   "id": "513eeb39",
   "metadata": {},
   "outputs": [
    {
     "name": "stdout",
     "output_type": "stream",
     "text": [
      "distance: 11.94016170501709\n",
      "Breathing-Related Sleep Disorders\n",
      "----------------------------\n",
      "B. The disturbance is not better explained by another current  sleep disorder.  *Specify* whether:  **G47.34 Idiopathic hypoventilation:** This subtype is not attributable to any readily identified condition.  **G47.35 Congenital central alveolar hypoventilation:** This subtype is a rare congenital disorder in which the individual typically presents in the perinatal period with shallow breathing, or cyanosis and apnea during sleep.  **G47.36 Comorbid sleep-related hypoventilation:** This subtype occurs as a consequence of a medical condition, such as a pulmonary disorder (e.g., interstitial lung disease, chronic obstructive pulmonary disease) or a neuromuscular or chest wall disorder (e.g., muscular dystrophies, postpolio syndrome, cervical spinal cord injury, kyphoscoliosis), or medications (e.g., benzodiazepines, opiates). It also occurs with obesity (obesity hypoventilation disorder), where it reflects a combination of increased work of breathing due to reduced chest wall compliance and ventilation-perfusion mismatch and variably reduced ventilatory drive. Such individuals usually are characterized by body mass index of greater than 30 and hypercapnia during wakefulness (with a pCO 2 of greater than 45), without other evidence of hypoventilation.  *Specify* current severity:\n",
      "----------------------------\n",
      "distance: 12.507210731506348\n",
      "Motor Disorders\n",
      "----------------------------\n",
      "**Myoclonus.** Myoclonus is characterized by a sudden unidirectional  movement that is often nonrhythmic. It may be worsened by movement and occur during sleep. Myoclonus is differentiated from tics by its rapidity, lack of suppressibility, and absence of a premonitory sensation or urge.  **Obsessive-compulsive and related disorders.** Differentiating compulsions in  OCD from complex tics may be difficult, especially because they frequently  co-occur in the same individual. The compulsions of OCD are aimed at preventing or reducing anxiety or distress and are usually performed in response to an obsession (e.g., fear of contamination). In contrast, many individuals with a tic disorder feel the need to perform the action in a particular fashion, equally on both sides of the body a certain number of times or until a \"just right\" feeling is achieved. Body-focused repetitive behavior disorders (i.e., persistent hair-pulling, skin-picking, nail-biting) are more goal-directed and complex than tics.  **Functional tic disorder.** Functional disorders should also be considered when  an individual presents with \"tic attacks\" that can go on for extended periods of time lasting from 15 minutes to several hours.  ###### **Comorbidity**  Many medical and psychiatric conditions have been described as cooccurring with tic disorders, and ADHD, disruptive behavior, and OCD and related disorders are particularly\n",
      "----------------------------\n",
      "distance: 12.754603385925293\n",
      "Sexual Dysfunctions\n",
      "----------------------------\n",
      "###### **Risk and Prognostic Factors**  **Temperamental.** Females with antecedent mood and anxiety disorders are  four times more likely to develop symptoms of genito-pelvic pain/penetration disorder compared with those without these antecedent disorders. Psychosocial factors (e.g., pain catastrophizing, pain selfefficacy, avoidance of pain, negative mood) and interpersonal factors (e.g., insecure attachment, negative partner responses to the pain, sexual motives that focus on avoiding negative relationship outcomes) may exacerbate and maintain symptoms.  **Environmental.** Females with genito-pelvic pain/penetration disorder are  more likely to report a history of sexual and/or physical abuse, and fear of abuse than females without this disorder, although not all women with presenting symptoms have this history.  **Genetic and physiological.** Females experiencing superficial pain during vaginal penetration often report the onset of the pain after a history of vaginal infections. Even after the infections have resolved and there are no known residual physical findings, the pain persists. Pain during tampon insertion or the inability to insert tampons before any sexual contact has been attempted is an important risk factor for genito-pelvic pain/penetration disorder.\n",
      "----------------------------\n",
      "distance: 12.868856430053711\n",
      "Sleep-Wake Disorders\n",
      "----------------------------\n",
      "**Delayed sleep phase and shift work types of circadian rhythm sleep-wake disorder.**  Individuals with the delayed sleep phase type of circadian rhythm sleepwake disorder report sleep-onset insomnia only when they try to sleep at socially normal times, but they do not report difficulty falling asleep or staying asleep when their bed and rising times are delayed and coincide with their endogenous circadian rhythm. This pattern is observed particularly among adolescents and younger adults. Shift work type differs from insomnia disorder by the history of recent shift work.  **Restless legs syndrome.** Restless legs syndrome often produces difficulties  initiating and maintaining sleep. However, an urge to move the legs and any accompanying unpleasant leg sensations are features that differentiate this disorder from insomnia disorder.  **Breathing-related sleep disorders.** Most individuals with a breathing-related  sleep disorder have a history of loud snoring, breathing pauses during sleep, and excessive daytime sleepiness. Nonetheless, as many as 50% of individuals with sleep apnea may also report insomnia symptoms, a feature that is more common among women and older adults.  **Narcolepsy.** Narcolepsy may cause insomnia complaints but is distinguished  from insomnia disorder by the predominance of symptoms of excessive daytime sleepiness, cataplexy, sleep paralysis, and sleep-related hallucinations.  **Parasomnias.** Parasomnias are characterized by a complaint of unusual  behavior or events during sleep that may lead to intermittent awakenings and difficulty resuming sleep. However, it is these behavioral events, rather than the insomnia per se, that dominate the clinical picture.\n",
      "----------------------------\n",
      "distance: 12.914402961730957\n",
      "Sleep-Wake Disorders\n",
      "----------------------------\n",
      "**Breathing-related sleep disorders.** Chronic sleepiness is common in breathing related sleep disorders. Individuals with hypersomnolence and breathingrelated sleep disorders may have similar patterns of excessive sleepiness. Breathing-related sleep disorders are suggested by a history of loud snoring, pauses in breathing during sleep, and nonrefreshing sleep. Examination often reveals obesity, a small airway, and large neck diameter. Hypertension is common, and some individuals may demonstrate signs of heart failure. Polysomnographic studies can confirm the presence of apneic events in breathing-related sleep disorder (and their absence in hypersomnolence disorder).  **Circadian rhythm sleep-wake disorders.** In contrast to individuals with  hypersomnolence disorder, individuals with specific subtypes of circadian rhythm sleep-wake disorder show specific temporal patterns of symptoms. For example, individuals with delayed sleep phase type often have sleep inertia and sleepiness in the morning and feel most alert in the evening and night, with habitually late bedtimes. In contrast, those with advanced sleep phase type become sleepy and go to bed early in the evening but are alert and wake easily in the early morning.  **Parasomnias.** Parasomnias such as non-REM sleep arousal disorders  (sleepwalking/sleep terrors) or REM sleep behavior disorder rarely produce the prolonged, undisturbed nocturnal sleep or daytime sleepiness characteristic of hypersomnolence disorder. However, parasomnias such as  nightmare disorder, which may result in significant curtailment of total sleep time, may conceivably manifest with daytime sleepiness.  **Hypersomnolence in other mental disorders and medical conditions.** Hypersomno\n",
      "----------------------------\n"
     ]
    }
   ],
   "source": [
    "client = weaviate.connect_to_local()\n",
    "try:\n",
    "    collection = client.collections.use(schema_dicts[schema_index][\"schema\"])\n",
    "\n",
    "    results = collection.query.near_text(\n",
    "       # Because near_text is a purely vector search, we get a\n",
    "       # distance and no score\n",
    "        return_metadata=wvc.query.MetadataQuery(\n",
    "            score=True, explain_score=True, distance=True, certainty=True\n",
    "        ),\n",
    "        query=\"\"\"patient sad has lost intrest in activites and is having difficulty sleeping\"\"\",\n",
    "        limit=5\n",
    "    )\n",
    "    for r in results.objects:\n",
    "        # This doesn't work now we are using distance instead of cosine: , score: {round((1-r.metadata.distance)*100, 1)}%\n",
    "        # Same with this: , certainty: {r.metadata.certainty}\n",
    "        print(f\"distance: {r.metadata.distance}\")\n",
    "        print(r.properties['title'])\n",
    "        print(\"----------------------------\")\n",
    "        print(r.properties['text'])\n",
    "        print(\"----------------------------\")\n",
    "\n",
    "finally:\n",
    "    client.close()  # Close client gracefully\n",
    "\n",
    "# Most text embeddings (e.g., from BERT, Sentence-BERT, etc.) are normalized, so cosine similarity is between 0 and 1."
   ]
  },
  {
   "cell_type": "markdown",
   "id": "dd2c9907",
   "metadata": {},
   "source": [
    "## Fetch All Vectors"
   ]
  },
  {
   "cell_type": "code",
   "execution_count": 83,
   "id": "1dc92070",
   "metadata": {},
   "outputs": [
    {
     "name": "stdout",
     "output_type": "stream",
     "text": [
      "Fetched 1957 vectors.\n"
     ]
    }
   ],
   "source": [
    "client = weaviate.connect_to_local()\n",
    "try:\n",
    "    dsm = client.collections.get(schema_dicts[schema_index][\"schema\"])\n",
    "    # only using 1957 recrods in this research :)\n",
    "    response = dsm.query.fetch_objects(limit=10000, include_vector=True)\n",
    "\n",
    "    vectors = np.array([np.array(obj.vector[\"text_vector\"]) for obj in response.objects])\n",
    "    titles = np.array(np.array([obj.properties[\"title\"] for obj in response.objects]))\n",
    "\n",
    "    print(f\"Fetched {len(vectors)} vectors.\")\n",
    "except Exception as ex:\n",
    "    print(f\"Error: {ex}\")\n",
    "finally:\n",
    "    client.close()\n",
    "\n",
    "unique_titles = list(set(titles))"
   ]
  },
  {
   "cell_type": "markdown",
   "id": "b837ce60",
   "metadata": {},
   "source": [
    "# Analysis"
   ]
  },
  {
   "cell_type": "markdown",
   "id": "ecb7c8db",
   "metadata": {},
   "source": [
    "## Average Pairwise Distance\n",
    "\n",
    "My guess is a tightly clustered vector space (where most vectors are close to each other) will indicate poor discriminative power, especially if the clusters overlap or lack clear separation. I think this will lead to worse classification performance.\n",
    "\n",
    "Calculate the average distance between all pairs of vectors. If this value is small, the vectors are tightly clustered.\n",
    "\n",
    "**Interpretation**\n",
    "- Low average distance (e.g., close to 0 for cosine distance): Vectors are tightly clustered.\n",
    "- High average distance (e.g., close to 1 for cosine distance): Vectors are spread out."
   ]
  },
  {
   "cell_type": "code",
   "execution_count": 84,
   "id": "5acfabdc",
   "metadata": {},
   "outputs": [
    {
     "name": "stdout",
     "output_type": "stream",
     "text": [
      "Average pairwise distance: 0.088\n"
     ]
    }
   ],
   "source": [
    "from sklearn.metrics.pairwise import cosine_distances\n",
    "import numpy as np\n",
    "\n",
    "# Assume `vectors` is your numpy array of embeddings\n",
    "distance_matrix = cosine_distances(vectors)\n",
    "avg_distance = np.mean(distance_matrix)\n",
    "print(f\"Average pairwise distance: {avg_distance:.3f}\")"
   ]
  },
  {
   "cell_type": "markdown",
   "id": "7f9e213d",
   "metadata": {},
   "source": [
    "## Eigenvalue Decay of the Distance Matrix\n",
    "\n",
    "If the vector space is tightly clustered, the eigenvalues of the distance matrix will decay slowly (indicating low-dimensional structure). This is related to Multidimensional Scaling (MDS).\n",
    "Steps:\n",
    "\n",
    "- Compute the distance matrix.\n",
    "- Perform eigenvalue decomposition.\n",
    "- Plot the eigenvalues to see how quickly they decay.\n",
    "\n",
    "**Interpretation**\n",
    "- Slow decay (flat curve): Vectors are tightly clustered (low-dimensional structure).\n",
    "- Fast decay (steep curve): Vectors are spread out (high-dimensional structure)."
   ]
  },
  {
   "cell_type": "code",
   "execution_count": 85,
   "id": "b9b1a3fb",
   "metadata": {},
   "outputs": [
    {
     "data": {
      "image/png": "[encoded data removed]",
      "text/plain": [
       "<Figure size 640x480 with 1 Axes>"
      ]
     },
     "metadata": {},
     "output_type": "display_data"
    }
   ],
   "source": [
    "from scipy.spatial.distance import pdist, squareform\n",
    "from numpy.linalg import eigh\n",
    "\n",
    "# Compute pairwise Euclidean distances\n",
    "distance_matrix = squareform(pdist(vectors, 'euclidean'))\n",
    "eigenvalues = eigh(distance_matrix)[0]\n",
    "eigenvalues = np.sort(np.abs(eigenvalues))[::-1]  # Sort in descending order\n",
    "\n",
    "# Plot eigenvalue decay\n",
    "plt.plot(eigenvalues)\n",
    "plt.xlabel(\"Eigenvalue Index\")\n",
    "plt.ylabel(\"Eigenvalue Magnitude\")\n",
    "plt.title(\"Eigenvalue Decay of Distance Matrix\")\n",
    "plt.show()"
   ]
  },
  {
   "cell_type": "markdown",
   "id": "6ce83d6b",
   "metadata": {},
   "source": [
    "## Silhouette Score\n",
    "\n",
    "The silhouette score measures how similar a vector is to its own cluster compared to other clusters. You can use it even if you don’t have true labels by applying k-means first.\n",
    "\n",
    "**Interpretation**\n",
    "- Score close to 1: Vectors are well-separated into distinct clusters.\n",
    "- Score close to 0 or negative: Vectors are tightly clustered or overlapping.\n",
    "\n",
    "----\n",
    "\n",
    "- Silhouette Score > 0.5 Clusters are well-separated.\n",
    "- Adjusted Rand Index > 0.7 K-means clusters align well with true categories.\n",
    "- Normalized Mutual Info > 0.7 High agreement between clusters and categories."
   ]
  },
  {
   "cell_type": "code",
   "execution_count": 86,
   "id": "e0eade8c",
   "metadata": {},
   "outputs": [
    {
     "name": "stdout",
     "output_type": "stream",
     "text": [
      "Silhouette score: 0.206\n",
      "Adjusted Rand Index: -0.002\n",
      "Normalized Mutual Information: 0.044\n"
     ]
    }
   ],
   "source": [
    "from sklearn.cluster import KMeans\n",
    "from sklearn.metrics import silhouette_score\n",
    "\n",
    "k = 3  # Number of clusters , random_state=42\n",
    "labels = KMeans(n_clusters=k).fit_predict(vectors)\n",
    "score = silhouette_score(vectors, labels, metric='cosine')\n",
    "print(f\"Silhouette score: {score:.3f}\")\n",
    "\n",
    "\n",
    "# Compares the k-means cluster assignments to your true category labels.\n",
    "# - Score close to 1: Cluster assignments match the true categories well.\n",
    "# - Score close to 0: Cluster assignments are random relative to the true categories.\n",
    "from sklearn.metrics import adjusted_rand_score\n",
    "ari = adjusted_rand_score(titles, labels)\n",
    "print(f\"Adjusted Rand Index: {ari:.3f}\")\n",
    "##\n",
    "# Measures the mutual dependence between the k-means clusters and true categories.\n",
    "# - Score close to 1: High agreement between clusters and categories.\n",
    "# - Score close to 0: No agreement.\n",
    "from sklearn.metrics import normalized_mutual_info_score\n",
    "nmi = normalized_mutual_info_score(titles, labels)\n",
    "print(f\"Normalized Mutual Information: {nmi:.3f}\")\n"
   ]
  },
  {
   "cell_type": "markdown",
   "id": "a8e6fc43",
   "metadata": {},
   "source": [
    "## PCA and Graph DSM Data"
   ]
  },
  {
   "cell_type": "code",
   "execution_count": 87,
   "id": "e1618a33",
   "metadata": {},
   "outputs": [
    {
     "data": {
      "image/png": "[encoded data removed]",
      "text/plain": [
       "<Figure size 640x480 with 1 Axes>"
      ]
     },
     "metadata": {},
     "output_type": "display_data"
    }
   ],
   "source": [
    "np.random.seed(42)\n",
    "# PCA can show relative structure (e.g., tight vs. loose clusters)\n",
    "pca = PCA(n_components=3)\n",
    "reduced_vectors = pca.fit_transform(vectors)\n",
    "\n",
    "# unique_titles = list(set(titles))\n",
    "colors = plt.cm.tab20(np.linspace(0, 1, len(unique_titles)))\n",
    "\n",
    "plt.scatter(reduced_vectors[:, 0], reduced_vectors[:, 1])\n",
    "plt.title(schema_dicts[schema_index][\"name\"])\n",
    "plt.xlabel(\"PC1\")\n",
    "plt.ylabel(\"PC2\")\n",
    "plt.show()"
   ]
  },
  {
   "cell_type": "code",
   "execution_count": 88,
   "id": "d69764d5",
   "metadata": {},
   "outputs": [
    {
     "data": {
      "application/vnd.plotly.v1+json": {
       "config": {
        "plotlyServerURL": "https://plot.ly"
       },
       "data": [
        {
         "hovertemplate": "color=Cluster C Personalit Disorders y<br>x=%{x}<br>y=%{y}<br>z=%{z}<extra></extra>",
         "legendgroup": "Cluster C Personalit Disorders y",
         "marker": {
          "color": "#636efa",
          "opacity": 0.7,
          "size": 4,
          "symbol": "circle"
         },
         "mode": "markers",
         "name": "Cluster C Personalit Disorders y",
         "scene": "scene",
         "showlegend": true,
         "type": "scatter3d",
         "x": {
          "bdata": "nWO5PYZc1D/Ov3kP3G76v10Nj2rLt+A/KR8/XmUmsD9d0QFuCQsJwDm1tWjrRvI/K1WzpDgP5L+QBRPboUbqv2EuXZSQaMi/X4nM/c0ufb+Zjs5iOxbYP3oVCGLiEOM/U+yaWVqAhT8Se32Xyy4FwAxa3e5oUqa/be7Rg2LZyD/AZeE+SH0DwEepN6hcDd6/iHf284gryz+bkvr0uXLhP4TWFGMtgfu/tYT9a6WP5r+qt5cakQHDv0rh0SiKvPA/taYnuiyhwz9YhlX/dI5dv3LDoW4vYee/hvsm7Fe5s78=",
          "dtype": "f8"
         },
         "y": {
          "bdata": "lCvw9dw+5r+A+7CLd2fiv1nPZ/8d3uC/S/UgkTlV0b/O0GdI4MDyvzOal5ZDf+u/QJmNTMsx+L/YXkoylbP4v7NkcDzg7+S/61Aq01uGxr9uMU4I0g7wv+H+O7otdOq/wAEbx42U/r/sZY6wVZ3yv1frwKS3cfi/QC9kGk685r+hHnDDYBvzv+4I1F2mfvW/cPIVhqbIwD+iaxuK4BDlv7biBcN4ZOW/sOAvdgr49r/exQXSuoH8vy4K45OyA7m/zHwG0Q8P+r+i+/b48dv4v24b51zczPe/5wbq6qzj/L8=",
          "dtype": "f8"
         },
         "z": {
          "bdata": "YPusXL0h7r9Vn7UwSwDRP1ZQeDfOVeK/RzdZB7de2b+fRhtT/g3cP8kiBikjP7Y/U2ICXQ998b9ikDRwQCviv2dqNk8KQNM/l+75wT4Hwj8vDqEa/47APyGAwsTOL+a/d1vBNCQ17r8JeCTWSrTQP5QWbLTlyeG/8/DAbOXufD/b1Ik/jRyzP6RMvi07C++/phUjqY/N4r/CHKKf3iHQv9QUppLyBdM/kYn0wKLs8L8tVpGn493ov9CLW79y3N0/ewqwX8bU8L+0mtVmEzHev2MfZalyiuS/IoE7vm/b4r8=",
          "dtype": "f8"
         }
        },
        {
         "hovertemplate": "color=Disruptive, Impulse-Control, and Conduct Disorders<br>x=%{x}<br>y=%{y}<br>z=%{z}<extra></extra>",
         "legendgroup": "Disruptive, Impulse-Control, and Conduct Disorders",
         "marker": {
          "color": "#EF553B",
          "opacity": 0.7,
          "size": 4,
          "symbol": "circle"
         },
         "mode": "markers",
         "name": "Disruptive, Impulse-Control, and Conduct Disorders",
         "scene": "scene",
         "showlegend": true,
         "type": "scatter3d",
         "x": {
          "bdata": "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",
          "dtype": "f8"
         },
         "y": {
          "bdata": "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",
          "dtype": "f8"
         },
         "z": {
          "bdata": "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",
          "dtype": "f8"
         }
        },
        {
         "hovertemplate": "color=Other Conditions That May Be a Focus of Clinical Attention<br>x=%{x}<br>y=%{y}<br>z=%{z}<extra></extra>",
         "legendgroup": "Other Conditions That May Be a Focus of Clinical Attention",
         "marker": {
          "color": "#00cc96",
          "opacity": 0.7,
          "size": 4,
          "symbol": "circle"
         },
         "mode": "markers",
         "name": "Other Conditions That May Be a Focus of Clinical Attention",
         "scene": "scene",
         "showlegend": true,
         "type": "scatter3d",
         "x": {
          "bdata": "eylUWCgkxb/HPMBlkxntv7Sp25IfKg3AKrRQHkWWzr89odQLTObQv0M/dzAHpuW/Ydsicaes3b91Xhpq47SwvzO3LW3gGQHARVas16E67b+po7NJSFO6v9StkuicceG/mVdBXV+X7b9SmFZ90a7Jv7jZjarPHOK/7oNUxCmv5L/FCV6Kai3tv411yxK3XOi/PSemfJAWyL+QJhiXz/7ivylKIS2/1dg/VSo/zqUr5L9UH46dqQbAPxypSIJfZeq/R61FKuj25z/RdJ9rYMTwv06Cj2PZjeS/l3Ke3VbZCsCEHyEK1Y/HPwA3ChfSQPq/ILwdO7N8yr93z5TmuirivyyGS7Va9vC/yc96w5+2rT81cY/wiuzYv/a9BFPZY84/",
          "dtype": "f8"
         },
         "y": {
          "bdata": "E/EjJ7CF8r+NO0fjKOfPPwUaJRdCzOe/doDstFm64D/YQNs0/DKmv0UcpAD20/w/ahRhayeOtz+oRIGzWajEP1g9PI095tm/dD7WMVoQsb/07ER/jSzsvxPv+s8yM94/fL/9XJYi4j9+Gh/ZXeaHPxvzhfZEmLC/S/FnnlGP0D8xmL4fAWEBQMpwSF80JgJA4K58nsswm78NYJOEUCbRvzy1r5DbTbe/zB1JmAx6xL8fj4iGe/bDPx8qs4Mrneo/XDv4tViR0T86jl2KQRrBP6VicQ2gqdc/5jjHr5TeyL/rzkoWoybjv7xwcxqGu7S/bxf8BD/j2T9c214QhL6mv57A3DT6e9K/bR4VMzXfyL/gG3jaLy2jv2VU8uqXfWC/",
          "dtype": "f8"
         },
         "z": {
          "bdata": "qlxbhsMJ6r8N0aL0Kzz+v647Iwczn+M/5kZG+d5E8L/rhVaS6vL9vyuluvIZpQbAcpSoMzhx+r/8TNu78BT9v1JJVmi239A/iQbC835z97++JMc1KHjov4RAwpjeGve/+LMsOVEcAMACe4FzMmb8v+BD8tF28/a/JsHJWjTAAMBNdfxy5l8JwJi5bRWNgQnAs3Gbmviq+r+ZipqJALv4v+WkkhzqvfS/htXt7qoc9r/VJTgPAbLqv6y4DzZJXf2/lL4QxVpq6b+GV9yHFQP/vySTmYjeDALA/A1G8h9dxD8D8Tw8Ei32v/pPehZ4+9S/tPUl98GM/7/tAgQAtHT2v9TgILtLeLg/vgR1nnBF7r/gItn9RQ36v18b0hCNMvG/",
          "dtype": "f8"
         }
        },
        {
         "hovertemplate": "color=Attention-Deficit/Hyperactivity Disorder<br>x=%{x}<br>y=%{y}<br>z=%{z}<extra></extra>",
         "legendgroup": "Attention-Deficit/Hyperactivity Disorder",
         "marker": {
          "color": "#ab63fa",
          "opacity": 0.7,
          "size": 4,
          "symbol": "circle"
         },
         "mode": "markers",
         "name": "Attention-Deficit/Hyperactivity Disorder",
         "scene": "scene",
         "showlegend": true,
         "type": "scatter3d",
         "x": {
          "bdata": "KzvGpvzVv79upC0sQATdP4R5g1ETieY/UqK+a8cc6T8TZIa+qrDVP+ZWjLkSi+Q/Hnf/hmAg1r/wueOz24cBQIEx9acfYgPANzzKuAey+z/PvE9uBRkDwL4/R3tas9Q/0DaQ0bTq4j9zETO5lFXOP7WNEON5KPy/YGz4ex2l2z+4+NoT7FTsP51WlibxqvE/Wqa2WJk1yj8F3RARFb/mPwvxJdPMiOO/v0Ob6o9l0z8=",
          "dtype": "f8"
         },
         "y": {
          "bdata": "zfWk6JyFpD8GSQkrCFPZv3+jW5stSOQ/A+q2sYhk4784mXw2ij3nv0RsY70MU8O/Naxk2pcNzT8sUeXXgHPQv8SGBpQhbOu/CymCceRCrr8sUfE7F53tv+lMZcmrsN6/IaLm+Yil479r4s3PgfLcP1ZxozpSoei/e2XmLqH13L9cfBbhQhHOv7MqFInq1fa/2Ys3hInUob8GUc+8sO3qv6ms6DUEy+s/nPh3f/LW7b8=",
          "dtype": "f8"
         },
         "z": {
          "bdata": "FmgWwXoA2T/t0E9oYIDkPxXQJnFju9i/RzNFzxgQ5b9pVyN/FoPiP9l1aBK3afA//PPCAwViwL8t9itj0UzoP2Tx9Q4/AdU/w/dSWBMo2j/LD5uC9TfaP4bj1V2hZew/+LSONfNT6D+PQLBXGtXfP9MQm3jFIa8/qsOeJc1EjL/zZZlBmIyXvxdP1jPhI9o/gmmcVt0+5T+oyYLK6k3HP5l5BR0m0++/zrcVpQU3u78=",
          "dtype": "f8"
         }
        },
        {
         "hovertemplate": "color=Trauma- and Stressor-Related Disorders<br>x=%{x}<br>y=%{y}<br>z=%{z}<extra></extra>",
         "legendgroup": "Trauma- and Stressor-Related Disorders",
         "marker": {
          "color": "#FFA15A",
          "opacity": 0.7,
          "size": 4,
          "symbol": "circle"
         },
         "mode": "markers",
         "name": "Trauma- and Stressor-Related Disorders",
         "scene": "scene",
         "showlegend": true,
         "type": "scatter3d",
         "x": {
          "bdata": "mDBWoPBB4z8dc4Fx7j7uP6GhJCYM4eo/7WwRb7utuL8cbBczcgcDwAc7lC/suNw/RGYWBUlqCMByCJyJuIoAwPbfyMdZ/eM/L4tL+kSrvb/92rYOYcr0P75w1UwxBwPAeVZwanUP4j/XW6g+iXrbP1tnS5Yf7AHA2qHBEQIi4L+SmTGqAk/iv9ZeG8te7e0/rWWF7iEfwD8ajBVy9X7Jv1D/Nt97FtE/OQkXmmG54T/OmA9gmvz8v7g+oo0QxeY/iF1NkSVE3D8XwjyKe8b4v5Kcl8DriwbANlXEUGxQ0j8NBcpnHeKmv4aA1imDCQTAMlHsBkbv4j/HNS3hQ9Xsvy8SKSRWWAbAtu9H+X882b8yWyphUMgEwOro6x3EB9O/N1ZsyQj64D8jhUeqNRbrPwd86AosAeI/E1EP2Vcg4T9hXZusg7SAP7Q3fC5ERsk/W6eDrdQ+5D+lW6dFXBXyv4FBdkiTc/2/jPATLTrbib9U8vwvnFoGwFqqTe9jXATAEQrDR3e+0D9g617SvlDjP/jZttzo5P6/clJY73eFBcArrHf3dlD0PxTubF3gwN4/XOzF+0c15T8crGrzbxfjP70pa8HAAe4/nmwgby0z0z/6BoltQgvMP4HCk8hU38m/BxrKJK242T/iiKd3mEIDwEUoIRYML6o/mbqg1oSP8D8mfStijXzdP/pFBIctVeG/paak7Pvy3T+++zMu54blP1HfWQkzh+k/gutL9E3PxD9sf8r08Gm7v7i+XU8Fze6/2fX3Ui3BgD9aUNLxSyvuPy5vQcOOXew/oA3yM5R5nr+5l/CADrrgP/L7acmCvpa/8ts4WWfD4j9DqBRSAUjTvwIcWnk3kPQ/l1iA67V95r/i8FcA7o/bP9A/G9bqz9q/WWXkaKKDAsDRpfQqNTLWPw==",
          "dtype": "f8"
         },
         "y": {
          "bdata": "O1M/q3F36b9MdgSE/mLwv0491D1Ps9G/+0y5qRlSx7/7Z9iX9MTgv4grUHVAqvm/mzOCCkCe77/ZtO9IYsbWv9TtLs+6Aa+/Fpmq7n0z6b+EH3NwFR3wv6N1V1xMXOi/JBzSFrFb4b+DtaSv2ZXnv4fARsnD5Ni/ENAM2pPmyr9TrFtwpqjpPxtPO1aTWOK/ETK2AitQlr9T7OndZUHlv9oeuwPjhrW/NT27SHEU8r8P1xgJcKXhP85+pF8vXeK/amyIAO164L9vMavIt7znv1xPG3Aowe6/jDYKZC7wlz8xJEPKOAzyv+EP/2pyIeC/3Xd8mrgZ4r+ihLGrzq6xv8fypKPPPOS/5Ap2m4UxxL/zro15rq/tvzjo8sUpb+E/8NPrJRrH37+xZ4CYf5ruv7UufhGKddm/y3Oic52T7b+nyVrkgJPDP5Wv48kyFNa/7NcYRas66b9ev/pu1LbtvwDCvh81z+2/ck9/HugQrD+QAis6agnmvyDNUdj/Mue/KARHDGQj1z+BSCQqQBviv7eQNeKvQt0/uy/MpW1i5781CDR9AaDrv/T/upkyzbA/8q5iYTRCtj91XCjCye36v+LuWHS5s/C/hgAOPtJ/2r9ckWcN3Vrxvz+RT3jw4dK/ImS/4wH69L9Yu2qMz+nov5luFnvisu6/ZOg8Yav/4b8lC7phe4fxv1gNcUk+b+W/jIIRW/Uv3r8w6+NK623kvzPU10U2TuC/5Bpu0IcU4b+Cxw+PsOilPxHccjNbyN2/W6L3N442zD/0UMu+4qncvx+JeIFvGeS/DljKFkOL6r/3jxfSyJTlv339nBileda/vV777JDh6b+Vqqrya5bOvxokXLfQwt6/Kyro7B+x1r+aFrEVF+XIPwtaLYBy7tO/i6MdpZ4j6r86P8JRcL+5vw==",
          "dtype": "f8"
         },
         "z": {
          "bdata": "SMl+bEnS1z+0pBLQSlvVv7AZS5s5PKo/yjtsreZ+v7/OIXk2LRnuP3WXcWlypcy/Hp56AUt28z9xbFof6VnSP1kY6hgxyN0/C28JOZ6nv7/5Im8ytk/OPzQP29PyDec/ny0YbPjh47/RB57RIF7hv/3O8W9xKcg/Tl0opZuX4799Mf2UwIruvwv22malr6+/DVDjX8Ar2L/iNmdR28TTP1rVznQI682/2UaBqntP6r+ems3UbQnlvyEH0Kssjdq/7zfLw7NJ7b8gBTiT+gbGPx6Z1n9rIew/Mwf0bifp3D/bweJiBIbiv3vhCV1Dj/A/Lj6uHEOcyT/N/DS5NWXFP3iZv4RuGNo/l6GesxR/27+oLk38KzDOP/Z8B1DmTdy/Nwnz/1qmwL+stIyTzLrgv+E7NC8AAdS/LEdnVJhNvr/o4qMBA8e6P4oJOmvnQMk/S9uj9P/g1L9+1LjJMWzYPz2HO6N4m90/qfkI+8Lf2j8DUXlNLXHRPy+1RRHFsvA/NLV1J3d+oL959zdCserIv7rgB40+EN2/Hfi2qIx34z8bMNW5a7iQP1NALGwnYeE/uXXTW7bN07/ve1qljR28PyQ9lS5ECMA/T4UuvX7n6b+eBn42rujRv5aGZKo9s8W/68EjV7zbuj9wXlRMcL/hP2uEtTvNvdO/ZqdEflG0oj++o7jLOhngv+CtqbAhq9m/wz2Zdr8V1D81w5QXI8K/PyfX4LFUL8G/WC6rNUfhxD9IRML0aNC9P5mvE/9mDdg/M5SqngdK4z9YrVzQ9PXUv7hfBkaMp8W/JVc/TVZz579Irs3v2Wbgv+OZDsTkHOq//00njV0lzr/dq/r2tqm9vzWa93nk/dQ/jUTBcWSA7r99NDnsPwiFP9/IXyznR7e/0BznbH3/3j/Wf0x6PZHbvw==",
          "dtype": "f8"
         }
        },
        {
         "hovertemplate": "color=Schizophrenia Spectrum and Other Psychotic Disorders<br>x=%{x}<br>y=%{y}<br>z=%{z}<extra></extra>",
         "legendgroup": "Schizophrenia Spectrum and Other Psychotic Disorders",
         "marker": {
          "color": "#19d3f3",
          "opacity": 0.7,
          "size": 4,
          "symbol": "circle"
         },
         "mode": "markers",
         "name": "Schizophrenia Spectrum and Other Psychotic Disorders",
         "scene": "scene",
         "showlegend": true,
         "type": "scatter3d",
         "x": {
          "bdata": "7PLVENRz5z+lKmrnzIvgP4NOVwOBVuS/D1zlDSUl+b+U+pjqZ+zbP+rtb6chIfO/YU1yKOYJ9D+756Zf8uG5P9ixMmCumuM/1QnYb9TmAcDMJ6K7a6nlP/kKzdSaLvA/LATPfYN+6z/ytR/Yy2LQP4oHAjy07fY/GBqT1ynk3T9d54Lln1vtv0kbaG5tcd0/kg+xQuc43j8PDK0laBDpv3T4BT1bduS/G6IashI0sD8GXbhSPcPov429u4g5q9w/4K5KdtS42z854SV1aCDgP8Ep9VuTDvY/HOIcj3OrwD9bdVFW3ZD1P7XJhXMgu7e/9f+hvIow3D/Xr84Qrt63P322vVeMAuQ/snmAdFZlwD/ODEVFZd7XP4PRzsSrIuY/pYYv9lPc4z/212EQF4zDv+2VfIf6s+0/K1io6AHv678V12ojDRfTP23t4PhVBc+/LCvkXDF15j+AkbfeAeXTP+xdapMYaua/LYPtMFA6178hP2F6RPrDvzCy5NqJoeI/TJT8yA5n8T+4vC9SW1PYPyY4tmdhqvM/+RYiiNDl1j+ihgWRFr3uP9XqgrW/Jdw/SF+ODemQsr9X9r4DKx3rP0eERfkoBNw/0TFpLvq84D//FHeVAOWqv3sJ7zqa9ak/Rv8TGdcc7r/ZdrONDijYvwSRlZJkE8U/lrGmL+pYt78aC84TJrjhP1BlR52Ik90/z7zg3bj/8T87mvQG/TsEwG9uJus1HcY/7le5VpX6yD9Bm/O1dI3bv/+1X9VdC/A/xzdfkXvnBcAj6c8zq87yP3NEm7grjtC/yUswlRDH2z+6QbmxqQjlP1U0ug8fZM6/9aLEFXIU6D8GU5EFyl7uPz5BmBrT/Kk/gWiuE/o57L/EKnbv1MHfPxbGZfdZ5Og/wUQpBBWf1r8=",
          "dtype": "f8"
         },
         "y": {
          "bdata": "hXm8zln2xj9Tsw2vF6jivyXq64jFQM8/IlerMd+qqD9sUQZavJzevyNzsqqCUN8/fY/h6RFE4b/wMT7kqpnbv5D4k4jkn3M/RdtfAiIL078NbK7/uXLhvw4bJxg39vY/5i0Yn8J1zD8+/zviYMDAv0romrWRD+6//3gPDpO35D+v1sM/sa8EQGmVxvo3iOo/LLqUEzgM5D+wClb93+blv0F2o6jGDvQ/gNUYs3pP0D9Xr/UJlF3pP0OpFr4BAvg/YQdiCo6P57/3mFpP0RLvP4pIA3v83fO/XADAlTHz579qiyFERX/Qv8xVBOsjJbs/1AxnWypj1D8/vVDKkeDsP3z+9edipdw/ZS/5Bj7R5b+GJ8x09STmvz1isaAwAtY/EOH9YnF53b8BXMtdi8XoP8EXl+alg8A/3ZGsHb+d9D+1cqD5ibrFv7FAS+qx8r0/DlDsoFHgxz/A8dvS4EDjPythZt83TtO//4wu1DaK5D/fKPjg96/yPynX6UAOdtO/1btY5vPwfL+ldYC0HzWtv+QN4q7D/7E/RlVDZ+L+7L86tcUtdwHDP4/8BdOXpNO/annRwf6N8D/v+B09DrriP2QKm4FASu+/reppDYRD2z92cyPfF4TmP7+8aLiScqA/9gN3tkt8zT8Q1XCDd8LxPxei2yXfkd8/oAopQD2E6z+dYrMitXTVvyp14DRr784/5zASIG5LyT+8u5uKo3TSv1Q+8vn7mvM/mtWQmfYk4j+2OMCSXhHuP4ugz1f8T2Q/3vi26zxg17/OfU14KHbov7FACXeWeNg/C4NtPiXTuj84eHctp+LDP4U11+vTBPQ/Pxow3aZWx78x1ivKhxPXP4zS+ZQFFPA/hZFK7wLRlr+0q3VK6b7cP6rQtzJRBdc/Y8jBcB3f1r8=",
          "dtype": "f8"
         },
         "z": {
          "bdata": "CtoJEH2E0b9ukEGzQ3zHP6m4CDS88OS/7C8PqK775z/tM9RsT73Yv75/x5v9Lq6/6aiIF3sh5j/D6LhbiSbWv3064uERTte/EFvp+Tw28j8axMjBSJqiP5AqTnd8xOY/iH4O9/Qlvj8/RfLKtTCrP+QrhFe/deA/BDpN5MTv0D+YfmmVyVP6vzAX2KTSKcQ/sLdzGJRz4z9hfbZZkfrivzyCA4wfZPO/rikF4jl13L8jV6cP5kDhvwyFYxdfj7g/zkN0EoUb4D9BDCXUCKHEv2Xrksv9C/I/pNajrTE72L8Wed16nVXYPxKxnbwGP+W/IykMMtVvwb/jPzN/gePcP8De5qknhsy/m3wULdzEsD8PZp8TZUzKvxNjBXTyJsY/v8UiJM8mzz9m09EvI7zov9NuJ0q+Buk/Tl/m+9fO9L9FIFXWxHLSP2/X8J0HeuG/TjDr6iTf4D9QCcXkVFHmv6ilC9dRHOm/fgwU+NwTwD+/iSvBaPvYv/Mc0gXCmLa/rScztDV55z+mUrEXeb/dv8piwflhBMc/wpqfontD6b8n1EJwBJXSP7ABqQ0RduG/iJqZN//f2z+84gJyuKbqP280cAGF1em/h+qNVlecwj8dpG6YlS3iv30aEMPF7uW/GtIUAKvF6z9j8v+67APgvz8oJBjHJMi/fKzZ+IS24b+xE5RsnwnKv01s0FULP7G/T6fsnScs5D+HaKuiYgrmPyGjTy7EZai/S91+jtuNfr+Hn8isSRrrvzDFYQylUNw/ngeAivcm8D+THwBlBnvjP4veYhSnNNA/5YdvkzHYyr/5m/tesFnEv7QOy8D3rPC/jRm7zr3zwz9IZLhjg42fv/1XT8aVOeu/C977Xd6N+b9yg/oJdGvRv9aNmZnvoMM/h+vXS/Lk7L8=",
          "dtype": "f8"
         }
        },
        {
         "hovertemplate": "color=Specific Learning Disorder<br>x=%{x}<br>y=%{y}<br>z=%{z}<extra></extra>",
         "legendgroup": "Specific Learning Disorder",
         "marker": {
          "color": "#FF6692",
          "opacity": 0.7,
          "size": 4,
          "symbol": "circle"
         },
         "mode": "markers",
         "name": "Specific Learning Disorder",
         "scene": "scene",
         "showlegend": true,
         "type": "scatter3d",
         "x": {
          "bdata": "4eGROPDA2T+7FdJHtK7TPwiOzLhYi+I/LKAr85b/3T8yJDcRN9riP9rXjenhvAnAaPst8FU027/iawl6bnHhv2FZv/HgqOc/Lr8OZ55Mt79YYzyRiknQPyguwZlYvs4/V6R7s5B65z/Q257hW5HAv3BWfQrM+do/+8aOsdIn1T+orCCkR1fivzKZUp/2mM0/64dJswlA2j+w2fpSFE7uv3CuDaRum98/LH4R8wRttz8=",
          "dtype": "f8"
         },
         "y": {
          "bdata": "OH7aJ7uB87+dyTXnXju0v0xcqJbeU/O/dqbqGwLA5r89vityKGj1vylyjMNfTeq/9PxTB24B97907K7GAo3zv+/+UcXMuem/RzybYIb+87+IeiDSNfT2vxY4A63ERPK/QsqKqCa/6799dfk9yhO+vw/yydl4BvW/qAuvruCJ5L+1EQfyvcTUvziMZt4LVNq/TeEOeHyc5L+r0D30N7ndv7Iyc1qNaPe/QRqw23Ws278=",
          "dtype": "f8"
         },
         "z": {
          "bdata": "mC/MLGSX6r+z/OhcgDzLP9fkA6lGTO2/2NBBrtLkyL8bguK+JcjNv7DmByFoPNc/KhooH8yD2L9CWAySpRfnv5npuMQja+C/4Luzbv677b8T2bbD1iHdv+UCoGBKyOC/8VPudYLm0r/GQCZa6Hn3vw9LRuegt+K/0fVBEqdy178QiXGASVz2v+wFRoRGtdq/a5REYl5c8L8GDewr9FXsv47SEJywtdu/BaX4DwvR2b8=",
          "dtype": "f8"
         }
        },
        {
         "hovertemplate": "color=Autism Spectrum Disorder<br>x=%{x}<br>y=%{y}<br>z=%{z}<extra></extra>",
         "legendgroup": "Autism Spectrum Disorder",
         "marker": {
          "color": "#B6E880",
          "opacity": 0.7,
          "size": 4,
          "symbol": "circle"
         },
         "mode": "markers",
         "name": "Autism Spectrum Disorder",
         "scene": "scene",
         "showlegend": true,
         "type": "scatter3d",
         "x": {
          "bdata": "urQEcuVt6T/iGksd+ebgP5Zd6OHPH8A/uu/Ee3xi0D8uCUbJGvzIP1ORJZ1a5tU/dSkCb/tU7z/e+yLHIRrrv0C8slklDMW/5aVFZ7GY4j9yC3ayC5ZGPzkV02vw3eg/9pdOOBtV5T/qqzPxR7jFPxZVx/Q0x8w/aWkEtJ/b5D+1A0n+CjbeP7AlcCV3/vi/5Wra8aoP4z+zihHt8kABwDAaiQ0TtuY/8d6FZsWJ5z9XGq7FxszsPyyi+1DKALi/8aHkogsY4j9zLOBzkH7UP9StgJTr5fM/1IAwI4v80z/s16oLn0bhvw==",
          "dtype": "f8"
         },
         "y": {
          "bdata": "nQ77rIje+78QgmBRxUvnv3zaxdy9ree/hWE8Ago537/lNtrDKCTlvxBmzrDS2O+/11iO8sAgNT9linKZIpfxv63eiXjD0Ly/qsQY1Zvx+r8vSeAyU4X/v01DC9NLsua/VMT0qWwW978B3X3NfxrjvzTNs/3bEeC/PpbEYQNu879eiBLK8tfuvy8cWeJWZe6/ryoV7dZh7r8KeMaSBxPpv3M+09oHLPG/4eDe9VQr9r/h84n0dfnpv0Cr8C6hTO8/Qj7W0/Rm7r9rVEIo2/bev0btuCEpiOO/9NFl4bhc5796fK6wckDxvw==",
          "dtype": "f8"
         },
         "z": {
          "bdata": "uhSZcQIH5L9Wuq60eMjzv+nJHHdic+q/nT/BQXlVvj9PKCw7+nnhv2EObzv+z+e/d92PCcE737/AZ9UZxM/hv1Sd8jljleG/CdlE+f7m6787wKJPWs7qv4GD+qEGK7i/qrNA3lcKpL9lfl+mADLbP1ioMT2ESeW/ghobG9VB278cQ3Gku3t/PwIur2Qn/N0/JR7bD7jM3r/93Ekop5jIv9QElorsTt2/S8CutOOw2L9I/bn9rXe1Pygzw6hCyfq/QZaYpeRQ6r9IE02qwsfUP8kY7L4GC+I/QVGruR+oxr+9Xg71RQLmvw==",
          "dtype": "f8"
         }
        },
        {
         "hovertemplate": "color=Obsessive-Compulsive and Related Disorders<br>x=%{x}<br>y=%{y}<br>z=%{z}<extra></extra>",
         "legendgroup": "Obsessive-Compulsive and Related Disorders",
         "marker": {
          "color": "#FF97FF",
          "opacity": 0.7,
          "size": 4,
          "symbol": "circle"
         },
         "mode": "markers",
         "name": "Obsessive-Compulsive and Related Disorders",
         "scene": "scene",
         "showlegend": true,
         "type": "scatter3d",
         "x": {
          "bdata": "plSEnNWC4r/Po5S/sAX7vzaYmiGjU7s/y6yT2XBayr/lvYR2TWzAv6KAeQ8MlKm/Dd86vX5wzr8I+QO2v5fXP2Vhng9yDec/tvCRpAw99D9YtDRDo93oP27aS381sNg/tfAvlPJqxT9zTfnlsVfzv6TScVKrVu0/npCCd31uwz8BE6c3rG7fv7usTsyI+6m/F9G95LfKtj980w8KlYDqP8BJe38Snc4/SjHLmmAG5D+oSbg56ZF9P6XaY6nENgTAbKpzIXYbxj+sSQLg5TDBv0utZs4FAeg/ApH9bDw24D8CVdyOFKrPP9/YO/DNFOu/bmmZZRM9xT+QWvAZ9cDJP+GW7CF42q4/9zFkVGNywT/EouZ99OvQv9T8YYb7ML2/2Yliaoio0j+6TQP2JKOyP7UBOlkrwuC/vwlbRNn91j+7x1OaGBbyP6tP6qr296E/XrXggB5qwz9WS5j30y31v5U/347mS8M/r+JY0Y3Myj9VimdJxmDlv3xTmComN+O/61NxuQdh17+PmVIazgX3v3rgWtD53NE/RCcTPqQ+57+C5cWy3hjZv0Wah318hMa/mFiAMycOsj9eS0zH/c/kv51McjYlveW/Ai1DcCyS9z/eyXFNjw7lv8696URzBry/ZePdnekJ+T/PXF5ll8DTP4eGMSLgVec///2kAIwJ3T9QgbtA8zjkv88O3tVqZs+/Y9atMEJC6j8su0y7V+fdv6u00gF/GYs/H9hYukpS0j8sAGE/SMXlvyT6f4lokOe/JjiUrEGE67/ssZ/Fa8DYP/PG1hDUIaG/6AEOZhht3L/iW+BaRjXvP+teE10LyqM/tcKPWKVR+j+xFlVq7+DzP0XtuM/cosS/lkxy95KGyz8snM3Q20jEP3lUjVid2uc/jKsuPwH01D8=",
          "dtype": "f8"
         },
         "y": {
          "bdata": "6wPv5IVl2D8jTLaU9FLdv0XaTp0pG8E/bl8ywe64sj8bWJDL+rW5P9bD60xmVOq/BgcgG2Gr4D9CXE5Cn9TwPzib9lbGKdQ/VeqgmWXe27+rkKh/qLjQv60c8KcN3NM/VU3ttUsa7z9EOrnAlfj7P2k6DPncDuY/4+SnjmFz678kuEpiSe/wv1DH2drajeC/pqHFsNDh8D+EbLZeUxXaP5O2mIaFceG/lLfZkJOBgD8X0942wlHoPxAHdymhs9m/nStYY1a9vb8lD7nZQ9jmv0tzpzPvwtq/r0NlTioj4D8sryW61bvnP3HUZN56t7I/lB1pJULNur+1As6jOgzTv97Rsiy6DLS/Cu2ar6Hi8L/XWh9hEazlv394eCEfgM+/b4Srl5O5Zj9yQxrwRWzXP7XZI8ZfUfK/ox+lYrWD8j8uZUjkAJPivyaqmGA7nea/5JbA2xAPsr83KDradyDVv59Cptih5+G/3fZhSVLg8b+fsaAAx87OP21CFY8LO+e/ayvNipmo5L+idTl8x2SxPxLa8xQ7rLe/jauzZftco7+Md+QAC2fsPxGaQz6GVeE/VPZ/P/uu8b9hU3LqbVzTv9qWBc7XTPG/mVhmdin30D/A/DS67iPEv4JxSjC63eS/0ywvhZeS4T+XxJ8bMyvWv04FBD3PkNy/g2GRUv9V3b9u+rymBmO7v7JRbdA9N+G/H7vGgNYY4r/DQL0lEV/nP1/kSJxEsPc/OE88TIWk7r82FiRkb+DBPwu72zgeDc8/aWhJVu6F0r86ZDOu4uy0P7Cm4++qDtu/e6z5Qc1Vsj+VZfEDUZLuv0iPKUJ/RPC/qpODDVamqj9uJKd1sW7Qv2yhAfdqARq/cKY25Pdw4r/bMqsOjlzivxqq5pPw6di//0i85NFq8L8=",
          "dtype": "f8"
         },
         "z": {
          "bdata": "yGO6uu+h5b9FcQTASAPRPy3ug2plGpY/hbYU8Ix/xD8CJ8q74IXYP0WX0yL+Fue/1unQ0e5jxz/POeywNQ7LvydqBP0YRuG/hNVJ16Wp2D+q1j6epnK/P/jk6v9BXbU/yZYMRzgE3T9ZSxvxEDTyv4Nf7y9ztts/Gy+oyCMuzr+tiSS1VE/uv0VwwzocpNQ/m0y8w/UUw7/wtMt30AfgP0FkeamTV9G/dEZgyCJRzD8E4dHC6F62P9iud5/kbug/0MO/RBhE4T841lpgi5bdvwuXqe9ONeU/Bc5c876l1z97/KLiygjiP/aXqjhrOeW/lazYCGtN4T/j/rCPHTHWv+Dl1MLAjr4/Hhr3SrxiVT+TiOm0Ianhv2Rcovuq3tY/HJgAoYmM5D9zi264cMCiv74+P4Z0feK/T4EkPTapxr+33m59VO7Hv21qlLRh3Ka/V57HCC7Clb8ySd3LH9HHv326Ls15W9i/8JaECT+rxz8meE+S04CpP2hjgsaLHcO/Y3dhH30l0L8nUngNhwuQv/FZlkNh7t+/POMmp1Zt9L9JfmgPXrXJv9o50EnJNde/e15t0XIRrT9PK7hGOObTP/m9Upi7r+S/wvYBvXDT2D/NKOMEQnPRvzv48kxxg9C/o/L6+LPB1T984AYuDOTfP2/nj0MEfsu/x/f3lOpY1T9cA91Kk7Pqv5VaEqKsgtS/PNZBSHHq1r8aMjyCbF7YP7644dosAN6/I5HWYT74wz8fFT6nHEHlP1tx0CAP8cI/692wL6jYz79ZK/yaK7nKP0krL4IEXJs/+wTwhmTf8L9hDBQj9SXXP07MYAQmdqq/byazD5KH5T9GT7X0RJ3BP7MQDhv7kKY/R3rhVufB6L8/9jKd3ga+P56nWggZi5a/O+5FCT2rwD8=",
          "dtype": "f8"
         }
        },
        {
         "hovertemplate": "color=Cluster A Personality Disorders<br>x=%{x}<br>y=%{y}<br>z=%{z}<extra></extra>",
         "legendgroup": "Cluster A Personality Disorders",
         "marker": {
          "color": "#FECB52",
          "opacity": 0.7,
          "size": 4,
          "symbol": "circle"
         },
         "mode": "markers",
         "name": "Cluster A Personality Disorders",
         "scene": "scene",
         "showlegend": true,
         "type": "scatter3d",
         "x": {
          "bdata": "GVB1Fr6NvT9piABsIO3gv0l90y2YUvq/6ypd9pJm2L8YLLsop/vZvwkK37b3FfA/fzQKOEb9pz9jl5/f4u3VPztljUG9AuE/Cyo7eZTDuz+1ayg78zjZP7ImHn6JXcm/XU6AjiUp5j+W2t7505sFwGYizm7IX/c/LPE1xtbMAMCNTMevodbqv7s+s2s8GwvAnIZ59YQLzD+wvJ6we8Hfv6vkUbA3EgLA2D0aE1A6pb+F95zX/QS/v3BBuecNwNk/66CDq31h9T8=",
          "dtype": "f8"
         },
         "y": {
          "bdata": "rTKOXKm097+7RNYUMNbpv1wjozyWhOe/xMCgGc0D8L/XJonublTEP9oEOeRq88W/CHyQP6WBz79aeNmqO03av2H+HKtdi9S/V/LghP7Bwj/xihtyP6azP00PQ3BIcPG/E2BdPs7y37+M4ENLXA7qv7HlFzQf1+a/M5BGKBss5L8zV4YBeWrzv+sL28HYy+i/3PD3jBQr4L//gTdX+172v1V9j/L/gPC/2a+fm81orz8sHbRCW5jwvwEL37/9Cq4/nTRhGsCG8b8=",
          "dtype": "f8"
         },
         "z": {
          "bdata": "Lt6n5r9t5r+62qBtjLbmvy/tl1vBYeY/4MW4OOEL57+8ch/QumPJP8JYV8501eW/kPS9Uuxg578OdiW5dKXZv4GXPiUqccI/8p7xFpev6L9mkL8AJ1vAv+tZH6zd+eq/wfvUHW2bwL96odUb3sXsPwylu2bzEtc/iQdsnIVO6z/jCFbLnVrlvw9VajQ9ctE/9uzWBY117L/A7Of3Y2fxv42gcugg/98/d1WLewyAqj+KCvIIruHpv89uon/489i/lWb9pxgkpb8=",
          "dtype": "f8"
         }
        },
        {
         "hovertemplate": "color=Cluster B Personality Disorders<br>x=%{x}<br>y=%{y}<br>z=%{z}<extra></extra>",
         "legendgroup": "Cluster B Personality Disorders",
         "marker": {
          "color": "#636efa",
          "opacity": 0.7,
          "size": 4,
          "symbol": "circle"
         },
         "mode": "markers",
         "name": "Cluster B Personality Disorders",
         "scene": "scene",
         "showlegend": true,
         "type": "scatter3d",
         "x": {
          "bdata": "mNn9QLCc5D8Kywe7lmHhv/Gve6sHp9Q/kq4d2DvVtj+l0bxihFXAP7uEmmdltec/iWgAY4+3tT9OPVlNvUTRvwl4jzE43sW/J49wHYof4T8qz2x34G/mP1H4gg6ecOu/otdptphN4j/pOwHSMhHGv+xQokt8JMK/A2BYuf4+3L9g+FGByXXSvztWUbqfK90/M8WzJbVJ5j9so5DctzrfP2S7mlOr8pm/eEo3dKpW9T8DsoJarXLxv7KVrOppN94/ktkgHjntxj+qsx+KVvbjP7GhMZkr8NK/o40e27CEDcBx6w/Y0SPpP+P5tvuwKte/ZiAmI8je0T+2mTzaHe3kPzuqgc2BmgfA5T/rWWxqBsDUPbjzOrDQvzbcPqTBosc/HiqnCOQu2D9KkqkKs1UHwMKE+V1GGMy/xcXyqlnI178v6u4n7+ryPw==",
          "dtype": "f8"
         },
         "y": {
          "bdata": "yjMyNWg5xL/36DGkSojfvzRavVZAG+e/NBYd3ktQy79uluaJPYj4vzOjea1TNOa/K+jLO73a5b9uhFm/A1L4v4kWaf3CMM4/MHUaqspu4b8WoIyf1Q7gvw3M9fTMCvG/61NrDKKL8r8c0x1qIdKwv1d4hKjWI/+/pKP+ELur+7/euF3VwD70v5T+V+fpyLe/vQ3zsFPX6r/l4v+yElOmv6EJyR2q+/K/fNhPdHP09r/nfHntIfH0v35ZkNzUFeO/eYML/QmQ9r+J4VdgHDTEvxbrjAqmJ+q/zZLjM9jp8L8mfEzB/lLbv3+rNwbFG/C/Yo+w/4Xd+r9UPM4xY4T2v+RCF5Zd7+2/eoFQ7P2P9b85Uey/U2rCv/8l4u+7rtO/vchDGJLL37+g3bo9wVnsv1xd/8OPffq/sg3Xdc4d9L+fwKq1H9rivw==",
          "dtype": "f8"
         },
         "z": {
          "bdata": "/psUlpy7qr9nhbQfYdzEP2f+TTzGJME/ylWAGYAr1r8gKLUbzY7gv5rWHXdY5oa/liMWTeoFs79uAepY1qLkv+BXqmL2KKS/nYFYVxUi3r/VcabtuGfjvxlVnuZQk8+/KmB2LmlO5L+aEoZq8iDAvz7QvSVzue+/5A8eqM5E8L9h7fj+BKrfv+abCAvdhOa/eJu8lTvz7L86PT5BYbrePz5WO2P8raG/k3PcxNPc0r8ehyAoXL7kv8+rGhl7AOy/xP0Qt9zE1L++ckAWjzjhvyEcSSdIMPC/UZVQIKRW1T92T98BLsbZv4UZTt8lHuq/tCuVPcya57/BVcMCkLzBP/sfDgDCifI/yBKN9v9C4T8dKTx6RrDFP2wFABX/dO+/YCSIaTNysD+hZC1JKNLfP3xCPXPo6uy/RziLF1866b8eqtmcFIfTvw==",
          "dtype": "f8"
         }
        },
        {
         "hovertemplate": "color=Dissociative Disorders<br>x=%{x}<br>y=%{y}<br>z=%{z}<extra></extra>",
         "legendgroup": "Dissociative Disorders",
         "marker": {
          "color": "#EF553B",
          "opacity": 0.7,
          "size": 4,
          "symbol": "circle"
         },
         "mode": "markers",
         "name": "Dissociative Disorders",
         "scene": "scene",
         "showlegend": true,
         "type": "scatter3d",
         "x": {
          "bdata": "oPUo/4Zb2j87Qlpdza7rP/P9Y+jLnLw/uhn6970X6j8EmW8lJJ/3vxtFZOQbXcs/pge6spV5sb8nuYeCumjsPx9jjj/1Kuc/p3GpTbkH7j87wgVhhrDYP44QSQ5Qs9w/0xAsAgBk5T+ee99A0m7qP9LvSHDH1OQ/WdGUmwG7xz+d7bq2FATdP9j6xGFG8+Y/3ETVFJ2b0z/svhq+JYjuP+6BtNekY+8/e+ifOyek1D/m05Vkw2zwP15jWIA6b8I//ty3s8Bpzj9x3nvjMkWyP1vTlV4qrbq/EAId5EfR2j+fY43nEOPzP25mQbtPoto/OBzS1e6q/L+yYu8ET5TmP452AnIFrPM/XQh12YSm5z9CdUF46irsP0lFjns9+Mi/6YK8fitt3z+vWu5yknPHvzHnPolPYt4/TTXFbqo39D8684YU8rPoP+HyFEoAz9E//t/PxH93gz+VJDaKnLXeP/jQelEKhbM/RpCYhDsq47+3Xb678vrkPz4xPlJk68Y/5o4LecQC4j/Kvp4DIormPw==",
          "dtype": "f8"
         },
         "y": {
          "bdata": "dwusB0UA0b+JK2n4Z1Pgv+jnVuk93uI/hpl7s5AJyb99VY1pVOO6v63zfv7/9O6/+PEeLaFf4b/9b3jhWqPTvxI5roGUJKc/ZNyggM9Oz7/nz3qb9Jrmv3VY0yOxVPG/zRlBr0Sd8L8eA/djiBqpP+sgZJtxZNO/P9QjZaNuzL/xsEQd/7fFv2IZ5YyEve+/j3uDWJlo2r+cf8F00Rrjv1DCg57j0Ou/UGKCwc7w07+x3vVId5+3P79GCnCREbG/0/EEXOgu4b9S8gigU73fv/yJoATAzbU/0fjAKK2B4r88AuwuH/3jv7igW+eejZ4/qAbnv/UizL9btLjHqrzev0C1aFZIuZ6/DXGycTE1p78BOjA7jJHuv1gvYyPyHeA/3/qtdQP40j8Vpn/xjajIP9tGoaBteO+/8wb2040U0L/aQUjEHjjqvx56IEGsaug/dz4bRnzxsr/cnaI0QXn4v3wJJ+2ViOG/gTCGflQEyT+6Cgo7qDbCv7bdka1fHuS/ZwgZLu2P2b82p9oCHSrmvw==",
          "dtype": "f8"
         },
         "z": {
          "bdata": "hNb1UKgs1L990bZfRS7Xv/p0H0sXsMI/W48Gc8Rr4j9XQlxWul6Nv00PMzyYnqc/jHuhTlkg2b+eN5hu0ybTPyay4m9H/N8/HiUDMdDA6T9OXKgddOzTvy9/sDcx6cc/a/os8p/w5D93pYm1l0ftPycZnjA3x/A/GqU8tmKVy7+ZYSDLMtDVP0ns80poI64/psU5tOmD4b+nnKZJoXEiP9ZdlqEcjZS/JbtrWjZ+sT+jxl9Ne9LePxy/l0aUdeG/K/uCoR/m1b+6hIqzILy3P0nIFtjsHsw/mUrzeDMTw78KLg/tiRTMP4VtJ3aZYMw/8rGLSacD2D+mFWSJu12zv+249B5H4+A/ijEP20KY1r+V+scenTzNv63W5QDThuW/at1pZNT47T81NhKCGc3iP0aCGA1V/Mm/NNFtQooh0z/dJz2KnvbkPxE5vxGnWvi/bEbMfsW1zb8ge4shFmG4v8jKHniS++u/aB663POKxL/gT5tlzCziP6jK5V1dSti/vJj+ZDSS4b8mk6SDZC/cPw==",
          "dtype": "f8"
         }
        },
        {
         "hovertemplate": "color=Parasomnias<br>x=%{x}<br>y=%{y}<br>z=%{z}<extra></extra>",
         "legendgroup": "Parasomnias",
         "marker": {
          "color": "#00cc96",
          "opacity": 0.7,
          "size": 4,
          "symbol": "circle"
         },
         "mode": "markers",
         "name": "Parasomnias",
         "scene": "scene",
         "showlegend": true,
         "type": "scatter3d",
         "x": {
          "bdata": "TED0tY+i2D8udr9YfUTUP/6ZGX79+b6/egGA7Gxyvr+V08M1jXPfP6nr9GpB9YE/wled7pgi7T8+pE2OZizxv+k5qnmoRNc/6qAna/GI3T82zhbMKf/1vwjBAO45msI/93LIWLHG0T+scDk5tf/Uv7KhPid14OK/6khBHk/nwj99geXrCs/JP6Gl83O+5dQ/51pyl5E52T9gFl1nSIvdP1u8EHubb94/gCzKcRKF2D/+7j1nXw3bP1wd0m9TReq/14bAi5y52r9Ul/o7C0vpP9eG6RXTQey/xB1dxoD94L8SFWYdDaLJvwu0B97f4uM/b2DR6XMQ5z/sWifJ5WnTP9w270WRQLc/AWCERmGu5j9lX3RN0ivyvz5TJA+6INg/Dq0pp+OR2D+trTH3lU/Fv38uEwvZ9f+/FfyMY1Hbyj/nXVxT1XCUvysicm1yAfA/45O/bFs4+L8JCg8BUu7zP5cSujYftde/GdkHR4AC0T+DcxP4/xjjP0Lt0r+fB44/yd6yn8Jtlr/3S1yK/pTBP/8YuBxh5dI/A1dmuvuR2z/ATh+wM8vUP2S6gyar4Pm/4+XoSCWHxz+3nrX68rPbPxAS0E/rH/C/wNqkH60C4j/EH8rL0wvcv0a8wJXNgNY/g8oYW6nb6D9SY9c4GjXYvygAJKZNVNQ/lhu6sYbk1b8=",
          "dtype": "f8"
         },
         "y": {
          "bdata": "NUYbuGsnwz8pM88ZGFDTPy5E4k9L0OK/tGcML54LoT/9bvvuR0bPP/f8JmBMYvg/ljIDSmElzr8LY+1dxTjSP5dzanH+bdk/cOTZE6Ks4T8ijNJmBnToPyK5qoCK49+/ASpm/8vox792+Lvl3rCIP4qI/zkaNPG/q4uW185j4z9bfH4ftUHwPxizMj4fWOg/da8rwnI+wj9VccvVwhPXPwiR0tgCifQ/Pww8+NjS4r8q7NCKSmvmPzMvsyhMesu/K35bDs/o4j9ST9fibh7Sv3J/HAO/zdE//P5VghaE8z8EFzFyyPnmP/5Ggv6cC9E/NC911mv1lj+YeovOVM3iPzbikDpvjra/5nBUf7Huw7+BO2cmGqvRv80Z+sYA5NK/x1ypSo9v3j90yyy7uIrkv5X9WpICrse/ak7F/5592T8CPYMvxPztP4Pycy6PjNU/biY3+dh1pz9CgcX5KwX0P2GJWnaxFb0/zJuAk+RGwr+4KDam+JPWP/Oi1lYIYeW//JLX7GUe/T/ol8Gqdxvqv/nP2tzaEdE/Tmc5XkJ54T9I2iZw6aXsP2jciCKOffM/WF8k2HRY3b/xR+4YU//jv19PP9Ndi+A/5NHHq3Zf4T92VwVdLpv4P1IX37jvccu/ySoC3RIl2b/2IKcIxMfIP60EdH9YeOQ/rFCt/Wtt1D8=",
          "dtype": "f8"
         },
         "z": {
          "bdata": "rblCykLL1z81jUwBJcrhv6CSMPsnIqa//MFEVKCT0j8sp4BUUIHPP0DrgMPdhLW/7l6yUzeH8j/VHvLFFEysP4fvciHVU90/FRgSc1Jp2T/RJdA8iQfiv1qMX9RqWtI/AqRhsAH84T8zJH+4nPPbv7HCvsBp2KC/2/jKnrMn+j/s858rpCLAv+cbVFhCrtQ/mgQ6brkLlr8xaImpryj1P+AkyrGrJvk/SCtEu/HRtb+BTEcov3vrP8cpmrPVfNK/5PjD8w/92T9/AN8PJdfMP3Qt8MNxgdK/74zg/77m4L9gASdC9k3kP01TXWG69aK/2pIoVeixqz93o680+hvYPy0tKeAmNtu/AFBfN68dxr8PnrvuMNvXP2PIVEXKJqs/SmJSARAAq79csNmVs72/P6Uff+8YzOk/CllZiqvolD/VjzIpvTL2v3v6P54b/8g/On5v1RlI0D+86luCnJD+P4pJwHttJ+M/G2lgAeaFxb+uXMvib9jRPzrZ16PGLdg/1QRY/wKZ3r/ZWRz7kfvOP6dZkBFXduI/scbnGtGA878WrhBHdQvov/ZmECUAZ/G/SFqg6MntzD96Ap0n3rzSP9u9YdK03eA/7TJdU3AA+z8rtelQpB3ovyyavJkRZtc/MDPNWUeD5T9XwFfHYUfGP4nIrg1eJ44/VMAArZk/6D8=",
          "dtype": "f8"
         }
        },
        {
         "hovertemplate": "color=Communication Disorders<br>x=%{x}<br>y=%{y}<br>z=%{z}<extra></extra>",
         "legendgroup": "Communication Disorders",
         "marker": {
          "color": "#ab63fa",
          "opacity": 0.7,
          "size": 4,
          "symbol": "circle"
         },
         "mode": "markers",
         "name": "Communication Disorders",
         "scene": "scene",
         "showlegend": true,
         "type": "scatter3d",
         "x": {
          "bdata": "jTEic7fMob/aYCnkQ2zbv1tiVgixAwPAeank1LMH1j9OoPGmhdfGP7UAHvPhkfu/0xQc6OCry78PqU3s0wi1PziGEt+Vht2/jj4Smicg5b8nObr5OQ7Qv6SbgVIYPeS/33PHUqsMrb9Cj5kAVQTfP4dO2D6IZcW/Xe2A0ESd37/Cbf+NIMzPv0gTb0dDqe4/sfszpnbM378V/Q30tpbFv8/mFNpOpOA/ITviyNQkCsA=",
          "dtype": "f8"
         },
         "y": {
          "bdata": "lUaK+6a96L+Wq4oHgOfgvy3E+JVCoey/lMe1jXZI578YXKLlienzv/vYKyZSb+6/TZrWtMOio78dmk7ys7/kP3iE7WHU29m/bzoOHrJ1nL83jEG2ERbEvyQe8JSTerE/9YLjaK+v9L/5dW33qHvhv8dbFR445fG/q8SbnKwz7r/AEmKKpbndv39rbYi+w/W/BTluanepwL/SHGyHCAjev3aXOtHxyOC/eag99CHz5b8=",
          "dtype": "f8"
         },
         "z": {
          "bdata": "AwekNfpn7b+c2vFtvSatv/PKzU3oXsM/MYcAUaezvD9rj7T8/aLhv+SLohCIXZi/Zpbbjvkd1z97f5YI+/H8v9pBNQtDi9Y/8EsurkIArT9kkUjjQQXhv6Z4klXKQ+m/GfIZYm1E7b9tDnb8tKOnv/OiJ1QYPcq/GJwTjxelqb+V/mtU0kfBv3LtJ0XfvdG/ujhnHkZYxD+uWyUj6S/Vv5UKV1l355C/8p0e0NE36j8=",
          "dtype": "f8"
         }
        },
        {
         "hovertemplate": "color=Motor Disorders<br>x=%{x}<br>y=%{y}<br>z=%{z}<extra></extra>",
         "legendgroup": "Motor Disorders",
         "marker": {
          "color": "#FFA15A",
          "opacity": 0.7,
          "size": 4,
          "symbol": "circle"
         },
         "mode": "markers",
         "name": "Motor Disorders",
         "scene": "scene",
         "showlegend": true,
         "type": "scatter3d",
         "x": {
          "bdata": "Tw/S6tFz7D/Jll0ZV4/0vzjhAjdUN9I/PLqFHKEoub+H9Hqfv//iP5asb1O7KaK/polDdcAG+L8ry07GOpHDv4Vw6u9I0aa/hS1v3Vw50D8gQ5o/G5jVP4gYZQ+CduI/qd08FD2Gxz8skuJv6a7bvxH84D/iXdo/l2Cm2Pjcwz8CKa5lup/kP7AjUjEBv++/pWG8upQc0T9LKmymq0DnP+n1eKij6N8/M0KPx8Siyz+fHYltcb/dPyU7xVJ4OJk/HZS3oVky8b9IonDvv7vvP26+dDQGVsQ/jZbgyY8GsD9poh38zCvgP2S7frm488A/cmOdeTzhyD/n3Tg5D7SkP1PzOr30W8S/",
          "dtype": "f8"
         },
         "y": {
          "bdata": "XdKDhpwuxr9LnuiICwDFv6I1HKhbrdw/Qfo0psETxD+c/n0x27Dpv4ODV2u9GeC/xFi34xLDvj8s14e2afXHv5WPQUDVmuE/ytxG1pbH0b+WYEirPUGpP92LT1XsRum/5DRG1EMu9b/wuKddXHW8v22nSXncWOK/tissdgx45r/Awa5k2cW2v9CpvYG39rW/H/wuYP2Rxr/WWaIjiBvavysEZwOvLuy/QjbLX90a67/4FwjORNrGv3KxRIOJjOK/OxZ0b4eZ4D/NYdWSmVSGPxGMe8TTFcC/jZtkQpmk9r+HF4WTnDfkv5LWVoz/2+q/0RcKMdab4r/0N1lLxafOvyHPZ2l67d+/",
          "dtype": "f8"
         },
         "z": {
          "bdata": "jv829K/LzD9+mQdIy9/hv2puglc9t/S/4b2yHE5d2z9Fly7rC4PZP+1qbeRz5bg/AnCaBH3C4j/DQL1I6nLHPy32DS3sc9q/65umwSzqfr/eNYgn42niP7ksvypFKtC/1xMeBUFa4r9Jc+Zqx5Tgv9RolZnqI8S/1qWDVeZPxr+fo2mcrJ3gP3/ug8Deisu/Efj16mrKtj+OWb9NzeHCP0xj3rOY7s4//Wfj7X+Krj/EeUsBo0XYPwnDpiPiG4q/L3btIkaQxD9CXZ+hEfHDv6w0UVqgBuG/mx9+ED8fsb/5+VaQ0Y3DP+pZ1vNsXbo/NQoSXkmvzz9y/8PZ3Q1cv2rwDWe6r9a/",
          "dtype": "f8"
         }
        },
        {
         "hovertemplate": "color=Neurocognitive Disorders<br>x=%{x}<br>y=%{y}<br>z=%{z}<extra></extra>",
         "legendgroup": "Neurocognitive Disorders",
         "marker": {
          "color": "#19d3f3",
          "opacity": 0.7,
          "size": 4,
          "symbol": "circle"
         },
         "mode": "markers",
         "name": "Neurocognitive Disorders",
         "scene": "scene",
         "showlegend": true,
         "type": "scatter3d",
         "x": {
          "bdata": "gpeUREUUwL9cSMLTEeQDwCtrqSu4s+G/9E2cvfWt6j/chdrArdTgvwUMp43DALa/RInerKOg6z9EpRJNGOzgPzoyGvIeSLk/0He6mkL16L9RevztE/jgPzzS+bkEbqQ/fqR+scQN+T8kriQQSwriP12QZoJ9Gs+/qPzwUDNO9D8t/wg6nxryv1RGKqdkFb6/zcVKrAuh8L/S3b/uCDTnP4WtpndWFe8/ZSKzX7Zl5b+7BGfia7+3P8vti9HtfuI/kPoPSWI/0j8H7EE0ii3cP+eahhz9rHu/qudsOwme5j8EoXoR+KXnv/BXIJgzRoC/n6gPiqWg8D+zZqHsoU6sv+YKcYD4Auy/T+oAFVol8T8Olm4mQZrSP7Pt2XYcivA/Z/5XdiWZ4z/5Ldwkh1i3v2198dQzm7y/Vs4P9rW647+eneue2pziv269LPYuIOO/trtJWN/z4z/vKF5jAazrv9x6QK/MRdw/6cuCbCmh4z8g7vlVzxz2v/B7vpJfp/W/edXDy5iz4T9/9rHkeWPzvzAtTtnsGPK//CoNRCaA5j8qAaVEOunUv4F6WyroavA/A3QHZR+t4D93RsM9qznGP5GATTm6N+I/CsvhbPfQ4z/soJAcLUbZP746rbd4ON2/hyR88nYx8L+QJfYFcVL5P2Vn3iE7ofK/Sps2SQzp5L+6CnlCts/xP3Nhby6804I/4QgLh4F25D88VOk/GEHpP0h4xgYa+sI/1IV2eQKM6j9CvGZYlgyov7TqeZtNZvw/HsVkJvYy2z+JlTj7Mgfkv1Q8ly4of/G/TrnTmEuL4z9kVPfsPFviPwb0JeaHtALAjsKn7p4Qzj8zl+e5gY7iP4EMBsAEg/2/+24Da638s7+OWhSNXfHfP1i18pEWou4/EYorIST48D8rSlxH9tvSP5K74KfYKcY/WbOishJV8D8yoy6SPMP9vyeWlGazGuk/jMK3uA431D/6CjeP1gbsP7tFW3XFsOg/7pB6fyz+4z+Oc1wX017XP6eHLVwX0b+/2MKRLOns2D93hFBYHT+XPygsSI18Vtq/UtbmCrzMzT+DhHX1dKnZPxEkNPUDHvY/OVHnQntm6r+UYH02LwzmvxaEt8WrFOG/815o1POkqD+xCZ6YFhDpP95gRYFQROc/cpkcLwBC1D/0CgLVMTjxP0O8Mmb5cMk/dRtmnySX6b8VxdAJ2tvvPxPuj+OnMtc/2A43AfAV9T9jHrSyNAHXv9SADf46C+A/aL4g+hzCpj98QdO3Otjyv2IvyeL/n+w/RNd1rZqwyD+GyfgES/33vyEEDFYANOM/T+AYS2026z8YtKrQusvlP4xMFLrdBt+/MDulduBT879hOoCD/QC9P/WlvI1YnfO/ufJsqq0G8b8HTAZeSzT4P0eNIKN0pfu/IHFU8VLM8T9iqXA5V6nbP8weChU1wPK/fvZJs40f0b/PSwc34eHTP/1SALAth9I/8DNamQcp8T9aw3c8lSLcP60gkKHYNu+/p9H70fob2L+4D14aPF3eP6TVIFo6gOM/u0t7m67O6j82VqjkUurYv3XC65FBeOA/vH4UJbjG7r+gaROIFvHiP582gAHPd/C/wZfCa7M88j8YB3/AIpTzP+SuhKFvP8Q/+8KhRxj33z87gOzvzR3rP4YL/TEdCbG/zEwbcOl28j9UMInNeAjjP+GoiSG747w/1+N6QC1k9D/YLc/hsvL1P2fefET0mdQ/zLccO0rXpj+Fmybty57tv0ujBTdbEPe/IeR3Ne/O6z+pPJl271T+vw==",
          "dtype": "f8"
         },
         "y": {
          "bdata": "LyLdnhk1AEBWZ52R24rgv/ljylIqROA/VPMZnhPb3r+QJHj7+VPyP/WIGJXohvQ/hgJAsO+x4r9q5Bjd1hjgPxVpQGguc9k/IIi3U/Kf6j8g8mFRq0veP8PIq7BabOk/Mhyl6CqLzD/kJSjuPMzNv3hiC0oQCtE/yBq8/s4H0788sl1Ulib1P/tomgSbluM/oAItl8cG9z/NVrQrKI28v4o6CsCjHp4/17ZbH76SvL/4FbIe3fDfP56vFoA/3bI/tfibe7A2+D+7ji+pd1nZPw/onOsTiuK/KueDY6aa4r8j11bKdrnVPyLjEzZrF9c/Ojxh+aSV0T9S+pkO2hD4P4bnzykfFNc/QsQ38zPz1j9tpZF9CJLwP5eKXuQcTtI/hPwCWkIJ8L+j1DFFub/hPxA8WzwkfdS/pB+stGx+8T8waf8z9fbJv9ImoMVYHLy/kgPmXhA0wT8pXWxahB30PxTGdWp2Hb6/xi8HN6SKyb/D5RWGbgvbPxHbYUfYE+K/qKnMQAe4yj8naOwUpq70PyY29J/JCfU/zVHoPOiM4j/be/3LNuX9P+QEnDDS2re/7M3gcT4fyz9aM5ixnuLwP5vIG6e0bNG/9C+7YMVdwT+ebOHPAanRvwFir/ILm+o/X2ZCc+ZF8D+RwNaR7cTXvzuw5VNLb+y/7dRQ9hww+T/1JPhKY13xvzdXjpvj9cM/6Fc1hMl34785L+7PtH/RP4Lu2gaLNWW/ICA8CPr16L9kdwYHIj3Hv99bUz6N8de/d3aEaLVf6r+Moy/+bsH3PzA8t9HAUghAHNbHehFv0z/OnNe9V9vav4iOVpgK5aw/N2Er5TMZMT8Nw7pRW4jSv0R4qTklZp2/ZD1+IldH4T+uW4TtKWSfP3pKJDsHiq0/OEcG3OZE6L8IFkvbnC7ov4fNYBWnJdc/l1yVumBl1z/5SHlK8leSv0+362lPh9g/XGGSaw2c4j/g0Yqna4XCvwq87B4j6cY/83qQnY0lyr8FiQc6P9TYP3PKMhEVtuI/ZnAYXCXf5T8lbnCmLovYP4ipS/wON+S/MfmQlCkas7+/keNfSZTNPzk3kZfOv7a/bVrATWjDBEDuVQS9SMr8P0xu32yDsvE/A39FzPmo7r+10YYf1RvIP9g5WQzTeLE/xVBoii7YzD86tqgYe+iuvzPMOU0hXMc/9b2vtxyg5z8UcGzx3RznPylbsLMj7OM/2kKtv0Ju2j/GEMH96kb1P7jBUTqj4Ma/1ALh8NDru79e2ctkmSn1P03XAiTICo2/arUtH6zL6T+luOnPE0XBP0rfUT3QleY/wJQbPRGyu78ATID5HurIv5v6ALN80ec/s9DE69VB3z9fdRTpeIjnP90LE3dB1Ok/A6kxIHzhsz++NJi2YuunPxjKa2lsG7S/95/3oDBTyD+EmOiwYoPBPx6SEZz5c+g/ZMqwHzbY0T+ijjv7urvRP0+9kmK+mfM/cjTh+soj5L+JpfbLXXTkP2L6ALcQs+s/OUDig8OJ8D9ERc3mwn3SP7UnmR14+6E/ZyQtAZzgzD9k4UpXKkT5P8y3rOWWENG/NX5EwkE05j/LS7n1TMzSv9oVAOtrD/Q//fyGD+kInr/TcSdipm7Rv7fCdIEqDfG/31cw8HVw+T/mvZ8Gzdu5P/FnFyPSB/Q/Td5Q+U6857+ItPjFnLLtP1pHk4+Z8+A/soW1zbjizr/dvgwDyBnEvxBKYDNGjbg/COaoS8Hl4D9fGb9cg4zYPyKMs8rNROm/9Nqg7VGf5b9aRd6ApgfzPw==",
          "dtype": "f8"
         },
         "z": {
          "bdata": "yxBH6+fw5r+Wj2b9pXvwP732ttRzysG/pmUOMkOc1T+XCSThpUnyv268yiuhBtG/Xu6DHJY+zz/AhrUFbzbjP8T4TYwsaMC/CEY16ckt17+cZBHwIT/mvyrFpcjw0+m/1i6Uh3jJ4D//WOL1y9LGP4cqHiurC9k/hZv6xhtNqT9mHf6j3c/zv9NOcRD8CNW/Lz89LDPc4b+ZznUYR63hP2VIMr+Szc+/vnsgSca/3j/Eq+0gWkLDPx+gjoHvb9a/d+j0el8l478cXod4S3/Kv+njLTCda+S/X/qIFJsg0T8h7h3qR4TjP3jbmasjoO2/WFLkUhpyuT9sAj9UMO7FP7bcIucoKek/aa62Q60+pD9JA9HT9O/Tv4coxbBOleo/T5CQol4+w78VUFnwUM/lv31yKXS7b9+/gNLiMOeE8b9jQrgMCuLGv727v68Gsd6/4v9mHuJO2z8S9dDacxDuvy9opLbSqem/BkBop3hssj/2EO8fZnzGP41qcV0j1O2/hql7nu0s5D/78NHj/Yb1v/641dGgPu+/OEMrr9CK1T8xjgQyRRvgv6okg7EPjae/mtqsVsJXl7+ycBtRKJ/gP/eNTsjfLMk/HsJJ49A01r8kqejgvN94v5rb1aT5UPS/LmxMtR/X3L/cSbqdFoDsP3Vx5rownvG/zTSmaMnk4b96+3wEmyfgvwKMpNkRCKO/9JGw1V1j6z/Xjxdy1JrTP8vg+0HWvua/+Hw0ydPX3b9uHpbzsYeTP3dMPXus+uE/LEpTBnpKrT+Iuf4Yi0bav12QJr3jjP6/1/9/woz6qb/WkYPAu9nDP9e1A87Vye8/E79RtSU+xz/3oxzgzZrNv3qX39m78t4/msqvAzkvnT/TcGKJeoTgv49lv/eCday/AzHhsLkD6T8vTOfjRL6Kv+yW3lhQf+I/J+PfQPGQ6j/lm+4+9QXlP6vIEsB94L6/MIaWWhWr2z/KWfHEwfO4v6HAiUiIL+A/aC0CGCu1yb83MmGI2jHFv6xsds5GKu6/YY9jY2PS0r/I03pm3zuCvzJYGTbpc+6/9IaXJEu9zD8N253foB7XP1uIWZ69QeY/AblHn0fg+7+E2JxtTQz0v11gbu7HF+y/gd3alDsd87/lbUsfSRW5vwe0kizMWcU/IHPpMl7QsL82yvRHEJbAP6GSLJtOPrS/v3lRRqL66r8c+Y6eiJTPPx1HhOUVHdO/45e41gpU2z/hS8X1xs7mP83dR3XQctY/fBv/0aVj8b+nkEtz1UT2v5v3qeFpDrs/pm1ny+Vqs79QVOTOLqLRP4+IyJyQPu6/J36DbwlC3T/YLD6yYWPWvwcZ2XeSGea/1wZFsj20xj+J9DgIqHnDv2O2TBNzYta/fn/qSUQxxr9JlRIOjprhP6q8rtF4qvI/a6xpTJ9w1j/j1NPn9b3KvyeFvUEq6Lm/musHn12x2z9SK/rhWQjRPwm6AOxA2OS/9AAfybiYxT+x3CHRlIjhv+bIuMcWvc+/5fQB9KAv8L8Yl/v2xmfOv42nUD2xxsu/JTyguYbpt7+t1m7vYmnrv0SthkXo77a/VHh33xCZyL/9vE3cs6ThPyI1i5RIrvS/JEZ4XAMB2j9Slkfkzx7ivymKid/pVOa/uSETw6Xf77/f6XTto+LCPwnvOXuOKty/e7UKqAzs5T/uFwUsdJTkP9xCihsKttm/et+miZuo2j+wMQ5X5RfUP3fRSbFwdOc/tEsGxC+dor9ypYr6MRrKv1v8lBbW8Oa/GoxjyGjFR7/qRFZoYifsvw==",
          "dtype": "f8"
         }
        },
        {
         "hovertemplate": "color=Feeding and Eating Disorders<br>x=%{x}<br>y=%{y}<br>z=%{z}<extra></extra>",
         "legendgroup": "Feeding and Eating Disorders",
         "marker": {
          "color": "#FF6692",
          "opacity": 0.7,
          "size": 4,
          "symbol": "circle"
         },
         "mode": "markers",
         "name": "Feeding and Eating Disorders",
         "scene": "scene",
         "showlegend": true,
         "type": "scatter3d",
         "x": {
          "bdata": "A5s9M0JM5z9JOz1FYs7pP/3v4WkBjcc/5Zbg3oB15D9ku6MVFq+KPx8enzL8TPM/rPaOy8M6B8CMPjGwMhPAvygj3RG6q8I/dYmbgP2uzL+d1osjYYjVv9n67WCFz9e/xT0L9TWg0r/gmE1yfePtPwls4Kui5+8/doVBN3FP7D8RMjPia9HpP41WsMY7SNk/AYifAxoJ3D+GglsvQ//Zv4/P0NysieI/r4FuEA0X47/SJWMPMi7rP3G8nwancsw/ZAvHvn6U3D8N0tTOKA3Qv4VcIa8/vuU/dZvlvnx83r9+VESYKYe9P8iNIdbuv/S/bdJI8TAO17/EtEDFpNr7v8vFTHu1NOc/IoVn3V3M8D+53PEjwfp4v3+foZetofS/McrOiNZRx78IRl97mturP/ytv8TqeeE/yCX1z3sI0j/8UCRSpQ6XPy3LX6yeCu+/XyemkuVp8D8+x/FnMCflv1kd8Os42dG/wo7qJYbv+L9p4xm/mAPMv3fhNDNhJ+4/epaLdJg96D8J+8qLkDOWP3TAyem4E+c/cZkJoRMXsj8Eyg+QinCAPyhhfd/FbOU/B94Baog+yL9WNJ3t2hvSv39CHRw3ZdI/6E/e7TpKub/OXFLtx2rwP3bXsIXrH/C/Ht29gI/V5j+7q6dzVADJvxXiiHZm298/d+S5QoYp1b9aSOLocyrZP5ayhS+sz+4/VuXZkDFf5D/1XwHP/n7jvw==",
          "dtype": "f8"
         },
         "y": {
          "bdata": "lUMJ16E1zr+z7rjv+WjVP20DwJOS0Oy/P0kowyxhs7+fMt2nNj3IPytpChAIaNW/5PlvYVMl47/J0IH2UYvDPxgLkQXC5sw/+gveUDiEyT/3gQ6kIyfVP706Lc3Atek/xT/0iHwGxT9wGTuG2omev69Et0g6fs4/Hn4pH8zBsr/Fog2c1Jftvw71y/O9Qr6/jZwPn9Ln4r90SxonOhjdv0DGx8w0BeS/17Lb7WH8yz8eBPUQhKPlv2bicS+h88+/ZSaNa+pMoz+zzmUxeUzmPwTwwtI9GKW/f2roF6NGxT9e+KhxGQbrv2xrIP1stcg/j0KigSh0xb/0WoxSmwHYv336PMa2B6O//CzupvaY17/0DkSZGPHOP6VkW1E8bLI/2isovZgl0L+g865BNLjOv158YYGiHds/0xCRnvs8xD8roNuYSb3pP+kAzrfO4ew/BcSZQEQF3L+BNNeV8svoP5zGnrm0X5A/O/61szzjyD/7lVoVZsvKP3S48j7/csO/Ta7XU8vV079c1KjbKY/hP8vkBHs+W8m/8sDNvDkXsr9l6TJ5uJ7dv0m36Acyqbi/C1qqYyrmuz+eelvk+mzYPypDknN+U+E/MCEDbmpi5L9/siQIGW22P5TxtC4ibtS/weH/0c0z7r/rUdGmFa/aP1s3+CLng+y/S/FMsY9Tzj+OyTMqR0DePxI1X2A+w9m/MtmyEBp/2r+R6M6KWLrMvw==",
          "dtype": "f8"
         },
         "z": {
          "bdata": "+L94FiJi8T+fKo28nVPCP1ChPbAHRcy/Y31tQpeL0z/yp/WZVNDQP3byxzKKdd0/BxLep4pi7D9F5LNreyPTP5vODTps7O0/YXftzLkHyD9GIVy86rbbvzbAiHrMWtO/Ox6NJrBc1j/iSYEWAjjrP9cdjkdBOrg/eXEOK1r16j/ZyLa/s8LXPwOErVoY4OE/s2je3EHEwr/WR2NFoWPYv0d3sbvxX8+/lqD++dnA4z8bTJHRjPXhPw4DQ7qzp8Q/0eVpeLFyyT/T+Cp3O5rAv0yVfFUjr9E/5YsuUYNP7z+dk8xhtRhJv4XkN2umTrM/yDgeXOkw4b9tq9n6Z4fpPxlQsQlCnOU/0kXjYJig3j9WUYVFjiLGvxkm9tFmnuG/kswUcyOOu7/iJDbJDU3av+mK7+xL0Ns/RloiU9NnrD9mBlDXsdHXv7y3uabYRNe/CiApMfJf6z8O29N5iyjkv9xBM9z8Ur6/NbBclvezy78ZWlKLNjHhv1py1e4uPew/Bs5Chv/L4T/6QjeFoKXhPxRe/M4m+eU/RiVQRV/d5b9SxjVXxCPiv4ykHMtd29s/BsXQmMm33z/rbSvcBu/lv+8dKgwxpKM/uNqJKVS/ub/Qo/ruBQvmP+FvXszS09k/zkNedgYy5j8hODuCXou+vx/KAiBHbsM/OIP7zoBv2D/uOMvoPFXlv9BS8N5wq8k/4ntukt5Vtr8WSI3d1S3RPw==",
          "dtype": "f8"
         }
        },
        {
         "hovertemplate": "color=Depressive Disorders<br>x=%{x}<br>y=%{y}<br>z=%{z}<extra></extra>",
         "legendgroup": "Depressive Disorders",
         "marker": {
          "color": "#B6E880",
          "opacity": 0.7,
          "size": 4,
          "symbol": "circle"
         },
         "mode": "markers",
         "name": "Depressive Disorders",
         "scene": "scene",
         "showlegend": true,
         "type": "scatter3d",
         "x": {
          "bdata": "NK522mPB2j8N2lCZb0kCwAaBrJ6RFNM/KF+FVo4Icz+nzdK2L9zWP+hSpq96JeO/3SJBjWXw+L/oATXp9lXfP0jd2TIcmfM/7QtOZmfh6T/9CIpWn4rhv5ABSOUXLwnAuGVZ0zYbzj9w/FOZAKLkv5zbAP3led0/r+L9FXY9uj8lMPmD46HbPywdAwOYMLU/l4vc61ZS7b+/2Hv6bcbTPzvk1eKpBc4/9Ds807Fh17+95pXGiqrnP+Pdxhx7ytw/TppBcWikBMDIYT+WEcPyP14ay9PzXP6/DHdGVZqD8T+mkqFrmtPMP0hKeP5iQHa/dhykZeDn8j8Jg3hO9v30P4KNkLGWC+g/fhB2Gl7goz9yuecW8SwGwID2z6aj8gfAz2ZUx4MA8j9XOZ/9nP3bP4dEgPb4TMY/Y5lIqVSA1b8BxTvYomC0P8rli/GwgMQ/ZBFtipsD1z8UDu1JmWnMP9fxq2Z5ats/SyId577Q0T/jUtYddBLgvzqmJAVL9f6/MhMj+xTr1r9KKCSX8ibxP7viwCkqPN4/Kx+X1BL7tD9dbAFnclPPvzNWOFdTjfI/pyn0C2b/AsBy/znO6zPwv9u1c/OytuW/LIL0N/GHuL8oUBIIxZ/iP0Ijq6TdTMW/JLKJehs43j/Rf5YEP03LP8zEJRLpkvc/jvli8hJK1r90OXu+S5fgPwlTXzrVrca/ilcJOCjb5D+PNZes58vmP8ixzTZe9/M/x7PcpKKd+L/kQTMaNnflP5yecuX3m/M/PFFeaB3V67/lW3GWWAf1P+a/xQnzNwfAafaJX4Xr5D81zKbWG4vuP06iMMxfi+Q/zk8TKrWPgT/J1RKwUlbvPwHzPkbSsfY/D6PJpVvbBcDsfyB8OYzGP907hgj1G9O/dIkx6QBXyL/3t7TphtXiP6VkNdimhtK/HwyP2QB94j8x7vVbuWj0P7iy1XanUt8/5P4IyVph3T9ZwDn+an3cP2HTreX1VuU/zT14O3iu7L91f91CrRfiP1or1D8lW/i/4eDyfluB8T8=",
          "dtype": "f8"
         },
         "y": {
          "bdata": "7mIkU0Zl4L9J9+DTOGjjv1ARKDLkJdk/sFubb2n1tT/dpAp45YXUP22fu05unLO/YAktnBhs7T866tkt7ITzv/tdbxTAxsK/vvrt9+OQ3r+znn7GBuvCv+HfNp4OWOK/8nGMibM4wj/J/NSovLLVP/PRSDVIWu4/KPpLMF1S9j+2Ruf8SunPP6LXxwhN2uM/1AqUK8Sjyj9CAvKv+KbvP3DK6lGx4uc/YkNyvKeN6D9zhwixAhzGv4m3gYd7u9A/iTkhXAVU47/gIFj696ncPwZ2dA9PnNC/z/4qR/KFu7+1Yx/qGizQv12iKdlyTsm/v6OFc5ql0b+Iea0sQc7av5zcqTq3R+M/Vkuqapid4j8t2N2bVunev2TGOFlJSOG/UaoTtIZe7D/aaxjeIAPxv/8SHiVr+N4/leHg//IV4j/Ox04Zg0fxvwCiFzmFFKO/cNus2N6wxz+eLgO3fdjaP5sIeu/upO4/2cbVlnxD9r/zp1wnPTnkP4JirgCtmtK/5kZrqppG1D8oi/MSIUSUP4Fo0vWb7ec/r153Mqmpvj8E2hVH2ZPqP3hDycGAj7M/mfSwgWGw5j9oLgP3BSnAv9TXSFE6Ye8/rLh24H6lyb9pa3awg+zTv6l97Rr39fc/9CnaYLfn8z9DvPv3TvHjPyJQLqGpo/C/cxGd2fk61r8r3skSq2zSPyR3RZA1yus/baOOYMfm4L9nHTo990Tfvx5aNX0ilMM/uzHwpIA+5D/DO/7PjWnHv7RxCkjFNNe/0S1o27UABkANwUvycNvAvwb8kanX9tq/J52bHI8+8D+tAKz/jFfFP9sccn/Fd9e/7KeT0JMdvb+js1vWcG7cv2fZprwKN9W/2UPxq9oG4L9F2fclU9foPyeku32dW+Y/cCYYpCZa8j9gSEd/mJ3iP1DXc07jXM8/elVJXLVG0r81YQT4jh3bvxFERhwKIdu/uKLOLSBPzD8Jw0SuqMjpv2JprJ67UM8/+4H3gp2e4b/9D1KfqPPRvwh7r/EPeL4//BLS52+i1T8=",
          "dtype": "f8"
         },
         "z": {
          "bdata": "UHQzKQH+4T9rd8Id4mzmP0beRLE8/uw/8Hms+nGUIL9eLRsW7yXcP+o3c91ktdg/ZnNVf4C79L8NQQd4Te7RP97RDdano+E/PMp2oQ2y1z9cK+LR0IDnP9R1BAX3qPY/+qDmUA+zyb/2DiStkxq9P3P+fqNiyfW//fnpqxG9rT+D+zF6PnLFP8IFCYTM1dA/x+/eHF6Fhz+YOhsZ84O4P+sKb67YB92/bmV1fndI5T9B1zTV+MDJP6S+hkwXgOC/6I/9ALt79D/Meml3aHvJPwvYEa6b1uU/eE1RxGg8xj+ip7K+9kbDP/tooN8RGMs/rIOMBjhKob+slc019ujbP9TmkxVjm8A/2u5DO9m42j/ghN6u6jf1PzLFR62eDe8/0NcjHSWS3D9vmJ0pNEPJv+o3Pl86g9A/cvyE8Q4S4r+Um/ZSWtyaPwz+yzjscLg/2F5tPmplpr+RE2Cc5ZvEP/CuOzlMhto/F208ADaGt7+3ssfiWjiXPxUn85cdxeU/CZNxwRe37D9VvDFV3ZKtP5Ctu8j5ZuQ/ogco+/MyuT9fBFzXGxzcv6pJObKS288/MqDmJU7Twz+oxA29M+m6Pww8TSCOSuu/pKHAr5KezD9cFAmC5ejJP2+cTAHl6NO/DRyEylj14T/rF4ngCLeRv5v+mdW/Ncy/PV3CbO3rsD+kzP47Xcewv68is+Mir9S/COCk/lEz1b/hQgXFEWygP98kusxuTuU/Dxlj+c5y6b9mjvwlAlrAv+3zyptzkuE/cb0LKmvZ+L//G4OoK5rtP8elrvBpiew/z7sbnWMsoj/Je5pNLwu4v/qaSiGlydA/Y0KeO0aroj/kOo98vTzHP3Ui4gUTkeA/fuGYzwnc8T9U59BJf/Pcv9xrIdZpkN2/bC63Ywfz1r+JGcTZkXTjP5sCkTlfiuy/7fu8MInc5T+UGpcX+GfDP8CaJ3UMVZS/dGXrQTTurb8FR+gpYyPrP1b35rlwaNg/RIrEto1Y0z/lEbb8RMayP1RYtLR/t9o/IShjxwxqsT8=",
          "dtype": "f8"
         }
        },
        {
         "hovertemplate": "color=Paraphilic Disorders<br>x=%{x}<br>y=%{y}<br>z=%{z}<extra></extra>",
         "legendgroup": "Paraphilic Disorders",
         "marker": {
          "color": "#FF97FF",
          "opacity": 0.7,
          "size": 4,
          "symbol": "circle"
         },
         "mode": "markers",
         "name": "Paraphilic Disorders",
         "scene": "scene",
         "showlegend": true,
         "type": "scatter3d",
         "x": {
          "bdata": "d0+QLeMN878SDjyJtLGuP+w7EMzhXL4/QWMtiSe40z9H98ZIFF/avx3jsdH3Kp6/oJblgh8Dur/9VI/c9H7IvyvnzfhmhcM/2cN1MUnI2L8yc2renbHCv7lDhNOuadE/wKrEMN7E1780HzhQL0bfvz+CD9JQQeu/gCzRrfOH5L8YAXhEspvtPz5Vqsxiuau/G6OVrhWq/r97ow1eL7PTP8fxFFf//tg/Uyni1WzO4L/ELAsVxCXwv3IiqnfocOA/wBsLdCR+yL8H9QGDhOapv/e8BMb5i9I/J4Sobb8h2T/zASOeudXXP+lgGr1B4Mo/qZxhWy2irj+zkIB8icC/v2DgiJW+j9A/ouFTN7u85j/BUa1e/aDWP1BxsZR9PtE/8W8sAMJD2b/1xFG6aPHhv2DxkTTPnsw/PPs9Jv8/tD8yaDGWzeamvyTCKBkpM+U/A4mDBJ6c3z/bKeMcI/zNPzKIFKm/tLW/5lNAOEmNqT9gQxCMgD7av9ddFvt/4+E/fsGuHtkGyb/Qi8DRsHTqv78jXZpzu9k/+Fv7YSUI4L80HQ2IQv/jvwjDwD/jheE/Cx+tkSWHoD8=",
          "dtype": "f8"
         },
         "y": {
          "bdata": "yGyhdHlmtj+vDBOadvrov5e5NGWWmue/gYIauHh76r+9Ux9V+hS6P+FKR8R70N2/5vTrgwgL0r+hWIxWo4/Cv53u88xtXsQ/pOZJivJw1L+nO0u9nULWv3g72pzdw+m/ia0WMkTy1L8QEUYGwX/PvzawobDi4ss/+m7tljK1HL+X6vsFdcqsP/RKm99t0b6/wmpSi3DdsD//VIW23Ba0v4d84P8LlMK/osy7KA1Fnb8N43aZKFPPP4J8V2iiPOG/0jxqc26c0j8Ll3/66m/qv+a3R9vtKrM/i6nk1QiC3r8o/S3ozBXiP1x/zGtoZ+m/pNlJRE55yL8sDlbmP9nSP8VfrlaF7qo/dTlovxKK47/ftxmyue3rv8a7UHMqz6w/a01qTK1V6L/kQvkPZ/jFP9gd+ngrFNG/ieAEBedD3r/eDZ3n+Ivlvzb6hmzO89+/xeN7uCvh6L9apJXa0rbHvwfMEUjVt86/XIcGtFzL5b9mJAgLrhavPwnUHO3Gedu/ed1scm/nPj9zzogS2CHDv79epEoCvem/gasz3fgb4D+y4Wm4aQamvy47CQ/jJei//HvC1ZrVx78=",
          "dtype": "f8"
         },
         "z": {
          "bdata": "s+OqGQSI4r+EyEap5ETgvz43rvN8Vuu/h4yIxUYd87+PuqUBpML1v2d5T9yJHt6/5X+Si69O6L8GJa7B1zLTvzk4ohcOefO/vmRPe5aV2r/CCWWCmzXxv8R9zTySReG/JRU+XDC84b+cuY69sZKvv7JrEFE4Ue2/SAvYgpVp47+10NyYdPSgPxGYIBYZ0eK/R/cRp6Sd7786kaFlziXjv3wVCr0cJeW/26e7eR7azL+ihcN/ZXTkvxND/rjprvG/FIYmkKp/5L+co0m+n8XyvxEKLGaYjOi/9eopGU1O4r/P3PlLgpzwv6SGwb/kVeu/Q62vYrwE5L+QoikfREvXv8bWJkJCQei/g7o+QtO08r9oxtyrAAnSP/od4ReTt/O/fP3qhdWa7r8BlS6Dy03iv9J88iNGvOm/5OXaf/Eo1r+a133hZ8Pzv5FzBDv2+sW/m8JNRx8z879OM+pxH3X0v89/U5sUHPK/B8Y2d2OW5L9DP2dHIgzgvz+pAI5U3+O/rkM8i1savj9j0/TJLKPov7M6LaH/fOa/9e+ZJTIf8r/5xCabVt3Wv9cHicMo6/C/jX8ucdto6r8=",
          "dtype": "f8"
         }
        },
        {
         "hovertemplate": "color=Sexual Dysfunctions<br>x=%{x}<br>y=%{y}<br>z=%{z}<extra></extra>",
         "legendgroup": "Sexual Dysfunctions",
         "marker": {
          "color": "#FECB52",
          "opacity": 0.7,
          "size": 4,
          "symbol": "circle"
         },
         "mode": "markers",
         "name": "Sexual Dysfunctions",
         "scene": "scene",
         "showlegend": true,
         "type": "scatter3d",
         "x": {
          "bdata": "TZwKndn/w78XeLpWk+jcv/6rTp/CLNE/jFk8MyTa4z84Lj3u8f/jP73qa1t1yc2/3viknDRwmr8JpuP4zrPLv26EDZMpOug/TL5CrwhenT/I9mcYARrVv8a8vBJsWNu/9X/rQ+QHyT9NKge3fjXlP9xGSQuMm5q/a4Y/CjHM8b+kNtSTQ/jxv7ynQUW6e+I/E01fPD0C5T8CaEoyDIbzv4G+/UaMZrU/oGauo26N0L+wbN9b/SjWP2whzy9ZHfO/KFwgrbY1wz86M7n/dOrIv1Oj/Gs0SfC/zAB2JMP4pb/fuvO9Zbruv6HKzcowU9I/vvnhqPIH5L+wK+8zlDr5v8FnpexcMOa/442CplrfiT9O+3boIP/kPw9jb4XVhQXAS7iylH8O5z+Bdc3daYfQv/0S+3Pw0NM/r4deemaH7r+yq7QNF1DyP/5RguWDPcs/vM9Www3C6L+2VbHtGIdsP6XnWmbT/8Q/1RiCnoRJ4z8B4ySH1WjsP93i9rLTU9C/v8e+m8JV5z9lcmUeKkXnP7jSVmxtaO8/HgyMUvlVyD+BSy7A+vjiPyWdQ0xQef6/oW98Abmh+L8cZT4ndnbIvygUF0/xJOk/EDaagUB9878CQ+RvHB7kP+zWX2b+Wtu/ta/9gdL41T9lAVhXhxPEv2ZmO7Rp9OS/2uLEHxWkrb9dOy6lGAyMv8iceTQ4094/81FqCXoEyr/188/PIHLgP4bcJwlTLbA/ZQZ1esSK5T+JP00Pp9/iPzFTaG7rF8A/bXDgGn7YrL8OD8y5GdHrP6Xn2Gd4SOI/27Q5zAan1z94CF7doILcv6nZhyzsjvg/teOKnne1tL8s+oVU7cvmvw==",
          "dtype": "f8"
         },
         "y": {
          "bdata": "Y2fLfE5Y8T+yo0fqwNv6P/0EcQZBA+C/TEvXhvb3579XDn+lyTXbv4taaWQhKrI/rOUbRweUvb9h5C+qgtvtP6HO1N+NTeq/Es3IHrJp2j8dHsnEoSLaPxg39j5S8ua/CEuApvh+4j+ZWJEfNo3iv+biUlaV3PE/XCNz6IQDpj/YBqdx0PrkP+5EAzYdQvW/qT5APh5v679AxCOx8T/JP8zTn0qVasI/d2CO3k0u2j96yGmsSUDPvzRxRzts9ec/2qpIiKQg4z/Br8MoJVajv8UjbSooV+A/KReoHcc/2b8v/ql5kUSZP5RhkM7Lpue/MPyXNdCtzD84QFUA4WTMP0GUQUh2x76/itUb2fbg3b/iug+La1jmP7qNxD+r7N6/SMk9yCW46L/yGVaTFEm7Pxvjxac6Osg/ffEI0deTz79RRg/RRgbkP/zJp88eQ+O/psC8p7Mp2L+j1qPEmAjSPyjkuR2LW82/AD/QGTX0579DJMikl4bdP+M/KzK4C48/AwOWFV946L/2B6b41kTwvwK1oB80Zd8/sL/M2I+7y7/mLCtbEa3cv/Q1LQzPm8w/Faf2qoZV0L9zZNfJbszLP+wT5bLuC+i/p5v6TAx/yT8F2DFh+XLiv2s8HlR/yYe/HdDlQytu7L8R/5e3KhrEP4qtWGiNeN4/V3Zs5Bxz5r8tR5RiN/Pbv3c+WlTV5+G/w0+IkiGizT8qtZwUY37xv1yd1Xu9MOG/qkwYeBO/67//mQPW12nov5n4C8y7uMq/yt3I2y8y6b8kweY/HB24v2xD0GDTNs8/PfI7nId32L8sGMNaExXGPxxm373DMfI/HCSXFwod5r8D99EwvIPyPw==",
          "dtype": "f8"
         },
         "z": {
          "bdata": "ULB9HuKX1b9JVfFNnF7jvwcMD9KxdqY/+ZQnuxJF1L9xr/gc8czGv/uA0kYYpea/QqGGwUpd7L/zRw4lvITgv0MFobaLA+K/y9u1MmcX6r9qlO8FSZDtv/UOHw5B3NO/bwAH2wZXu78GFypUrOq1vwRI/4HUysm/b8emzGRY3z8glUOreADovzc0ZB2wod6/ORZAZ65Qx79Dsz58U3Pkv95rk3LTqNq/ZeFVqmXn7L+B2vF0a+HfvzNNUmmo//G/Yr/NGe1257/+p2uV+8zVvyGgi3Q5Jvi/2kvpr9vMpD8XgPuhfaLhv1nFi7Em2+a/RSbNeb/xsb9o8cDw9EuoP1hzyQ6V3uA/m7N3MaE/yD+GAhM1G7+1P/TkKhXk5eE/iR08AebkwL+4QBlK1dG4PxSvFQUXRrQ/bK58YxLZwD9UDWAaXPX2Py7yoHOahe2/UTLVGGj01z/G9A66bX3Qv7gGiq3qGcC/gQd1EbFcpz9ed5Ae+CL2P5on4b2oS+C/nowUCnTbz7+19SV2gOLRvyEy1RdRHvI/r06C6x2T4r9S7pgh0GS8Pze74c2Zd8I/0jv9SA/03z/n0yLuCI36vyJGJymztsC/VouED1h05b+mDnKgkg/KvzrBSoUeLc6/qobi8ed33b/KqFUJtga2Px4vcwD7Zuy/VThAD4P14L8MXPW4wmpav6MOoFXN8+C/+f6H0g+ry79/tgjAyuuKv+elkrAwnuC/mD6sHjYD4r9a6DWgfQzfvzvlf6qI9aA/RexP9iJZ4b/Tka79EVrhvxJBlgCkt9c/LwH3PEDt0r/+BMda+Nzuv5aXQryji/U/pn4Q56AvyL8ML19cQarovw==",
          "dtype": "f8"
         }
        },
        {
         "hovertemplate": "color=Medication-Induced Movement Disorders and Other Adverse Effects of Medication<br>x=%{x}<br>y=%{y}<br>z=%{z}<extra></extra>",
         "legendgroup": "Medication-Induced Movement Disorders and Other Adverse Effects of Medication",
         "marker": {
          "color": "#636efa",
          "opacity": 0.7,
          "size": 4,
          "symbol": "circle"
         },
         "mode": "markers",
         "name": "Medication-Induced Movement Disorders and Other Adverse Effects of Medication",
         "scene": "scene",
         "showlegend": true,
         "type": "scatter3d",
         "x": {
          "bdata": "8xVLIYsa8j+tplQaXNfrPzG9aVfwX/c/XG2ijU5I8T/fRty3cvPoP8mNe53VXPE/7FBlAAQm9z81wQjiX7buP91CRY6PYfE/a89Mw1N24L8EBksqcwH0PytvYvAGzfA/vZyeI1zu4z/h6fh6LxLkP++yXZU2XfY/QYfGZnql8z/P6GJTIsTrP9QwKff1e/M/AlIEkzTz6D8IMyK8jp3dv4lkTAkTq+M/plUeLY3D9j8NZm+T3LfxP8jgLL548vU/htBLgSZo8T9KsidAwKTkP4YbSRzcNPE/5zrS/XjR9T8Z9ap26H/dP/CY4ze13ek/8vbH6R809D/PqzMBDXDbP3uT8Tliw+g/UYRQpafM6z9vpQ1BHeXvPw==",
          "dtype": "f8"
         },
         "y": {
          "bdata": "TmKQ/kQV1j/jStW/uOjGP41xEXYSTOI/HcOrK40e4D/l1yJBgpTlP2z1EAv3HL+/8dTmR5Tq8j+fU1+6bKbzP2XrJvKof9Y/wgu3TbeZYz/KmgE+MK/Kv1+Y3s/bGOw//umDG/X99T+qgnG25dvQv1cbqL7UVPM/jzvYEgi/4T/BxcaruzrHvwqE4rx8ZNo/ObohCaP75j9YP31uEusBQFMSKVX1L/o/BudtDe/F5T8ctLHZdg7XP9KdLDsMmvM/5FKECkNX8T/tioFsjsvYP7jEhKkmpuE/HSuwV60S0z/7RGlwzGzpvyDrxFv5UOI/12SKHtHR1z873AyajJTtP6+cF1YDNek/0AgJjAmu6z/fEZd1TxvIvw==",
          "dtype": "f8"
         },
         "z": {
          "bdata": "FUXSsUk68D8MZKfxaN3hPxpTfsD45/A/foRkeeEq8D/vWxs0GUfsPxa4koTGhuo/I3oiPHzi8z+wDa988mXwP1HJfkQH3d8/j+09NPy15T8e8ZPJHVfxP+K7wr6Gj/E/iYGXaxsU5j8H2+MIlnTmP7288cJAQfQ/cANyYypx8j89B6gPJB3qP+j96mVbHe4/NS6kXNHn5T+jsInLzjTsvzzOH9SnCOg/tMLpxGSZ7T85DumUT5vjP0hiMIP4ovI/F9QCpLsJ9z8gXGcAxaLyPxfY2z4lFuc/e44TjjXT3D9gkubQzZXUP/5zMMZ5bMA/6mmHPmsT4T84aaq2tEXlPyYblN3ZydA/221+8s270j89XO0pXjXmPw==",
          "dtype": "f8"
         }
        },
        {
         "hovertemplate": "color=Elimination Disorders<br>x=%{x}<br>y=%{y}<br>z=%{z}<extra></extra>",
         "legendgroup": "Elimination Disorders",
         "marker": {
          "color": "#EF553B",
          "opacity": 0.7,
          "size": 4,
          "symbol": "circle"
         },
         "mode": "markers",
         "name": "Elimination Disorders",
         "scene": "scene",
         "showlegend": true,
         "type": "scatter3d",
         "x": {
          "bdata": "TNSVzp5+zD8DaW2w/HzRv5n/JSakQ+a/s7F/ymVYvD+PFXY8qZPIPzW8+QTAx9U/KVWnqW/4zD/EtLaWXyukP7bFyHzJG9g/KU0rknmr0D+wlwIqnMLPv4FgXIMHjck/N9DaxujP5L+vuRqyD1OLP8FUHsP5++i/RltAiSR4678Xa6L/8djVvw==",
          "dtype": "f8"
         },
         "y": {
          "bdata": "hULiE+Zm0T8OA0M5glHTP27ipeaZHeU/fBBr7QQ0zL/kooog4AbdvzIP/j9V5+U/2DOnevJfpb+p67cRKMLRv3sXC8mS1eC/y4OQ+He8xb+KrQqlkc7tP5ro4IGsE9i/xl4KbmDoo79CDahn1hnnP1HaYjZmm9w/sTPd9hSLvT/J2HisDIzZvw==",
          "dtype": "f8"
         },
         "z": {
          "bdata": "irwjVUsHyL9ekiyGVym4P86s9+rD+Nm/KnWHjlLX3j9IKzv1oEy9P7czB6CvOeA/szUYxui13r/WdinbxgXBP0lmMmjwnMc/EEP85NU/sL805uCJUsv6vyCPOKr21Oa/iLhHo4yRqz//0OUtWZzpv4Bju4L+dOq/KDzKRwFM0D9AHZut102jvw==",
          "dtype": "f8"
         }
        },
        {
         "hovertemplate": "color=Bipolar and Related Disorders<br>x=%{x}<br>y=%{y}<br>z=%{z}<extra></extra>",
         "legendgroup": "Bipolar and Related Disorders",
         "marker": {
          "color": "#00cc96",
          "opacity": 0.7,
          "size": 4,
          "symbol": "circle"
         },
         "mode": "markers",
         "name": "Bipolar and Related Disorders",
         "scene": "scene",
         "showlegend": true,
         "type": "scatter3d",
         "x": {
          "bdata": "xzSy8EdF6T+JPvuWrHXmv+KfUVgkeO4/7q5Ljjx0BsDKGgym9NiNvy8h5lWTu/q/DmRbwj0H7L+umO/0D+7xPwFh4LqDE9K/noy6rMBh/j9tjf8EG5ruv24Zh439O68/1LZsY4SN8z+rJYU9wCjxP/gReM4rjve/zBw9pKqg9T+69ErGYKkBwPdwzAtSB80/qcETjGSa+D/BtYqyLVriPyfuFuUgugXAvLesiZkG/79OwdeGyzb8v34B2cBhh8k/NpEyVIlB6z9nbADPYKb/v0qNg/8YU/A/+Hqbc2kF8D/VUR8AyifmP6GAO+mlEgbAtHYON4Fm0j9823zWvem0vyDea4vVHuO/GT2tTsVLAMDwORLCSjHsv1qU+1te6fE/IVpdiP+p4z+O1+5veuLQPzUNbj3xKOk/5YlQCrNN7D9G8fMoCb7rv3GbuGg1H7S/GoaudnBdB8DygrfYcJq8P9RKPfHIMsS/+bNUtwtes7/CqRCLUUH4P7OcI59pUOy/6pKfLBrC6b8fp6y1FlcHwOmEKXwcIJM/cK4AvAz1BsDeJCWIkp/oPx33J/aO7sM/CB6HX/Tc7r+oDCjUEST/vw/OgSJWcqe/YhX1kfIs3j9vp5l3cVvyv6b5buw5Qfk/aRGc0r1t4z9nXWlSzS/gP/jDo5zEUvc/7X6DLeI9AMBtKSsvCGHdP3Ga187/HeQ/kX5986wN0j9sVsYMJ+vlP8PUm0f6vOg/qMRlzQqr4j/COmkwspvxP0L+UuPa8PC/QoeBJqGu0D+IVHDcG8TyPys+QuvsL+0/Xr/+sauP9T9/BUiNxfzsP3bwSPRibgPAOJ+FSShJ0D8gfA1dx6PcP9S5PoAE1s8/YlOE4mFmBcBnvuzyAWX0v+NFvaDqxrY/AfRF0hLtyD+VP32yCJ9/v2qwoeinz8y/XN44xzre1T+UwY5qFJ/gvyQ5UWvMNPy/oslba+xI5z/5vrh6zojqv6SmTn46F/M/ZdLpkgK0ez9CTeQBO4HnP7UmPVqMD/U/",
          "dtype": "f8"
         },
         "y": {
          "bdata": "bQg61UBH37+iVdWqP6/GP9Yu71y2BeE/ivYZ4OCv2r/nf3B7TM3jP2rgrtZiyuO/IyYi2wKG7D9zDWP7V/zKvzgoyrnzAuw/H1zbjtXKz78eK1HSfL98P6dwFe344fQ/RsGpoa3o2z/CEJRiBzfDP8JzmhZrBcc/stlguj9Inr84VRrERJq4v8BMkelDa/S/w7lz4eGf4b9JRhL3bqq+v6N5LD0sbOq/ezXqJ28Jxj8X+GJDWmEFQG7HudQ1t+o/75+SOhU9mL9+VVd9m03Sv5dMgMJomcA/sEDIT/5XxL9h4ZcAK1rWP9Jk+gfJPue/l2cZvQrX8j+7TVoVwrntP+bHAAfzAuS/5VPK47Ml9T9XtW5HL0DWv1NSB/E9C7y/ruLXou7+yz+JiXFlcPXlP7UKZnkH99m/6jC14soHxr8WDNS7V7nsP6ZOKH+cDOQ/miliwI4G5r+HJGgimQjzv4oXQz4Kv/c/BInuwU3h1r+ZJcFfDVzavw3m7zh6Otk/FJuH0wPMxr+nk5uEAMPnvwchRdzXKuI/X++JQdpj4L+UYj2Fwga8P6GD7Yq14PC/M/IECPH75D/tVLlg0nXuP4yxx2ib6+M/DpsnNCVi8r/B67iWA1DaP880p9DePte/s6mbOlGa4r9+aGzCYZXwv9lLTEcZuNq/eosufZ3e7z/c8FqGX9J1P1qzFhk17eg/mU2foOva5j9Oi3jugLfqP0Q904lmlea/3r5+rUwjwb+vRc3MGnqVv58Ghc3Lz9k/L1J9QxNS8D/bgB6i9pnIP0h6eZRSLOc/2TKRWAH31D/fZ0s41LraP+ng1hdJNOG/HRCHhiEJvD8PohX2DvDCv7jWsW1AfOM/cFgJrR484b9LWgY4LrfUv59m5R6yp9k/bx/pTWTy6T8VtmEmt7PuPwhDUUDiVfs/jtVZxSyE0b8aaY6IVkf0v+PQMcTK18A/ywxmrbWl6D/R3i7eO9PdP+yIkKuZ96+/WNHhJLA30j8XtDVC7r7sP4h4rJ/pqbi/",
          "dtype": "f8"
         },
         "z": {
          "bdata": "Kw8ZG/Mz5T+Nou6Jn5S4PzuHYbTxqpE/rA5owsz37z/i53e43CfYv6KKoTri/vA/MG2YmyvS1b+z1fKvxXPQP/Ju9ViNirc/1BTtYq+q6T+EDeSMOz/gPy6nDnxkPnA/MfU89H871z8KWdFkwEPtP0B7vShYM9g/PMBnKXNn3j9YvuPsDYvpP8dunc4HDMi/JlUUEA9lzD9ynbEbVH3XP7YTOYvJ5+0/xZIXUkXH6D8TdSgEZwcJwIGtJ/FtWbS/fr5muSFu4j8UV9HZnlTnP+IIbVsqs6O/efQUxg7p5D8KxYSy+evKPx3ulYQzD+4/6Kp9GtaB1j9tDXmt0Ya6PzT6V7glI8G/M/rVenjU9r/49iYJ/9nlP8+9tdkh19o/LUgJU5Lu4z+3g0sRj8R0P6bvnyrHZtQ/Pp1TfeMt4T97gKAmL5Hwv2lU8kpWA9s/FTmG+pMz8D8+rayzcZjMv06nViSr5tO/IRlv9iSV3T+tObzmkRLhP+03tWumFrk/UBvb7V9p6D9yhR0UKWHvP57fEplj/Oi/57A++3aN8j+q0HZFg9HWPy2M/yNe14a/GnZyF+3uoT/ZqOTywNnzv62WWzZV2dK/uWyt3ZBJ178uVSqrFNPPP2VCjB1IUOw/RdP+50Y00z+DcZ7R/KHWv9Yjdi9emuU/c/pxNH9p9r/ZkeJDah/CP9K5G6/2Lpw/8ZIbHjU76j+9WB2w7x/mP6Oar7WSYHS/vidyY7eJzT8KvnDJ56PhP8Z2gu92Q9I/Tg7iZu8N8L/9rUDNxzivPyBt45Q/Usg/nS+CKhSCsD89S+8cztnZP1LGtyYD+e0/E/yhOfGC4z8hPIXswyXJvzBFm4yWa6o/9eqQJQFM9z94eStHDwraPywBMAqzg8Y/zlcdU9LIur+6RohdvLfkv0i9EjixLd+/av4jTk/z1b8aJe2QWxe7v7eTDo7/59Q/lzvQgqUX6j9zbltPTfLlvwAy0AhMYtA/NodgoNn41z+ckZvwBm3Wv7GATPuFNNc/",
          "dtype": "f8"
         }
        },
        {
         "hovertemplate": "color=Anxiety Disorders<br>x=%{x}<br>y=%{y}<br>z=%{z}<extra></extra>",
         "legendgroup": "Anxiety Disorders",
         "marker": {
          "color": "#ab63fa",
          "opacity": 0.7,
          "size": 4,
          "symbol": "circle"
         },
         "mode": "markers",
         "name": "Anxiety Disorders",
         "scene": "scene",
         "showlegend": true,
         "type": "scatter3d",
         "x": {
          "bdata": "ObkMA3EWxD+txr2NgKHMv50R6NOFMvA/xXceRUSZ6z98kE/SaIHuv8Gn/kVG1dk/T28zsG3S1z9pL9bl807KP2LXfGuiBQ3AoM2+yX3TCcBISUANYObbvwX2Fg5sK9c/BPwKcIxdgT90jiK47TH2P9NaHHA4ktQ/FsMcoLKxyL92nOtFcP/2PwJdvGapvtM//4aoPyN9+L8OIzb+m+TTP4vZ8q8u6N4/h0+qBv0wzD8sxRnm3FfuP65BOkNaFs0/VaqYFjZlrL+y78n2OzDfP5XRiWTJGe0/SKjH66bu8j9debKCHJINwDFp5Jdu7c+/0cm78tPLmD9P39XgSmbfP8gYdqjjzL4/l0e1WVKiB8DEpNvE52XeP7vCwB6EZfA/jubEKiQs0z+C3aJUPSjRP6Vm9r0nH7c/x7buJARj7r8yVPjtpsbZP7OT8Y7b/JG/jgsDoxU+w7/0vUoRJVDdPxAPFGE7DbE/OEaCOwO+1r9DaFEMBq/rP7kE7AlxVO+/tvhevzte5D9PMm+zwavLv77sPvghIOY/T7eYD91q6z8PZT5k2xXxP8xf4fS0gbW/KoddowLg0T9nDjeIWr7RP89jUdkZyO2/XbNE9obNn79lFG2n8XDTv+BbwCbw4MG/hYIRaRww5D/tafN9DkTlP7w3Gsv8QOY/BEojdKAp4T/NZugM+3bjvwLg1Q3tHO0/W5XjF0oG4L8n8/zbHGHEP94tnuEYzsc/U/lhRlnw6z/ohnrFX0y1P5HE/jGZx9G//0hK+Lz11r98X1phkTPuP0ObXM1XWtM/iuqzQEvE2T+PzqmJ4pAEwGpuZus3X+Q/cnXc227vqr/fIHRioyrpP7wfA1ClubW/HyW2jnqon7+JGgKxfp3hP0W/EmV1KOE/cWp3D3ny7T9joSuLqv7Ev677WwZ97eM/+zycltSTzD/losvCG1XjP/45uJMhjPE/wk6zrvNN4T+D0VXg/wP3v7gK93dKWNY/LCcZkMv68r84Rg0Nz/ClP+4C1nwjUcO/BcCr1gPO1r/SyME0+f+vv42HAyapIATAANpotufN6z8kwCg/ZjHxv5uRyv1V9u4/ah1yGSQFzz/dujvwFiLQPz9nmqS5Apq/SjQ34uRT5T8edKwpgwW0v0LpUFdR5/I/scTnfq9o0j+yPhI0Rajhv/4WBjaW7bW/iA7nGq5E0T83HqVL7H/av70nFHeRs+a/jJkRjWvw4z/HYN6BkdXOPy8hD4Z5NdQ/JNZPPe1O978=",
          "dtype": "f8"
         },
         "y": {
          "bdata": "Bs1dMw2isj++5YNaZDjqP77b+wUssem/2roFZducxL86wgAZjrTRv16w0gw/oe+/Fne6KLIF57+eD3J5sf7yv4nK5KyFfee/jpdzHyE45L9RlWoCfZLnvxZgLEmDotm/sbuhJG374r/BAvRZSCXZv5ACSy19vNC/ZXXKvA0x578Y/nIPRaS8v+pv948LT7A/UvZZe/HvrT8/iGtsHZTwvziit29LjPC/sIXIZAGZ5L88U2USJjjzvy2wggP7xPE/3zgUgJ8+779v+Dt2oJTjvyl1TecD7/O/axTmbre08b9NpSW+9ZXnvw0bRojNevo/iDghdyWztL/6ywYrrUbsvy5wRRp1P9U/+3oKT+jE7r/ohquOw+Gtv5wIbWy7Ms2/THMEuquIw7+za17pLMvqv5uiVXwoXPC/+zWzw3PU2z9kZMgQQYr2vzvSAzzbMuk/QPQ+qw7M2D/tUEJYKJ3avwCzD0tYfuA/Cjqp5Fmqv79bY3VaY+jZvxG4JOWTJe+/Vwz1XaRzhD9F85vzfrrmvx5a/s4bYOe/wBYarOAg7r+QGpMrTpnNvw6EO3/6ruk/ZZyHeBaU0b8hW+vUSL3Mv8mxL1Tf9r4/JQAkJkro8L8PKd1KC8nDP9KYriJGHN6/suetCTr62L+T43yHaqDIv/5hji/7c/K/8jK6xHEr47/aGoSeeF7hv7D6+yfHJuG/IF2PDRvcwD+bVRuC9a7nPxb9TV0Of/W/t5ViTYto3r8dRfaPf+joP42TAjPnxtu/4lJNbwtP4L8KciyFY9TyvwOnU+BzWdq/Xqt9ho5M9b8Amdn1yhbnP/9ge7m8Vnq/oNouW5zq1r/RnxHfK9flvydCsR5TtIq/bQkTksxG2L8ycA5ry5LbP1B+6515zfM/z+MCGSn/7r8xgsVnYJzcvz5Qn4ZyseU/yBbyKy/x17+qG4dv5kS5v7dm1oOQwpk/7g82TKPg5r9CQAY/JBrdv+K2s2rVtzM/nXiC7eXI+T/ebCu7KuLPP7FnE1PppeG/YhnbzA27wL+5pr/6xECTv9UElfyeWOS/sRwi8ttG9L/8+nksZyjRP9OHcWznn9G/q7xHlHyd8r+sdjLL0v/gv3N99V60Zfi/OXlPhMbc27/9hm5xYE3wv8+i65SjRO6/eMC6pj5l579naqS0w+7IvwGG0DhOqeO/JRyTzvSu5b93UaZAIx3kv7ZLcQxZPdU/fMrrClEC5r+vJi+tMtr1P3HUowh+jaS/i6U5PNWI7r8=",
          "dtype": "f8"
         },
         "z": {
          "bdata": "ufzrhU1o4T/Nr35/pSHYP2abJB55pNA/8txV+ZgP4T8n8zQAOO/Sv5VQRcll+sm/bCTMBiOA1r9AUXlbCUrRv9AVjaiMDPo/oEWBmpdp8j/jVyZfWqfEv5+D84pOKLa/y5rJVKOt0L8S6uMJAIvsP0vUNJ1+N9S/WR8Izqi5sb9MmoWJtG3nP//5MD4sptQ/IpHU9CTytT8cGd9ZXerPv1DrOiKG+KC/cdSkktR+zj/+T0PCQWXJPx5aYJq3/Ms/O1vS7LBbxb9a4/KevDaGP9UQLc/wSOM/ecJNBg3ayj8zNoz63Lv6P29qTdkOQOa/OBHyGvEO0T/z3yIegT2+vy2CmDs2atu/rEi/IFKC7j+lWC/Vn+DUP9RmHJ6VDeA/OpPv1gjk3T9OA+4UU362vxaqMzacBtW/6SR47gQtq783FWe3BtnYvzsMreKUe+A/a/vMp2oy07+mLyKj7WHCv+roU5230OE/UlYr8Mon5L8PjBBV79LXP2rxu1BpEdK/pjGJNm0C3j8a/NQZHxXwv0l6WfHYQd+/4p5Fhszmzj8mq+ISDwnOP+1whUYqr8S/zjUR8XVz6b+SbQhFn6DZv8Xa+ZOhDNE/haKJPJELxb/HrpPX6pzcv9BhF7G/A3I/e1F71bGbsD/ZXCFXPrm3vxJn7B/y4au/theS/BLtvL/yVoJEEFi+PwMH62upxYw/qu7MvbLO2b+tiKmziXa8P2X8oNfm9d6/1O6pySef4D9K3sJnnA/RPyqJNPVpr9u/xoD/fJnG2D8uVVx728rSP76gSV+OfdY/fxJ9TPY30r+t5ybk347Rv70CexXU/7U/bnEKfuHu2L8q0biOQ2PMvwSbs9tANdc/BYsohcN44L+LOl4IiHXIv69uS0Jsw8I/xql3WcxVrr86u7pFgITRP6uG2vH7xdQ//uzpK/wT4L9BXTH8xOvEPztJhzusBrc/P1uCZ7UA4785JaB2i03bP6+UTmk14KK/ln07Z2zm7r/Zh5C3sCPQv/5DWnmzRMI//Rop0ZhP17/k0msF5tXdP+P9VVYNO+M/L8uE6sOkwD//ifTWDCDPP2J6t76YKtE/rLIOzKxL0L9vtJoFGpvOv7i8AyAH5Ne/6y2oaGvmhr+X6ke1WQ/kv9c+4Bl3iN0/nPHE/qqNyj+QpNKbKjrIv0xOhRP1tq0/uRtkJMIvuL9UQrYIDmqcv+It5YtEafG/pCOZLAz+u7/+9F3UqDahP2e/nvnLvdy/boMXbx5c3D8=",
          "dtype": "f8"
         }
        },
        {
         "hovertemplate": "color=Sleep-Wake Disorders<br>x=%{x}<br>y=%{y}<br>z=%{z}<extra></extra>",
         "legendgroup": "Sleep-Wake Disorders",
         "marker": {
          "color": "#FFA15A",
          "opacity": 0.7,
          "size": 4,
          "symbol": "circle"
         },
         "mode": "markers",
         "name": "Sleep-Wake Disorders",
         "scene": "scene",
         "showlegend": true,
         "type": "scatter3d",
         "x": {
          "bdata": "azt2vDRPyD8B9oZ/yAC2PyU5xxUz4MU/d/wRZWl10z8plL6PmWXwP+nNDnN9KNg/SNB3k2N8+L/mMYn08yvhP+mSh3T77n2/4uOrhcXo8D9sw70l2cXmP6G0k0JrnNQ/SxwT9NeM4D/ItxHhPTbkP6HmkixZq9y/+XbFgz+l679UUNauAiXQv8Fur9AJsOQ/t7esKdPs8T8ZocYx4FfyP+UlcX2V4uM/ZXeB9nBE478tD3wj6F7rPylvBegmU9E/55DnRMpz8j9r0hj8/QLcP8QgdbJhYvS/mJeV0iOY2T8sNp2jH1zhP9U33vyl3Pe/Xq3RIZai9j+wD4nSCTzZP/jQtnjJDts/XfBrAY/Y57/TY6zAq4PeP1r+gfFnvu8/szimw1bR8T/qmQ69hT/gv+RnnZaAZPW/wyRpo+jIyj9LnnCv7IjpP21i5NQrEu4/HXCe5JI71z9iHUpWXGL0P+WpGTQ14+8/UvT5sAImVj+JA84pH7v+v5l0pKmDgvA/qcFTTS95uj803XDcZimzPxeJjzCRJPI/ZoufaQ1n8T+kleWK7o/PP7hNRS+HCdE/Vtq6XPYc4z/pARM6M4i4P+WTaIZ2Ntg/3DKyQIOI8j+RS4SsMZfXPw==",
          "dtype": "f8"
         },
         "y": {
          "bdata": "OL3lXYva4L8MCwmcc4rPPyWY51IJsOE/v9XlQ6tA07+2/RIuMsXTP6n7djJuCOA/sOlUAmDi2D9oZq3zrW/VP1Bk4N5fydo/a6CZLBs82z9Cs3rOd7bcv7+iGj8oX8m/5co74CQugb8IDMne1lVyP65W7eZNaNS/LeReooIj4j/Mqa9yG0nyP4QKlavJEuG/IiGm2nQW7L+RqpIjiM3mP1VvOlPwYOU/ypFYnCEE078LI6cI9SjkP67iGcvyNri/6H149fkS4T9xQPdA2LDYv3qjw/mfTd2/lIGkQXxO7r+NDROFf9fnP20BWywswcK/d3UpLUUZur89/PU2CWXFP3sI0ilhp8S/w+7dmnUU3j8KTmIurU/Kv3R8zLLtvuW/RuYcpohnjz9O7oZC0/jDPyjauEXNu/E/iTy2jNSMyr9ngMzUSZvwvzRauGqAkre/hGFJN4k5zD8ciR3zg57Kv1n//fXPidg/6V3Js7X+tb+qDPscZgWjPye6sofjTOm/ZOtoaJr6yL/oBpTDw03pPx2xxSRBV9O/SH2Cq+Jo0z/bYbrGi1rcPzOvPhLBZsw/ZfEzJpXP2L8lu3LewEzDv8M8q5in+pA/nVhOpXbN1j+XRW+U/z7cvw==",
          "dtype": "f8"
         },
         "z": {
          "bdata": "pSrwcCkA5j/CtNEQNmjiP1HZzy8QrNW/bn2rH1yg2z/geWJTzyDoP4Vohsmrmty/aKo4SRNh5D//DKBOlePjv0cm7nADVr8/TQk/TvKJ6j96QHTg8AzqP8vjGfrLoeI/ydnBa6wW8D+Tf5xyp33dP3PnU5WQTso/7sL8Fv8v8j9fkrHsjP7QPxzoKhvRDsw/e3hePZuW5D+kUt166WPfPzeanU0xUNQ/P4ltRU2Pzz+hQfivc33hP83SigQiK+s/ch7rhIiN6z8cfhM18BfrP12RTuffquo/d8M4yQ5V3z/qxtY0T6PEPw/Va6Rjku4/TQ/Fw5EV2T9pbKF33lHEPwKBWu86p+M/qv1N9f4Cmj8ldjN0vrfTP3pJrZNKEPA/gxe8pyO/6T/83d+qJvbkv6P1vfiZQOS/rl3QIq0Zmj9+f8Y3La/rP2KCwuzFWdQ/oGh1IhqX0T+037Fz3Q7LP6mGPoKQq/E/zNR8SP5F2T+ElTz+kiLnP1a/xZZuQNg/ITIWMvLToz+GZ4c8x/OAPxSlVJnD7e0/QESyp6JBzz9qt++aFa7fP9q6w05xccS/9IkU26Z84j+ZuNKDsp/dP1i8UvpXOOU/43v8aJId6z/yTsPvHly5Pw==",
          "dtype": "f8"
         }
        },
        {
         "hovertemplate": "color=Somatic Symptom and Related Disorders<br>x=%{x}<br>y=%{y}<br>z=%{z}<extra></extra>",
         "legendgroup": "Somatic Symptom and Related Disorders",
         "marker": {
          "color": "#19d3f3",
          "opacity": 0.7,
          "size": 4,
          "symbol": "circle"
         },
         "mode": "markers",
         "name": "Somatic Symptom and Related Disorders",
         "scene": "scene",
         "showlegend": true,
         "type": "scatter3d",
         "x": {
          "bdata": "xN465K6G9D+wipx6HCusv9t8aSLMyuE/bNJEoBpI6j8BwsDXFEK8P00UjPXLydg/4EV9Q5qt5T/1sPZ4x0qzv0FGqUsNo/S/QT7Srd6p6z92ndFYuJDUPz87FYeCw+G/opdaYLm98T9X0Ak9kh0AwFChNT9Zrdc/Ds3Wqax4/b/SXbVTC1bLv7oKEsN5wMo/6jWQVEy5xT/NcDGtpwrtP0UokndfXJy/de82wjntyT/M/l6EAlnnP7whkL5fI/A/FT69P+Kf27+KKeDyJxXlPyBGugw/nNk/OAlgBOQmzT9fhPwsr6rpPzjQ0z2tvZM/DcrAE0Z58L+gdYkkdCfqP+rl1/tTrd8/zQVQrGU/2L+edbcVYSDsP6JaYnyRCuw/ympfICEx2r8YVdlQ7h7Kvz7NGB+KlvM/jA77qPfAyz+EOqQF+By5vyMAqQnnisu/jGXIcSk76j/kqt+aiEK2P5pi/t6WpvY/UW/vizYQ2b9hyT2R9hrUPzGbtzfmi9q/mJr/A6gD/L+ma/jLzgfYvwrcRVDpEOw/H6VHWpkr9L/w5J1CyBfwP8iTVFfG59C/",
          "dtype": "f8"
         },
         "y": {
          "bdata": "N7Rpi5s51r9+JqlcGJnav8cD9JKvEdO/Wym0amCN2b/dllafwX2nP6W6/yrg6bO/3ouoGAbVyL8i0ONE/HaxP0YAGmj3dqy/Oko2JkVb8r/fyM7tRavMv/HkZUt418I/0fAwNGYe5b8uOhaqeMvWv4o6sSNsQMm/3oBgdCPBwb98r/LLo4CHvwMg0UtD78K/sm0n++eI1z8FVqMOWpW/vwW5/TNgOcK/YO/DYMzu0r+skk6ftyXpv/yiIoHeqrm/bdgsJSIG8D+Q7072vaXWvx74OIed28k/DvJokWld0T85J6WBDNTRv8abbid9WcW/yIJMdRSX3T8jEBNGJZfhv1clrdY7rfG/30wvY1zF3L8MYLbp3r/ZPxdt6SWuKJC/9VKjEFIIuz94aLvETci6Py40hZ/kU7G/HkG/DoFXzj/2WLcQqoDnP8/gz0aUkba/BGpXErcTmb+peR1YYa/Qv5L2t/dppuS/zFZ2Ny56qD/e81SP7BTSv0WfO6yavNE/Slh7wSxI1j8Hmcgs2hi2v8AztX00Jek/nlurvB1f0D+iNZx+VL3Rv7TzX6YtYNI/",
          "dtype": "f8"
         },
         "z": {
          "bdata": "i9oQCQDFs78PYjlCV1/xv69pXRSHudK/+obDrLp2zb9n4yBZABe0P2esqI1UpNI/kGPHvvmxwr+BHJpjRfbfv9OD02oXy90/cLIUAByw1L/taXu9OFPRv2x2mp8t0/K/SWcmWXoG1z8eOJP0hTDUv0uycvwYR9w/4hLoku9a4D8afaulsg7Kv4jq7P7bks4/1XKC5b8QrL9Epe20xz24v2phL0GzcvG/2iwV75WDyj9DU6+7DRioPwC9sCv8Jr6/qpLm+yhD1r8YvBGOe3LPv9s/nKjtk+k/nYYotdtKw79ofXZOHXZyPzi2iZJzhNq/VyhiTw+jwr/jpn4y9c7hPyP0Oo9yX4a/H9RU4D+i0D9dR7VZ7oHNv8zuNHx8mdm/qlqDRWAD4L8bdsaxEm/iP5IFl9XAk9C/985lt5RFzr/FroO2bDzTv0MrH/CLucK/SqjMDik5pb9gPyskP/ervxCSl2NBAdg/Ag+bTDjC579DpiFvz+nLP8riejpRYuK/2HDa3nLrvD8/7cu0FCGyP3FtT9czy7y/sRJ6ibBMiz8DqXVRxDiwPxQli9WMnde/",
          "dtype": "f8"
         }
        },
        {
         "hovertemplate": "color=Gender Dysphoria<br>x=%{x}<br>y=%{y}<br>z=%{z}<extra></extra>",
         "legendgroup": "Gender Dysphoria",
         "marker": {
          "color": "#FF6692",
          "opacity": 0.7,
          "size": 4,
          "symbol": "circle"
         },
         "mode": "markers",
         "name": "Gender Dysphoria",
         "scene": "scene",
         "showlegend": true,
         "type": "scatter3d",
         "x": {
          "bdata": "JIVY3vSs5j+0ljmNwDbkP7IUcDMAj8G/5HcgAw1z5T+bJm8yXY3Ev/oUjEoFqwXAGC7TACyi5j+lW5m6p2LsP1Z0iz42v+8/XU5YRr7bBsDcBKg5truZP3YsJzlOMeE/ojij0YmA5z/lEVm643x0P3m7R+si4tI/1S85ULLbx78EUkD5MDaiP4FKFav9+tw/IwUSoTfLkb8b1QEiITjsv/N7iI2e4OY/CBaZDQVbxT/lUfUFWMkEwHL+BFasauu/Z5XIXG0S1r8w3QjY8Y7iv4zsepUH2t8/",
          "dtype": "f8"
         },
         "y": {
          "bdata": "pWxMjo4g5r9+pbgeZ+zVv/Mgb06Wjvi/mQ6e9aXOhL/USKRZQzfov7vsZO1gtOy/9gCD0BEt9L9EtFjr7y/1v/qN/Q9qMuG/P1ovL9uI479EsMbZs2/Sv+Mv4d09yvK/Z+tgqLH/2L9nhJri7DLZv+1jRidnJNs/dNV9ECPA4L8NjGOqgPH1vxwgsqKgluS/GcdzYi4+8b+utIjISsLrP3/iNG2W/PK/0AscxAs04r/SUfn65EDpv8SZHiDiL9W/TKLfHq8G+r8cVHqaH/3kv8LUCPQvMPK/",
          "dtype": "f8"
         },
         "z": {
          "bdata": "r4sh4wRC67+byNPA/IDcvwqVfd2s7+a/RzBnrnz85b9T7PyUpifpv08wz6hwUq0/ps2lEZcj2L/Vw/5WjgDYv+1mKXiIJ8e/PLw78Ir4wz/jtgJes6a8vxd8x+jZZu6/H7Bf+YbT47/C7i5vJR7yv06KUjnZ2fy/n/25DBKw5b8n7kRBHUPwvxB/ElFIWvK/fD9JkRUj679V/XiDUH/+v2O6kFuMlbu/UgnJ7HLd2b8/NoLBMR3FP4Uc/ielZPu/mGNx+zcj5L+3ba7R1OfwvwVDeeMkRdy/",
          "dtype": "f8"
         }
        },
        {
         "hovertemplate": "color=Personality Disorders<br>x=%{x}<br>y=%{y}<br>z=%{z}<extra></extra>",
         "legendgroup": "Personality Disorders",
         "marker": {
          "color": "#B6E880",
          "opacity": 0.7,
          "size": 4,
          "symbol": "circle"
         },
         "mode": "markers",
         "name": "Personality Disorders",
         "scene": "scene",
         "showlegend": true,
         "type": "scatter3d",
         "x": {
          "bdata": "Sm770bkv7j+1h3WqLcfQv60YmS0JT+Q/FPiHUXGLxb++OfYO4b/kP6hrGSdu9OY/ldPn+5aHsr+i/65VgsziP2Py6DVn2c8/T07jUpTe3z+QqUwclFUBwA==",
          "dtype": "f8"
         },
         "y": {
          "bdata": "qYjFg+nE6b9ITNlKhDDmv/kYiXcJ4uC/2M2sCBc+0z+oZT95e5vxv1/H3xZluvC/M4vr5nSO4r8w8TWhClzxvw/oG4FSX86/diQi5H5W478NbXt+WTPwvw==",
          "dtype": "f8"
         },
         "z": {
          "bdata": "kQCjfQYS2j80drglxTfxv7JgBK7fo9m/DrWHOe3m1D+R6s3uzS3kv+LqfjPFpOy/hN8ha9ON4b+Si0/RLDbjvwIDqc7FMdS/hycCpygE4b8Kpj1IlkXiPw==",
          "dtype": "f8"
         }
        },
        {
         "hovertemplate": "color=Intellectual Developmental Disorders<br>x=%{x}<br>y=%{y}<br>z=%{z}<extra></extra>",
         "legendgroup": "Intellectual Developmental Disorders",
         "marker": {
          "color": "#FF97FF",
          "opacity": 0.7,
          "size": 4,
          "symbol": "circle"
         },
         "mode": "markers",
         "name": "Intellectual Developmental Disorders",
         "scene": "scene",
         "showlegend": true,
         "type": "scatter3d",
         "x": {
          "bdata": "Em03hKgTsz9XFgsjL63Hv9jB4r5XeNC/zNn2tx8P4b9cpJaosfDRP6zSKrdLWJY/lKirC4fpzT8ZiOLVJ3DWP3C40WSuHNg/Kj2wfL4c9D/ZS+G2NTjvPzpZRpyTjKo/taZb7riu4D/dgjpDc0PtP7f5MJ/h0O+/4WVZEp9i878=",
          "dtype": "f8"
         },
         "y": {
          "bdata": "jZIOpw4QxD/4/CzuN9b/v1LCYUjASv+/L5rBWkPnuD+abTUYQb6wvy2qHwbidfa/tFH08pa+5L8chvMIuPjtv3PvkkA+yfW/XLop6moL47+FdFCTEurlv3RkguZVBvG/P5/lshuF87+OlMShGJjjv39f9LanGeC/Olnr6MEaBEA=",
          "dtype": "f8"
         },
         "z": {
          "bdata": "/xBGhuRZ279EU9IHN9Dsv+w2DwGsd+q/s2rzjabm9b8I63/7/NNxP54c1sOaR/C/X8f4jFHv8L8qrnkINZLcv/nctEn+F++/SYIo3/e+3T+gRDapQ2XcP0upE7L3kOq/iNXhD3KU5L/QmKbCb7bUP/8J+hBxWOW/7m9FWJBGBMA=",
          "dtype": "f8"
         }
        },
        {
         "hovertemplate": "color=Catatonia<br>x=%{x}<br>y=%{y}<br>z=%{z}<extra></extra>",
         "legendgroup": "Catatonia",
         "marker": {
          "color": "#FECB52",
          "opacity": 0.7,
          "size": 4,
          "symbol": "circle"
         },
         "mode": "markers",
         "name": "Catatonia",
         "scene": "scene",
         "showlegend": true,
         "type": "scatter3d",
         "x": {
          "bdata": "Oo5F5K294j+9W1BnBg32P85C15mTL5a/yeGKDBVmBsCEIQfwCkoHwLlSMWMuJAvAZJkMHgbp+b+1srry0C7nP46d1a8wgvu/th+2FEPvCsA=",
          "dtype": "f8"
         },
         "y": {
          "bdata": "w1pqOe5p3b8/LoNHLRjfP5ojUnHEQ+Q/gwIKEUdR4r+PpB4xYzTjv5BIXiuYk+O/HuFiOOcB1T98HIDFjibmP+Q4xhK1kqC/MRPre4uf4b8=",
          "dtype": "f8"
         },
         "z": {
          "bdata": "uPlcnGCI6T8FkbZufFXSP9z7rCLDAOC/lJIP3CO68D98bqOlwgXuP2NyXp1lhfA/IL0tJa2Qw78Nf9SojpDQvw2bt3cRtJe/4CZoOj7B6D8=",
          "dtype": "f8"
         }
        },
        {
         "hovertemplate": "color=Breathing-Related Sleep Disorders<br>x=%{x}<br>y=%{y}<br>z=%{z}<extra></extra>",
         "legendgroup": "Breathing-Related Sleep Disorders",
         "marker": {
          "color": "#636efa",
          "opacity": 0.7,
          "size": 4,
          "symbol": "circle"
         },
         "mode": "markers",
         "name": "Breathing-Related Sleep Disorders",
         "scene": "scene",
         "showlegend": true,
         "type": "scatter3d",
         "x": {
          "bdata": "rcBCKSZ03b+/eqRzn1vJvzN2zQSYxuE/82uNSCrS1b+kEIvSIsTWP7cNd4CIseQ/2FjBX8d68z/9s9gTpVfkP4c1fOGlDMs/SyoKnoZZ5D/7Gx59JrfUPwNcoOnOBOM/4IcmHOqq8z8VgQyq+Taivyv0uHThneK/5fsoScD+6T9h2jJlE+HhPxXxKkA07tc/uEgVNNXFz7/GgWJpW/HsPwdubc0z4/I//R5TdlNix7+HNd9uyBzuP2jjI9iH++8/rxEVgpuC5z9LKDm43q3dP4n/+96crOw/1YDqvOlz8r8amyeiZZ7zP+UodBELM+k/pBk5IniU379EOZoLHmziv3qTMjZm3vE/EqgMePRm7j8lzEjvOOrkPwjplWCs0vE/DP6RJVQ76r8Tuh7+9KXpvx1GgEszrfE/s6BwOGlQ0z8gKj7werDqPwX5W+7OxfA/7IpsdxZxrb/2SncT9m3DPzo/Igha2+o/slkH+wuOzz9+uvv+KgvZPwChSFIaWe4/hogAm+Eh9L+8SDtpQ7vcv0UqDY1Arq4/uvhEn4Hh2D81MB+qQtbmv5AHzVhGTM0/smvwNIGC7j8=",
          "dtype": "f8"
         },
         "y": {
          "bdata": "MRpsyCyP4D8wFFFDH3HdP1vaG+CQmt0/moxRFt4P4D8bIzBgssbUP16MAEItTuw/lGs+8ceTlb/x75lBoVKiP3clR+lhDtM/i0wB/bXC2j+pb79LYyXOP4BdPeMsO+A/q3wLMPSczD/WZ8LSiVHZP1Di6JaVXeM/10MX5INU5b/RRpDFtjTfP+6X74w39NY/6C1ATHZ94z/q2VLdoaDjv9rsHJOt5ac/ZFrUG+rs7T9juG9iaX3EP6OXwLqnOtU/i61dOJVduj8RkAdcIzLhv083yggWTMI/5x89DJYP8D9ijdd5BNnEP77fz3FDTdk/BFTGgJyg0j97F7cXHC7Yv8ft4OVRia+/aVEpfYJ74z/eHPBDjvC8v6svMq4Xtdc/3G+Magp91j+6t9SKX8PTvz10EjzgVte/Jk/474dG279x44Mvf0rSv7Hwux/EjOG/qYSpU/lMtT/pXmYgZNCuv7eS8lw9TMU/tb5Sr6dA0j9LGhzLxRXAv8Ih5AuLvNk/uZ44eVp75D/ReutZuUvEP06Ugu/rIdk/uHLlJ+AA3D+JrbvTrADkP67VPSqmY9E/BE5HTdWy1j8=",
          "dtype": "f8"
         },
         "z": {
          "bdata": "7aO7+KlNsr870J+ccHvcvwK8oTlWB94/H8xCiJhEvD9/uRb/U4maP4xOTbcih+E/dd2APpAB4j9Bj1Umah7wPxDS4F3RKek/OUn+XfYl1j88fJ+7TTbgP1/EUSj6Vts/AA1IcQ+VtD8gMb1z9hXBP163TJ/UV9u/c/qRWqjM3D9nvDDILqPgPwZDBiLPGu0/il8rX7Ka4r+pESTccRvQP4OyYs2L4ug/WlbxiB6euT+cQIGqTEbRP7PGQDY22us/nRZjP9Clvb90T373doHhPyI+jAQvjtU/NUvyNp4u07/RTJf4LvTfP9XFtDnybd4/ABju0MvouL855Cyw74TWvxQInF8hUuU/rLmsTnSn1D9PLeAuDv2SPwHLXu2SPOA/KHfHENS6wT8aoFvujz/RvxciQSyYKO0//k8ExFxotz+rkv1hWSTjP6dHuXwK6eU/ngALgNOGw79Ee2+6v6DDv2/5Lrc8e+0/mm3FgU9z1L+eoRBlGRmyP8dhHgHV1fE/e2CqMFr1sD8/utzdQtfXPwk/tud0hdM/7aNBV61X2j9w0/FrS6Pgv51IRnI6sPE/0cQ+h3Uw1j8=",
          "dtype": "f8"
         }
        },
        {
         "hovertemplate": "color=Other Neurodevelo mental Disorders p<br>x=%{x}<br>y=%{y}<br>z=%{z}<extra></extra>",
         "legendgroup": "Other Neurodevelo mental Disorders p",
         "marker": {
          "color": "#EF553B",
          "opacity": 0.7,
          "size": 4,
          "symbol": "circle"
         },
         "mode": "markers",
         "name": "Other Neurodevelo mental Disorders p",
         "scene": "scene",
         "showlegend": true,
         "type": "scatter3d",
         "x": {
          "bdata": "PQdQ6Ee23D8MwbU2f0bXvw==",
          "dtype": "f8"
         },
         "y": {
          "bdata": "gnpRbJ2P7D8WZ0R+t4fsPw==",
          "dtype": "f8"
         },
         "z": {
          "bdata": "Gl1G5E3B8r+b2RhYKtbdvw==",
          "dtype": "f8"
         }
        },
        {
         "hovertemplate": "color=Other Mental Disorders and Additional Codes<br>x=%{x}<br>y=%{y}<br>z=%{z}<extra></extra>",
         "legendgroup": "Other Mental Disorders and Additional Codes",
         "marker": {
          "color": "#00cc96",
          "opacity": 0.7,
          "size": 4,
          "symbol": "circle"
         },
         "mode": "markers",
         "name": "Other Mental Disorders and Additional Codes",
         "scene": "scene",
         "showlegend": true,
         "type": "scatter3d",
         "x": {
          "bdata": "g008G9Qbub8lH4FUfUXBv2n3nPslL86/2DKPVmhr0L8=",
          "dtype": "f8"
         },
         "y": {
          "bdata": "xihLPSGN5T/PrdXEd5fWP8/4kT1PG+I/2847TaSN5T8=",
          "dtype": "f8"
         },
         "z": {
          "bdata": "I2cjgj9l+L+2LVO4HYX2v+SfikYLmPK/LovoWj+t7r8=",
          "dtype": "f8"
         }
        },
        {
         "hovertemplate": "color=Other Personality Disorders<br>x=%{x}<br>y=%{y}<br>z=%{z}<extra></extra>",
         "legendgroup": "Other Personality Disorders",
         "marker": {
          "color": "#ab63fa",
          "opacity": 0.7,
          "size": 4,
          "symbol": "circle"
         },
         "mode": "markers",
         "name": "Other Personality Disorders",
         "scene": "scene",
         "showlegend": true,
         "type": "scatter3d",
         "x": {
          "bdata": "MEWKVcvowb9ZIs8REqvWv43g7YxowL8/Bt9boDgq2D87xIvK0onvv9mM51AS1tq/b23rQGa5wT8=",
          "dtype": "f8"
         },
         "y": {
          "bdata": "baIWNZ/u0z/nOsoZ+J7PPwJawhQ/gNs/BnLmYBba1r/gs5U9ScCkv13D+yj+K8A/fvnB0VcD0z8=",
          "dtype": "f8"
         },
         "z": {
          "bdata": "e1wRxD2n1D9+13tYcBzev5fyELUJsP6/q0oOPeLX2r8GArEdNTnevyj7Lpr3h+6/a8UZP7FevL8=",
          "dtype": "f8"
         }
        },
        {
         "hovertemplate": "color=Additional Codes<br>x=%{x}<br>y=%{y}<br>z=%{z}<extra></extra>",
         "legendgroup": "Additional Codes",
         "marker": {
          "color": "#FFA15A",
          "opacity": 0.7,
          "size": 4,
          "symbol": "circle"
         },
         "mode": "markers",
         "name": "Additional Codes",
         "scene": "scene",
         "showlegend": true,
         "type": "scatter3d",
         "x": {
          "bdata": "SU3r8fD7578=",
          "dtype": "f8"
         },
         "y": {
          "bdata": "q6GlmuCw8j8=",
          "dtype": "f8"
         },
         "z": {
          "bdata": "dO+tLn5W978=",
          "dtype": "f8"
         }
        }
       ],
       "layout": {
        "height": 800,
        "legend": {
         "title": {
          "text": "color"
         },
         "tracegroupgap": 0
        },
        "scene": {
         "domain": {
          "x": [
           0,
           1
          ],
          "y": [
           0,
           1
          ]
         },
         "xaxis": {
          "title": {
           "text": "x"
          }
         },
         "yaxis": {
          "title": {
           "text": "y"
          }
         },
         "zaxis": {
          "title": {
           "text": "z"
          }
         }
        },
        "template": {
         "data": {
          "bar": [
           {
            "error_x": {
             "color": "#2a3f5f"
            },
            "error_y": {
             "color": "#2a3f5f"
            },
            "marker": {
             "line": {
              "color": "#E5ECF6",
              "width": 0.5
             },
             "pattern": {
              "fillmode": "overlay",
              "size": 10,
              "solidity": 0.2
             }
            },
            "type": "bar"
           }
          ],
          "barpolar": [
           {
            "marker": {
             "line": {
              "color": "#E5ECF6",
              "width": 0.5
             },
             "pattern": {
              "fillmode": "overlay",
              "size": 10,
              "solidity": 0.2
             }
            },
            "type": "barpolar"
           }
          ],
          "carpet": [
           {
            "aaxis": {
             "endlinecolor": "#2a3f5f",
             "gridcolor": "white",
             "linecolor": "white",
             "minorgridcolor": "white",
             "startlinecolor": "#2a3f5f"
            },
            "baxis": {
             "endlinecolor": "#2a3f5f",
             "gridcolor": "white",
             "linecolor": "white",
             "minorgridcolor": "white",
             "startlinecolor": "#2a3f5f"
            },
            "type": "carpet"
           }
          ],
          "choropleth": [
           {
            "colorbar": {
             "outlinewidth": 0,
             "ticks": ""
            },
            "type": "choropleth"
           }
          ],
          "contour": [
           {
            "colorbar": {
             "outlinewidth": 0,
             "ticks": ""
            },
            "colorscale": [
             [
              0,
              "#0d0887"
             ],
             [
              0.1111111111111111,
              "#46039f"
             ],
             [
              0.2222222222222222,
              "#7201a8"
             ],
             [
              0.3333333333333333,
              "#9c179e"
             ],
             [
              0.4444444444444444,
              "#bd3786"
             ],
             [
              0.5555555555555556,
              "#d8576b"
             ],
             [
              0.6666666666666666,
              "#ed7953"
             ],
             [
              0.7777777777777778,
              "#fb9f3a"
             ],
             [
              0.8888888888888888,
              "#fdca26"
             ],
             [
              1,
              "#f0f921"
             ]
            ],
            "type": "contour"
           }
          ],
          "contourcarpet": [
           {
            "colorbar": {
             "outlinewidth": 0,
             "ticks": ""
            },
            "type": "contourcarpet"
           }
          ],
          "heatmap": [
           {
            "colorbar": {
             "outlinewidth": 0,
             "ticks": ""
            },
            "colorscale": [
             [
              0,
              "#0d0887"
             ],
             [
              0.1111111111111111,
              "#46039f"
             ],
             [
              0.2222222222222222,
              "#7201a8"
             ],
             [
              0.3333333333333333,
              "#9c179e"
             ],
             [
              0.4444444444444444,
              "#bd3786"
             ],
             [
              0.5555555555555556,
              "#d8576b"
             ],
             [
              0.6666666666666666,
              "#ed7953"
             ],
             [
              0.7777777777777778,
              "#fb9f3a"
             ],
             [
              0.8888888888888888,
              "#fdca26"
             ],
             [
              1,
              "#f0f921"
             ]
            ],
            "type": "heatmap"
           }
          ],
          "histogram": [
           {
            "marker": {
             "pattern": {
              "fillmode": "overlay",
              "size": 10,
              "solidity": 0.2
             }
            },
            "type": "histogram"
           }
          ],
          "histogram2d": [
           {
            "colorbar": {
             "outlinewidth": 0,
             "ticks": ""
            },
            "colorscale": [
             [
              0,
              "#0d0887"
             ],
             [
              0.1111111111111111,
              "#46039f"
             ],
             [
              0.2222222222222222,
              "#7201a8"
             ],
             [
              0.3333333333333333,
              "#9c179e"
             ],
             [
              0.4444444444444444,
              "#bd3786"
             ],
             [
              0.5555555555555556,
              "#d8576b"
             ],
             [
              0.6666666666666666,
              "#ed7953"
             ],
             [
              0.7777777777777778,
              "#fb9f3a"
             ],
             [
              0.8888888888888888,
              "#fdca26"
             ],
             [
              1,
              "#f0f921"
             ]
            ],
            "type": "histogram2d"
           }
          ],
          "histogram2dcontour": [
           {
            "colorbar": {
             "outlinewidth": 0,
             "ticks": ""
            },
            "colorscale": [
             [
              0,
              "#0d0887"
             ],
             [
              0.1111111111111111,
              "#46039f"
             ],
             [
              0.2222222222222222,
              "#7201a8"
             ],
             [
              0.3333333333333333,
              "#9c179e"
             ],
             [
              0.4444444444444444,
              "#bd3786"
             ],
             [
              0.5555555555555556,
              "#d8576b"
             ],
             [
              0.6666666666666666,
              "#ed7953"
             ],
             [
              0.7777777777777778,
              "#fb9f3a"
             ],
             [
              0.8888888888888888,
              "#fdca26"
             ],
             [
              1,
              "#f0f921"
             ]
            ],
            "type": "histogram2dcontour"
           }
          ],
          "mesh3d": [
           {
            "colorbar": {
             "outlinewidth": 0,
             "ticks": ""
            },
            "type": "mesh3d"
           }
          ],
          "parcoords": [
           {
            "line": {
             "colorbar": {
              "outlinewidth": 0,
              "ticks": ""
             }
            },
            "type": "parcoords"
           }
          ],
          "pie": [
           {
            "automargin": true,
            "type": "pie"
           }
          ],
          "scatter": [
           {
            "fillpattern": {
             "fillmode": "overlay",
             "size": 10,
             "solidity": 0.2
            },
            "type": "scatter"
           }
          ],
          "scatter3d": [
           {
            "line": {
             "colorbar": {
              "outlinewidth": 0,
              "ticks": ""
             }
            },
            "marker": {
             "colorbar": {
              "outlinewidth": 0,
              "ticks": ""
             }
            },
            "type": "scatter3d"
           }
          ],
          "scattercarpet": [
           {
            "marker": {
             "colorbar": {
              "outlinewidth": 0,
              "ticks": ""
             }
            },
            "type": "scattercarpet"
           }
          ],
          "scattergeo": [
           {
            "marker": {
             "colorbar": {
              "outlinewidth": 0,
              "ticks": ""
             }
            },
            "type": "scattergeo"
           }
          ],
          "scattergl": [
           {
            "marker": {
             "colorbar": {
              "outlinewidth": 0,
              "ticks": ""
             }
            },
            "type": "scattergl"
           }
          ],
          "scattermap": [
           {
            "marker": {
             "colorbar": {
              "outlinewidth": 0,
              "ticks": ""
             }
            },
            "type": "scattermap"
           }
          ],
          "scattermapbox": [
           {
            "marker": {
             "colorbar": {
              "outlinewidth": 0,
              "ticks": ""
             }
            },
            "type": "scattermapbox"
           }
          ],
          "scatterpolar": [
           {
            "marker": {
             "colorbar": {
              "outlinewidth": 0,
              "ticks": ""
             }
            },
            "type": "scatterpolar"
           }
          ],
          "scatterpolargl": [
           {
            "marker": {
             "colorbar": {
              "outlinewidth": 0,
              "ticks": ""
             }
            },
            "type": "scatterpolargl"
           }
          ],
          "scatterternary": [
           {
            "marker": {
             "colorbar": {
              "outlinewidth": 0,
              "ticks": ""
             }
            },
            "type": "scatterternary"
           }
          ],
          "surface": [
           {
            "colorbar": {
             "outlinewidth": 0,
             "ticks": ""
            },
            "colorscale": [
             [
              0,
              "#0d0887"
             ],
             [
              0.1111111111111111,
              "#46039f"
             ],
             [
              0.2222222222222222,
              "#7201a8"
             ],
             [
              0.3333333333333333,
              "#9c179e"
             ],
             [
              0.4444444444444444,
              "#bd3786"
             ],
             [
              0.5555555555555556,
              "#d8576b"
             ],
             [
              0.6666666666666666,
              "#ed7953"
             ],
             [
              0.7777777777777778,
              "#fb9f3a"
             ],
             [
              0.8888888888888888,
              "#fdca26"
             ],
             [
              1,
              "#f0f921"
             ]
            ],
            "type": "surface"
           }
          ],
          "table": [
           {
            "cells": {
             "fill": {
              "color": "#EBF0F8"
             },
             "line": {
              "color": "white"
             }
            },
            "header": {
             "fill": {
              "color": "#C8D4E3"
             },
             "line": {
              "color": "white"
             }
            },
            "type": "table"
           }
          ]
         },
         "layout": {
          "annotationdefaults": {
           "arrowcolor": "#2a3f5f",
           "arrowhead": 0,
           "arrowwidth": 1
          },
          "autotypenumbers": "strict",
          "coloraxis": {
           "colorbar": {
            "outlinewidth": 0,
            "ticks": ""
           }
          },
          "colorscale": {
           "diverging": [
            [
             0,
             "#8e0152"
            ],
            [
             0.1,
             "#c51b7d"
            ],
            [
             0.2,
             "#de77ae"
            ],
            [
             0.3,
             "#f1b6da"
            ],
            [
             0.4,
             "#fde0ef"
            ],
            [
             0.5,
             "#f7f7f7"
            ],
            [
             0.6,
             "#e6f5d0"
            ],
            [
             0.7,
             "#b8e186"
            ],
            [
             0.8,
             "#7fbc41"
            ],
            [
             0.9,
             "#4d9221"
            ],
            [
             1,
             "#276419"
            ]
           ],
           "sequential": [
            [
             0,
             "#0d0887"
            ],
            [
             0.1111111111111111,
             "#46039f"
            ],
            [
             0.2222222222222222,
             "#7201a8"
            ],
            [
             0.3333333333333333,
             "#9c179e"
            ],
            [
             0.4444444444444444,
             "#bd3786"
            ],
            [
             0.5555555555555556,
             "#d8576b"
            ],
            [
             0.6666666666666666,
             "#ed7953"
            ],
            [
             0.7777777777777778,
             "#fb9f3a"
            ],
            [
             0.8888888888888888,
             "#fdca26"
            ],
            [
             1,
             "#f0f921"
            ]
           ],
           "sequentialminus": [
            [
             0,
             "#0d0887"
            ],
            [
             0.1111111111111111,
             "#46039f"
            ],
            [
             0.2222222222222222,
             "#7201a8"
            ],
            [
             0.3333333333333333,
             "#9c179e"
            ],
            [
             0.4444444444444444,
             "#bd3786"
            ],
            [
             0.5555555555555556,
             "#d8576b"
            ],
            [
             0.6666666666666666,
             "#ed7953"
            ],
            [
             0.7777777777777778,
             "#fb9f3a"
            ],
            [
             0.8888888888888888,
             "#fdca26"
            ],
            [
             1,
             "#f0f921"
            ]
           ]
          },
          "colorway": [
           "#636efa",
           "#EF553B",
           "#00cc96",
           "#ab63fa",
           "#FFA15A",
           "#19d3f3",
           "#FF6692",
           "#B6E880",
           "#FF97FF",
           "#FECB52"
          ],
          "font": {
           "color": "#2a3f5f"
          },
          "geo": {
           "bgcolor": "white",
           "lakecolor": "white",
           "landcolor": "#E5ECF6",
           "showlakes": true,
           "showland": true,
           "subunitcolor": "white"
          },
          "hoverlabel": {
           "align": "left"
          },
          "hovermode": "closest",
          "mapbox": {
           "style": "light"
          },
          "paper_bgcolor": "white",
          "plot_bgcolor": "#E5ECF6",
          "polar": {
           "angularaxis": {
            "gridcolor": "white",
            "linecolor": "white",
            "ticks": ""
           },
           "bgcolor": "#E5ECF6",
           "radialaxis": {
            "gridcolor": "white",
            "linecolor": "white",
            "ticks": ""
           }
          },
          "scene": {
           "xaxis": {
            "backgroundcolor": "#E5ECF6",
            "gridcolor": "white",
            "gridwidth": 2,
            "linecolor": "white",
            "showbackground": true,
            "ticks": "",
            "zerolinecolor": "white"
           },
           "yaxis": {
            "backgroundcolor": "#E5ECF6",
            "gridcolor": "white",
            "gridwidth": 2,
            "linecolor": "white",
            "showbackground": true,
            "ticks": "",
            "zerolinecolor": "white"
           },
           "zaxis": {
            "backgroundcolor": "#E5ECF6",
            "gridcolor": "white",
            "gridwidth": 2,
            "linecolor": "white",
            "showbackground": true,
            "ticks": "",
            "zerolinecolor": "white"
           }
          },
          "shapedefaults": {
           "line": {
            "color": "#2a3f5f"
           }
          },
          "ternary": {
           "aaxis": {
            "gridcolor": "white",
            "linecolor": "white",
            "ticks": ""
           },
           "baxis": {
            "gridcolor": "white",
            "linecolor": "white",
            "ticks": ""
           },
           "bgcolor": "#E5ECF6",
           "caxis": {
            "gridcolor": "white",
            "linecolor": "white",
            "ticks": ""
           }
          },
          "title": {
           "x": 0.05
          },
          "xaxis": {
           "automargin": true,
           "gridcolor": "white",
           "linecolor": "white",
           "ticks": "",
           "title": {
            "standoff": 15
           },
           "zerolinecolor": "white",
           "zerolinewidth": 2
          },
          "yaxis": {
           "automargin": true,
           "gridcolor": "white",
           "linecolor": "white",
           "ticks": "",
           "title": {
            "standoff": 15
           },
           "zerolinecolor": "white",
           "zerolinewidth": 2
          }
         }
        },
        "title": {
         "font": {
          "size": 20
         },
         "text": "Distilbert Vectors"
        },
        "width": 1200
       }
      }
     },
     "metadata": {},
     "output_type": "display_data"
    },
    {
     "name": "stderr",
     "output_type": "stream",
     "text": [
      "/Users/robrohan/miniconda3/envs/spikes/lib/python3.11/site-packages/plotly/io/_kaleido.py:510: DeprecationWarning:\n",
      "\n",
      "\n",
      "Support for the 'engine' argument is deprecated and will be removed after September 2025.\n",
      "Kaleido will be the only supported engine at that time.\n",
      "\n",
      "\n"
     ]
    }
   ],
   "source": [
    "fig = px.scatter_3d(\n",
    "    x=reduced_vectors[:, 0],\n",
    "    y=reduced_vectors[:, 1],\n",
    "    z=reduced_vectors[:, 2],\n",
    "    color=titles,\n",
    "    title=f'{schema_dicts[schema_index][\"name\"]} Vectors',\n",
    "    size_max=3,\n",
    "    opacity=0.7\n",
    ")\n",
    "fig.update_traces(marker=dict(size=4))\n",
    "fig.update_layout(\n",
    "    width=1200,   # in pixels\n",
    "    height=800,   # in pixels\n",
    "    title_font_size=20,\n",
    ")\n",
    "fig.show()\n",
    "\n",
    "fig.write_html(f'graphs/pca_plot_{schema_dicts[schema_index][\"name\"]}.html')\n",
    "fig.write_image(\n",
    "    f'graphs/pca_plot_{schema_dicts[schema_index][\"name\"]}.png',\n",
    "    width=1200,\n",
    "    height=800,\n",
    "    scale=1\n",
    ")\n"
   ]
  },
  {
   "cell_type": "markdown",
   "id": "14c46175",
   "metadata": {},
   "source": [
    "## Scoring Ideas\n",
    "- Precision/Recall: retrieving top-k results, calculate precision/recall for each model\n",
    "- Ranking Metrics: metrics like Mean Reciprocal Rank (MRR) or Normalized Discounted Cumulative Gain (NDCG)\n",
    "\n",
    "> \"Which BERT model gives the most accurate results for my labeled data?\"\n",
    "\n",
    "### Mean Reciprocal Rank (MRR)\n",
    "\n",
    "The position of the first correct result is important\n",
    "\n",
    "For each query, find the rank of the first correct result. The Reciprocal Rank (RR) is $1 / rank$. MRR is the average RR across all queries.\n",
    "\n",
    "Example: Suppose you have 3 queries:\n",
    "- Query 1: Correct result is ranked 1st → RR = 1/1 = 1.0\n",
    "- Query 2: Correct result is ranked 3rd → RR = 1/3 ≈ 0.33\n",
    "- Query 3: Correct result is ranked 2nd → RR = 1/2 = 0.5\n",
    "\n",
    "$$\n",
    "MRR = (1.0 + 0.33 + 0.5) / 3 ≈ 0.61\n",
    "$$\n",
    "\n",
    "### Normalized Discounted Cumulative Gain (NDCG)\n",
    "\n",
    "NDCG is a ranking metric that measures the quality of the _entire ranked list_, not just the top result.\n",
    "\n",
    "- For each position in the ranked list, calculate: DCG = sum((2^relevance - 1) / log2(rank + 1))\n",
    "- relevance is typically a binary (0/1) or graded score (e.g., 1/2/3).\n",
    "- The DCG of the perfect ranking (correct results sorted by relevance).\n",
    "- Normalizes the score to [0, 1], where 1 is perfect.\n",
    "\n",
    "Example:\n",
    "\n",
    "- Rank 1: (2^1 - 1) / log2(1+1) = 1 / 1 = 1.0\n",
    "- Rank 2: (2^0 - 1) / log2(2+1) = 0 / 1.58 ≈ 0\n",
    "- Rank 3: (2^3 - 1) / log2(3+1) = 7 / 2 ≈ 3.5\n",
    "- Rank 4: (2^2 - 1) / log2(4+1) = 3 / 2.32 ≈ 1.29\n",
    "- $DCG = 1.0 + 0 + 3.5 + 1.29 ≈ 5.79$\n"
   ]
  },
  {
   "cell_type": "markdown",
   "id": "fbf598ea",
   "metadata": {},
   "source": [
    "# Appendix"
   ]
  },
  {
   "cell_type": "markdown",
   "id": "7d0f9e42",
   "metadata": {},
   "source": [
    "You can also use the [bm25](https://deepwiki.com/weaviate/weaviate/6.2-keyword-search-(bm25)) keywords style search, or better, the [Hybrid search](https://medium.com/etoai/hybrid-search-combining-bm25-and-semantic-search-for-better-results-with-lan-1358038fe7e6) shown below which combines the vector embedding and the bm25."
   ]
  },
  {
   "cell_type": "code",
   "execution_count": 89,
   "id": "967c1f9f",
   "metadata": {},
   "outputs": [],
   "source": [
    "if False:\n",
    "    results = collection.query.hybrid(\n",
    "        # https://deepwiki.com/weaviate/weaviate-python-client/5.2-keyword-and-hybrid-search\n",
    "        return_metadata=wvc.query.MetadataQuery(\n",
    "            score=True,\n",
    "            explain_score=True,\n",
    "            distance=True,\n",
    "            certainty=True\n",
    "        ),\n",
    "        query=\"patient has been complaining of lack of sleep and low mood\",\n",
    "        alpha=0.5,  # Equal balance between BM25 and vector search\n",
    "        target_vector=\"text_vector\",\n",
    "        limit=4,\n",
    "    )\n",
    "    pprint.pprint(results)\n",
    "    # response = collection.query.bm25()\n"
   ]
  }
 ],
 "metadata": {
  "kernelspec": {
   "display_name": "spikes",
   "language": "python",
   "name": "python3"
  },
  "language_info": {
   "codemirror_mode": {
    "name": "ipython",
    "version": 3
   },
   "file_extension": ".py",
   "mimetype": "text/x-python",
   "name": "python",
   "nbconvert_exporter": "python",
   "pygments_lexer": "ipython3",
   "version": "3.11.13"
  }
 },
 "nbformat": 4,
 "nbformat_minor": 5
}
