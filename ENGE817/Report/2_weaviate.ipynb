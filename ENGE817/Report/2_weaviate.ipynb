{
 "cells": [
  {
   "cell_type": "markdown",
   "id": "27f7ba4e",
   "metadata": {},
   "source": [
    "# Create a Vector Database"
   ]
  },
  {
   "cell_type": "markdown",
   "id": "b58b8f82",
   "metadata": {},
   "source": [
    "| ID | Model | Port |\n",
    "|----|-------|------|\n",
    "| 0 | Distilbert | 9090 |\n",
    "| 1 | Roberta | 9091 |\n",
    "| 2 | Biobert | 9092 |\n",
    "| 3 | Clinicalbert | 9093 |"
   ]
  },
  {
   "cell_type": "markdown",
   "id": "f60866d5",
   "metadata": {},
   "source": [
    "# Create Schemas and Populate DSM Data"
   ]
  },
  {
   "cell_type": "markdown",
   "id": "5044ab30",
   "metadata": {},
   "source": [
    "## Install Libraries"
   ]
  },
  {
   "cell_type": "code",
   "execution_count": 199,
   "id": "6f1a85ea",
   "metadata": {},
   "outputs": [
    {
     "name": "stdout",
     "output_type": "stream",
     "text": [
      "Requirement already satisfied: weaviate-client in /Users/robrohan/miniconda3/envs/spikes/lib/python3.11/site-packages (4.16.10)\n",
      "Requirement already satisfied: plotly in /Users/robrohan/miniconda3/envs/spikes/lib/python3.11/site-packages (6.3.0)\n",
      "Requirement already satisfied: numpy in /Users/robrohan/miniconda3/envs/spikes/lib/python3.11/site-packages (2.2.6)\n",
      "Collecting numpy\n",
      "  Using cached numpy-2.3.3-cp311-cp311-macosx_14_0_arm64.whl.metadata (62 kB)\n",
      "Requirement already satisfied: scikit-learn in /Users/robrohan/miniconda3/envs/spikes/lib/python3.11/site-packages (1.7.2)\n",
      "Requirement already satisfied: umap-learn in /Users/robrohan/miniconda3/envs/spikes/lib/python3.11/site-packages (0.5.9.post2)\n",
      "Requirement already satisfied: httpx<0.29.0,>=0.26.0 in /Users/robrohan/miniconda3/envs/spikes/lib/python3.11/site-packages (from weaviate-client) (0.28.1)\n",
      "Requirement already satisfied: validators<1.0.0,>=0.34.0 in /Users/robrohan/miniconda3/envs/spikes/lib/python3.11/site-packages (from weaviate-client) (0.35.0)\n",
      "Requirement already satisfied: authlib<2.0.0,>=1.2.1 in /Users/robrohan/miniconda3/envs/spikes/lib/python3.11/site-packages (from weaviate-client) (1.6.2)\n",
      "Requirement already satisfied: pydantic<3.0.0,>=2.8.0 in /Users/robrohan/miniconda3/envs/spikes/lib/python3.11/site-packages (from weaviate-client) (2.11.7)\n",
      "Requirement already satisfied: grpcio<1.80.0,>=1.59.5 in /Users/robrohan/miniconda3/envs/spikes/lib/python3.11/site-packages (from weaviate-client) (1.74.0)\n",
      "Requirement already satisfied: protobuf<7.0.0,>=4.21.6 in /Users/robrohan/miniconda3/envs/spikes/lib/python3.11/site-packages (from weaviate-client) (6.32.0)\n",
      "Requirement already satisfied: deprecation<3.0.0,>=2.1.0 in /Users/robrohan/miniconda3/envs/spikes/lib/python3.11/site-packages (from weaviate-client) (2.1.0)\n",
      "Requirement already satisfied: cryptography in /Users/robrohan/miniconda3/envs/spikes/lib/python3.11/site-packages (from authlib<2.0.0,>=1.2.1->weaviate-client) (45.0.6)\n",
      "Requirement already satisfied: packaging in /Users/robrohan/miniconda3/envs/spikes/lib/python3.11/site-packages (from deprecation<3.0.0,>=2.1.0->weaviate-client) (25.0)\n",
      "Requirement already satisfied: anyio in /Users/robrohan/miniconda3/envs/spikes/lib/python3.11/site-packages (from httpx<0.29.0,>=0.26.0->weaviate-client) (4.10.0)\n",
      "Requirement already satisfied: certifi in /Users/robrohan/miniconda3/envs/spikes/lib/python3.11/site-packages (from httpx<0.29.0,>=0.26.0->weaviate-client) (2025.8.3)\n",
      "Requirement already satisfied: httpcore==1.* in /Users/robrohan/miniconda3/envs/spikes/lib/python3.11/site-packages (from httpx<0.29.0,>=0.26.0->weaviate-client) (1.0.9)\n",
      "Requirement already satisfied: idna in /Users/robrohan/miniconda3/envs/spikes/lib/python3.11/site-packages (from httpx<0.29.0,>=0.26.0->weaviate-client) (3.10)\n",
      "Requirement already satisfied: h11>=0.16 in /Users/robrohan/miniconda3/envs/spikes/lib/python3.11/site-packages (from httpcore==1.*->httpx<0.29.0,>=0.26.0->weaviate-client) (0.16.0)\n",
      "Requirement already satisfied: annotated-types>=0.6.0 in /Users/robrohan/miniconda3/envs/spikes/lib/python3.11/site-packages (from pydantic<3.0.0,>=2.8.0->weaviate-client) (0.7.0)\n",
      "Requirement already satisfied: pydantic-core==2.33.2 in /Users/robrohan/miniconda3/envs/spikes/lib/python3.11/site-packages (from pydantic<3.0.0,>=2.8.0->weaviate-client) (2.33.2)\n",
      "Requirement already satisfied: typing-extensions>=4.12.2 in /Users/robrohan/miniconda3/envs/spikes/lib/python3.11/site-packages (from pydantic<3.0.0,>=2.8.0->weaviate-client) (4.14.1)\n",
      "Requirement already satisfied: typing-inspection>=0.4.0 in /Users/robrohan/miniconda3/envs/spikes/lib/python3.11/site-packages (from pydantic<3.0.0,>=2.8.0->weaviate-client) (0.4.1)\n",
      "Requirement already satisfied: narwhals>=1.15.1 in /Users/robrohan/miniconda3/envs/spikes/lib/python3.11/site-packages (from plotly) (2.2.0)\n",
      "Requirement already satisfied: scipy>=1.8.0 in /Users/robrohan/miniconda3/envs/spikes/lib/python3.11/site-packages (from scikit-learn) (1.16.1)\n",
      "Requirement already satisfied: joblib>=1.2.0 in /Users/robrohan/miniconda3/envs/spikes/lib/python3.11/site-packages (from scikit-learn) (1.5.1)\n",
      "Requirement already satisfied: threadpoolctl>=3.1.0 in /Users/robrohan/miniconda3/envs/spikes/lib/python3.11/site-packages (from scikit-learn) (3.6.0)\n",
      "Requirement already satisfied: numba>=0.51.2 in /Users/robrohan/miniconda3/envs/spikes/lib/python3.11/site-packages (from umap-learn) (0.61.2)\n",
      "Requirement already satisfied: pynndescent>=0.5 in /Users/robrohan/miniconda3/envs/spikes/lib/python3.11/site-packages (from umap-learn) (0.5.13)\n",
      "Requirement already satisfied: tqdm in /Users/robrohan/miniconda3/envs/spikes/lib/python3.11/site-packages (from umap-learn) (4.67.1)\n",
      "Requirement already satisfied: llvmlite<0.45,>=0.44.0dev0 in /Users/robrohan/miniconda3/envs/spikes/lib/python3.11/site-packages (from numba>=0.51.2->umap-learn) (0.44.0)\n",
      "Requirement already satisfied: sniffio>=1.1 in /Users/robrohan/miniconda3/envs/spikes/lib/python3.11/site-packages (from anyio->httpx<0.29.0,>=0.26.0->weaviate-client) (1.3.1)\n",
      "Requirement already satisfied: cffi>=1.14 in /Users/robrohan/miniconda3/envs/spikes/lib/python3.11/site-packages (from cryptography->authlib<2.0.0,>=1.2.1->weaviate-client) (1.17.1)\n",
      "Requirement already satisfied: pycparser in /Users/robrohan/miniconda3/envs/spikes/lib/python3.11/site-packages (from cffi>=1.14->cryptography->authlib<2.0.0,>=1.2.1->weaviate-client) (2.22)\n",
      "Note: you may need to restart the kernel to use updated packages.\n",
      "Requirement already satisfied: nbformat in /Users/robrohan/miniconda3/envs/spikes/lib/python3.11/site-packages (5.10.4)\n",
      "Requirement already satisfied: kaleido in /Users/robrohan/miniconda3/envs/spikes/lib/python3.11/site-packages (1.1.0)\n",
      "Requirement already satisfied: fastjsonschema>=2.15 in /Users/robrohan/miniconda3/envs/spikes/lib/python3.11/site-packages (from nbformat) (2.21.2)\n",
      "Requirement already satisfied: jsonschema>=2.6 in /Users/robrohan/miniconda3/envs/spikes/lib/python3.11/site-packages (from nbformat) (4.25.1)\n",
      "Requirement already satisfied: jupyter-core!=5.0.*,>=4.12 in /Users/robrohan/miniconda3/envs/spikes/lib/python3.11/site-packages (from nbformat) (5.8.1)\n",
      "Requirement already satisfied: traitlets>=5.1 in /Users/robrohan/miniconda3/envs/spikes/lib/python3.11/site-packages (from nbformat) (5.14.3)\n",
      "Requirement already satisfied: choreographer>=1.0.10 in /Users/robrohan/miniconda3/envs/spikes/lib/python3.11/site-packages (from kaleido) (1.0.10)\n",
      "Requirement already satisfied: logistro>=1.0.8 in /Users/robrohan/miniconda3/envs/spikes/lib/python3.11/site-packages (from kaleido) (1.1.0)\n",
      "Requirement already satisfied: orjson>=3.10.15 in /Users/robrohan/miniconda3/envs/spikes/lib/python3.11/site-packages (from kaleido) (3.11.2)\n",
      "Requirement already satisfied: packaging in /Users/robrohan/miniconda3/envs/spikes/lib/python3.11/site-packages (from kaleido) (25.0)\n",
      "Requirement already satisfied: pytest-timeout>=2.4.0 in /Users/robrohan/miniconda3/envs/spikes/lib/python3.11/site-packages (from kaleido) (2.4.0)\n",
      "Requirement already satisfied: simplejson>=3.19.3 in /Users/robrohan/miniconda3/envs/spikes/lib/python3.11/site-packages (from choreographer>=1.0.10->kaleido) (3.20.1)\n",
      "Requirement already satisfied: attrs>=22.2.0 in /Users/robrohan/miniconda3/envs/spikes/lib/python3.11/site-packages (from jsonschema>=2.6->nbformat) (25.3.0)\n",
      "Requirement already satisfied: jsonschema-specifications>=2023.03.6 in /Users/robrohan/miniconda3/envs/spikes/lib/python3.11/site-packages (from jsonschema>=2.6->nbformat) (2025.4.1)\n",
      "Requirement already satisfied: referencing>=0.28.4 in /Users/robrohan/miniconda3/envs/spikes/lib/python3.11/site-packages (from jsonschema>=2.6->nbformat) (0.36.2)\n",
      "Requirement already satisfied: rpds-py>=0.7.1 in /Users/robrohan/miniconda3/envs/spikes/lib/python3.11/site-packages (from jsonschema>=2.6->nbformat) (0.27.1)\n",
      "Requirement already satisfied: platformdirs>=2.5 in /Users/robrohan/miniconda3/envs/spikes/lib/python3.11/site-packages (from jupyter-core!=5.0.*,>=4.12->nbformat) (4.3.8)\n",
      "Requirement already satisfied: pytest>=7.0.0 in /Users/robrohan/miniconda3/envs/spikes/lib/python3.11/site-packages (from pytest-timeout>=2.4.0->kaleido) (8.4.2)\n",
      "Requirement already satisfied: iniconfig>=1 in /Users/robrohan/miniconda3/envs/spikes/lib/python3.11/site-packages (from pytest>=7.0.0->pytest-timeout>=2.4.0->kaleido) (2.1.0)\n",
      "Requirement already satisfied: pluggy<2,>=1.5 in /Users/robrohan/miniconda3/envs/spikes/lib/python3.11/site-packages (from pytest>=7.0.0->pytest-timeout>=2.4.0->kaleido) (1.6.0)\n",
      "Requirement already satisfied: pygments>=2.7.2 in /Users/robrohan/miniconda3/envs/spikes/lib/python3.11/site-packages (from pytest>=7.0.0->pytest-timeout>=2.4.0->kaleido) (2.19.2)\n",
      "Requirement already satisfied: typing-extensions>=4.4.0 in /Users/robrohan/miniconda3/envs/spikes/lib/python3.11/site-packages (from referencing>=0.28.4->jsonschema>=2.6->nbformat) (4.14.1)\n",
      "Note: you may need to restart the kernel to use updated packages.\n"
     ]
    }
   ],
   "source": [
    "%pip install -U weaviate-client plotly numpy scikit-learn umap-learn\n",
    "%pip install --upgrade nbformat kaleido"
   ]
  },
  {
   "cell_type": "markdown",
   "id": "c90bb679",
   "metadata": {},
   "source": [
    "## Imports"
   ]
  },
  {
   "cell_type": "code",
   "execution_count": 200,
   "id": "99dae71c",
   "metadata": {},
   "outputs": [],
   "source": [
    "import os\n",
    "import requests, json\n",
    "import weaviate\n",
    "import numpy as np\n",
    "from weaviate.classes.config import Configure, VectorDistances\n",
    "import weaviate.classes as wvc\n",
    "\n",
    "from sklearn.decomposition import PCA\n",
    "import matplotlib.pyplot as plt\n",
    "\n",
    "import plotly.express as px\n"
   ]
  },
  {
   "cell_type": "markdown",
   "id": "4c658fac",
   "metadata": {},
   "source": [
    "## Create Schemas and Populate DSM Data"
   ]
  },
  {
   "cell_type": "code",
   "execution_count": 201,
   "id": "1ba9b6f6",
   "metadata": {},
   "outputs": [
    {
     "name": "stdout",
     "output_type": "stream",
     "text": [
      "[{'name': 'Distilbert', 'url': 'http://t2v-transformers:8080', 'schema': 'DSMDistilbert'}, {'name': 'Roberta', 'url': 'http://t2v-transformers-drobert:8080', 'schema': 'DSMRoberta'}, {'name': 'Biobert', 'url': 'http://t2v-transformers-biobert:8080', 'schema': 'DSMBiobert'}, {'name': 'Clinicalbert', 'url': 'http://t2v-transformers-clicbert:8080', 'schema': 'DSMClinicalbert'}]\n"
     ]
    }
   ],
   "source": [
    "from tables import classes, schema_dicts\n",
    "print(schema_dicts)"
   ]
  },
  {
   "cell_type": "markdown",
   "id": "b7b79274",
   "metadata": {},
   "source": [
    "I started off by using cosine similarity (just because I am used to it), but I think in this context euclidean distance makes more sense. [Here are different distance metrics](https://docs.weaviate.io/weaviate/config-refs/distances). My idea is that the closer it is to a given passage, the more likely a diagnoisis would be. $\\theta$ could be really far away from something, but just on the same trajectory - I don't think that makes sense in this context.\n",
    "\n",
    "However, after some research it turns out that cosine similarity is probably better."
   ]
  },
  {
   "cell_type": "code",
   "execution_count": 202,
   "id": "9050dff2",
   "metadata": {},
   "outputs": [],
   "source": [
    "if False:\n",
    "    client = weaviate.connect_to_local()\n",
    "    try:\n",
    "        for s in schema_dicts:\n",
    "            print(f'{s[\"name\"]} :: {s[\"schema\"]}')\n",
    "\n",
    "            dsm = client.collections.create(\n",
    "                name=s[\"schema\"],\n",
    "                vector_config=Configure.Vectors.text2vec_transformers(\n",
    "                    name=\"text_vector\",\n",
    "                    source_properties=[\"text\"],\n",
    "                    vector_index_config=Configure.VectorIndex.hnsw(\n",
    "                        # https://docs.weaviate.io/weaviate/config-refs/distances\n",
    "                        distance_metric=VectorDistances.COSINE # Cosine (angular) distance\n",
    "                        # distance_metric=VectorDistances.L2_SQUARED       # 0 <= d < ∞\n",
    "                    ),\n",
    "                    inference_url=s[\"url\"],\n",
    "                ),\n",
    "            )\n",
    "\n",
    "            directory = \"./chunks\"\n",
    "            for file in os.listdir(directory):\n",
    "                filename = os.fsdecode(file)\n",
    "                if filename.endswith(\".json\"):\n",
    "                    with open(os.path.join(directory, filename)) as f:\n",
    "                        jsn = json.loads(f.read())\n",
    "\n",
    "                        cks = jsn[\"chunks\"]\n",
    "                        for i,c in enumerate(cks):\n",
    "                            with dsm.batch.dynamic() as batch:\n",
    "                                batch.add_object(\n",
    "                                    {\n",
    "                                        \"key\": f\"{jsn['id']}::{i}\",\n",
    "                                        \"title\": jsn[\"title\"],\n",
    "                                        \"text\": c,\n",
    "                                    }\n",
    "                                )\n",
    "    except Exception as ex:\n",
    "        print(\"Schema probably already exists.\", ex)\n",
    "    finally:\n",
    "        client.close()"
   ]
  },
  {
   "cell_type": "code",
   "execution_count": 203,
   "id": "5fed1ee6",
   "metadata": {},
   "outputs": [],
   "source": [
    "# client = weaviate.connect_to_local()\n",
    "# try:\n",
    "#     schema = client.collections.get(schema_dicts[0][\"schema\"])\n",
    "#     print(schema)\n",
    "# finally:\n",
    "#     client.close()"
   ]
  },
  {
   "cell_type": "markdown",
   "id": "b5e76f03",
   "metadata": {},
   "source": [
    "## Tests Query\n",
    "\n",
    "How to query the collections using the different embedding models. This is only using cosine similarity to get the results. For something more productionish, see the appendex where we use a mix of keywords and embeddings to get a (possibly) more accurate score. Not used in this research."
   ]
  },
  {
   "cell_type": "code",
   "execution_count": 204,
   "id": "59bb0ed1",
   "metadata": {},
   "outputs": [],
   "source": [
    "schema_index = 3"
   ]
  },
  {
   "cell_type": "code",
   "execution_count": 205,
   "id": "513eeb39",
   "metadata": {},
   "outputs": [
    {
     "name": "stdout",
     "output_type": "stream",
     "text": [
      "distance: 0.21644532680511475\n",
      "Autism Spectrum Disorder\n",
      "----------------------------\n",
      "**TABLE 2 Severity levels for autism spectrum disorder**  **(examples of level of support needs)**  **Restricted, repetitive**  **Severity level** **Social communication**  **behaviors**  Inflexibility of behavior, extreme  difficulty coping with change, or other restricted/repetitive behaviors markedly interfere with functioning in all spheres. Great distress/difficulty changing focus or action.  Level 3  \"Requiring very  substantial support\"  Severe deficits in verbal and nonverbal  social communication skills cause severe impairments in functioning, very limited initiation of social interactions, and minimal response to social overtures from others. For example, a person with few words of intelligible speech who rarely initiates interaction and, when he or she does, makes unusual approaches to meet needs only and responds to only very direct social approaches.  **Severity level** **Social communication**  **Restricted, repetitive**  **behaviors**  Inflexibility of behavior, difficulty  coping with change, or other restricted/repetitive behaviors appear frequently enough to be obvious to the casual observer and interfere with functioning in a variety of contexts. Distress and/or difficulty changing focus or action.  Inflexibility of behavior causes  significant interference with functioning in one or more contexts. Difficulty switching between activities. Problems of organization and planning hamper independence.  Level 2  \"Requiring substantial  support\"  Level 1  \"Requiring support\"  Marked deficits in verbal and\n",
      "----------------------------\n",
      "distance: 0.21695315837860107\n",
      "Bipolar and Related Disorders\n",
      "----------------------------\n",
      "Inflated self-esteem is typically present, ranging from uncritical selfconfidence to marked grandiosity, and may reach delusional proportions (Criterion B1). Despite lack of any particular experience or talent, the individual may embark on complex tasks such as writing a novel or seeking publicity for some impractical invention. Grandiose delusions (e.g., of having a special relationship to a famous person) are common. In children, overestimation of abilities and belief that, for example, they are the best at a sport or the smartest in the class is normal; however, when such beliefs are present despite clear evidence to the contrary or the child attempts feats that are clearly dangerous and, most important, represent a change from the child's normal behavior, the grandiosity criterion should be considered satisfied.  One of the most common features is a decreased need for sleep (Criterion B2), which is distinct from insomnia (during which the individual wants to sleep or feels the need to sleep but is unable to). The individual may sleep little, if at all, or may awaken several hours earlier than usual, feeling rested and full of energy. When the sleep disturbance is severe, the  individual may go for days without sleep, yet not feel tired. Often decreased need for sleep heralds the onset of a manic episode.\n",
      "----------------------------\n",
      "distance: 0.217759370803833\n",
      "Schizophrenia Spectrum and Other Psychotic Disorders\n",
      "----------------------------\n",
      "unfaithful partner. This belief is arrived at without due cause and is based on incorrect inferences supported by small bits of \"evidence\" (e.g., disarrayed clothing). The individual with the delusion usually confronts the spouse or lover and attempts to intervene in the imagined infidelity. In *persecutory type,* the central theme of the delusion involves the individual's belief of being conspired against, cheated, spied on, followed, poisoned, maliciously maligned, harassed, or obstructed in the pursuit of long-term goals. Small slights may be exaggerated and become the focus of a delusional system. The affected individual may engage in repeated attempts to obtain satisfaction by legal or legislative action. Individuals with persecutory delusions are often resentful and angry and may resort to violence against those they believe are hurting them. In *somatic type,* the central theme of the delusion involves bodily functions or sensations. Somatic delusions can occur in several forms. Most common is the belief  that the individual emits a foul odor; that there is an infestation of insects on or in the skin; that there is an internal parasite; or that parts of the body are not functioning.  ###### **Diagnostic Features**\n",
      "----------------------------\n",
      "distance: 0.21943259239196777\n",
      "Parasomnias\n",
      "----------------------------\n",
      "###### **Associated Features**  Sleepwalking episodes can include a wide variety of behaviors. Episodes may begin with confusion: the individual may simply sit up in bed, look about, or pick at the blanket or sheet. This behavior then becomes progressively complex. The individual may actually leave the bed and walk into closets, out of the room, and even out of buildings. Individuals may use the bathroom, eat, talk, or engage in more complex behaviors. Running and frantic attempts to escape some apparent threat can also occur. Most  behaviors during sleepwalking episodes are routine and of low complexity. However, cases of unlocking doors and even operating machinery (driving an automobile) have been reported. Sleepwalking can also include inappropriate behavior (e.g., commonly, urinating in a closet or wastebasket). Most episodes last for several minutes to a half hour but may be more protracted. Inasmuch as sleep is a state of relative analgesia, painful injuries sustained during sleepwalking may not be appreciated until awakening after the fact.\n",
      "----------------------------\n",
      "distance: 0.22242438793182373\n",
      "Cluster C Personalit Disorders y\n",
      "----------------------------\n",
      "Individuals with obsessive-compulsive personality disorder are reluctant to delegate tasks or to work with others (Criterion 6). They stubbornly and unreasonably insist that everything be done their way and that people conform to their way of doing things. They often give very detailed instructions about how things should be done (e.g., there is one and only one way to mow the lawn, wash the dishes, load the dishwasher, build a doghouse), even to the point of micromanaging others, and are surprised and irritated if others suggest creative alternatives. At other times they may reject offers of help even when behind schedule because they believe no one else can do it right.  Individuals with this disorder may be miserly and stingy (having difficulty spending money on both themselves and others) and maintain a standard of living far below what they can afford, believing that spending must be tightly controlled to provide for future catastrophes (Criterion 7). Obsessive-compulsive personality disorder is characterized by rigidity and stubbornness (Criterion 8). Individuals with this disorder are so concerned about having things done the one \"correct\" way that they have trouble going along with anyone else's ideas. These individuals plan ahead in meticulous detail and are unwilling to consider changes to these plans or their usual routines. Totally wrapped up in their own perspective, they have difficulty acknowledging the viewpoints of others. Friends and colleagues may become frustrated by this constant rigidity. Even when individuals with obsessive-compulsive personality disorder recognize that it may be in their interest to compromise, they may stubbornly refuse to do so, arguing that it is \"the principle of the thing.\"  ###### **Associated Features**\n",
      "----------------------------\n"
     ]
    }
   ],
   "source": [
    "client = weaviate.connect_to_local()\n",
    "try:\n",
    "    collection = client.collections.use(schema_dicts[schema_index][\"schema\"])\n",
    "\n",
    "    results = collection.query.near_text(\n",
    "       # Because near_text is a purely vector search, we get a\n",
    "       # distance and no score\n",
    "        return_metadata=wvc.query.MetadataQuery(\n",
    "            score=True, explain_score=True, distance=True, certainty=True\n",
    "        ),\n",
    "        query=\"\"\"patient sad has lost intrest in activites and is having difficulty sleeping\"\"\",\n",
    "        limit=5\n",
    "    )\n",
    "    for r in results.objects:\n",
    "        # This doesn't work now we are using distance instead of cosine: , score: {round((1-r.metadata.distance)*100, 1)}%\n",
    "        # Same with this: , certainty: {r.metadata.certainty}\n",
    "        print(f\"distance: {r.metadata.distance}\")\n",
    "        print(r.properties['title'])\n",
    "        print(\"----------------------------\")\n",
    "        print(r.properties['text'])\n",
    "        print(\"----------------------------\")\n",
    "\n",
    "finally:\n",
    "    client.close()  # Close client gracefully\n",
    "\n",
    "# Most text embeddings (e.g., from BERT, Sentence-BERT, etc.) are normalized, so cosine similarity is between 0 and 1."
   ]
  },
  {
   "cell_type": "markdown",
   "id": "dd2c9907",
   "metadata": {},
   "source": [
    "## Fetch All Vectors"
   ]
  },
  {
   "cell_type": "code",
   "execution_count": 206,
   "id": "1dc92070",
   "metadata": {},
   "outputs": [
    {
     "name": "stdout",
     "output_type": "stream",
     "text": [
      "Fetched 1957 vectors.\n"
     ]
    }
   ],
   "source": [
    "client = weaviate.connect_to_local()\n",
    "try:\n",
    "    dsm = client.collections.get(schema_dicts[schema_index][\"schema\"])\n",
    "    response = dsm.query.fetch_objects(limit=10000, include_vector=True)\n",
    "\n",
    "    vectors = np.array([np.array(obj.vector[\"text_vector\"]) for obj in response.objects])\n",
    "    titles = np.array(np.array([obj.properties[\"title\"] for obj in response.objects]))\n",
    "\n",
    "    print(f\"Fetched {len(vectors)} vectors.\")\n",
    "except Exception as ex:\n",
    "    print(f\"Error: {ex}\")\n",
    "finally:\n",
    "    client.close()\n",
    "\n",
    "unique_titles = list(set(titles))"
   ]
  },
  {
   "cell_type": "markdown",
   "id": "b837ce60",
   "metadata": {},
   "source": [
    "# Analysis"
   ]
  },
  {
   "cell_type": "markdown",
   "id": "ecb7c8db",
   "metadata": {},
   "source": [
    "## Average Pairwise Distance\n",
    "\n",
    "My guess is a tightly clustered vector space (where most vectors are close to each other) will indicate poor discriminative power, especially if the clusters overlap or lack clear separation. I think this will lead to worse classification performance.\n",
    "\n",
    "Calculate the average distance between all pairs of vectors. If this value is small, the vectors are tightly clustered.\n",
    "\n",
    "**Interpretation**\n",
    "- Low average distance (e.g., close to 0 for cosine distance): Vectors are tightly clustered.\n",
    "- High average distance (e.g., close to 1 for cosine distance): Vectors are spread out."
   ]
  },
  {
   "cell_type": "code",
   "execution_count": 1,
   "id": "5acfabdc",
   "metadata": {},
   "outputs": [
    {
     "ename": "NameError",
     "evalue": "name 'vectors' is not defined",
     "output_type": "error",
     "traceback": [
      "\u001b[31m---------------------------------------------------------------------------\u001b[39m",
      "\u001b[31mNameError\u001b[39m                                 Traceback (most recent call last)",
      "\u001b[36mCell\u001b[39m\u001b[36m \u001b[39m\u001b[32mIn[1]\u001b[39m\u001b[32m, line 6\u001b[39m\n\u001b[32m      3\u001b[39m \u001b[38;5;28;01mimport\u001b[39;00m\u001b[38;5;250m \u001b[39m\u001b[34;01mnumpy\u001b[39;00m\u001b[38;5;250m \u001b[39m\u001b[38;5;28;01mas\u001b[39;00m\u001b[38;5;250m \u001b[39m\u001b[34;01mnp\u001b[39;00m\n\u001b[32m      5\u001b[39m \u001b[38;5;66;03m# Assume `vectors` is your numpy array of embeddings\u001b[39;00m\n\u001b[32m----> \u001b[39m\u001b[32m6\u001b[39m distance_matrix = cosine_distances(\u001b[43mvectors\u001b[49m)\n\u001b[32m      7\u001b[39m avg_distance = np.mean(distance_matrix)\n\u001b[32m      8\u001b[39m \u001b[38;5;28mprint\u001b[39m(\u001b[33mf\u001b[39m\u001b[33m\"\u001b[39m\u001b[33mAverage pairwise distance: \u001b[39m\u001b[38;5;132;01m{\u001b[39;00mavg_distance\u001b[38;5;132;01m:\u001b[39;00m\u001b[33m.3f\u001b[39m\u001b[38;5;132;01m}\u001b[39;00m\u001b[33m\"\u001b[39m)\n",
      "\u001b[31mNameError\u001b[39m: name 'vectors' is not defined"
     ]
    }
   ],
   "source": [
    "from sklearn.metrics.pairwise import cosine_distances\n",
    "from sklearn.metrics.pairwise import euclidean_distances\n",
    "import numpy as np\n",
    "\n",
    "# Assume `vectors` is your numpy array of embeddings\n",
    "distance_matrix = cosine_distances(vectors)\n",
    "avg_distance = np.mean(distance_matrix)\n",
    "print(f\"Average pairwise distance: {avg_distance:.3f}\")"
   ]
  },
  {
   "cell_type": "markdown",
   "id": "7f9e213d",
   "metadata": {},
   "source": [
    "## Eigenvalue Decay of the Distance Matrix\n",
    "\n",
    "If the vector space is tightly clustered, the eigenvalues of the distance matrix will decay slowly (indicating low-dimensional structure). This is related to Multidimensional Scaling (MDS).\n",
    "Steps:\n",
    "\n",
    "- Compute the distance matrix.\n",
    "- Perform eigenvalue decomposition.\n",
    "- Plot the eigenvalues to see how quickly they decay.\n",
    "\n",
    "**Interpretation**\n",
    "- Slow decay (flat curve): Vectors are tightly clustered (low-dimensional structure).\n",
    "- Fast decay (steep curve): Vectors are spread out (high-dimensional structure)."
   ]
  },
  {
   "cell_type": "code",
   "execution_count": 208,
   "id": "b9b1a3fb",
   "metadata": {},
   "outputs": [
    {
     "data": {
      "image/png": "[encoded data removed]",
      "text/plain": [
       "<Figure size 640x480 with 1 Axes>"
      ]
     },
     "metadata": {},
     "output_type": "display_data"
    }
   ],
   "source": [
    "from scipy.spatial.distance import pdist, squareform\n",
    "from numpy.linalg import eigh\n",
    "\n",
    "# Compute pairwise Euclidean distances\n",
    "distance_matrix = squareform(pdist(vectors, 'euclidean'))\n",
    "eigenvalues = eigh(distance_matrix)[0]\n",
    "eigenvalues = np.sort(np.abs(eigenvalues))[::-1]  # Sort in descending order\n",
    "\n",
    "# Plot eigenvalue decay\n",
    "plt.plot(eigenvalues)\n",
    "plt.xlabel(\"Eigenvalue Index\")\n",
    "plt.ylabel(\"Eigenvalue Magnitude\")\n",
    "plt.title(\"Eigenvalue Decay of Distance Matrix\")\n",
    "plt.show()"
   ]
  },
  {
   "cell_type": "markdown",
   "id": "6ce83d6b",
   "metadata": {},
   "source": [
    "## Silhouette Score\n",
    "\n",
    "The silhouette score measures how similar a vector is to its own cluster compared to other clusters. You can use it even if you don’t have true labels by applying k-means first.\n",
    "\n",
    "**Interpretation**\n",
    "- Score close to 1: Vectors are well-separated into distinct clusters.\n",
    "- Score close to 0 or negative: Vectors are tightly clustered or overlapping.\n",
    "\n",
    "----\n",
    "\n",
    "- Silhouette Score > 0.5 Clusters are well-separated.\n",
    "- Adjusted Rand Index > 0.7 K-means clusters align well with true categories.\n",
    "- Normalized Mutual Info > 0.7 High agreement between clusters and categories."
   ]
  },
  {
   "cell_type": "code",
   "execution_count": 209,
   "id": "e0eade8c",
   "metadata": {},
   "outputs": [
    {
     "name": "stdout",
     "output_type": "stream",
     "text": [
      "Silhouette score: 0.183\n",
      "Adjusted Rand Index: -0.001\n",
      "Normalized Mutual Information: 0.028\n"
     ]
    }
   ],
   "source": [
    "from sklearn.cluster import KMeans\n",
    "from sklearn.metrics import silhouette_score\n",
    "\n",
    "k = 3  # Number of clusters , random_state=42\n",
    "labels = KMeans(n_clusters=k).fit_predict(vectors)\n",
    "score = silhouette_score(vectors, labels, metric='cosine')\n",
    "print(f\"Silhouette score: {score:.3f}\")\n",
    "\n",
    "# Compares the k-means cluster assignments to your true category labels.\n",
    "# - Score close to 1: Cluster assignments match the true categories well.\n",
    "# - Score close to 0: Cluster assignments are random relative to the true categories.\n",
    "from sklearn.metrics import adjusted_rand_score\n",
    "ari = adjusted_rand_score(titles, labels)\n",
    "print(f\"Adjusted Rand Index: {ari:.3f}\")\n",
    "##\n",
    "# Measures the mutual dependence between the k-means clusters and true categories.\n",
    "# - Score close to 1: High agreement between clusters and categories.\n",
    "# - Score close to 0: No agreement.\n",
    "from sklearn.metrics import normalized_mutual_info_score\n",
    "nmi = normalized_mutual_info_score(titles, labels)\n",
    "print(f\"Normalized Mutual Information: {nmi:.3f}\")\n"
   ]
  },
  {
   "cell_type": "markdown",
   "id": "a8e6fc43",
   "metadata": {},
   "source": [
    "## ~~PCA~~ TSNE and Graph DSM Data"
   ]
  },
  {
   "cell_type": "code",
   "execution_count": 210,
   "id": "e1618a33",
   "metadata": {},
   "outputs": [
    {
     "data": {
      "image/png": "[encoded data removed]",
      "text/plain": [
       "<Figure size 640x480 with 1 Axes>"
      ]
     },
     "metadata": {},
     "output_type": "display_data"
    }
   ],
   "source": [
    "from sklearn.manifold import TSNE\n",
    "import matplotlib.pyplot as plt\n",
    "\n",
    "np.random.seed(42)\n",
    "# PCA can show relative structure (e.g., tight vs. loose clusters)\n",
    "# PCA only works for linear type things so instaed...\n",
    "# pca = PCA(n_components=3)\n",
    "# reduced_vectors = pca.fit_transform(vectors)\n",
    "\n",
    "# We can use TSNE which works much better for manifod type structures\n",
    "tsne = TSNE(n_components=3, metric='cosine', random_state=42)\n",
    "reduced_vectors = tsne.fit_transform(vectors)\n",
    "\n",
    "# unique_titles = list(set(titles))\n",
    "colors = plt.cm.tab20(np.linspace(0, 1, len(unique_titles)))\n",
    "\n",
    "plt.scatter(reduced_vectors[:, 0], reduced_vectors[:, 1])\n",
    "plt.title(schema_dicts[schema_index][\"name\"])\n",
    "plt.xlabel(\"PC1\")\n",
    "plt.ylabel(\"PC2\")\n",
    "plt.show()"
   ]
  },
  {
   "cell_type": "code",
   "execution_count": null,
   "id": "d69764d5",
   "metadata": {},
   "outputs": [
    {
     "data": {
      "application/vnd.plotly.v1+json": {
       "config": {
        "plotlyServerURL": "https://plot.ly"
       },
       "data": [
        {
         "hovertemplate": "color=Bipolar and Related Disorders<br>x=%{x}<br>y=%{y}<br>z=%{z}<extra></extra>",
         "legendgroup": "Bipolar and Related Disorders",
         "marker": {
          "color": "#636efa",
          "opacity": 0.7,
          "size": 4,
          "symbol": "circle"
         },
         "mode": "markers",
         "name": "Bipolar and Related Disorders",
         "scene": "scene",
         "showlegend": true,
         "type": "scatter3d",
         "x": {
          "bdata": "bvi9QLX210FSw6W/appkwP9i4kFd5jzBnNeqvzsgCb/p7OJBA6wtQVXVdkHrYl+++uezQairlj95072/vf0jwWqZm0AGm2FBr+WRwWw9JUDS7a0+51rdQVc+qsHEwvw/nXU6wLyShkEMn+FBpw0TQRuKrUDeHqhAU6dWQQvyOT8ObYg/S7Buv/MAmb9EbvhAiVPZQbSZVcDx9dA/zB0LQI43Ij/hTdlAog6KQXHRjsHLC3FBDt1AQZWvmMHmwIRBTvLPwZDvyUHPA5hBEj6CQVtKlb6lTOBB6qWkQXsQd0Fo2GlBJlGGwSV/aMB/2I9BA+dPQGvdgEHDYE1BrjaMQVL0s8DjOoLBb0vNv1sypsH20L3BCECLQSdYSkFFwRxBPiOGwYcYCMBxg7lBOD7eQYUKr0HA2RrAq2S2PmQvQEAIloVBQiahQBn5usGKsXa/5nCEwIBGXcHmrrjByeqlvxtuVcHVSX1BnESDP9XROMBq76s/6xONQe8CskFEc4hB",
          "dtype": "f4"
         },
         "y": {
          "bdata": "230KwUlEM8EjiMtAvtXfQBqlR8HH2D9B/mfjQCuXX0FjblnB3boMQUhvi8EQKxpBj1hIwQZGUUFMTMlALtPEQJV1tD4RrXbBHXIlQbfTG79qRAdBa7Ixwa0XX0FwvQg/6emoQJ0uYME2VS7Blm2JwcjNqr4/Cy/BsvHmvpq88UC09QlBruYWQfUC6UCzpHvBO3F1wbuBtEAdvPc+kdLOP8mP80Dc7uvA2fqEwXGVIEGikVDB/xBOwWrZhUHhai1B7WcIwb3GO8F4IkzBenRqwbALDkGytEDBSmU8wXd9S8ENYozBpAWFwBwqSUEsHqbAASBVQTv508AqDHjBbeyBwZdCK0GtcXhBQLM3QXRaV0GTG+3AxWiMwKxT1ECH9Pc/Ve2FQckW40AtvDfB64VDwaIJ1EADpTJBmC9NQdUsJkBR0vXAyUQUwVUS5MD9ylhBvicrQaQQK8DcldzAWhncQEuPaEHqQ2/BKS/GQKmRHUFRSnRA7McCQWgYj8HhAMHA",
          "dtype": "f4"
         },
         "z": {
          "bdata": "WybUwOBAeT6t9xbAzKXewGaYTkCQJvW/eUygv39p6sCGnZO/x4aXQJtXaDz4konAzfNNwF6lc8DTGJ3Am8NmQb20WcH+eTPAJ5i6wAYMhUCHBd3AvF1Nv/bYL8F70VLBvMgtwKT6ScDuT9k+mA5Cv4UZg0DPUAfBKQWEQVxWhcBvmYnAo+auwHjxn8DZNCbAfxmGQHszasA3N0jBSnAuwZB0BMH9zYbAiXdCv35UlcBLhTNBWLCuPxFcpMCOQjNBqBaPv9Hf/77BLzvAm84uwGFcWcDBNKG9Ovo2wIDes7/7plXAJVSdQHDsk8Bdrj9BkbONwHHpM0FjKzDAVMozwBmtfMDBoOS/+cl7wNGEOcFpYbnA7IpDQbiMFUGzXxNBd8o9wAUktMDwqCPAlvgAQIDG4UCXZLTAu2ZxwN7/IcE7Ux9B/1rfwNxtiMB0HNnAt7/AwGrKLsCleAzAa1R2Pq6Isr91H57AzYQFwTqOssAB/tHA6zjtQH+81z8riUBB",
          "dtype": "f4"
         }
        },
        {
         "hovertemplate": "color=Feeding and Eating Disorders<br>x=%{x}<br>y=%{y}<br>z=%{z}<extra></extra>",
         "legendgroup": "Feeding and Eating Disorders",
         "marker": {
          "color": "#EF553B",
          "opacity": 0.7,
          "size": 4,
          "symbol": "circle"
         },
         "mode": "markers",
         "name": "Feeding and Eating Disorders",
         "scene": "scene",
         "showlegend": true,
         "type": "scatter3d",
         "x": {
          "bdata": "4ubUwW1JIEGAua+/5ppeP+SNU8Dt1Me/pc56wYEWwcGnBArBGDAUwUMZy8HpHgxBTggLQXwu3sEJmQlBIK3IwP/iREFUSs/AzeiEPzoo5UBz6wlBFFrvwAjgv8HdcCjB6zuBwf3eEME3uLFA/P/YP2kIMEFjMHBBJNt6Qd4WBMFaXVJBuRv2PkIKg8Hyjs7BpZU2wUovtj8q1fNBV0Y9wdYegEGM3UE9dUIOwWF/iL9JnmhBVV+JQVaJ5ECgNMDA93i+v62qgcFoZ5bAtsMpwPUyXD/VredApT2JwTvz90BA49/AOWjUwIAagMEHTC/BgnevvpmzTsAvWbnBuXK/QO0i3MFeDA1BM8uwQSSpG8E=",
          "dtype": "f4"
         },
         "y": {
          "bdata": "/YQsv0TQFsChkfTAYLaawJiioD40DWK/H+0QQQ36qr9ox1LBJcxmQcgoSL983v/AbQMPwYIcjb/07/6/iPPMQB9TS8Egx4lB0muWwHZTe8A9GFy/BLUkwRlyFkHAeVfBSj92wEKmVMHuHZfAwSKKwLFYiMHlM4HBIRBpwSOqM8FP+dXAEx8XwdrSJ0G36IQ+NV6RQJI+wcCHL1bBNCZCQCTxisGoZJXAmrROwQoPh8CfmYLBXud0wTCzksDSMVTBR3aSv1aUIEG1dFRBIYxrvRvlwsAb2cBAmcSBwHc4GMEqaBzB1/FNwS+ZCkHlSoHAZQELwae9CMGfb9a/ddS9QDIoFL/JYyvAHm5nwRxOVME=",
          "dtype": "f4"
         },
         "z": {
          "bdata": "BDaIQHcsnMBhliNBMbYQwV3DTMDRMcHAYYZ3Qd2DYUB/dFRBd8+vQBLShUB/bglA9UFbQO4nk0BQUjjAO0YTwSuWLkE5z8tA+2AMQYIIQUC0GSrAX24bQXCBLMBMxzVBzpMivzJtXkEAN7lArj8UwbdOHUESgINACru2P00kF0FChHnANOIxQTENVUHRkKhAIFwXwTBJIcFHzmVAzBz2wIok9D/TxQbBR3kfQTLtEcFvQqZATkQyQL7JRUAjMzxBA5zXwKaZX0GWNQJABe6AwPS4GEEdcVjAYLOMPwVTiEDv5x1BBwBEQWIpe0FUqj1BeQUuQVoZJ0HTrkJAdVKWwHRYfkCibVTAuXFbQJFFMUE=",
          "dtype": "f4"
         }
        },
        {
         "hovertemplate": "color=Attention-Deficit/Hyperactivity Disorder<br>x=%{x}<br>y=%{y}<br>z=%{z}<extra></extra>",
         "legendgroup": "Attention-Deficit/Hyperactivity Disorder",
         "marker": {
          "color": "#00cc96",
          "opacity": 0.7,
          "size": 4,
          "symbol": "circle"
         },
         "mode": "markers",
         "name": "Attention-Deficit/Hyperactivity Disorder",
         "scene": "scene",
         "showlegend": true,
         "type": "scatter3d",
         "x": {
          "bdata": "y9hJwMRS7kDklIvBi4ebwcHoeUCOY0BAwk4JwTqwZMDVMHdBOGCrQaxXs0GyHJjBX8bdv2IS+sD6KxzBnhfXQEYft0HckDhA77DNwD7t3EAyZD6/eedTvQ==",
          "dtype": "f4"
         },
         "y": {
          "bdata": "jGAuP59czj/tdXNAK7Z0QIiWAcEXW3M/6i4owLXFR0DJLUzBCt0gwUMRIcGI0SNBOAdvwESqosCGP66+CkZ9wSy5KcHyIYC/YsZhPkE4AkD8YrHARgFdwA==",
          "dtype": "f4"
         },
         "z": {
          "bdata": "kLtDwVcQA8HfNS/A76DBwNnRAECcxO3AtV8DvwE/6sCtXCFBD8ACwbjXAsFv9CLBI5seQB+Knr88HfRAvxFOwM2KCMFqK62/Iik6wWJnEsG3/AxB2v99wA==",
          "dtype": "f4"
         }
        },
        {
         "hovertemplate": "color=Breathing-Related Sleep Disorders<br>x=%{x}<br>y=%{y}<br>z=%{z}<extra></extra>",
         "legendgroup": "Breathing-Related Sleep Disorders",
         "marker": {
          "color": "#ab63fa",
          "opacity": 0.7,
          "size": 4,
          "symbol": "circle"
         },
         "mode": "markers",
         "name": "Breathing-Related Sleep Disorders",
         "scene": "scene",
         "showlegend": true,
         "type": "scatter3d",
         "x": {
          "bdata": "l4w3wCeu4b8Wd9C/jbUxwKAToMHZ8DXA/wi1vrcdtL5YrZK/jg8owHKQxz/pSoA+j3ySwd4SjT9wRHrAf9aLwIZWo8HkBoO/d80XPxVgaMCbHZC/NPPDP873J0DqlTA+mikwvGvQMsDEiOo/m2YTvy5IMcDE2JPBqo9lwA3N9b+Q/t6+KLFnv7O1EsAMk3E/K7pTvnLsE8ABxpu/tH8SwQTwhL/inzbAV5xiv3e04z7SuqrBVfLwvzM3E0EElB/B+3iMwbcZGj9vmUvAsC2evQjHuz5GNDa/cRvVPw==",
          "dtype": "f4"
         },
         "y": {
          "bdata": "WviowZMes8E946bB7m7HwYJTHMHP0NLBC1igwREGp8FpNLbBuU+ewRMtucGfzLHB7m8Wwbr5usFVi7rBBwfBwR0QIcE/YtTBd6mawRE7wsHnIajBfJ7BwRMIusG8VaHBQ7ShwQ2qysHt/7jBj8/Mwdcw1cEziAjBVgWXwfgSu8HXRZzBKhDFwQaYu8E45k7BZW3Awev5hsGRdt3B6218wdHcu8HYR9nBdxqYweYYucGKFhLBagnXwfS4gMFJURjAk7EUwQK3osGDeqHBTtnVwc4ExcESBZ7BbFyZwQ==",
          "dtype": "f4"
         },
         "z": {
          "bdata": "e2STQOEYjEBrGQhBuW/mQFsSYj+b6ZtAcLAPQUMwt79F6QdBp+ysv16/Fz4rVMBA/YH8v5g/PkA+wulAE7/oQAb4KkCNjQhARfoBwAi0kUDE5ZO/aNSgQO3L/T5I+h5B/6OeQPqbbUAraRFA1sC5QMhX50C3Cxe/XLQcvzs/i0A3NYRAb1XSQHy6AUGRTwE/pL72QKaBgUBa7E9AoqQQwDWOx0DHVcZA+t8RwC3M1kA8fQo/xTJdQI19JEGfqYdB2Icav7dxy74KMRW//KUIQCtfKEASG+Y/XRQkwA==",
          "dtype": "f4"
         }
        },
        {
         "hovertemplate": "color=Sexual Dysfunctions<br>x=%{x}<br>y=%{y}<br>z=%{z}<extra></extra>",
         "legendgroup": "Sexual Dysfunctions",
         "marker": {
          "color": "#FFA15A",
          "opacity": 0.7,
          "size": 4,
          "symbol": "circle"
         },
         "mode": "markers",
         "name": "Sexual Dysfunctions",
         "scene": "scene",
         "showlegend": true,
         "type": "scatter3d",
         "x": {
          "bdata": "aQFJQehfC8DuNIrBmQj+wIIxhED//EJBJQ9cQd69yEAywHxB/hyWQQqxIMD1uUVBssOLwQY2aMEILorBEdWNwQUTzkHpLkLB13uNwbx6RcBjt4PBOFuhQFTdPkFYST9BVJGDwRXJPUE5B5HB5BZvwbwGVUGEIoXB7mCQQJQwVsDUF1TB2pV5P79tEUHqIDVB+faOwfT+h8HS6HJB7RYmQXKXWkGgnRBBlVIZv3KmN79X3yBB1oMfQfXMh8HahU9B696hQLoSskD+kYXB2ZWbv1fTPsGO7QnA641/wTr/gsFqmEDBit1IwRdAdL+nLmpBtfMyQPR4kUE8cZfBBHsfwfSZRUDuulRBJGh6wVnfdsHom1A/845zQLXjQ8BczWxB+yk6QdESicFnDCxBqmeAwf3+F0HBU13B6p+EwSafUsA=",
          "dtype": "f4"
         },
         "y": {
          "bdata": "4hklwd2If8BE8qhAYz8bQB+qfL5bUzTBCbguwSo3Tz+tpivB8uW8QK8cP8D6TbFADQMNQQFPNMGbtJ1A81XkQC3NKsGa9EU/xuaWQF7kmEEfNas8P6FLvh7VDMGtvLlAHOqUQClYCMFB68NACJeMQBu5LcFZyflAtW+GwbO+mEEJwttAUJBYv54jZMF5RopAa6cIQbyMEkFjeTzBtoj/wMjYK8ECuzjAvKhDPXx/h770xXZAiagVwX2dW0DqwM7AC26yP7yVLD+mFgBBFUaQwMJkT0C3CJ9BYJSVPxkBYr8KHLBAppKwQPFOlcCo0zvBHZ/xP9FOJkHQa5BAEqZfwHmjpT/vtjfBDO2PQFXuQcG/udE/XoJrwZTXgcBXPy7B5XcUwYWBsUDjFC3B+0e2QGKfKUARlb9AWHLgQC1voEE=",
          "dtype": "f4"
         },
         "z": {
          "bdata": "zV7QQIP+RUEPA+o+c8f3QMigGEGoMe1AAPm3QAbIS0GnOYjAmzTtQNH6PEF5LGVA3GrlQO9rsUBnlgFAJPf0QDYOI8CUOr1AcNRuQPxXtkA+x0BAvA45QStnvkAa0QlB+xmVQCkgBUEhBPVAGI0/QHmYBEEn9e9A24ZzwZ+n0EBhi7pA6mECQaq6dEFUJ4lAPdQGQdikEEEz8oHAbcQEwfA250D3VQJBnV8fQYvRE0GnaZhAAET/QKZpmkCHFu1Ah6kxQbShPUHkUV1AeANgQR6x00Aol49AB8o0QHiBpECchppADEWMQEkFaUGcLRLAcSIsQXwmSEG3WWtAzYkCwTktKUHN5KfAfDQUQc08G8GaGPtA+GnfwGVrS0GiiLNA/kPiQNyVhEAslNFABOfVQMTIlkDZIL5A2wSDQIzJg0A=",
          "dtype": "f4"
         }
        },
        {
         "hovertemplate": "color=Disruptive, Impulse-Control, and Conduct Disorders<br>x=%{x}<br>y=%{y}<br>z=%{z}<extra></extra>",
         "legendgroup": "Disruptive, Impulse-Control, and Conduct Disorders",
         "marker": {
          "color": "#19d3f3",
          "opacity": 0.7,
          "size": 4,
          "symbol": "circle"
         },
         "mode": "markers",
         "name": "Disruptive, Impulse-Control, and Conduct Disorders",
         "scene": "scene",
         "showlegend": true,
         "type": "scatter3d",
         "x": {
          "bdata": "GPfYwfRKqkCJgkNBypIHQWcvEMELr5tBT88xQY9u/kEYgPfAODEBQp4sy0CCMCdB5GrnQTFofD+X6/C/bLC1wHZvuUC2KL5ABNMNQW+uHEEOaPpBOXQywb9J0b/Na/pBn0SiP8EP/0Ff6HFBO5+gQLp61MGho9/BTgUhwDrAh8ADjtPBrLUjQBXO70Fjah3Ab9UiQPVQs8DUl+7AQVrnP9sRI8Ey95m/EvEVwQlL90ErhCLA2yVpQVZ7o8EGqotBAIbeQdx8/EE2KTe/wExxwabl8EHqyY5BS6hWP08ODEEzzhlAMNmLwUtzmUDsd1dAsTOzPUCpQMBLi6HBoZb7QfXc8UEyH5zA1g6RQU5kAL96fflBDbObwUOD1UAeyNhBEINnQdr7pUD8qtRB809kQbVl4z8f6Hw/XlkjQY9LZ8DNxcpBNfaiwB7IG8EVi6a/evWTQXSKtUCvzqxAvhM7QCmVP0AXsCxA2gVVQTjRbMCE/71BWLNywHur90CX8JFBQVhtQA6/3ECqinLAq0CjQXVw1EEiqTVBS02YwBFHAELXX59BEM6lQGT+40HihwQ/UX25QW8+NcGo9HRAHz0kwaEmk0Fqpea/Kaq+QKZa2UFRVG1BYQkIQUuaWsCY+ZJBAwkYwRXrkcDugs9AYkMBQja+g78mea1A85kywE9RCMBvwNVA5dD9wDWtEEE7fXpBTPZgwDoxqMGo8hxBc0D6QMIEfEGj/wNCKGkPQJbmscB7bgy/CjrUwZqoaEFtpw9AvCqRwPCt40EGl4dBAJJpP/h6i8DHlkBB1KtPQAQYy0EeuqHAqbEZQXaXzMC5N5K/SMvoPsWDeD+bsElBC/zmwCvh+0FJdTHBFQdcwQh9skBiBklA5k03QfJlJr7ldajBM2S9QIcBpUBPXo/Btiw5QI3LmEClb3bAVNz3QCbDZkGf0ZhBRNC5wOwLBsHmjYjA1EKeQel3K8ARS/RAhZmzQEr1HL90PvxAXDiQQfN0+EHXbGNAbSfEwHFoxr8fwQ9BvD2Yv/CbF0EQyopBsdo5QWpYbEAsvk/AVJEhQDJqAsH5In1AnqEHQdJjMkA/toQ+FwtHPzujYsFtxRhBifjUvlzgzkD7E/hBHeTZQK7NtcBoHY1BhqILQavx4kHEBohB/vUfQUpG0z+2UDfAifrCv0yOC0Gg7hlBySAHP21orj/weoLAjtyWQVIBdkGOD6tACJVEwLlSQz8M2Tq9bSqCQfGv8j8g9WZAMFkxQcCm3kGKbODA/WOBv6JYyEEDdZNBR1I9wLnOBUHS0dnByYeuQMLOCkBs6QBBUvH1QUFgk8EOTOVBXM6MwBh2mD+/Ei3Bku3IQY0x1kHm6O5B+6y/QLwiXUDwEp0/OvSRwbui50GsOmBBjIVgwfo0CsGut2PAbkEQQVkO88CDRajB6DqNQeyl+7/lo0BAq34RvziAnsBvXuE+S+uMQUoEvz6eL9zAbT+pQMM798DqWD7AhBPUQG/+lMB4qt9B6RqDQHJ9Pb6YihJBv4yOQfFSHcA0GF0/aQsJwQpFGsBAEOFB4NCHP77nW8D4Sl1BwlGUwHiVjMH6DAlBwRbhQFJoaUDnsoBA7xTwQaEvAkEFqYE/YMuaQVngkUE7n3zAIzX+P67Pm0Ay0AZCG8xpQUnM6D8b5cPA8KP8wIA1xEEHPhtA4xUyQDitDkA6x/e/dR5lwGI5HsDOqie+e3KzweS/JUC1aMNBhy/aP3HUVkDjh4TBP/PVP7BG9kEsoXJBQCCxQCn8O8CixJs/sTYEQomkW0G0Y+5A3AtvQSNyx8GnUwfBJnMeQJX3hkE6kjW/hagpQX2KwEDzDgFCSNGAQQ2b7z+aYB9A45M7QOt4kUE=",
          "dtype": "f4"
         },
         "y": {
          "bdata": "EYMEwHJwR0H1OEhB54mDQTCuLsHlOQhA3wo5QfDd2cCt8Ow/MlyPwaD3l0GFBIlBnmCRwT1+akE16G1BgTwIQWYjqkHvfIhB62KZQVIUqEEZxuzAnJIpQcoXScA6RxDBDKipQTwUE8Hc5g/BwEGLQevDDkF7mKu/pzW7QcYACEEzRJS/uVJ0QW2n5sDRXglBJONAQXaOmkCC9IdBe9aNQTYfB0BY705Bm2u4Ppj1n8Bj8XFBjWrswB23nEFbRH/Aq6v0wFw3hcFNwKZBR2JTwE9p/MCw4LBAxjmJQQKwgEGa69G/J5GwQAcyXUEApPxAXz9ZQVO6IUGZNOu/T7D9wHgK4cC2+ItBifIYwJX+D0CeK8TAzaMGwPw6IEGi/YbBrQ1+QeZBcUGtmIc+Q53TwCbL879FrH1BRKhqQUGMsEBRaxi/Flh5QVxLxT+6kKJBXak/wWrGNEHXdZtB5oGOQTA6UT8OSzNBmcJvQSoFm0DwTcM/xzSawBHzVkGwmqE/qQOUQQFen0EKdwZBRAlXQGZtmcGwiilBHTKyQAzOCcE4Bey/Kxk/QVeXvMBborpBUBYBQFuCMkESWUpBFeU8P4WDTMC7W4HAVOcjQePpgcEG7MRAPLITQaT1FEFWZzBAaY9jQekXFkEIHl1BH919wBJCfUAEVfVAbFNvQSYqcUH7rZ8+Xyq/P9SOK0HQoajAFL/FP7Laob8HfX5BacUJQRoWrr93A4LAXrFEQWYrcUEs0VpBeDWcv8UlyMA2W1RBLrLQQFzjAcGNTUI/QwjIQKo3oECzJnBBcAqdQcwhez9qGmJBkU6FQepkakFkeq9BYIFBQURbu0DPwmJBSzkUQK5PdMAqNhfBK9+wQGoen0EcNp5BVPLvv8e6nEEMw5JBNSgrQdceK0FDStW/7gvFv9kLWUHfsXNBC60xQdCf0MBVHybBbYoPQRFTNj/XL45BrvKsP6ySTkGphIpBs54GQUTfaEAyDbJB93kQQA91mcHzY5JBki02QWpTQ0A4RWdBXOAsQWZqUkE36z3AVGoxQfbKfEFTLh/AvxSRQRlrYr9K9LFBJDlcQQPSa0EvQxlBIL9DQRqwpMAY+WxBvVP2QPl2aUFoGI3BmtY1QYCjJUE1fO4/A7RoQe2KS8HgHipBTHljQWYflb8UnlJBQhiXQYREVUGo9DbBRaCSQTrT2ED4umhBeRMlQbl2hsAmGq1BTWg8QX6BrEEjarNBsH2LwL9/SkGtxYZBVO8WQWWGW8E7q45AkgxlQM60hr5lPW3A71wuQBAoxcHe+RFBZYRsQbh5A0BMHohB+6KDwU1pEsEoGYzBk7L8QM6Sj0E4WXVArQ+PwbfBCMEBerfA00mTQXHR90DFn4JBgG3xvxBr8MCr54FBcTiVwLOgRsAFfJDAUBUuQZX7eb+WFl9Bt0/0P1WeSUGQgklAXHWaQUdOHUFMIK9B1YYgQGddLEGE57xByipJQR+qp8FrGiJBNhY/QQwPL0GrI5bBISOVQSXhgkFCFGVBvuJRPh3xXUHGM6dBCtdjQZgfYEExDIXBuGdEQX08XkE2f3ZB+5vgPzbCJ722eG1BDbqSQS9K7b/SJ2RBxBCFwXC9HsAhv5dBa+TJQDplgkD/jWdBPl+sQW9+gUGyUM7ANjc6vxQBckHNiqc/LqAdQEj6zj+twC9BVc2RQdPsZ0EgcStBq8mDQSPl80ABrndB4G+RQVsK60CMzMo/m5BVQV0MVkE8wgJBIJ5CQXT3j8HJ+6vA/IO3QdGeuEGLR75BqwfuwBzPG0HOJ7FBoJJfwNflh0FecKnBpJGiQd39LsCfpS9BqGN0QT40T0G0JpPBRRfVQC8UT0A8+p5B4nWUPyQSLEE=",
          "dtype": "f4"
         },
         "z": {
          "bdata": "xRNuwNeSFUEyxwVB2rIFQfx1SUCnaUFBTvcSQYcEjUCLU3NBkLx0v2CKcUD4OmVAaCDkPr2SIECtX3BBDju7vhY0CUAdyIpAu681QNSLSEB7+AtA5SpuwHyV4EDVwdA/bOcZQRa8kECO9TBACE1Sv8sQrb/TFCLAqsbhQOA1mkFk+c2/hPfqQJdeg0ATZTxBvAvoP6usikFxAaZA9JDlPxuykUEqgvhAGBuQQZ/ihUCtglZBTdAhQDMRrsDbMINBFYgAwMGL5L+UBTVBAbE8QCmTKkAslCNB0uDwQHm0P0BuwX7Aos8dwJf+0kBgG3hBiELJQNISS0Hmze+/31agQBWwxz+Ek8pAA6OHQf+7QEGtXj1ARuYEwFaiPUHnjsq/IRMPQVPcAkGRLwBBEbCcQZHLCMBtWIJAZ8VRQV51VEGyTodAQeWdQB+OgEFZIHJAjrEHQCJlIUH7Te4+t/TLQGhbwcBE0X1A7akIQIN5lkEBNC1Bs2vOQPrPEUG0hWdBQIO9P6L6yb9sZFJBfC05QXPaAb+1JARB9DeOQQE5SkDT9IFBosU/QfU/PUDe0ZFArB0rQdXQj8CqwmBAPaOGQc1gfUG7zL5A61fyQLmdKz92w1VByi5KQcqCG0GbxlpB4C8+QcGwEUEz40VBrhx3QCf4V0E9WT9BVBVYQD/mR0EK9Y3Ar7CEQQ9PVUHcR5RBpxIswRsVFsAgtE5ATJlTQcc5jEGsUiBA0tMYQbGAv0BYR79ArfeQv86Vi0HElAZBUsGQQZWvNcDpDmRBCHJqQdwIWkFdcRJAYjZHwCiL/0B3JFlBnH0nQR7OvUAjqj1BsVMNQNukGkHjxRdAmTWSQXG1RkCVy8NAL8fDwMWJ7L3Jtw2/EfOBv8mSMEEO17fAoo7aQMIHDkH9dFJAsjjUQMQDO0HspHdBjYlhQfjPlkHEerjAMm9JQetcj0EZDz5BkMNJQcC8e0Gm/UNA7vc9QVfMYkG/3nS/SDovQVMO9j2LMQ/A19I/QT2ZRkGa7gk/VlopQfaNEEHNMoxBuowZQSP96kBPGq5APLNCwAJgjEFCyxxAMQjqQIHnKkGiGfxAL8xVQfVO00CU82VAhNAlwUvYDEGNg0Y/tvU4QeXrOkGwulRBrVEJwJS/t0ChWNFAAr1JQSg2pcBR+AdBY/4EQZ9lREHG2xDAR8ApwFpzcEHIHzxBqYcLQcrWfUFHxPs/1YssQfu9jkCs5MdARpOOQUhIKkHuetlAFYHqQED4vUDvE4ZBwsUiQar3cEBjnopBFLe9wLnN4cA/AxTAL91TQXXHQsCeiBJBXfNovniYF8EJCRzACQOUQVa9YT+vw55BJddrv25IY8DINR5An56cQJpfhEHTsktBlxhzPsfAZ0D9iQBBsajtQMg1UUAPCLpAcgRkQcx3rUD3tClASls5QQdnY0HcbkvAa7PwQGhWKUGwoSNBGS76QNH720CRJ24/4G3PQLZw2MAwlSlB29QTQTfEvkB2Y8G+uRdyvuo3iEB0hu4/8g5YQa/4YUFCdSFBnn43Qds4IUEwggq+u/6HQB7BGkEF3/9AGR2IQUSqNcGLJAFB2b0lQJNkjMA/c0xBy4mRv5GFVECGDFrAp/ApQaa9W0GdmWNBL3eMv2GtfEDmV6g/Gg6PQQeMPkEHV4hBYZOEQQCLBEFqEwZBEPL9viPNU0FEhg5BsNU/QeuWK0FnuxpACOYaQFdUhUG4UBNBQpNVQWeXW0AMcFXAI29FQJFQcr+Eu4hBv2fevxdN3kBy0zhADe+1P3I9AUFY0pU9q+eEQZsV3r+MZcbAIOJQwCopgUHQ5T5B5lc6QbU+NUHr1D0/wNAjQW+Sp8AwPZ9A5WWhwE2A5EA=",
          "dtype": "f4"
         }
        },
        {
         "hovertemplate": "color=Medication-Induced Movement Disorders and Other Adverse Effects of Medication<br>x=%{x}<br>y=%{y}<br>z=%{z}<extra></extra>",
         "legendgroup": "Medication-Induced Movement Disorders and Other Adverse Effects of Medication",
         "marker": {
          "color": "#FF6692",
          "opacity": 0.7,
          "size": 4,
          "symbol": "circle"
         },
         "mode": "markers",
         "name": "Medication-Induced Movement Disorders and Other Adverse Effects of Medication",
         "scene": "scene",
         "showlegend": true,
         "type": "scatter3d",
         "x": {
          "bdata": "oaFPQZUQ4L/Le1/APNZav2CZG0GbgprA0MyUwG8ug8CuyY7Aajq1wDQltMAWzSzAvoXhwG5oq8CFTITBS4hjwNhgQcALB7jAmmGIwO2GUsBW/8zAmFeGwUYH0cCWX2jA5suewCUZaMAHVI7BEqaWwISFisDFMTLAEBGQwCqTcsD+UtLAJRuvwMfj18A=",
          "dtype": "f4"
         },
         "y": {
          "bdata": "dz8PQZYFvkGH5JZBe4isQQ7tjb8tOJ9BMiSYQXt0ikFyt6ZBRUagQaIwpEFocKxB9DqXQWnhukE4nz7BbJCrQd+irMCo8a9BFamgQWsdu0GZm7JBXWgnP95elEFS16JBjQecQSZinkFoRiE/RwufQYWSkEGqh6lBBhmLQf3vfUGKmLNB+6qpQY8PpUE=",
          "dtype": "f4"
         },
         "z": {
          "bdata": "9gqYQHYbH0D7UJXAReEAvZib8kDgTwNBSrDtwEmWzsDr/CPAR+YIwVqYDkExX5o/qqkTwE/gmz9U09/AwiHyv4sOT8ELAFhABdWjviv8Pj91GIFA40+CwProB8CIR2K/gVn+wDdDRMBrNFHAmjoqQHdSyL9NDrI+9nIuQMEbXT/uYQA/hq5RwHDhCcE=",
          "dtype": "f4"
         }
        },
        {
         "hovertemplate": "color=Schizophrenia Spectrum and Other Psychotic Disorders<br>x=%{x}<br>y=%{y}<br>z=%{z}<extra></extra>",
         "legendgroup": "Schizophrenia Spectrum and Other Psychotic Disorders",
         "marker": {
          "color": "#B6E880",
          "opacity": 0.7,
          "size": 4,
          "symbol": "circle"
         },
         "mode": "markers",
         "name": "Schizophrenia Spectrum and Other Psychotic Disorders",
         "scene": "scene",
         "showlegend": true,
         "type": "scatter3d",
         "x": {
          "bdata": "/m/dwDNrd8GPT4rB6f9UQMciHEHUTghB51rFwD5ujkFFVB7BtP6lwGV6nsGsNOLAY8UDwaulCED34Q3BSiLLQCp6GcEIH7TAF6xsQaraNEGDB/2/FGqCwLYMQcHHvqhAAmzFwW0cFsFlhUlBH6r8QMsUeEGIrgdB3QGOQJwKwkHfQgdAMhgCwRsLFcEe/DNAvc3oPQnKfkGU2MTAFGdrwc/wG8FDSoPBMQ2AQU5A50BZMeFAOhTTwNSpVUBcvi9BfTtkQeTxkkAElgRByQMwwdfYn0CMEpdBlZS/QHTmDEH4OoRARn35QLxficGpLC7BaNDIQQp6LEEjYC5B/rqdwOPPSMGnC49BdgO7QHLrjEBjVZXAirGKQQVib0E5ainBZUSEwXYlBL+UOy/BOacdwbGyG0A8mPtAW5PiQLmyGEFvUJdBMlr0QF4BzkGhmZDBHYU2QQ==",
          "dtype": "f4"
         },
         "y": {
          "bdata": "M3M0QSz+Cr6w6PBA202HP0gMSsE2LYpARk36PmnFSMGyZJ/AS0tuQYHFaEFZWRdBPHRKQV0vDEC4c1lBFos/QFyrP0GPjztBHV8YwbfhPsGTNiRBW/NWQX0td0GPIMC+NaWBQbiJ9MCevoHBu+hoQGLqF8ELSirB+vRfPk8MYME5qXU/2ydnQdK7y0CWPB3Bop2pQfS8A0HX5iG/lPG4PjZkNEG7RqS/vrL6P9nwAUEKO3M/V9q1P/BLhL4yeSPBi45BQW6INz+VCIO/jhmMwE4xfT7oNLu/6n+5P6M6JcHDEYlBbNDpP5x2ukBg+TtAyZ9ewZeoMsGvxCTBhUVhQdPZlUAzEM1AmuKGP1ojuD/cSwRAfXdqQMe5DMEweULAAcXDv2z1jEETy75ATQLzQDxz3j86rytA5yCXP6heW0GBpfC/5DQMQapkZ8GWkfTAHcc3wQ==",
          "dtype": "f4"
         },
         "z": {
          "bdata": "iVwBwVzvFsGnGljBjJuNwQ8sTUHOSb8/xcipPwouaL+I2u3AnHDNwIeB38DU302/2V6awHizlMEkbqzAoCM7wc7WHr4hjhvBAz1kQTXeaD9m6PY/8joSwZavKsGPA6DBTe56voYGgUCdhZy/6A2rQNsFbEFKuUhB3h6lwQthsr9T9pHBa/cOwflqsb3ADfrAKTRLQETGA0FHPQY/ia4Qv/vs0L8jGi3AzbiSQaRSpkDyK2tA1UkgPyEBj8EJmE1BfffGQOjXjcFp3JxAmtgNQeOalsHEBadAjcF/wecjTkHRtYPAeCNYweqmJ8HZnmzBAuwPwCzFRkEMHVtB3uv3wJ39JsFsLwFBHqxgwXnRfcFlhJ+/AsW3wNaYbEHQ9+NAOkSmwNP/30CYZj69pkXkP0gOqcFyMohABxtLwQzCLcBWA4FAejmsQBmy578U6zLB/yYvQQ==",
          "dtype": "f4"
         }
        },
        {
         "hovertemplate": "color=Elimination Disorders<br>x=%{x}<br>y=%{y}<br>z=%{z}<extra></extra>",
         "legendgroup": "Elimination Disorders",
         "marker": {
          "color": "#FF97FF",
          "opacity": 0.7,
          "size": 4,
          "symbol": "circle"
         },
         "mode": "markers",
         "name": "Elimination Disorders",
         "scene": "scene",
         "showlegend": true,
         "type": "scatter3d",
         "x": {
          "bdata": "cBCQwR4YHkH0DkVBUYUawTObaUEJb29Bj9tTQTiLKUFrcB3Br753wUYmU0DLlXpBz01mQbNOI0EyAgzBtyprwQzWbUA=",
          "dtype": "f4"
         },
         "y": {
          "bdata": "nrsNwe48dMGCDSPBv00BwUKTLsGeDCrBJD0mwc29GsHzQ53A8qUIwWXUfcGpxAvBYuEqwbLDJsG+Df3AWecBwarqdME=",
          "dtype": "f4"
         },
         "z": {
          "bdata": "ogyuQM/V0UDdPDPB5OMgQTjLAsEU0wjBvE8vwRi1E8Fs2y/ATU2LQDSSMsFzegrBPT4owbDiH8FZTyRB0Qi+QEeHQ8E=",
          "dtype": "f4"
         }
        },
        {
         "hovertemplate": "color=Obsessive-Compulsive and Related Disorders<br>x=%{x}<br>y=%{y}<br>z=%{z}<extra></extra>",
         "legendgroup": "Obsessive-Compulsive and Related Disorders",
         "marker": {
          "color": "#FECB52",
          "opacity": 0.7,
          "size": 4,
          "symbol": "circle"
         },
         "mode": "markers",
         "name": "Obsessive-Compulsive and Related Disorders",
         "scene": "scene",
         "showlegend": true,
         "type": "scatter3d",
         "x": {
          "bdata": "SPA9wQYpTkGSUQtBoJuaQeWwMkGsI7zBCfiEQRUIkkFqijPBGmSHQbP4H8Fy9KzB6budQawTekH4yPJALSODwfc/PUHxOEtBKIZZQW55U8E/z6jBtQn+QKvlCMEYfndBXK5GwQ4jf8EBpE3Be45ZQTNGccG/cLHBnzJAQGha20EyWkhB3vhIwbBLg8HhklRBSuXUQO1EOkHcIF5BU79RQfLuMsA/bYBBc+K9wOf8isHuV3ZBQZ2EwM+7KkFNrKvB0swhQc0tIkEHQITBjFVFQZZ6Z8A0FE7Bci0YQZtwm8Er4llBIxKGwcGPrsEE84TBHLkswSjlZkHAeplB+NxdwURhL0F2P0zBUBhGQbiZREFeDShBqN4mwXG4ncG+jilBs5NqP8XDnMH9+pNBrL89waVzCkH77I1B6i02wJBhQb9n+2xBjcqowfe8kkFguzBBZacVwQ==",
          "dtype": "f4"
         },
         "y": {
          "bdata": "CLsZwdI/JsBOQBVB17phwNM05EC0JHZBNEcLQC9A6kC++hvBXgkcQZpWKcE4CXZBkrwXwZ53LUBLZ9W/JMxTQaIHwcDsQ6+/zMpJwDaaIUFrCFVBVLhbQVNYvUBFSr/A7OhGP6cMaEG11HpAoQ4NQSLsbEH/J41BUuaCwMTxi8HpRNvAIoxQQeJ9gEGhChhBYo2XQA9ZBEHg6L/AbUJzwNpPqL/iPlbBTXbNQG4oR0GAE4C/B7zCQMw3q8CJI5NBqXWjQPMMhkCZe2BB7iMGQR1G8b9KgkhBC/1uwZlPrsC9kc9AtEtiQVxebUHmX2JBH4Z3QL6DlsHlawPB/X1vQVspCUEh/uPAsOQDwYAI2kAXbI5AijcyQCK/e0EV5lTBogmxv51sK0HMuk/ATOFRwMwka8Eo31bAcNzVwLJjmMCGo3bAQwaZQcnql8F1t+hAeeNwwA==",
          "dtype": "f4"
         },
         "z": {
          "bdata": "kS6fQNLUGcCM+wXBuXWuQLMhyLyetZ0/gRmawPNC1EDM3pdA5qgpQbrDzECS1gRACkunwKVPWsBUmJZARSo4wRozi7/mvirAgNcEwACvZ8EZ7mG+caBLwPeLgL9jBErAJJlKPwLzwkAy59zAH17+voJR3kDiMz+/2Lv1QNdpIkAVPRDAHVVgwRMHvUBXRGe/XiK3wNKlhD9nyQzAxaySwH0kCr2Vvua+QuqCQHFnD8EJSpTA5zMpwcOHY8CGWD+/CzctwfWcL8HajT7BXcxTPQoUiT+Ig1nB44BdQem51D/JxQVBIp3aQPm3BD+N1fZAccASQMtuzT/dWqnA7XBnwVwlJECvQH9A1VLXv343J0BHy0PB0dG+wAn/wj6f3Wc+40U5PzFhBsBra8pAvWYmQbrS9j7gv91AXUouwYLYykAQaMu/HZn3v3RvJ79+gLS/VMpBwA==",
          "dtype": "f4"
         }
        },
        {
         "hovertemplate": "color=Autism Spectrum Disorder<br>x=%{x}<br>y=%{y}<br>z=%{z}<extra></extra>",
         "legendgroup": "Autism Spectrum Disorder",
         "marker": {
          "color": "#636efa",
          "opacity": 0.7,
          "size": 4,
          "symbol": "circle"
         },
         "mode": "markers",
         "name": "Autism Spectrum Disorder",
         "scene": "scene",
         "showlegend": true,
         "type": "scatter3d",
         "x": {
          "bdata": "uC5TQbaZg8FU75/BVNKZwdbgmMEC2yLBsEZuwQVkm8HWb5/BTgEEQD/hyj+0a6/BLaawQYbmlcGf8mDBp3G2QaeVnsGhbVbBB8EdwXC1OD+gwDm/QlvIvwNB4b90TaXBzNmiwas7m8FTtozBX44EwdoJqME=",
          "dtype": "f4"
         },
         "y": {
          "bdata": "WOGKv5E5RkBEHANBc8Hrvz+XDUDCN6FAOFw9QWr4T0BIkKW/Hc8fwHsAp0BEsQZBqUQIwf3l6z98f6fA5brqwCdk2UCjkJ1AEXr5P8k3zEAicqzA+WmQwEXLdsBGJAtBC+zPQP1Ri0A4o8M/a81qv10o70A=",
          "dtype": "f4"
         },
         "z": {
          "bdata": "nGA8QQ3HC8GaDSPBpa+dwNGe8sCCQ8q/00A8weKJ2sCM6ZzA5e/dv+ktScEFkkfBxf2UwBnJCMEbTsI/rNhywAlR8cAZIGXBXETUQEfpOMHb2hzA9Q0FQRn+IMAp0QHBsxRVwS6xM8GnaiDBMWjWQCOrQsE=",
          "dtype": "f4"
         }
        },
        {
         "hovertemplate": "color=Cluster B Personality Disorders<br>x=%{x}<br>y=%{y}<br>z=%{z}<extra></extra>",
         "legendgroup": "Cluster B Personality Disorders",
         "marker": {
          "color": "#EF553B",
          "opacity": 0.7,
          "size": 4,
          "symbol": "circle"
         },
         "mode": "markers",
         "name": "Cluster B Personality Disorders",
         "scene": "scene",
         "showlegend": true,
         "type": "scatter3d",
         "x": {
          "bdata": "M3wGwZ/yxEDltOhB5IWBwKo6iMFznLnBKuG4wb+P5UE8TITAjsRcQFk7o0AfC7LBt0G9P2OU3sDS6fO/MKSmwcWxm8FuRC/BA/2AQOtHbMAYkYDA1rIwwZvxiMHLprzB6obYQVu/CcBUa8vBXquMwXRVwsHdtiVAEH6owUp+cUCQ0KzBzVjBwVcjeL/WtNbBo5fZQZ7/C0B9TkBAdgWtQKZMy8E=",
          "dtype": "f4"
         },
         "y": {
          "bdata": "1CoFQLIPA0HKDRrBZy9vQGJrVEFVHzVBoC56QXyQP8Fr4ldAnxU3QUOYykDKID5BWz5BQbvsPkADS6tAC/CLQdRRUkG45hm/bBB9QCJ/RUDyfqI/TlPgQPa2w0ChnFVBNRgTwQfpf0Cmsk9Bfb1MQa89WEEiuR5BbI9QQccqHEFzZTVBiqZaQYn9iECU2V9BibkKwT28IEG7aRNB9Qm4QEv0XkE=",
          "dtype": "f4"
         },
         "z": {
          "bdata": "G22RQAanTsENAazAgd/YPmzT2cBb6Ug/C2JjwEXRg8DVW0FAnSBLwVRoDcHjft+/SWMnwcOn6sBQoLg/OyCowPir3cDTCMFAIDAowXA9tD/dupE/k3CgwNOt5sBcmfy/EXGswKcJ+T8ESmXAjcfwwGiRisAzr0HBiTOrwIV/HsFLzczA6t7LwEMrKMG/3eO/XG+Mv7YxJcEswUrB1DRGwfdCxcA=",
          "dtype": "f4"
         }
        },
        {
         "hovertemplate": "color=Motor Disorders<br>x=%{x}<br>y=%{y}<br>z=%{z}<extra></extra>",
         "legendgroup": "Motor Disorders",
         "marker": {
          "color": "#00cc96",
          "opacity": 0.7,
          "size": 4,
          "symbol": "circle"
         },
         "mode": "markers",
         "name": "Motor Disorders",
         "scene": "scene",
         "showlegend": true,
         "type": "scatter3d",
         "x": {
          "bdata": "1Uu+wPWwgcFPwpLBCp7HwBHwysBobmxB/Jk4QeDlhUH1Xp/APsmHQZuCjUHGFw/BPZJEQfgQhMBTm2HBNyCDQXgXusFz4sDAoZWGwIjbikHOcRDBrPKKwGL2J8DOvE1A1LlwwYD6f7983pzAayybQHlzTcHxfqTAKTohwWbHYMBR9i/B",
          "dtype": "f4"
         },
         "y": {
          "bdata": "EvDLwDZyB8CCwaHAqN5mwMlEI78CpBe/ESgCwVEdwT9b6VDAzWWTwWiQVj+IbpNB3mj6wCWYxsA65qTAbX7wvj7JPkDLf7vAz+RUQKlIjcF9+ZRBL762wBG0YcB4lIfBLNKMQTvtmMB+1EHAHIIKwB1tJsF0x53A+syfQWORrcCQTopA",
          "dtype": "f4"
         },
         "z": {
          "bdata": "CKQgwK7ser/CRopAVDzDv5okfkA5s2vALSA3QBSIhsDCawnAy1X8wGsEZcBJ6y/BdnAAQAKDscABJ0BAJu22v538BcFViJrASRAlwZcV/MAG8UbBbKaewYapCcAK+GHBLgkawJ3GnsBHnjjAFgSkv2pWzkDFvJ/BITlBwbOfBkGAhyLA",
          "dtype": "f4"
         }
        },
        {
         "hovertemplate": "color=Cluster A Personality Disorders<br>x=%{x}<br>y=%{y}<br>z=%{z}<extra></extra>",
         "legendgroup": "Cluster A Personality Disorders",
         "marker": {
          "color": "#ab63fa",
          "opacity": 0.7,
          "size": 4,
          "symbol": "circle"
         },
         "mode": "markers",
         "name": "Cluster A Personality Disorders",
         "scene": "scene",
         "showlegend": true,
         "type": "scatter3d",
         "x": {
          "bdata": "IkfxwCbwusA6maFBl1nlwMGQxcDZfNhBml+VQIvZZkBm8YTBeJzBwfvC0EE1MLbBKmi3wRoTgUCmfcpBnv+kwco7sMEZ/cHAvuefQFLVtMH65qZAwB66QN3V4EHYJfNAy9HbPw==",
          "dtype": "f4"
         },
         "y": {
          "bdata": "GKB8QFjhIkBZhj3BWGxwQNUIT0H8dUPBju2BQCEcE0GDUQ5BqtFNQc4+SsEq7G5BFwtiQY0XGcD9RBLBdGl1QU/gY0FN+4NA1kkMQQGCdUFrk5FAph/IQBLyDsHTK8E9r+lCQQ==",
          "dtype": "f4"
         },
         "z": {
          "bdata": "LtWXQKTAHkAFafg+p62jP9Ce6cBNwhrAzT5awVSUNsFIK+rA0Ui0v6HKTsBDaBPAYvGlwEAd2EBCKZzAX7NcwOddcMCtCc0/yMNBwVhNxsCRZjrBGAY3wdb1+L3x6BhAvnQ/wQ==",
          "dtype": "f4"
         }
        },
        {
         "hovertemplate": "color=Depressive Disorders<br>x=%{x}<br>y=%{y}<br>z=%{z}<extra></extra>",
         "legendgroup": "Depressive Disorders",
         "marker": {
          "color": "#FFA15A",
          "opacity": 0.7,
          "size": 4,
          "symbol": "circle"
         },
         "mode": "markers",
         "name": "Depressive Disorders",
         "scene": "scene",
         "showlegend": true,
         "type": "scatter3d",
         "x": {
          "bdata": "/UTeQX7e0EA+Uj9BJMW8QPppE8Gp9bJAnFlgwcpVI8EapXhBZVm7QVfpw0B8nmJACNxgwdpHh8EWZ6FB1+h4QBK1lkHRnKvBLaGVQbRa2MAun1XBJzxaQbqNU0C2ZkZAh1/ZQb7FbUCy40FAuVSpP9eOED/6it7Aert3wZ0RzkDdn2bBXBpqwYmtrUAdpXVBKn80Pdb2tUEhXAHBR41/QRT5KkFDQMZBUz5NQGhxO8FB8xRAK8VDv44S2kGfW9lBW50iQXe/jcG1pGHBGpeLQVehn7/vLYzAhANfQDPMkD9TCoq8FHnlQYoDhEEAT8VAKSD/QP4xncGhv9DBEUebQLrksD83T9LBdaziPliPh0GfX0tB17sswWrWm8EGtqxAXm1fQYDt00DtfELBNXwbwRuiuMGs9M5AOQsQQdmRU78sEINBorhyQYyFUkHRtC3BUOvhQGjglkCGRiZAAeffP8VzTMGW0BO/cqPaQPTVwr/UEnHBAmkUwDxYNsE1ukXB++bpQQ==",
          "dtype": "f4"
         },
         "y": {
          "bdata": "GWV0wWfNQcBIOVzB1pxTvg5PXb0dqZW/2DD9PyF61cBNKkfBR3cowRSpi8AUH3FBaxsPvxUAYEFnp5PBRRCWwVOn1kAej1BB18xgwRlzJUFEsGZB7I4iwfiDwb+s4lu/wW1ZwYVygMBl/i7AWyXOP8Kiqz/MOxtBtM9oQVwe6MDnPEFBuBwlP5wjhsBnCWDB8y0SQDB1TcGy9jXAC16XPztSh8FBdjTB+g4ov9T5AMAiamfBYAk3QCYkS8GWRG/BKWRIQN9RJcA6E0s/A0sAwYTUwL/XoULAnopiQV+xA0DlpR7ArPZbwZwoZMHEUtzAnQqQwErRVkF+L/vAPA+PP0i+eUHkpBLB5p53QIuW3sBOayZAmy+/P95LVkEOWqvAHCRDwcPe374o0hlBFlK+P9Cu6sCdJmPAeW2FwVUXsUGgxCBBNgFVwXPZskA6YBXA1/UZwD/p2MAHjHJBueMvwCB7Er9P0RlAT/bqwArQHEH840BBCidIQQlZ68AeU6+/DFVYwQ==",
          "dtype": "f4"
         },
         "z": {
          "bdata": "92xeQOXgMME6WBU+6zJLwR5fpT8DZTfBLzLCwObKuUDTSfbAIb6Yv/y3ssBqHJa/L8R7wCFDSMDmeBFAPDFrwQu8B0FlKDLB1YPHwNUGM8B7luK/2ZsnQSE+SMF/KzzBrwKaPz8XB0BIloxAj/UWwU0l4sAIL8y/uKNavswTOcGK4xTAPpNKwJzd5UC5m9TAYbm7wECPTL9LNJXAy+iRQVFFBsBlOfQ+i/YowTngu8BHmVzBdW3YwE+HUEBXV0K+KThXP6p0O0DCFprAMoccQQHy2kAZzvs/TbctwLHebMDZQNZAvXu3vu+awcBMuT/ByDbLwGNHEsFn8YO/yrJCwUAyz7+fTZq/MlnUwG57P0H14wk/eKbHvoApn8CWbeDA0PaVv5hFsUD6L1XAmC5oQBnii8BW83rA2xQDv4ktaUAhXzxB2Aw8QZ8PFUE5PgPBg5z1wAQc0MBjkde/mAS5QCAfVsDZvqHAoAC+wCaqIMC0tC7AgjpNwA2qv0DlhaHAH/WePw==",
          "dtype": "f4"
         }
        },
        {
         "hovertemplate": "color=Paraphilic Disorders<br>x=%{x}<br>y=%{y}<br>z=%{z}<extra></extra>",
         "legendgroup": "Paraphilic Disorders",
         "marker": {
          "color": "#19d3f3",
          "opacity": 0.7,
          "size": 4,
          "symbol": "circle"
         },
         "mode": "markers",
         "name": "Paraphilic Disorders",
         "scene": "scene",
         "showlegend": true,
         "type": "scatter3d",
         "x": {
          "bdata": "fHpBQUb9GkG0IlVA4i9JQZT4k0CDSZrAQK7GwFlX1T8+fam/wlHUwWCjS8Fuo8TBTTbRwe8RXcEDvtjATa0PwXfCO0H1q03BY+c+QY1uxj+ZOxnBgTVYwR4CqMG2OCNB5b1CQe2j08GPLMnBAx/MwQQA0z/3x7vBOtUbQSkw0cH0adnBdkVdwRrzPEEbx2zBYiTJwei3MEGOSdfAYNuTv5F90sEG2T9ABNM/wc++P0HRzbTBgK9swRQuHkEjcUfB60spQToS1MFPmNg/1nZawfaiT8EosL/By3QcQQ==",
          "dtype": "f4"
         },
         "y": {
          "bdata": "RDqEwEaF8b/WD7/AEe9pwNFTkUAQTqxAMS23QP239b9NXTRAuLkyQdNJOkFdcyZBOe8OQX9qPkFJuI9Ao2fwQCRKj8ChfL2/x+mAv2zACkGN5ctAenwhwGm4yUC75rrAjmC/wITTCkGStANBVjkwQfP7gb8zPdFAkAi+v1GNK0FKkg9BmUkYwCOmn8Ckz4S+t1QhQUQKdMDL4mRAqGKFQEsMGUH37W7BFm0TQdK1psDJyNRA4WjNP15KmsDQuhtB96OtwKNuOEHxbOC/mdcyQPVFvL8O0NhAuozhwA==",
          "dtype": "f4"
         },
         "z": {
          "bdata": "83IDQG63nD8Z+vpA7eXAQDRk3sDuw/ZAuJTrQJ8pWUGo86ZAzyUYQBDT6UDSEjZAvrsZQGPi6kD30BBB7lr0QLKZhUDsCvtAhisIQHjJF8E61A9B68zoQMpi0kA6sIRA+oSTQNJ1kz+zUV5A+/48QKrfUEGd7MtA/Wl1P/ttlUDoN6Q/q+aOQKC4UUCwvKpA0kykQGs8K0Ce/ghB2DzAQGVgkkCIFn7B5r73QLf6yEBhzcBANhe1QEDy00B4v/JA5GeuQCKVdUCBoGJB5ONeQGkWW0Am2ZpAD2+4QA==",
          "dtype": "f4"
         }
        },
        {
         "hovertemplate": "color=Neurocognitive Disorders<br>x=%{x}<br>y=%{y}<br>z=%{z}<extra></extra>",
         "legendgroup": "Neurocognitive Disorders",
         "marker": {
          "color": "#FF6692",
          "opacity": 0.7,
          "size": 4,
          "symbol": "circle"
         },
         "mode": "markers",
         "name": "Neurocognitive Disorders",
         "scene": "scene",
         "showlegend": true,
         "type": "scatter3d",
         "x": {
          "bdata": "lVczwbEJGkGd3LjAlErEQEBANsGWjAlBubmOQaqrYMHwYT5BMr0RwQIezsAe9kvBpH2dQZ/tgMFCDWBBolvWQE/HksAN51PBxomvQbO2XcHNuTZB0rAxwW6gqsC9Px7BdkE0wEP7SsFjpDhBm8NUwBUyYMG/+0nAh1W1wFmAMcFhUr1AInTgwB2AccFI5S5BrAaaQUUTdsFXdkPBZW+rwD8+mcANoJLBHaUwwd1OIcFKWB1BDmzQQUAucMBJ01fBkTZxQW50H8FDOY/AeX6owDZ9eMFvdvXANPUlQSWhXMF3rXvBu2JRwdReQcAYrG0/qAk1wNWMi8BOSTZBemp4wVKIycDBBc/AwChzQTQ0dsDodlvBuoYMQe2YOEFV5SdBBg/kwXM7J8HJzQtBmCYtwZqyjMHh19LAmKPFwC50YcEmSaDAdTUcQdSRhcANVTvBZCOTQDoOJ8Em2yjBXVYyQb7IK0H5EWLBXtYrQSRnHcFmq0vBlsoewT8dHcFWFBdBiIxIwG4I8MBoBlTB1kcvwW+i4cGLUjfBTbzgwc9JhMD3cmPBVY9kwZ3YNkH26g7BU0Z9QVRfdUFEv2tBGXLoQBXQzkHslZJBNUeKwW2yJMGN3UdBnkKywEV8bUGp8t5BaMdvwd6oKMHXTpfAWDOkQfiPrEBvLkjBjpASwc2590CcEBhB5Jq4wSCIJcADiw9B/truQEv38UDSxABBhT0iQbgXFcHf2JLBfBY1wY0/1kGxBWzBmz4qwWE3nEGprg9BpAQYQUa9SsHG7jLB6qaRQcSUWMFDQVjBo00swenlYkEMaxRBxm8JwZvePcEiyohBLQ2gQcfrgsENZ0BBn1r6wK+1GEETpXhBUc4VwYL8FMBQS+TAmKsUwdqcK0E=",
          "dtype": "f4"
         },
         "y": {
          "bdata": "ITP6wMN3tMEo0AzB36a4wMbghD82fFBAGNMcwROdG8CwtojBzfYVwR9PGsHIrAjBaOobQSIM58C7fDPAoJCkwfMqIcHZXvLA7N++QICBNsEB56TBOzURwRCMQME6j3lBZIEvwFV9WcGAxTHB9tMSwAv2PcF7Yj/Buc8kwYjNIsGfKn7Aa0hUwaXv2cCcaMLBk/2hQJnJrcDfoSXB4itNwYW4f0Hio29AcAdawXJsCcGdQpDB70OPwVckZsE26bbAWS8vPxC6hEHSw6vAkzu0wAT1BMERRn1BqDyHwUpB/cDVJGtAb91SwatoS8Fy6eHB8lREwUiUIsG71p3BYgUzwXmAekGRSWpBB37PQFDnPMH1i77Al/+wwTlZlsFcRARBSBnyQKfDVcE2Sk/Bwwg5wV9SqcDm3jnBvA9vQT+a7MAd9BLBOKqYwSlyc8A4CDvBZVWMwZM0XsH+m1TBYz98wZSCjcHtHe3AIuy9wSWDt8A7ctPALDZzPoGgFcHjcXnADixQwUhBP8HiRw7BwV0OwZJIBEGPEcjAkSb5QBOfLcFIZ8vAt0wEwdc8uME8fyvBM3yFQMA+X7/iuuy//evgwJIIh8EmFyTB7LgAweI9c0FYDJdAtUlswaXQxz8Xg2zBtBJIwcMxaUH9VLTAgWu7QHrjpsAmkRDBkqBkwX2p78BZaGjBvrTMv+sDAsEfTXDAKICnweoyUEEeHKjBmIWlwS+KFMEvPlBBYLCsP+ZOeMHpTVDB2YoXwRAoBEF9eVjBy0/GwWpcCMEDnF3BdoYPwUPno8AphRPBxtUXwYn/JsB5AsDB2eP3wLrzU8EwHKpAHgDXQD245MCX95nBLJA8weXPo8E0quRAEgxDwVnTSMEhSmLBZPARwbgYusE=",
          "dtype": "f4"
         },
         "z": {
          "bdata": "Ubkvwai2jsB1yBDBv9oWQXkkgcACs/VAfz19wXfaTT8hkBXBV45RwZOeAMEvVdc/xwUkQSKhMsG2yzpBMKL6wMn8McEf40hA1eb+QPlH6z/WwNrAnQDBwJieGsH7SHfAyY8iwZjsssDa+kpA5w8mwb60vMDwStXAUhHowIe0NMFqqCZBuBwdwbg6A8GhX6rAGmIMQX8bi78yrUjB2mYowbY6QEBz6kjB1MwMwVeBiMCgCdvAnJ5fwGXyE8H4UpnAB4GHQXaUxcBCZ+rA6i02wQ3wNMFLeovAxqDgwLC1578HzSnBzIIzwUtLWsG3LX+/twJGwaO+HsEw6w3Byy7rwB+qEkCEubq+Q/jEQAyUEsHE/hvAbsuywFNw+cDteM5AbZTYwIUfDMEML6fAwHAiwSepEMH3pdfAUnO3wMurhMHzc6fAF0nJwMYuscBtLvQ/wQg0waMnQcDRqRrAiGzzwK7uJ8FuIIfBxw6KwIX9tT89y6DAKFCIvzLDHsFaYzBB+r0nwevDJMFwPnG/L5gHwTeh5sBXOwvBL73FwDfN38AeGwrBBITswGhKnsDCIs3AqtSwQMSLQEEKlzhBw5w6wJhRVsByBH/BPcomwe6qvsCPvQpB+QcHwe/clUFuv2nARX7DPxrD8sBXwTbBXnbVQD5KDEHjjIjA8ZeawEN2DcCTDLnAt742wQfPEcHFbyVBhke1wKjyB0AeXs/AA378wIiRBcDMvWvAWT9LQPM9ncC5qIg/ZUwpwXgm2kDnHq7AWtyCwLV0mMDd7ajAYiV7wdwgM0EhnSPAnvI1v2GLSEGSjcTAKP0OwXIMDD9v1+5AXSdDQcGz/sAJeB/BYX86wUno1MBap/FAUqvEwJZ1R8HuFA/BiRw8wTEMvsA=",
          "dtype": "f4"
         }
        },
        {
         "hovertemplate": "color=Anxiety Disorders<br>x=%{x}<br>y=%{y}<br>z=%{z}<extra></extra>",
         "legendgroup": "Anxiety Disorders",
         "marker": {
          "color": "#B6E880",
          "opacity": 0.7,
          "size": 4,
          "symbol": "circle"
         },
         "mode": "markers",
         "name": "Anxiety Disorders",
         "scene": "scene",
         "showlegend": true,
         "type": "scatter3d",
         "x": {
          "bdata": "YldJvuCLQ8HHGYfBBLdiQba2b8Fr9ZfBYESdwdMSHEHjtA/BC5cjQa18G8FPOpxBsq0YQIaZVkH6ZZ8812zKwIcTtT9nB89AshIVQa8VA0HpZQZBu/DjQSZIwECs/q/BDUKAQd7EOcF7zl0/dMFqwfC6A0GTQ53B7PGpwEM+T8Hd9DPBcBAQwQxK5sB5MpzBFx+1QWOFUEG/mGK/stmOwbd5icHxMRNBLECJQScemMHoxg1Bkhh3QLl8mcC1EOpBBRgBwUrgtkCpU/ZA/QvaQIhiosDwS6PApGy5QeI4h8HfxIrBqXNtwFPgrsBIZaXBjcwswYqmSEE5MiNBTrGRwSR4pMFdeSbBuOOPwTDw3kCE5LtAe8n8QPJt/L33XQ+/L9y/wABFBMGAlPbAkz3Pv3DjMUErad0/NPUpQb44AkLdYPzA0ZCqwKRGsUHePJRAmuNMQIfkD771K7XAPV4XQQ5bm8GtQN9ApODYQPJCqMGMjqtBPgOKwZ6RCUB9MzHBlUaUwZ/E2UBWDlvA/sqHwe/in8GL12tBeydzQe17u8DJ7aXAUdaFwRlH6UC2VqXBa1W0QWKq/0GXwh/BGe6CQX0bsEH8sx/B1c/WQACgGEFV3uNB9cRdQQ==",
          "dtype": "f4"
         },
         "y": {
          "bdata": "UOa6P2m0hsA4gWxB500/Qfse9L+hvpRBVzmtP967gEBtVC1Ba+BmQDhJnEBJKpzBifVtQOI8nsHHpBM/hHeWQKSnssBOmjBADP6TQDOD30BnHFpAlUXJwOc6tz/hqyJBshBHwUfAWsAeXbE/OfYFQQye8EDqFw9ARdrpQNM1gcAQ2TZASOrIQOmsskA1OpnAHHcxP5JEv0C/8yI+slWDQerng0GxCBRBkDkEQS1phUG6pmTB0vgWwXQ9w0BvNYXB8aUWwPffNUDjWQ9B55SJQI7V70AbKhdBHiievixeBUGibZNB50zWQPlgCkFpqz1BneixvywyPsH9377Aw12OQdruWUA5xzs+WmOBwDjSCEGZruxAD9kxQG3nwz9UjXu/3UyJQPRtJEFTH8RA9SdoP7sgvkDa1c3APv6NQFp+hMHHfLJACMAIQCwYw7+nbTRAUEA6QHn+AL5uetJA13N2QPhzXEBx5o1AofVSQIX9EEHA/UbB4RSKQS94AUDdgZA/n4OgwBbZA0GQCdpADNiUQblzJkGgaxvBOHSFwK8DKsFXBQFB/Tc6QZqo7z/sjKTAISqWPgWCgcFgPQu/gO4UQTxV40A3hZK/mQlyQAVis0BeriLBkxQ/QQ==",
          "dtype": "f4"
         },
         "z": {
          "bdata": "IL6ovjYLK0H76Ik/WYihQC4csMAwsQHBjzoRP/QTN8AVNUTB3MqiwDDAdkEtIIxA0SBrQJnUFEDw+dBA8VRZwXfl1kCz1sq/IxxkwMjq7MByiaDA3LRSwIWG58BSz4a9NyjCvmlVgMGtaZU/nKqyvfR+vMDEgli9mYo+wfuxlkDP1C5AM2VAwV47NMGaHLq/bAKfwLejVEAyyGpAoezbwM1cDcELgGtAGD3LQI/VH8EfZl1BV+CrwBelacEHkaM/lF8KQKOgGcDamyNAprIRwYQ4SsE6PVfBKbzGwLDxrsBYounAfkuIwUZvZ8Hyw8G+CM9rQcgkyj62+6k/xdP6wBhFG8BhfWjBFNkuwEuq5T/xLnu+LDp8wOWJEUDSNHBAqIBhwarBQMGyY03BOeohQELp/8DuiLZAlXOmwDNvNr2Sxi3BA1R5wRzW0cBr7co+j28AQOh9oUCPlITBk5ACwQHmg7+2PcNArITOvYT3oz58RZjAP/YXwV/ekj+M6mLBIaVXP8gMlT8FyIHBbPMMwW2Svj6vcf48XDbYQJ4RzkCACHXBAtCgv9wI0MCZUCJAO7fDwE2Eiz8r7G9Bw2kSQVpxAkEhTHpBGOjIwHOkGj9PTwZAqxWAQA==",
          "dtype": "f4"
         }
        },
        {
         "hovertemplate": "color=Somatic Symptom and Related Disorders<br>x=%{x}<br>y=%{y}<br>z=%{z}<extra></extra>",
         "legendgroup": "Somatic Symptom and Related Disorders",
         "marker": {
          "color": "#FF97FF",
          "opacity": 0.7,
          "size": 4,
          "symbol": "circle"
         },
         "mode": "markers",
         "name": "Somatic Symptom and Related Disorders",
         "scene": "scene",
         "showlegend": true,
         "type": "scatter3d",
         "x": {
          "bdata": "ndgiwRkcxkBwszRBSFMdQbyIvj+AT/I/D/xOwYzNZkEr+BhBEugqQefaOsHxpchA6UZMwYvjScHmOi/BHSoPQBfKxEAZK0XAO87JwPpdsMHTA8nAei0iQccLE0D2niXBGCYwQVyia0HyZPrArEJUvk6ndcEetejAYjf1wOTfOcGks1LBGUthwbi7cUBUzg3B6/NFwWDQA8GI2WVAuehNwZuzC0GWxe/Al9SCwTV2vkCYrso+R9OiQVmMl0EF+gBB/5lEwRhjB8H04ivBuUmSQTihGz9M32LB",
          "dtype": "f4"
         },
         "y": {
          "bdata": "Qix1wMVVIsG2eSA/5evdP0j8JUHWLQjB7JAdvozONcEtYjZAiMfmPkTTvMAk1ErB3daxPjrFsj9n+CM/a+0vwalKuMAfFte+TKO3P8fjI0GfgMM/tJ0uwYkjIcGtKh6/dOgKQIHLW8GbgGzA8LaXwWWVrz5sT6XA5K1PwCReMEAhbBDADH83P9c86sD5t2HAe1BcwZXlrz93PCHBmcv9PsKAo0D7tt8/4oF4wAXRLcEN8FfA7KBwwR3NXcFzWKVAcW2OvnNLkEHDT5nATpiUwZEaasAVMMVA",
          "dtype": "f4"
         },
         "z": {
          "bdata": "mtVSwTxpND7V4DfBbjgswU2OAUBJOpHAUGIgwcCdB0AHGRfBZvNHwcvz+kBlkRe/8zYNwTAoGsFquyHBohxxwKzwa0ES2DtA+RxDwHHFPMCILnTA2GTmPpHCPsBepA/BoU03wVl6TEG0PnVAK40RwaK7T8HWYYBAzwKcQBpdacHMqCvBCI1OwVGrPMDn6HXB5K5XwZPViMCEo3jAYJlRwQpQ6MDF+P+/n7JvwPBuCb+1eY5AY2r5v2uojL8iJvXAXpsywSH/VsFNi3FAProSQEukskCBog3B",
          "dtype": "f4"
         }
        },
        {
         "hovertemplate": "color=Trauma- and Stressor-Related Disorders<br>x=%{x}<br>y=%{y}<br>z=%{z}<extra></extra>",
         "legendgroup": "Trauma- and Stressor-Related Disorders",
         "marker": {
          "color": "#FECB52",
          "opacity": 0.7,
          "size": 4,
          "symbol": "circle"
         },
         "mode": "markers",
         "name": "Trauma- and Stressor-Related Disorders",
         "scene": "scene",
         "showlegend": true,
         "type": "scatter3d",
         "x": {
          "bdata": "ZZ05QbQwyUEIXTlB0w/tQcM8AsFU+SzA4bxcwWoeI8HhPshBTkE3Qf0kC8ANvnfBJtybwfyJVEEtV2LB8zjKQdMbzUHj/4DBhfAKwXnbxEH/t7BBmvSWwQaCw0Hr1lTBlDtkwPyyqMEry0vBjAZqwV3/4cC/YA5BCYKhwE3sv0E1maVAfIfuvy9pY0Dpd6/A8HUOwXx/skESesBAGRvKQRkfZMG01r9Bh0SxwPTYJMFZs5s+/zzMQcDHasEqR1hA+0Jmwcs+AUBtfpZB7smTQTt/FsE0qzLAu2uNQSdKykEp8LtB/2+QwSDCrMEVftZB8DteweF73D/q4TrBHrqtwU71u0EvRDZBR0lgwR8CqMFXlA1BGUSzQBPPZcHhpCdBtNA7QQSt+sADvTDArLqDwDmZPMEQ1ANBXirwwJlWB8C7WOE/alVtwfUcO8Ew+WXB68iJwcGlLkE=",
          "dtype": "f4"
         },
         "y": {
          "bdata": "WtdZwV1A7MBxhRzBYT46wS2UtcAZ2nzADi2BQe9szz8I/x7B+A6aPwybxMBCPfpAhmqsQUhcPkAZTFZBoF0NwamJBcFUfntAypyHPwjrYcHMGffAwQizQX/+D8HJ7o1B69bwwP8gv0CVollBdgKGQRRS8MDZyBq+ZiyywHvELcGuorq/O9jiPuBBGcEE7Z8/89UwPwSnDcG1tAi/Jawawdl0mkHjcPrAg+ajwGkAHr4tDIDAvMZpwTizVUFLL2jAS39VwG1AbMCDtprByAWiwbfEwMBIT8fAGZw7wTybVMHBtxnBk1muQW6v2UAD1iHB0n+aQfFThMDDV9xA3BEGQeY7BMG1Hjs/G3wMQdxg2ECuVD/BG0QIwJrw50Dtltc9R5UWQPNFHEFMpZPAkZvLwHuWrL+KqD7Bv0gHwbMx08A1TgrBzr4+QCnzuj9xPQNBY5DJwNpe8T8=",
          "dtype": "f4"
         },
         "z": {
          "bdata": "nSTOv6K568CZz4TAgKI1P6zJ1EAhGUVAeWbIwMgRJsEn4WRAfGD7wLZGUr9U3SrBQ6+uwEqIzcAUXKfAkrVVQAkU1D7dtOXAcddYQMGp/j6TzMu+YGW1wOz4iECgv/bAuOt3QFjjP73veqjArpzmwPdjoEDMgePAA9ehP7DDhkBGVMbA39j2QCbGKMCbocBALRERPwDJMb8A3enAbQrRPkqJycDtoKe/wjTuPzYCRUGZ9xxBPpYhP5k3z8CmAZrAroDfPolSJUHE8YBAsLWvvzObz0BDr90+9yE7wB9WHT9tb0ZAqaetwF+xbj8K1PY/hPnCwCcQu78bcWnAdk5hvhalYEDcEazAL4+UwA1oKL9rAhtBBWLbwGsL/cA4HQvBPYnBwMdULj8jTnZAuJwmQJrUAMDFmhdB3tu/QDoNWj9Cu5S/jWcOwMqmIT/Yw9DAfwpnv6n42MA=",
          "dtype": "f4"
         }
        },
        {
         "hovertemplate": "color=Dissociative Disorders<br>x=%{x}<br>y=%{y}<br>z=%{z}<extra></extra>",
         "legendgroup": "Dissociative Disorders",
         "marker": {
          "color": "#636efa",
          "opacity": 0.7,
          "size": 4,
          "symbol": "circle"
         },
         "mode": "markers",
         "name": "Dissociative Disorders",
         "scene": "scene",
         "showlegend": true,
         "type": "scatter3d",
         "x": {
          "bdata": "rnCAQX2rT8HXHDtBRCX/wOVHdcFmfrJBClFNwNUg/MC2h/LAxilrQfwVgsEMDiDBvaf+wFMZa8HYUU7BQQeowN0HcUH2Vp3ARo1XwBlFPcGlnFvBC5VmQF1lPUE9v0rBlQQpQanOmsGrYU9BROBQwXLW50BfBfDA947UwHLiWUHysfrA69kpwfYIcEHz4VJBnR86Qb2VKkCe/E7Bg5toQTAbZEF38FrBiP1zwE8kVkF48lDB/OlhQbBIX8Fs4BbBEaVgQQ8Yl8A=",
          "dtype": "f4"
         },
         "y": {
          "bdata": "7mbZv3e9JkFPRWW/6tFnQS0wc0EeY3LBr76gv1UstUBXP9VArt+SwfNevsBul+ZAyIQNQeEgMkEeoTJBFXe3Po7lkr878O89WtcHQR0+FkH2SGRBpuLeP1QQU8BbQi9Be6AMwe8zgEFC52TADdobQfbaXMBF9atATk4OweHmGMGJBY8/ErjzQDQRfL/n5SK/tysVwbcodcG9GEpBuHkhQNwXwj8uSjhBn1CqPWBj878jriVBXfbPvtROFUGf1bBAZRJOwFJa8UA=",
          "dtype": "f4"
         },
         "z": {
          "bdata": "2g46wfJN3cA8HSHB/j7Cv+YYDsHvQrk+cKwFQTbV1MC5GrvAHNmJP0nIJkC50PrAB8/nwPghDMGnpgfBZv8OQbEwEMHIXhxBhOW+wJOn+8AoMhnBDmLSQN0bIcHQjShAHsmPwOdQ77/QXxLBQTHvwN22EMAf7Z3AFA89QMh5OD8aA7NATczUwPM1KcGLtkXBfU5nv5eHaMFu+Q3BBDkawcHmIcFf/xfBNCsEQffERcGpdg9Atzg5wXQMBb3lqNnAaSoHwRzmfkA=",
          "dtype": "f4"
         }
        },
        {
         "hovertemplate": "color=Parasomnias<br>x=%{x}<br>y=%{y}<br>z=%{z}<extra></extra>",
         "legendgroup": "Parasomnias",
         "marker": {
          "color": "#EF553B",
          "opacity": 0.7,
          "size": 4,
          "symbol": "circle"
         },
         "mode": "markers",
         "name": "Parasomnias",
         "scene": "scene",
         "showlegend": true,
         "type": "scatter3d",
         "x": {
          "bdata": "R2Z/Qe5ni7/XY6PAEH9AwSbv9j/2zXtBt4MqQeuPFj+uA5BBstYpQM80gMHRxvC/UqLaQBXGIcFGD6s/AgZ7vtgSQ0FIIAVA3XSNQOB9icFvKiFA5adLwftXzb9g0X0/Wlm3QfefMkFMAlPBbM0lQPtnS8FtpnRAAU9BQO9eCUCtgZLBYAMhP/2mF0HQZXvACVaUQewJWsE3Zq4+lfeIQavb9D/w4mLBKM+NwH1wikGM7QjBlMKKwKe+9L/wpNy+bikLv3/AKcEKnJZBn8GWPmCXRMG96mnB7wkSv2+B57+XiYw/S6yoQfiaPMFrR2zBlTIOQQF+zcCXua1AoliDwA==",
          "dtype": "f4"
         },
         "y": {
          "bdata": "rWEFwWRTXcHlDI7ByP4HwVJ4hsEbfTLBdL2CwSvIkcHHbA3BPBVmwYxSj0Gx6U/BcP2NQYWMr8CXgIjBl96AwauTwkB0dWTBTYGYwV0RGcEJBpHBri6RQV1HMsHXbGbBnpdqwW2T/sDgRRfB2ACSwQZnlEFDH4/BWuCKwW8Ai8F5pt7AiKptwXR1Y8G6xYHB2o8eQSjvYsFwoHXBvWYdweG7XcHFW5NB1aaKwUIumsGXBtS/9VRlwWeHOMG7I0XBbkjvwM/YQ8E7GgFB9i9UwS6hjkExXo5BZFJuwTKPm0HFf5LBH6kHQWdeZcD2jUrBpONXQQZsosHf/VVBqrDGwA==",
          "dtype": "f4"
         },
         "z": {
          "bdata": "up+xv8n96b6j/dxAYgj6QIw3VcF5y86/zsUvQdEn9UBO7QDAqLPdQIBgo77NoKFAsrYXQTi3LL8yd7VAyCPgQE3gJ0Gp8jNAOeiMv8O9kEAlWZhA/Jnfv8NJJUCT1jA/7csMwAx5TD9eGABBNOZxQAjoer9r4ZVA/eg5weCURsGu6ug/T7aPQBAwSkHuqulAGFsqQaEVNsEW3Z1AyWaZv6jS7UDz0dc/WujhQPVoJkBlJGlBAE00QQF9Q0CiLb8/E5vUQOrYEkA5agBBMoIjQAfRQcA/5t4+6hXDQLwb7D+r8QtBVd4SQZwCw0Dmmm3AEtXlv1LY4D9LRBvAnBhywQ==",
          "dtype": "f4"
         }
        },
        {
         "hovertemplate": "color=Sleep-Wake Disorders<br>x=%{x}<br>y=%{y}<br>z=%{z}<extra></extra>",
         "legendgroup": "Sleep-Wake Disorders",
         "marker": {
          "color": "#00cc96",
          "opacity": 0.7,
          "size": 4,
          "symbol": "circle"
         },
         "mode": "markers",
         "name": "Sleep-Wake Disorders",
         "scene": "scene",
         "showlegend": true,
         "type": "scatter3d",
         "x": {
          "bdata": "dv3Ov4l2nMCfjJTA2cyLP9WTecGNCiPB2iIbvLQuVcFtik7BHeXBQRhQykBUOplBXVJGwSQGk0DtRoy/2lzFP3tkC750R0hApa0hwUgT+0BEigzBscsDwflcA8Eax7K/yi8kwUiT0L/dAvVAPeqawdsk58CdJlS/vHF7wf9dO8ETjTBBWnUiQJ4uUz9ePirB0m14QJVrusAkl3PAP/S6QTLeY8Ecf5fA/hZGwPbojb8kMQ/BEyTNPwMYecHI6afA+QYuwVwxmEHZmUPAWZ92wMMxc8HLqmW/+4xuwZZybb/wQqDBWrzOwBRs2sA=",
          "dtype": "f4"
         },
         "y": {
          "bdata": "OpuBwQP+o8EAzpXBQlVKwZTchUFcb5TBP5hcweDtfkEA6IXBv3pRwcRcgcEeqhDBpmKAwd4foMCGoozBlduJwQSSfsFC8kjBXemkwZJ+jsHx6ZQ/K21ewQ/3lcHV6JLBNy+ewWQticF+lYnBj+3XwOsRlcFjqpLBwaVVQfZJwEDrRn3B8L9IwXB3rcCtxp7BU8hBwXHAhcHuU4PBQZ1kwR6lPEF52YDBET2bwVudmcGXr5rBdQtnwXOBcMCyko/BXoOWwUh7HsET5Y7BeleFwTR2CcEzoNTAXQ2FwG/wkMGj+wjBMC83v0YU38A=",
          "dtype": "f4"
         },
         "z": {
          "bdata": "HJuaP2XJWkBYqytA165GwNm+pb5YghtAgUPFv902I8C58bu/RXkbQDmtmkAm1RK/5EiXv6kNR79sxtpAgzLwP1UMgD/lZ9tAujNBQLC+3UCo+jHB4Sz7wCu1LkDTOYNA5Y2FQCNrFUFxM+dAmCehvTFKUEA0zMdAoPcOvwPtZEEB+yBBeFa5v3kcR0DiIhFA3JzuQBo3akC0/YNAjlR5wGih0L5iW5Q/8ObLP5Da50B0s8hAW56Wv1rfQsEIywdANkc1QB1fkL+IVHZAJTjbP2bSUUAK2chAaWA7wa8nBkEMEfW+lLxHwQH3Q78=",
          "dtype": "f4"
         }
        },
        {
         "hovertemplate": "color=Catatonia<br>x=%{x}<br>y=%{y}<br>z=%{z}<extra></extra>",
         "legendgroup": "Catatonia",
         "marker": {
          "color": "#ab63fa",
          "opacity": 0.7,
          "size": 4,
          "symbol": "circle"
         },
         "mode": "markers",
         "name": "Catatonia",
         "scene": "scene",
         "showlegend": true,
         "type": "scatter3d",
         "x": {
          "bdata": "Run/QQZ9ykAZAnHAqVCTQfinAULLu/xBovNXQHd1jkFdjvJBwAbGwA==",
          "dtype": "f4"
         },
         "y": {
          "bdata": "FP84wcuthECTF4BBT2qLwXhZPMExclzBSKM1wcu8j8FG5FzBFlV6QQ==",
          "dtype": "f4"
         },
         "z": {
          "bdata": "9EenPa89aED9RbTARV22PuqfFb+7mIi/Ou7/wMGXhT+t08e/BnYYwQ==",
          "dtype": "f4"
         }
        },
        {
         "hovertemplate": "color=Cluster C Personalit Disorders y<br>x=%{x}<br>y=%{y}<br>z=%{z}<extra></extra>",
         "legendgroup": "Cluster C Personalit Disorders y",
         "marker": {
          "color": "#FFA15A",
          "opacity": 0.7,
          "size": 4,
          "symbol": "circle"
         },
         "mode": "markers",
         "name": "Cluster C Personalit Disorders y",
         "scene": "scene",
         "showlegend": true,
         "type": "scatter3d",
         "x": {
          "bdata": "3ODaQbw2t8H5Tq/BYMy7wey/OsEcDdtAb5SfQbjOPMFCT5/AlkCdQGowr8HAZZNAS16DQGTDvcGoiZlA/k6xwVPbR0AMhbnBm23gQTe7m0HFMp7AsiLMQKbuxcHJbdFBnGjGwQXUSUCD5srBrOe7wQ==",
          "dtype": "f4"
         },
         "y": {
          "bdata": "VxAewWnoTUHlbD9BhZZWQe+WpL+HkQNBZS48wbX3GsBOJ+E/36/cQFHlU0F+BhJBkxgsQezIOEHApChB49Y1QZC58EBvKD5BrBwkwd+vT8HG0ZFAY5AgQSSxeUEHWg/BznJDQXIxPUHLWENBgnVuQQ==",
          "dtype": "f4"
         },
         "z": {
          "bdata": "mIzQwPGGs8AElUjAldbvwNjkpUANvS/BQfnvPxuhiUCVz5ZAPhtUwT6AzcDX8iPBN/ZWwR2w7sCv/SvB29CJwEQQIsEKaVnAJ7urwH+K0D8jsHVAnAY9wX1/qsA6xNDABO7GwEn7LMG0MQbBp4j4wA==",
          "dtype": "f4"
         }
        },
        {
         "hovertemplate": "color=Specific Learning Disorder<br>x=%{x}<br>y=%{y}<br>z=%{z}<extra></extra>",
         "legendgroup": "Specific Learning Disorder",
         "marker": {
          "color": "#19d3f3",
          "opacity": 0.7,
          "size": 4,
          "symbol": "circle"
         },
         "mode": "markers",
         "name": "Specific Learning Disorder",
         "scene": "scene",
         "showlegend": true,
         "type": "scatter3d",
         "x": {
          "bdata": "WGQcwYCRs8Gh56rBrEmEwB2H5sCL8KHBmJ7Nwc8qosHlMGXA68aiwd/3scGNmrjBER71QUynucFly+jAgFNZwONercFoQ8zBUR+kwezpvsHcAr7Bd/2pwQ==",
          "dtype": "f4"
         },
         "y": {
          "bdata": "TiIiPwaJqz+3PfI/GVk4wCfUu8AXlxLAOyzCQMBVGj/gutXA+wEfwPf3hkD5C0VAsxQcwffLZD6opJzADHwBwcVuakCPBLtAb17jP+Mmi0Dgw2s/U3NJQA==",
          "dtype": "f4"
         },
         "z": {
          "bdata": "1k6zQPKUOMGBECHBt6UHQU4P07//3GzBKAoewcD/acG8K5nA6JpPwSoTTsHGZyjB2h3bv344P8F1xJXAPk7CwFTNHcEt9iXBtpFFwbp5J8GQkx3B8nIywQ==",
          "dtype": "f4"
         }
        },
        {
         "hovertemplate": "color=Personality Disorders<br>x=%{x}<br>y=%{y}<br>z=%{z}<extra></extra>",
         "legendgroup": "Personality Disorders",
         "marker": {
          "color": "#FF6692",
          "opacity": 0.7,
          "size": 4,
          "symbol": "circle"
         },
         "mode": "markers",
         "name": "Personality Disorders",
         "scene": "scene",
         "showlegend": true,
         "type": "scatter3d",
         "x": {
          "bdata": "tAziwF/tyECBrshAwsLlwOlvkj+OY4nBtkC9QZ+tiMH13o9Aej0awSRPhME=",
          "dtype": "f4"
         },
         "y": {
          "bdata": "L6N8P6xbcUApERZB/NoTPp14PkEHTcBA3f4VwRvWzkA10/FAhAVGQTSfxUA=",
          "dtype": "f4"
         },
         "z": {
          "bdata": "a1DywFPZL8HzxgTBlzDzwFzkWMFL+4zAmOVawJY2jMA7UDfBe7BLP778GsE=",
          "dtype": "f4"
         }
        },
        {
         "hovertemplate": "color=Intellectual Developmental Disorders<br>x=%{x}<br>y=%{y}<br>z=%{z}<extra></extra>",
         "legendgroup": "Intellectual Developmental Disorders",
         "marker": {
          "color": "#B6E880",
          "opacity": 0.7,
          "size": 4,
          "symbol": "circle"
         },
         "mode": "markers",
         "name": "Intellectual Developmental Disorders",
         "scene": "scene",
         "showlegend": true,
         "type": "scatter3d",
         "x": {
          "bdata": "0GNOwR8aqMFRylbBOePRwJqGoMGbvIrBamqwwZyhNsDdq5rBuVazweU7sr/iiV9BwP4iwZyZs8EGKazBVTKPwQ==",
          "dtype": "f4"
         },
         "y": {
          "bdata": "yJhKQHV1HD+S3rLAhuCtwHmoT8At4YhAXgtuv6BJDcEUyLfA1/4GQIFvw8BWFOa/+XNiPurmA0DoLNC/HZQJwA==",
          "dtype": "f4"
         },
         "z": {
          "bdata": "J0rvwIC6DcFUqpC+IxYgQVhYTMGBqwHBECgvwX29zMD2uDTBbGf3wDMhPsAUGHNBTFzRQEgH4cA0xCzBfWTAwA==",
          "dtype": "f4"
         }
        },
        {
         "hovertemplate": "color=Communication Disorders<br>x=%{x}<br>y=%{y}<br>z=%{z}<extra></extra>",
         "legendgroup": "Communication Disorders",
         "marker": {
          "color": "#FF97FF",
          "opacity": 0.7,
          "size": 4,
          "symbol": "circle"
         },
         "mode": "markers",
         "name": "Communication Disorders",
         "scene": "scene",
         "showlegend": true,
         "type": "scatter3d",
         "x": {
          "bdata": "jdeRwKMFQ8A0LI3AC41MwFI5ocH1STbBDezNQF6EQEDqZkRATaF9QY0M2cAaO7xB9Y+XwZpBQkFcpanAsh2uQXIZtj5635XBA5dBQM/10sCicPBByw3svw==",
          "dtype": "f4"
         },
         "y": {
          "bdata": "XZI0wZO+G8GNPivB6z0bwWz6qUA91LHAN2oIwHl8KsFfDw/BVofpvx/0HsGFZ/TASV6LQIs42742nDXBgKSuwEdapcB8WLxACTAdwRCoKME5RT3BSMEOwQ==",
          "dtype": "f4"
         },
         "z": {
          "bdata": "VuoSwNR2UMBkXYi/XRCxv0qfQsFHP809JEzWQMYvpECaPWlAnSAqQLnIEEBmgkHA54MSwRvwOUEwGq6/eiB/wGfuDcAa8DrBm+KMQJsk1z+Hjeq/ZX5xwA==",
          "dtype": "f4"
         }
        },
        {
         "hovertemplate": "color=Other Personality Disorders<br>x=%{x}<br>y=%{y}<br>z=%{z}<extra></extra>",
         "legendgroup": "Other Personality Disorders",
         "marker": {
          "color": "#FECB52",
          "opacity": 0.7,
          "size": 4,
          "symbol": "circle"
         },
         "mode": "markers",
         "name": "Other Personality Disorders",
         "scene": "scene",
         "showlegend": true,
         "type": "scatter3d",
         "x": {
          "bdata": "KIdgQBP9E0H/wd9AbwTlQGfvHsE3qpFAXGAlQQ==",
          "dtype": "f4"
         },
         "y": {
          "bdata": "28txwWWcZcHq07hAIV6jQNt+XsBAgu/AOPhUwQ==",
          "dtype": "f4"
         },
         "z": {
          "bdata": "01lewbSa6j+DHFTBJS0vwekxaMExzZfAIkzRPw==",
          "dtype": "f4"
         }
        },
        {
         "hovertemplate": "color=Other Mental Disorders and Additional Codes<br>x=%{x}<br>y=%{y}<br>z=%{z}<extra></extra>",
         "legendgroup": "Other Mental Disorders and Additional Codes",
         "marker": {
          "color": "#636efa",
          "opacity": 0.7,
          "size": 4,
          "symbol": "circle"
         },
         "mode": "markers",
         "name": "Other Mental Disorders and Additional Codes",
         "scene": "scene",
         "showlegend": true,
         "type": "scatter3d",
         "x": {
          "bdata": "A5fePpc+1T97Lb0/wMfIPw==",
          "dtype": "f4"
         },
         "y": {
          "bdata": "Z3+OwZ8BlMGNNpLBOsaJwQ==",
          "dtype": "f4"
         },
         "z": {
          "bdata": "THKAwc0ngcGwknPBTl9+wQ==",
          "dtype": "f4"
         }
        },
        {
         "hovertemplate": "color=Gender Dysphoria<br>x=%{x}<br>y=%{y}<br>z=%{z}<extra></extra>",
         "legendgroup": "Gender Dysphoria",
         "marker": {
          "color": "#EF553B",
          "opacity": 0.7,
          "size": 4,
          "symbol": "circle"
         },
         "mode": "markers",
         "name": "Gender Dysphoria",
         "scene": "scene",
         "showlegend": true,
         "type": "scatter3d",
         "x": {
          "bdata": "vuWcwaGQU7/zCWLBSd8OQVBby0HRy2XBlJJ8wWfRjcEGBGLBwkF1wY1KqMF7oDXBtUzKQdNJbcGlaTfBJuJjwa9ujcHR7KzB64HOQTJJLcG4IBVAql4ywUz7GsHpHYLBGrSHwfX8kkA/iZrB",
          "dtype": "f4"
         },
         "y": {
          "bdata": "TqxPQAhuDcCzFFFAeViQwDinscAtEbs/KwIYQFdo0z+w65I+SiEmvq4gPEDwJ/E/JZWgwOOCPkCHnKA+LWSAQOEubD5EhDtAfcSbwPwa6EBn85hAzde7PcqDuEA+oD4/F8w6P3ifcMG3gQ9A",
          "dtype": "f4"
         },
         "z": {
          "bdata": "81QdQRkdDkFDVz1BbevtQOpbkL+QjQtBvAEnQVzOKEEh0zdBqJw7QWjKDUE74RZBC2jvvwyMK0GyoRpBhYYVQb33JEG+xgpBjQw5v0u7H0ERHVnBpGsrQZzrE0FeQBRBDfgnQTNmasFVxxVB",
          "dtype": "f4"
         }
        },
        {
         "hovertemplate": "color=Other Conditions That May Be a Focus of Clinical Attention<br>x=%{x}<br>y=%{y}<br>z=%{z}<extra></extra>",
         "legendgroup": "Other Conditions That May Be a Focus of Clinical Attention",
         "marker": {
          "color": "#00cc96",
          "opacity": 0.7,
          "size": 4,
          "symbol": "circle"
         },
         "mode": "markers",
         "name": "Other Conditions That May Be a Focus of Clinical Attention",
         "scene": "scene",
         "showlegend": true,
         "type": "scatter3d",
         "x": {
          "bdata": "Imh8QURhRkEajptBBj2UQRyVhEGDxKFBVzaWQTDih0Gbp+BBwTmgQf5mpkE0S65Bk+GOQVQ7gUH7m5xBfu6GQdN8pEG5JaxBCGDEwaLrMEExdkVBhnajQcWFysGYm5ZBK2SBQZy5qkE1t41B8l2dQf+nnEEa4JZBOq2SQV6D5UH6jsbBpVuSQa7xkkHsgoxB",
          "dtype": "f4"
         },
         "y": {
          "bdata": "s4NYQRkXcz8VMGjB87hLQWPASkHxWj5BuMRlQfqwNEFyRKfB5b4uQTtLKkFuACRBmqJSQac5WkF+cS1BOnVrQQzJZcHiyk5BWEiKQIQsmD9c9ig/iEVBQYj+ekAqDaHB0fp0QSZ+IkHtRzhBSzcLQf6qVUH0JCBBtCcIQextpcEZJIRAvCkXQTT5NEEoyl9B",
          "dtype": "f4"
         },
         "z": {
          "bdata": "BXcSwYm8lUFV5RxA80EcwSG7CMFMm5vA9iMDwZUy78ArDdE/RtPVwFGAksBPvrnAeLUOwbgh9sBuIavAp6f4wMtYDkCgnKzAmWxQvyj/kUFk0Y5BFzjCwHeQDMDW8iTAuNkHwVvWW8BQ5GvA6EqZwB3mZMBL3I3AdXgTwdqXAEAnLcC/4J4JwSk6i8CSbxjB",
          "dtype": "f4"
         }
        },
        {
         "hovertemplate": "color=Other Neurodevelo mental Disorders p<br>x=%{x}<br>y=%{y}<br>z=%{z}<extra></extra>",
         "legendgroup": "Other Neurodevelo mental Disorders p",
         "marker": {
          "color": "#ab63fa",
          "opacity": 0.7,
          "size": 4,
          "symbol": "circle"
         },
         "mode": "markers",
         "name": "Other Neurodevelo mental Disorders p",
         "scene": "scene",
         "showlegend": true,
         "type": "scatter3d",
         "x": {
          "bdata": "/LYXQI/Vgj4=",
          "dtype": "f4"
         },
         "y": {
          "bdata": "peGKwc9hlcE=",
          "dtype": "f4"
         },
         "z": {
          "bdata": "gAUgweAFFcE=",
          "dtype": "f4"
         }
        },
        {
         "hovertemplate": "color=Additional Codes<br>x=%{x}<br>y=%{y}<br>z=%{z}<extra></extra>",
         "legendgroup": "Additional Codes",
         "marker": {
          "color": "#FFA15A",
          "opacity": 0.7,
          "size": 4,
          "symbol": "circle"
         },
         "mode": "markers",
         "name": "Additional Codes",
         "scene": "scene",
         "showlegend": true,
         "type": "scatter3d",
         "x": {
          "bdata": "Z9x7Pg==",
          "dtype": "f4"
         },
         "y": {
          "bdata": "vOCbwQ==",
          "dtype": "f4"
         },
         "z": {
          "bdata": "gahqwQ==",
          "dtype": "f4"
         }
        }
       ],
       "layout": {
        "height": 800,
        "legend": {
         "title": {
          "text": "color"
         },
         "tracegroupgap": 0
        },
        "scene": {
         "domain": {
          "x": [
           0,
           1
          ],
          "y": [
           0,
           1
          ]
         },
         "xaxis": {
          "title": {
           "text": "x"
          }
         },
         "yaxis": {
          "title": {
           "text": "y"
          }
         },
         "zaxis": {
          "title": {
           "text": "z"
          }
         }
        },
        "showlegend": false,
        "template": {
         "data": {
          "bar": [
           {
            "error_x": {
             "color": "#2a3f5f"
            },
            "error_y": {
             "color": "#2a3f5f"
            },
            "marker": {
             "line": {
              "color": "#E5ECF6",
              "width": 0.5
             },
             "pattern": {
              "fillmode": "overlay",
              "size": 10,
              "solidity": 0.2
             }
            },
            "type": "bar"
           }
          ],
          "barpolar": [
           {
            "marker": {
             "line": {
              "color": "#E5ECF6",
              "width": 0.5
             },
             "pattern": {
              "fillmode": "overlay",
              "size": 10,
              "solidity": 0.2
             }
            },
            "type": "barpolar"
           }
          ],
          "carpet": [
           {
            "aaxis": {
             "endlinecolor": "#2a3f5f",
             "gridcolor": "white",
             "linecolor": "white",
             "minorgridcolor": "white",
             "startlinecolor": "#2a3f5f"
            },
            "baxis": {
             "endlinecolor": "#2a3f5f",
             "gridcolor": "white",
             "linecolor": "white",
             "minorgridcolor": "white",
             "startlinecolor": "#2a3f5f"
            },
            "type": "carpet"
           }
          ],
          "choropleth": [
           {
            "colorbar": {
             "outlinewidth": 0,
             "ticks": ""
            },
            "type": "choropleth"
           }
          ],
          "contour": [
           {
            "colorbar": {
             "outlinewidth": 0,
             "ticks": ""
            },
            "colorscale": [
             [
              0,
              "#0d0887"
             ],
             [
              0.1111111111111111,
              "#46039f"
             ],
             [
              0.2222222222222222,
              "#7201a8"
             ],
             [
              0.3333333333333333,
              "#9c179e"
             ],
             [
              0.4444444444444444,
              "#bd3786"
             ],
             [
              0.5555555555555556,
              "#d8576b"
             ],
             [
              0.6666666666666666,
              "#ed7953"
             ],
             [
              0.7777777777777778,
              "#fb9f3a"
             ],
             [
              0.8888888888888888,
              "#fdca26"
             ],
             [
              1,
              "#f0f921"
             ]
            ],
            "type": "contour"
           }
          ],
          "contourcarpet": [
           {
            "colorbar": {
             "outlinewidth": 0,
             "ticks": ""
            },
            "type": "contourcarpet"
           }
          ],
          "heatmap": [
           {
            "colorbar": {
             "outlinewidth": 0,
             "ticks": ""
            },
            "colorscale": [
             [
              0,
              "#0d0887"
             ],
             [
              0.1111111111111111,
              "#46039f"
             ],
             [
              0.2222222222222222,
              "#7201a8"
             ],
             [
              0.3333333333333333,
              "#9c179e"
             ],
             [
              0.4444444444444444,
              "#bd3786"
             ],
             [
              0.5555555555555556,
              "#d8576b"
             ],
             [
              0.6666666666666666,
              "#ed7953"
             ],
             [
              0.7777777777777778,
              "#fb9f3a"
             ],
             [
              0.8888888888888888,
              "#fdca26"
             ],
             [
              1,
              "#f0f921"
             ]
            ],
            "type": "heatmap"
           }
          ],
          "histogram": [
           {
            "marker": {
             "pattern": {
              "fillmode": "overlay",
              "size": 10,
              "solidity": 0.2
             }
            },
            "type": "histogram"
           }
          ],
          "histogram2d": [
           {
            "colorbar": {
             "outlinewidth": 0,
             "ticks": ""
            },
            "colorscale": [
             [
              0,
              "#0d0887"
             ],
             [
              0.1111111111111111,
              "#46039f"
             ],
             [
              0.2222222222222222,
              "#7201a8"
             ],
             [
              0.3333333333333333,
              "#9c179e"
             ],
             [
              0.4444444444444444,
              "#bd3786"
             ],
             [
              0.5555555555555556,
              "#d8576b"
             ],
             [
              0.6666666666666666,
              "#ed7953"
             ],
             [
              0.7777777777777778,
              "#fb9f3a"
             ],
             [
              0.8888888888888888,
              "#fdca26"
             ],
             [
              1,
              "#f0f921"
             ]
            ],
            "type": "histogram2d"
           }
          ],
          "histogram2dcontour": [
           {
            "colorbar": {
             "outlinewidth": 0,
             "ticks": ""
            },
            "colorscale": [
             [
              0,
              "#0d0887"
             ],
             [
              0.1111111111111111,
              "#46039f"
             ],
             [
              0.2222222222222222,
              "#7201a8"
             ],
             [
              0.3333333333333333,
              "#9c179e"
             ],
             [
              0.4444444444444444,
              "#bd3786"
             ],
             [
              0.5555555555555556,
              "#d8576b"
             ],
             [
              0.6666666666666666,
              "#ed7953"
             ],
             [
              0.7777777777777778,
              "#fb9f3a"
             ],
             [
              0.8888888888888888,
              "#fdca26"
             ],
             [
              1,
              "#f0f921"
             ]
            ],
            "type": "histogram2dcontour"
           }
          ],
          "mesh3d": [
           {
            "colorbar": {
             "outlinewidth": 0,
             "ticks": ""
            },
            "type": "mesh3d"
           }
          ],
          "parcoords": [
           {
            "line": {
             "colorbar": {
              "outlinewidth": 0,
              "ticks": ""
             }
            },
            "type": "parcoords"
           }
          ],
          "pie": [
           {
            "automargin": true,
            "type": "pie"
           }
          ],
          "scatter": [
           {
            "fillpattern": {
             "fillmode": "overlay",
             "size": 10,
             "solidity": 0.2
            },
            "type": "scatter"
           }
          ],
          "scatter3d": [
           {
            "line": {
             "colorbar": {
              "outlinewidth": 0,
              "ticks": ""
             }
            },
            "marker": {
             "colorbar": {
              "outlinewidth": 0,
              "ticks": ""
             }
            },
            "type": "scatter3d"
           }
          ],
          "scattercarpet": [
           {
            "marker": {
             "colorbar": {
              "outlinewidth": 0,
              "ticks": ""
             }
            },
            "type": "scattercarpet"
           }
          ],
          "scattergeo": [
           {
            "marker": {
             "colorbar": {
              "outlinewidth": 0,
              "ticks": ""
             }
            },
            "type": "scattergeo"
           }
          ],
          "scattergl": [
           {
            "marker": {
             "colorbar": {
              "outlinewidth": 0,
              "ticks": ""
             }
            },
            "type": "scattergl"
           }
          ],
          "scattermap": [
           {
            "marker": {
             "colorbar": {
              "outlinewidth": 0,
              "ticks": ""
             }
            },
            "type": "scattermap"
           }
          ],
          "scattermapbox": [
           {
            "marker": {
             "colorbar": {
              "outlinewidth": 0,
              "ticks": ""
             }
            },
            "type": "scattermapbox"
           }
          ],
          "scatterpolar": [
           {
            "marker": {
             "colorbar": {
              "outlinewidth": 0,
              "ticks": ""
             }
            },
            "type": "scatterpolar"
           }
          ],
          "scatterpolargl": [
           {
            "marker": {
             "colorbar": {
              "outlinewidth": 0,
              "ticks": ""
             }
            },
            "type": "scatterpolargl"
           }
          ],
          "scatterternary": [
           {
            "marker": {
             "colorbar": {
              "outlinewidth": 0,
              "ticks": ""
             }
            },
            "type": "scatterternary"
           }
          ],
          "surface": [
           {
            "colorbar": {
             "outlinewidth": 0,
             "ticks": ""
            },
            "colorscale": [
             [
              0,
              "#0d0887"
             ],
             [
              0.1111111111111111,
              "#46039f"
             ],
             [
              0.2222222222222222,
              "#7201a8"
             ],
             [
              0.3333333333333333,
              "#9c179e"
             ],
             [
              0.4444444444444444,
              "#bd3786"
             ],
             [
              0.5555555555555556,
              "#d8576b"
             ],
             [
              0.6666666666666666,
              "#ed7953"
             ],
             [
              0.7777777777777778,
              "#fb9f3a"
             ],
             [
              0.8888888888888888,
              "#fdca26"
             ],
             [
              1,
              "#f0f921"
             ]
            ],
            "type": "surface"
           }
          ],
          "table": [
           {
            "cells": {
             "fill": {
              "color": "#EBF0F8"
             },
             "line": {
              "color": "white"
             }
            },
            "header": {
             "fill": {
              "color": "#C8D4E3"
             },
             "line": {
              "color": "white"
             }
            },
            "type": "table"
           }
          ]
         },
         "layout": {
          "annotationdefaults": {
           "arrowcolor": "#2a3f5f",
           "arrowhead": 0,
           "arrowwidth": 1
          },
          "autotypenumbers": "strict",
          "coloraxis": {
           "colorbar": {
            "outlinewidth": 0,
            "ticks": ""
           }
          },
          "colorscale": {
           "diverging": [
            [
             0,
             "#8e0152"
            ],
            [
             0.1,
             "#c51b7d"
            ],
            [
             0.2,
             "#de77ae"
            ],
            [
             0.3,
             "#f1b6da"
            ],
            [
             0.4,
             "#fde0ef"
            ],
            [
             0.5,
             "#f7f7f7"
            ],
            [
             0.6,
             "#e6f5d0"
            ],
            [
             0.7,
             "#b8e186"
            ],
            [
             0.8,
             "#7fbc41"
            ],
            [
             0.9,
             "#4d9221"
            ],
            [
             1,
             "#276419"
            ]
           ],
           "sequential": [
            [
             0,
             "#0d0887"
            ],
            [
             0.1111111111111111,
             "#46039f"
            ],
            [
             0.2222222222222222,
             "#7201a8"
            ],
            [
             0.3333333333333333,
             "#9c179e"
            ],
            [
             0.4444444444444444,
             "#bd3786"
            ],
            [
             0.5555555555555556,
             "#d8576b"
            ],
            [
             0.6666666666666666,
             "#ed7953"
            ],
            [
             0.7777777777777778,
             "#fb9f3a"
            ],
            [
             0.8888888888888888,
             "#fdca26"
            ],
            [
             1,
             "#f0f921"
            ]
           ],
           "sequentialminus": [
            [
             0,
             "#0d0887"
            ],
            [
             0.1111111111111111,
             "#46039f"
            ],
            [
             0.2222222222222222,
             "#7201a8"
            ],
            [
             0.3333333333333333,
             "#9c179e"
            ],
            [
             0.4444444444444444,
             "#bd3786"
            ],
            [
             0.5555555555555556,
             "#d8576b"
            ],
            [
             0.6666666666666666,
             "#ed7953"
            ],
            [
             0.7777777777777778,
             "#fb9f3a"
            ],
            [
             0.8888888888888888,
             "#fdca26"
            ],
            [
             1,
             "#f0f921"
            ]
           ]
          },
          "colorway": [
           "#636efa",
           "#EF553B",
           "#00cc96",
           "#ab63fa",
           "#FFA15A",
           "#19d3f3",
           "#FF6692",
           "#B6E880",
           "#FF97FF",
           "#FECB52"
          ],
          "font": {
           "color": "#2a3f5f"
          },
          "geo": {
           "bgcolor": "white",
           "lakecolor": "white",
           "landcolor": "#E5ECF6",
           "showlakes": true,
           "showland": true,
           "subunitcolor": "white"
          },
          "hoverlabel": {
           "align": "left"
          },
          "hovermode": "closest",
          "mapbox": {
           "style": "light"
          },
          "paper_bgcolor": "white",
          "plot_bgcolor": "#E5ECF6",
          "polar": {
           "angularaxis": {
            "gridcolor": "white",
            "linecolor": "white",
            "ticks": ""
           },
           "bgcolor": "#E5ECF6",
           "radialaxis": {
            "gridcolor": "white",
            "linecolor": "white",
            "ticks": ""
           }
          },
          "scene": {
           "xaxis": {
            "backgroundcolor": "#E5ECF6",
            "gridcolor": "white",
            "gridwidth": 2,
            "linecolor": "white",
            "showbackground": true,
            "ticks": "",
            "zerolinecolor": "white"
           },
           "yaxis": {
            "backgroundcolor": "#E5ECF6",
            "gridcolor": "white",
            "gridwidth": 2,
            "linecolor": "white",
            "showbackground": true,
            "ticks": "",
            "zerolinecolor": "white"
           },
           "zaxis": {
            "backgroundcolor": "#E5ECF6",
            "gridcolor": "white",
            "gridwidth": 2,
            "linecolor": "white",
            "showbackground": true,
            "ticks": "",
            "zerolinecolor": "white"
           }
          },
          "shapedefaults": {
           "line": {
            "color": "#2a3f5f"
           }
          },
          "ternary": {
           "aaxis": {
            "gridcolor": "white",
            "linecolor": "white",
            "ticks": ""
           },
           "baxis": {
            "gridcolor": "white",
            "linecolor": "white",
            "ticks": ""
           },
           "bgcolor": "#E5ECF6",
           "caxis": {
            "gridcolor": "white",
            "linecolor": "white",
            "ticks": ""
           }
          },
          "title": {
           "x": 0.05
          },
          "xaxis": {
           "automargin": true,
           "gridcolor": "white",
           "linecolor": "white",
           "ticks": "",
           "title": {
            "standoff": 15
           },
           "zerolinecolor": "white",
           "zerolinewidth": 2
          },
          "yaxis": {
           "automargin": true,
           "gridcolor": "white",
           "linecolor": "white",
           "ticks": "",
           "title": {
            "standoff": 15
           },
           "zerolinecolor": "white",
           "zerolinewidth": 2
          }
         }
        },
        "title": {
         "font": {
          "size": 20
         },
         "text": "Clinicalbert Vectors"
        },
        "width": 1200
       }
      }
     },
     "metadata": {},
     "output_type": "display_data"
    },
    {
     "name": "stderr",
     "output_type": "stream",
     "text": [
      "/Users/robrohan/miniconda3/envs/spikes/lib/python3.11/site-packages/plotly/io/_kaleido.py:510: DeprecationWarning:\n",
      "\n",
      "\n",
      "Support for the 'engine' argument is deprecated and will be removed after September 2025.\n",
      "Kaleido will be the only supported engine at that time.\n",
      "\n",
      "\n"
     ]
    }
   ],
   "source": [
    "fig = px.scatter_3d(\n",
    "    x=reduced_vectors[:, 0],\n",
    "    y=reduced_vectors[:, 1],\n",
    "    z=reduced_vectors[:, 2],\n",
    "    color=titles,\n",
    "    title=f'{schema_dicts[schema_index][\"name\"]} Vectors',\n",
    "    size_max=3,\n",
    "    opacity=0.7\n",
    ")\n",
    "fig.update_traces(marker=dict(size=4))\n",
    "fig.update_layout(\n",
    "    width=1200,   # in pixels\n",
    "    height=800,   # in pixels\n",
    "    title_font_size=20,\n",
    ")\n",
    "# fig.update(layout_showlegend=False)\n",
    "fig.show()\n",
    "\n",
    "fig.write_html(f'graphs/pca_plot_{schema_dicts[schema_index][\"name\"]}.html')\n",
    "fig.write_image(\n",
    "    f'graphs/pca_plot_{schema_dicts[schema_index][\"name\"]}.png',\n",
    "    width=1200,\n",
    "    height=800,\n",
    "    scale=1\n",
    ")\n"
   ]
  },
  {
   "cell_type": "markdown",
   "id": "14c46175",
   "metadata": {},
   "source": [
    "## Scoring Ideas\n",
    "- Precision/Recall: retrieving top-k results, calculate precision/recall for each model\n",
    "- Ranking Metrics: metrics like Mean Reciprocal Rank (MRR) or Normalized Discounted Cumulative Gain (NDCG)\n",
    "\n",
    "> \"Which BERT model gives the most accurate results for my labeled data?\"\n",
    "\n",
    "### Mean Reciprocal Rank (MRR)\n",
    "\n",
    "The position of the first correct result is important\n",
    "\n",
    "For each query, find the rank of the first correct result. The Reciprocal Rank (RR) is $1 / rank$. MRR is the average RR across all queries.\n",
    "\n",
    "Example: Suppose you have 3 queries:\n",
    "- Query 1: Correct result is ranked 1st → RR = 1/1 = 1.0\n",
    "- Query 2: Correct result is ranked 3rd → RR = 1/3 ≈ 0.33\n",
    "- Query 3: Correct result is ranked 2nd → RR = 1/2 = 0.5\n",
    "\n",
    "$$\n",
    "MRR = (1.0 + 0.33 + 0.5) / 3 ≈ 0.61\n",
    "$$\n",
    "\n",
    "### Normalized Discounted Cumulative Gain (NDCG)\n",
    "\n",
    "NDCG is a ranking metric that measures the quality of the _entire ranked list_, not just the top result.\n",
    "\n",
    "- For each position in the ranked list, calculate: DCG = sum((2^relevance - 1) / log2(rank + 1))\n",
    "- relevance is typically a binary (0/1) or graded score (e.g., 1/2/3).\n",
    "- The DCG of the perfect ranking (correct results sorted by relevance).\n",
    "- Normalizes the score to [0, 1], where 1 is perfect.\n",
    "\n",
    "Example:\n",
    "\n",
    "- Rank 1: (2^1 - 1) / log2(1+1) = 1 / 1 = 1.0\n",
    "- Rank 2: (2^0 - 1) / log2(2+1) = 0 / 1.58 ≈ 0\n",
    "- Rank 3: (2^3 - 1) / log2(3+1) = 7 / 2 ≈ 3.5\n",
    "- Rank 4: (2^2 - 1) / log2(4+1) = 3 / 2.32 ≈ 1.29\n",
    "- $DCG = 1.0 + 0 + 3.5 + 1.29 ≈ 5.79$\n"
   ]
  },
  {
   "cell_type": "markdown",
   "id": "fbf598ea",
   "metadata": {},
   "source": [
    "# Appendix"
   ]
  },
  {
   "cell_type": "markdown",
   "id": "7d0f9e42",
   "metadata": {},
   "source": [
    "You can also use the [bm25](https://deepwiki.com/weaviate/weaviate/6.2-keyword-search-(bm25)) keywords style search, or better, the [Hybrid search](https://medium.com/etoai/hybrid-search-combining-bm25-and-semantic-search-for-better-results-with-lan-1358038fe7e6) shown below which combines the vector embedding and the bm25."
   ]
  },
  {
   "cell_type": "code",
   "execution_count": 212,
   "id": "967c1f9f",
   "metadata": {},
   "outputs": [],
   "source": [
    "if False:\n",
    "    results = collection.query.hybrid(\n",
    "        # https://deepwiki.com/weaviate/weaviate-python-client/5.2-keyword-and-hybrid-search\n",
    "        return_metadata=wvc.query.MetadataQuery(\n",
    "            score=True,\n",
    "            explain_score=True,\n",
    "            distance=True,\n",
    "            certainty=True\n",
    "        ),\n",
    "        query=\"patient has been complaining of lack of sleep and low mood\",\n",
    "        alpha=0.5,  # Equal balance between BM25 and vector search\n",
    "        target_vector=\"text_vector\",\n",
    "        limit=4,\n",
    "    )\n",
    "    pprint.pprint(results)\n",
    "    # response = collection.query.bm25()\n"
   ]
  }
 ],
 "metadata": {
  "kernelspec": {
   "display_name": "spikes",
   "language": "python",
   "name": "python3"
  },
  "language_info": {
   "codemirror_mode": {
    "name": "ipython",
    "version": 3
   },
   "file_extension": ".py",
   "mimetype": "text/x-python",
   "name": "python",
   "nbconvert_exporter": "python",
   "pygments_lexer": "ipython3",
   "version": "3.11.13"
  }
 },
 "nbformat": 4,
 "nbformat_minor": 5
}
