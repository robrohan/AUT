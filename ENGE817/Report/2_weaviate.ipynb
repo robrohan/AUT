{
 "cells": [
  {
   "cell_type": "markdown",
   "id": "5044ab30",
   "metadata": {},
   "source": [
    "## Install Libraries"
   ]
  },
  {
   "cell_type": "code",
   "execution_count": 18,
   "id": "6f1a85ea",
   "metadata": {},
   "outputs": [
    {
     "name": "stdout",
     "output_type": "stream",
     "text": [
      "Requirement already satisfied: weaviate-client in /Users/robrohan/miniconda3/envs/spikes/lib/python3.11/site-packages (4.16.9)\n",
      "Requirement already satisfied: plotly in /Users/robrohan/miniconda3/envs/spikes/lib/python3.11/site-packages (6.3.0)\n",
      "Requirement already satisfied: numpy in /Users/robrohan/miniconda3/envs/spikes/lib/python3.11/site-packages (2.3.2)\n",
      "Requirement already satisfied: httpx<0.29.0,>=0.26.0 in /Users/robrohan/miniconda3/envs/spikes/lib/python3.11/site-packages (from weaviate-client) (0.28.1)\n",
      "Requirement already satisfied: validators<1.0.0,>=0.34.0 in /Users/robrohan/miniconda3/envs/spikes/lib/python3.11/site-packages (from weaviate-client) (0.35.0)\n",
      "Requirement already satisfied: authlib<2.0.0,>=1.2.1 in /Users/robrohan/miniconda3/envs/spikes/lib/python3.11/site-packages (from weaviate-client) (1.6.2)\n",
      "Requirement already satisfied: pydantic<3.0.0,>=2.8.0 in /Users/robrohan/miniconda3/envs/spikes/lib/python3.11/site-packages (from weaviate-client) (2.11.7)\n",
      "Requirement already satisfied: grpcio<1.80.0,>=1.59.5 in /Users/robrohan/miniconda3/envs/spikes/lib/python3.11/site-packages (from weaviate-client) (1.74.0)\n",
      "Requirement already satisfied: protobuf<7.0.0,>=4.21.6 in /Users/robrohan/miniconda3/envs/spikes/lib/python3.11/site-packages (from weaviate-client) (6.32.0)\n",
      "Requirement already satisfied: deprecation<3.0.0,>=2.1.0 in /Users/robrohan/miniconda3/envs/spikes/lib/python3.11/site-packages (from weaviate-client) (2.1.0)\n",
      "Requirement already satisfied: cryptography in /Users/robrohan/miniconda3/envs/spikes/lib/python3.11/site-packages (from authlib<2.0.0,>=1.2.1->weaviate-client) (45.0.6)\n",
      "Requirement already satisfied: packaging in /Users/robrohan/miniconda3/envs/spikes/lib/python3.11/site-packages (from deprecation<3.0.0,>=2.1.0->weaviate-client) (25.0)\n",
      "Requirement already satisfied: anyio in /Users/robrohan/miniconda3/envs/spikes/lib/python3.11/site-packages (from httpx<0.29.0,>=0.26.0->weaviate-client) (4.10.0)\n",
      "Requirement already satisfied: certifi in /Users/robrohan/miniconda3/envs/spikes/lib/python3.11/site-packages (from httpx<0.29.0,>=0.26.0->weaviate-client) (2025.8.3)\n",
      "Requirement already satisfied: httpcore==1.* in /Users/robrohan/miniconda3/envs/spikes/lib/python3.11/site-packages (from httpx<0.29.0,>=0.26.0->weaviate-client) (1.0.9)\n",
      "Requirement already satisfied: idna in /Users/robrohan/miniconda3/envs/spikes/lib/python3.11/site-packages (from httpx<0.29.0,>=0.26.0->weaviate-client) (3.10)\n",
      "Requirement already satisfied: h11>=0.16 in /Users/robrohan/miniconda3/envs/spikes/lib/python3.11/site-packages (from httpcore==1.*->httpx<0.29.0,>=0.26.0->weaviate-client) (0.16.0)\n",
      "Requirement already satisfied: annotated-types>=0.6.0 in /Users/robrohan/miniconda3/envs/spikes/lib/python3.11/site-packages (from pydantic<3.0.0,>=2.8.0->weaviate-client) (0.7.0)\n",
      "Requirement already satisfied: pydantic-core==2.33.2 in /Users/robrohan/miniconda3/envs/spikes/lib/python3.11/site-packages (from pydantic<3.0.0,>=2.8.0->weaviate-client) (2.33.2)\n",
      "Requirement already satisfied: typing-extensions>=4.12.2 in /Users/robrohan/miniconda3/envs/spikes/lib/python3.11/site-packages (from pydantic<3.0.0,>=2.8.0->weaviate-client) (4.14.1)\n",
      "Requirement already satisfied: typing-inspection>=0.4.0 in /Users/robrohan/miniconda3/envs/spikes/lib/python3.11/site-packages (from pydantic<3.0.0,>=2.8.0->weaviate-client) (0.4.1)\n",
      "Requirement already satisfied: narwhals>=1.15.1 in /Users/robrohan/miniconda3/envs/spikes/lib/python3.11/site-packages (from plotly) (2.2.0)\n",
      "Requirement already satisfied: sniffio>=1.1 in /Users/robrohan/miniconda3/envs/spikes/lib/python3.11/site-packages (from anyio->httpx<0.29.0,>=0.26.0->weaviate-client) (1.3.1)\n",
      "Requirement already satisfied: cffi>=1.14 in /Users/robrohan/miniconda3/envs/spikes/lib/python3.11/site-packages (from cryptography->authlib<2.0.0,>=1.2.1->weaviate-client) (1.17.1)\n",
      "Requirement already satisfied: pycparser in /Users/robrohan/miniconda3/envs/spikes/lib/python3.11/site-packages (from cffi>=1.14->cryptography->authlib<2.0.0,>=1.2.1->weaviate-client) (2.22)\n",
      "Note: you may need to restart the kernel to use updated packages.\n",
      "Requirement already satisfied: nbformat in /Users/robrohan/miniconda3/envs/spikes/lib/python3.11/site-packages (5.10.4)\n",
      "Requirement already satisfied: kaleido in /Users/robrohan/miniconda3/envs/spikes/lib/python3.11/site-packages (1.0.0)\n",
      "Requirement already satisfied: fastjsonschema>=2.15 in /Users/robrohan/miniconda3/envs/spikes/lib/python3.11/site-packages (from nbformat) (2.21.2)\n",
      "Requirement already satisfied: jsonschema>=2.6 in /Users/robrohan/miniconda3/envs/spikes/lib/python3.11/site-packages (from nbformat) (4.25.1)\n",
      "Requirement already satisfied: jupyter-core!=5.0.*,>=4.12 in /Users/robrohan/miniconda3/envs/spikes/lib/python3.11/site-packages (from nbformat) (5.8.1)\n",
      "Requirement already satisfied: traitlets>=5.1 in /Users/robrohan/miniconda3/envs/spikes/lib/python3.11/site-packages (from nbformat) (5.14.3)\n",
      "Requirement already satisfied: choreographer>=1.0.5 in /Users/robrohan/miniconda3/envs/spikes/lib/python3.11/site-packages (from kaleido) (1.0.10)\n",
      "Requirement already satisfied: logistro>=1.0.8 in /Users/robrohan/miniconda3/envs/spikes/lib/python3.11/site-packages (from kaleido) (1.1.0)\n",
      "Requirement already satisfied: orjson>=3.10.15 in /Users/robrohan/miniconda3/envs/spikes/lib/python3.11/site-packages (from kaleido) (3.11.2)\n",
      "Requirement already satisfied: packaging in /Users/robrohan/miniconda3/envs/spikes/lib/python3.11/site-packages (from kaleido) (25.0)\n",
      "Requirement already satisfied: simplejson>=3.19.3 in /Users/robrohan/miniconda3/envs/spikes/lib/python3.11/site-packages (from choreographer>=1.0.5->kaleido) (3.20.1)\n",
      "Requirement already satisfied: attrs>=22.2.0 in /Users/robrohan/miniconda3/envs/spikes/lib/python3.11/site-packages (from jsonschema>=2.6->nbformat) (25.3.0)\n",
      "Requirement already satisfied: jsonschema-specifications>=2023.03.6 in /Users/robrohan/miniconda3/envs/spikes/lib/python3.11/site-packages (from jsonschema>=2.6->nbformat) (2025.4.1)\n",
      "Requirement already satisfied: referencing>=0.28.4 in /Users/robrohan/miniconda3/envs/spikes/lib/python3.11/site-packages (from jsonschema>=2.6->nbformat) (0.36.2)\n",
      "Requirement already satisfied: rpds-py>=0.7.1 in /Users/robrohan/miniconda3/envs/spikes/lib/python3.11/site-packages (from jsonschema>=2.6->nbformat) (0.27.1)\n",
      "Requirement already satisfied: platformdirs>=2.5 in /Users/robrohan/miniconda3/envs/spikes/lib/python3.11/site-packages (from jupyter-core!=5.0.*,>=4.12->nbformat) (4.3.8)\n",
      "Requirement already satisfied: typing-extensions>=4.4.0 in /Users/robrohan/miniconda3/envs/spikes/lib/python3.11/site-packages (from referencing>=0.28.4->jsonschema>=2.6->nbformat) (4.14.1)\n",
      "Note: you may need to restart the kernel to use updated packages.\n"
     ]
    }
   ],
   "source": [
    "%pip install -U weaviate-client plotly numpy\n",
    "%pip install --upgrade nbformat kaleido"
   ]
  },
  {
   "cell_type": "markdown",
   "id": "c90bb679",
   "metadata": {},
   "source": [
    "## Imports"
   ]
  },
  {
   "cell_type": "code",
   "execution_count": 19,
   "id": "99dae71c",
   "metadata": {},
   "outputs": [],
   "source": [
    "import os\n",
    "import requests, json\n",
    "import weaviate\n",
    "import numpy as np\n",
    "from weaviate.classes.config import Configure, VectorDistances\n",
    "import weaviate.classes as wvc\n",
    "\n",
    "from sklearn.decomposition import PCA\n",
    "import matplotlib.pyplot as plt\n",
    "\n",
    "import plotly.express as px\n"
   ]
  },
  {
   "cell_type": "markdown",
   "id": "4c658fac",
   "metadata": {},
   "source": [
    "## Create Schema and Populate DSM Data"
   ]
  },
  {
   "cell_type": "code",
   "execution_count": 20,
   "id": "9050dff2",
   "metadata": {},
   "outputs": [
    {
     "name": "stdout",
     "output_type": "stream",
     "text": [
      "probably already exists Collection may not have been created properly.! Unexpected status code: 422, with response body: {'error': [{'message': 'class name DSM already exists'}]}.\n"
     ]
    }
   ],
   "source": [
    "client = weaviate.connect_to_local()\n",
    "try:\n",
    "    dsm = client.collections.create(\n",
    "        name=\"DSM\",\n",
    "        vector_config=Configure.Vectors.text2vec_transformers(\n",
    "            name=\"text_vector\",\n",
    "            source_properties=[\"text\"],\n",
    "            vector_index_config=Configure.VectorIndex.hnsw(\n",
    "                # https://docs.weaviate.io/weaviate/config-refs/distances\n",
    "                distance_metric=VectorDistances.COSINE\n",
    "            ),\n",
    "        ),\n",
    "    )\n",
    "\n",
    "    directory = \"./chunks\"\n",
    "    for file in os.listdir(directory):\n",
    "        filename = os.fsdecode(file)\n",
    "        if filename.endswith(\".json\"):\n",
    "            with open(os.path.join(directory, filename)) as f:\n",
    "                jsn = json.loads(f.read())\n",
    "\n",
    "                cks = jsn[\"chunks\"]\n",
    "                for i,c in enumerate(cks):\n",
    "                    with dsm.batch.dynamic() as batch:\n",
    "                        batch.add_object(\n",
    "                            {\n",
    "                                \"key\": f\"{jsn['id']}::{i}\",\n",
    "                                \"title\": jsn[\"title\"],\n",
    "                                \"text\": c,\n",
    "                            }\n",
    "                        )\n",
    "except Exception as ex:\n",
    "    print(\"probably already exists\", ex)\n",
    "finally:\n",
    "    client.close()"
   ]
  },
  {
   "cell_type": "markdown",
   "id": "b5e76f03",
   "metadata": {},
   "source": [
    "## Tests Query"
   ]
  },
  {
   "cell_type": "code",
   "execution_count": 21,
   "id": "513eeb39",
   "metadata": {},
   "outputs": [
    {
     "name": "stdout",
     "output_type": "stream",
     "text": [
      "distance: 0.14292281866073608, certainty: 0.9285385608673096, score: 85.7%\n",
      "Anxiety Disorders\n",
      "persistent and excessive fear or reluctance about being alone or without major attachment figures at home or in other settings. Children with separation anxiety disorder may be una\n",
      "----------------------------\n",
      "distance: 0.1457483172416687, certainty: 0.9271258115768433, score: 85.4%\n",
      "Sleep-Wake Disorders\n",
      "###### **Associated Features**  Insomnia is often associated with physiological and cognitive arousal and conditioning factors that interfere with sleep. A preoccupation with sleep\n",
      "----------------------------\n",
      "distance: 0.145846426486969, certainty: 0.9270768165588379, score: 85.4%\n",
      "Bipolar and Related Disorders\n",
      "Inflated self-esteem is typically present, ranging from uncritical selfconfidence to marked grandiosity, and may reach delusional proportions (Criterion B1). Despite lack of any pa\n",
      "----------------------------\n",
      "distance: 0.14879298210144043, certainty: 0.9256035089492798, score: 85.1%\n",
      "Depressive Disorders\n",
      "Appetite change may involve either a reduction or an increase. Some depressed individuals report that they have to force themselves to eat. Others may eat more and may crave specif\n",
      "----------------------------\n"
     ]
    }
   ],
   "source": [
    "# client = weaviate.connect_to_weaviate_cloud(\n",
    "#     cluster_url=weaviate_url,                                    # Replace with your Weaviate Cloud URL\n",
    "#     # auth_credentials=wvc.init.Auth.api_key(weaviate_api_key),    # Replace with your Weaviate Cloud key\n",
    "#     # headers={\"X-OpenAI-Api-Key\": openai_api_key}            # Replace with appropriate header key/value pair for the required API\n",
    "# )\n",
    "import pprint\n",
    "\n",
    "client = weaviate.connect_to_local()\n",
    "try:\n",
    "    collection = client.collections.use(\"DSM\")\n",
    "\n",
    "    # results = collection.query.hybrid(\n",
    "    #     # https://deepwiki.com/weaviate/weaviate-python-client/5.2-keyword-and-hybrid-search\n",
    "    #     return_metadata=wvc.query.MetadataQuery(\n",
    "    #         score=True,\n",
    "    #         explain_score=True,\n",
    "    #         distance=True,\n",
    "    #         certainty=True\n",
    "    #     ),\n",
    "    #     query=\"patient has been complaining of lack of sleep and low mood\",\n",
    "    #     alpha=0.5,  # Equal balance between BM25 and vector search\n",
    "    #     target_vector=\"text_vector\",\n",
    "    #     limit=4,\n",
    "    # )\n",
    "    # pprint.pprint(results)\n",
    "\n",
    "    # response = collection.query.bm25()\n",
    "    # https://deepwiki.com/weaviate/weaviate/6.2-keyword-search-(bm25)\n",
    "    # https://medium.com/etoai/hybrid-search-combining-bm25-and-semantic-search-for-better-results-with-lan-1358038fe7e6\n",
    "\n",
    "    results = collection.query.near_text(\n",
    "       # Because near_text is a purely vector search, you get a distance instead of a score.\n",
    "        return_metadata=wvc.query.MetadataQuery(\n",
    "            score=True, explain_score=True, distance=True, certainty=True\n",
    "        ),\n",
    "        query=\"patient complains of inablity to stay asleep, low mood, and doesn't care about day to day activities\",\n",
    "        limit=4\n",
    "    )\n",
    "    for r in results.objects:\n",
    "        print(f\"distance: {r.metadata.distance}, certainty: {r.metadata.certainty}, score: {round((1-r.metadata.distance)*100, 1)}%\")\n",
    "        print(r.properties['title'])\n",
    "        print(r.properties['text'][:180].replace(\"\\n\",\"\"))\n",
    "        print(\"----------------------------\")\n",
    "\n",
    "finally:\n",
    "    client.close()  # Close client gracefully\n",
    "\n",
    "# Most text embeddings (e.g., from BERT, Sentence-BERT, etc.) are normalized, so cosine similarity is between 0 and 1."
   ]
  },
  {
   "cell_type": "markdown",
   "id": "dd2c9907",
   "metadata": {},
   "source": [
    "## Fetch All Vectors"
   ]
  },
  {
   "cell_type": "code",
   "execution_count": 22,
   "id": "1dc92070",
   "metadata": {},
   "outputs": [
    {
     "name": "stdout",
     "output_type": "stream",
     "text": [
      "Fetched 1957 vectors.\n"
     ]
    }
   ],
   "source": [
    "client = weaviate.connect_to_local()\n",
    "try:\n",
    "    dsm = client.collections.get(\"DSM\")\n",
    "    response = dsm.query.fetch_objects(limit=10000, include_vector=True)\n",
    "\n",
    "    vectors = np.array([np.array(obj.vector[\"text_vector\"]) for obj in response.objects])\n",
    "    titles = np.array(np.array([obj.properties[\"title\"] for obj in response.objects]))\n",
    "\n",
    "    print(f\"Fetched {len(vectors)} vectors.\")\n",
    "except Exception as ex:\n",
    "    print(f\"Error: {ex}\")\n",
    "finally:\n",
    "    client.close()"
   ]
  },
  {
   "cell_type": "markdown",
   "id": "a8e6fc43",
   "metadata": {},
   "source": [
    "## PCA and Graph DSM Data"
   ]
  },
  {
   "cell_type": "code",
   "execution_count": 23,
   "id": "e1618a33",
   "metadata": {},
   "outputs": [
    {
     "data": {
      "image/png": "[encoded data removed]",
      "text/plain": [
       "<Figure size 640x480 with 1 Axes>"
      ]
     },
     "metadata": {},
     "output_type": "display_data"
    }
   ],
   "source": [
    "pca = PCA(n_components=3)\n",
    "reduced_vectors = pca.fit_transform(vectors)\n",
    "\n",
    "unique_titles = list(set(titles))\n",
    "colors = plt.cm.tab20(np.linspace(0, 1, len(unique_titles)))\n",
    "\n",
    "plt.scatter(reduced_vectors[:, 0], reduced_vectors[:, 1])\n",
    "plt.title(\"DSM ClinicalBert Vectors\")\n",
    "plt.xlabel(\"PC1\")\n",
    "plt.ylabel(\"PC2\")\n",
    "plt.show()"
   ]
  },
  {
   "cell_type": "code",
   "execution_count": 24,
   "id": "d69764d5",
   "metadata": {},
   "outputs": [
    {
     "data": {
      "application/vnd.plotly.v1+json": {
       "config": {
        "plotlyServerURL": "https://plot.ly"
       },
       "data": [
        {
         "hovertemplate": "color=Neurocognitive Disorders<br>x=%{x}<br>y=%{y}<br>z=%{z}<extra></extra>",
         "legendgroup": "Neurocognitive Disorders",
         "marker": {
          "color": "#636efa",
          "opacity": 0.7,
          "size": 4,
          "symbol": "circle"
         },
         "mode": "markers",
         "name": "Neurocognitive Disorders",
         "scene": "scene",
         "showlegend": true,
         "type": "scatter3d",
         "x": {
          "bdata": "6+DBNxHl/j9dyNnFiy7Yv33RlKg+f/Y/Kq3aeYlE6D8839CmXtv4PyDgqbYX/uk/pck0h48P0r+J5vO7ASzjP7VH6Oi1c+E/Ma7goOWt07+3Q8+I2QPbPxK3RWE/NgNAlnizsObv2j8AlKz3aXqyP9l+S8lujeW/8xa9nYk33r9pKG/0oijNv/YjnjPwl26/VHMU0X42tz/ykar++O7AP+oJ3HVmK+6/KMHCYcYc5b+gX2JzdtjAP4QQeRca2u0/w1WnPjnm1j9dxr/7NWb2P6q5hC54bPg/Z1a8la+r17+UijOpdFjAv9IgQieQMrE/gKnWD8hs2L8OdSxqbsXVP6FyWZ30F94/6GZDdpHN5D8uDedTh1jyP0YRGwx6zvG/Wv7T/AIM0r/rTfuVGXDiP2BL9Mx/atw/i8zVmC/kv78q5i+/Wrzmv/I9IEorFuI/kTHeAaTv4b+krBfs0u3CP1CO0dyi2+E/lsurfxL7l79NPo/fX3TZv5w/FZUWLsY/NjXTJQcr6j9wk9IOycy+PwG62h9pwPQ/50ffFa5a2j98mhaF57brvzyZJwm8KOi/RjgMEuzlrT+bD9gnMz3ov3ngBMrjze+/qfxupot35j8/KYspKcHbP3XLhCDKRrE/UjHzFpsxzb9NA8ii23fkPxsJcjx+NOq/RmlcrjWP4r8CD5mbDQSwPznC7BNRR+s/8P7amFJe4L+PAtoLqXC/v62uCcKMSbk/rjLjaTWH67/VAIyLMvgAQErrueW62u2/XPADFi9Q6L/pvnudIx3uv3KzD41+DOG/DYz5Oyjm+D8sMo8ygwX2P/oH6lTnJes/dfxgL+Fvsj/SB8lbVUOhv4gAldWIpdw/Ob9mvH5c+78MvDyWsFr/P5dMHLjUPfU/EOiIklkU1r/iqwGoTmzmvxBCHQ0ctNS/jw6Jj4/T7D9i1x1r/S/gP78a2IDP84m/YIYExzV32L+01xEvPiTDv4p3QU2n2Pg/I1JBvyn32D/2W4+8Wwfuv1DTY59dhOI/L+DN5IJn0r/0ypGlCZXAP+WZhOgXFdG/1tfFDjfOuj/eMxB+88fdv+PzlDdBr+C/Eab0cVa5xj/QFAf/sV3hv4p7cHrxzMk/rHe/26wM+j/xP11t6wXwPylk+JhSnde/Fk+gLgAbvT+jyJWyK/XZP++ui+r0C9g/sm5rtmme8D/naMqjJijZv0QcTyrneOs/jpvID0+zlr9XD/ioVmHRv/Wp54wqE9A/JaBjyoYq2T+vzEe3nHPev91uELcyM8+/Gkdbf7sqoL99iA033h+yv+TvaFzvn94/9VxAjnGtvD+jQXxBLm7RP1s/3IA0ydI/vE0gOTA68j9xKG4sYNrvv5vfogO4XNm/TPiC9Fcc+D/MkK35v37Dv5W7IjYaY7Y/wF3zxVNq8L/ShTecPbnEv40Pot29rcI/8+6kDapM4T8JG6own+DjP9E6ypfRK/C/KlVuNkz+zL9CxII/72PwPxp2Axau7vU/I1ozl1l/2r/LsGfVbqDOP1oC+gNX1vC/PDRZ0yWw+T9Ch8HJpXbfv8V7pfqmSPK/GmkwRAIM9T+NXvZ07hcAQJ1uSC+Ji/C/VP7ikLuOzT+33O++4ef1P29yKhshQfM/OyAM35H/vj9DZQryopjmv/aUivtB9eY/e7Sjz39N6b8+o+mPHhXHv1YIfWBSheS/HCKrY/9v8z87ngvyfQ7hv8GE3wW6D+a/SdBQTon78r8yi5ZW7CKiv9V/WJM0J+2/it4gyBU68z+K1IfutWrcvw==",
          "dtype": "f8"
         },
         "y": {
          "bdata": "VJj1q7kE1z+Wo/UXTn3hv/1sreicxwpAg83gE3QL2j9THtMUEBr6PxB6C+BUGwZAabM3DrGR6z/d7yGd0UTwP/Bxw1Jbw7a/PGUpxxtdqT81+QzpPK3nPxYNqsT23Oq/hDppeI0j5z/wRoYDixjOP2FQjcd2VdO/X+736yXu1r9gQyZAX27hP6RgogEPj+Y/l5Hu1E+m9T/2ZYI/8hjGv/0OslPKS9q/Fj4dVSY8wb/wSxUnDRrRvwn0Yz6QobE/uIiKwJ643D/3jns2gq/+P+MPwyQjUfM/ZiV95kuZ4b8RIiNmW0bFv0aiJiT+W/c/ooKMfqh+xL9lgE+/wDDhP/k7n8QpK/Q/9AherR8k8j9pvay3W7TxPx/kQycWqt6/RK5jD5MEyj/+HsfQ6EXCP0gBoXyE6ro/YsW3kpcKxT+VlGy152rLPxTRPMGc2uc/zVscgGYix7/QfjzxfN3BPyEDAgWST8W/YIKtQ20C8D8zvtWzdMzgv515TJrY6eY/Of3/g86Y1D+ukrWya5fNv+VLYFit2uo/befGymNQ0r+4lJ3JYV3lv38AQK/g8NC/xwlluay25r9mYu7dFNjevys+b7pQaNy/CnBvh1Mb9T+3LYX0KPXyPyeMX0KyScA/gZsT0y58rD+FEsq4sMHgP0wREXPsy8a/pt5iSqyvyb8qAs19uyDmP1c1/zS9h/U/I7tz1WfTxr99v4AxUfLgv0/BNuO6w+E/bnm7TwNbwD8VPVbKfJ/yv9Yw+PnQSNO/c+5+XBIlyz8Ck3HbszHjv63z0jc7LLU/6wpTIqYx+T8EooTRk0rFv4Gk9edtyfk/TevwFmaUvT/6tRbA/zzWv4AFrpDVvPc/cfhHDaKu1b8hKARMGPnnv/5nMlyADta/kJXQZhql5z+HZF1oRbKNvxWCatUZjs4/ViqM7NQr/D9K295Q/MPkPxWrOsKHj9e/5aiUSepF0j9Mks+p+OPdPzNVD2TdQvg/qS6JZl+R8z80/WaSggDXv0Gmb1+ntfQ/JLT7Eeozsj8g3MP65saiP/tI7Sp7W7E/yWKpXJgZ0T9yM52SPKLhv6X014xugrK/ZfJ1bSqYsj/58zvOjE7ev6avnJ/mtKQ/+7ARTitd5z+Oo3o4WiLbv0FUn0e+Z7Y/QXwWkNL+xb/Kqlyepzmbv1cJEuchG+k/bfn3wXGY5j9ulChzZyvgv25RQPgYAM8/bJnsyr9mpT+hmQlgdUvsPwpBnJjPsNY/VSjNXNuhvj/jL50mqofUvwxAeS3Omq+/G+CIeET99T9Uy8ilRADQP3kgxW25f+c/N//sCU3CwD8ehCoXKgq4P18GCsvWar8/+wUsVScm3j89nTNetHW3P9o+d4J5DrI/lDCumbsh4D9V262NinzTP2/n7taN0MS/pgo7Cf+I5D/UR9fbizf3P7QyoXI76dI//SlwP5fz4T/Q7xo9YTr1P4gvTJ2dqFs/0ERr6X51sj9EylcWG1Xiv/SZdEUO3vk/QiK8EejGnD+8MMn5AcreP+4uxiO6Qeq/svrTxQoA5r8uL1Eq4B/VP02Im8iA/OG/DI0SDUDB2798VhxC2NrhvwmnsRyvXN2/dkDnS+RRuD8vD0HAJC/Gv6nld5N1x9M/Sr3gxPSLoD9m1T7Z2wSzPwKk0zdhPpk/O9BeCCXV4r8LOqm+GUPqPwqqG5WMvuo/vemxm8Ee3D+EPEFqfMHBPzpqweAHkNO/t1jehEWvzb/4LGRSTtrQvwpqXdaxqNM/ytWkE84eAECFtwu7e3/MPw==",
          "dtype": "f8"
         },
         "z": {
          "bdata": "8/QgOdpG1L/WKu5uo+CoPyooOmFitKQ/+NlX09bv1L9StBWiqQvkv32ScTYthNW/XHXrCksT6T/1Y15cOOfjv96GHhsun8Q/CXvIIIcZsr/AAM1sw9/yP0QU5xuFL8A/k4Ahey964j8i8RwySnzcvwe66mgsobK/WtQUu3s+y7/FLdMpBRHkP9VCJbhUddw/rxWAqn3tzj+JdEGQ2rjwv6leFUz78dU/gS3Dd3zd3b/7KPEvZ/Pav1Edlqqo0LA/Sdnv4xzYxT+hUYMrsr7gvzl8hU+jHd6/E3SByDneq7/PbICf/4nJP8gdirxPy86/pHyb5eeB1T9YxoUIsxrSP0jgW1X2HtU/cH+XViB19r8fjbcJS+zCv+IvcA/PgrG/NQKsl5Iz1b/t/ZuQZI62Pzf4Q0wdtNO/t9utqokm9L8AjK7lQBDlv62iz3vum9Q/WtpZUM4/47/PlwPQD8rBP8U8GUorurM/9VFz98b0vL9Dme+mRTfnv8pIX6drHty/GpHRAFvWsz+j3ruUezHtvylBOXo5xbm/8x1HWqYFsr97aYSIJiLlv4iHCC+TxbQ/MMzUJ+Hu5b+PpOFmHLPAPyf0T8Y2Gty/W6KXZVYu5r9+Yi85p3qSv5nqvGykjO6/3S2kCEGD6r8kLRg+GG+QP/A63TnB/tO/+rRHTXxa4L9wJDdinuzev8DYFWEXCMq/Y25WY3ks2D9GdzVTr4/ePxVe0GXU8+C/BbidUqQls78o6i+5/1fXP4DO1bWvPNi/yYNKhbShuj8+FIu9v6i9v6RIXYRRSN+/8n7QGu8o47/UF772bqF1v5dQEQpzPb4/Re/D+yn12b+dSZrEm2fiv0n6cgbM0M4/czva2VU96z9Meg/5OVzTP/GGuc4w+Iq/TctAkzP1679tn+Fp/n/pv/8uhsKzQNC/JsF+44/7oL+tPKek62XDP4qAl9NrnNq/7ayoKED/2T/mQT9cOw7ov96DbqlgS+S/IwRIgvK6m78QWfZeaLraP9NnvEWejcW/2HpkRaCtwb8VgXh+ltfav0dHLBMQSdU/xNBxlnqA4b9h8az9cxiFv7ZXqZrBZKO/uA+FGH7g8L8GrXcCvVTxv6WD7H/Do/S/VOIGeJRQ4L8Qm/HRciiuPz/602Zhv+K/VbsgasinmL8j7ZdMbHnKvyuvBIP7/dS/BKQOPjHP8r8R/GHthzjvv+S/6z0pK9W/mPeSlcfK8797LeLJlj3hP3ji60wRFMu/6eGX4W5q4r9fGlYrSZaKPzH9t6qQM+G/fEvtEQgI2j9QxWdDtqPjv75bV1Cdv8e/7ycr2o4S0b9mrrsf54/IP66iZMrdzdW/v2tzya2Au79pMR2Q+dHRvzhpa89b+tG/QjMFBx2Wn78Q3DVjijfgv2ZKkgZBEs2//rrDVvx5y7/fPwt4ZsHRP+84Md824Oy/CtxknIbK5r+8jBGiw/flv2MbCEFv1eG/tR6uPhFSkj+CSMYeaYbFv4yzkyz0y9W/JRk8DoR8579cuV62jreIv21Ae5Dg1tC/leGIjHo+tL+gPdqY8Rbnv8Uf8aHaJvC/IRXUYMZxa7/duWNQH7jAP09+JK3+HfC/dR2wAiKmxL/XeNuxjbatPxonw7gGlM2/t9BvCqr06r/lhVuUtqzBv4cy4w7EvsO/mhZkAgnyw7/WkZlE/KbVPx965txlVOE/u/aAX2Fgij+q1W4l5Iyjv3el9wrH4ue/KVaEgDgp279mCH8Kh9Tfv12XaC4mVd0/QofesWW0wD/bGp4ILqjqvw==",
          "dtype": "f8"
         }
        },
        {
         "hovertemplate": "color=Sexual Dysfunctions<br>x=%{x}<br>y=%{y}<br>z=%{z}<extra></extra>",
         "legendgroup": "Sexual Dysfunctions",
         "marker": {
          "color": "#EF553B",
          "opacity": 0.7,
          "size": 4,
          "symbol": "circle"
         },
         "mode": "markers",
         "name": "Sexual Dysfunctions",
         "scene": "scene",
         "showlegend": true,
         "type": "scatter3d",
         "x": {
          "bdata": "P2A4OEE60T9r+W1TvvRvvzo8OAXQU+e/Zmju+pi57L9r5Qg4ENrgP1IhOX6UyvY/YE2nYMCD8b91kH/UpbXTv7/deC8L6uS/HnNybqhE9b/0zyUnlZjtv2Tb2RBxXPG/vgRDeWmw9T+oAKh8cmDqvxBQ1eNlOss/dqxR7GJE7D9iJkmtkRnkP428Fvs2ifa/cJH2F00C1T9gNoj2q/vfv+S53csqBr0/x/VcQ5vj67/nhPljLLHhP8PtFxy3jui/nYJK2hB6/D9w569GDYjpPzib8J1e2+Y/gm07rkWF1D8UN4cPh3jrv8PfDzotEcw/kPBK4B08sT9DvVFgO3q2v9f0ZS5TgeW/nLC6cRo6+T9zcycmrG7jPzWe6OKoLqw/HuRR0nn+rz9X9caJy4LOPyCdjI7KJti/ZkIfbwU62T9oIOZ4Ecuzv2ERfQYQcuQ/Vd/zgXBY1r9V/c/9IAvwv6dWbRCkuca/wlj54ygg3T9htapG6fXpv8z+J5Qv69k/u9oQ4kFE2T/QI6l45iHqP64SYoFcRte/sftkJnSQ2b8qY7ImKZjSP+KVnoTeLui/59huqP6T9L/wSdrL91DqPwUBpkBweMk/2hiKeCB0/z+pK0YU7sXyv0I39jZjBro/lchHCUHJ6L+lg0r+VYfXPyFinJ853eG/IQNSLrJf6j8zZBL7ysvRP7ulI3+kJuI/W6N6CEsv0z9E2pfEv7vvv8yuhDJpYua/ies6PA6C+L86AMfMIPXgv4V0+NwSj64/+MoEwf+C6T9dIWrOQmD1P4+HLhZNw+G/AukTTpY977+XqUBSTe7Yv1645qV1vK6/20pZuasq6b8AyYe6dBfRPw==",
          "dtype": "f8"
         },
         "y": {
          "bdata": "XIONCqjE+D/L5Jnu1FrLvwxFVY0DvOC/G8CQm1J+wr9dV9rc7fHfPwzQZBmAa+m/jL7njUotvL/uwDtlzYPevz2Tbr/ha9+/xkxlxlhNzb+754UjGOjYvyOJpwILENe/rDrFnIsI5T+lYWslDVzgv4cdXiTXRMY/y3X1V+tR1T9yL6rhByDdv/7TD25K4NG/fsLvdF8Rhb/Gy+sgE5biPx0AWMcjYaU/wqJlE1a95z9wrL8cVNLnP6uJefdk2Ji/ieWMqkGk8b+hrStJugfOP1u/hSvm49c/z7C79gBL6D97GB2sa6LRv/WE9jmJ07e/fB0Xx89i7z8pyfDJxajSv8GBGTJtCcu/arPRSpsP07/zDiJn6enlPwWAMy/Wsu4/8uUbxmcA4T9nO4lLoCDWPxzZEz6nS/A/7ifZqYoO6T9WrzpHjBbDv8KyjB2KFeQ/8R90RnoXx7+T4+rIQzbgv9CBuK0dhaW/Ug9TABJCpb8SqUgNofLOvxKmg+v7bsI/oWK4wQcQyj/OGc4zGUD8P/AG1cfbP52/pdXZviWBzL8NPW7FtH7Qv7HZK7d3KKG/xtQOtNKw0b8Wqb0w3GTfv1c5yXRmA7w/teFIf4xJ1b8vpmgGNEbcvzKXP9WR7da/C6dfNn+Nxz/2MG3VNe/wPw/yp0API98/Ty1ZKOf61L/dhzK3w0zbP7xhnGpwhd4/R1i+oPq34T/K/LmfZQjXv9dOlgCSD+k/vBUCueod1L/lenCCWALlvzM6UO7Jp+I/MF3iAp0kxz8iMX20B4PzP9fB03aRJ92/znKy2n4R279PB+2FBqbXv9/wcFfq4OQ/Eik8n6c5yr8MYlrqx3bmPw==",
          "dtype": "f8"
         },
         "z": {
          "bdata": "ohlRnJJ+5T+oSHWG4mzYv+DeiQ7/aMK/z4s4kRHP1L8riejPcOzSP6zsW6eIeMW/Gop7lzfJuz8B0HXw3nziP/Dli4cjVek/PA54JTCkmz+LE01raE3tv8kyt9p+TrK/KQPrTdTz2b8+0BxGNxG8P4MII/ZNIdS/YLgoR2bUxL8WxV/yQeWuPzeqV9o1U8y/Tg0wxxiQ4L9Ppo1gHEraP+vMwnitHd2/jV1QJJzc4L+22Bi+eVbov70Nh0OOYNK/AxMWPr/SjD/KKkqOOJXSvzUjtKN5sLQ/hbXT+UL23b8zEISlUba9v1S0q35EEeG/eQT+17OVuz+vHhpkRTHAP7iRVi8aXMo/M4OfJTkxw782BlsXp0rKvxmk4KPbqdI/ZxLsa5uhtT9UJlckCzbjv24J6M9Vb9U/8I/YqHPX5L8Kn2D16ArHv591S3LoZNO/VXfW9jIpwj8swrP9PuPYv/b1SDRmmeO/kcjBih8Nb7+hfPXUnCDsP3P7DA//ouC/i8gZHzqnyr+xG5wvJB/zvzljN2NTRde/HLljOKRQ2L/MFE3Nbtfhv0g83Opj0uC/Z1jEdXYD2r/KDEAhRfHGv2iYiRxFHsu/Lj4dUVdkyr+IxlFDhlPbv0eE0bA1R/O/G4Iv//134L+tq7b9EO7Hv57cU7dx59O/Sje3r8nVzj86PRmgaBrYv+CP2XsuzNm/1HvH303eoL/lKcdaXY3JP2XbAMiIwqE/onRL4AMqzj+jGkGEOtbov4DQB0nWQqs/MJBGFII+0z/XdBs+Y9bYv7YwxGcLuKo/pV181Cf51b8CivHw3EzWv6xndlJdQeq/OL5t3T2s2r+jM9JFYgnGvw==",
          "dtype": "f8"
         }
        },
        {
         "hovertemplate": "color=Dissociative Disorders<br>x=%{x}<br>y=%{y}<br>z=%{z}<extra></extra>",
         "legendgroup": "Dissociative Disorders",
         "marker": {
          "color": "#00cc96",
          "opacity": 0.7,
          "size": 4,
          "symbol": "circle"
         },
         "mode": "markers",
         "name": "Dissociative Disorders",
         "scene": "scene",
         "showlegend": true,
         "type": "scatter3d",
         "x": {
          "bdata": "UHdibAVA8L9Szzj8Ny/uvz8/NHm1dso/YIt5YB4H5j8Bfny8pArOP+VUpD/WLtI/HQOeh6on1z80gKYpWyDLv94b8sEdTO2/feqHKiav6b+/9HBm8u+UP2RjzZe8W+6/+iSXRUgr57/wVmBNGOzNvz/Z4JOar9s/z3xqLeeW4b+hTy3a/iDRP0ZqqmFRz+O/++nsp14qzj/UTfho/1vnv40P6+lxk/G/49p7tLP70b8G23jZcMnpv6s6RsoZxd0/UB/MfRg1wr9gtpjm/Xzzv+iDcUgareq/rNGoLe2O9b+D1JywQVrAv1St5zsU+sq/C8e1/ZQ+7r/MYtKhnErTP6z8bNwWotg/GUyG45Yckb/GeGYwfaX1P+g9eunjNey/HyxP12vJ3b/5mokr3x+uP5xQKjmUUOC/afSEqwGGw7/gat74gkHov12rfjTK5/G/Jt7thyOZzD/L1d5QeO7rv3mABJ7yGN4/6NTYZr0GmD/MZbSMhNjhvw0QaRtUvuE/nQLNvD6jzb8U1o8jcxfzPw==",
          "dtype": "f8"
         },
         "y": {
          "bdata": "IF/mPURXtb9yf3kxLr+9P1nwU25gT9Q/41udmSAl1D995gS0o0q9P6pc7XwpktC/NLhKouGegD+nyJ3hs7LQv7ZghJMBLOK/zBFxz5jL4r8jwz7MPwfWP2x4yafDzdG//1/1PHE50L9s+5uHTnvgPzvX/8IKidI/KkaeasWt67+SLi2ht+Tgv9wZCMEdV8U/ncB1BoHW1T9hfDa++k/Av429nfT7aNu/qty+cS+ayr+le07Ue7KRv0w3ybRHQeM/bxflI3+N5L9+z6YVYuTnv/JEcfwqRem/Os9R9hVEsr/5CgiI6TOaP8ZPyxQviru/I6KDWsXs4L/hkunTZGjZP+/9qKpkf5A/GO01i7f51r/mPExdRJzgv+mgWxF/Adq/5nEg/+fJ1D8Z/9vp89vYv1q8vynl9dQ/Z2AmOXG02D/nELvsNfW1vz8OwfOn8uC/x3gWh/3prj8JO8P/XkjwP0z6tUForMI/PYaASQYNhD+qtEnU0zvSv5mXp7uKL+g/luar2Zemwz+FiAiHLTqmPw==",
          "dtype": "f8"
         },
         "z": {
          "bdata": "rwPOOJKSxj+Ml4zGP0GaPz279+oZP8K/9xg2Gpjb0D9BVZdt5+CEP1atI7T9OeE/wJksrYOU6z9CAsxz4CLGv7vsXl7Zntk/bapS/hgoqL9zQcwJsFfQP0z2QOEfZbW/8Vk3VOlU4j9O1y+08CPFv67632xuVNg/S9/NhOnnzT/njQ3oN7ncP13wQ2Wy0tA/XgAVpZ7UrT9QmVsawHvEvyNX50flPtE/XNJE5OGa2z8taIeoNU7mP/Wzjuk+eYY/86rNyWKQ5b8DoFOvdXbFP4wCSCUcqcc/v6pI6xVhwD/ssD2KicXOv+1Lwh0Ynay/JVV00ImFxj8OWJncdj/ZPzaxWmL4wL6/OV9Jb/c32z/wOpct/H2pP+HjQBU11L8/IM0uO4yk2r8mvMcnzSu7v8B2LB6wDJE/Fx/RAvroxr884kTo9rzbPwzKumSrB8C/TaQJcXH/xj+vrgrWGRHlvydgL0OJZuo/kh5OUSQw3r9+yMRBh0a8v7AkunH2yZq/xeH37TGY5D/Ef2F+lj+ovw==",
          "dtype": "f8"
         }
        },
        {
         "hovertemplate": "color=Schizophrenia Spectrum and Other Psychotic Disorders<br>x=%{x}<br>y=%{y}<br>z=%{z}<extra></extra>",
         "legendgroup": "Schizophrenia Spectrum and Other Psychotic Disorders",
         "marker": {
          "color": "#ab63fa",
          "opacity": 0.7,
          "size": 4,
          "symbol": "circle"
         },
         "mode": "markers",
         "name": "Schizophrenia Spectrum and Other Psychotic Disorders",
         "scene": "scene",
         "showlegend": true,
         "type": "scatter3d",
         "x": {
          "bdata": "hsvrNaHS5b/ub623aj/hv5e3BTStoti/robs4oYUt79aMmS6gn3Cv8d6iorahtS/F/C3gOW79b9JV6PzoA7FPxnHldQuJby/MJlFfCAVz79HfKThAuTvv33KKpQp4v0/s+ttyem45b+D7JIKnKHIv1IQzlzRNNO/Ft03A6os7b/Vv2n/sq3HvzVpr9GGbt0/SMqmqMkd7L8UXgx9yPCovzpM6bdfRcO/+gOeLaOn6r9c5q0+cY/uv0d5tHYUyv0/FatYZNmcpD9DCQjDEsyZv26Uvjg+F9y/2bPh0yFurr9AnXpo/fHTP9Q4IaPFZeC/ETglSbYe4D9zslinl2HjP1DoabsrrtO/vv5BTrH97b8KlhlYWgbrPwKkAdcocFY/N0d+GhM2478vaEnWavPlv0WOjAc9WOm/R15etTze079uULO9seLEv+RanNwhSPa/WIauauAiyb9JCMPKX53TvzUKYPsG4uK/knqMh4rT879TSqqmD3DgvzSxU5RDtOI/ixtZ3iMA4r/2hJk+pb8AQJhUg1p318M/E5ku3Zm48r99jh/x/yDrPw5r3xBchdQ/CHie6Fwh5T9W+e0tCsrWv7g3T7rOwN0/ReBbzV8j4D/pSn+/y5bOvw5viVLaQvQ/Uv1NRfTg7L+Q8WiDpdbJv7NTEDnFHs+/LAMvMg287b/dlIlz+yTtvww9qhTRM80/BJ/FXnEP6L9SujTU8SHZv7TpG1uU5cA/Mr9F7Z4R378gwROrVH3vv6x222x6gPO/C0i2l1Po3r80EtcxqN7UvxwuG3gq5OO/GVxZq5YR7D9bMbHngFTdv76+wSAzbMu/9V6MZH1w5r+9hma8QWjOP+iDwn/9o9A/TQn5EJTZzb8t7fhO+571v5UkKKmME9u/nQ26cMGE1j8=",
          "dtype": "f8"
         },
         "y": {
          "bdata": "lIA7fm7a0j8KsaTQA5LRP4xf7zZzCeM/oXVtKC0P7T/M8Kye7wfgP07N7WjGPNE/4YsUjHyasL9EBDO5SlvTP6HgwSCTuOG/CgZ8f3Dx3z9joN+FmXrgv/slKKGSs/G/UwS/Hpnrxb9WpZbQH2usv4MBJatDIOQ/AHinHSGF478LRhTA04rbP2QwFR1uLvY/iOi4fpsu2L/itGNG5RDqP4d8swFeZuA/elzjUZMnpz/kQQ1IgbHIP+abxbiZve2/l8WslG480z+z6hMyN1vfP3K0igiMJcc/Vv8JK8bEyj8CqfGt7xH5P7ao5PvHAsG/AgDTL67B7j/KUr0mMhC+P5J4O18Jytc/BtOMlVGC5r8zTWRXRWz2P8oNPxVue+8/VOsFegxdzL/zCbKaOnzTPx9bL3vC+tU/QY4uRwY2wT+TximLzq/pPwTumzrXJc0/tfFb35QB2T8lPi9zorTtP/5jHXZRMdc/WcV+yRwK5b/Xtzs6fMHIv4oCHN2ORO0/KoljIzpY3z/DJUfMpkfxvw/Z8s23Tuc/D6fTNk9Jxb/spSrblBDRP2SfzY1rA/E/pAcdCzh49D9TjDE5pSuUP+U0AlkaS+Y/X+zGxOVp1j/KeCibNPLUPxWCyOEVU+u/6CGVwo083L/mvd2q9Z/jP4QH6u8LIua/mEiNUqD71r+TLgv+jVXFvwsPR0DJ3OO/PHE8hCyC3b988FDYJfbcvzFwZjfxPus/JKvqJk0l3D8Tt23GBqHLv2eh76LmmdC/6wHAtQ872b8FcM/PJIvYP8zq2wpH+ec/CxQrDikh8T+Z8r4WchmnPwyKLsMHjOM/Ybyaf4Mv6T8iDG38UZ3oP9AmRiS60uw/4YOcRps87z8iD8mSUyfgv9ZmVTsvsdc/kx8XjDI6AkA=",
          "dtype": "f8"
         },
         "z": {
          "bdata": "JOU/9/M17D8Rc/lXx5LdP3Tzo88T3eM/A825K25n+j9sYmVutHPbv146OyAG/+a/jPIzFZ085D8Zc/ilETTvP8Pvjcjh0s+/mGUSfEY6rz/mz2wWPIrUv0fKxsrHe9M/mpVTTeltxb/AE3ilfi2Lv6urKKcELNQ/apBZEN972z+d+ufvqsjcv5cb47Ozbd+/Rls2P66Azz8l8LubWd7Sv2o8OfypmbY/zwcgCiH6zz8i78weQNjwP/jiizo5gMk/9PX9Opbz8D/FhXn6LTHDP0/7aWGJNeq/whXrMOO13D9Hn7T83jjEv8Rrpaf0dbu/m2Qh9NoswT9pmNfekefKP7bOnV/lgcO/bi3b56qjyD+aMxs+bwfov2Hpk1SFCN0/eZjGE5UTor/kbICgClHQP0SikJFiRdw/BTBcM9e3u7/yin5b56KdP2yxBo9xGvY/gGYAWfZH179vBSuInLnwP4GX9lHlcsg/6eylW/BG6D95FsiFJRjkPwiePniY7eS/OC9vDRRTqb9Tglug1TbRP2uLicowvpo/aEdv+Jo7zb+s+u1Rr/fYPzibZBpy9fA/BlmwlDz24r+BF/GGtoLGP+vZxa9cIvI//IITDp1C0L9MmQC7aXzMv1T6JFv+4do/lB6DmOSGvz8n+OzgGy3Sv30w6dQoDsi/6JZoj2tp6T+wiSU9/fehP8ZftbkmR/M/jOL2W1qWu7+BvRQmriqxvz8p08wd4s+/aTD07xDXu7/m+FLEjqXRP60Y6hn6Vac/KLtuhqEZjb9A8eCMbOTiP/0258iKreg/eUc1LRAA5b+AGwPhS57dvxThRpgAlLg/rNYkRCT38z+eIZ8juQz1PyTlzrO7ONm/CbvUTrK25j+JEacQgdTEPwUV6yKGDcK/iVO0p73qz78=",
          "dtype": "f8"
         }
        },
        {
         "hovertemplate": "color=Parasomnias<br>x=%{x}<br>y=%{y}<br>z=%{z}<extra></extra>",
         "legendgroup": "Parasomnias",
         "marker": {
          "color": "#FFA15A",
          "opacity": 0.7,
          "size": 4,
          "symbol": "circle"
         },
         "mode": "markers",
         "name": "Parasomnias",
         "scene": "scene",
         "showlegend": true,
         "type": "scatter3d",
         "x": {
          "bdata": "IstUZJJSub+R/PSiG/3eP1JHgbjuqrY/UODDNEh21L/LUQxh9gjsPxkjxE/tsMA/jIlEcVyswj9YBreF1gXvv3d1xHXyU+w/SBL8FCFQzj+DEoOHLwimv2REYyxUr8+/SOqt7xQfwT/FBig0w6brP0kCHv5g2bQ/8bW3GaWE4D9qnRquUhPHP0X0o0ljVty/p0BjaxVV8j/zukR9X/Ktv81FONP0k9C/Zc/zvZHzyT9rT9Z5PzfXv6/mvAw/AcO/4/lKAIUj8b9XksURYeDAv5uLB9HJp8A/XfNlx7oQwT/SCXtT+sbwP0fUQMzrJ+o/jUtGJePK5T9+I+llW97Iv94Omq+psvw/x3vXmtiF7j8BdVxyFaa9P/w7gG8QHcw/2w59ZB7Ozz9eNLnCbzy6v77LLM8mcta//tonnUzz+z+R9n1ltZbavzDwgkhoyt2/I3o0ogHy8j/4V7zHeifrPxpb+whRMN8/SdvZ3lNx0r8YqedP2sCov2y2f4qEfrI/+Nt1Ay4i5j9tiYtLPXzrP+rBGFkyf9e/kxZBMKE28j9cpJs6mQzSP6nA7zK+i+Q/Z4fc4CYdwr+pvd1Li3nHv3iR1Kqafd4/JRwPLX8D4L+nmvcqco/avxwZW1ZJarc/PjQm7Qkw379FSw+GwbPoP/GYvCs+s9M/3tqyLiST4b8=",
          "dtype": "f8"
         },
         "y": {
          "bdata": "7B6UKUoN479jKGGOxInMPxyng4uezcK/S1UodhOclj81ginROE3ovz9N5MZvG+c/6xwVy4Zjzb+XMs2XJ1PnPysViIqX+dW//tYmb6trxb/20CQM8pTWvwTbugRcce2/u9RVOf6N0T8rE3oSURBuv+BMrUJ7pce/caxxG2Y51z87likmV0jWv7i67/lZiZw/TeP022g35z8ucaQ/BDPgP6ansn7YJNm/IYQrK0bboj8t2YDeoNvxv5dhryCP6sg/N/Cm55UqqT/r1U2beQLvP1kdS1BAw9e/1LfAvrUP9D9pvnHq2ozOP/FGjopDAMG/A0PWhY2MxL8+WW+CeSTiP/QzCMzGDfK/l8f7LY8UwD9oBkQaOaXTP1CVnAGEkdA/RUR3LN7A6z80O9S/P6r0P4WHEGMGYuO/XTqILht+9z/lkXZI/B/kv2puUqHFR9C/pc2/aEYP4L/vhArLiczCP0zekfnAw+G/M1Ik5Ns95b86rcFrExG+P2EAnBmTF+A/fseIBc8Zp790RuFQhd31P/KZSQOOku2/X4eaKJtSv79YDIeBSQPLv08nAi0zRda/2IvEc8pKkT/ugL2vV6qkP0e7HXbxtdI/GqK0pTgV5L+KqhDmChfhP95lFGOYJaW/HJBh8Ntz6L/z4M6E0jnZP3znq70cr9E/MrZncYk07z8=",
          "dtype": "f8"
         },
         "z": {
          "bdata": "2yxBHlNA07/fV7EjbDeaP+KO9Q0JpbQ/jJvPygY55b8yjn1tQRvAP0dNI/ySium/3E5p5RMFw7/6SRoKaL/Ov6a7zKG+ErY/oxaUKI/N5j9PjBulOaLBv1r915O7w/K/NTM47hOX4L/PEFqzVIPgv4t/WeiX3tm/SzIFUNh17D9Mb1Ii75LOP83s4FanmuQ//Zbwo29L1L/PpCRG9XB7PyAkGnXZyew/6/u+Lux88L95/xaR272wP+cJTp5HlXe/jwcoFWPk5j+aNAQImNPHP7qOJ0Z82+q/vFsCEZiQ1D+ScFoG3NDpP8RHhPowetm/ArXlKi4f5T/xM0dZv6fgP4m2uyjEUq2/wJZFSGos5T/7hYdleevdP4HlpMt56/M/fDigd8+4pL8qECvENU/YvyGT6mGExsK/4F8GSBbB4b/nIvTzmIDIP8w4LzXDMfK/pgRW6Viyor/FWTvNwCrIP36msbjZ78w/xd3duBUZ7L8OdtVSpE/vv0eciQAhtuA//Pr3RIqWwD9SK9pj82ykP9O04ivLucK/NnqV556hrj+Xx7S58qnmPxkWBG1MmOQ/oaI02okq4L8Nvmz8vBXHv/4/9zZcRtI/qx1XFxKS4L+1mN4NEXXSP7BWV0I3tcO/ikwGjk/5tr9tx2hwOTywv6pJnJ1zTtm/LMoINUJOpL8=",
          "dtype": "f8"
         }
        },
        {
         "hovertemplate": "color=Disruptive, Impulse-Control, and Conduct Disorders<br>x=%{x}<br>y=%{y}<br>z=%{z}<extra></extra>",
         "legendgroup": "Disruptive, Impulse-Control, and Conduct Disorders",
         "marker": {
          "color": "#19d3f3",
          "opacity": 0.7,
          "size": 4,
          "symbol": "circle"
         },
         "mode": "markers",
         "name": "Disruptive, Impulse-Control, and Conduct Disorders",
         "scene": "scene",
         "showlegend": true,
         "type": "scatter3d",
         "x": {
          "bdata": "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",
          "dtype": "f8"
         },
         "y": {
          "bdata": "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",
          "dtype": "f8"
         },
         "z": {
          "bdata": "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",
          "dtype": "f8"
         }
        },
        {
         "hovertemplate": "color=Motor Disorders<br>x=%{x}<br>y=%{y}<br>z=%{z}<extra></extra>",
         "legendgroup": "Motor Disorders",
         "marker": {
          "color": "#FF6692",
          "opacity": 0.7,
          "size": 4,
          "symbol": "circle"
         },
         "mode": "markers",
         "name": "Motor Disorders",
         "scene": "scene",
         "showlegend": true,
         "type": "scatter3d",
         "x": {
          "bdata": "pJ24Ax1L+D8km/SCfhK9v44ppAcJyeC/Y5xwuHzCwz+8Op9A0KLVv3FvSavo9ey/EK/6Mi6r9j/nImwNFkW3v0QpRZVQFOi/oXS0Ktpg7L9d9/N8C/TRvyunVVyqe9q/jWiEyo036b9D240ctyvzvzw96sTAWtu/LiuUm3A2nL/i27AnT/OavzfbCPlnvc+/6pPQOqc15L/R0v8JI+zCP0V8qPuHBcc/bo9rCm2M0D/np/vse0DrP6ZzrbPTg9k/YQ0+ztyw0D/ozWhozHLHPxjnAgPkUqS/WQlEWY211D+eICDz3P++P2Q4FiKD39C/i21yl+To4L8ROFF5D83wP/OflEaHg9S/",
          "dtype": "f8"
         },
         "y": {
          "bdata": "77FjBJBl5b//M8xtNGVRv2gcbzEOWd4/e9lFArtLur/0YWhemTHOvwSz1XEAYvK/Mp67Q7nM0j8AfU54eHXQv14HMMka0uc/Yrq5Fniz2L9In8n2Xt/UP16IO27xYeS/kv5CpHIE6b+rM8kXycTov9BzYDMgFs6/bAEmosh2w7/Nnukq0YXKv3dJO1wPW9e/aIVUqqBa6b8wWcyvoMHGvwzQw5LNZc4/7LNcmiD+zL9GN9QUw+SbPxChompJAaw/CpyW5N78yb9043IMZzHBvzXOPjmpnuU/K7gxMdp1vb8r8MEEUqLaPyNZaWOlRs2/vJlNS0tdu79ldzPZ+lnSP+m0bHo3DKk/",
          "dtype": "f8"
         },
         "z": {
          "bdata": "U/Ea4mI11b+yPd9nOLzGvwV0BgdAUsM/p46v8kUx7b8RHwcpTom6v/f8rRlU5ny/q5XzjcGmzb8dbYPmr53vv2IRGwehg9e/GmoAV03e2790UazOEgfgv+P38QNvUN2/4mYG5L42rj9d1q+JTezmv4d52nHh4MQ/sJkFZxFlzD9GURy3kyDXvz/GlGEb8ue/SRhgK+ymsT+Z10iwCT3gv5ETfVdwG86/VBgUmAygvz8O0kd66v67v7VbWjN4dN4/+gfo7QjH1b96+B8qPv3DvwbPLogyZ8K/AHMdnjEr4T87eRgJqjnDv84KeQDcGMO/E24s8v+i4L/dPk8dxTjsvyAjm5KT0cS/",
          "dtype": "f8"
         }
        },
        {
         "hovertemplate": "color=Obsessive-Compulsive and Related Disorders<br>x=%{x}<br>y=%{y}<br>z=%{z}<extra></extra>",
         "legendgroup": "Obsessive-Compulsive and Related Disorders",
         "marker": {
          "color": "#B6E880",
          "opacity": 0.7,
          "size": 4,
          "symbol": "circle"
         },
         "mode": "markers",
         "name": "Obsessive-Compulsive and Related Disorders",
         "scene": "scene",
         "showlegend": true,
         "type": "scatter3d",
         "x": {
          "bdata": "qwzaFHzM5r9nmOnLsyHAP+Z0BR2Fvtk/2pd6fyftwr9Tih4yoXOVv37bNplKGNU/7OB4np3Y67+j/c7FxcvjvwCseryX2b4/M0as1Rxk8r/V1ypT8hfXP83d6YUM1eQ/pTXKjo5n4D/gYvk9RkDjP21T4RYPEt6/vAY/B/Q23T8JDH/50hvnPzD+j2eGrOo/ezF60upS6L9UzpuRFHniPzlj/GiX9tC/+dJkBKS58L+9gbZY1L6/P7xElmARovm/InY21DFPzT8K/1AGTsXYPxg6w76vqOA/GYczUZsL479SSBcUVqfUv57/3lFQHvK/X1phyeu4r78deiR2jtbkv67srLligeG/OzXzTg5Lm7//7lHIYO/mP+Nl331hJqG/gRyKr4W64D8xnLXfykfWv02rGeTvWcY/nnU3Uwoh0b8Rfgz7nmzgvz0Bzzn2rt4/TWbFzlfE6r+Li3fV9Di/P7Syn0P50s6/L9+8yH3N9L8h07G54g3uP1I7qQtjy+S//rcD1HTg1L8r4mwBnBbhPxRwNR8oKc+/428fmwgK1785b3GFZVfXv9M5yVJ2jOU/2dbnnU+rAEA3V0nM/aG1P3mmXiJ7Qe+/EQ7zjYrK4T+ShfI7dV2ZP9OlKKYmRbA/WNjn9unOuL90E3si8J7iv67vYXlSKsm/OsDRv22Dwb/x+jQKP+Pgv6/NCItFd+Q/+LTacx776b+IJVfhHdDjv5HN3CB6qdA/4ElP78R44b9sBNwCgtzSPz4GX4Vnbug/CzFnm524wT8wYeEiMMTxPyCiEvaWtcm/bQqq0NFr6b9giNK3ya/BP7/ITY9VwbG/U3CbhYCX07/kS0IGst7wv2cwgpK8Vc4/BpUd3hCi2z/ebOibNK3gv4SZoixcNfc/j48P1Mgl8b8=",
          "dtype": "f8"
         },
         "y": {
          "bdata": "MAJA5t2y5z9Gy4Z5ypPJP0qdlH7GjNW/4cie+Biz4j8krhdc8BLDv1ud7b5PPMW/JTkLUDO15j9cen6Z+hrUv7gzlotg198/zPWY9WZfsb+7gaAvarPAv0lDzt++TO6/f8paGIPHwj+dFYdy/Uy4v8/7W7G7t+4/TwOxgica6T/xyVUCMaDdPx1M+IhhfPQ/kOXQwtuv47+zfC74h/fsvxbm6ZQO6OW/4+PKlJuL0r8RyPmZfr/EP2T3hV9OR8k/+vs03IVVuL+sW1qggJ7OPzQJfgVlcJc/4WNGyhmH57+dmNIUYH7jvxRRrU6wfsC/JnoSiMO70b8Svc81PiTAv0w6GvFWdfG/8sjHiyPm279d+GfpupXOP9wvdJFyqcY/xniXlsIO6z+4evBYZXjUv2gqXDeArOo/KUDzqBYyt7/+OD6U8HnfvwdGNd2ca9S/e1UL5Pny0L8NqVazmf7bP8T0r+mqG5k/1DI+gm6W2D8/F/GxOymkv6a87b2Rjri/+a+E7dsS1b/HsC1lg9+Sv+Z4JIp3kdW/9j4NLvMBoz85N1xQhlbXv/UR13MPk9W/HDXT45gf8b+IBojXE7/Hv9z5sZb8ksS/x/ULci4Pvj/RAurmLpqnP2huGMmFl9k/DBkwxbUR1b+e0hfnJVfjv1ykkeVSJnO/PaJ2temR5j9BnI5hK+/vP/+JwR0SWtQ/wnmXfsab6L+D+gdBJ5frP28lkFJZp/A/5p6mJ2E+sj+Jw/Fhs+zSP/rrS7/Oo8Y/3/MEhgcp1b8uZIbhYbbSPycZWzQd9uo/Zh68lMLz5L/BfjSXDrfmP9fo+tzCic+/ko5QdvGhwz++G2SY8gPqv+2kDE2uT6s/2wkUjSI30b8uzUGpb7vFvwRXvE6AnABA5sIluhzI4b8=",
          "dtype": "f8"
         },
         "z": {
          "bdata": "o8S+EmZd3j9DmqmVP8S1Pz3M3+/f6da/I5jDRbB+8T90+Yhhv1jZP40ZygZA+t+/HsQWbrh49D+mHyJBOBfivwMLkSn+PN8/BK4u5jMlzD9VowuYagakP1oSrCrRQsw/ZJOz4Wnt3L+3uQXH9NrJP6wU2htC2bS/6nkBSW2917+yQe0atajovztstR594bS/YQArwC96zT9IK13agNaBPySsu6jkOeK/U0vYAmXI7z/7be2i7LvxP7YEMSip9Oo/KpT+2jdN67+EsKeWHUnNP6MW6wUuFuk/KnEP5ER40L/5RT7KHxjmvy4LI0zVDeo/8RIkmUFv47+kOFKmyv7Svw5OjTAF6uK/DWo9OlND37/ev8VMeynZPxD/2dwvR8g/2lOhn1kX4L9S4HlatzGWP0Rt8EBaje4/d/WK+uKq2L/WKEk/icXTvzL7HaPpLao/P+2NleZ/0z/VDWDQiwniP30y99wZlay/CtitSIdP8T/1oeRjU+/Qv9/qoLs3vdC/nQnJHgZf0b96Fx5MJLe0v86MGzOh0Nk/Ce34C+pl0T+n6yLizXnYvwm/dRQ/4OU/0oDUQgKscr/c2vqvEqDiv2Nc5MmfpdM/xhiuFUD82D8mn99sVvTwPxlSMB92FMI/7sxuwlCqfj+p2pJb59fFv0yh4L2MM7+/g6iMcc2m6T+BxEivk4zkP6eqcqomgdY/ariGwxLT1T9ehFi4D0fcPzCu7HAegOw/XbASKBD72T8Etgz+yfXgv9xqomO4n9o/F/w9tZIs9b9w75FXClTIP8WLMYAyrc4/8qiwVkfU3r8IT1eVRhLjPwVHHl1nleQ/VdFxPiqc8b86gto+yYTKP0khz/SdgOO/yB2kSTmQwT/AcZ7qSw7hv+EDxfNgTcG/9iWz+H4Wuz8=",
          "dtype": "f8"
         }
        },
        {
         "hovertemplate": "color=Sleep-Wake Disorders<br>x=%{x}<br>y=%{y}<br>z=%{z}<extra></extra>",
         "legendgroup": "Sleep-Wake Disorders",
         "marker": {
          "color": "#FF97FF",
          "opacity": 0.7,
          "size": 4,
          "symbol": "circle"
         },
         "mode": "markers",
         "name": "Sleep-Wake Disorders",
         "scene": "scene",
         "showlegend": true,
         "type": "scatter3d",
         "x": {
          "bdata": "sFFyHrFe2j9nMf2RssHsv6XGZNFf4M6/CZu7JgBmor/1gFx/0NnnP3u09Pr9yde/DbEkP3vh3b9Z/eaCd+iyP/zKTSP26cK/XZbJE669sT9REXnW5QbBv4GElmx178U/+sQUvMYT2T82/cNOs8/1PylUOE7Hi90/wm6KHWii3z+tQ/XqcB8AQIB6TQGZm+K/os/RbgnZ7r9ITpReVIbhv/qclDYeCOQ/n2EN/kMy2b//sN8Imlvpv0aJY7Xnn+k/QEQg1Di17T/FCCddeYH1P4N5SvfnlLM/z22EwfW57r+6yu1mNfXdvyjyhZZOF/M/K9XkCqmltz/Oeqmi+Eblv6eu0OcdJ80/+2rtQ4+5+j9na7c8FSzXv40lWyxGqtW/dcRfH9C34b/U6evI/gH7PwRttpjl89w/2+yKXqjQkr/wpG6NGWPkP+TcEIK6ON0/bR58g3aOrz+aQmLi7ZyUv/KatgAXY7S/ivFm+IGC4T/95yehLE7oP7Wv2kRoDmm/rMALgghi1j8fy2NHgfDZP4IEtHyZyOM/AYIw3M595b+Mj3Rpwabgv+V6hVlEVbU/L3cPX4nOUT8AnrWSazW3P49tPnsRNuW/N4+2HdAE5T+mN3/Z3l3ovw==",
          "dtype": "f8"
         },
         "y": {
          "bdata": "gFwD9MAA1b9dljopNRjGv5Q9ilthq62/Th2adsnH1L8T7FQBLYOxv/Zdu1aiSI+/rGkujyhDrj+/3685lgvBP1cXlkWHs9s/WwHJpcQB4r9OANQwV4rqv3vldXOJ3Oe/MtNNNoLi2T/aWTch9EPpv9C56CggO7M/XUVQy/ORw7/58gWvp6TkvyM+YyGNLue/+49KvPKgwb9fASqrFcTjv/l93opd/8E/wTC1SnRM0r/QfmvXkuLBv71XphMvV9G/XxrzdsSU5j8/9cIuua+cPw5p1uND0rW/4UNek2kK4r/ZrvNg7xjAv9/yj7BESu6/5L4CYZJe5L8xEXlx/szyvzQyGVqw0dQ/mY+XNZXa8b/X8E6zWrDiv7ZBOIaZBt0/SPDIZRAw57/JRpXIfjX1P25iuD7PTsC/+hQsspBS3L9/g22iadW9v1RlKLUGrao/NszXA6aXyL/JLQUL3ezHv9mtx4b50uC/F4msOhag0z8Ez5A9Dci+P4IdTRWI7e2/yyvoEO0Y5T9E7M1sIiGdP9sdQE/zZ82/OWsmyzdK8L8alYhZ4grSv382EB5S+8W/8JQn41TS2L9K7y9oafzQv+aY5PHFOea/yaSnA0f8cb/u5QhecSPevw==",
          "dtype": "f8"
         },
         "z": {
          "bdata": "gJqwB1gxw7/TjEvauqHivw5GDgazd+K/Afs9HkxE279SaO0V6N/Evw1yWSrTQOQ/V3r6lj2J1D/Ea5CCRz/KvzVmKUIN0ec/P+CCrtg9x78vGZ8Q+JrJv6YdSm2TbdW/E2HAeEL1lz+9lpg2ZH3RP8yUY8Bf0I2/zpRMO1D30T9FicEb+lXFv49MSdgRDtM/YPZSRmBAwT+zrcxaQGnQv/w1uyH0NLo/C6Ny8w3B1L8lk08vZRbdP3X43aU65+S/Entc9tsk1b9blhbU5jfVv6ojiT1IDLI/a/+vZddXyj/sRzj6y7fev8DDEg/X7sq/Ep5ly+It178j4y372t+2v4mrprWCxuG/67Q7B1c9w78rb3j1XUfhv9ztBds8qdc/y5K30zCV07/R3hXsKrnlv2m7APvaiOI/9H2Lm+1Y4L+9rEaQ6tGmv2Im89UylNi/5B4EJaEy4L+YoXfHRZSAv/l9ZLKRTrY/Oz94hu0z7L8TyOXiljvePyqTS+PyC+a/5c14yKK60r/Usez0oWm0v1Fci6xCQcQ/q2NibMup0b/V0dl1ANW1v/cSLlGHANm/ezfL3PZ03r95RKImvnrcPyfRABQHuto/kB+0W2p22z/n450BgWnJvw==",
          "dtype": "f8"
         }
        },
        {
         "hovertemplate": "color=Anxiety Disorders<br>x=%{x}<br>y=%{y}<br>z=%{z}<extra></extra>",
         "legendgroup": "Anxiety Disorders",
         "marker": {
          "color": "#FECB52",
          "opacity": 0.7,
          "size": 4,
          "symbol": "circle"
         },
         "mode": "markers",
         "name": "Anxiety Disorders",
         "scene": "scene",
         "showlegend": true,
         "type": "scatter3d",
         "x": {
          "bdata": "N9SaoRsa2D8aHblARNPXP2rQ70EFxsW/1dVUpird8T/9Y0gXCFjdv00hmIaTyfW/RFxovqxN1j/EuReOXDzSv0DEaWk+XPO/vEPcAOfe5z8eTDm5Oa3Rv189zg7PDNo/nTMhSGpF0z8qqX2rn2bbv/KEsTNHD/C/n7Fy7wPW4D9XjjSUjwf6P8bqR4BHTN2/aAyv+sZA3r+HS1ASCXDyvzudt5BJv7Y/zenBDil11j9HoQo6gCjwv/5Je2Q/UuA/gXha8BOSwb9OBmqigJ/Ov8wVc5eR292/+vxWoqiQ0D876zFqG7cGQLEkaG2jUtM/5gSNZs/Vtj/+m6jTgFjJv6xfteb5E8Y/ZbcFmq78vb/pf+ebFH3sPwUTOmVq3d2/GJlxpb4I9b9l2PAyCU3kv7EZeTzcXOK/fzIeVAoM7b9azVohabrqv4aOwN2pMfO/ZRk/81d/8b92r5J2/V+2v8f3D80Nf/C/iKs1kMXZ0b9CuBU/6HTxv6f8W4ttlsQ/nwA6L4Go77+M5kkCpIUBQAq9kw/MReO/9iaGafzs3r/s5o/kci/qv/oyH0/MKtA/tEj2Qj5Jxr/0r7L1i1nuvy++7jHTN9M/tRQ5e6xf6L+bHXk4ObDnv9a7mG+q/cU/11QNkXVK0j8KugbetQ3pPz0uDUWxPrY/nmb4Y1SCmT/eWUuaNQDmPz2x6ZdCD9q/xXPXaPj6BUA6I+98yRLmv1Z7u6so/be/Z03Ml3qm1z/3AJYaZrfgP1Y9ot/D5+u/BgVJpXFa378nQFO7KBjaP8GWSDzeH8g/kJaix0HZzr8C+S8f/jDvv9FNtjX1M+u/QJzDhL0htb8T6Jn6pZeNP757nBlZvvC/V6zVzAXF2z9Fot3FUVnyvwmMa3HUsfS/epnQo/Ua8z+GAhJPNpLivzEHySW6DNm/sLEji1xMqj9/Noc66VTevyvh2PRGN7W/NHxbdU+RA0BzgBfmsxbhv8zBesqTCMA/cdQ2R82P7b+N8aWut7bov8Z1iv4Xq9W/Wf0Bq+bU2j+TjcDtzYnjP/5YZKSnoPC/Q6NGUPg40b8b/9YM587fv7K3ybv/SQZAOyaR4Ty47T+aOBVeif6rPyielWyERNE/bP37GvYx1L9s414KvkzSPxfbTdzxn/S/e6H305/jvT9MSE2SuCLPP3WnbYiOhOa/9QwAoa9hw7+TshewPTDwv9FVA9wKE+C/8SKCeiEEyz/fTvPwMp7zv2AB7tMF97O/C2fFkMvaoD8=",
          "dtype": "f8"
         },
         "y": {
          "bdata": "PtEX+rwvYL83bXWKD9rpP0ftEj6TaOO/7dcJUx3Ftr8uYQgAHqjfP2+B2cd3J9K/C1xhO94J8D9PV6Awuj3oP9vDBL2s1da/yIr9TAAn0L++p039Y2D0PxRLjoSs/b+/LPK/9buQ6D9WjElDTSvbPxR2gBiHSeW/ZtvbXyZ40z/3+vdEzejxv72fg6yJWae/z5qKs+JA3L+x1HHQsEHmv+284De+99y/yctyFi210z8oCk78wq3pv9QpC/UWrOI/JqrMkWUk4j9lbs15w57WP9kD0HwXrry/mboiz/NM1D/bZE7hwr3+vxOS4FFGbX+/I0G+7K/Q3T+mKnclBcLMvyjpM9Ep0d4/K5CoSpIHvD+Zav0mZrmZv6WAOShuhpg/L7/A8Nvn57+r5D2hJnjjv/fb1esZVuA/58I4DVwA479W5UBr/sLbv14b9Isxl8q/gM1JjUWM47+09Gau2t/iP1qpJwaXCcM/HJ5ct4Hx2r/YIf67FnLiv2pA5KG9R7E/EKQy9Y1h4r83s+v4RK/6v8UWVSlxr7o/IMVnEsUztr/MpHr7WK/Cv+Oz5mCxNqe/H2QFtytUk7+jvzsTSkvBvz98n4cBbdY/6dbwpy1Cmb8kZH4zKGHGv8k8IPejGOM/b0qiWZmv3T/ZRwy4ObbJP6/CAD7vzeU/duZEGJsY5T92qafkPtnFP4/Zxkr3tLC/PlugR4MX/L/1wjhuL03jv5O4AMqS97I/iVpi7wAh1j+vM2R/2Jbpv9Fjx+oUs96/ujEszIrR17/18MNABV2sP58kzsMeV8w/yjcrEjmZ0D9zhadSaparP5AHQjejc+c/xKx6L+yErb8CX5X2fRHlP57rPt0Ft96/22pF9h7czD8iaXlAN/XlvzB0NaN8ubs/958eaK1y+z9RA9uFNgvrvxZMK30Xk9q/faIeZWvF4j/czu6eBPhBv1N0/1ANmrS/tU+ieVmI9r+IEtKeoETlP4nNNPdJFNA/SO/mCtJD3L9hzQMGiPvbP5NbxMfq08Y/QXECyHW8bT/x6z7sZ8ftP3ITOxeDANa/rggW8Ktawr+SxY/EUzmBv1MgZReJa+E/CrEiPLIg7b+amJR+O+bVP6BuH60py9Q/GA9K/rzq5j/MCeSJZnPSP0yRrkslvOm/QQbUt3hp1L+B9U8UNpsrP8IXbRkyMNW/3/gwavma2D99gubaKj7kPylzAbZ5Ida/rjBK71Ut8D/7zk+jRU7av/gbRbtcL9k/LJfsdcPm5j8=",
          "dtype": "f8"
         },
         "z": {
          "bdata": "Eay1BFzo2T/Whn9JGnngv0lQrhGB7aG/3xZyos/L0T+ZKQctQXDbP1HTuX03Oac/dV/KyKNA8D+zVn9KnhvNP5RsijevasU/66CJu6Km5T+LLUgyYD/BPxVxwh0mSMW/XJ+rWIFdyr8aJUzVKj/YP6EOCDBqjeM/RgHxhdD8ob/IPWqz9L60P2gYY4d3Z9S/vJyM9HaC7b/kC0kQ9VjEP1KvQXOrxtU/gRIRI8jN5j9eLXx+IRe6v7UDgZbDGPU/UAKotkKk0z+lsiWPYyzJP83ZaHeGxMA/gJRjVuCM6T/YYi3eH5HePxBzvPYqwsU/fOfsEzVn6j9Wnib8Hxv0v7EOZMLnxdU/iCeV2/bXp79lG8TOPTXXPyqfd8u1286/7R0yi4+zx7+1wL5ILXfbv8qk6HPgM/A//WPHOoIq0b+F4aUFV5rOv5ZUs2JYu+4/Tvs5M/qQ1z+uQQyvtRTbP3c7t7Nbq+w/1uc055/g6T9yY36WzPLWv/BI26aZOeQ/8c4vtJe5rj879w8M7wPNP1cdyjBIiNW/o/BZvbUq2D8oFJ1F3kDCvy3Mhh+WWMo/CeWH+GONwT/TjtT48UHQP20dHL0z6fM/BNVh8cuF5z9yN+MWkwPPv8yjMmV9X86/7juKJpRF7j/Puv/NZNzfPyvkT62TCfM/RmWtC5PDuD996654RZjlv5O8LiwmP72/l0e3IEgq4D9q8BTwMKHjv9xGb1VSdPC/LAsuXIuK1T+bXKfeY5LrP/qMbXSv5eE/FtzYdeyixL9vxd1PGnzgP3KL1KOEneU/Dr1pSdIl0D9zpA4anw/mP5SYmzqmOfg/+065xwCjvL/wWLWkExKQv3/8iejlPMc/r6hXk5aWyT/PFUjy31Pgv9vj3+I3ceI/cC5DsjNnpb9GwsZkKjekP247meta//O/16HYwOvD4j9OGqOA1wXbP33ZAiySgPG/g45huKzHzz+5C7wKoBbsPxDwmcoU7+4/3UmNqZ+40T9BSuzhP7PoP7EaNYwN9PC/TPpJOphU1b/EK9VZAn/tPyhOpR1PfOI/CqSnkFCp5r+VasX+lj/Rv5IlvRyHOtW/edBebI/31j/qNUyNkQPbP6EQyJ6MKq2/5RQuzpDY4j8LiDkij5rVv/hx3J64CLW/LyikBgKEzr/DKzkEYk3hP1cvoyR2Nd6/heUZ7mpv47+yjtVGY/T3PyJ6xma4+tg/tWDcdqBL+D9lRh89uy3kP4vCtWwtMOM/lJc2/t1elz8=",
          "dtype": "f8"
         }
        },
        {
         "hovertemplate": "color=Breathing-Related Sleep Disorders<br>x=%{x}<br>y=%{y}<br>z=%{z}<extra></extra>",
         "legendgroup": "Breathing-Related Sleep Disorders",
         "marker": {
          "color": "#636efa",
          "opacity": 0.7,
          "size": 4,
          "symbol": "circle"
         },
         "mode": "markers",
         "name": "Breathing-Related Sleep Disorders",
         "scene": "scene",
         "showlegend": true,
         "type": "scatter3d",
         "x": {
          "bdata": "rOKUUUrz6z9GMwpXYZvDP+7sPQrnO+c/SG2tAl+L479knCak4hPYP8dpge70WsE/2OIHIBv0+T/bLU/10mjGv7GDVkTr5bq/dJwBxDE75j8NzMLhCITsP40507t7Uco/SMny95o97D8O0+95rO3Sv/1/jtufceQ/GmoHCVWXlr+4MlJJuOHjP0IEkHq9xtg/7wcu3wACyj8l0yzJPXfxP1FniunrXd6/39llFzA3wL+yRabFwUqzv8SqZJUp9ec/RSNeBjn737+axe1bghvkP5QnwnH4Y6g/6JLGp98Y0z9vw3NeKtjXvyb6gtC87rU/zbhzif1GvD/vPRaooh/QP9BLb4y76uY/nVsKVdaK1b/rgPn826Piv2BU12lpcdi/b6qk3sBkvz88PYUrwVzAP3PWhsMuXPU/TgQkEWVy4D//GCEkYSPuP3OfUKAJ+eM/oGajY7GmAECrbwH3bUrQv9GFxwCfgbA/Y7oTj5QFzb+Zc2Gl8MGcPyoqHEf+3fI/WRVxsOjp6j9klPYK+kHdPwuBO17XW+U/KIP26agz0r/HkL/vVoq/P+VsbPgXDMK/y/qenNEz4j8=",
          "dtype": "f8"
         },
         "y": {
          "bdata": "c6QPSQrXzD9edvfreP/iP62OnX/JLuY/XQTsH3Jkx7+hTwljxzTkP0jhdYEu+uM/7U/3lPCYrL/aLaCk64G4v8dzsCmbptK/2xN7Y89okj+F2qwpxs/iP0+RiQGDXt4/rJ7TsSitxb9lzGrlYbPRv6LPuYv51eM/6QtglwvFuj+t7gEDRgbhP1OTa7sw4qC/jdX2ucNQ7T9Qzhv4uO3vPxw/Bp7DoeC/a3Hdm3TW1T+OCRKPz5LYv+AWYegf2uI/LhDdy5FN57/rxe8FUYzFP7YgREZd16W/WBilep713T/3NJM6R6Plv4yr+fBVKtS/oWCAw6NrlD9vsGAmOE29v8O776SRtM0/SbAcALNM0T9kq+G6EgbTv2MQTZb+F8W/LoMEUgTTz7/gAT/rHbDJPxkbDMz23ec/b3Wgi5Amzr9Q26LmSJXiP6GkYsgSdbg/6HXIGxcH7D/QeMfSEkDivzw4zeX27Yk/xfnTh6cqrz+yu5zIr/KhP+UAxHss0aw/E04EoFFAkT9lyxmiH4/hPydNA9YcYcI/ASCKdB3AvD8EfKI+F8fSP5TqoFXLA9y/OzTGCXtf0L8=",
          "dtype": "f8"
         },
         "z": {
          "bdata": "o44Fxu7b0b87BspUZ0Sov/iC1QnE1ty/geGCpe+I4L8gb0gciIC4Px3WgrRHZek/RRRjhLK/1b9LqzIyYmbJP4tLLcWMe/C/Hz3tFDp16z+Tgh09YmzivyGKsOtXkNS/ZZ1xBXLww78hYT1VVyXEP845kIFhtqg/1INGhBO31b/cbseuyzXmv6k6D8s2T9U/fh5ga4zaWz8Re6od3zDnv7M3CbbUvdO/Gj4eHQ2wxL+1E8EctyDov1Ykv2wbqe2/FB1w1NmhwL8MW1zsv2Lwvxso2U52ru+/gJHaLI2Txj/yo97CuGfrv1AP5gRv5ao/6uo/E7dw57/1p6lpU4jtv6LXL7Uzo8W/95mkA4BNvz+A6RXlfx+6P2kNcbAzwqk/vuzVdecGqb/U8VnRfa/EP5no8iA/MuS/dSloqNSC4z+btKVdx1Lrv+GK04IlNKS/soxQ4GMv2b90pxmN16/jv3cunLLR58A/le0D7Rlq478yyNGUCG3Jv+SdmklLT+W/nRJynPLm6j9HLU8T7Z2jP0hNrhhtQaK/KtCyMOeYwr/0d2H+FTXxv8TkhaI4ztO/GOqn16Hi0L8=",
          "dtype": "f8"
         }
        },
        {
         "hovertemplate": "color=Feeding and Eating Disorders<br>x=%{x}<br>y=%{y}<br>z=%{z}<extra></extra>",
         "legendgroup": "Feeding and Eating Disorders",
         "marker": {
          "color": "#EF553B",
          "opacity": 0.7,
          "size": 4,
          "symbol": "circle"
         },
         "mode": "markers",
         "name": "Feeding and Eating Disorders",
         "scene": "scene",
         "showlegend": true,
         "type": "scatter3d",
         "x": {
          "bdata": "KJwmCkZ6279dPeKlrkzpv/L5mgw2UcW/H62EAJXI9D/Vrj8GkHvYPxcLdAn6avE/ODicFVDDtL/0aISE5szHvyY0Ok67jeo/VPoiNsqhwD8Y6uRh4E7lP5T7k1nTuuC/5aOIy5j/3z8sHFnp8u/gv2MzNkDMD9o/L2tawaOGoL+GkDvAv4zQP2oLi/Z53ui/ndQrlLye3r94DZCT58Ovv38z790Lwdq/Mv1TfhQG6r/TLC4hgm7Kv2gH87iBgea/Vnyi7Sjz2r9fEZfvhA71P8Yb/wibv9i/App8HR2TzT/98TCNQbjnP57G4zXC9MY/wfHtPcwC4b+8Q1tb3efiP8o1pHxnLa0/Puxf7Aui6z+mJBZ+I1byP4JFoICTVte/CQqf5kmHxr+NR9gdzEHxvxlFBC6cJvk/8CZoKeyJy78Hi243Z6fhvyZyd/JDL+e/el2NkzPWxL+ki4Y652DUv82BbOfW1+Y//ZpoRjXoh78Ak+MTg/ngv3yqLRsQF/M/z6GNywv65T/2sglmQboBQHnch1qWGtA/oyOjpPno1j99ZqkulvbXv64pmKdlxuc/qqgjhAA05D/M2Geh+5HiPyttPoLUe8S/Ob2jT2nOxz9O2imLyTCiv909lT795b8/70e9wvSv5z/3tVLz7kPKP7yGRGnBTvI/Dd5a7FS+5r+JDmeIFObYv+6E0X1D7uy/W4meo9+v6D+fzewUJSHsPw==",
          "dtype": "f8"
         },
         "y": {
          "bdata": "5loI1ktw1D/2UWMSRwnNv2vdZ9fGb8i/Vq/MxcZx8b9hOHNWqx7TP/uVxBWqkbA/chedtrGm3L9ONVhkTQPlv+pBVxYjo8I/L+xHRzY6yj9fa4XkDJOwv5qhOR19PtC/JG/tC2D56z+hd61S79rjv2d6IsxaH94/QiopYIbZrj+Xtl0CVy/VvzqhnivxVNe/YLLTlmPN5b+XE3UiSNeqv61K8H7vA+G/HsYXR1wZ478HQ1UOLHyxP2P0Igv1sfK/FxWUzCut779gxvPvcynPv/+I3S4+m8S/AEhhbDw5rr9Tq2jTp5HLP5AJ+lx3foe/f7ZgW3Es4b8EIXaFyEbiP/HjZ032H9m/B/ZEruIhzT9Xg4LuJIrtP0KLXtUMdum/ipIBIKrxyD8T1bUxdeDVv2HZ/mNlue4/HfQjdMiM2z+y7gdNibTiv1G+vFZAR/C/yREsj26s8L8hw/93+BLfvyKz/vduh3A/O8PYFHU4zz+uraYtaqjHv7UqbpjhkuE/YVZsq0u9xr/xfiMK1pD6v1zpkVmsNtE/GZi6i6+v479XgzjM1ea3v00/+p+2588/51eVE47b5z/b9jaRr3zkvyZ6wz35G88/otWHKnit4D9OwFYow89wP2cB3vUW2cw/D427aDMx3T9iJbeKVAfBvwBD4IqWDdQ/BZHBUs1TuD/uqT5Gkj7TPwMl64X0i7e/75bwcoPjvL9IH+MosaztPw==",
          "dtype": "f8"
         },
         "z": {
          "bdata": "c7BlQBd+4b9UUkDENKTWv5nLJmziZtK/vxIXbMlPsT9APRdJELTiv4dBZQsA8uK/abfj1qGl5b9Vi3FK2zu5P3djQ6hIvdK/SAcmj67bwT/YuDP8EGOzP9CuR7mPAva/7ps6Wyg8yb+z2tMPu/LKv2WQD0HWvu2/mqH8Tnwk2D8hegJ1DrXgv953OWdko+O/Bz+QtKuz5L8dtu3hx5LFvzZnHxMx2qs/7YZgnxla1T/5li2aLpPgv9vFXvYMdby/DmXi4lyNxT8QZRuZlja2v7Qxd0/1Gdg/i5BPdEJp5L9/ycC0JxPSP/+e8z2/zOk/VGbovJzW4L+To5ynq3+QP6VAqdtR+sW/DwtsfmGw1b9IVxscNo31v4hn/mHv68e/ot+L6/v67D/fyi5DOOPTP2iUeA1z7+q/qn24DbLZ4D/SVNsN2NjVvwkunPJ2W5a/QUdoraSOm7+oo8ssiqbRv+y0nf4XY72/N/8ddunD879qe9iLPnvZvzAGzM9GtOI/FgF1l9cb0T9woA5HtCiyP0BZWHUJy96/m79QCODgub8y2kRIHnziP9AsEZBJ7cY/FD5KPGPW0r8Gs9b/GeW8P9LaUm48Tsm/LGTEjdwO1L/bX7FNWw66P8ZwloKcluG/v1zEXPsBwT82QjRu77fIP/5KL4w3BOW/oDf4zz/l9L9Fpw2ISdHWP0ZuPoklXZu/YpdrAo6IwL+26jS3G1nQvw==",
          "dtype": "f8"
         }
        },
        {
         "hovertemplate": "color=Depressive Disorders<br>x=%{x}<br>y=%{y}<br>z=%{z}<extra></extra>",
         "legendgroup": "Depressive Disorders",
         "marker": {
          "color": "#00cc96",
          "opacity": 0.7,
          "size": 4,
          "symbol": "circle"
         },
         "mode": "markers",
         "name": "Depressive Disorders",
         "scene": "scene",
         "showlegend": true,
         "type": "scatter3d",
         "x": {
          "bdata": "FXbK0ND80r/PpyC6/9/2v1uT8EtaZ+Q/RFsjyn2M5T9PrzMmhcfKP7mvZh4p9ds/nHCkXn+p778hLVNLxLTRP122SeiEIsq/6nOSV9jw1L+f73M2YKn9P4G5vtS54OU/5nCl1WqL87/FK64/Gbf4P+0teRM1/+q/rTTo9xE7o7+gwvIorXzrv/xTwsiOaNA/mDbgS7TN2L9Bjs0nywXIvwfgfxQrpvG/Ri2OE2d9578V3xgMlRX2v19IYTWAwOa/kqzJ222sxT98zh5juygDQBzmYrCMD9Q/Viy1lApE6b9/s1RF5UvTP5J7u0fmjeM/pDj8Jm1H1z+UnMP2tP7sP7cxW+DNSPg/5q9/6mRJ1z/9/sGhx5X0P6gKW6SsJPG/bZN3IHCL77/ZWV93YQDHv6G/G/85xL8/aeQtFZIiAkDycey6VpDGP9H4XHtkVfE/B7TtUmP13D/ImgIbyWraP4NqxxVTYME/Qym1Iiun2r9ZpxRv9Bzvv0g5kNGmbti/NuSgSVSj4z9H1opPCPvNP3EV2fTs296/TseDgMRv5b8UDO0iZ03KPyCo8pp/6fC/q9URcG9N8b8Gzw57Sqnpv3uoGw4PoQNA4ynsxzWG0j+S+7iUPebfvyTSpw1adpa/fegBuKpA1T+mv6ULoKPZP570STzXS+o/afZXyEkzg7+Y2CgheDHUvwJIIvxMJfG/BA5gN4+6nT+HFrjO9UgBQGr8Hmh6P+W/gpjLUFGU07/7pur6C/T4Pwh4q1CmAqQ/akafAa+m1D9aVOetgs7Fv6MwZ4hLwgBAS1qVHYi00r+cIV2k//OrP5Xk+iaVlee/2efY8Rzo4b/mhdZmXJzcPz/3pHvggeS/4yEzGcOW0j/K6z+6Vw3sv3Me+/a7+OO/0K7IfsEr8z8SGDeXhTPIvyMbKVwFVaK/zofaIjYCA0CflEFx/0bTvzcGM+X+zeI/3I593fjV479/7Nyjeprmv0S0Q2yZsfE/z+F243c9xj9KT7PM/uTuv0xR8cOyatu/RrakEvgM8T8=",
          "dtype": "f8"
         },
         "y": {
          "bdata": "6B9vfumc5D/pIpfgTBrfvxGSd4+E6c8/Ve/m26Va6j8t17A/xj24v8MCuU1HPM+/zpzL0e1Z8L9iA/0w5sTRPxGj9bwSnNS/L9tCUiQ+3r875wsoQT74v+bPBUQu25k/PpfWjMK12j9KPpsbaMv1v2n5HW+yMdG/rVP5hJxr4j9a6F7oTqXCPw1XNO3fiME/br7xq4t6xz/5g7EHjc6kP+IQ/wvr1Lm/v2Fn5bPpx7+NVlko8Vd6v61sAfgH+8S/xgGsFx2U4T87YprawIL0v2L/4A+G5um/GY3D4gYG2r+PrSqYZ5LiPzcLJAMxDvI/4HKdGJtJ6r+cO/G46rfhv8WjkN6frPK/m0NvAVCI0T89qmCwHEzcvzXv+SicCeK/HRRXVN/x7b+bPbYASQ2sv5vejF64CGM/x7KYjP4c+r/vCVQLX9m7v2HUkS6+d+I/uW1QDhokBEC8xRYLXtLYPzhmSY72h+c/bwdipgIR1D8qo2SGIbDhv8QGNPk7rbI/rVCdA2sGyr+DfrYmNW3bP3BDQ9LO2tW/BFC7G9KKtL+ASXtxvyXRPwIsXotMFcw/vPFq7r4q0b+AUSrTUKvZv+RUq49ZHvy/fxoqZGcZ7z+/R77fzonrv8vih5YykOE/rNf//7pi8b+aiq5W1SXkP08urusNSfM/Vlk81iN817/qRyVBbT+YPwscknFxvOe/YHdcrwbE6z+M+ll+pjqwP5+0HcHUXLK/h+0gNFy47T8MVh2HuUzqv7SGJE0yHdY/tKupfFbozj/e1nZAqzmxv0muRasYSva/cliQwCZsrj8IIdF3Ct/iPzMeJLKJHsO/xZK0K3WB179kEyNMy4jgvz6grRsgMeq/Rq/JsdAksz+C6RubB+LyP7u2SpNl/++/XpRySavY2T+qRw2pyhXjv+DuQ9TUh4o//00sryjm8r9JgYgRgL+hvzzhZQOPx3G/RHu7an6f5b/XABKN3vfcvwdkIkIpT+Q/IajA9/pp2D+/ZwOKU1jtvwDK11IX0Ic/b2Jw4VCH8D8=",
          "dtype": "f8"
         },
         "z": {
          "bdata": "rQ3cES+91L/QtWPaYazTP+uyJ5ZuF+o/QF81uouJ6L8vufF6mi3TP2JoRKSgPcQ/dlO4MjZAir8bUic60aCgP0yWagAIpaU/S8SZOSLy1T8O3k0E7SrOP/sgf+bg5ca/OM3PVBJV7z/Z1Rd7CVfSP8q3JmefUuk/caB+tOPUsb9HI9ntWp/HPy0MbuJoc9G/L9akDBQS1D8Ww2B3aszjvwKXBNkM09C/UUVKYxmtrj9BI0ltlp/bP90ony+Mb8s/RjmEI4QX3b8Fjexg89C5Py32g0qCX7I/MUki8Pf1wT/SzmfJxgfSP5jxWgb++sm/EjdYrSjMpT/bycRarcTYP3MPH78mnsQ/bXkH/kPauL9fqAkOPkzVP7cK+ONroMM/AmUIIffw0D//kmAtzSWxv/TV84OsIqa/J+n0HsnBvz/PPLtDgYXnv+YRZVDK1O0/1i14BrI3y7/p2wfDDwe5v5Gb8r11Ouc/ft4j7Hgjqz/KRU3DjFCxv3XVD41ZVry/lqYCEdp1wj8MIlgCt/nuP6zN7AWeFeA/a1K5pPbtsr+Mmwr24QPeP6SagtuyieQ/VyoM8YKmrz+NkbwE8BjTPzqYH7Nby8M/qLCOIedHyz8FJ6Kt9U/Xv+rlVdUxT3u/upcNsa3pvb+ooknQvaXsP17DsfMp4de/uSB3Vvks1r8hLWne9OGvv5Go25MR2pa/8yPXh8b/1z8AhNucvLAyv/Ib/uI33tK/cJcmpFca4T/HghwmGcvQP1lkgKbzLuc/W0Kvk0Fu6j+3YsHIgxXOv7bQH281JME/UvnJKk0pwL8sb0elpCLrP4ZEEdu7I9W/VvqeV7pDjj96JXQ5Y/TTv9e8sknqNNo/JKaefDy/kL/CyXzgK3PGv5jRACDj8Ma/jQY8jn+axT9X3y2cRaujv+5CPkUacN2/0LYqS9C3mD9CRH3oRV/mvziZkmL2lr8/BGyyGR+Ztz81IWi05Rvov3p4g0fvhOG/osKfZXLyy7//ZK4UCqaSv/sYjyQTPM6/W6w2steF3b8=",
          "dtype": "f8"
         }
        },
        {
         "hovertemplate": "color=Specific Learning Disorder<br>x=%{x}<br>y=%{y}<br>z=%{z}<extra></extra>",
         "legendgroup": "Specific Learning Disorder",
         "marker": {
          "color": "#ab63fa",
          "opacity": 0.7,
          "size": 4,
          "symbol": "circle"
         },
         "mode": "markers",
         "name": "Specific Learning Disorder",
         "scene": "scene",
         "showlegend": true,
         "type": "scatter3d",
         "x": {
          "bdata": "qmNIIHa1xb+o3uEliFTpvwsc7HdRcvS/3KlfwDwd6b8jCA9PJEyPv6PxfH5FogFAa6/FvppQ8L+u4SY5e6jkv+jlY2DiN/K/w3QeyjG28b9R3/zojP7OvzcJMI9fsfK/8Ww8Ujz/67/j0TjvSQbxv8fll6zy7e6/9wuG+A7W77/uymqmMiq7P9YoE1P6oqe/pb/MASuk5r/mWnSHy53Yv9ritB3xRe2/gI312F9b1z8=",
          "dtype": "f8"
         },
         "y": {
          "bdata": "rmpnKlCPyL8buvC9VLbFP4h8NGl/bee/IO8i/MRg679nMlv8cjZyP1bS+iby5fa/34sDLgI76b+RRnFFaS6qv7Z5EaTSV8y/CnUVlbeA6b+6TxiulaHYP/a/5jLxq9m/iAnteE032b+KG06erUzpvy6Ss8Qopti/VazZaMJ03792yGQY8HPTv8g+wanqGN8/864YxdVS4T8us0VR6Fvwv4Ru87HPT+W/DZe34YwyvT8=",
          "dtype": "f8"
         },
         "z": {
          "bdata": "2QnYvV214L8qUxduVfLfv1Zgf6Agfda/SGJYJlbB67/BMn8skWLcv4jqNOGHjdS/FxjOVYk97r+DZU1Ex5vUv9T/CJcKi3I/pcfQyqu85b9t/Z+p1jD1v1U9yam4L9y/jshORLzC27+zIVmOncnhv2wvmiyRiOO/66VJN/bo5790v/2x9sTmv7UyRfmfdcG/NnfusXnQ5r+u9TJfezbmvx1XzXPnAuK/AxQZVu1nvD8=",
          "dtype": "f8"
         }
        },
        {
         "hovertemplate": "color=Attention-Deficit/Hyperactivity Disorder<br>x=%{x}<br>y=%{y}<br>z=%{z}<extra></extra>",
         "legendgroup": "Attention-Deficit/Hyperactivity Disorder",
         "marker": {
          "color": "#FFA15A",
          "opacity": 0.7,
          "size": 4,
          "symbol": "circle"
         },
         "mode": "markers",
         "name": "Attention-Deficit/Hyperactivity Disorder",
         "scene": "scene",
         "showlegend": true,
         "type": "scatter3d",
         "x": {
          "bdata": "UUYeyFFNyr9UMsc35P3mv29nEAlFseK/Tr6qY3325j/kdVlqLVLfPwbjBU3jM5A/gTLvcHQh8r+aeyzP/dC3vzDuB/U64uU/s2bxOZ3S6r+9kg4GywDpP+mjSi8XAso/ZzzxAdmT6L/WWWv0obLMP44lD4t3lt8/GbvsYffj4z+PzGyWV0XxP3hxjL2dXeu/nyhXlBX0zL/NYh2kk4n0P54JxElBHrg/n/uydsYe7T8=",
          "dtype": "f8"
         },
         "y": {
          "bdata": "Rfv7UiLTv7/5mgpilF7mv2phjRQQ1pW/aINGdrc267++uIBWPVfAvzczFFB2u7U/Yh5WK0ouyr+Dz/CMDQ7JPyn59mrNnPY/d4c697P31L90mrfNILXQP1f9oEoWR9m/NSjUigaYsT/4HZkTqzWZv14OFmAMbMY/ts4gSgZTr79w78axIF/4v/e9x7c5Auq/RgzE4zQb3D8sf6Yu7Yf4v8hnrScJ+ti/5Yy/nPUKl78=",
          "dtype": "f8"
         },
         "z": {
          "bdata": "SbNybr7o6L9/krr1BcvTv7rbQRKvN++/AgR5TRp+1b9nFKj/L4nNP2pNbxG5IsE/cTppS7aHoD+OZYuQDXLbv7q0BCXb+O6/FL7fCndk3D8F1g6qPFDUP2+QcxHImZk/DSrW+U1czT9d6Z5Zc5PeP2MA4X+jcuw/e6w74uLA5D83m8jESQTav1pRWQ10DNK/243QRfqv2T8d+8X1gPyyv+mnEt0EOd2/DB8ZSz9w478=",
          "dtype": "f8"
         }
        },
        {
         "hovertemplate": "color=Bipolar and Related Disorders<br>x=%{x}<br>y=%{y}<br>z=%{z}<extra></extra>",
         "legendgroup": "Bipolar and Related Disorders",
         "marker": {
          "color": "#19d3f3",
          "opacity": 0.7,
          "size": 4,
          "symbol": "circle"
         },
         "mode": "markers",
         "name": "Bipolar and Related Disorders",
         "scene": "scene",
         "showlegend": true,
         "type": "scatter3d",
         "x": {
          "bdata": "wzA0XtTBrz/i01gSXUT0v2M+SUcIeOQ/U5aRPE5dt7+sxg55osACQIaMRnFnL7Y/ls9URbB6n79uoaJ8zgPkv0cVMQfke+2/PDmK4XUBAUDvie5pLzLCv+5c7BOlyPm/FlrSkb2V6r9aoyfF+gb1v2LL+SXhJ+0/7ZQYghvI+T9U8V1p9QO8vw2ScMJALbk/22ltus1p6T/1nmrKxdfkv+oYHiBYeu6/baz5JU2Hyb+DZ2cJF3/6P5qhlJWisPA/1HerBp1BkD9B0bnmOrbwv72azh7y27Y/3Hp6IGvi9j8bO7R7kK3yP2ltM9z8duG/pcsCUDSH77/ynNrybYXnP/WOGP+mZ+a/YpRPK09Z378QxSZPcu/Sv7FY6jhXkOy/V9R1wZwH8j8/LbrskQ8DQKWTF6McVPa/VuM0d13V6L8kzUHZBejAP+mlk0SFtdm/5n4tJhrD9L9WFF6j24LSP9pe7w4qxue//mnri1XY3T9554ua+ZS2P1VVn8Y2T+G/acibEToqAEAANHcNT3LtPyGN7D/mQde/SNyrjKvF6T8Nz8b3uZjwP+usrNoFFOm/9abYAhk6AUAGY69ljxe7P97nj6s2Ltq/1uIE65Pfxj9GiNdv2LDfvyDVM2Ctees/y6JoT5EMxD/LCuDPDeHXv4mhjYaZGug/nUZxH7cR/z+hG5ztejzkv9c6PjaTINu/7HGM4iC017+EwTRJb3bpv0coywZn5tw/wde40+mN4T/udcmqS1Pyv/qZMecByeM/tSniL0aH57+ahDMw3soCQHcuiK8IxgRANB5H1kZz479eT83vAVHiv0LuWEtnz9M/FPY0liSQAUD5CT2ENc71Pz28ovBIHPC/8KGQH4REtz/Ad7afkXayP5nKZaVTJvG/fm+yj2q1AECA+8oVXlQAQEc/hD0zweC/jxMDxp244j8H0OQYH/fev50KK9JM8+U/q+T/Wx9i4T/ybhVC3xTxv1dea9RpPug/8Q5w5W+N278Nb1cR4tfWv9eKraZU2wFA",
          "dtype": "f8"
         },
         "y": {
          "bdata": "a1dBxKygsj8Pe3rF2KKsP5wkcyBO4Na/xpf0oJa20T8OjvwvbcL9P00NX9D+sss/KImjcz4yy79OPS0fTNjdv3oWb7Sz5eS/qlLgqalW+D8bAc9QibPQP7GwyZrOBOU/1xSqiN63zL++IDfwUrWyv739jJ36DOO/QHd9EAhL8D9QjztawkDjP+vouU+4i+Y/+UBs3sUy8T/MuabyKivQP8EdhGSSouc/qH9tsNSj8T/XB9nq/IP3vyTZZ8IEEdK/hGuDYg0K2D+7dg+jMzPrv90ZTXZsutk/0J1uxQvY87+kWZTMBUPfv0LgQuRT9Mm/214LZbDD27+ZDvuLLcXpv9YghIAq99G/+MmNIk5F1D+zCmQBQd3rvxlvXHEvKMe/cjWkMHhH4j8PhGzQRSj1v1L/xvAAlee/13r4/yTv57+T1OlUp9DwP+TvsslQlrM/TpFiPMGAyj9zydXcXUvHv+kCbEcK+fY/kXouWvNN4D8mJKEc5R3UP9dWZzjYkOG/RQs3I8PT5L8NHqSblLHrvwjY/jZxdu0/2j0jNKmu6L/nbpJvnerlv410EH4K7Oy/XoS5reQn+7/6OPgkagfeP+COS+si3Na/1C5XZJqVyb/746y2oI3ev1oiRFUgGri/pFmGVS0X7D+bUTJzJEurv61VqcA2Nu4/+XFy97Tv+7/gr6pp+DbTv4i9uQd0bdC/pz2uGlh+3r9F6BXlzxLpv5mr3+bQwNs/+N9Cu/0W5D+dZO+AAjWov8sb6LcTfOE/zNkEny9o4r9oWnGQ4lX5v1L4D+xRURJAoU/4Lv604T8oY4xagcbnv9BmpS1XZOg/GsaTfBXL+b85MQJ4YmP4v+70RD47W9U/mU3zNcFo4T/xkyDuL5HnPzBasTyJIuu/QBfxvpL3+r91H5Qyjnnqvzbxmhk/HrE/7wI1ezmu8D9xcTiza7jDP1v0RktGFcM/dwWXNLn61T9ujOyhYUHvv/yOHJPsstW/6+9uFPrw3b+1HTzY2ezyv6raN0hDq/i/",
          "dtype": "f8"
         },
         "z": {
          "bdata": "m/QeSWhIzb8J6ymPdPLgP+ys247C6Nc/vjoet9731D+teigoEiTlv5Zv1Kh4eNO/xawHJApf1T8uUzmyQynfP+vGeTZIrdk/3nt7hq6q4r89qDKxm5DkPwWyspjrPPA/6j2azNkXyj+axof/oSLZP2M5Sg6nhNE/Dx7M+tIX278cKdJSFWvqP6XWCfjbl+W/xtWXERyd07/l2tq7ze/qP/VNU0Mccek/golkLdTR1j/AHxB3LVLcP5MhuMBxPcw/RvGz4EMpxL9J/O+h8ThZP3Y7ImBCasE/16j31z/Gwz/KIO+aM2XQP3r+1+cjFJ0/RxgLvHjPlz88E5UYXEDPPyewK8SkBe2/VOl3XQHYwT+TvJg1a4iDv8hwSmgkjra/N6lbf/LdyD97UjDsVRm3P9YHHUQancw/nzooR8MmoT8yxqZFMYLRP8yOElaPI8I/Sgh/eCy28j8MxUz/FDjeP10jb2l6RuU/6CmXH6Tuz78/PaO1uXysPyCzW7vvftM/ln7m4c3epL98BsiDCvHTP/+OWtbGQuE/+rY8U7fFrD92mLKSUFKzP2GbklAjosu/B9gm+XBz1D9SvxMvpk70P1EWowa9JtK/iK0ugUrtYL/JEFtFJri8v0f56l7bU90/zgHsmMrckT+jMWsGe03aP7aRtquckeQ//V5pNlR/0T9kgtxvF+DHv7BNAwH+WMi/tvwdq8GP4j9RCOFQUf7JPwjTobizZN8/U288KbUX7T/YRQp0TMDpPxrtgTwnL6y/T2w5O1li3j9s3l5gM3TMP2Tuj2NeCva/TZMpdn6K5j+QfNI8jmm5v2IujjrOO9S/FOyLdG00yz8VshHnXaCmP1T/QaYzmOc/QZ2H3NHu8D8Z6gHLHp3oPwLvq+YTwdS/K6SGqJP81T8tPO79qoC2P6xfZZkz/7K/olgnhPs3ub/Q5lNwtJDLP3U5RjxUxNI/6rCTc+526z/nDC2eL9GrPx8mBX7lYpm/QeNd6UxRzb/V6I8ZL+HAv9fe/xrhqso/",
          "dtype": "f8"
         }
        },
        {
         "hovertemplate": "color=Somatic Symptom and Related Disorders<br>x=%{x}<br>y=%{y}<br>z=%{z}<extra></extra>",
         "legendgroup": "Somatic Symptom and Related Disorders",
         "marker": {
          "color": "#FF6692",
          "opacity": 0.7,
          "size": 4,
          "symbol": "circle"
         },
         "mode": "markers",
         "name": "Somatic Symptom and Related Disorders",
         "scene": "scene",
         "showlegend": true,
         "type": "scatter3d",
         "x": {
          "bdata": "tXO7VHhS2z/fiHC3ukPkP61lMv1FAcM/5NrNHt9i8L/Lbvf+QUHRv9099U3KMNe/1evXDi689r/LMFqgJsLxP4gAPcPiI2G/2tVhfvfVu792b3wXHT3dv2jMZRgUAcu/P2g7tK3x8T+jYTqW0a3zv62vwpJbEs6/Z3sS2mxs8b/MydUmelrTv1eZwQ9igOO/Pw4Jjrqx0r+8s/ibhXbiv+EaPrymbua/cYpfXzuC8z+8UtSDlUDTP2UeG1UXv++/lOpmDgsC6T+2Akpq3EHnvwaz4y2VcPE/w+dOSgom0L8Ik+yiTADJP9l5lrVpv9G/ZE9KDk7/8b+jOz+LEY3RP/OPuAnRBNA/lhnkgA0Q3T8XZKvE3u/MvwB7R7Ve4OK/Rp7V9m0X07+xA+OWwhTJvwSbC5Xlavg/DGSi/R8k7b840B6KDNe6vz0/JmMwl9k/U07pP9l5wL8qIZNCo4LcP4bXf3B+erK/4/BN88l0hj90ixHRl5qmP4Z1zD3QZPW/p9f/mw7F2r+vSCOWkDP7P2XZcLx9tOe/HYLro3yc4j9/Sv2G4MTtv7P+Gb1LptQ/",
          "dtype": "f8"
         },
         "y": {
          "bdata": "6HGEca/+lT/JSZSoHG2ZP1hXkQCr0pC/z+BjLLx80794Y+/6azXWP9vQWSd8M7M/2QBRioIT57/xhuhHND6Zv/Yan3y43MI/8pgzj6k33j9U1mwuXCbMP1csk52JoOe/CBy1QBDE5L8jQpTtlu6mv+SbUClQG6O/tjbzX3xM5b+Mxy9/JmHHP4SJdSe+Kqg/fWtkrTiz378MmrOQaMCjv2S6N3+/DOi/LZhwk1Bn1b92mAJMJZjePxuD5K+eyde/QvJKhoDu1D8fGAj2ENOwP8y87tNFkOE/6tbSswzRyr+HAWnnr/7CP/eFQR9i3tE/7Yttmobb3b8UsN5iSq3CP7Q92dXpPOE/sgQvBvzy7j/HINmFHMLfPxzPpUkPirk/XWb2ZBPSzr/q4nz/z23svxfOtpah+bA/bFR2snwT0r+a+dxGUFvdPyaKEaLIKuA/NuCuHhEzqr96M7B+F4/rP98wS2ZQ498/mYgcacM60T/J080tJpjNP8fH6/TdZ8i/tFklUvsY0z+PLgBvjibbv3FOEB+a49W/H7DRp41n2D/hM7nrMZ7hv9fR5zOyVcS/",
          "dtype": "f8"
         },
         "z": {
          "bdata": "nhiOhzaAsb+zwOmweF7iv/Fjs7U2LtG/Q06PqRHnwj+V0CM3u6zPPwOX9223U/E/5sTIIwnnvz/r4XwLiieiPxhhdT9Dk9C/pCXx1xjB2L+eRf0z1WjjvzDjx3Z7p8e/WNB5B8EW0D9h5MS4kIqzP1b5pxJ+reM/UrWJytt7wD8ROCoqCWrRP/0AIJcofuK/BC2/zsK6078aZT7xpK2zP1MFE8UFTtC/BVPu8RAJ0j+8SpBlzyzgP32ZQMVCIbQ/ImMPHCmu8D8zdFpnoKW5P2L7lNTgVsk/+EvIOnSn5r/KBtlo/DXtPwxxyHzGpdS/EN5yhD7Z3D+gSbO59rTmP5QyHv7d78E/5xIqV4g9tL9DskB25TzDv22ZzxD7sZa/zwuLYhzH47+20fnkCSmPv9sg1aZGgbY/zZ/rOxEa3z9u5Fl3WnzdP6UdrQxa0c4/ZtTSGnH6wD8uGrrPSrXRP7M1kmW7ZoC/OfbUmIKr6T+2wp4tS53mvwYYriwmy+A/aMXOY/t72T/yeF6HM1LCP+76xLbcO7Y/zAH5T1TC6j8urg2g2u7Sv5cAJwMDFuK/",
          "dtype": "f8"
         }
        },
        {
         "hovertemplate": "color=Other Personality Disorders<br>x=%{x}<br>y=%{y}<br>z=%{z}<extra></extra>",
         "legendgroup": "Other Personality Disorders",
         "marker": {
          "color": "#B6E880",
          "opacity": 0.7,
          "size": 4,
          "symbol": "circle"
         },
         "mode": "markers",
         "name": "Other Personality Disorders",
         "scene": "scene",
         "showlegend": true,
         "type": "scatter3d",
         "x": {
          "bdata": "471bkj+I0D8zOei1R5Ljv8H7HPOrUcg/0pVNxVm18b/jDL7ASovoP6O3r5EaA9o/l8yTLSuytj8=",
          "dtype": "f8"
         },
         "y": {
          "bdata": "ED5/AFAp6j91uFd/czekP1tJLDB33Oo/q68WZvet8T9tadFoebTfP4E88sCHueA/hcJ9jy8B6z8=",
          "dtype": "f8"
         },
         "z": {
          "bdata": "lFyoILEK2T+NteNgVKOkv0ELqAtsKcO/QZVBlRMF4L+uCevbG9mqP6w2MRB8mu4/38d1R4A/2j8=",
          "dtype": "f8"
         }
        },
        {
         "hovertemplate": "color=Cluster A Personality Disorders<br>x=%{x}<br>y=%{y}<br>z=%{z}<extra></extra>",
         "legendgroup": "Cluster A Personality Disorders",
         "marker": {
          "color": "#FF97FF",
          "opacity": 0.7,
          "size": 4,
          "symbol": "circle"
         },
         "mode": "markers",
         "name": "Cluster A Personality Disorders",
         "scene": "scene",
         "showlegend": true,
         "type": "scatter3d",
         "x": {
          "bdata": "oSTywHeWxL8oKaCQ8NvgvzbNMLi2KMU/0KreeV1Z+D9LuwtAH4Duv1RBFwivVbk/BEMEuJyt8j/iR7wB+lrXv0PikNdE0PW/jFyO/wWi47+vsam3oUvjvxLMTdShuds/CsIK/c0P879GPil34f7kv6IfoTLvxeC/UV0qM+A947+gmhxKrn/+P0ah/6lz2fe/p5eZS/VVzj909Z+Mec3tP3iQQTnGWQBA3EpD/T6L5z/p1x7I1uryv87uj3EWb+O/+8CtoEmu1b8=",
          "dtype": "f8"
         },
         "y": {
          "bdata": "hA9vcqte3j+1jShqXLDtv3fyBNT5duQ/3oP7PwOt8L/3KkloYwTsv/7dcEVzPuA/2bf4WxEC+L/kl7fJKK6+P3htUBBroMK/UHTqKT9w07+aUk6JlLPnv9LE9hb03+U/qJW6c/8Z5r9RnHhcP57hPzCY29x4Yrk/t+e7dLYr4z+lA+FdcD74vwajkfnIhuC/5ufZtoif8j90l5VUKS3wv8LYf37vSfi/Fvum4/tc5T8AOOQU1SDavwoic+1OxOK/pxOTumOkxz8=",
          "dtype": "f8"
         },
         "z": {
          "bdata": "J4coYQRQp7/yg5acOgSjvy3mak6Q39U/RTJE2Q1W2j/af/FmslvPv2Alz5Hu++c/xM8ZdJoMtb+esLzxId7nP4Qpqw4cHOY/DC8TdJNS078UEVUe+gu2v9ElftCGTuC/FdTzMddc2L+lQ+BjfsXbv+6UON4lONs/62kjkC+HwD8pMJSL9pbYPz+jMonSzuU/xBycrGSuwL+yzarsute6Py6vw/4jIL0/cRFjrL3N5z9jhK5z+eWRPxy6r0zVAuq/z36rfVUt4r8=",
          "dtype": "f8"
         }
        },
        {
         "hovertemplate": "color=Trauma- and Stressor-Related Disorders<br>x=%{x}<br>y=%{y}<br>z=%{z}<extra></extra>",
         "legendgroup": "Trauma- and Stressor-Related Disorders",
         "marker": {
          "color": "#FECB52",
          "opacity": 0.7,
          "size": 4,
          "symbol": "circle"
         },
         "mode": "markers",
         "name": "Trauma- and Stressor-Related Disorders",
         "scene": "scene",
         "showlegend": true,
         "type": "scatter3d",
         "x": {
          "bdata": "oxSbfETB4L+dMzm82ljmvwNqWp6x38u/B+wTEBc0/D+GYwv+Gcbnv7OBnMuO7fC/4GJDw47T1T83H+orhWbCv1+W3mFhB96/kvsMPteE9L+64+XPXl/+P6SixwM1YOk/8xfZxvPA8L+PNbpnFP/xv7wAQ7JugdG/sRxkiGRq4j87U8gZlZj1v8MD/YO9Pu4/kVjy38fU4b8/cY0EmiHkv6Y01Rki8vK/AO8h+UEOmz9wZ/J6bm7WP5xLm/afJLE/betN+oYT7T9vgLiRqOXiP5TcECYWCvI/Vy4AJEJM6L/NLekxuD7gv1sIncb7Jr+/W6yxQ2pZtb/BLCjbWJbePxjCZB29dPs/HdNUewRwsT8+cGyj3LzWv33lphQSlO6/W9WRXTuS3z943TZDPSLrv/xkXMD3bZq//IALEaz23z+qM6x4Fzrgv71Hl1u8bdG///x+63yB4r89wtQyPsvgv0V4RCvTCPo/LHTnmN15/D/1eTXJ4gL0PxWSMBfUruu/evmlXnur7790u6TcY+X8PyQWUxC+/sO/FLU5GIQtsD9tSLvTxLDhP5W5YL4ahQJA1FeN6gCG+T+jvXjQ5/DZPwDNs9N/B/Y///wnxf3z/D/UEgUor9TyvzDYSJ78YvO/rIWa5/CU8L9mtlP1WWH1v94ZEt5AUvW/J0iHawiT+j8+weuguiS3P1zCyJxsYuS/3G2U+VFhlr8DqJdAhlvQv0p0X0pYY+a/vfNeptUg/D/F+YGWNN6Bv/r3gR5jqPK/hR65B4FW/z9IPkPPwqjqP/Qexha61vG/oanruy5nzD8QfJEiP7nnvyUJ//1Q4c4/YaM1YBMI9b+qLj+1PIFmv2f5ckxjYeA/pBf7Rtsr+z8d+NVHnAT+P4L86zJ1z5K/R+ERFHFY+T8HYAGX2O12vw==",
          "dtype": "f8"
         },
         "y": {
          "bdata": "HMzwXKKZ47+bKY6U+j3Rv/1CCqsLac0//TwODQT+87+bHRpiEavjvzRaLs3WBPK/fTS0/iZpzz/I2wn7+QDDPwTSltLTXtm/UmNpUA9q4L/q/1tGhCj7vxxSm9YPDsK/8UIn3/mQyb8f+HsHd1PTv3SaVgAY4dO/aKbn/5gW7T+eSrKTyPPKv/bGSuBV8Oe/LMzWD4qk3L8exqnG00Phv445hrfrotC/DJmOACgMsT/qLGaGGeO7PwxZlhN+Gtc/gYO1Vslw1z9EYBHBwLetPw0bVlaAH/C/Kk/X8hb83r/xcOAQKpbmv+Orej1E65k/ZMcd/145rb+na5IYcUXqPyWb7myG4PS/fzWs7CTDwr9UyNm/xdTdv/sIG9bTm9m/WMQK/tke0j/eNgeoU//Nv6JMitr0mLo/2hnHbmgq9L+IFCjQHGvdvwzxE3pGsdw/a4NWBaW61L+o4VrTyeCyPyA0R0lohfe/+AeW9xnj979ZqdzsiePzv82X5YsB772/Tkz7ERkq578vAIt4HSf3v3GVmQgOo92/SgllOCQj3z/WWdoX/e3YPw5lzRXTq/u/C2ODNR6U8r/Yq0j4pR7Bv5d4faX1Xa+/BOC7oILG9L+vPrVCHWDav0NLrJ6aNtm/RScK9k5Q47/cNQoohn7Kv9jJX+prAPO/K5HKz6t+9r/I8M4E6h9+P7HZQVCYdba/eReRekZuxT9LcSD8h3zPP72ZwUTfCLo/owGwA2xr5D+6WWsRz422P6X5OaQeNNm/jr06tckL9L/MLQlgipTQPyFtFdJw6uO/i7gJWW66xD8Tn700hd3dvzyMOE1W/dy//p4/JaRV57+5jEwvJpDSP5Y+q7XXINi/Y+5+GRJk+L9hBxXe5Gnhvw7Kju+0UMk/s9zF/rYd678YLvm2Fr3Bvw==",
          "dtype": "f8"
         },
         "z": {
          "bdata": "k+/8FUhzvb8rGsTEFLjQP90OFJSZStS/7ymWh2aF0j+lMBGhMVjRvyWkXb42kN+/8Sp6GDg/87/st0WNRczjv6/b5pDDZJo/EhPIGUWq4D9KPeGsB6HZP6F7e07vgt+/Qw02EpZI4j/rWqwSJUDbvwPWHmZ93vi/50CDkxfm4r8MkDQEPRfkP8SrbzdUWpc/+55NYXMJ6b+nRD7fYzLOP0QJNYPC/jC/BWvZUekj7D+yE/DY2KS8v2WQfDGceuO/lq2JRFLA379mRyD9U8nSPzyKssDRyOG/D6/7PX2G5b+J55YCbFTrv8lMJEIn4uk/NoviWDk4zr/oQBif/bjQPxwn8pYJzs0/Rmy+zudC4z/AFEDVJrTBP3+vBmN7uKM/CoS6JSoM6D8yK4kKLVzYv+r+7X9Chu2/bLnZkjO3zz8SstQ39D3fv6mmQHVr8cy/XBu5pEhV5L/IwKcROhigP68qVSJ26ME/SPGVEHf91r+F5dKE8QrGv+SxEh/yKtG/hKS0OHkHwT+7zDHjlC7dv5mnfGdqt+e/U3LiUJNHwr/BtjifUgDuP972pQLZVtM/9y0w82MOpL/bkood2STUPzGiWIgTj+O/qUZDxf7ayz+6cXbVEELmv65NzilXKcU/VEPA5XXdxr/SEb08A0TNvzl9A8Ydvdm/YiTKftyj0z/HUKKZhFGwP8ToPAVOEtW/Eto/Yd8H2T9Js5YmdE/pv1ynhx8t3sO/6XhpG5Xn2L9GlvajNozov8+QTsq9w8G/c5rn8NQ5wD8vCJpJybriPyHY2vPv2+I/7wu4anbF3D/L5RqnqS3gP4U/JaMpHeC/3cdn7rQhiz9+WhdBZ46fvzAut7itMtU/MYQal2lGzD/sLkB+XuLZPxIKuzp1cdY/IhTmomrdkr/5ex/awwPXvw==",
          "dtype": "f8"
         }
        },
        {
         "hovertemplate": "color=Paraphilic Disorders<br>x=%{x}<br>y=%{y}<br>z=%{z}<extra></extra>",
         "legendgroup": "Paraphilic Disorders",
         "marker": {
          "color": "#636efa",
          "opacity": 0.7,
          "size": 4,
          "symbol": "circle"
         },
         "mode": "markers",
         "name": "Paraphilic Disorders",
         "scene": "scene",
         "showlegend": true,
         "type": "scatter3d",
         "x": {
          "bdata": "6hhys2+t8r9/xXXZaVPwv5xQu7YLxuE/aYxYoYP45b+n6TLPgKf2vyGlWor2reA/uI14irBM778hCr4EA1Plv3PwNToyI/A/NBIUd4m++L9n7pdxYO3Iv/x2oaiLguu/kL51Bqg07r8sbXFhiDLrv09DKVkg2Ms/4m5VS2si4D+DairZpwPuvxaiZaJ9bO+/Jl3OxD+e5L+pA2qyQRXkvxmLTNGoqMG/L91RIIvI1L9DBQMCste+PztpO8rmPeq/vf3kEYzytz/Hwz1jwRvTP2JWb0nLTui/74DcnPVeyz/7hjsrROPTv/5Cj9afyNE/fJuM7O52x7+vaFg+OA/nv4T0JlKSDK2/3c38KXbN5L9MlOElhjPqv9PgxtRxgu2/TCH2r9T92D9FCKmfxmjVv4FeUX5oEe4/rfbb0sIZ8T/a+UAlfO/wv8w9feMyGeY/oAQmr0EH3T+b47GLQOjnv27Y2BpP1NS/syOg97Rj9b+JIczJQ/7hP24l/RhyLfq/CgV6EQQ6or+DKipoFEf5v/GTukLMi+c/tFbXFvMl4j/kLnnP7Q62PzfrUMwvb/C/YzkVT0rbsr8=",
          "dtype": "f8"
         },
         "y": {
          "bdata": "AZbiVOA72b8rJbBmESDLvyoXGXpFptM/eIMZGIZXy7/hsDDkXqeZvyzMaOgMMcE/JI/xTYM8079YW8oaqPaoPzzDxRGL894/haZk557r2b9QfMAgCwzlPxLOE55jrME/UMhsT8HPwL+VseO2CongP7D4JvzFQdM/PrELivQp2D+AJDW2y+C6P1DgEH54TsI/dQJoL42g278Qhp+fVIHbP3Rf2fWj4LK/itftCPod5T8kEGypMciiPzfgaG3UJ+A/DJWj/C+71T/ZH6YoDOOgPxYYrXb1KNE/ewEuxHahyz9VTb372zDZP7hvFkoG6as/72HUjjmp8L+yvNHjmQvZv71iwRCmELG/8GlVmo9e17/gciqETADev0N0aO2z6eg/pv0xCgwL8D8Le6Am2LfePwQasp+/adA/qAuy3Xe11j/OyBWM/L7cvwoh9EpL2+A/aHJdEhvO4D8d2FNpbo63v8BJFrGS5dg/+nkT0w2b1L/VS3XUbIbwP57XdNBk7tK/a8wRyA3S1j8fcLfM2Z3dv/edulv5nfM/61AEpEoI2T+b1y8fL9XOP82nFYkU0Ni/CwZ9fJWno78=",
          "dtype": "f8"
         },
         "z": {
          "bdata": "eLHtOP06mj+3UTgZkvDjv90JJ3rKJcS/tibpAacw0L8RH21K0mnlv6rCFdvl27M/qbUFLHU41r8kgLx7F0DQvxWElgKd0+m/qxiFTmsepr8JPCHsfZjTv1nw5/ejZvC/WRTgM93L3b9N/KrWpnTiv/zOkSE6Osq/uhR8cm4l4r97M46fizrbv0Z1uws8/+C/ROSn1aoJ4b+j5BdgXRfqP5dnS8siPtG/hHvg3Bbx6r8LjXbGaE/BP8AOj5PgMuO/50uQgAUX1r9WYg/fweDcvwNQPCfxTKG/guwBrby1p79K/boKMErRv/hiu+HqxOO/cJT2ltu9278FD3pAX2Lnv9vjgJ7Zk9a/CJlbgE405b9odsGTLTbgvwEDJ90w7dq/aBab4VAhwD9a2SkBr/jUP73S7kF0sdC/fuZek+Ld8b+486jv0JTrvzuze4muK+W/1pcooZ6i6L8Po3+nNUzWv18HXv/4q+u/sSFPlLUA4L+3Xcc/PjzWP0pdvTA6nMK/9pnfpPbMwb+f9DrCKyu/vwteJ9yOzPC/MP+VCMc1t79UoHp9wJ3XP5G3miOR9tK/PG4WdCRb778=",
          "dtype": "f8"
         }
        },
        {
         "hovertemplate": "color=Medication-Induced Movement Disorders and Other Adverse Effects of Medication<br>x=%{x}<br>y=%{y}<br>z=%{z}<extra></extra>",
         "legendgroup": "Medication-Induced Movement Disorders and Other Adverse Effects of Medication",
         "marker": {
          "color": "#EF553B",
          "opacity": 0.7,
          "size": 4,
          "symbol": "circle"
         },
         "mode": "markers",
         "name": "Medication-Induced Movement Disorders and Other Adverse Effects of Medication",
         "scene": "scene",
         "showlegend": true,
         "type": "scatter3d",
         "x": {
          "bdata": "f43lik8C47/RPCUiwZnev4yOkypHSda/pExWnDpW4b8m94vIAVHBvwEpPxnNzd+/Eq1s7/vb3b9dCI/Ywvrlv7xLyk45TOO/myyj3IDU4L9HUDQi0xTlv13Sgvwhiem/Xgfm4Q0L3L+uZR5shHTDv6lqIP6Q1tu/e314kqGv5b/lsACJ3jHuv/5AyvORBNW/Y0Fdu6LX2j/g7y+wjq7uP7lnTLkhktO/d2IMdIxZ0r9/ssuaTIzuv3lK+GHsds6/TF4nVzAD57+WsYJ3VNbHP8e1ftAOT+O/4GFFLT7/0r9hqfjfeJTUv1shjDE6/K0/gJJ/GVQe779jtLIBNRbCv9LoRS+Eg9K/lS2PoGgQ6r9p8BQqLf3TPw==",
          "dtype": "f8"
         },
         "y": {
          "bdata": "hQ2xY3vp578Wsm/4djfYPwT8b+Of5d2/GZ3OB89d47+xtzf6xZ6LP8v/voMGpuW/v7MA/JyG3L8P+7ijse9Qv/a7kH6sSNK/ligAVibK4b+TQA+vd0rnv5KYUnYK6+2/HtbDwUDYxb8ja+QMFW+2P44KKinanaE/7ljUqYkYtD/Mq5PoPY3Kv+QC7JRSzOU/NfqvQdFMv79Q8ckYS4L/P/7cI5+EfNq/jpJNe5RcZT8Qy0VSNzu4vxftkifXA4M/4g+u0B9+rD+XGTwlmDziv3e0HLj35tS/QobmxRaqsb+n9F3hoaqpv5zmqQdFjr0/wUWyS73N0r8iWi/ZbSTBvyki02tmYea/nrUZm7gG2b9sNz7lGlrMvw==",
          "dtype": "f8"
         },
         "z": {
          "bdata": "nd1cozSAyz9Swm9ow7flPyWi5tRq1t8/DN6gYaZxzz9y/h8DexbdP7O8TQgkpdU/aq3hkq8n5T+zJNG+uEzwP/hoLMSCCO8/6J3Zxkvz6z+v5ir/PibCP+jPu1h2y4S/6mhhDFVL4z88jKgw9QPTP7deiwsJY+Q/x5b2CnuG5j/9ujyD9nLmP31YA3K3mug/uVeAVa/J3r/+yyCkNfPevwNnAm0SS8e/NOl4X0Dl5D/npPQ43fXhP3FPJ6mOmu0/YBYtypIs4D9X7goKxfjRP7b3LdMreek/sECADZmq0T9uZ3B00BnxP1lqUUXUw9E/PU5/ArlK0T9JpD8qanO+P4KMYLjm2Mk/MtSG/YCL2z9J/GSL353ZPw==",
          "dtype": "f8"
         }
        },
        {
         "hovertemplate": "color=Other Conditions That May Be a Focus of Clinical Attention<br>x=%{x}<br>y=%{y}<br>z=%{z}<extra></extra>",
         "legendgroup": "Other Conditions That May Be a Focus of Clinical Attention",
         "marker": {
          "color": "#00cc96",
          "opacity": 0.7,
          "size": 4,
          "symbol": "circle"
         },
         "mode": "markers",
         "name": "Other Conditions That May Be a Focus of Clinical Attention",
         "scene": "scene",
         "showlegend": true,
         "type": "scatter3d",
         "x": {
          "bdata": "Z9VsqsW/wr+x3i9S6cPav74WHcERZas/RdP/ller8r/qWDBEJL/0P1BRaA8qBeG/Dq9ObKbz57+xZDQC9l/rP2KZTX6wr/K/8EPRAx+mqT8MMMz2UBHwv7V+CAOTPsw/XzGwtagyBUCQw8/wzpTsv3b3+Lg44dg/jbVfimja6L/CelElhv8DQNAYf7J7ley/zsuuxH8R3D9Dqjr3yZvtv3hbYt0go+g/GoIL/mXh5b80kAwnLj/Rv+0bGQ0Q0NW/Lff3DTUUvr8PPELBgqvov63zMwVRoN+/EQBm4iH96D8p8C4euAXhvwzSBmiphsm/HeQ1LDRz6r8CeDuv1cDfv/bnkUtSyay/veWOQ11W8j9wgDtzMcnAvxOb3HIdpug/",
          "dtype": "f8"
         },
         "y": {
          "bdata": "jMkXU/LC9T+lZ++uQ3jpP7uheI/s4vA/MugIg5Ik7T9Dfk9MqKfuv/EvIZysTuE/lc3T3k/S8z9abf+Z3zADQClo6tClQso/aXgxCLnV6j/7g6nggonXv8dDWrJFm+c/KGkB/Xcg8b/gBPgRJR3tP6QcBrIzd/0/6zqqc19I3j9Xy0kgotLev+YIdWWpzNo/QM9h+3ew8D+MZ9TjEEHtP90wJv1VTglAUdelsrfI7D+IEqkJa2fmP6HS4GTxi+U/RvFF45VP9j+UEPcoWynVv3C/mJKom9U/NHL9MAn33b9sQAyfycnlP597AbRAtug/K5HFWcLa9j+MGUyHZMLxPx7x493xq+E/cISKgxfxDUBXT33EcDv2P0PIkX/1/ti/",
          "dtype": "f8"
         },
         "z": {
          "bdata": "gLYlKJM+8L9uE2CdOirZv3F5IC3zn++/mUiVdLfPuL8yurFr/b6gPy/JWLYMraY/Ote/ccgu2r+fg2v5KsDxvwwl4sPrNuW/s197Erxhxb+7GE5EhPDhv4ZzcLvpkOK/O+1erFgKx798ig9vjCTevxSP+RC81OC/HM3F3GZqwz/cwBYqNa+nvyGjeoT6Tce/rGlzl6oI4r/6jXXUfz66v012DYAhJ/G/w5A0FZZFxL/mHaEvhifkvyzk1+GWT+K/UFbrl2tF5r/HZdmDI4nXv8CK6ShNPty/6jwt+nZqqb/Og5gxOEWzv1cup1CGgta/aAmDfUVd37/e5Y/dfNXqv5eDtrs/XNa/+7YddNHV7L9lVXngqHXjv5xEZlJQQte/",
          "dtype": "f8"
         }
        },
        {
         "hovertemplate": "color=Personality Disorders<br>x=%{x}<br>y=%{y}<br>z=%{z}<extra></extra>",
         "legendgroup": "Personality Disorders",
         "marker": {
          "color": "#ab63fa",
          "opacity": 0.7,
          "size": 4,
          "symbol": "circle"
         },
         "mode": "markers",
         "name": "Personality Disorders",
         "scene": "scene",
         "showlegend": true,
         "type": "scatter3d",
         "x": {
          "bdata": "pTEhOWgw+r+Ql6W9dMTOv2+GTtzVUua/WYo+E7ha9r+WBRmJhLPiv5Gg+fEuN/S/m3CZyY5f9j+YgYTEfoP3v777DQHgtfK/OjZaS0Gl2T8spCYpF2TUvw==",
          "dtype": "f8"
         },
         "y": {
          "bdata": "XyKJm3la17+5dPnONXPkP7JdHaooO7G//Dmz/DSW1b8wgG6PRgHNv4j9EV2tNtG/ZlontyqZ9r8RzrSfM6fMv/oNO8Dbjt+/X6JUVwfn4j8YKSfAy2jXPw==",
          "dtype": "f8"
         },
         "z": {
          "bdata": "LuPb1jczxb9a936W7BXkP6JpPA2m+8O/1KMA/0o4ub9Jsxbfr7Phv7qsRyNyCtC/o8nne1yfuT+WVQavFvrUv+6etp5spd8/RXOfU5bk7T/74BaMMc3jPw==",
          "dtype": "f8"
         }
        },
        {
         "hovertemplate": "color=Communication Disorders<br>x=%{x}<br>y=%{y}<br>z=%{z}<extra></extra>",
         "legendgroup": "Communication Disorders",
         "marker": {
          "color": "#FFA15A",
          "opacity": 0.7,
          "size": 4,
          "symbol": "circle"
         },
         "mode": "markers",
         "name": "Communication Disorders",
         "scene": "scene",
         "showlegend": true,
         "type": "scatter3d",
         "x": {
          "bdata": "zzLCSwU+8L8yuNsV7RS1P3dWX8SpMvA/2w7xlprvAkAZHOTsXKLDv4FLbv5z6+c/aFN/BcSZ4T/1uvKsHr2YPzLGE7lie+i/CZceIIDZvD8DnVE+KoXlP5qKbWHpnsK/VyIcRZdH6L/54n15m83qP/Et7mxNr/M/jNynMmXmzb+kvePZATKavzipJFEYAtc/VOJLdd+337+Y1BIUAq68P27IGr8iEe0/t7rwlw+G+j8=",
          "dtype": "f8"
         },
         "y": {
          "bdata": "PJQzDkXZxL9GGbVFLmfZPzQfCZu4ANQ/NPgLRZwj+r9JwjUNUl3fv1XIDApfYJa/1+HpY6md0T/dG6W2vuShv02Rwm1sAc6/MOuxZVZW6L9vlTxQquPUPzphQcSb8dM/sJLHmg8s2z8T4x+dqFK9P8WI6gzFMfE/7/wjpgK80r93hhomWWuMP5MzVXhG8Ia/ByoXMLSz3b9mtJLftQ/9PzuqhVZ0s+a/mRbv2hmf878=",
          "dtype": "f8"
         },
         "z": {
          "bdata": "EYSQU0lY0b/A/WbqF3fBv2kdJspY4Lc/T95bHsNAdj8CrrbuHzbmv+bgf6aaYaO/JgVQXhSy079joCX6qWXmvwWQkWS0V+i/Er49tGVD2b+HxmFUbnvHP2NgroXM0No/ihMOn9ALrb9fNaGlF8SxP5oZJzEt3eS/m2MJF4FI1r8SOe8OFxfXv4eUR/yTas+/fEeMFfJ2779XA7ZIB+Dnv18al2xoSce/o04aM4Lozb8=",
          "dtype": "f8"
         }
        },
        {
         "hovertemplate": "color=Autism Spectrum Disorder<br>x=%{x}<br>y=%{y}<br>z=%{z}<extra></extra>",
         "legendgroup": "Autism Spectrum Disorder",
         "marker": {
          "color": "#19d3f3",
          "opacity": 0.7,
          "size": 4,
          "symbol": "circle"
         },
         "mode": "markers",
         "name": "Autism Spectrum Disorder",
         "scene": "scene",
         "showlegend": true,
         "type": "scatter3d",
         "x": {
          "bdata": "he0rr6M17L900SreVQDYv3s4vytxVcE/wceU46+78b+/KVQ5bFHmv0zecVAf4PE//h3t9/1D6D9SoaWoNnXzv0xKitBmIsQ/TsuXsvjG8L8Dv3dzc4Xqv0K3ztdthOC/f/f0oBc8+L/HViFAwE/pv/pndygbTPW/VE9QSKUi77+QDKPva9Hkv4NRAfZDt5E/BMl2nQBD9b8FKWHxlRTwv4YM3OmF2M8/HpMBJLJt3L+io/+RhWn1vx7C+pWMf9s/Z/2NUP1E7r9CcmeJuIrnv5ixbBKrJPu/ebDhOuW707+2VpK7vwW0vw==",
          "dtype": "f8"
         },
         "y": {
          "bdata": "hEkjca0i1b/1tlEjySncPxOZLemMd+C/52WBgxEc6L++S8RzrfW3v/QHaEIhUeu/ba1H5Irx9L/tXvRDL+fqvwOuEEBLwpU/42gYkVbB3b9k+b8XzgHCvxqULtS6BN6/x0AYmDig2L8JDiratpOsP/vRtcPlT+W/AAuDFs5+yb8dSOl5fDvev6Uae3reEM+/OSYFMiELVz9iPctw1cPYv73kwUWJ0Mc/J4vBm7aN0L+0nVCCCjrmv1fxRPClM/8/1dc8qH3O2b8iVc83U4/Ev0GDUcWDEeS/UrfMlQJ7mj/M+4z59kfBvw==",
          "dtype": "f8"
         },
         "z": {
          "bdata": "1qz2nCzcwD+P0Im+9Xvsvw27eZEHf8+/2oa/scJ+2b9JY8zxs2LpP8wqNjhlebu/gq9+GxNt0D/5fZHBS9Tav9a7DEEJ3sC/iJ7ReGMn5L+rOF/pT6Wdvw/Q3CvzWu2/DjBGwWH3wz8bWYt0jibevw/IxyknUcW/+nJyC6gNz78+3UOpJ4zWvzH2aZ0CCsc/83upGOWJ4D/tuC+I3ArRv9FRakEnrua/2UcZgwoV078Hk3LBpU3Qvwlbx0bmpdO/R1tj7Ybi279U5huUiJncvzVlxthovN2/laI4a1HowD8QvIOK24PoPw==",
          "dtype": "f8"
         }
        },
        {
         "hovertemplate": "color=Catatonia<br>x=%{x}<br>y=%{y}<br>z=%{z}<extra></extra>",
         "legendgroup": "Catatonia",
         "marker": {
          "color": "#FF6692",
          "opacity": 0.7,
          "size": 4,
          "symbol": "circle"
         },
         "mode": "markers",
         "name": "Catatonia",
         "scene": "scene",
         "showlegend": true,
         "type": "scatter3d",
         "x": {
          "bdata": "W20JzYq/AUB4NzF3rCgHQFNW39Ubusi/fBdsnuOa7b+Gj6xBsUQDQOXQYOAUS/A/IBYcYnomwD8FUupRodsFQOiH8cFyBeG/x8RsJPLg6j8=",
          "dtype": "f8"
         },
         "y": {
          "bdata": "W26WLYbb9r/tZvpSAIr2v04NgZaHmOQ/aVv2YNaS3z8MzKT8nbL3vwLIPfD26sQ/K6R4hq7X5T9ZdOofZhv3v3kKANMyIeK/rZbVyYvkzb8=",
          "dtype": "f8"
         },
         "z": {
          "bdata": "yihHXDmx1j8qWaPfKoTFP1Vq4FmGvb4/nNXyTGLh5j+2u2pOARbWP9uCSBIHBcw/y9YErxyY1b8b7c9Ri5fBPwJ3FEq0NOk/uoE5Zk8IwT8=",
          "dtype": "f8"
         }
        },
        {
         "hovertemplate": "color=Cluster B Personality Disorders<br>x=%{x}<br>y=%{y}<br>z=%{z}<extra></extra>",
         "legendgroup": "Cluster B Personality Disorders",
         "marker": {
          "color": "#B6E880",
          "opacity": 0.7,
          "size": 4,
          "symbol": "circle"
         },
         "mode": "markers",
         "name": "Cluster B Personality Disorders",
         "scene": "scene",
         "showlegend": true,
         "type": "scatter3d",
         "x": {
          "bdata": "MOpWOzd9z7+ufGKRS37nv/dtAfOvlvO/dr1X0mZO6L8ipoG1kGPtvyy8PBtvYOq/PjF4JYGy4r/hyXbU5XsBQDGkJ6eg8fC/5EWKwXS98L9bRtxAbFzov9JLETY8Xqu/fGUP3x1M/z8/xQD2w5Dmv+/WU+TlYuG/XEZrygg37r/21KMO9Jzwv0PNh9hwVv8/C+HfH2LSxb+XOkkuiC7QvwriBFMMPd6/TAUPN2iA57+ECbe9gCLov4Wy/vbF2MU/joTtrENM878SNffnmOT1PxxDAkYRv8m/vnXm4IqU579vwwl4+NXov6QsadA9zta/yCvtWp9TwT9SaxGWUP7Fv7QXo/UPJsg/othNlI2h9b/rg/Fw4BXwv+HIjgCqTNO/8CuB8Ssu8b//L88zMuDbv9BcEAjog+Q/AsR/fhST9L+sAoICxwHtvw==",
          "dtype": "f8"
         },
         "y": {
          "bdata": "N0vEvKMlz7/KjLp+4JLhv9HMcMgeDem/NqgrW5v4wT+TnJty+OfFv2wAZPTWgcg/J1SrHovk178lQ8A7Xkj3v9/nqcjHGfK/jcHt0Sm1479ZuaLd0rjCv/G77OQdaK4/MZExgOWX+L+pcY4MVH/gv+1xjzHKgei//nkcRfUb8r/wAfde1kfxv+NrecvBd/a/9K4Uo8Fwl7/JENWDBCriv5NEV4USAuE/f3CmHv2B5L+Y2Su1ywrUP2meggAmRrs/3u8Lfvak6r+QQyEXbjb5v25Tn4d0//C/RZ98dJkjzD/iRuM0q+DsvzfcSbYuorq/4lisci811r+HZjQfppDXP+eFA8Qz4OI/9HsrgSYm2b+ed3dlG/7ovyNADvCcMd0/4DLcHsdyoD+Bwvr+w8TRP+KNlOImHO0/pLJTPE1r77/EQ2eQzLjOPw==",
          "dtype": "f8"
         },
         "z": {
          "bdata": "QmOEMe7XvL/BQzt1r1PRv0ZJHkwtLsQ//XeFQ/1T3z8k0MczaVLmP2YQSKTIOs4/nCl5XD3T1L+ItVYiNCvbv9j8ljE+pte/s1aq9Ln107+KkBOQqX7gv80yiLU+j94/gxMFNra40z+qcI5z7Di8P4FYThUi1so/+5m/Crx237+Xk/MzsK3Qv8sZnZ/eoLK/f76VUoSa4b+EF85otgmjP+3i0VniGsq/NK89ZnDp4b81EJnPv5XUP+eAfIv45O0/UXQvXlTI3D8HRBVICrfMv6poqrAWec+/PHZqETwTv7/kI0tw7ILHv9cAxju6guE/1SQpHw3T0j/q+PO2S5Tev80MFyn7u9Q/AKcvxyud6D+lA16xA3O1P+mfhl0ZCLa/S8L7EkfAxb/QG38P0s/nvztre2KMKOk/9xXT3kUqzr+jwgetxLLQvw==",
          "dtype": "f8"
         }
        },
        {
         "hovertemplate": "color=Gender Dysphoria<br>x=%{x}<br>y=%{y}<br>z=%{z}<extra></extra>",
         "legendgroup": "Gender Dysphoria",
         "marker": {
          "color": "#FF97FF",
          "opacity": 0.7,
          "size": 4,
          "symbol": "circle"
         },
         "mode": "markers",
         "name": "Gender Dysphoria",
         "scene": "scene",
         "showlegend": true,
         "type": "scatter3d",
         "x": {
          "bdata": "nLmKpzQaAUBQqVW1pejkv9aD9pZkrc6/fvRi2SF28L9cWvPnfPjpv+sQIgBXc9S/qwD0D6pt4799ePKC+0nsv/JqbctydfG/CUQ7kp5Q8r+B5e33j7vmvzegqCc6xtS/PzxORkB7rT8lFz+ehUXYvyawDNYBcuq/7nNPZ2E+8796bh27BpDqvy+aQxCHXei/XjxGpY4j+T8TBzdBOuDlvw4sA9wgL9+/dRb4VClv6z+1viRFjYruv2nnguxYuvO/erIdvAmG0b+THrI1kZ/aPxwVsfw///0/",
          "dtype": "f8"
         },
         "y": {
          "bdata": "FMyi7LuM8b+gABoqo+Pav/1qBM/OGsu/DfOu1S/rjz8hMztAxBzyP4olwNbqmsk/bZK7zv7Mrz8ghFfkXmLMP+ZLFmqYMua/gvne342N67+v/Vsz3mPCPwai7SRIy9O/T4LBVTsXzj+drtzTPEntP5YxoyqQY9i/g7+KgZsK6L/Fna9niReov3MdwoeyaOm/+jQ4FmJj8L/INpX4B0vZv6sQVPKtYMO/xTKe32Xz+D9THUxzBQDyv4LwiDjClOO/nK4HkwbH5D+TUrGKKarFP0bCou6R8PC/",
          "dtype": "f8"
         },
         "z": {
          "bdata": "jWm7olqs1r8RWolXfOjfv4PcurvzvKi/hu6sOsyj57+ozhBv7r3tvyFD5uue9ee/SS3qE+ty57+Blg9heWvnvw2ZDX2zA+C/Sv7zITrd6r+m+ENtblfxv+wcAT4YgvO/G/rbBpkB0T+w/Pq9xwTxv1OjXJ67pOS/+Fr8iHlG8r/qk036Q0Hjv4rMnKgoF+m/kvXJiLFa5r/bQbK+6evkvz3nEsJYreW/fTTXlKKu97/1pdMhrhviv32tZ1ViCd2/5wEe6oLo3r9PmjJbfiLnv56UVAVzP+O/",
          "dtype": "f8"
         }
        },
        {
         "hovertemplate": "color=Other Mental Disorders and Additional Codes<br>x=%{x}<br>y=%{y}<br>z=%{z}<extra></extra>",
         "legendgroup": "Other Mental Disorders and Additional Codes",
         "marker": {
          "color": "#FECB52",
          "opacity": 0.7,
          "size": 4,
          "symbol": "circle"
         },
         "mode": "markers",
         "name": "Other Mental Disorders and Additional Codes",
         "scene": "scene",
         "showlegend": true,
         "type": "scatter3d",
         "x": {
          "bdata": "6ig2XxKJ878T3bH9U3Thv7Qs0F+s5vO/yGozWNJy5L8=",
          "dtype": "f8"
         },
         "y": {
          "bdata": "QLZdoPQ42z/C4g0sB3/dP/McOUXJxuI/X/FMdlXN3D8=",
          "dtype": "f8"
         },
         "z": {
          "bdata": "FyfvmAKHyb8WKvRciEu0v2V8ay7rddW/ck6ZVPXuvL8=",
          "dtype": "f8"
         }
        },
        {
         "hovertemplate": "color=Cluster C Personalit Disorders y<br>x=%{x}<br>y=%{y}<br>z=%{z}<extra></extra>",
         "legendgroup": "Cluster C Personalit Disorders y",
         "marker": {
          "color": "#636efa",
          "opacity": 0.7,
          "size": 4,
          "symbol": "circle"
         },
         "mode": "markers",
         "name": "Cluster C Personalit Disorders y",
         "scene": "scene",
         "showlegend": true,
         "type": "scatter3d",
         "x": {
          "bdata": "/UuadBAD4b8kVH4DcKHyv3cs7YtHEOc/i8exO/LD4L9plw9P9D3yv11ayDxFK/O/689BdCb9+z+1+zw2ZcfsP24H6wHsY9S/2q4+Ee/B+L+yNuhePRTsvyYbrzMs7ui/W3XLGiyojr+YIEWqPgDov+aeNvx1OOS/qBJxPl8Dyr8CXAYJhVHqv10lrYySKN+/dKk4SITp7z+bbbqiA1u1P+DXwQP5peq/O9vEiBaI9j8jnYT9Gqvuv+DBOyaxkd2/AVBnlro58b+jhJi99Eh2P1HAgSDZ0ue/CEf6rnJ44L8=",
          "dtype": "f8"
         },
         "y": {
          "bdata": "+MdLUk1m47+kYU+5nl/wv9aag1miWeu/3ozXZyoOsr9tjzxgtR7Lv6kUmKCsxfC/Pd3sUYal+b+aqJDKaYv4vyJVRshqHaE/UVL6q+Lh57+wYzh65ADtv3FJGG1xj/K/CqLQdOpS07/dNxGOHiXYPyaOXKRk1vK/ZSQynCQY5D84NZWiy5jyv/tIGhFJyNE/8QzOmSem5L/lX5o2G3i+P7z0O8YgP+u/EnNHsPT9+L9I+qRGY8zNvxa/Li4r3+u/+NN/urH98b/HrC41e//gP4FmNzMvH5i/OTFYAdGExr8=",
          "dtype": "f8"
         },
         "z": {
          "bdata": "7t4r2VaZ4L+tZuCAzAO/vyqbVWGHxos/iQWxQweW5r+8CNOKZKvnP18uDiDvFcq/B/oRNNLAwr8CPaSPe2XTv+Z3PmkXlt0/LFJaMjom3b8KFGj1gTHcvxV8bzemvt+/nd57gJyF5j92pzDj5ZjwP5uvlzv5hcq/C5O/ZTqoz78GW3q/fZbsv6HsQGpwis+/JIaCpuHixz/gv/e2pbfbP1DDjYhysdy/gJdU8lm5179AVb83SXHdP8Z8BRA03ta/KNIiVylD3r+KYQry1S7NP5JvmM6O6+W/jQDQ2wK96j8=",
          "dtype": "f8"
         }
        },
        {
         "hovertemplate": "color=Intellectual Developmental Disorders<br>x=%{x}<br>y=%{y}<br>z=%{z}<extra></extra>",
         "legendgroup": "Intellectual Developmental Disorders",
         "marker": {
          "color": "#EF553B",
          "opacity": 0.7,
          "size": 4,
          "symbol": "circle"
         },
         "mode": "markers",
         "name": "Intellectual Developmental Disorders",
         "scene": "scene",
         "showlegend": true,
         "type": "scatter3d",
         "x": {
          "bdata": "PC3EMBxv87+HCS5osaLjv2mtK49Jwu+/MgbFQhUH87+0x7t5UuG7P8ZWC8xysMo/pGrVvWKK9L9bvEqP+BLOv4XTE7D+pvG/LRMROO/aAkAtAUNdnTTpvxrkn2igFOa/whE3Fwnz6b9ShIiUc2vev5xCKCnf0Nq/iSWF/wH28L8=",
          "dtype": "f8"
         },
         "y": {
          "bdata": "gWnfpJ/nyb/VB+RYFmfNP9G1cAeV6+K/Id3cyg8Y0b/peA92XBXUP8v0FYYBRbq/jAk6nCZ/6r/0lPV/aV7bP9D5sV03yei/bMIib4icDkDscIn2siXZvxbmhfEfzdG/w2VdS7yy3b/jEvFinV3LvwY3CLGyasA/cmjLHyx6278=",
          "dtype": "f8"
         },
         "z": {
          "bdata": "8RK++28l3b/RLDn+paTov+yx7dgs+q8/fq/iIO0Txr//NdPeQby1P1pzfz8EB+W/0GEyAiBl8L91CSIiQGTrvzN4KtWYPe6/81RvHY/U/L/yblI/s0fSP1Dj8zH/h+6/nIlF7uPA7L87qV/O8tfRP5DBzeJgCPS/dtScKYeZ578=",
          "dtype": "f8"
         }
        },
        {
         "hovertemplate": "color=Elimination Disorders<br>x=%{x}<br>y=%{y}<br>z=%{z}<extra></extra>",
         "legendgroup": "Elimination Disorders",
         "marker": {
          "color": "#00cc96",
          "opacity": 0.7,
          "size": 4,
          "symbol": "circle"
         },
         "mode": "markers",
         "name": "Elimination Disorders",
         "scene": "scene",
         "showlegend": true,
         "type": "scatter3d",
         "x": {
          "bdata": "zKKZK+gG4z+BKCi/SwDWvw3Q2CbiCn2/UZIe6lTFwL/LcWf3lWrnPwCSHkvae8E/LXvEdcwksj8fFYqRjdewv+wB6Zo2XdA/mfRl1GH4mj+EBgUSUJvIvwmkQrAxxcS/cTtc6AO1sb9xE+OU+0/OPxF8qDTMltM/EAYRhSUq1j9RK2My2xjyPw==",
          "dtype": "f8"
         },
         "y": {
          "bdata": "9iEsGdGYwz/wspoIMC7iv1Ray4jGx+s/rq3pZPe85b/K/GCiCk7fvzcMQL/oELK/QFOh7IS1or+7F+1ezi/VP26prbTdqbQ/OTZ+RppFzr/80189T37jv5+D/aQ4jfU/3Oj8i9FI0z/LwD3yPIrZv3RvO0DyluE/Aa62Jbvn4L9v9KoxdhLnPw==",
          "dtype": "f8"
         },
         "z": {
          "bdata": "g/hwTtcy2L/Dn7saWauQPzn/3pDidtm/VLYcQiTr5r9FPkPtsnvVv3ZSxyOTPOi/iYzT2IsT47+qh85XU4HxvywPUJflQsA/Dn8clGt007/ASA1sxuDhv1ZMyj1hydy/KQBzjYiL67+sUYEPWRnZv7R3RFIdaOm/qzoqaimb5L+YZ/X7PgvWvw==",
          "dtype": "f8"
         }
        },
        {
         "hovertemplate": "color=Other Neurodevelo mental Disorders p<br>x=%{x}<br>y=%{y}<br>z=%{z}<extra></extra>",
         "legendgroup": "Other Neurodevelo mental Disorders p",
         "marker": {
          "color": "#ab63fa",
          "opacity": 0.7,
          "size": 4,
          "symbol": "circle"
         },
         "mode": "markers",
         "name": "Other Neurodevelo mental Disorders p",
         "scene": "scene",
         "showlegend": true,
         "type": "scatter3d",
         "x": {
          "bdata": "YnJDlFUlxT9UyJIL9gTePw==",
          "dtype": "f8"
         },
         "y": {
          "bdata": "FdZqziEB9j+ggWjFoxmJPw==",
          "dtype": "f8"
         },
         "z": {
          "bdata": "hbXpio734b/d+HuLzQXmvw==",
          "dtype": "f8"
         }
        },
        {
         "hovertemplate": "color=Additional Codes<br>x=%{x}<br>y=%{y}<br>z=%{z}<extra></extra>",
         "legendgroup": "Additional Codes",
         "marker": {
          "color": "#FFA15A",
          "opacity": 0.7,
          "size": 4,
          "symbol": "circle"
         },
         "mode": "markers",
         "name": "Additional Codes",
         "scene": "scene",
         "showlegend": true,
         "type": "scatter3d",
         "x": {
          "bdata": "sjujFi4gtD8=",
          "dtype": "f8"
         },
         "y": {
          "bdata": "xF1wwHln6T8=",
          "dtype": "f8"
         },
         "z": {
          "bdata": "F4FtRQfJ5b8=",
          "dtype": "f8"
         }
        }
       ],
       "layout": {
        "height": 800,
        "legend": {
         "title": {
          "text": "color"
         },
         "tracegroupgap": 0
        },
        "scene": {
         "domain": {
          "x": [
           0,
           1
          ],
          "y": [
           0,
           1
          ]
         },
         "xaxis": {
          "title": {
           "text": "x"
          }
         },
         "yaxis": {
          "title": {
           "text": "y"
          }
         },
         "zaxis": {
          "title": {
           "text": "z"
          }
         }
        },
        "template": {
         "data": {
          "bar": [
           {
            "error_x": {
             "color": "#2a3f5f"
            },
            "error_y": {
             "color": "#2a3f5f"
            },
            "marker": {
             "line": {
              "color": "#E5ECF6",
              "width": 0.5
             },
             "pattern": {
              "fillmode": "overlay",
              "size": 10,
              "solidity": 0.2
             }
            },
            "type": "bar"
           }
          ],
          "barpolar": [
           {
            "marker": {
             "line": {
              "color": "#E5ECF6",
              "width": 0.5
             },
             "pattern": {
              "fillmode": "overlay",
              "size": 10,
              "solidity": 0.2
             }
            },
            "type": "barpolar"
           }
          ],
          "carpet": [
           {
            "aaxis": {
             "endlinecolor": "#2a3f5f",
             "gridcolor": "white",
             "linecolor": "white",
             "minorgridcolor": "white",
             "startlinecolor": "#2a3f5f"
            },
            "baxis": {
             "endlinecolor": "#2a3f5f",
             "gridcolor": "white",
             "linecolor": "white",
             "minorgridcolor": "white",
             "startlinecolor": "#2a3f5f"
            },
            "type": "carpet"
           }
          ],
          "choropleth": [
           {
            "colorbar": {
             "outlinewidth": 0,
             "ticks": ""
            },
            "type": "choropleth"
           }
          ],
          "contour": [
           {
            "colorbar": {
             "outlinewidth": 0,
             "ticks": ""
            },
            "colorscale": [
             [
              0,
              "#0d0887"
             ],
             [
              0.1111111111111111,
              "#46039f"
             ],
             [
              0.2222222222222222,
              "#7201a8"
             ],
             [
              0.3333333333333333,
              "#9c179e"
             ],
             [
              0.4444444444444444,
              "#bd3786"
             ],
             [
              0.5555555555555556,
              "#d8576b"
             ],
             [
              0.6666666666666666,
              "#ed7953"
             ],
             [
              0.7777777777777778,
              "#fb9f3a"
             ],
             [
              0.8888888888888888,
              "#fdca26"
             ],
             [
              1,
              "#f0f921"
             ]
            ],
            "type": "contour"
           }
          ],
          "contourcarpet": [
           {
            "colorbar": {
             "outlinewidth": 0,
             "ticks": ""
            },
            "type": "contourcarpet"
           }
          ],
          "heatmap": [
           {
            "colorbar": {
             "outlinewidth": 0,
             "ticks": ""
            },
            "colorscale": [
             [
              0,
              "#0d0887"
             ],
             [
              0.1111111111111111,
              "#46039f"
             ],
             [
              0.2222222222222222,
              "#7201a8"
             ],
             [
              0.3333333333333333,
              "#9c179e"
             ],
             [
              0.4444444444444444,
              "#bd3786"
             ],
             [
              0.5555555555555556,
              "#d8576b"
             ],
             [
              0.6666666666666666,
              "#ed7953"
             ],
             [
              0.7777777777777778,
              "#fb9f3a"
             ],
             [
              0.8888888888888888,
              "#fdca26"
             ],
             [
              1,
              "#f0f921"
             ]
            ],
            "type": "heatmap"
           }
          ],
          "histogram": [
           {
            "marker": {
             "pattern": {
              "fillmode": "overlay",
              "size": 10,
              "solidity": 0.2
             }
            },
            "type": "histogram"
           }
          ],
          "histogram2d": [
           {
            "colorbar": {
             "outlinewidth": 0,
             "ticks": ""
            },
            "colorscale": [
             [
              0,
              "#0d0887"
             ],
             [
              0.1111111111111111,
              "#46039f"
             ],
             [
              0.2222222222222222,
              "#7201a8"
             ],
             [
              0.3333333333333333,
              "#9c179e"
             ],
             [
              0.4444444444444444,
              "#bd3786"
             ],
             [
              0.5555555555555556,
              "#d8576b"
             ],
             [
              0.6666666666666666,
              "#ed7953"
             ],
             [
              0.7777777777777778,
              "#fb9f3a"
             ],
             [
              0.8888888888888888,
              "#fdca26"
             ],
             [
              1,
              "#f0f921"
             ]
            ],
            "type": "histogram2d"
           }
          ],
          "histogram2dcontour": [
           {
            "colorbar": {
             "outlinewidth": 0,
             "ticks": ""
            },
            "colorscale": [
             [
              0,
              "#0d0887"
             ],
             [
              0.1111111111111111,
              "#46039f"
             ],
             [
              0.2222222222222222,
              "#7201a8"
             ],
             [
              0.3333333333333333,
              "#9c179e"
             ],
             [
              0.4444444444444444,
              "#bd3786"
             ],
             [
              0.5555555555555556,
              "#d8576b"
             ],
             [
              0.6666666666666666,
              "#ed7953"
             ],
             [
              0.7777777777777778,
              "#fb9f3a"
             ],
             [
              0.8888888888888888,
              "#fdca26"
             ],
             [
              1,
              "#f0f921"
             ]
            ],
            "type": "histogram2dcontour"
           }
          ],
          "mesh3d": [
           {
            "colorbar": {
             "outlinewidth": 0,
             "ticks": ""
            },
            "type": "mesh3d"
           }
          ],
          "parcoords": [
           {
            "line": {
             "colorbar": {
              "outlinewidth": 0,
              "ticks": ""
             }
            },
            "type": "parcoords"
           }
          ],
          "pie": [
           {
            "automargin": true,
            "type": "pie"
           }
          ],
          "scatter": [
           {
            "fillpattern": {
             "fillmode": "overlay",
             "size": 10,
             "solidity": 0.2
            },
            "type": "scatter"
           }
          ],
          "scatter3d": [
           {
            "line": {
             "colorbar": {
              "outlinewidth": 0,
              "ticks": ""
             }
            },
            "marker": {
             "colorbar": {
              "outlinewidth": 0,
              "ticks": ""
             }
            },
            "type": "scatter3d"
           }
          ],
          "scattercarpet": [
           {
            "marker": {
             "colorbar": {
              "outlinewidth": 0,
              "ticks": ""
             }
            },
            "type": "scattercarpet"
           }
          ],
          "scattergeo": [
           {
            "marker": {
             "colorbar": {
              "outlinewidth": 0,
              "ticks": ""
             }
            },
            "type": "scattergeo"
           }
          ],
          "scattergl": [
           {
            "marker": {
             "colorbar": {
              "outlinewidth": 0,
              "ticks": ""
             }
            },
            "type": "scattergl"
           }
          ],
          "scattermap": [
           {
            "marker": {
             "colorbar": {
              "outlinewidth": 0,
              "ticks": ""
             }
            },
            "type": "scattermap"
           }
          ],
          "scattermapbox": [
           {
            "marker": {
             "colorbar": {
              "outlinewidth": 0,
              "ticks": ""
             }
            },
            "type": "scattermapbox"
           }
          ],
          "scatterpolar": [
           {
            "marker": {
             "colorbar": {
              "outlinewidth": 0,
              "ticks": ""
             }
            },
            "type": "scatterpolar"
           }
          ],
          "scatterpolargl": [
           {
            "marker": {
             "colorbar": {
              "outlinewidth": 0,
              "ticks": ""
             }
            },
            "type": "scatterpolargl"
           }
          ],
          "scatterternary": [
           {
            "marker": {
             "colorbar": {
              "outlinewidth": 0,
              "ticks": ""
             }
            },
            "type": "scatterternary"
           }
          ],
          "surface": [
           {
            "colorbar": {
             "outlinewidth": 0,
             "ticks": ""
            },
            "colorscale": [
             [
              0,
              "#0d0887"
             ],
             [
              0.1111111111111111,
              "#46039f"
             ],
             [
              0.2222222222222222,
              "#7201a8"
             ],
             [
              0.3333333333333333,
              "#9c179e"
             ],
             [
              0.4444444444444444,
              "#bd3786"
             ],
             [
              0.5555555555555556,
              "#d8576b"
             ],
             [
              0.6666666666666666,
              "#ed7953"
             ],
             [
              0.7777777777777778,
              "#fb9f3a"
             ],
             [
              0.8888888888888888,
              "#fdca26"
             ],
             [
              1,
              "#f0f921"
             ]
            ],
            "type": "surface"
           }
          ],
          "table": [
           {
            "cells": {
             "fill": {
              "color": "#EBF0F8"
             },
             "line": {
              "color": "white"
             }
            },
            "header": {
             "fill": {
              "color": "#C8D4E3"
             },
             "line": {
              "color": "white"
             }
            },
            "type": "table"
           }
          ]
         },
         "layout": {
          "annotationdefaults": {
           "arrowcolor": "#2a3f5f",
           "arrowhead": 0,
           "arrowwidth": 1
          },
          "autotypenumbers": "strict",
          "coloraxis": {
           "colorbar": {
            "outlinewidth": 0,
            "ticks": ""
           }
          },
          "colorscale": {
           "diverging": [
            [
             0,
             "#8e0152"
            ],
            [
             0.1,
             "#c51b7d"
            ],
            [
             0.2,
             "#de77ae"
            ],
            [
             0.3,
             "#f1b6da"
            ],
            [
             0.4,
             "#fde0ef"
            ],
            [
             0.5,
             "#f7f7f7"
            ],
            [
             0.6,
             "#e6f5d0"
            ],
            [
             0.7,
             "#b8e186"
            ],
            [
             0.8,
             "#7fbc41"
            ],
            [
             0.9,
             "#4d9221"
            ],
            [
             1,
             "#276419"
            ]
           ],
           "sequential": [
            [
             0,
             "#0d0887"
            ],
            [
             0.1111111111111111,
             "#46039f"
            ],
            [
             0.2222222222222222,
             "#7201a8"
            ],
            [
             0.3333333333333333,
             "#9c179e"
            ],
            [
             0.4444444444444444,
             "#bd3786"
            ],
            [
             0.5555555555555556,
             "#d8576b"
            ],
            [
             0.6666666666666666,
             "#ed7953"
            ],
            [
             0.7777777777777778,
             "#fb9f3a"
            ],
            [
             0.8888888888888888,
             "#fdca26"
            ],
            [
             1,
             "#f0f921"
            ]
           ],
           "sequentialminus": [
            [
             0,
             "#0d0887"
            ],
            [
             0.1111111111111111,
             "#46039f"
            ],
            [
             0.2222222222222222,
             "#7201a8"
            ],
            [
             0.3333333333333333,
             "#9c179e"
            ],
            [
             0.4444444444444444,
             "#bd3786"
            ],
            [
             0.5555555555555556,
             "#d8576b"
            ],
            [
             0.6666666666666666,
             "#ed7953"
            ],
            [
             0.7777777777777778,
             "#fb9f3a"
            ],
            [
             0.8888888888888888,
             "#fdca26"
            ],
            [
             1,
             "#f0f921"
            ]
           ]
          },
          "colorway": [
           "#636efa",
           "#EF553B",
           "#00cc96",
           "#ab63fa",
           "#FFA15A",
           "#19d3f3",
           "#FF6692",
           "#B6E880",
           "#FF97FF",
           "#FECB52"
          ],
          "font": {
           "color": "#2a3f5f"
          },
          "geo": {
           "bgcolor": "white",
           "lakecolor": "white",
           "landcolor": "#E5ECF6",
           "showlakes": true,
           "showland": true,
           "subunitcolor": "white"
          },
          "hoverlabel": {
           "align": "left"
          },
          "hovermode": "closest",
          "mapbox": {
           "style": "light"
          },
          "paper_bgcolor": "white",
          "plot_bgcolor": "#E5ECF6",
          "polar": {
           "angularaxis": {
            "gridcolor": "white",
            "linecolor": "white",
            "ticks": ""
           },
           "bgcolor": "#E5ECF6",
           "radialaxis": {
            "gridcolor": "white",
            "linecolor": "white",
            "ticks": ""
           }
          },
          "scene": {
           "xaxis": {
            "backgroundcolor": "#E5ECF6",
            "gridcolor": "white",
            "gridwidth": 2,
            "linecolor": "white",
            "showbackground": true,
            "ticks": "",
            "zerolinecolor": "white"
           },
           "yaxis": {
            "backgroundcolor": "#E5ECF6",
            "gridcolor": "white",
            "gridwidth": 2,
            "linecolor": "white",
            "showbackground": true,
            "ticks": "",
            "zerolinecolor": "white"
           },
           "zaxis": {
            "backgroundcolor": "#E5ECF6",
            "gridcolor": "white",
            "gridwidth": 2,
            "linecolor": "white",
            "showbackground": true,
            "ticks": "",
            "zerolinecolor": "white"
           }
          },
          "shapedefaults": {
           "line": {
            "color": "#2a3f5f"
           }
          },
          "ternary": {
           "aaxis": {
            "gridcolor": "white",
            "linecolor": "white",
            "ticks": ""
           },
           "baxis": {
            "gridcolor": "white",
            "linecolor": "white",
            "ticks": ""
           },
           "bgcolor": "#E5ECF6",
           "caxis": {
            "gridcolor": "white",
            "linecolor": "white",
            "ticks": ""
           }
          },
          "title": {
           "x": 0.05
          },
          "xaxis": {
           "automargin": true,
           "gridcolor": "white",
           "linecolor": "white",
           "ticks": "",
           "title": {
            "standoff": 15
           },
           "zerolinecolor": "white",
           "zerolinewidth": 2
          },
          "yaxis": {
           "automargin": true,
           "gridcolor": "white",
           "linecolor": "white",
           "ticks": "",
           "title": {
            "standoff": 15
           },
           "zerolinecolor": "white",
           "zerolinewidth": 2
          }
         }
        },
        "title": {
         "font": {
          "size": 20
         },
         "text": "DSM ClinicalBert Vectors"
        },
        "width": 1200
       }
      }
     },
     "metadata": {},
     "output_type": "display_data"
    },
    {
     "name": "stderr",
     "output_type": "stream",
     "text": [
      "/Users/robrohan/miniconda3/envs/spikes/lib/python3.11/site-packages/plotly/io/_kaleido.py:510: DeprecationWarning:\n",
      "\n",
      "\n",
      "Support for the 'engine' argument is deprecated and will be removed after September 2025.\n",
      "Kaleido will be the only supported engine at that time.\n",
      "\n",
      "\n"
     ]
    }
   ],
   "source": [
    "fig = px.scatter_3d(\n",
    "    x=reduced_vectors[:, 0],\n",
    "    y=reduced_vectors[:, 1],\n",
    "    z=reduced_vectors[:, 2],\n",
    "    color=titles,\n",
    "    title=\"DSM ClinicalBert Vectors\",\n",
    "    size_max=3,\n",
    "    opacity=0.7\n",
    ")\n",
    "fig.update_traces(marker=dict(size=4))\n",
    "fig.update_layout(\n",
    "    width=1200,   # in pixels\n",
    "    height=800,   # in pixels\n",
    "    title_font_size=20,\n",
    ")\n",
    "fig.show()\n",
    "\n",
    "fig.write_html(\"graphs/pca_plot_version1.html\")\n",
    "fig.write_image(\n",
    "    \"graphs/pca_plot_version1.png\",\n",
    "    width=1200,\n",
    "    height=800,\n",
    "    scale=1\n",
    ")\n"
   ]
  }
 ],
 "metadata": {
  "kernelspec": {
   "display_name": "spikes",
   "language": "python",
   "name": "python3"
  },
  "language_info": {
   "codemirror_mode": {
    "name": "ipython",
    "version": 3
   },
   "file_extension": ".py",
   "mimetype": "text/x-python",
   "name": "python",
   "nbconvert_exporter": "python",
   "pygments_lexer": "ipython3",
   "version": "3.11.13"
  }
 },
 "nbformat": 4,
 "nbformat_minor": 5
}
