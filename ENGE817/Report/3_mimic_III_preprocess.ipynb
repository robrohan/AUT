{
 "cells": [
  {
   "cell_type": "markdown",
   "id": "1fd449db",
   "metadata": {},
   "source": [
    "# Mimic II Dataset\n",
    "\n",
    "https://physionet.org/content/mimiciii/1.4/\n",
    "\n",
    "DOI (version 1.4):\n",
    "https://doi.org/10.13026/C2HM2Q\n",
    "\n",
    "DOI (latest version):\n",
    "https://doi.org/10.13026/jbmn-w042\n",
    "\n",
    "Topics:\n",
    "critical care mimic electronic health records\n",
    "\n",
    "Project Website:\n",
    "https://mimic.physionet.org\n"
   ]
  },
  {
   "cell_type": "markdown",
   "id": "dd4beba2",
   "metadata": {},
   "source": [
    "## Data Description\n",
    "\n",
    "MIMIC-III is a relational database consisting of 26 tables. Tables are linked by identifiers which usually have the suffix ‘ID’. For example, SUBJECT_ID refers to a unique patient, HADM_ID refers to a unique admission to the hospital, and ICUSTAY_ID refers to a unique admission to an intensive care unit.\n",
    "\n",
    "Charted events such as notes, laboratory tests, and fluid balance are stored in a series of ‘events’ tables. For example the OUTPUTEVENTS table contains all measurements related to output for a given patient, while the LABEVENTS table contains laboratory test results for a patient.\n",
    "\n",
    "Tables prefixed with ‘D_’ are dictionary tables and provide definitions for identifiers. For example, every row of CHARTEVENTS is associated with a single ITEMID which represents the concept measured, but it does not contain the actual name of the measurement. By joining CHARTEVENTS and D_ITEMS on ITEMID, it is possible to identify the concept represented by a given ITEMID.\n",
    "\n",
    "Developing the MIMIC data model involved balancing simplicity of interpretation against closeness to ground truth. As such, the model is a reflection of underlying data sources, modified over iterations of the MIMIC database in response to user feedback. Care has been taken to avoid making assumptions about the underlying data when carrying out transformations, so MIMIC-III closely represents the raw hospital data.\n",
    "\n",
    "Broadly speaking, five tables are used to define and track patient stays: ADMISSIONS; PATIENTS; ICUSTAYS; SERVICES; and TRANSFERS. Another five tables are dictionaries for cross-referencing codes against their respective definitions: D_CPT; D_ICD_DIAGNOSES; D_ICD_PROCEDURES; D_ITEMS; and D_LABITEMS. The remaining tables contain data associated with patient care, such as physiological measurements, caregiver observations, and billing information.\n",
    "\n",
    "In some cases it would be possible to merge tables—for example, the D_ICD_PROCEDURES and CPTEVENTS tables both contain detail relating to procedures and could be combined—but our approach is to keep the tables independent for clarity, since the data sources are significantly different. Rather than combining the tables within MIMIC data model, we suggest researchers develop database views and transforms as appropriate."
   ]
  },
  {
   "cell_type": "markdown",
   "id": "ee6703f1",
   "metadata": {},
   "source": [
    "## Usage Notes\n",
    "\n",
    "MIMIC-III is provided as a collection of comma separated value (CSV) files, along with scripts to help with importing the data into database systems including PostreSQL, MySQL, and MonetDB. As the database contains detailed information regarding the clinical care of patients, it must be treated with appropriate care and respect. Researchers are required to formally request access via a process documented on the MIMIC website. There are two key steps that must be completed before access is granted:\n",
    "\n",
    "- the researcher must complete a recognized course in protecting human research participants that includes Health Insurance Portability and Accountability Act (HIPAA) requirements.\n",
    "- the researcher must sign a data use agreement, which outlines appropriate data usage and security standards, and forbids efforts to identify individual patients.\n",
    "\n",
    "Approval requires at least a week. Once an application has been approved the researcher will receive emails containing instructions for downloading the database from PhysioNetWorks, a restricted access component of PhysioNet."
   ]
  },
  {
   "cell_type": "code",
   "execution_count": 50,
   "id": "2e633c79",
   "metadata": {},
   "outputs": [
    {
     "name": "stdout",
     "output_type": "stream",
     "text": [
      "Requirement already satisfied: duckdb in /Users/robrohan/miniconda3/envs/spikes/lib/python3.11/site-packages (1.3.2)\n",
      "Note: you may need to restart the kernel to use updated packages.\n"
     ]
    }
   ],
   "source": [
    "%pip install duckdb"
   ]
  },
  {
   "cell_type": "code",
   "execution_count": 51,
   "id": "80cc7112",
   "metadata": {},
   "outputs": [],
   "source": [
    "import duckdb"
   ]
  },
  {
   "cell_type": "markdown",
   "id": "d419125e",
   "metadata": {},
   "source": [
    "## Import MIMIC-III Data Into DuckDB"
   ]
  },
  {
   "cell_type": "code",
   "execution_count": 52,
   "id": "f16b7659",
   "metadata": {},
   "outputs": [],
   "source": [
    "if False:\n",
    "    conn = duckdb.connect('mimiciii.db', read_only=False)\n",
    "    try:\n",
    "        df = conn.execute(\"\"\"\n",
    "            -- To get unique patients\n",
    "            CREATE TABLE IF NOT EXISTS PATIENTS AS\n",
    "                FROM read_csv_auto(\n",
    "                            'datasets/physionet.org/files/mimiciii/1.4/PATIENTS.csv.gz',\n",
    "                            header=True,\n",
    "                            union_by_name=true,\n",
    "                            files_to_sniff=-1,\n",
    "                            filename=true\n",
    "                            );\n",
    "\n",
    "            -- To get a single visit and dianosis. Without this it's hard\n",
    "            -- to limit a patient diagnosis to an event\n",
    "            CREATE TABLE IF NOT EXISTS ADMISSIONS AS\n",
    "                FROM read_csv_auto(\n",
    "                            'datasets/physionet.org/files/mimiciii/1.4/ADMISSIONS.csv.gz',\n",
    "                            header=True,\n",
    "                            union_by_name=true,\n",
    "                            files_to_sniff=-1,\n",
    "                            filename=true\n",
    "                            );\n",
    "\n",
    "            -- Not 100% I need this one just yet\n",
    "            CREATE TABLE IF NOT EXISTS CHARTEVENTS AS\n",
    "                FROM read_csv_auto(\n",
    "                            'datasets/physionet.org/files/mimiciii/1.4/CHARTEVENTS.csv.gz',\n",
    "                            header=True,\n",
    "                            union_by_name=true,\n",
    "                            files_to_sniff=-1,\n",
    "                            filename=true,\n",
    "                            sample_size=-1\n",
    "                            );\n",
    "\n",
    "            -- ICD9_CODE (used to get diagnosis id)\n",
    "            CREATE TABLE IF NOT EXISTS DIAGNOSES_ICD AS\n",
    "                FROM read_csv_auto(\n",
    "                            'datasets/physionet.org/files/mimiciii/1.4/DIAGNOSES_ICD.csv.gz',\n",
    "                            header=True,\n",
    "                            union_by_name=true,\n",
    "                            files_to_sniff=-1,\n",
    "                            filename=true,\n",
    "                            sample_size=-1\n",
    "                            );\n",
    "\n",
    "            -- ICD9_CODE (diagnosis text)\n",
    "            CREATE TABLE IF NOT EXISTS D_ICD_DIAGNOSES AS\n",
    "                FROM read_csv_auto(\n",
    "                            'datasets/physionet.org/files/mimiciii/1.4/D_ICD_DIAGNOSES.csv.gz',\n",
    "                            header=True,\n",
    "                            union_by_name=true,\n",
    "                            files_to_sniff=-1,\n",
    "                            filename=true,\n",
    "                            sample_size=-1\n",
    "                            );\n",
    "\n",
    "            -- to get the patients chart.\n",
    "            CREATE TABLE IF NOT EXISTS NOTEEVENTS AS\n",
    "                FROM read_csv_auto(\n",
    "                            'datasets/physionet.org/files/mimiciii/1.4/NOTEEVENTS.csv.gz',\n",
    "                            header=True,\n",
    "                            union_by_name=true,\n",
    "                            files_to_sniff=-1,\n",
    "                            filename=true,\n",
    "                            sample_size=-1\n",
    "                            );\n",
    "        \"\"\").df()\n",
    "        print(df)\n",
    "\n",
    "        # conn.execute(\"COPY mytable TO 'output.csv' (HEADER, DELIMITER ',')\")\n",
    "\n",
    "    except Exception as ex:\n",
    "        print(ex)\n",
    "    finally:\n",
    "        conn.close()\n"
   ]
  },
  {
   "cell_type": "markdown",
   "id": "c831f68c",
   "metadata": {},
   "source": [
    "## Classes in the Vector Database as Integers"
   ]
  },
  {
   "cell_type": "code",
   "execution_count": 53,
   "id": "7e882eb3",
   "metadata": {},
   "outputs": [
    {
     "name": "stdout",
     "output_type": "stream",
     "text": [
      "Intellectual Developmental Disorders\n",
      "Depressive Disorders\n",
      "Parasomnias\n",
      "Paraphilic Disorders\n",
      "Other Conditions That May Be a Focus of Clinical Attention\n"
     ]
    }
   ],
   "source": [
    "classes = [\n",
    "    \"Intellectual Developmental Disorders\",                        # 0\n",
    "    \"Communication Disorders\",\n",
    "    \"Autism Spectrum Disorder\",\n",
    "    \"Attention-Deficit/Hyperactivity Disorder\",\n",
    "    \"Specific Learning Disorder\",\n",
    "    \"Motor Disorders\",\n",
    "    \"Other Neurodevelo mental Disorders p\",\n",
    "    \"Schizophrenia Spectrum and Other Psychotic Disorders\",\n",
    "    \"Catatonia\",\n",
    "    \"Bipolar and Related Disorders\",\n",
    "    \"Depressive Disorders\",                                        # 10\n",
    "    \"Anxiety Disorders\",\n",
    "    \"Obsessive-Compulsive and Related Disorders\",\n",
    "    \"Trauma- and Stressor-Related Disorders\",\n",
    "    \"Dissociative Disorders\",\n",
    "    \"Somatic Symptom and Related Disorders\",\n",
    "    \"Feeding and Eating Disorders\",\n",
    "    \"Elimination Disorders\",\n",
    "    \"Sleep-Wake Disorders\",\n",
    "    \"Breathing-Related Sleep Disorders\",\n",
    "    \"Parasomnias\",                                                # 20\n",
    "    \"Sexual Dysfunctions\",\n",
    "    \"Gender Dysphoria\",\n",
    "    \"Disruptive, Impulse-Control, and Conduct Disorders\",\n",
    "    \"Neurocognitive Disorders\",\n",
    "    \"Personality Disorders\",\n",
    "    \"Cluster A Personality Disorders\",\n",
    "    \"Cluster B Personality Disorders\",\n",
    "    \"Cluster C Personalit Disorders y\",\n",
    "    \"Other Personality Disorders\",\n",
    "    \"Paraphilic Disorders\",                                       # 30\n",
    "    \"Other Mental Disorders and Additional Codes\",\n",
    "    \"Additional Codes\",\n",
    "    \"Medication-Induced Movement Disorders and Other Adverse Effects of Medication\",\n",
    "    \"Other Conditions That May Be a Focus of Clinical Attention\", # 34\n",
    "]\n",
    "print(classes[0])\n",
    "print(classes[10])\n",
    "print(classes[20])\n",
    "print(classes[30])\n",
    "print(classes[34])"
   ]
  },
  {
   "cell_type": "markdown",
   "id": "53c6780c",
   "metadata": {},
   "source": [
    "## Create Patient Record Data Linked to Diagnosis"
   ]
  },
  {
   "cell_type": "code",
   "execution_count": 54,
   "id": "90e496c0",
   "metadata": {},
   "outputs": [
    {
     "name": "stdout",
     "output_type": "stream",
     "text": [
      "[(10, 3412), (11, 1574)]\n"
     ]
    }
   ],
   "source": [
    "# \"Depressive Disorders\" == \"Depressive disorder NEC\"\n",
    "#    \"Anxiety Disorders\" == \"Anxiety state NOS\"\n",
    "conn = duckdb.connect('mimiciii.db', read_only=True)\n",
    "result = conn.sql(\"\"\"\n",
    "    SELECT\n",
    "        CASE\n",
    "            WHEN dd.short_title = 'Depressive disorder NEC' THEN 10\n",
    "            WHEN dd.short_title = 'Anxiety state NOS' THEN 11\n",
    "        END AS class_number,\n",
    "        count(*)\n",
    "    FROM patients p\n",
    "    JOIN diagnoses_icd d ON p.subject_id = d.subject_id\n",
    "    JOIN d_icd_diagnoses dd ON d.icd9_code = dd.icd9_code\n",
    "    JOIN (\n",
    "        SELECT t2.subject_id,\n",
    "            ROW_NUMBER() OVER(PARTITION BY t2.subject_id) as rn\n",
    "        FROM noteevents t2\n",
    "    ) AS t2 ON (p.subject_id = t2.subject_id AND t2.rn = 1)\n",
    "    WHERE (short_title = 'Depressive disorder NEC'\n",
    "       OR short_title = 'Anxiety state NOS')\n",
    "    GROUP BY class_number\n",
    "\"\"\").fetchall()\n",
    "# Depressive  3412\n",
    "#    Anxiety  1574\n",
    "# -----------------\n",
    "#             4986\n",
    "print(result)\n",
    "conn.close()\n"
   ]
  },
  {
   "cell_type": "code",
   "execution_count": 57,
   "id": "be866588",
   "metadata": {},
   "outputs": [
    {
     "data": {
      "application/vnd.jupyter.widget-view+json": {
       "model_id": "22eed6e172834889b04f5848ea084aed",
       "version_major": 2,
       "version_minor": 0
      },
      "text/plain": [
       "FloatProgress(value=0.0, layout=Layout(width='auto'), style=ProgressStyle(bar_color='black'))"
      ]
     },
     "metadata": {},
     "output_type": "display_data"
    }
   ],
   "source": [
    "# \"Depressive Disorders\" == \"Depressive disorder NEC\"\n",
    "#    \"Anxiety Disorders\" == \"Anxiety state NOS\"\n",
    "conn = duckdb.connect('mimiciii.db', read_only=True)\n",
    "conn.sql(\"\"\"\n",
    "    COPY (\n",
    "        SELECT\n",
    "            -- p.subject_id,\n",
    "            GROUP_CONCAT(ne.text) AS chart_text,\n",
    "            CASE\n",
    "                WHEN dd.short_title = 'Depressive disorder NEC' THEN 10\n",
    "                WHEN dd.short_title = 'Anxiety state NOS' THEN 11\n",
    "            END AS class_number\n",
    "        FROM patients p\n",
    "        JOIN diagnoses_icd d ON p.subject_id = d.subject_id\n",
    "        JOIN d_icd_diagnoses dd ON d.icd9_code = dd.icd9_code\n",
    "        JOIN noteevents ne ON p.subject_id = ne.subject_id\n",
    "        WHERE (short_title = 'Depressive disorder NEC'\n",
    "           OR short_title = 'Anxiety state NOS')\n",
    "        AND (ne.category = 'Nursing'\n",
    "           OR ne.category = 'Nursing/other'\n",
    "           OR ne.category = 'General'\n",
    "           OR ne.category = 'Social Work'\n",
    "           OR ne.category = 'Pharmacy'\n",
    "           OR ne.category = 'Consult'\n",
    "           OR ne.category = 'Case Management'\n",
    "           OR ne.category = 'Discharge summary'\n",
    "           OR ne.category = 'Physician'\n",
    "         )\n",
    "        GROUP BY p.subject_id, class_number\n",
    "    ) TO 'datasets/text_classes.csv' (FORMAT csv, DELIMITER '|', HEADER, QUOTE '\"');\n",
    "\"\"\") #.write_csv('datasets/text_classes.csv', sep=\"|\", escapechar=\"~\")\n",
    "# display(len(result)) # ==> 4353\n",
    "conn.close()"
   ]
  }
 ],
 "metadata": {
  "kernelspec": {
   "display_name": "spikes",
   "language": "python",
   "name": "python3"
  },
  "language_info": {
   "codemirror_mode": {
    "name": "ipython",
    "version": 3
   },
   "file_extension": ".py",
   "mimetype": "text/x-python",
   "name": "python",
   "nbconvert_exporter": "python",
   "pygments_lexer": "ipython3",
   "version": "3.11.13"
  }
 },
 "nbformat": 4,
 "nbformat_minor": 5
}
