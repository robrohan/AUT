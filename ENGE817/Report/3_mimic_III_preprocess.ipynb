{
 "cells": [
  {
   "cell_type": "markdown",
   "id": "1fd449db",
   "metadata": {},
   "source": [
    "# Mimic II Dataset\n",
    "\n",
    "https://physionet.org/content/mimiciii/1.4/\n",
    "\n",
    "DOI (version 1.4):\n",
    "https://doi.org/10.13026/C2HM2Q\n",
    "\n",
    "DOI (latest version):\n",
    "https://doi.org/10.13026/jbmn-w042\n",
    "\n",
    "Topics:\n",
    "critical care mimic electronic health records\n",
    "\n",
    "Project Website:\n",
    "https://mimic.physionet.org\n"
   ]
  },
  {
   "cell_type": "markdown",
   "id": "dd4beba2",
   "metadata": {},
   "source": [
    "## Data Description\n",
    "\n",
    "MIMIC-III is a relational database consisting of 26 tables. Tables are linked by identifiers which usually have the suffix ‘ID’. For example, SUBJECT_ID refers to a unique patient, HADM_ID refers to a unique admission to the hospital, and ICUSTAY_ID refers to a unique admission to an intensive care unit.\n",
    "\n",
    "Charted events such as notes, laboratory tests, and fluid balance are stored in a series of ‘events’ tables. For example the OUTPUTEVENTS table contains all measurements related to output for a given patient, while the LABEVENTS table contains laboratory test results for a patient.\n",
    "\n",
    "Tables prefixed with ‘D_’ are dictionary tables and provide definitions for identifiers. For example, every row of CHARTEVENTS is associated with a single ITEMID which represents the concept measured, but it does not contain the actual name of the measurement. By joining CHARTEVENTS and D_ITEMS on ITEMID, it is possible to identify the concept represented by a given ITEMID.\n",
    "\n",
    "Developing the MIMIC data model involved balancing simplicity of interpretation against closeness to ground truth. As such, the model is a reflection of underlying data sources, modified over iterations of the MIMIC database in response to user feedback. Care has been taken to avoid making assumptions about the underlying data when carrying out transformations, so MIMIC-III closely represents the raw hospital data.\n",
    "\n",
    "Broadly speaking, five tables are used to define and track patient stays: ADMISSIONS; PATIENTS; ICUSTAYS; SERVICES; and TRANSFERS. Another five tables are dictionaries for cross-referencing codes against their respective definitions: D_CPT; D_ICD_DIAGNOSES; D_ICD_PROCEDURES; D_ITEMS; and D_LABITEMS. The remaining tables contain data associated with patient care, such as physiological measurements, caregiver observations, and billing information.\n",
    "\n",
    "In some cases it would be possible to merge tables—for example, the D_ICD_PROCEDURES and CPTEVENTS tables both contain detail relating to procedures and could be combined—but our approach is to keep the tables independent for clarity, since the data sources are significantly different. Rather than combining the tables within MIMIC data model, we suggest researchers develop database views and transforms as appropriate."
   ]
  },
  {
   "cell_type": "markdown",
   "id": "ee6703f1",
   "metadata": {},
   "source": [
    "## Usage Notes\n",
    "\n",
    "MIMIC-III is provided as a collection of comma separated value (CSV) files, along with scripts to help with importing the data into database systems including PostreSQL, MySQL, and MonetDB. As the database contains detailed information regarding the clinical care of patients, it must be treated with appropriate care and respect. Researchers are required to formally request access via a process documented on the MIMIC website. There are two key steps that must be completed before access is granted:\n",
    "\n",
    "- the researcher must complete a recognized course in protecting human research participants that includes Health Insurance Portability and Accountability Act (HIPAA) requirements.\n",
    "- the researcher must sign a data use agreement, which outlines appropriate data usage and security standards, and forbids efforts to identify individual patients.\n",
    "\n",
    "Approval requires at least a week. Once an application has been approved the researcher will receive emails containing instructions for downloading the database from PhysioNetWorks, a restricted access component of PhysioNet."
   ]
  },
  {
   "cell_type": "code",
   "execution_count": 23,
   "id": "2e633c79",
   "metadata": {},
   "outputs": [
    {
     "name": "stdout",
     "output_type": "stream",
     "text": [
      "Requirement already satisfied: duckdb in /Users/robrohan/miniconda3/envs/spikes/lib/python3.11/site-packages (1.3.2)\n",
      "Note: you may need to restart the kernel to use updated packages.\n"
     ]
    }
   ],
   "source": [
    "%pip install duckdb"
   ]
  },
  {
   "cell_type": "code",
   "execution_count": 24,
   "id": "f16b7659",
   "metadata": {},
   "outputs": [
    {
     "name": "stdout",
     "output_type": "stream",
     "text": [
      "   Count\n",
      "0  14567\n"
     ]
    }
   ],
   "source": [
    "import duckdb\n",
    "\n",
    "if True:\n",
    "    conn = duckdb.connect('mimiciii.db', read_only=False)\n",
    "    try:\n",
    "        df = conn.execute(\"\"\"\n",
    "            CREATE TABLE IF NOT EXISTS PATIENTS AS\n",
    "                FROM read_csv_auto(\n",
    "                            'datasets/physionet.org/files/mimiciii/1.4/PATIENTS.csv.gz',\n",
    "                            header=True,\n",
    "                            union_by_name=true,\n",
    "                            files_to_sniff=-1,\n",
    "                            filename=true\n",
    "                            );\n",
    "\n",
    "            CREATE TABLE IF NOT EXISTS CHARTEVENTS AS\n",
    "                FROM read_csv_auto(\n",
    "                            'datasets/physionet.org/files/mimiciii/1.4/CHARTEVENTS.csv.gz',\n",
    "                            header=True,\n",
    "                            union_by_name=true,\n",
    "                            files_to_sniff=-1,\n",
    "                            filename=true,\n",
    "                            sample_size=-1\n",
    "                            );\n",
    "\n",
    "            -- ICD9_CODE\n",
    "            CREATE TABLE IF NOT EXISTS DIAGNOSES_ICD AS\n",
    "                FROM read_csv_auto(\n",
    "                            'datasets/physionet.org/files/mimiciii/1.4/DIAGNOSES_ICD.csv.gz',\n",
    "                            header=True,\n",
    "                            union_by_name=true,\n",
    "                            files_to_sniff=-1,\n",
    "                            filename=true,\n",
    "                            sample_size=-1\n",
    "                            );\n",
    "\n",
    "            -- ICD9_CODE\n",
    "            CREATE TABLE IF NOT EXISTS D_ICD_DIAGNOSES AS\n",
    "                FROM read_csv_auto(\n",
    "                            'datasets/physionet.org/files/mimiciii/1.4/D_ICD_DIAGNOSES.csv.gz',\n",
    "                            header=True,\n",
    "                            union_by_name=true,\n",
    "                            files_to_sniff=-1,\n",
    "                            filename=true,\n",
    "                            sample_size=-1\n",
    "                            );\n",
    "        \"\"\").df()\n",
    "        print(df)\n",
    "\n",
    "        # conn.execute(\"COPY mytable TO 'output.csv' (HEADER, DELIMITER ',')\")\n",
    "\n",
    "    except Exception as ex:\n",
    "        print(ex)\n",
    "    finally:\n",
    "        conn.close()\n"
   ]
  },
  {
   "cell_type": "code",
   "execution_count": null,
   "id": "8bb0abeb",
   "metadata": {},
   "outputs": [],
   "source": [
    "\"\"\"\n",
    "select\n",
    "    p.subject_id,\n",
    "    dd.short_title\n",
    "from patients p\n",
    "join diagnoses_icd d on p.subject_id = d.subject_id\n",
    "join d_icd_diagnoses dd on d.icd9_code = dd.icd9_code\n",
    "where short_title like 'Depressive%'\n",
    "or short_title like 'Anx%'\n",
    ";\n",
    "\"\"\"\n",
    "# Depressive ~ 3433\n",
    "# Anxiety ~ 1583"
   ]
  }
 ],
 "metadata": {
  "kernelspec": {
   "display_name": "spikes",
   "language": "python",
   "name": "python3"
  },
  "language_info": {
   "codemirror_mode": {
    "name": "ipython",
    "version": 3
   },
   "file_extension": ".py",
   "mimetype": "text/x-python",
   "name": "python",
   "nbconvert_exporter": "python",
   "pygments_lexer": "ipython3",
   "version": "3.11.13"
  }
 },
 "nbformat": 4,
 "nbformat_minor": 5
}
