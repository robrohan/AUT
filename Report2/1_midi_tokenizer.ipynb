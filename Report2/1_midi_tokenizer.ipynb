{
 "cells": [
  {
   "cell_type": "code",
   "execution_count": 1,
   "id": "033b5ad4",
   "metadata": {},
   "outputs": [
    {
     "name": "stdout",
     "output_type": "stream",
     "text": [
      "Requirement already satisfied: torch in /Users/robrohan/miniconda3/envs/comp838/lib/python3.11/site-packages (from -r requirements.txt (line 2)) (2.7.0)\n",
      "Requirement already satisfied: numpy in /Users/robrohan/miniconda3/envs/comp838/lib/python3.11/site-packages (from -r requirements.txt (line 3)) (2.2.6)\n",
      "Requirement already satisfied: pandas in /Users/robrohan/miniconda3/envs/comp838/lib/python3.11/site-packages (from -r requirements.txt (line 4)) (2.2.3)\n",
      "Requirement already satisfied: seaborn in /Users/robrohan/miniconda3/envs/comp838/lib/python3.11/site-packages (from -r requirements.txt (line 5)) (0.13.2)\n",
      "Requirement already satisfied: pyfluidsynth in /Users/robrohan/miniconda3/envs/comp838/lib/python3.11/site-packages (from -r requirements.txt (line 7)) (1.3.4)\n",
      "Requirement already satisfied: pretty_midi in /Users/robrohan/miniconda3/envs/comp838/lib/python3.11/site-packages (from -r requirements.txt (line 8)) (0.2.10)\n",
      "Requirement already satisfied: matplotlib in /Users/robrohan/miniconda3/envs/comp838/lib/python3.11/site-packages (from -r requirements.txt (line 10)) (3.10.3)\n",
      "Requirement already satisfied: filelock in /Users/robrohan/miniconda3/envs/comp838/lib/python3.11/site-packages (from torch->-r requirements.txt (line 2)) (3.18.0)\n",
      "Requirement already satisfied: typing-extensions>=4.10.0 in /Users/robrohan/miniconda3/envs/comp838/lib/python3.11/site-packages (from torch->-r requirements.txt (line 2)) (4.13.2)\n",
      "Requirement already satisfied: sympy>=1.13.3 in /Users/robrohan/miniconda3/envs/comp838/lib/python3.11/site-packages (from torch->-r requirements.txt (line 2)) (1.14.0)\n",
      "Requirement already satisfied: networkx in /Users/robrohan/miniconda3/envs/comp838/lib/python3.11/site-packages (from torch->-r requirements.txt (line 2)) (3.4.2)\n",
      "Requirement already satisfied: jinja2 in /Users/robrohan/miniconda3/envs/comp838/lib/python3.11/site-packages (from torch->-r requirements.txt (line 2)) (3.1.6)\n",
      "Requirement already satisfied: fsspec in /Users/robrohan/miniconda3/envs/comp838/lib/python3.11/site-packages (from torch->-r requirements.txt (line 2)) (2025.3.2)\n",
      "Requirement already satisfied: python-dateutil>=2.8.2 in /Users/robrohan/miniconda3/envs/comp838/lib/python3.11/site-packages (from pandas->-r requirements.txt (line 4)) (2.9.0.post0)\n",
      "Requirement already satisfied: pytz>=2020.1 in /Users/robrohan/miniconda3/envs/comp838/lib/python3.11/site-packages (from pandas->-r requirements.txt (line 4)) (2025.2)\n",
      "Requirement already satisfied: tzdata>=2022.7 in /Users/robrohan/miniconda3/envs/comp838/lib/python3.11/site-packages (from pandas->-r requirements.txt (line 4)) (2025.2)\n",
      "Requirement already satisfied: mido>=1.1.16 in /Users/robrohan/miniconda3/envs/comp838/lib/python3.11/site-packages (from pretty_midi->-r requirements.txt (line 8)) (1.3.3)\n",
      "Requirement already satisfied: six in /Users/robrohan/miniconda3/envs/comp838/lib/python3.11/site-packages (from pretty_midi->-r requirements.txt (line 8)) (1.17.0)\n",
      "Requirement already satisfied: contourpy>=1.0.1 in /Users/robrohan/miniconda3/envs/comp838/lib/python3.11/site-packages (from matplotlib->-r requirements.txt (line 10)) (1.3.2)\n",
      "Requirement already satisfied: cycler>=0.10 in /Users/robrohan/miniconda3/envs/comp838/lib/python3.11/site-packages (from matplotlib->-r requirements.txt (line 10)) (0.12.1)\n",
      "Requirement already satisfied: fonttools>=4.22.0 in /Users/robrohan/miniconda3/envs/comp838/lib/python3.11/site-packages (from matplotlib->-r requirements.txt (line 10)) (4.57.0)\n",
      "Requirement already satisfied: kiwisolver>=1.3.1 in /Users/robrohan/miniconda3/envs/comp838/lib/python3.11/site-packages (from matplotlib->-r requirements.txt (line 10)) (1.4.8)\n",
      "Requirement already satisfied: packaging>=20.0 in /Users/robrohan/miniconda3/envs/comp838/lib/python3.11/site-packages (from matplotlib->-r requirements.txt (line 10)) (25.0)\n",
      "Requirement already satisfied: pillow>=8 in /Users/robrohan/miniconda3/envs/comp838/lib/python3.11/site-packages (from matplotlib->-r requirements.txt (line 10)) (11.2.1)\n",
      "Requirement already satisfied: pyparsing>=2.3.1 in /Users/robrohan/miniconda3/envs/comp838/lib/python3.11/site-packages (from matplotlib->-r requirements.txt (line 10)) (3.2.3)\n",
      "Requirement already satisfied: mpmath<1.4,>=1.1.0 in /Users/robrohan/miniconda3/envs/comp838/lib/python3.11/site-packages (from sympy>=1.13.3->torch->-r requirements.txt (line 2)) (1.3.0)\n",
      "Requirement already satisfied: MarkupSafe>=2.0 in /Users/robrohan/miniconda3/envs/comp838/lib/python3.11/site-packages (from jinja2->torch->-r requirements.txt (line 2)) (3.0.2)\n",
      "Note: you may need to restart the kernel to use updated packages.\n",
      "Requirement already satisfied: miditok in /Users/robrohan/miniconda3/envs/comp838/lib/python3.11/site-packages (3.0.5.post1)\n",
      "Requirement already satisfied: huggingface-hub>=0.16.4 in /Users/robrohan/miniconda3/envs/comp838/lib/python3.11/site-packages (from miditok) (0.31.2)\n",
      "Requirement already satisfied: numpy>=1.19 in /Users/robrohan/miniconda3/envs/comp838/lib/python3.11/site-packages (from miditok) (2.2.6)\n",
      "Requirement already satisfied: symusic>=0.5.0 in /Users/robrohan/miniconda3/envs/comp838/lib/python3.11/site-packages (from miditok) (0.5.7)\n",
      "Requirement already satisfied: tokenizers>=0.13.0 in /Users/robrohan/miniconda3/envs/comp838/lib/python3.11/site-packages (from miditok) (0.21.1)\n",
      "Requirement already satisfied: tqdm in /Users/robrohan/miniconda3/envs/comp838/lib/python3.11/site-packages (from miditok) (4.67.1)\n",
      "Requirement already satisfied: filelock in /Users/robrohan/miniconda3/envs/comp838/lib/python3.11/site-packages (from huggingface-hub>=0.16.4->miditok) (3.18.0)\n",
      "Requirement already satisfied: fsspec>=2023.5.0 in /Users/robrohan/miniconda3/envs/comp838/lib/python3.11/site-packages (from huggingface-hub>=0.16.4->miditok) (2025.3.2)\n",
      "Requirement already satisfied: packaging>=20.9 in /Users/robrohan/miniconda3/envs/comp838/lib/python3.11/site-packages (from huggingface-hub>=0.16.4->miditok) (25.0)\n",
      "Requirement already satisfied: pyyaml>=5.1 in /Users/robrohan/miniconda3/envs/comp838/lib/python3.11/site-packages (from huggingface-hub>=0.16.4->miditok) (6.0.2)\n",
      "Requirement already satisfied: requests in /Users/robrohan/miniconda3/envs/comp838/lib/python3.11/site-packages (from huggingface-hub>=0.16.4->miditok) (2.32.3)\n",
      "Requirement already satisfied: typing-extensions>=3.7.4.3 in /Users/robrohan/miniconda3/envs/comp838/lib/python3.11/site-packages (from huggingface-hub>=0.16.4->miditok) (4.13.2)\n",
      "Requirement already satisfied: pySmartDL in /Users/robrohan/miniconda3/envs/comp838/lib/python3.11/site-packages (from symusic>=0.5.0->miditok) (1.3.4)\n",
      "Requirement already satisfied: platformdirs in /Users/robrohan/miniconda3/envs/comp838/lib/python3.11/site-packages (from symusic>=0.5.0->miditok) (4.3.8)\n",
      "Requirement already satisfied: charset-normalizer<4,>=2 in /Users/robrohan/miniconda3/envs/comp838/lib/python3.11/site-packages (from requests->huggingface-hub>=0.16.4->miditok) (3.4.2)\n",
      "Requirement already satisfied: idna<4,>=2.5 in /Users/robrohan/miniconda3/envs/comp838/lib/python3.11/site-packages (from requests->huggingface-hub>=0.16.4->miditok) (3.10)\n",
      "Requirement already satisfied: urllib3<3,>=1.21.1 in /Users/robrohan/miniconda3/envs/comp838/lib/python3.11/site-packages (from requests->huggingface-hub>=0.16.4->miditok) (2.4.0)\n",
      "Requirement already satisfied: certifi>=2017.4.17 in /Users/robrohan/miniconda3/envs/comp838/lib/python3.11/site-packages (from requests->huggingface-hub>=0.16.4->miditok) (2025.4.26)\n",
      "Note: you may need to restart the kernel to use updated packages.\n"
     ]
    }
   ],
   "source": [
    "%pip install -r requirements.txt --upgrade\n",
    "%pip install miditok"
   ]
  },
  {
   "cell_type": "code",
   "execution_count": 2,
   "id": "135d431d",
   "metadata": {},
   "outputs": [
    {
     "name": "stderr",
     "output_type": "stream",
     "text": [
      "/Users/robrohan/miniconda3/envs/comp838/lib/python3.11/site-packages/tqdm/auto.py:21: TqdmWarning: IProgress not found. Please update jupyter and ipywidgets. See https://ipywidgets.readthedocs.io/en/stable/user_install.html\n",
      "  from .autonotebook import tqdm as notebook_tqdm\n"
     ]
    }
   ],
   "source": [
    "import json\n",
    "from pathlib import Path\n",
    "from miditok import REMI, TokSequence\n",
    "# from copy import deepcopy\n",
    "import pandas as pd\n",
    "import numpy as np\n",
    "import gpt_mini.midi_encoder as midichar\n",
    "import pickle\n",
    "from gpt_mini.config import DEFAULT_DEVICE, CONFIG"
   ]
  },
  {
   "cell_type": "code",
   "execution_count": 3,
   "id": "6be036ec",
   "metadata": {},
   "outputs": [
    {
     "data": {
      "text/html": [
       "<div>\n",
       "<style scoped>\n",
       "    .dataframe tbody tr th:only-of-type {\n",
       "        vertical-align: middle;\n",
       "    }\n",
       "\n",
       "    .dataframe tbody tr th {\n",
       "        vertical-align: top;\n",
       "    }\n",
       "\n",
       "    .dataframe thead th {\n",
       "        text-align: right;\n",
       "    }\n",
       "</style>\n",
       "<table border=\"1\" class=\"dataframe\">\n",
       "  <thead>\n",
       "    <tr style=\"text-align: right;\">\n",
       "      <th></th>\n",
       "      <th>data</th>\n",
       "    </tr>\n",
       "  </thead>\n",
       "  <tbody>\n",
       "    <tr>\n",
       "      <th>0</th>\n",
       "      <td>drums/1.mid</td>\n",
       "    </tr>\n",
       "    <tr>\n",
       "      <th>1</th>\n",
       "      <td>drums/2.mid</td>\n",
       "    </tr>\n",
       "    <tr>\n",
       "      <th>2</th>\n",
       "      <td>drums/3.mid</td>\n",
       "    </tr>\n",
       "    <tr>\n",
       "      <th>3</th>\n",
       "      <td>drums/4.mid</td>\n",
       "    </tr>\n",
       "    <tr>\n",
       "      <th>4</th>\n",
       "      <td>drums/5.mid</td>\n",
       "    </tr>\n",
       "  </tbody>\n",
       "</table>\n",
       "</div>"
      ],
      "text/plain": [
       "          data\n",
       "0  drums/1.mid\n",
       "1  drums/2.mid\n",
       "2  drums/3.mid\n",
       "3  drums/4.mid\n",
       "4  drums/5.mid"
      ]
     },
     "metadata": {},
     "output_type": "display_data"
    }
   ],
   "source": [
    "df = pd.read_csv(CONFIG[\"preprocess\"][\"new_dataset_index\"], delimiter=\"\\t\", header=None, names=['data'])\n",
    "display(df.head())"
   ]
  },
  {
   "cell_type": "code",
   "execution_count": 4,
   "id": "c6abaf57",
   "metadata": {},
   "outputs": [],
   "source": [
    "# for index, row in df.iterrows():\n",
    "#     sample = np.array( json.loads(row['data']) , dtype=np.uint32 )\n",
    "#     try:\n",
    "#         midichar.decode_midi(notes=sample,\n",
    "#                         out_file=f\"drums/{index}.mid\",\n",
    "#                         instrument_name=\"Standard Kit\")\n",
    "#     except Exception as e:\n",
    "#         pass\n"
   ]
  },
  {
   "cell_type": "markdown",
   "id": "723494b0",
   "metadata": {},
   "source": [
    "## Train The Tokenizer"
   ]
  },
  {
   "cell_type": "code",
   "execution_count": 5,
   "id": "e88cc301",
   "metadata": {},
   "outputs": [
    {
     "name": "stdout",
     "output_type": "stream",
     "text": [
      "\n",
      "\n",
      "\n"
     ]
    }
   ],
   "source": [
    "# using defaults parameters (constants.py)\n",
    "tokenizer = REMI()\n",
    "# paths_midis = list(Path(\"drums\").glob('**/*.mid'))\n",
    "\n",
    "tokenizer.train(\n",
    "    vocab_size=CONFIG[\"tokenizer\"][\"vocab_size\"],\n",
    "    files_paths=list(df[\"data\"]))\n",
    "with open(CONFIG[\"tokenizer\"][\"model\"], 'wb') as f:\n",
    "    pickle.dump(tokenizer, f)\n"
   ]
  },
  {
   "cell_type": "markdown",
   "id": "7f1838ee",
   "metadata": {},
   "source": [
    "## Test The Tokenizer"
   ]
  },
  {
   "cell_type": "code",
   "execution_count": 8,
   "id": "2be773c4",
   "metadata": {},
   "outputs": [
    {
     "name": "stdout",
     "output_type": "stream",
     "text": [
      "[283, 1827, 426, 2695, 3686, 25002, 8175, 2312, 311, 657, 6985, 3148, 49890, 447, 25809, 311, 4493, 30288, 11783, 2663, 303, 10319, 2222, 341, 1771, 441, 2501, 8088, 5420, 796, 34832, 5112, 4279, 298, 8566, 11633, 3921, 6302, 34167, 1633, 441, 857, 23643, 6853, 41233, 311, 4833, 3500, 981, 552, 5392, 3064, 461, 9954, 413, 657, 7361, 642, 25269, 603, 4898, 796, 26326, 3794, 868, 1999, 2762, 4707, 341, 686, 552, 4729, 2228, 461, 924, 1775, 930, 441, 787, 2442, 303, 4755, 42156, 1837, 441, 9954, 688, 552, 4891, 729, 461, 903, 1677, 311, 4493, 822, 2663, 303, 10714, 2051, 341, 1771, 441, 7737, 728, 552, 3431, 303, 7381, 899, 34832, 5112, 868, 3270, 3921, 447, 2539, 341, 1633, 441, 4806, 3314, 552, 23643, 9345, 870, 1757, 311, 4833, 1656, 368, 3064, 447, 3148, 341, 929, 441, 4338, 9750, 552, 42630, 3528, 876, 1601, 311, 7517, 2051, 368, 1923, 447, 2501, 341, 954, 441, 7023, 13017, 552, 26326, 4080, 1014, 1999, 2762, 441, 2539, 368, 2228, 447, 34195, 930, 441, 4653, 298, 10462, 2442, 303, 4355, 2154, 341, 1837, 441, 3148, 49890, 447, 25809, 311, 4493, 30288, 11783, 2663, 303, 10319, 2222, 25269, 657, 5961, 2501, 8088, 5420, 796, 34832, 5112, 4279, 298, 8566, 11633, 3921, 6302, 34167, 1633, 441, 857, 23643, 6853, 41233, 311, 4833, 3500, 981, 552, 5392, 3064, 461, 7938, 341, 929, 441, 819, 42630, 4494, 822, 1502, 25269]\n"
     ]
    }
   ],
   "source": [
    "tokenizer = None\n",
    "with open(CONFIG[\"tokenizer\"][\"model\"], 'rb') as f:\n",
    "    tokenizer = pickle.load(f)\n",
    "midi_path = 'drums/10.mid'\n",
    "tokens = tokenizer.encode(midi_path)\n",
    "\n",
    "# tokens_with_bpe = tokenizer.encode_token_ids(deepcopy(tokens))         # copy as the method is inplace\n",
    "# tokens_no_bpe = tokenizer.decode_token_ids(deepcopy(tokens_with_bpe))\n",
    "# print(tokens_with_bpe, tokens_no_bpe)\n",
    "\n",
    "print(tokens[0].ids)"
   ]
  }
 ],
 "metadata": {
  "kernelspec": {
   "display_name": "comp838",
   "language": "python",
   "name": "python3"
  },
  "language_info": {
   "codemirror_mode": {
    "name": "ipython",
    "version": 3
   },
   "file_extension": ".py",
   "mimetype": "text/x-python",
   "name": "python",
   "nbconvert_exporter": "python",
   "pygments_lexer": "ipython3",
   "version": "3.11.11"
  }
 },
 "nbformat": 4,
 "nbformat_minor": 5
}
