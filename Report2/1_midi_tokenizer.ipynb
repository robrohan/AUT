{
 "cells": [
  {
   "cell_type": "code",
   "execution_count": 1,
   "id": "033b5ad4",
   "metadata": {},
   "outputs": [
    {
     "name": "stdout",
     "output_type": "stream",
     "text": [
      "Requirement already satisfied: torch in /Users/robrohan/miniconda3/envs/comp838/lib/python3.11/site-packages (from -r requirements.txt (line 2)) (2.7.0)\n",
      "Requirement already satisfied: numpy in /Users/robrohan/miniconda3/envs/comp838/lib/python3.11/site-packages (from -r requirements.txt (line 3)) (2.2.5)\n",
      "Requirement already satisfied: pandas in /Users/robrohan/miniconda3/envs/comp838/lib/python3.11/site-packages (from -r requirements.txt (line 4)) (2.2.3)\n",
      "Requirement already satisfied: seaborn in /Users/robrohan/miniconda3/envs/comp838/lib/python3.11/site-packages (from -r requirements.txt (line 5)) (0.13.2)\n",
      "Requirement already satisfied: pyfluidsynth in /Users/robrohan/miniconda3/envs/comp838/lib/python3.11/site-packages (from -r requirements.txt (line 7)) (1.3.4)\n",
      "Requirement already satisfied: pretty_midi in /Users/robrohan/miniconda3/envs/comp838/lib/python3.11/site-packages (from -r requirements.txt (line 8)) (0.2.10)\n",
      "Requirement already satisfied: matplotlib in /Users/robrohan/miniconda3/envs/comp838/lib/python3.11/site-packages (from -r requirements.txt (line 10)) (3.10.3)\n",
      "Requirement already satisfied: filelock in /Users/robrohan/miniconda3/envs/comp838/lib/python3.11/site-packages (from torch->-r requirements.txt (line 2)) (3.18.0)\n",
      "Requirement already satisfied: typing-extensions>=4.10.0 in /Users/robrohan/miniconda3/envs/comp838/lib/python3.11/site-packages (from torch->-r requirements.txt (line 2)) (4.13.2)\n",
      "Requirement already satisfied: sympy>=1.13.3 in /Users/robrohan/miniconda3/envs/comp838/lib/python3.11/site-packages (from torch->-r requirements.txt (line 2)) (1.14.0)\n",
      "Requirement already satisfied: networkx in /Users/robrohan/miniconda3/envs/comp838/lib/python3.11/site-packages (from torch->-r requirements.txt (line 2)) (3.4.2)\n",
      "Requirement already satisfied: jinja2 in /Users/robrohan/miniconda3/envs/comp838/lib/python3.11/site-packages (from torch->-r requirements.txt (line 2)) (3.1.6)\n",
      "Requirement already satisfied: fsspec in /Users/robrohan/miniconda3/envs/comp838/lib/python3.11/site-packages (from torch->-r requirements.txt (line 2)) (2025.3.2)\n",
      "Requirement already satisfied: python-dateutil>=2.8.2 in /Users/robrohan/miniconda3/envs/comp838/lib/python3.11/site-packages (from pandas->-r requirements.txt (line 4)) (2.9.0.post0)\n",
      "Requirement already satisfied: pytz>=2020.1 in /Users/robrohan/miniconda3/envs/comp838/lib/python3.11/site-packages (from pandas->-r requirements.txt (line 4)) (2025.2)\n",
      "Requirement already satisfied: tzdata>=2022.7 in /Users/robrohan/miniconda3/envs/comp838/lib/python3.11/site-packages (from pandas->-r requirements.txt (line 4)) (2025.2)\n",
      "Requirement already satisfied: mido>=1.1.16 in /Users/robrohan/miniconda3/envs/comp838/lib/python3.11/site-packages (from pretty_midi->-r requirements.txt (line 8)) (1.3.3)\n",
      "Requirement already satisfied: six in /Users/robrohan/miniconda3/envs/comp838/lib/python3.11/site-packages (from pretty_midi->-r requirements.txt (line 8)) (1.17.0)\n",
      "Requirement already satisfied: contourpy>=1.0.1 in /Users/robrohan/miniconda3/envs/comp838/lib/python3.11/site-packages (from matplotlib->-r requirements.txt (line 10)) (1.3.2)\n",
      "Requirement already satisfied: cycler>=0.10 in /Users/robrohan/miniconda3/envs/comp838/lib/python3.11/site-packages (from matplotlib->-r requirements.txt (line 10)) (0.12.1)\n",
      "Requirement already satisfied: fonttools>=4.22.0 in /Users/robrohan/miniconda3/envs/comp838/lib/python3.11/site-packages (from matplotlib->-r requirements.txt (line 10)) (4.57.0)\n",
      "Requirement already satisfied: kiwisolver>=1.3.1 in /Users/robrohan/miniconda3/envs/comp838/lib/python3.11/site-packages (from matplotlib->-r requirements.txt (line 10)) (1.4.8)\n",
      "Requirement already satisfied: packaging>=20.0 in /Users/robrohan/miniconda3/envs/comp838/lib/python3.11/site-packages (from matplotlib->-r requirements.txt (line 10)) (25.0)\n",
      "Requirement already satisfied: pillow>=8 in /Users/robrohan/miniconda3/envs/comp838/lib/python3.11/site-packages (from matplotlib->-r requirements.txt (line 10)) (11.2.1)\n",
      "Requirement already satisfied: pyparsing>=2.3.1 in /Users/robrohan/miniconda3/envs/comp838/lib/python3.11/site-packages (from matplotlib->-r requirements.txt (line 10)) (3.2.3)\n",
      "Requirement already satisfied: mpmath<1.4,>=1.1.0 in /Users/robrohan/miniconda3/envs/comp838/lib/python3.11/site-packages (from sympy>=1.13.3->torch->-r requirements.txt (line 2)) (1.3.0)\n",
      "Requirement already satisfied: MarkupSafe>=2.0 in /Users/robrohan/miniconda3/envs/comp838/lib/python3.11/site-packages (from jinja2->torch->-r requirements.txt (line 2)) (3.0.2)\n",
      "Note: you may need to restart the kernel to use updated packages.\n",
      "Requirement already satisfied: miditok in /Users/robrohan/miniconda3/envs/comp838/lib/python3.11/site-packages (3.0.5.post1)\n",
      "Requirement already satisfied: huggingface-hub>=0.16.4 in /Users/robrohan/miniconda3/envs/comp838/lib/python3.11/site-packages (from miditok) (0.31.2)\n",
      "Requirement already satisfied: numpy>=1.19 in /Users/robrohan/miniconda3/envs/comp838/lib/python3.11/site-packages (from miditok) (2.2.5)\n",
      "Requirement already satisfied: symusic>=0.5.0 in /Users/robrohan/miniconda3/envs/comp838/lib/python3.11/site-packages (from miditok) (0.5.7)\n",
      "Requirement already satisfied: tokenizers>=0.13.0 in /Users/robrohan/miniconda3/envs/comp838/lib/python3.11/site-packages (from miditok) (0.21.1)\n",
      "Requirement already satisfied: tqdm in /Users/robrohan/miniconda3/envs/comp838/lib/python3.11/site-packages (from miditok) (4.67.1)\n",
      "Requirement already satisfied: filelock in /Users/robrohan/miniconda3/envs/comp838/lib/python3.11/site-packages (from huggingface-hub>=0.16.4->miditok) (3.18.0)\n",
      "Requirement already satisfied: fsspec>=2023.5.0 in /Users/robrohan/miniconda3/envs/comp838/lib/python3.11/site-packages (from huggingface-hub>=0.16.4->miditok) (2025.3.2)\n",
      "Requirement already satisfied: packaging>=20.9 in /Users/robrohan/miniconda3/envs/comp838/lib/python3.11/site-packages (from huggingface-hub>=0.16.4->miditok) (25.0)\n",
      "Requirement already satisfied: pyyaml>=5.1 in /Users/robrohan/miniconda3/envs/comp838/lib/python3.11/site-packages (from huggingface-hub>=0.16.4->miditok) (6.0.2)\n",
      "Requirement already satisfied: requests in /Users/robrohan/miniconda3/envs/comp838/lib/python3.11/site-packages (from huggingface-hub>=0.16.4->miditok) (2.32.3)\n",
      "Requirement already satisfied: typing-extensions>=3.7.4.3 in /Users/robrohan/miniconda3/envs/comp838/lib/python3.11/site-packages (from huggingface-hub>=0.16.4->miditok) (4.13.2)\n",
      "Requirement already satisfied: pySmartDL in /Users/robrohan/miniconda3/envs/comp838/lib/python3.11/site-packages (from symusic>=0.5.0->miditok) (1.3.4)\n",
      "Requirement already satisfied: platformdirs in /Users/robrohan/miniconda3/envs/comp838/lib/python3.11/site-packages (from symusic>=0.5.0->miditok) (4.3.8)\n",
      "Requirement already satisfied: charset-normalizer<4,>=2 in /Users/robrohan/miniconda3/envs/comp838/lib/python3.11/site-packages (from requests->huggingface-hub>=0.16.4->miditok) (3.4.2)\n",
      "Requirement already satisfied: idna<4,>=2.5 in /Users/robrohan/miniconda3/envs/comp838/lib/python3.11/site-packages (from requests->huggingface-hub>=0.16.4->miditok) (3.10)\n",
      "Requirement already satisfied: urllib3<3,>=1.21.1 in /Users/robrohan/miniconda3/envs/comp838/lib/python3.11/site-packages (from requests->huggingface-hub>=0.16.4->miditok) (2.4.0)\n",
      "Requirement already satisfied: certifi>=2017.4.17 in /Users/robrohan/miniconda3/envs/comp838/lib/python3.11/site-packages (from requests->huggingface-hub>=0.16.4->miditok) (2025.4.26)\n",
      "Note: you may need to restart the kernel to use updated packages.\n"
     ]
    }
   ],
   "source": [
    "%pip install -r requirements.txt --upgrade\n",
    "%pip install miditok"
   ]
  },
  {
   "cell_type": "code",
   "execution_count": 2,
   "id": "135d431d",
   "metadata": {},
   "outputs": [
    {
     "name": "stderr",
     "output_type": "stream",
     "text": [
      "/Users/robrohan/miniconda3/envs/comp838/lib/python3.11/site-packages/tqdm/auto.py:21: TqdmWarning: IProgress not found. Please update jupyter and ipywidgets. See https://ipywidgets.readthedocs.io/en/stable/user_install.html\n",
      "  from .autonotebook import tqdm as notebook_tqdm\n"
     ]
    }
   ],
   "source": [
    "import json\n",
    "from pathlib import Path\n",
    "from miditok import REMI, TokSequence\n",
    "# from copy import deepcopy\n",
    "import pandas as pd\n",
    "import numpy as np\n",
    "import gpt_mini.midi_encoder as midichar\n",
    "import pickle"
   ]
  },
  {
   "cell_type": "code",
   "execution_count": 3,
   "id": "6be036ec",
   "metadata": {},
   "outputs": [
    {
     "data": {
      "text/html": [
       "<div>\n",
       "<style scoped>\n",
       "    .dataframe tbody tr th:only-of-type {\n",
       "        vertical-align: middle;\n",
       "    }\n",
       "\n",
       "    .dataframe tbody tr th {\n",
       "        vertical-align: top;\n",
       "    }\n",
       "\n",
       "    .dataframe thead th {\n",
       "        text-align: right;\n",
       "    }\n",
       "</style>\n",
       "<table border=\"1\" class=\"dataframe\">\n",
       "  <thead>\n",
       "    <tr style=\"text-align: right;\">\n",
       "      <th></th>\n",
       "      <th>data</th>\n",
       "    </tr>\n",
       "  </thead>\n",
       "  <tbody>\n",
       "    <tr>\n",
       "      <th>0</th>\n",
       "      <td>[33860, 10026, 7152682, 14296106, 21439530, 28...</td>\n",
       "    </tr>\n",
       "    <tr>\n",
       "      <th>1</th>\n",
       "      <td>[29508, 32802482, 32802219, 32802498, 32802344...</td>\n",
       "    </tr>\n",
       "    <tr>\n",
       "      <th>2</th>\n",
       "      <td>[219204, 48268342, 48288803, 53959734, 5397612...</td>\n",
       "    </tr>\n",
       "    <tr>\n",
       "      <th>3</th>\n",
       "      <td>[53828, 71768755, 71769507, 77601459, 83434035...</td>\n",
       "    </tr>\n",
       "    <tr>\n",
       "      <th>4</th>\n",
       "      <td>[36932, 353898404, 353898403, 353897640, 35389...</td>\n",
       "    </tr>\n",
       "  </tbody>\n",
       "</table>\n",
       "</div>"
      ],
      "text/plain": [
       "                                                data\n",
       "0  [33860, 10026, 7152682, 14296106, 21439530, 28...\n",
       "1  [29508, 32802482, 32802219, 32802498, 32802344...\n",
       "2  [219204, 48268342, 48288803, 53959734, 5397612...\n",
       "3  [53828, 71768755, 71769507, 77601459, 83434035...\n",
       "4  [36932, 353898404, 353898403, 353897640, 35389..."
      ]
     },
     "metadata": {},
     "output_type": "display_data"
    }
   ],
   "source": [
    "df = pd.read_csv(\"training_data.txt\", delimiter=\"\\t\", header=None, names=['data'])\n",
    "display(df.head())"
   ]
  },
  {
   "cell_type": "code",
   "execution_count": 4,
   "id": "c6abaf57",
   "metadata": {},
   "outputs": [
    {
     "name": "stderr",
     "output_type": "stream",
     "text": [
      "/Users/robrohan/miniconda3/envs/comp838/lib/python3.11/site-packages/pretty_midi/pretty_midi.py:1326: RuntimeWarning: overflow encountered in scalar subtract\n",
      "  return (secondary_sort[event1.type](event1) -\n"
     ]
    }
   ],
   "source": [
    "for index, row in df.iterrows():\n",
    "    sample = np.array( json.loads(row['data']) , dtype=np.uint32 )\n",
    "    try:\n",
    "        midichar.decode_midi(notes=sample,\n",
    "                        out_file=f\"drums/{index}.mid\",\n",
    "                        instrument_name=\"Standard Kit\")\n",
    "    except Exception as e:\n",
    "        pass\n"
   ]
  },
  {
   "cell_type": "code",
   "execution_count": 5,
   "id": "e88cc301",
   "metadata": {},
   "outputs": [
    {
     "name": "stderr",
     "output_type": "stream",
     "text": [
      "/var/folders/ks/zt1_dy0976s0n809crmcsppc0000gn/T/ipykernel_38605/4239446984.py:4: UserWarning: miditok: The `learn_bpe` method had been renamed `train`. It is now depreciated and will be removed in future updates.\n",
      "  tokenizer.learn_bpe(\n"
     ]
    },
    {
     "name": "stdout",
     "output_type": "stream",
     "text": [
      "\n",
      "\n",
      "\n"
     ]
    }
   ],
   "source": [
    "tokenizer = REMI()  # using defaults parameters (constants.py)\n",
    "paths_midis = list(Path(\"drums\").glob('**/*.mid'))\n",
    "\n",
    "tokenizer.learn_bpe(\n",
    "    vocab_size=50257,\n",
    "    files_paths=paths_midis,\n",
    ")\n",
    "with open('checkpoints/midi_tokenizer_bpe.pkl', 'wb') as f:\n",
    "    pickle.dump(tokenizer, f)\n"
   ]
  },
  {
   "cell_type": "code",
   "execution_count": 6,
   "id": "2be773c4",
   "metadata": {},
   "outputs": [
    {
     "data": {
      "text/plain": [
       "[TokSequence(tokens=['Bar_None', 'Position_0', 'PitchDrum_41', 'Velocity_103', 'Duration_0.1.8', 'Position_9', 'PitchDrum_41', 'Velocity_103', 'Duration_0.3.8', 'Position_11', 'PitchDrum_41', 'Velocity_103', 'Duration_0.1.8', 'Position_15', 'PitchDrum_41', 'Velocity_103', 'Duration_0.3.8', 'Position_17', 'PitchDrum_41', 'Velocity_103', 'Duration_0.1.8', 'Position_26', 'PitchDrum_41', 'Velocity_103', 'Duration_0.1.8', 'Bar_None', 'Position_3', 'PitchDrum_41', 'Velocity_103', 'Duration_0.1.8', 'Position_12', 'PitchDrum_41', 'Velocity_103', 'Duration_0.3.8', 'Position_14', 'PitchDrum_41', 'Velocity_103', 'Duration_0.1.8', 'Position_18', 'PitchDrum_41', 'Velocity_103', 'Duration_0.3.8', 'Position_20', 'PitchDrum_41', 'Velocity_103', 'Duration_0.1.8', 'Position_29', 'PitchDrum_41', 'Velocity_103', 'Duration_0.1.8', 'Bar_None', 'Position_6', 'PitchDrum_41', 'Velocity_103', 'Duration_0.1.8', 'Position_14', 'PitchDrum_41', 'Velocity_103', 'Duration_0.3.8', 'Position_17', 'PitchDrum_41', 'Velocity_103', 'Duration_0.1.8', 'Position_21', 'PitchDrum_41', 'Velocity_103', 'Duration_0.3.8', 'Position_23', 'PitchDrum_41', 'Velocity_103', 'Duration_0.1.8', 'Bar_None', 'Position_0', 'PitchDrum_41', 'Velocity_103', 'Duration_0.1.8', 'Position_9', 'PitchDrum_41', 'Velocity_103', 'Duration_0.1.8', 'Position_17', 'PitchDrum_41', 'Velocity_103', 'Duration_0.3.8', 'Position_20', 'PitchDrum_41', 'Velocity_103', 'Duration_0.1.8', 'Position_23', 'PitchDrum_41', 'Velocity_103', 'Duration_0.3.8', 'Position_26', 'PitchDrum_41', 'Velocity_103', 'Duration_0.1.8', 'Bar_None', 'Position_3', 'PitchDrum_41', 'Velocity_103', 'Duration_0.3.8', 'Position_6', 'PitchDrum_41', 'Velocity_103', 'Duration_0.1.8', 'Position_9', 'PitchDrum_41', 'Velocity_103', 'Duration_0.3.8', 'Position_12', 'PitchDrum_41', 'Velocity_103', 'Duration_0.1.8', 'Position_20', 'PitchDrum_41', 'Velocity_103', 'Duration_0.3.8', 'Position_23', 'PitchDrum_41', 'Velocity_103', 'Duration_0.1.8', 'Position_26', 'PitchDrum_41', 'Velocity_103', 'Duration_0.3.8', 'Position_29', 'PitchDrum_41', 'Velocity_103', 'Duration_0.1.8', 'Bar_None', 'Position_6', 'PitchDrum_41', 'Velocity_103', 'Duration_0.1.8', 'Position_15', 'PitchDrum_41', 'Velocity_103', 'Duration_0.1.8', 'Position_23', 'PitchDrum_41', 'Velocity_103', 'Duration_0.3.8', 'Position_26', 'PitchDrum_41', 'Velocity_103', 'Duration_0.1.8'], ids=[10005, 24746, 24942, 204, 39039, 9764, 19126, 49711, 11082, 207, 39037, 9847, 29609, 203, 39039, 210, 39038, 10005, 16989, 206, 39037, 42404, 297, 4951, 10821, 24746, 13347, 209, 39038, 215, 4951, 9847, 29609, 9512, 42404], bytes='%ÞČ\\x97\\x9eçČ\\x97\\xa0éČ\\x97\\x9eíČ\\x97\\xa0ïČ\\x97\\x9eøČ\\x97\\x9e%áČ\\x97\\x9eêČ\\x97\\xa0ìČ\\x97\\x9eðČ\\x97\\xa0òČ\\x97\\x9eûČ\\x97\\x9e%äČ\\x97\\x9eìČ\\x97\\xa0ïČ\\x97\\x9eóČ\\x97\\xa0õČ\\x97\\x9e%ÞČ\\x97\\x9eçČ\\x97\\x9eïČ\\x97\\xa0òČ\\x97\\x9eõČ\\x97\\xa0øČ\\x97\\x9e%áČ\\x97\\xa0äČ\\x97\\x9eçČ\\x97\\xa0êČ\\x97\\x9eòČ\\x97\\xa0õČ\\x97\\x9eøČ\\x97\\xa0ûČ\\x97\\x9e%äČ\\x97\\x9eíČ\\x97\\x9eõČ\\x97\\xa0øČ\\x97\\x9e', events=[Event(type=Bar, value=None, time=0, desc=0), Event(type=Position, value=0, time=0, desc=0), Event(type=PitchDrum, value=41, time=0, desc=1), Event(type=Velocity, value=103, time=0, desc=103), Event(type=Duration, value=0.1.8, time=0, desc=1 ticks), Event(type=Position, value=9, time=9, desc=9), Event(type=PitchDrum, value=41, time=9, desc=12), Event(type=Velocity, value=103, time=9, desc=103), Event(type=Duration, value=0.3.8, time=9, desc=3 ticks), Event(type=Position, value=11, time=11, desc=11), Event(type=PitchDrum, value=41, time=11, desc=12), Event(type=Velocity, value=103, time=11, desc=103), Event(type=Duration, value=0.1.8, time=11, desc=1 ticks), Event(type=Position, value=15, time=15, desc=15), Event(type=PitchDrum, value=41, time=15, desc=18), Event(type=Velocity, value=103, time=15, desc=103), Event(type=Duration, value=0.3.8, time=15, desc=3 ticks), Event(type=Position, value=17, time=17, desc=17), Event(type=PitchDrum, value=41, time=17, desc=18), Event(type=Velocity, value=103, time=17, desc=103), Event(type=Duration, value=0.1.8, time=17, desc=1 ticks), Event(type=Position, value=26, time=26, desc=26), Event(type=PitchDrum, value=41, time=26, desc=27), Event(type=Velocity, value=103, time=26, desc=103), Event(type=Duration, value=0.1.8, time=26, desc=1 ticks), Event(type=Bar, value=None, time=32, desc=0), Event(type=Position, value=3, time=35, desc=35), Event(type=PitchDrum, value=41, time=35, desc=36), Event(type=Velocity, value=103, time=35, desc=103), Event(type=Duration, value=0.1.8, time=35, desc=1 ticks), Event(type=Position, value=12, time=44, desc=44), Event(type=PitchDrum, value=41, time=44, desc=47), Event(type=Velocity, value=103, time=44, desc=103), Event(type=Duration, value=0.3.8, time=44, desc=3 ticks), Event(type=Position, value=14, time=46, desc=46), Event(type=PitchDrum, value=41, time=46, desc=47), Event(type=Velocity, value=103, time=46, desc=103), Event(type=Duration, value=0.1.8, time=46, desc=1 ticks), Event(type=Position, value=18, time=50, desc=50), Event(type=PitchDrum, value=41, time=50, desc=53), Event(type=Velocity, value=103, time=50, desc=103), Event(type=Duration, value=0.3.8, time=50, desc=3 ticks), Event(type=Position, value=20, time=52, desc=52), Event(type=PitchDrum, value=41, time=52, desc=53), Event(type=Velocity, value=103, time=52, desc=103), Event(type=Duration, value=0.1.8, time=52, desc=1 ticks), Event(type=Position, value=29, time=61, desc=61), Event(type=PitchDrum, value=41, time=61, desc=62), Event(type=Velocity, value=103, time=61, desc=103), Event(type=Duration, value=0.1.8, time=61, desc=1 ticks), Event(type=Bar, value=None, time=64, desc=0), Event(type=Position, value=6, time=70, desc=70), Event(type=PitchDrum, value=41, time=70, desc=71), Event(type=Velocity, value=103, time=70, desc=103), Event(type=Duration, value=0.1.8, time=70, desc=1 ticks), Event(type=Position, value=14, time=78, desc=78), Event(type=PitchDrum, value=41, time=78, desc=81), Event(type=Velocity, value=103, time=78, desc=103), Event(type=Duration, value=0.3.8, time=78, desc=3 ticks), Event(type=Position, value=17, time=81, desc=81), Event(type=PitchDrum, value=41, time=81, desc=82), Event(type=Velocity, value=103, time=81, desc=103), Event(type=Duration, value=0.1.8, time=81, desc=1 ticks), Event(type=Position, value=21, time=85, desc=85), Event(type=PitchDrum, value=41, time=85, desc=88), Event(type=Velocity, value=103, time=85, desc=103), Event(type=Duration, value=0.3.8, time=85, desc=3 ticks), Event(type=Position, value=23, time=87, desc=87), Event(type=PitchDrum, value=41, time=87, desc=88), Event(type=Velocity, value=103, time=87, desc=103), Event(type=Duration, value=0.1.8, time=87, desc=1 ticks), Event(type=Bar, value=None, time=96, desc=0), Event(type=Position, value=0, time=96, desc=96), Event(type=PitchDrum, value=41, time=96, desc=97), Event(type=Velocity, value=103, time=96, desc=103), Event(type=Duration, value=0.1.8, time=96, desc=1 ticks), Event(type=Position, value=9, time=105, desc=105), Event(type=PitchDrum, value=41, time=105, desc=106), Event(type=Velocity, value=103, time=105, desc=103), Event(type=Duration, value=0.1.8, time=105, desc=1 ticks), Event(type=Position, value=17, time=113, desc=113), Event(type=PitchDrum, value=41, time=113, desc=116), Event(type=Velocity, value=103, time=113, desc=103), Event(type=Duration, value=0.3.8, time=113, desc=3 ticks), Event(type=Position, value=20, time=116, desc=116), Event(type=PitchDrum, value=41, time=116, desc=117), Event(type=Velocity, value=103, time=116, desc=103), Event(type=Duration, value=0.1.8, time=116, desc=1 ticks), Event(type=Position, value=23, time=119, desc=119), Event(type=PitchDrum, value=41, time=119, desc=122), Event(type=Velocity, value=103, time=119, desc=103), Event(type=Duration, value=0.3.8, time=119, desc=3 ticks), Event(type=Position, value=26, time=122, desc=122), Event(type=PitchDrum, value=41, time=122, desc=123), Event(type=Velocity, value=103, time=122, desc=103), Event(type=Duration, value=0.1.8, time=122, desc=1 ticks), Event(type=Bar, value=None, time=128, desc=0), Event(type=Position, value=3, time=131, desc=131), Event(type=PitchDrum, value=41, time=131, desc=134), Event(type=Velocity, value=103, time=131, desc=103), Event(type=Duration, value=0.3.8, time=131, desc=3 ticks), Event(type=Position, value=6, time=134, desc=134), Event(type=PitchDrum, value=41, time=134, desc=135), Event(type=Velocity, value=103, time=134, desc=103), Event(type=Duration, value=0.1.8, time=134, desc=1 ticks), Event(type=Position, value=9, time=137, desc=137), Event(type=PitchDrum, value=41, time=137, desc=140), Event(type=Velocity, value=103, time=137, desc=103), Event(type=Duration, value=0.3.8, time=137, desc=3 ticks), Event(type=Position, value=12, time=140, desc=140), Event(type=PitchDrum, value=41, time=140, desc=141), Event(type=Velocity, value=103, time=140, desc=103), Event(type=Duration, value=0.1.8, time=140, desc=1 ticks), Event(type=Position, value=20, time=148, desc=148), Event(type=PitchDrum, value=41, time=148, desc=151), Event(type=Velocity, value=103, time=148, desc=103), Event(type=Duration, value=0.3.8, time=148, desc=3 ticks), Event(type=Position, value=23, time=151, desc=151), Event(type=PitchDrum, value=41, time=151, desc=152), Event(type=Velocity, value=103, time=151, desc=103), Event(type=Duration, value=0.1.8, time=151, desc=1 ticks), Event(type=Position, value=26, time=154, desc=154), Event(type=PitchDrum, value=41, time=154, desc=157), Event(type=Velocity, value=103, time=154, desc=103), Event(type=Duration, value=0.3.8, time=154, desc=3 ticks), Event(type=Position, value=29, time=157, desc=157), Event(type=PitchDrum, value=41, time=157, desc=158), Event(type=Velocity, value=103, time=157, desc=103), Event(type=Duration, value=0.1.8, time=157, desc=1 ticks), Event(type=Bar, value=None, time=160, desc=0), Event(type=Position, value=6, time=166, desc=166), Event(type=PitchDrum, value=41, time=166, desc=167), Event(type=Velocity, value=103, time=166, desc=103), Event(type=Duration, value=0.1.8, time=166, desc=1 ticks), Event(type=Position, value=15, time=175, desc=175), Event(type=PitchDrum, value=41, time=175, desc=176), Event(type=Velocity, value=103, time=175, desc=103), Event(type=Duration, value=0.1.8, time=175, desc=1 ticks), Event(type=Position, value=23, time=183, desc=183), Event(type=PitchDrum, value=41, time=183, desc=186), Event(type=Velocity, value=103, time=183, desc=103), Event(type=Duration, value=0.3.8, time=183, desc=3 ticks), Event(type=Position, value=26, time=186, desc=186), Event(type=PitchDrum, value=41, time=186, desc=187), Event(type=Velocity, value=103, time=186, desc=103), Event(type=Duration, value=0.1.8, time=186, desc=1 ticks)], are_ids_encoded=True, _ticks_bars=[0, 32, 64, 96, 128, 160], _ticks_beats=[0, 8, 16, 24, 32, 40, 48, 56, 64, 72, 80, 88, 96, 104, 112, 120, 128, 136, 144, 152, 160, 168, 176, 184], _ids_decoded=[])]"
      ]
     },
     "metadata": {},
     "output_type": "display_data"
    }
   ],
   "source": [
    "tokenizer = None # REMI()\n",
    "with open('checkpoints/midi_tokenizer_bpe.pkl', 'rb') as f:\n",
    "    tokenizer = pickle.load(f)\n",
    "midi_path = 'drums/10.mid'\n",
    "tokens = tokenizer.encode(midi_path)\n",
    "\n",
    "# tokens_with_bpe = tokenizer.encode_token_ids(deepcopy(tokens))         # copy as the method is inplace\n",
    "# tokens_no_bpe = tokenizer.decode_token_ids(deepcopy(tokens_with_bpe))\n",
    "# print(tokens_with_bpe, tokens_no_bpe)\n",
    "\n",
    "display(tokens)"
   ]
  }
 ],
 "metadata": {
  "kernelspec": {
   "display_name": "comp838",
   "language": "python",
   "name": "python3"
  },
  "language_info": {
   "codemirror_mode": {
    "name": "ipython",
    "version": 3
   },
   "file_extension": ".py",
   "mimetype": "text/x-python",
   "name": "python",
   "nbconvert_exporter": "python",
   "pygments_lexer": "ipython3",
   "version": "3.11.11"
  }
 },
 "nbformat": 4,
 "nbformat_minor": 5
}
