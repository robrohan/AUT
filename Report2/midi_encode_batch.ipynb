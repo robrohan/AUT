{
 "cells": [
  {
   "cell_type": "code",
   "execution_count": 5,
   "id": "e37caaa8",
   "metadata": {},
   "outputs": [],
   "source": [
    "from pathlib import Path\n",
    "from os.path import basename, splitext\n",
    "import numpy as np\n",
    "import pandas as pd\n",
    "import midichar"
   ]
  },
  {
   "cell_type": "code",
   "execution_count": 6,
   "id": "b41a83c6",
   "metadata": {},
   "outputs": [],
   "source": [
    "import logging\n",
    "logging.basicConfig()\n",
    "logging.getLogger().setLevel(logging.ERROR)"
   ]
  },
  {
   "cell_type": "code",
   "execution_count": 7,
   "id": "08b96d01",
   "metadata": {},
   "outputs": [
    {
     "name": "stderr",
     "output_type": "stream",
     "text": [
      "/opt/miniconda3/envs/comp838_report2/lib/python3.11/site-packages/pretty_midi/pretty_midi.py:100: RuntimeWarning: Tempo, Key or Time signature change events found on non-zero tracks.  This is not a valid type 0 or type 1 MIDI file.  Tempo, Key or Time Signature may be wrong.\n",
      "  warnings.warn(\n",
      "/opt/miniconda3/envs/comp838_report2/lib/python3.11/site-packages/pretty_midi/pretty_midi.py:100: RuntimeWarning: Tempo, Key or Time signature change events found on non-zero tracks.  This is not a valid type 0 or type 1 MIDI file.  Tempo, Key or Time Signature may be wrong.\n",
      "  warnings.warn(\n",
      "/opt/miniconda3/envs/comp838_report2/lib/python3.11/site-packages/pretty_midi/pretty_midi.py:100: RuntimeWarning: Tempo, Key or Time signature change events found on non-zero tracks.  This is not a valid type 0 or type 1 MIDI file.  Tempo, Key or Time Signature may be wrong.\n",
      "  warnings.warn(\n",
      "/opt/miniconda3/envs/comp838_report2/lib/python3.11/site-packages/pretty_midi/pretty_midi.py:100: RuntimeWarning: Tempo, Key or Time signature change events found on non-zero tracks.  This is not a valid type 0 or type 1 MIDI file.  Tempo, Key or Time Signature may be wrong.\n",
      "  warnings.warn(\n",
      "/opt/miniconda3/envs/comp838_report2/lib/python3.11/site-packages/pretty_midi/pretty_midi.py:100: RuntimeWarning: Tempo, Key or Time signature change events found on non-zero tracks.  This is not a valid type 0 or type 1 MIDI file.  Tempo, Key or Time Signature may be wrong.\n",
      "  warnings.warn(\n",
      "/opt/miniconda3/envs/comp838_report2/lib/python3.11/site-packages/pretty_midi/pretty_midi.py:100: RuntimeWarning: Tempo, Key or Time signature change events found on non-zero tracks.  This is not a valid type 0 or type 1 MIDI file.  Tempo, Key or Time Signature may be wrong.\n",
      "  warnings.warn(\n"
     ]
    }
   ],
   "source": [
    "ITEM_SIZE=256 #(48)\n",
    "\n",
    "df = pd.DataFrame(columns=('id', 'data'))\n",
    "\n",
    "row = 0\n",
    "for path in Path('datasets/lmd_full').rglob('*.mid'):\n",
    "    name, _ = splitext(basename(path))\n",
    "    enc = midichar.encode_midi(\n",
    "        midi_file=str(path),\n",
    "        window_size=ITEM_SIZE,\n",
    "        instrument_name=\"Standard Kit\")\n",
    "    if enc is not None:\n",
    "        df.loc[row] = [name, enc]\n",
    "        row += 1\n",
    "    if row >= 100:\n",
    "        break"
   ]
  },
  {
   "cell_type": "code",
   "execution_count": 8,
   "id": "75f39644",
   "metadata": {},
   "outputs": [
    {
     "name": "stdout",
     "output_type": "stream",
     "text": [
      "                                  id  \\\n",
      "0   9fcfccf1c2245c74eb02fbd6ce70fbdf   \n",
      "1   9d30679480d0e55a07be14144977cd71   \n",
      "2   9530943468b6b90e59e18301523da082   \n",
      "3   974f5b2466a5d5670dfddee061bfcb37   \n",
      "4   952df587b9fff5adbeb5f40b288fa64b   \n",
      "..                               ...   \n",
      "95  9984559b679fe7586c5bb06c5d82ff89   \n",
      "96  939ce938f54dd21df96ad7f7b3ea5e3a   \n",
      "97  9615c0c20d8cd2a5c2f03464fd265d0b   \n",
      "98  9d287cb51d0f82b7c0862c4f40d9dc98   \n",
      "99  92068c31d56c16e601924f14afb496df   \n",
      "\n",
      "                                                 data  \n",
      "0   [33860, 2013265962, 1174470954, 1174536746, 11...  \n",
      "1   [29508, 1929708850, 1678050603, 1929708866, 18...  \n",
      "2   [219204, 1225197622, 1174865955, 1141377334, 1...  \n",
      "3   [53828, 772475699, 1577782051, 722209843, 6887...  \n",
      "4   [36932, 2134456612, 2134456611, 1396259112, 21...  \n",
      "..                                                ...  \n",
      "95  [30788, 1996817699, 1392837973, 1057293645, 11...  \n",
      "96  [640836, 2082738474, 2250510627, 1831146026, 2...  \n",
      "97  [17988, 1758975789, 1775818797, 1792661796, 18...  \n",
      "98  [20036, 996501034, 996566826, 996632613, 59404...  \n",
      "99  [30788, 2081098531, 1393495878, 1947143971, 87...  \n",
      "\n",
      "[100 rows x 2 columns]\n"
     ]
    }
   ],
   "source": [
    "print(df)"
   ]
  }
 ],
 "metadata": {
  "kernelspec": {
   "display_name": "comp838_report2",
   "language": "python",
   "name": "python3"
  },
  "language_info": {
   "codemirror_mode": {
    "name": "ipython",
    "version": 3
   },
   "file_extension": ".py",
   "mimetype": "text/x-python",
   "name": "python",
   "nbconvert_exporter": "python",
   "pygments_lexer": "ipython3",
   "version": "3.11.11"
  }
 },
 "nbformat": 4,
 "nbformat_minor": 5
}
