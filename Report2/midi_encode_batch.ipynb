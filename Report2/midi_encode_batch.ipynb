{
 "cells": [
  {
   "cell_type": "code",
   "execution_count": 1,
   "id": "b5939f9c",
   "metadata": {},
   "outputs": [
    {
     "name": "stdout",
     "output_type": "stream",
     "text": [
      "Requirement already satisfied: numpy in /Users/robrohan/miniconda3/envs/comp838/lib/python3.11/site-packages (from -r requirements.txt (line 3)) (2.2.5)\n",
      "Requirement already satisfied: pandas in /Users/robrohan/miniconda3/envs/comp838/lib/python3.11/site-packages (from -r requirements.txt (line 4)) (2.2.3)\n",
      "Requirement already satisfied: seaborn in /Users/robrohan/miniconda3/envs/comp838/lib/python3.11/site-packages (from -r requirements.txt (line 5)) (0.13.2)\n",
      "Requirement already satisfied: pyfluidsynth in /Users/robrohan/miniconda3/envs/comp838/lib/python3.11/site-packages (from -r requirements.txt (line 7)) (1.3.4)\n",
      "Requirement already satisfied: pretty_midi in /Users/robrohan/miniconda3/envs/comp838/lib/python3.11/site-packages (from -r requirements.txt (line 8)) (0.2.10)\n",
      "Requirement already satisfied: matplotlib in /Users/robrohan/miniconda3/envs/comp838/lib/python3.11/site-packages (from -r requirements.txt (line 10)) (3.10.3)\n",
      "Requirement already satisfied: python-dateutil>=2.8.2 in /Users/robrohan/miniconda3/envs/comp838/lib/python3.11/site-packages (from pandas->-r requirements.txt (line 4)) (2.9.0.post0)\n",
      "Requirement already satisfied: pytz>=2020.1 in /Users/robrohan/miniconda3/envs/comp838/lib/python3.11/site-packages (from pandas->-r requirements.txt (line 4)) (2025.2)\n",
      "Requirement already satisfied: tzdata>=2022.7 in /Users/robrohan/miniconda3/envs/comp838/lib/python3.11/site-packages (from pandas->-r requirements.txt (line 4)) (2025.2)\n",
      "Requirement already satisfied: mido>=1.1.16 in /Users/robrohan/miniconda3/envs/comp838/lib/python3.11/site-packages (from pretty_midi->-r requirements.txt (line 8)) (1.3.3)\n",
      "Requirement already satisfied: six in /Users/robrohan/miniconda3/envs/comp838/lib/python3.11/site-packages (from pretty_midi->-r requirements.txt (line 8)) (1.17.0)\n",
      "Requirement already satisfied: contourpy>=1.0.1 in /Users/robrohan/miniconda3/envs/comp838/lib/python3.11/site-packages (from matplotlib->-r requirements.txt (line 10)) (1.3.2)\n",
      "Requirement already satisfied: cycler>=0.10 in /Users/robrohan/miniconda3/envs/comp838/lib/python3.11/site-packages (from matplotlib->-r requirements.txt (line 10)) (0.12.1)\n",
      "Requirement already satisfied: fonttools>=4.22.0 in /Users/robrohan/miniconda3/envs/comp838/lib/python3.11/site-packages (from matplotlib->-r requirements.txt (line 10)) (4.57.0)\n",
      "Requirement already satisfied: kiwisolver>=1.3.1 in /Users/robrohan/miniconda3/envs/comp838/lib/python3.11/site-packages (from matplotlib->-r requirements.txt (line 10)) (1.4.8)\n",
      "Requirement already satisfied: packaging>=20.0 in /Users/robrohan/miniconda3/envs/comp838/lib/python3.11/site-packages (from matplotlib->-r requirements.txt (line 10)) (25.0)\n",
      "Requirement already satisfied: pillow>=8 in /Users/robrohan/miniconda3/envs/comp838/lib/python3.11/site-packages (from matplotlib->-r requirements.txt (line 10)) (11.2.1)\n",
      "Requirement already satisfied: pyparsing>=2.3.1 in /Users/robrohan/miniconda3/envs/comp838/lib/python3.11/site-packages (from matplotlib->-r requirements.txt (line 10)) (3.2.3)\n",
      "Note: you may need to restart the kernel to use updated packages.\n"
     ]
    }
   ],
   "source": [
    "%pip install -r requirements.txt --upgrade"
   ]
  },
  {
   "cell_type": "code",
   "execution_count": 2,
   "id": "e37caaa8",
   "metadata": {},
   "outputs": [],
   "source": [
    "from pathlib import Path\n",
    "from os.path import basename, splitext\n",
    "import numpy as np\n",
    "import pandas as pd\n",
    "import matplotlib.pyplot as plt\n",
    "import midichar\n",
    "import csv\n",
    "import math\n",
    "import json"
   ]
  },
  {
   "cell_type": "code",
   "execution_count": 3,
   "id": "b41a83c6",
   "metadata": {},
   "outputs": [],
   "source": [
    "import logging\n",
    "logging.basicConfig()\n",
    "logging.getLogger().setLevel(logging.ERROR)"
   ]
  },
  {
   "cell_type": "code",
   "execution_count": 4,
   "id": "08b96d01",
   "metadata": {},
   "outputs": [],
   "source": [
    "ITEM_SIZE=256 #(48)\n",
    "\n",
    "# try:\n",
    "#     with open(\"training_data.csv\", 'a', newline='') as file:\n",
    "#         writer = csv.writer(file)\n",
    "#         for path in Path('datasets/lmd_full').rglob('*.mid'):\n",
    "#             name, _ = splitext(basename(path))\n",
    "#             enc = midichar.encode_midi(\n",
    "#                 midi_file=str(path),\n",
    "#                 window_size=ITEM_SIZE,\n",
    "#                 instrument_name=\"Standard Kit\")\n",
    "#             if enc is not None:\n",
    "#                 writer.writerow([name, json.dumps(enc.tolist())])\n",
    "# except Exception as e:\n",
    "#     print(f\"An error occurred: {e}\")\n"
   ]
  },
  {
   "cell_type": "code",
   "execution_count": 5,
   "id": "75f39644",
   "metadata": {},
   "outputs": [
    {
     "data": {
      "text/html": [
       "<div>\n",
       "<style scoped>\n",
       "    .dataframe tbody tr th:only-of-type {\n",
       "        vertical-align: middle;\n",
       "    }\n",
       "\n",
       "    .dataframe tbody tr th {\n",
       "        vertical-align: top;\n",
       "    }\n",
       "\n",
       "    .dataframe thead th {\n",
       "        text-align: right;\n",
       "    }\n",
       "</style>\n",
       "<table border=\"1\" class=\"dataframe\">\n",
       "  <thead>\n",
       "    <tr style=\"text-align: right;\">\n",
       "      <th></th>\n",
       "      <th>name</th>\n",
       "      <th>data</th>\n",
       "    </tr>\n",
       "  </thead>\n",
       "  <tbody>\n",
       "    <tr>\n",
       "      <th>0</th>\n",
       "      <td>9fcfccf1c2245c74eb02fbd6ce70fbdf</td>\n",
       "      <td>[33860, 2013265962, 1174470954, 1174536746, 11...</td>\n",
       "    </tr>\n",
       "    <tr>\n",
       "      <th>1</th>\n",
       "      <td>9d30679480d0e55a07be14144977cd71</td>\n",
       "      <td>[29508, 1929708850, 1678050603, 1929708866, 18...</td>\n",
       "    </tr>\n",
       "    <tr>\n",
       "      <th>2</th>\n",
       "      <td>9530943468b6b90e59e18301523da082</td>\n",
       "      <td>[219204, 1225197622, 1174865955, 1141377334, 1...</td>\n",
       "    </tr>\n",
       "    <tr>\n",
       "      <th>3</th>\n",
       "      <td>974f5b2466a5d5670dfddee061bfcb37</td>\n",
       "      <td>[53828, 772475699, 1577782051, 722209843, 6887...</td>\n",
       "    </tr>\n",
       "    <tr>\n",
       "      <th>4</th>\n",
       "      <td>952df587b9fff5adbeb5f40b288fa64b</td>\n",
       "      <td>[36932, 2134456612, 2134456611, 1396259112, 21...</td>\n",
       "    </tr>\n",
       "  </tbody>\n",
       "</table>\n",
       "</div>"
      ],
      "text/plain": [
       "                               name  \\\n",
       "0  9fcfccf1c2245c74eb02fbd6ce70fbdf   \n",
       "1  9d30679480d0e55a07be14144977cd71   \n",
       "2  9530943468b6b90e59e18301523da082   \n",
       "3  974f5b2466a5d5670dfddee061bfcb37   \n",
       "4  952df587b9fff5adbeb5f40b288fa64b   \n",
       "\n",
       "                                                data  \n",
       "0  [33860, 2013265962, 1174470954, 1174536746, 11...  \n",
       "1  [29508, 1929708850, 1678050603, 1929708866, 18...  \n",
       "2  [219204, 1225197622, 1174865955, 1141377334, 1...  \n",
       "3  [53828, 772475699, 1577782051, 722209843, 6887...  \n",
       "4  [36932, 2134456612, 2134456611, 1396259112, 21...  "
      ]
     },
     "metadata": {},
     "output_type": "display_data"
    }
   ],
   "source": [
    "df = pd.read_csv(\"training_data.csv\", names=['name', 'data'])\n",
    "display(df.head())"
   ]
  },
  {
   "cell_type": "code",
   "execution_count": 6,
   "id": "c2c53fe8",
   "metadata": {},
   "outputs": [
    {
     "name": "stderr",
     "output_type": "stream",
     "text": [
      "/var/folders/ks/zt1_dy0976s0n809crmcsppc0000gn/T/ipykernel_7785/3255835686.py:4: FutureWarning: Series.__getitem__ treating keys as positions is deprecated. In a future version, integer keys will always be treated as labels (consistent with DataFrame behavior). To access a value by position, use `ser.iloc[pos]`\n",
      "  sample = np.array( json.loads(df.loc[30][1]), dtype=np.int32 )\n"
     ]
    },
    {
     "data": {
      "image/png": "[encoded data removed]",
      "text/plain": [
       "<Figure size 640x480 with 1 Axes>"
      ]
     },
     "metadata": {},
     "output_type": "display_data"
    }
   ],
   "source": [
    "sqr = int(math.sqrt(ITEM_SIZE))\n",
    "# print(sqr, ITEM_SIZE)\n",
    "# print(df.loc[10][0])\n",
    "sample = np.array( json.loads(df.loc[30][1]), dtype=np.int32 )\n",
    "# print(type(sample))\n",
    "plt.imshow(np.reshape(sample, (-1,sqr)))\n",
    "plt.show()"
   ]
  },
  {
   "cell_type": "code",
   "execution_count": 7,
   "id": "5be3be1c",
   "metadata": {},
   "outputs": [
    {
     "data": {
      "text/plain": [
       "<pretty_midi.pretty_midi.PrettyMIDI at 0x10dcab1d0>"
      ]
     },
     "execution_count": 7,
     "metadata": {},
     "output_type": "execute_result"
    }
   ],
   "source": [
    "midichar.decode_midi(notes=sample,\n",
    "                     out_file=\"output/batch.mid\",\n",
    "                     instrument_name=\"Standard Kit\")"
   ]
  }
 ],
 "metadata": {
  "kernelspec": {
   "display_name": "comp838",
   "language": "python",
   "name": "python3"
  },
  "language_info": {
   "codemirror_mode": {
    "name": "ipython",
    "version": 3
   },
   "file_extension": ".py",
   "mimetype": "text/x-python",
   "name": "python",
   "nbconvert_exporter": "python",
   "pygments_lexer": "ipython3",
   "version": "3.11.11"
  }
 },
 "nbformat": 4,
 "nbformat_minor": 5
}
