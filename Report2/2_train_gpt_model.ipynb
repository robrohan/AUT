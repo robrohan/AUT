{
 "cells": [
  {
   "cell_type": "code",
   "execution_count": 1,
   "id": "bb5acd65",
   "metadata": {},
   "outputs": [
    {
     "name": "stdout",
     "output_type": "stream",
     "text": [
      "Requirement already satisfied: torch in /Users/robrohan/miniconda3/envs/comp838/lib/python3.11/site-packages (from -r requirements.txt (line 1)) (2.7.0)\n",
      "Requirement already satisfied: numpy in /Users/robrohan/miniconda3/envs/comp838/lib/python3.11/site-packages (from -r requirements.txt (line 2)) (2.2.6)\n",
      "Requirement already satisfied: pandas in /Users/robrohan/miniconda3/envs/comp838/lib/python3.11/site-packages (from -r requirements.txt (line 3)) (2.2.3)\n",
      "Requirement already satisfied: seaborn in /Users/robrohan/miniconda3/envs/comp838/lib/python3.11/site-packages (from -r requirements.txt (line 4)) (0.13.2)\n",
      "Requirement already satisfied: pyfluidsynth in /Users/robrohan/miniconda3/envs/comp838/lib/python3.11/site-packages (from -r requirements.txt (line 6)) (1.3.4)\n",
      "Requirement already satisfied: pretty_midi in /Users/robrohan/miniconda3/envs/comp838/lib/python3.11/site-packages (from -r requirements.txt (line 7)) (0.2.10)\n",
      "Requirement already satisfied: matplotlib in /Users/robrohan/miniconda3/envs/comp838/lib/python3.11/site-packages (from -r requirements.txt (line 9)) (3.10.3)\n",
      "Requirement already satisfied: ipywidgets in /Users/robrohan/miniconda3/envs/comp838/lib/python3.11/site-packages (from -r requirements.txt (line 10)) (8.1.7)\n",
      "Requirement already satisfied: filelock in /Users/robrohan/miniconda3/envs/comp838/lib/python3.11/site-packages (from torch->-r requirements.txt (line 1)) (3.18.0)\n",
      "Requirement already satisfied: typing-extensions>=4.10.0 in /Users/robrohan/miniconda3/envs/comp838/lib/python3.11/site-packages (from torch->-r requirements.txt (line 1)) (4.13.2)\n",
      "Requirement already satisfied: sympy>=1.13.3 in /Users/robrohan/miniconda3/envs/comp838/lib/python3.11/site-packages (from torch->-r requirements.txt (line 1)) (1.14.0)\n",
      "Requirement already satisfied: networkx in /Users/robrohan/miniconda3/envs/comp838/lib/python3.11/site-packages (from torch->-r requirements.txt (line 1)) (3.4.2)\n",
      "Requirement already satisfied: jinja2 in /Users/robrohan/miniconda3/envs/comp838/lib/python3.11/site-packages (from torch->-r requirements.txt (line 1)) (3.1.6)\n",
      "Requirement already satisfied: fsspec in /Users/robrohan/miniconda3/envs/comp838/lib/python3.11/site-packages (from torch->-r requirements.txt (line 1)) (2025.3.2)\n",
      "Requirement already satisfied: python-dateutil>=2.8.2 in /Users/robrohan/miniconda3/envs/comp838/lib/python3.11/site-packages (from pandas->-r requirements.txt (line 3)) (2.9.0.post0)\n",
      "Requirement already satisfied: pytz>=2020.1 in /Users/robrohan/miniconda3/envs/comp838/lib/python3.11/site-packages (from pandas->-r requirements.txt (line 3)) (2025.2)\n",
      "Requirement already satisfied: tzdata>=2022.7 in /Users/robrohan/miniconda3/envs/comp838/lib/python3.11/site-packages (from pandas->-r requirements.txt (line 3)) (2025.2)\n",
      "Requirement already satisfied: mido>=1.1.16 in /Users/robrohan/miniconda3/envs/comp838/lib/python3.11/site-packages (from pretty_midi->-r requirements.txt (line 7)) (1.3.3)\n",
      "Requirement already satisfied: six in /Users/robrohan/miniconda3/envs/comp838/lib/python3.11/site-packages (from pretty_midi->-r requirements.txt (line 7)) (1.17.0)\n",
      "Requirement already satisfied: contourpy>=1.0.1 in /Users/robrohan/miniconda3/envs/comp838/lib/python3.11/site-packages (from matplotlib->-r requirements.txt (line 9)) (1.3.2)\n",
      "Requirement already satisfied: cycler>=0.10 in /Users/robrohan/miniconda3/envs/comp838/lib/python3.11/site-packages (from matplotlib->-r requirements.txt (line 9)) (0.12.1)\n",
      "Requirement already satisfied: fonttools>=4.22.0 in /Users/robrohan/miniconda3/envs/comp838/lib/python3.11/site-packages (from matplotlib->-r requirements.txt (line 9)) (4.57.0)\n",
      "Requirement already satisfied: kiwisolver>=1.3.1 in /Users/robrohan/miniconda3/envs/comp838/lib/python3.11/site-packages (from matplotlib->-r requirements.txt (line 9)) (1.4.8)\n",
      "Requirement already satisfied: packaging>=20.0 in /Users/robrohan/miniconda3/envs/comp838/lib/python3.11/site-packages (from matplotlib->-r requirements.txt (line 9)) (25.0)\n",
      "Requirement already satisfied: pillow>=8 in /Users/robrohan/miniconda3/envs/comp838/lib/python3.11/site-packages (from matplotlib->-r requirements.txt (line 9)) (11.2.1)\n",
      "Requirement already satisfied: pyparsing>=2.3.1 in /Users/robrohan/miniconda3/envs/comp838/lib/python3.11/site-packages (from matplotlib->-r requirements.txt (line 9)) (3.2.3)\n",
      "Requirement already satisfied: comm>=0.1.3 in /Users/robrohan/miniconda3/envs/comp838/lib/python3.11/site-packages (from ipywidgets->-r requirements.txt (line 10)) (0.2.2)\n",
      "Requirement already satisfied: ipython>=6.1.0 in /Users/robrohan/miniconda3/envs/comp838/lib/python3.11/site-packages (from ipywidgets->-r requirements.txt (line 10)) (9.2.0)\n",
      "Requirement already satisfied: traitlets>=4.3.1 in /Users/robrohan/miniconda3/envs/comp838/lib/python3.11/site-packages (from ipywidgets->-r requirements.txt (line 10)) (5.14.3)\n",
      "Requirement already satisfied: widgetsnbextension~=4.0.14 in /Users/robrohan/miniconda3/envs/comp838/lib/python3.11/site-packages (from ipywidgets->-r requirements.txt (line 10)) (4.0.14)\n",
      "Requirement already satisfied: jupyterlab_widgets~=3.0.15 in /Users/robrohan/miniconda3/envs/comp838/lib/python3.11/site-packages (from ipywidgets->-r requirements.txt (line 10)) (3.0.15)\n",
      "Requirement already satisfied: decorator in /Users/robrohan/miniconda3/envs/comp838/lib/python3.11/site-packages (from ipython>=6.1.0->ipywidgets->-r requirements.txt (line 10)) (5.2.1)\n",
      "Requirement already satisfied: ipython-pygments-lexers in /Users/robrohan/miniconda3/envs/comp838/lib/python3.11/site-packages (from ipython>=6.1.0->ipywidgets->-r requirements.txt (line 10)) (1.1.1)\n",
      "Requirement already satisfied: jedi>=0.16 in /Users/robrohan/miniconda3/envs/comp838/lib/python3.11/site-packages (from ipython>=6.1.0->ipywidgets->-r requirements.txt (line 10)) (0.19.2)\n",
      "Requirement already satisfied: matplotlib-inline in /Users/robrohan/miniconda3/envs/comp838/lib/python3.11/site-packages (from ipython>=6.1.0->ipywidgets->-r requirements.txt (line 10)) (0.1.7)\n",
      "Requirement already satisfied: pexpect>4.3 in /Users/robrohan/miniconda3/envs/comp838/lib/python3.11/site-packages (from ipython>=6.1.0->ipywidgets->-r requirements.txt (line 10)) (4.9.0)\n",
      "Requirement already satisfied: prompt_toolkit<3.1.0,>=3.0.41 in /Users/robrohan/miniconda3/envs/comp838/lib/python3.11/site-packages (from ipython>=6.1.0->ipywidgets->-r requirements.txt (line 10)) (3.0.51)\n",
      "Requirement already satisfied: pygments>=2.4.0 in /Users/robrohan/miniconda3/envs/comp838/lib/python3.11/site-packages (from ipython>=6.1.0->ipywidgets->-r requirements.txt (line 10)) (2.19.1)\n",
      "Requirement already satisfied: stack_data in /Users/robrohan/miniconda3/envs/comp838/lib/python3.11/site-packages (from ipython>=6.1.0->ipywidgets->-r requirements.txt (line 10)) (0.6.3)\n",
      "Requirement already satisfied: wcwidth in /Users/robrohan/miniconda3/envs/comp838/lib/python3.11/site-packages (from prompt_toolkit<3.1.0,>=3.0.41->ipython>=6.1.0->ipywidgets->-r requirements.txt (line 10)) (0.2.13)\n",
      "Requirement already satisfied: parso<0.9.0,>=0.8.4 in /Users/robrohan/miniconda3/envs/comp838/lib/python3.11/site-packages (from jedi>=0.16->ipython>=6.1.0->ipywidgets->-r requirements.txt (line 10)) (0.8.4)\n",
      "Requirement already satisfied: ptyprocess>=0.5 in /Users/robrohan/miniconda3/envs/comp838/lib/python3.11/site-packages (from pexpect>4.3->ipython>=6.1.0->ipywidgets->-r requirements.txt (line 10)) (0.7.0)\n",
      "Requirement already satisfied: mpmath<1.4,>=1.1.0 in /Users/robrohan/miniconda3/envs/comp838/lib/python3.11/site-packages (from sympy>=1.13.3->torch->-r requirements.txt (line 1)) (1.3.0)\n",
      "Requirement already satisfied: MarkupSafe>=2.0 in /Users/robrohan/miniconda3/envs/comp838/lib/python3.11/site-packages (from jinja2->torch->-r requirements.txt (line 1)) (3.0.2)\n",
      "Requirement already satisfied: executing>=1.2.0 in /Users/robrohan/miniconda3/envs/comp838/lib/python3.11/site-packages (from stack_data->ipython>=6.1.0->ipywidgets->-r requirements.txt (line 10)) (2.2.0)\n",
      "Requirement already satisfied: asttokens>=2.1.0 in /Users/robrohan/miniconda3/envs/comp838/lib/python3.11/site-packages (from stack_data->ipython>=6.1.0->ipywidgets->-r requirements.txt (line 10)) (3.0.0)\n",
      "Requirement already satisfied: pure_eval in /Users/robrohan/miniconda3/envs/comp838/lib/python3.11/site-packages (from stack_data->ipython>=6.1.0->ipywidgets->-r requirements.txt (line 10)) (0.2.3)\n",
      "Note: you may need to restart the kernel to use updated packages.\n",
      "Requirement already satisfied: miditok in /Users/robrohan/miniconda3/envs/comp838/lib/python3.11/site-packages (3.0.5.post1)\n",
      "Requirement already satisfied: huggingface-hub>=0.16.4 in /Users/robrohan/miniconda3/envs/comp838/lib/python3.11/site-packages (from miditok) (0.31.2)\n",
      "Requirement already satisfied: numpy>=1.19 in /Users/robrohan/miniconda3/envs/comp838/lib/python3.11/site-packages (from miditok) (2.2.6)\n",
      "Requirement already satisfied: symusic>=0.5.0 in /Users/robrohan/miniconda3/envs/comp838/lib/python3.11/site-packages (from miditok) (0.5.7)\n",
      "Requirement already satisfied: tokenizers>=0.13.0 in /Users/robrohan/miniconda3/envs/comp838/lib/python3.11/site-packages (from miditok) (0.21.1)\n",
      "Requirement already satisfied: tqdm in /Users/robrohan/miniconda3/envs/comp838/lib/python3.11/site-packages (from miditok) (4.67.1)\n",
      "Requirement already satisfied: filelock in /Users/robrohan/miniconda3/envs/comp838/lib/python3.11/site-packages (from huggingface-hub>=0.16.4->miditok) (3.18.0)\n",
      "Requirement already satisfied: fsspec>=2023.5.0 in /Users/robrohan/miniconda3/envs/comp838/lib/python3.11/site-packages (from huggingface-hub>=0.16.4->miditok) (2025.3.2)\n",
      "Requirement already satisfied: packaging>=20.9 in /Users/robrohan/miniconda3/envs/comp838/lib/python3.11/site-packages (from huggingface-hub>=0.16.4->miditok) (25.0)\n",
      "Requirement already satisfied: pyyaml>=5.1 in /Users/robrohan/miniconda3/envs/comp838/lib/python3.11/site-packages (from huggingface-hub>=0.16.4->miditok) (6.0.2)\n",
      "Requirement already satisfied: requests in /Users/robrohan/miniconda3/envs/comp838/lib/python3.11/site-packages (from huggingface-hub>=0.16.4->miditok) (2.32.3)\n",
      "Requirement already satisfied: typing-extensions>=3.7.4.3 in /Users/robrohan/miniconda3/envs/comp838/lib/python3.11/site-packages (from huggingface-hub>=0.16.4->miditok) (4.13.2)\n",
      "Requirement already satisfied: pySmartDL in /Users/robrohan/miniconda3/envs/comp838/lib/python3.11/site-packages (from symusic>=0.5.0->miditok) (1.3.4)\n",
      "Requirement already satisfied: platformdirs in /Users/robrohan/miniconda3/envs/comp838/lib/python3.11/site-packages (from symusic>=0.5.0->miditok) (4.3.8)\n",
      "Requirement already satisfied: charset-normalizer<4,>=2 in /Users/robrohan/miniconda3/envs/comp838/lib/python3.11/site-packages (from requests->huggingface-hub>=0.16.4->miditok) (3.4.2)\n",
      "Requirement already satisfied: idna<4,>=2.5 in /Users/robrohan/miniconda3/envs/comp838/lib/python3.11/site-packages (from requests->huggingface-hub>=0.16.4->miditok) (3.10)\n",
      "Requirement already satisfied: urllib3<3,>=1.21.1 in /Users/robrohan/miniconda3/envs/comp838/lib/python3.11/site-packages (from requests->huggingface-hub>=0.16.4->miditok) (2.4.0)\n",
      "Requirement already satisfied: certifi>=2017.4.17 in /Users/robrohan/miniconda3/envs/comp838/lib/python3.11/site-packages (from requests->huggingface-hub>=0.16.4->miditok) (2025.4.26)\n",
      "Note: you may need to restart the kernel to use updated packages.\n"
     ]
    }
   ],
   "source": [
    "%pip install -r requirements.txt\n",
    "%pip install miditok"
   ]
  },
  {
   "cell_type": "code",
   "execution_count": 2,
   "id": "693f9f1b",
   "metadata": {},
   "outputs": [],
   "source": [
    "import os\n",
    "from gpt_mini.model import GPT\n",
    "from gpt_mini.trainer import Trainer\n",
    "from gpt_mini.bpe import MidiDataset\n",
    "import matplotlib.pyplot as plt\n",
    "import torch\n",
    "from gpt_mini.config import DEFAULT_DEVICE, CONFIG\n",
    "import pickle\n",
    "from pathlib import Path\n",
    "import numpy as np"
   ]
  },
  {
   "cell_type": "code",
   "execution_count": 3,
   "id": "004040c1",
   "metadata": {},
   "outputs": [],
   "source": [
    "os.environ['TOKENIZERS_PARALLELISM'] = 'true'"
   ]
  },
  {
   "cell_type": "code",
   "execution_count": 4,
   "id": "80107acb",
   "metadata": {},
   "outputs": [
    {
     "name": "stdout",
     "output_type": "stream",
     "text": [
      "number of parameters: 2.51M\n"
     ]
    }
   ],
   "source": [
    "model_config = GPT.get_default_config()\n",
    "# either model_type or (n_layer, n_head, n_embd) must be given in the config\n",
    "model_config.model_type = None # 'gpt-nano'\n",
    "model_config.n_layer = CONFIG[\"model\"][\"n_layer\"]\n",
    "model_config.n_head = CONFIG[\"model\"][\"n_head\"]\n",
    "model_config.n_embd = CONFIG[\"model\"][\"n_embed\"]\n",
    "# model_config.vocab_size = 50257 # 65535        # max number of vocabulary\n",
    "model_config.vocab_size = CONFIG[\"model\"][\"vocab_size\"]\n",
    "# model_config.block_size = 256                  # input context length\n",
    "model_config.block_size = CONFIG[\"model\"][\"block_size\"]\n",
    "\n",
    "model = GPT(model_config)"
   ]
  },
  {
   "cell_type": "code",
   "execution_count": 5,
   "id": "f6aaea31",
   "metadata": {},
   "outputs": [
    {
     "name": "stdout",
     "output_type": "stream",
     "text": [
      "<gpt_mini.bpe.MidiDataset object at 0x11128fc10>\n"
     ]
    }
   ],
   "source": [
    "train_dataset = MidiDataset(\n",
    "    CONFIG[\"preprocess\"][\"data_train\"],\n",
    "    CONFIG[\"tokenizer\"][\"model\"],\n",
    "    CONFIG[\"model\"][\"block_size\"])\n",
    "print(train_dataset)"
   ]
  },
  {
   "cell_type": "code",
   "execution_count": 6,
   "id": "2ac302ce",
   "metadata": {},
   "outputs": [
    {
     "name": "stdout",
     "output_type": "stream",
     "text": [
      "running on device cpu\n"
     ]
    }
   ],
   "source": [
    "# your subclass of torch.utils.data.Dataset that emits example\n",
    "# torch LongTensor of lengths up to 1024, with integers from [0,50257)\n",
    "train_config = Trainer.get_default_config()\n",
    "train_config.learning_rate = CONFIG[\"training\"][\"learning_rate\"]\n",
    "train_config.max_iters = CONFIG[\"training\"][\"max_iters\"]\n",
    "train_config.batch_size = CONFIG[\"training\"][\"batch_size\"]\n",
    "train_config.num_workers = CONFIG[\"training\"][\"workers\"]\n",
    "train_config.device = DEFAULT_DEVICE\n",
    "trainer = Trainer(train_config, model, train_dataset)"
   ]
  },
  {
   "cell_type": "code",
   "execution_count": 7,
   "id": "a247e3ce",
   "metadata": {},
   "outputs": [],
   "source": [
    "tokenizer = None\n",
    "f = open(CONFIG[\"tokenizer\"][\"model\"], 'rb')\n",
    "tokenizer = pickle.load(f)\n",
    "f.flush()\n",
    "f.close()"
   ]
  },
  {
   "cell_type": "code",
   "execution_count": 8,
   "id": "3378d6ec",
   "metadata": {},
   "outputs": [
    {
     "name": "stdout",
     "output_type": "stream",
     "text": [
      "[283, 283, 283, 283, 283, 283, 283, 283, 283, 283, 283, 283, 283, 283, 524, 559, 208, 8927, 1036, 213, 1497, 38392, 7062, 47462, 216, 7062, 38618, 7062, 38681, 219, 7062, 220, 12633, 48371, 190, 2064, 2064, 191, 1497, 192, 1497, 193, 12633, 194, 7062, 37065, 196, 7062, 12368, 197, 12368, 736, 559, 38396, 27989, 38764, 38818, 4761, 17564, 190, 4761, 965, 191, 4761, 36866, 193, 4761, 965, 194, 965, 195, 902, 196, 902, 902, 45645, 14184, 965, 18525, 200, 4761, 15039, 4761, 202, 10901, 203, 10901, 1450, 1213, 20787, 31181, 755, 27462, 206, 5021, 31732, 11244, 46844, 216, 1290, 218, 4154, 16399, 45879, 201, 14710, 4761, 31773, 38127, 283, 48822, 40832, 902, 8454, 965, 202, 41510, 4761, 18611, 4761, 205, 29487, 4761, 965, 207, 4761, 37926, 15137, 902, 210, 15679, 965, 47233, 965, 213, 965, 27808, 4761, 14360, 216, 4761, 217, 10901, 10901, 4751, 1092, 4099, 10342, 560, 8716, 12207, 46330, 5871, 210, 2064, 3672, 758, 4080, 772, 9426, 40260, 7718, 198, 2064, 560, 461, 5405, 5082, 4901, 38318, 4415, 628, 14404, 4755, 12418, 1092, 15952, 461, 560, 4995, 7381, 1122, 4494, 216, 2064, 4751, 758, 4099, 772, 195, 902, 40260, 20123, 203, 2064, 13471, 461, 5087, 6853, 628, 47658, 461, 32385, 4936, 724, 11641, 447, 7349, 1092, 5405, 9015, 560, 4901, 10843, 1122, 4755, 301, 2064, 7716, 758, 14974, 772, 37391, 7358, 559, 7745, 31836, 560, 461, 3528, 6133, 4099, 27053, 7923, 628, 9612, 447, 5075, 1092, 5087, 9345, 560, 4080, 772, 9108, 995, 7718, 7349, 758, 5405, 772, 4002, 393, 1092, 4901, 10843, 560, 4355, 19059, 1122, 12741, 198, 2064, 5732, 758, 4995, 772, 9661, 40260, 4494, 47809, 560, 461, 4099, 45499, 5150, 1036, 8458, 628, 10415, 447, 3672, 1092, 4080, 9108, 560, 4396, 6649, 1122, 12807, 204, 2064, 3944, 758, 4901, 772, 9059, 40260, 4755, 48822, 560, 6302, 5150, 447, 628, 205, 902, 461]\n"
     ]
    }
   ],
   "source": [
    "test_files = []\n",
    "with open(CONFIG[\"preprocess\"][\"data_test\"], \"r\", encoding=\"utf-8\") as f:\n",
    "    test_files = f.readlines()\n",
    "\n",
    "encoded_test_set = []\n",
    "for test_input in test_files:\n",
    "    tokens = tokenizer.encode(f\"{Path.cwd()}/{str.rstrip(test_input)}\")\n",
    "    encoded_test_set.append(tokens[0].ids)\n",
    "\n",
    "f = open(\"test_set.pkl\", 'wb')\n",
    "pickle.dump(encoded_test_set, f)\n",
    "f.flush()\n",
    "f.close()\n",
    "\n",
    "f = open(\"test_set.pkl\", 'rb')\n",
    "encoded_test_set = pickle.load(f)\n",
    "f.close()\n",
    "\n",
    "len(encoded_test_set)\n",
    "print(encoded_test_set[0])\n"
   ]
  },
  {
   "cell_type": "code",
   "execution_count": 9,
   "id": "e6ba67c1",
   "metadata": {},
   "outputs": [
    {
     "name": "stderr",
     "output_type": "stream",
     "text": [
      "/Users/robrohan/miniconda3/envs/comp838/lib/python3.11/site-packages/torch/utils/data/dataloader.py:683: UserWarning: 'pin_memory' argument is set as true but not supported on MPS now, then device pinned memory won't be used.\n",
      "  warnings.warn(warn_msg)\n"
     ]
    },
    {
     "name": "stdout",
     "output_type": "stream",
     "text": [
      "iter_dt 0.00ms; iter 0: train loss 10.82410\n"
     ]
    },
    {
     "name": "stderr",
     "output_type": "stream",
     "text": [
      "/var/folders/ks/zt1_dy0976s0n809crmcsppc0000gn/T/ipykernel_50661/1182298587.py:50: DeprecationWarning: __array__ implementation doesn't accept a copy keyword, so passing copy=False failed. __array__ must implement 'dtype' and 'copy' keyword arguments. To learn more, see the migration guide https://numpy.org/devdocs/numpy_2_0_migration_guide.html#adapting-to-changes-in-the-copy-keyword\n",
      "  correct_predictions += (np.array(predicted_notes.cpu()) == np.array(actual_notes.cpu())).sum().item()\n"
     ]
    },
    {
     "name": "stdout",
     "output_type": "stream",
     "text": [
      "iter_dt 1036.79ms; iter 100: train loss 8.12048\n",
      "iter_dt 1032.24ms; iter 200: train loss 7.86309\n",
      "iter_dt 1034.30ms; iter 300: train loss 7.15760\n",
      "iter_dt 1055.11ms; iter 400: train loss 7.41088\n",
      "iter_dt 1032.34ms; iter 500: train loss 6.08732\n",
      "iter_dt 1032.62ms; iter 600: train loss 6.81306\n",
      "iter_dt 1027.03ms; iter 700: train loss 5.89790\n",
      "iter_dt 1027.84ms; iter 800: train loss 6.63609\n",
      "iter_dt 1020.23ms; iter 900: train loss 6.71287\n",
      "iter_dt 1020.25ms; iter 1000: train loss 5.44976\n",
      "iter_dt 1023.44ms; iter 1100: train loss 5.74494\n",
      "iter_dt 1024.23ms; iter 1200: train loss 5.28118\n",
      "iter_dt 1025.17ms; iter 1300: train loss 5.20316\n",
      "iter_dt 1025.35ms; iter 1400: train loss 5.49096\n",
      "iter_dt 1016.84ms; iter 1500: train loss 5.38543\n",
      "iter_dt 1023.31ms; iter 1600: train loss 5.41697\n",
      "iter_dt 1020.88ms; iter 1700: train loss 4.50873\n",
      "iter_dt 1024.62ms; iter 1800: train loss 4.74845\n",
      "iter_dt 1019.31ms; iter 1900: train loss 5.08356\n",
      "iter_dt 1010.73ms; iter 2000: train loss 4.60718\n",
      "iter_dt 1057.35ms; iter 2100: train loss 4.85558\n",
      "iter_dt 1088.75ms; iter 2200: train loss 4.21362\n",
      "iter_dt 1074.17ms; iter 2300: train loss 4.29326\n",
      "iter_dt 1167.74ms; iter 2400: train loss 4.62319\n",
      "iter_dt 1058.21ms; iter 2500: train loss 3.83267\n",
      "iter_dt 1080.39ms; iter 2600: train loss 4.80676\n",
      "iter_dt 1082.97ms; iter 2700: train loss 4.38371\n",
      "iter_dt 1068.36ms; iter 2800: train loss 4.70368\n",
      "iter_dt 1066.34ms; iter 2900: train loss 4.50214\n"
     ]
    }
   ],
   "source": [
    "torch.set_num_threads(128)\n",
    "\n",
    "loss_values = []\n",
    "accuracy_values = []\n",
    "\n",
    "def calculate_note_accuracy(predicted_notes, actual_notes):\n",
    "    correct_predictions = 0\n",
    "    total_predictions = len(actual_notes)\n",
    "\n",
    "    for predicted, actual in zip(predicted_notes, actual_notes):\n",
    "        if predicted == actual:\n",
    "            correct_predictions += 1\n",
    "\n",
    "    accuracy = correct_predictions / total_predictions\n",
    "    return accuracy\n",
    "\n",
    "\n",
    "def batch_end_callback(trainer):\n",
    "    if trainer.iter_num % 100 == 0:\n",
    "        print(f\"iter_dt {trainer.iter_dt * 1000:.2f}ms; iter {trainer.iter_num}: train loss {trainer.loss.item():.5f}\")\n",
    "\n",
    "        correct_predictions = 0\n",
    "        total_predictions = 0\n",
    "\n",
    "        model.eval()\n",
    "\n",
    "        if trainer.iter_num % 1000 == 0:\n",
    "\n",
    "            # for test_input, test_target in test_files:\n",
    "            # for test_input in test_files:\n",
    "            for tokens in encoded_test_set:\n",
    "                # load the test midi\n",
    "                # tokens = tokenizer.encode(f\"{Path.cwd()}/{str.rstrip(test_input)}\")\n",
    "                # get the bpe ids\n",
    "                # tokens = tokens[0].ids\n",
    "\n",
    "                # make it into a tensor\n",
    "                x = torch.tensor(tokens, dtype=torch.long, device=DEFAULT_DEVICE)\n",
    "                x = x.expand(5, -1)\n",
    "                if len(x[0]) > 0:\n",
    "                    # run it though the model\n",
    "                    y = model.generate(x, max_new_tokens=10 , do_sample=True, top_k=40)\n",
    "\n",
    "                    # Forward pass\n",
    "                    # output = model(test_input)\n",
    "                    # Compute accuracy\n",
    "                    output = y\n",
    "                    predicted_notes = output.argmax(dim=-1)\n",
    "                    actual_notes = x.argmax(dim=-1)\n",
    "                    correct_predictions += (np.array(predicted_notes.cpu()) == np.array(actual_notes.cpu())).sum().item()\n",
    "                    total_predictions += output.numel()\n",
    "                    # total_predictions += calculate_note_accuracy(predicted_notes, actual_notes)\n",
    "\n",
    "            accuracy = correct_predictions / total_predictions\n",
    "            accuracy_values.append(accuracy)\n",
    "            # accuracy_values.append(total_predictions)\n",
    "\n",
    "        loss_values.append(trainer.loss.item())\n",
    "\n",
    "        # Save checkpoints\n",
    "        torch.save(\n",
    "            trainer.model.state_dict(),\n",
    "            f\"./checkpoints/gpt_{trainer.iter_num}.pt\")\n",
    "\n",
    "        model.train()\n",
    "\n",
    "trainer.set_callback('on_batch_end', batch_end_callback)\n",
    "trainer.run()"
   ]
  },
  {
   "cell_type": "code",
   "execution_count": 10,
   "id": "294fa4a9",
   "metadata": {},
   "outputs": [
    {
     "data": {
      "image/png": "[encoded data removed]",
      "text/plain": [
       "<Figure size 640x480 with 1 Axes>"
      ]
     },
     "metadata": {},
     "output_type": "display_data"
    }
   ],
   "source": [
    "# Plot the accuracy graph\n",
    "plt.plot(accuracy_values)\n",
    "plt.xlabel('Epoch')\n",
    "plt.ylabel('Accuracy')\n",
    "plt.title('Accuracy over Time')\n",
    "plt.show()"
   ]
  },
  {
   "cell_type": "code",
   "execution_count": 11,
   "id": "da2780a4",
   "metadata": {},
   "outputs": [
    {
     "data": {
      "image/png": "[encoded data removed]",
      "text/plain": [
       "<Figure size 640x480 with 1 Axes>"
      ]
     },
     "metadata": {},
     "output_type": "display_data"
    }
   ],
   "source": [
    "plt.plot(loss_values)\n",
    "plt.xlabel('Epoch')\n",
    "plt.ylabel('Loss')\n",
    "plt.title('Loss over Time')\n",
    "plt.show()"
   ]
  }
 ],
 "metadata": {
  "kernelspec": {
   "display_name": "comp838",
   "language": "python",
   "name": "python3"
  },
  "language_info": {
   "codemirror_mode": {
    "name": "ipython",
    "version": 3
   },
   "file_extension": ".py",
   "mimetype": "text/x-python",
   "name": "python",
   "nbconvert_exporter": "python",
   "pygments_lexer": "ipython3",
   "version": "3.11.11"
  }
 },
 "nbformat": 4,
 "nbformat_minor": 5
}
