{
 "cells": [
  {
   "cell_type": "code",
   "execution_count": 40,
   "id": "033b5ad4",
   "metadata": {},
   "outputs": [
    {
     "name": "stderr",
     "output_type": "stream",
     "text": [
      "huggingface/tokenizers: The current process just got forked, after parallelism has already been used. Disabling parallelism to avoid deadlocks...\n",
      "To disable this warning, you can either:\n",
      "\t- Avoid using `tokenizers` before the fork if possible\n",
      "\t- Explicitly set the environment variable TOKENIZERS_PARALLELISM=(true | false)\n"
     ]
    },
    {
     "name": "stdout",
     "output_type": "stream",
     "text": [
      "Requirement already satisfied: torch in /Users/robrohan/miniconda3/envs/comp838/lib/python3.11/site-packages (from -r requirements.txt (line 2)) (2.7.0)\n",
      "Requirement already satisfied: numpy in /Users/robrohan/miniconda3/envs/comp838/lib/python3.11/site-packages (from -r requirements.txt (line 3)) (2.2.5)\n",
      "Requirement already satisfied: pandas in /Users/robrohan/miniconda3/envs/comp838/lib/python3.11/site-packages (from -r requirements.txt (line 4)) (2.2.3)\n",
      "Requirement already satisfied: seaborn in /Users/robrohan/miniconda3/envs/comp838/lib/python3.11/site-packages (from -r requirements.txt (line 5)) (0.13.2)\n",
      "Requirement already satisfied: pyfluidsynth in /Users/robrohan/miniconda3/envs/comp838/lib/python3.11/site-packages (from -r requirements.txt (line 7)) (1.3.4)\n",
      "Requirement already satisfied: pretty_midi in /Users/robrohan/miniconda3/envs/comp838/lib/python3.11/site-packages (from -r requirements.txt (line 8)) (0.2.10)\n",
      "Requirement already satisfied: matplotlib in /Users/robrohan/miniconda3/envs/comp838/lib/python3.11/site-packages (from -r requirements.txt (line 10)) (3.10.3)\n",
      "Requirement already satisfied: filelock in /Users/robrohan/miniconda3/envs/comp838/lib/python3.11/site-packages (from torch->-r requirements.txt (line 2)) (3.18.0)\n",
      "Requirement already satisfied: typing-extensions>=4.10.0 in /Users/robrohan/miniconda3/envs/comp838/lib/python3.11/site-packages (from torch->-r requirements.txt (line 2)) (4.13.2)\n",
      "Requirement already satisfied: sympy>=1.13.3 in /Users/robrohan/miniconda3/envs/comp838/lib/python3.11/site-packages (from torch->-r requirements.txt (line 2)) (1.14.0)\n",
      "Requirement already satisfied: networkx in /Users/robrohan/miniconda3/envs/comp838/lib/python3.11/site-packages (from torch->-r requirements.txt (line 2)) (3.4.2)\n",
      "Requirement already satisfied: jinja2 in /Users/robrohan/miniconda3/envs/comp838/lib/python3.11/site-packages (from torch->-r requirements.txt (line 2)) (3.1.6)\n",
      "Requirement already satisfied: fsspec in /Users/robrohan/miniconda3/envs/comp838/lib/python3.11/site-packages (from torch->-r requirements.txt (line 2)) (2025.3.2)\n",
      "Requirement already satisfied: python-dateutil>=2.8.2 in /Users/robrohan/miniconda3/envs/comp838/lib/python3.11/site-packages (from pandas->-r requirements.txt (line 4)) (2.9.0.post0)\n",
      "Requirement already satisfied: pytz>=2020.1 in /Users/robrohan/miniconda3/envs/comp838/lib/python3.11/site-packages (from pandas->-r requirements.txt (line 4)) (2025.2)\n",
      "Requirement already satisfied: tzdata>=2022.7 in /Users/robrohan/miniconda3/envs/comp838/lib/python3.11/site-packages (from pandas->-r requirements.txt (line 4)) (2025.2)\n",
      "Requirement already satisfied: mido>=1.1.16 in /Users/robrohan/miniconda3/envs/comp838/lib/python3.11/site-packages (from pretty_midi->-r requirements.txt (line 8)) (1.3.3)\n",
      "Requirement already satisfied: six in /Users/robrohan/miniconda3/envs/comp838/lib/python3.11/site-packages (from pretty_midi->-r requirements.txt (line 8)) (1.17.0)\n",
      "Requirement already satisfied: contourpy>=1.0.1 in /Users/robrohan/miniconda3/envs/comp838/lib/python3.11/site-packages (from matplotlib->-r requirements.txt (line 10)) (1.3.2)\n",
      "Requirement already satisfied: cycler>=0.10 in /Users/robrohan/miniconda3/envs/comp838/lib/python3.11/site-packages (from matplotlib->-r requirements.txt (line 10)) (0.12.1)\n",
      "Requirement already satisfied: fonttools>=4.22.0 in /Users/robrohan/miniconda3/envs/comp838/lib/python3.11/site-packages (from matplotlib->-r requirements.txt (line 10)) (4.57.0)\n",
      "Requirement already satisfied: kiwisolver>=1.3.1 in /Users/robrohan/miniconda3/envs/comp838/lib/python3.11/site-packages (from matplotlib->-r requirements.txt (line 10)) (1.4.8)\n",
      "Requirement already satisfied: packaging>=20.0 in /Users/robrohan/miniconda3/envs/comp838/lib/python3.11/site-packages (from matplotlib->-r requirements.txt (line 10)) (25.0)\n",
      "Requirement already satisfied: pillow>=8 in /Users/robrohan/miniconda3/envs/comp838/lib/python3.11/site-packages (from matplotlib->-r requirements.txt (line 10)) (11.2.1)\n",
      "Requirement already satisfied: pyparsing>=2.3.1 in /Users/robrohan/miniconda3/envs/comp838/lib/python3.11/site-packages (from matplotlib->-r requirements.txt (line 10)) (3.2.3)\n",
      "Requirement already satisfied: mpmath<1.4,>=1.1.0 in /Users/robrohan/miniconda3/envs/comp838/lib/python3.11/site-packages (from sympy>=1.13.3->torch->-r requirements.txt (line 2)) (1.3.0)\n",
      "Requirement already satisfied: MarkupSafe>=2.0 in /Users/robrohan/miniconda3/envs/comp838/lib/python3.11/site-packages (from jinja2->torch->-r requirements.txt (line 2)) (3.0.2)\n",
      "Note: you may need to restart the kernel to use updated packages.\n"
     ]
    },
    {
     "name": "stderr",
     "output_type": "stream",
     "text": [
      "huggingface/tokenizers: The current process just got forked, after parallelism has already been used. Disabling parallelism to avoid deadlocks...\n",
      "To disable this warning, you can either:\n",
      "\t- Avoid using `tokenizers` before the fork if possible\n",
      "\t- Explicitly set the environment variable TOKENIZERS_PARALLELISM=(true | false)\n"
     ]
    },
    {
     "name": "stdout",
     "output_type": "stream",
     "text": [
      "Requirement already satisfied: miditok in /Users/robrohan/miniconda3/envs/comp838/lib/python3.11/site-packages (3.0.5.post1)\n",
      "Requirement already satisfied: huggingface-hub>=0.16.4 in /Users/robrohan/miniconda3/envs/comp838/lib/python3.11/site-packages (from miditok) (0.31.2)\n",
      "Requirement already satisfied: numpy>=1.19 in /Users/robrohan/miniconda3/envs/comp838/lib/python3.11/site-packages (from miditok) (2.2.5)\n",
      "Requirement already satisfied: symusic>=0.5.0 in /Users/robrohan/miniconda3/envs/comp838/lib/python3.11/site-packages (from miditok) (0.5.7)\n",
      "Requirement already satisfied: tokenizers>=0.13.0 in /Users/robrohan/miniconda3/envs/comp838/lib/python3.11/site-packages (from miditok) (0.21.1)\n",
      "Requirement already satisfied: tqdm in /Users/robrohan/miniconda3/envs/comp838/lib/python3.11/site-packages (from miditok) (4.67.1)\n",
      "Requirement already satisfied: filelock in /Users/robrohan/miniconda3/envs/comp838/lib/python3.11/site-packages (from huggingface-hub>=0.16.4->miditok) (3.18.0)\n",
      "Requirement already satisfied: fsspec>=2023.5.0 in /Users/robrohan/miniconda3/envs/comp838/lib/python3.11/site-packages (from huggingface-hub>=0.16.4->miditok) (2025.3.2)\n",
      "Requirement already satisfied: packaging>=20.9 in /Users/robrohan/miniconda3/envs/comp838/lib/python3.11/site-packages (from huggingface-hub>=0.16.4->miditok) (25.0)\n",
      "Requirement already satisfied: pyyaml>=5.1 in /Users/robrohan/miniconda3/envs/comp838/lib/python3.11/site-packages (from huggingface-hub>=0.16.4->miditok) (6.0.2)\n",
      "Requirement already satisfied: requests in /Users/robrohan/miniconda3/envs/comp838/lib/python3.11/site-packages (from huggingface-hub>=0.16.4->miditok) (2.32.3)\n",
      "Requirement already satisfied: typing-extensions>=3.7.4.3 in /Users/robrohan/miniconda3/envs/comp838/lib/python3.11/site-packages (from huggingface-hub>=0.16.4->miditok) (4.13.2)\n",
      "Requirement already satisfied: pySmartDL in /Users/robrohan/miniconda3/envs/comp838/lib/python3.11/site-packages (from symusic>=0.5.0->miditok) (1.3.4)\n",
      "Requirement already satisfied: platformdirs in /Users/robrohan/miniconda3/envs/comp838/lib/python3.11/site-packages (from symusic>=0.5.0->miditok) (4.3.8)\n",
      "Requirement already satisfied: charset-normalizer<4,>=2 in /Users/robrohan/miniconda3/envs/comp838/lib/python3.11/site-packages (from requests->huggingface-hub>=0.16.4->miditok) (3.4.2)\n",
      "Requirement already satisfied: idna<4,>=2.5 in /Users/robrohan/miniconda3/envs/comp838/lib/python3.11/site-packages (from requests->huggingface-hub>=0.16.4->miditok) (3.10)\n",
      "Requirement already satisfied: urllib3<3,>=1.21.1 in /Users/robrohan/miniconda3/envs/comp838/lib/python3.11/site-packages (from requests->huggingface-hub>=0.16.4->miditok) (2.4.0)\n",
      "Requirement already satisfied: certifi>=2017.4.17 in /Users/robrohan/miniconda3/envs/comp838/lib/python3.11/site-packages (from requests->huggingface-hub>=0.16.4->miditok) (2025.4.26)\n",
      "Note: you may need to restart the kernel to use updated packages.\n"
     ]
    }
   ],
   "source": [
    "%pip install -r requirements.txt --upgrade\n",
    "%pip install miditok"
   ]
  },
  {
   "cell_type": "code",
   "execution_count": null,
   "id": "135d431d",
   "metadata": {},
   "outputs": [],
   "source": [
    "import json\n",
    "from pathlib import Path\n",
    "from miditok import REMI, TokSequence\n",
    "# from copy import deepcopy\n",
    "import pandas as pd\n",
    "import numpy as np\n",
    "import gpt_mini.midi_encoder as midichar\n",
    "import pickle"
   ]
  },
  {
   "cell_type": "code",
   "execution_count": 42,
   "id": "6be036ec",
   "metadata": {},
   "outputs": [
    {
     "data": {
      "text/html": [
       "<div>\n",
       "<style scoped>\n",
       "    .dataframe tbody tr th:only-of-type {\n",
       "        vertical-align: middle;\n",
       "    }\n",
       "\n",
       "    .dataframe tbody tr th {\n",
       "        vertical-align: top;\n",
       "    }\n",
       "\n",
       "    .dataframe thead th {\n",
       "        text-align: right;\n",
       "    }\n",
       "</style>\n",
       "<table border=\"1\" class=\"dataframe\">\n",
       "  <thead>\n",
       "    <tr style=\"text-align: right;\">\n",
       "      <th></th>\n",
       "      <th>data</th>\n",
       "    </tr>\n",
       "  </thead>\n",
       "  <tbody>\n",
       "    <tr>\n",
       "      <th>0</th>\n",
       "      <td>[33860, 10026, 7152682, 14296106, 21439530, 28...</td>\n",
       "    </tr>\n",
       "    <tr>\n",
       "      <th>1</th>\n",
       "      <td>[29508, 32802482, 32802219, 32802498, 32802344...</td>\n",
       "    </tr>\n",
       "    <tr>\n",
       "      <th>2</th>\n",
       "      <td>[219204, 48268342, 48288803, 53959734, 5397612...</td>\n",
       "    </tr>\n",
       "    <tr>\n",
       "      <th>3</th>\n",
       "      <td>[53828, 71768755, 71769507, 77601459, 83434035...</td>\n",
       "    </tr>\n",
       "    <tr>\n",
       "      <th>4</th>\n",
       "      <td>[36932, 353898404, 353898403, 353897640, 35389...</td>\n",
       "    </tr>\n",
       "  </tbody>\n",
       "</table>\n",
       "</div>"
      ],
      "text/plain": [
       "                                                data\n",
       "0  [33860, 10026, 7152682, 14296106, 21439530, 28...\n",
       "1  [29508, 32802482, 32802219, 32802498, 32802344...\n",
       "2  [219204, 48268342, 48288803, 53959734, 5397612...\n",
       "3  [53828, 71768755, 71769507, 77601459, 83434035...\n",
       "4  [36932, 353898404, 353898403, 353897640, 35389..."
      ]
     },
     "metadata": {},
     "output_type": "display_data"
    }
   ],
   "source": [
    "df = pd.read_csv(\"training_data.txt\", delimiter=\"\\t\", header=None, names=['data'])\n",
    "display(df.head())"
   ]
  },
  {
   "cell_type": "code",
   "execution_count": null,
   "id": "c6abaf57",
   "metadata": {},
   "outputs": [
    {
     "name": "stderr",
     "output_type": "stream",
     "text": [
      "/Users/robrohan/miniconda3/envs/comp838/lib/python3.11/site-packages/pretty_midi/pretty_midi.py:1326: RuntimeWarning: overflow encountered in scalar subtract\n",
      "  return (secondary_sort[event1.type](event1) -\n"
     ]
    }
   ],
   "source": [
    "for index, row in df.iterrows():\n",
    "    sample = np.array( json.loads(row['data']) , dtype=np.uint32 )\n",
    "    try:\n",
    "        midichar.decode_midi(notes=sample,\n",
    "                        out_file=f\"drums/{index}.mid\",\n",
    "                        instrument_name=\"Standard Kit\")\n",
    "    except Exception as e:\n",
    "        pass\n"
   ]
  },
  {
   "cell_type": "code",
   "execution_count": 44,
   "id": "e88cc301",
   "metadata": {},
   "outputs": [
    {
     "name": "stderr",
     "output_type": "stream",
     "text": [
      "/var/folders/ks/zt1_dy0976s0n809crmcsppc0000gn/T/ipykernel_35765/4239446984.py:4: UserWarning: miditok: The `learn_bpe` method had been renamed `train`. It is now depreciated and will be removed in future updates.\n",
      "  tokenizer.learn_bpe(\n"
     ]
    },
    {
     "name": "stdout",
     "output_type": "stream",
     "text": [
      "\n",
      "\n",
      "\n"
     ]
    }
   ],
   "source": [
    "tokenizer = REMI()  # using defaults parameters (constants.py)\n",
    "paths_midis = list(Path(\"drums\").glob('**/*.mid'))\n",
    "\n",
    "tokenizer.learn_bpe(\n",
    "    vocab_size=50257,\n",
    "    files_paths=paths_midis,\n",
    ")\n",
    "with open('checkpoints/midi_tokenizer_bpe.pkl', 'wb') as f:\n",
    "    pickle.dump(tokenizer, f)\n"
   ]
  },
  {
   "cell_type": "code",
   "execution_count": 45,
   "id": "2be773c4",
   "metadata": {},
   "outputs": [
    {
     "data": {
      "text/plain": [
       "[TokSequence(tokens=['Bar_None', 'Bar_None', 'Bar_None', 'Bar_None', 'Bar_None', 'Bar_None', 'Bar_None', 'Bar_None', 'Bar_None', 'Position_23', 'PitchDrum_46', 'Velocity_127', 'Duration_0.2.8', 'Bar_None', 'Position_0', 'PitchDrum_38', 'Velocity_127', 'Duration_0.2.8', 'Position_9', 'PitchDrum_38', 'Velocity_111', 'Duration_0.2.8', 'Position_13', 'PitchDrum_38', 'Velocity_111', 'Duration_0.2.8', 'Position_17', 'PitchDrum_38', 'Velocity_119', 'Duration_0.2.8', 'Position_22', 'PitchDrum_38', 'Velocity_127', 'Duration_0.2.8', 'Position_26', 'PitchDrum_55', 'Velocity_127', 'Duration_0.2.8', 'PitchDrum_36', 'Velocity_127', 'Duration_0.1.8', 'Bar_None', 'Position_3', 'PitchDrum_46', 'Velocity_111', 'Duration_0.1.8', 'Position_12', 'PitchDrum_46', 'Velocity_111', 'Duration_0.2.8', 'PitchDrum_38', 'Velocity_127', 'Duration_0.1.8', 'Position_20', 'PitchDrum_46', 'Velocity_111', 'Duration_0.2.8', 'Position_29', 'PitchDrum_46', 'Velocity_111', 'Duration_0.2.8', 'PitchDrum_36', 'Velocity_127', 'Duration_0.1.8', 'Bar_None', 'Position_6', 'PitchDrum_46', 'Velocity_111', 'Duration_0.2.8', 'PitchDrum_36', 'Velocity_127', 'Duration_0.1.8', 'Position_15', 'PitchDrum_46', 'Velocity_111', 'Duration_0.3.8', 'PitchDrum_38', 'Velocity_127', 'Duration_0.1.8', 'Position_23', 'PitchDrum_46', 'Velocity_111', 'Duration_0.2.8', 'PitchDrum_36', 'Velocity_127', 'Duration_0.3.8', 'Bar_None', 'Position_0', 'PitchDrum_46', 'Velocity_111', 'Duration_0.3.8', 'PitchDrum_36', 'Velocity_127', 'Duration_0.2.8', 'Position_9', 'PitchDrum_46', 'Velocity_111', 'Duration_0.2.8', 'Position_17', 'PitchDrum_46', 'Velocity_111', 'Duration_0.2.8', 'PitchDrum_38', 'Velocity_127', 'Duration_0.1.8', 'Position_26', 'PitchDrum_46', 'Velocity_111', 'Duration_0.2.8', 'Bar_None', 'Position_3', 'PitchDrum_46', 'Velocity_111', 'Duration_0.2.8', 'PitchDrum_36', 'Velocity_127', 'Duration_0.1.8', 'Position_12', 'PitchDrum_46', 'Velocity_111', 'Duration_0.1.8', 'PitchDrum_36', 'Velocity_119', 'Duration_0.1.8', 'Position_20', 'PitchDrum_46', 'Velocity_111', 'Duration_0.2.8', 'PitchDrum_38', 'Velocity_127', 'Duration_0.1.8', 'Position_29', 'PitchDrum_55', 'Velocity_119', 'Duration_0.2.8', 'PitchDrum_38', 'Velocity_127', 'Duration_0.1.8', 'Bar_None', 'Position_6', 'PitchDrum_46', 'Velocity_111', 'Duration_0.2.8'], ids=[283, 283, 283, 283, 283, 283, 283, 283, 439, 698, 2441, 13177, 17310, 6671, 8466, 27615, 316, 10045, 49928, 209, 1397, 218, 1397, 316, 29659, 5390, 5330, 339, 27038, 891, 296, 5330, 346, 47980, 206, 21658, 215, 1397, 297, 1397, 2592, 585, 30430, 21658, 218, 6907, 339, 29659], bytes='%%%%%%%%%õđ\\x9d\\x9f%Þĉ\\x9d\\x9fçĉ\\x99\\x9fëĉ\\x99\\x9fïĉ\\x9b\\x9fôĉ\\x9d\\x9føĚ\\x9d\\x9fć\\x9d\\x9e%áđ\\x99\\x9eêđ\\x99\\x9fĉ\\x9d\\x9eòđ\\x99\\x9fûđ\\x99\\x9fć\\x9d\\x9e%äđ\\x99\\x9fć\\x9d\\x9eíđ\\x99\\xa0ĉ\\x9d\\x9eõđ\\x99\\x9fć\\x9d\\xa0%Þđ\\x99\\xa0ć\\x9d\\x9fçđ\\x99\\x9fïđ\\x99\\x9fĉ\\x9d\\x9eøđ\\x99\\x9f%áđ\\x99\\x9fć\\x9d\\x9eêđ\\x99\\x9eć\\x9b\\x9eòđ\\x99\\x9fĉ\\x9d\\x9eûĚ\\x9b\\x9fĉ\\x9d\\x9e%äđ\\x99\\x9f', events=[Event(type=Bar, value=None, time=0, desc=0), Event(type=Bar, value=None, time=32, desc=0), Event(type=Bar, value=None, time=64, desc=0), Event(type=Bar, value=None, time=96, desc=0), Event(type=Bar, value=None, time=128, desc=0), Event(type=Bar, value=None, time=160, desc=0), Event(type=Bar, value=None, time=192, desc=0), Event(type=Bar, value=None, time=224, desc=0), Event(type=Bar, value=None, time=256, desc=0), Event(type=Position, value=23, time=279, desc=279), Event(type=PitchDrum, value=46, time=279, desc=281), Event(type=Velocity, value=127, time=279, desc=127), Event(type=Duration, value=0.2.8, time=279, desc=2 ticks), Event(type=Bar, value=None, time=288, desc=0), Event(type=Position, value=0, time=288, desc=288), Event(type=PitchDrum, value=38, time=288, desc=290), Event(type=Velocity, value=127, time=288, desc=127), Event(type=Duration, value=0.2.8, time=288, desc=2 ticks), Event(type=Position, value=9, time=297, desc=297), Event(type=PitchDrum, value=38, time=297, desc=299), Event(type=Velocity, value=111, time=297, desc=111), Event(type=Duration, value=0.2.8, time=297, desc=2 ticks), Event(type=Position, value=13, time=301, desc=301), Event(type=PitchDrum, value=38, time=301, desc=303), Event(type=Velocity, value=111, time=301, desc=111), Event(type=Duration, value=0.2.8, time=301, desc=2 ticks), Event(type=Position, value=17, time=305, desc=305), Event(type=PitchDrum, value=38, time=305, desc=307), Event(type=Velocity, value=119, time=305, desc=119), Event(type=Duration, value=0.2.8, time=305, desc=2 ticks), Event(type=Position, value=22, time=310, desc=310), Event(type=PitchDrum, value=38, time=310, desc=312), Event(type=Velocity, value=127, time=310, desc=127), Event(type=Duration, value=0.2.8, time=310, desc=2 ticks), Event(type=Position, value=26, time=314, desc=314), Event(type=PitchDrum, value=55, time=314, desc=316), Event(type=Velocity, value=127, time=314, desc=127), Event(type=Duration, value=0.2.8, time=314, desc=2 ticks), Event(type=PitchDrum, value=36, time=314, desc=315), Event(type=Velocity, value=127, time=314, desc=127), Event(type=Duration, value=0.1.8, time=314, desc=1 ticks), Event(type=Bar, value=None, time=320, desc=0), Event(type=Position, value=3, time=323, desc=323), Event(type=PitchDrum, value=46, time=323, desc=324), Event(type=Velocity, value=111, time=323, desc=111), Event(type=Duration, value=0.1.8, time=323, desc=1 ticks), Event(type=Position, value=12, time=332, desc=332), Event(type=PitchDrum, value=46, time=332, desc=334), Event(type=Velocity, value=111, time=332, desc=111), Event(type=Duration, value=0.2.8, time=332, desc=2 ticks), Event(type=PitchDrum, value=38, time=332, desc=333), Event(type=Velocity, value=127, time=332, desc=127), Event(type=Duration, value=0.1.8, time=332, desc=1 ticks), Event(type=Position, value=20, time=340, desc=340), Event(type=PitchDrum, value=46, time=340, desc=342), Event(type=Velocity, value=111, time=340, desc=111), Event(type=Duration, value=0.2.8, time=340, desc=2 ticks), Event(type=Position, value=29, time=349, desc=349), Event(type=PitchDrum, value=46, time=349, desc=351), Event(type=Velocity, value=111, time=349, desc=111), Event(type=Duration, value=0.2.8, time=349, desc=2 ticks), Event(type=PitchDrum, value=36, time=349, desc=350), Event(type=Velocity, value=127, time=349, desc=127), Event(type=Duration, value=0.1.8, time=349, desc=1 ticks), Event(type=Bar, value=None, time=352, desc=0), Event(type=Position, value=6, time=358, desc=358), Event(type=PitchDrum, value=46, time=358, desc=360), Event(type=Velocity, value=111, time=358, desc=111), Event(type=Duration, value=0.2.8, time=358, desc=2 ticks), Event(type=PitchDrum, value=36, time=358, desc=359), Event(type=Velocity, value=127, time=358, desc=127), Event(type=Duration, value=0.1.8, time=358, desc=1 ticks), Event(type=Position, value=15, time=367, desc=367), Event(type=PitchDrum, value=46, time=367, desc=370), Event(type=Velocity, value=111, time=367, desc=111), Event(type=Duration, value=0.3.8, time=367, desc=3 ticks), Event(type=PitchDrum, value=38, time=367, desc=368), Event(type=Velocity, value=127, time=367, desc=127), Event(type=Duration, value=0.1.8, time=367, desc=1 ticks), Event(type=Position, value=23, time=375, desc=375), Event(type=PitchDrum, value=46, time=375, desc=377), Event(type=Velocity, value=111, time=375, desc=111), Event(type=Duration, value=0.2.8, time=375, desc=2 ticks), Event(type=PitchDrum, value=36, time=375, desc=378), Event(type=Velocity, value=127, time=375, desc=127), Event(type=Duration, value=0.3.8, time=375, desc=3 ticks), Event(type=Bar, value=None, time=384, desc=0), Event(type=Position, value=0, time=384, desc=384), Event(type=PitchDrum, value=46, time=384, desc=387), Event(type=Velocity, value=111, time=384, desc=111), Event(type=Duration, value=0.3.8, time=384, desc=3 ticks), Event(type=PitchDrum, value=36, time=384, desc=386), Event(type=Velocity, value=127, time=384, desc=127), Event(type=Duration, value=0.2.8, time=384, desc=2 ticks), Event(type=Position, value=9, time=393, desc=393), Event(type=PitchDrum, value=46, time=393, desc=395), Event(type=Velocity, value=111, time=393, desc=111), Event(type=Duration, value=0.2.8, time=393, desc=2 ticks), Event(type=Position, value=17, time=401, desc=401), Event(type=PitchDrum, value=46, time=401, desc=403), Event(type=Velocity, value=111, time=401, desc=111), Event(type=Duration, value=0.2.8, time=401, desc=2 ticks), Event(type=PitchDrum, value=38, time=401, desc=402), Event(type=Velocity, value=127, time=401, desc=127), Event(type=Duration, value=0.1.8, time=401, desc=1 ticks), Event(type=Position, value=26, time=410, desc=410), Event(type=PitchDrum, value=46, time=410, desc=412), Event(type=Velocity, value=111, time=410, desc=111), Event(type=Duration, value=0.2.8, time=410, desc=2 ticks), Event(type=Bar, value=None, time=416, desc=0), Event(type=Position, value=3, time=419, desc=419), Event(type=PitchDrum, value=46, time=419, desc=421), Event(type=Velocity, value=111, time=419, desc=111), Event(type=Duration, value=0.2.8, time=419, desc=2 ticks), Event(type=PitchDrum, value=36, time=419, desc=420), Event(type=Velocity, value=127, time=419, desc=127), Event(type=Duration, value=0.1.8, time=419, desc=1 ticks), Event(type=Position, value=12, time=428, desc=428), Event(type=PitchDrum, value=46, time=428, desc=429), Event(type=Velocity, value=111, time=428, desc=111), Event(type=Duration, value=0.1.8, time=428, desc=1 ticks), Event(type=PitchDrum, value=36, time=428, desc=429), Event(type=Velocity, value=119, time=428, desc=119), Event(type=Duration, value=0.1.8, time=428, desc=1 ticks), Event(type=Position, value=20, time=436, desc=436), Event(type=PitchDrum, value=46, time=436, desc=438), Event(type=Velocity, value=111, time=436, desc=111), Event(type=Duration, value=0.2.8, time=436, desc=2 ticks), Event(type=PitchDrum, value=38, time=436, desc=437), Event(type=Velocity, value=127, time=436, desc=127), Event(type=Duration, value=0.1.8, time=436, desc=1 ticks), Event(type=Position, value=29, time=445, desc=445), Event(type=PitchDrum, value=55, time=445, desc=447), Event(type=Velocity, value=119, time=445, desc=119), Event(type=Duration, value=0.2.8, time=445, desc=2 ticks), Event(type=PitchDrum, value=38, time=445, desc=446), Event(type=Velocity, value=127, time=445, desc=127), Event(type=Duration, value=0.1.8, time=445, desc=1 ticks), Event(type=Bar, value=None, time=448, desc=0), Event(type=Position, value=6, time=454, desc=454), Event(type=PitchDrum, value=46, time=454, desc=456), Event(type=Velocity, value=111, time=454, desc=111), Event(type=Duration, value=0.2.8, time=454, desc=2 ticks)], are_ids_encoded=True, _ticks_bars=[0, 32, 64, 96, 128, 160, 192, 224, 256, 288, 320, 352, 384, 416, 448], _ticks_beats=[0, 8, 16, 24, 32, 40, 48, 56, 64, 72, 80, 88, 96, 104, 112, 120, 128, 136, 144, 152, 160, 168, 176, 184, 192, 200, 208, 216, 224, 232, 240, 248, 256, 264, 272, 280, 288, 296, 304, 312, 320, 328, 336, 344, 352, 360, 368, 376, 384, 392, 400, 408, 416, 424, 432, 440, 448], _ids_decoded=[])]"
      ]
     },
     "metadata": {},
     "output_type": "display_data"
    }
   ],
   "source": [
    "tokenizer = None # REMI()\n",
    "with open('checkpoints/midi_tokenizer_bpe.pkl', 'rb') as f:\n",
    "    tokenizer = pickle.load(f)\n",
    "midi_path = 'drums/5.mid'\n",
    "tokens = tokenizer.encode(midi_path)\n",
    "\n",
    "# tokens_with_bpe = tokenizer.encode_token_ids(deepcopy(tokens))         # copy as the method is inplace\n",
    "# tokens_no_bpe = tokenizer.decode_token_ids(deepcopy(tokens_with_bpe))\n",
    "# print(tokens_with_bpe, tokens_no_bpe)\n",
    "\n",
    "display(tokens)"
   ]
  }
 ],
 "metadata": {
  "kernelspec": {
   "display_name": "comp838",
   "language": "python",
   "name": "python3"
  },
  "language_info": {
   "codemirror_mode": {
    "name": "ipython",
    "version": 3
   },
   "file_extension": ".py",
   "mimetype": "text/x-python",
   "name": "python",
   "nbconvert_exporter": "python",
   "pygments_lexer": "ipython3",
   "version": "3.11.11"
  }
 },
 "nbformat": 4,
 "nbformat_minor": 5
}
