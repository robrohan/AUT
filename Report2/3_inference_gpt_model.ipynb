{
 "cells": [
  {
   "cell_type": "code",
   "execution_count": 1,
   "id": "3d09bbde",
   "metadata": {},
   "outputs": [
    {
     "name": "stdout",
     "output_type": "stream",
     "text": [
      "Requirement already satisfied: torch in /Users/robrohan/miniconda3/envs/comp838/lib/python3.11/site-packages (from -r requirements.txt (line 2)) (2.7.0)\n",
      "Requirement already satisfied: numpy in /Users/robrohan/miniconda3/envs/comp838/lib/python3.11/site-packages (from -r requirements.txt (line 3)) (2.2.5)\n",
      "Requirement already satisfied: pandas in /Users/robrohan/miniconda3/envs/comp838/lib/python3.11/site-packages (from -r requirements.txt (line 4)) (2.2.3)\n",
      "Requirement already satisfied: seaborn in /Users/robrohan/miniconda3/envs/comp838/lib/python3.11/site-packages (from -r requirements.txt (line 5)) (0.13.2)\n",
      "Requirement already satisfied: pyfluidsynth in /Users/robrohan/miniconda3/envs/comp838/lib/python3.11/site-packages (from -r requirements.txt (line 7)) (1.3.4)\n",
      "Requirement already satisfied: pretty_midi in /Users/robrohan/miniconda3/envs/comp838/lib/python3.11/site-packages (from -r requirements.txt (line 8)) (0.2.10)\n",
      "Requirement already satisfied: matplotlib in /Users/robrohan/miniconda3/envs/comp838/lib/python3.11/site-packages (from -r requirements.txt (line 10)) (3.10.3)\n",
      "Requirement already satisfied: filelock in /Users/robrohan/miniconda3/envs/comp838/lib/python3.11/site-packages (from torch->-r requirements.txt (line 2)) (3.18.0)\n",
      "Requirement already satisfied: typing-extensions>=4.10.0 in /Users/robrohan/miniconda3/envs/comp838/lib/python3.11/site-packages (from torch->-r requirements.txt (line 2)) (4.13.2)\n",
      "Requirement already satisfied: sympy>=1.13.3 in /Users/robrohan/miniconda3/envs/comp838/lib/python3.11/site-packages (from torch->-r requirements.txt (line 2)) (1.14.0)\n",
      "Requirement already satisfied: networkx in /Users/robrohan/miniconda3/envs/comp838/lib/python3.11/site-packages (from torch->-r requirements.txt (line 2)) (3.4.2)\n",
      "Requirement already satisfied: jinja2 in /Users/robrohan/miniconda3/envs/comp838/lib/python3.11/site-packages (from torch->-r requirements.txt (line 2)) (3.1.6)\n",
      "Requirement already satisfied: fsspec in /Users/robrohan/miniconda3/envs/comp838/lib/python3.11/site-packages (from torch->-r requirements.txt (line 2)) (2025.3.2)\n",
      "Requirement already satisfied: python-dateutil>=2.8.2 in /Users/robrohan/miniconda3/envs/comp838/lib/python3.11/site-packages (from pandas->-r requirements.txt (line 4)) (2.9.0.post0)\n",
      "Requirement already satisfied: pytz>=2020.1 in /Users/robrohan/miniconda3/envs/comp838/lib/python3.11/site-packages (from pandas->-r requirements.txt (line 4)) (2025.2)\n",
      "Requirement already satisfied: tzdata>=2022.7 in /Users/robrohan/miniconda3/envs/comp838/lib/python3.11/site-packages (from pandas->-r requirements.txt (line 4)) (2025.2)\n",
      "Requirement already satisfied: mido>=1.1.16 in /Users/robrohan/miniconda3/envs/comp838/lib/python3.11/site-packages (from pretty_midi->-r requirements.txt (line 8)) (1.3.3)\n",
      "Requirement already satisfied: six in /Users/robrohan/miniconda3/envs/comp838/lib/python3.11/site-packages (from pretty_midi->-r requirements.txt (line 8)) (1.17.0)\n",
      "Requirement already satisfied: contourpy>=1.0.1 in /Users/robrohan/miniconda3/envs/comp838/lib/python3.11/site-packages (from matplotlib->-r requirements.txt (line 10)) (1.3.2)\n",
      "Requirement already satisfied: cycler>=0.10 in /Users/robrohan/miniconda3/envs/comp838/lib/python3.11/site-packages (from matplotlib->-r requirements.txt (line 10)) (0.12.1)\n",
      "Requirement already satisfied: fonttools>=4.22.0 in /Users/robrohan/miniconda3/envs/comp838/lib/python3.11/site-packages (from matplotlib->-r requirements.txt (line 10)) (4.57.0)\n",
      "Requirement already satisfied: kiwisolver>=1.3.1 in /Users/robrohan/miniconda3/envs/comp838/lib/python3.11/site-packages (from matplotlib->-r requirements.txt (line 10)) (1.4.8)\n",
      "Requirement already satisfied: packaging>=20.0 in /Users/robrohan/miniconda3/envs/comp838/lib/python3.11/site-packages (from matplotlib->-r requirements.txt (line 10)) (25.0)\n",
      "Requirement already satisfied: pillow>=8 in /Users/robrohan/miniconda3/envs/comp838/lib/python3.11/site-packages (from matplotlib->-r requirements.txt (line 10)) (11.2.1)\n",
      "Requirement already satisfied: pyparsing>=2.3.1 in /Users/robrohan/miniconda3/envs/comp838/lib/python3.11/site-packages (from matplotlib->-r requirements.txt (line 10)) (3.2.3)\n",
      "Requirement already satisfied: mpmath<1.4,>=1.1.0 in /Users/robrohan/miniconda3/envs/comp838/lib/python3.11/site-packages (from sympy>=1.13.3->torch->-r requirements.txt (line 2)) (1.3.0)\n",
      "Requirement already satisfied: MarkupSafe>=2.0 in /Users/robrohan/miniconda3/envs/comp838/lib/python3.11/site-packages (from jinja2->torch->-r requirements.txt (line 2)) (3.0.2)\n",
      "Note: you may need to restart the kernel to use updated packages.\n"
     ]
    }
   ],
   "source": [
    "%pip install -r requirements.txt"
   ]
  },
  {
   "cell_type": "code",
   "execution_count": 2,
   "id": "3be1ed88",
   "metadata": {},
   "outputs": [],
   "source": [
    "import io\n",
    "import torch\n",
    "import pickle\n",
    "from gpt_mini.model import GPT\n",
    "import gpt_mini.midi_encoder as midi_encoder\n",
    "from symusic import Score, Track, Note\n",
    "from gpt_mini.config import DEFAULT_DEVICE, CONFIG"
   ]
  },
  {
   "cell_type": "code",
   "execution_count": 3,
   "id": "61ea720c",
   "metadata": {},
   "outputs": [
    {
     "name": "stdout",
     "output_type": "stream",
     "text": [
      "number of parameters: 2.51M\n"
     ]
    },
    {
     "name": "stderr",
     "output_type": "stream",
     "text": [
      "/Users/robrohan/miniconda3/envs/comp838/lib/python3.11/site-packages/tqdm/auto.py:21: TqdmWarning: IProgress not found. Please update jupyter and ipywidgets. See https://ipywidgets.readthedocs.io/en/stable/user_install.html\n",
      "  from .autonotebook import tqdm as notebook_tqdm\n"
     ]
    }
   ],
   "source": [
    "block_size = 36\n",
    "model_config = GPT.get_default_config()\n",
    "model_config.model_type = None # 'gpt-nano'\n",
    "model_config.n_layer = CONFIG[\"model\"][\"n_layer\"]\n",
    "model_config.n_head = CONFIG[\"model\"][\"n_head\"]\n",
    "model_config.n_embd = CONFIG[\"model\"][\"n_embed\"]\n",
    "# model_config.vocab_size = 50257 # 65535        # max number of vocabulary\n",
    "model_config.vocab_size = CONFIG[\"model\"][\"vocab_size\"]\n",
    "# model_config.block_size = 256                  # input context length\n",
    "model_config.block_size = CONFIG[\"model\"][\"block_size\"]\n",
    "model = GPT(model_config)\n",
    "model.load_state_dict(\n",
    "    torch.load(\"./checkpoints/gpt_1900.pt\",\n",
    "               map_location=torch.device(DEFAULT_DEVICE))\n",
    ")\n",
    "model.eval()\n",
    "\n",
    "tokenizer = None\n",
    "f = open(CONFIG[\"tokenizer\"][\"model\"], 'rb')\n",
    "tokenizer = pickle.load(f)\n",
    "f.close()"
   ]
  },
  {
   "cell_type": "code",
   "execution_count": 4,
   "id": "d2b827c8",
   "metadata": {},
   "outputs": [],
   "source": [
    "from pathlib import Path\n",
    "\n",
    "def generate(model, prompt: str, num_samples=5, steps=64, do_sample=True):\n",
    "    # token_ids = sp.encode_as_ids(prompt)\n",
    "    tokens = tokenizer.encode(prompt)\n",
    "    tokens = tokens[0].ids\n",
    "    # x = torch.tensor([token_ids], dtype=torch.long)\n",
    "    x = torch.tensor(tokens, dtype=torch.long)\n",
    "\n",
    "    # we'll process all desired num_samples in a batch, so expand out the\n",
    "    # batch dim\n",
    "    x = x.expand(num_samples, -1)\n",
    "\n",
    "    # forward the model `steps` times to get samples, in a batch\n",
    "    y = model.generate(x, max_new_tokens=steps, do_sample=do_sample, top_k=40)\n",
    "\n",
    "    i = 0\n",
    "    arr = list(y[i].detach().cpu().numpy())\n",
    "    arr = [int(token_id) for token_id in arr if token_id != 0]\n",
    "\n",
    "    out = tokenizer.decode([arr])\n",
    "\n",
    "    out.tracks[0].is_drum=True\n",
    "    out.dump_midi(Path(\"./output\", \"model_output.mid\"))\n",
    "\n",
    "    return out"
   ]
  },
  {
   "cell_type": "code",
   "execution_count": 5,
   "id": "cad268da",
   "metadata": {},
   "outputs": [
    {
     "data": {
      "text/plain": [
       "symusic.core.TrackTickList([Track(ttype=Tick, program=0, is_drum=true, name=Acoustic Grand Piano, notes=49, lyrics=0)])"
      ]
     },
     "metadata": {},
     "output_type": "display_data"
    }
   ],
   "source": [
    "midi = generate(model, prompt=f\"./input/1.mid\")\n",
    "display(midi.tracks)"
   ]
  }
 ],
 "metadata": {
  "kernelspec": {
   "display_name": "comp838",
   "language": "python",
   "name": "python3"
  },
  "language_info": {
   "codemirror_mode": {
    "name": "ipython",
    "version": 3
   },
   "file_extension": ".py",
   "mimetype": "text/x-python",
   "name": "python",
   "nbconvert_exporter": "python",
   "pygments_lexer": "ipython3",
   "version": "3.11.11"
  }
 },
 "nbformat": 4,
 "nbformat_minor": 5
}
