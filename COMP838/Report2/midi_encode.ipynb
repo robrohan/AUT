{
 "cells": [
  {
   "cell_type": "markdown",
   "id": "a6e2f198",
   "metadata": {},
   "source": [
    "# Midi 32 bit Encoder\n",
    "\n",
    "Testing and examples of taking a midi file, turning the events into an array of integers, and then writing them to disk. This is the preprocessing step before training the model."
   ]
  },
  {
   "cell_type": "code",
   "execution_count": 1,
   "id": "cb42eefd",
   "metadata": {},
   "outputs": [
    {
     "name": "stdout",
     "output_type": "stream",
     "text": [
      "Requirement already satisfied: torch in /Users/robrohan/miniconda3/envs/comp838/lib/python3.11/site-packages (from -r requirements.txt (line 2)) (2.7.0)\n",
      "Requirement already satisfied: numpy in /Users/robrohan/miniconda3/envs/comp838/lib/python3.11/site-packages (from -r requirements.txt (line 3)) (2.2.5)\n",
      "Requirement already satisfied: pandas in /Users/robrohan/miniconda3/envs/comp838/lib/python3.11/site-packages (from -r requirements.txt (line 4)) (2.2.3)\n",
      "Requirement already satisfied: seaborn in /Users/robrohan/miniconda3/envs/comp838/lib/python3.11/site-packages (from -r requirements.txt (line 5)) (0.13.2)\n",
      "Requirement already satisfied: pyfluidsynth in /Users/robrohan/miniconda3/envs/comp838/lib/python3.11/site-packages (from -r requirements.txt (line 7)) (1.3.4)\n",
      "Requirement already satisfied: pretty_midi in /Users/robrohan/miniconda3/envs/comp838/lib/python3.11/site-packages (from -r requirements.txt (line 8)) (0.2.10)\n",
      "Requirement already satisfied: matplotlib in /Users/robrohan/miniconda3/envs/comp838/lib/python3.11/site-packages (from -r requirements.txt (line 10)) (3.10.3)\n",
      "Requirement already satisfied: filelock in /Users/robrohan/miniconda3/envs/comp838/lib/python3.11/site-packages (from torch->-r requirements.txt (line 2)) (3.18.0)\n",
      "Requirement already satisfied: typing-extensions>=4.10.0 in /Users/robrohan/miniconda3/envs/comp838/lib/python3.11/site-packages (from torch->-r requirements.txt (line 2)) (4.13.2)\n",
      "Requirement already satisfied: sympy>=1.13.3 in /Users/robrohan/miniconda3/envs/comp838/lib/python3.11/site-packages (from torch->-r requirements.txt (line 2)) (1.14.0)\n",
      "Requirement already satisfied: networkx in /Users/robrohan/miniconda3/envs/comp838/lib/python3.11/site-packages (from torch->-r requirements.txt (line 2)) (3.4.2)\n",
      "Requirement already satisfied: jinja2 in /Users/robrohan/miniconda3/envs/comp838/lib/python3.11/site-packages (from torch->-r requirements.txt (line 2)) (3.1.6)\n",
      "Requirement already satisfied: fsspec in /Users/robrohan/miniconda3/envs/comp838/lib/python3.11/site-packages (from torch->-r requirements.txt (line 2)) (2025.3.2)\n",
      "Requirement already satisfied: python-dateutil>=2.8.2 in /Users/robrohan/miniconda3/envs/comp838/lib/python3.11/site-packages (from pandas->-r requirements.txt (line 4)) (2.9.0.post0)\n",
      "Requirement already satisfied: pytz>=2020.1 in /Users/robrohan/miniconda3/envs/comp838/lib/python3.11/site-packages (from pandas->-r requirements.txt (line 4)) (2025.2)\n",
      "Requirement already satisfied: tzdata>=2022.7 in /Users/robrohan/miniconda3/envs/comp838/lib/python3.11/site-packages (from pandas->-r requirements.txt (line 4)) (2025.2)\n",
      "Requirement already satisfied: mido>=1.1.16 in /Users/robrohan/miniconda3/envs/comp838/lib/python3.11/site-packages (from pretty_midi->-r requirements.txt (line 8)) (1.3.3)\n",
      "Requirement already satisfied: six in /Users/robrohan/miniconda3/envs/comp838/lib/python3.11/site-packages (from pretty_midi->-r requirements.txt (line 8)) (1.17.0)\n",
      "Requirement already satisfied: contourpy>=1.0.1 in /Users/robrohan/miniconda3/envs/comp838/lib/python3.11/site-packages (from matplotlib->-r requirements.txt (line 10)) (1.3.2)\n",
      "Requirement already satisfied: cycler>=0.10 in /Users/robrohan/miniconda3/envs/comp838/lib/python3.11/site-packages (from matplotlib->-r requirements.txt (line 10)) (0.12.1)\n",
      "Requirement already satisfied: fonttools>=4.22.0 in /Users/robrohan/miniconda3/envs/comp838/lib/python3.11/site-packages (from matplotlib->-r requirements.txt (line 10)) (4.57.0)\n",
      "Requirement already satisfied: kiwisolver>=1.3.1 in /Users/robrohan/miniconda3/envs/comp838/lib/python3.11/site-packages (from matplotlib->-r requirements.txt (line 10)) (1.4.8)\n",
      "Requirement already satisfied: packaging>=20.0 in /Users/robrohan/miniconda3/envs/comp838/lib/python3.11/site-packages (from matplotlib->-r requirements.txt (line 10)) (25.0)\n",
      "Requirement already satisfied: pillow>=8 in /Users/robrohan/miniconda3/envs/comp838/lib/python3.11/site-packages (from matplotlib->-r requirements.txt (line 10)) (11.2.1)\n",
      "Requirement already satisfied: pyparsing>=2.3.1 in /Users/robrohan/miniconda3/envs/comp838/lib/python3.11/site-packages (from matplotlib->-r requirements.txt (line 10)) (3.2.3)\n",
      "Requirement already satisfied: mpmath<1.4,>=1.1.0 in /Users/robrohan/miniconda3/envs/comp838/lib/python3.11/site-packages (from sympy>=1.13.3->torch->-r requirements.txt (line 2)) (1.3.0)\n",
      "Requirement already satisfied: MarkupSafe>=2.0 in /Users/robrohan/miniconda3/envs/comp838/lib/python3.11/site-packages (from jinja2->torch->-r requirements.txt (line 2)) (3.0.2)\n",
      "Note: you may need to restart the kernel to use updated packages.\n"
     ]
    }
   ],
   "source": [
    "%pip install -r requirements.txt --upgrade"
   ]
  },
  {
   "cell_type": "markdown",
   "id": "de6b7900",
   "metadata": {},
   "source": [
    "- $S_1$ the step when the note happens in seconds\n",
    "- $D_1$ the duration of the note - when the note ends in seconds\n",
    "- $P_1$ the pitch of the note (C1, D#4, etc)\n",
    "- $V_1$ the velocity of the note\n",
    "\n",
    "---\n",
    "\n",
    "- $B$ bin size - the bits to pack into 255\n",
    "- $S_2$ the encoded step\n",
    "- $D_2$ the encoded duration\n",
    "\n",
    "**Step Encoding and Decoding**\n",
    "\n",
    "$$ S_2 = B\\frac{S_1}{100} $$\n",
    "$$ S_1 = 100\\frac{S_2}{B} $$\n",
    "\n",
    "**Duration Encoding and Decoding**\n",
    "\n",
    "$$ D_2 = B\\frac{D_1}{100} $$\n",
    "$$ D_1 = 100\\frac{D_2}{B} $$\n"
   ]
  },
  {
   "cell_type": "markdown",
   "id": "c867db0f",
   "metadata": {},
   "source": [
    "## Imports"
   ]
  },
  {
   "cell_type": "code",
   "execution_count": 2,
   "id": "35ec746d",
   "metadata": {},
   "outputs": [],
   "source": [
    "import matplotlib.pyplot as plt\n",
    "import numpy as np\n",
    "import math\n",
    "import gpt_mini.midi_encoder as midichar"
   ]
  },
  {
   "cell_type": "markdown",
   "id": "e66f040c",
   "metadata": {},
   "source": [
    "## Test Writing Header"
   ]
  },
  {
   "cell_type": "code",
   "execution_count": 3,
   "id": "9cc28259",
   "metadata": {},
   "outputs": [
    {
     "name": "stdout",
     "output_type": "stream",
     "text": [
      "755524\n"
     ]
    },
    {
     "data": {
      "text/plain": [
       "(11, 135, 4, 4)"
      ]
     },
     "execution_count": 3,
     "metadata": {},
     "output_type": "execute_result"
    }
   ],
   "source": [
    "# Testing Header\n",
    "header = midichar.encode_header(11, 135, 4, 4)\n",
    "print(header)\n",
    "midichar.decode_header(header)"
   ]
  },
  {
   "cell_type": "markdown",
   "id": "e42184b5",
   "metadata": {},
   "source": [
    "## Encode Midi File 32bit Int"
   ]
  },
  {
   "cell_type": "code",
   "execution_count": 10,
   "id": "ad348a50",
   "metadata": {},
   "outputs": [
    {
     "name": "stdout",
     "output_type": "stream",
     "text": [
      "[    30276  63966500  63966510  71962152  72027438  77270052  77337774\n",
      "  79957412  80022958  87953064  88018094  93260974  95948196  95948206\n",
      " 103943848 104008878 109185966 111873454 111938980 119934632 120001710\n",
      " 125244452 125373614 127929892 127929774 135925416 135992494 141167662\n",
      " 143855022 143920676 149231144 151915822 151916200 159911460 159911217\n",
      " 159911464]\n"
     ]
    },
    {
     "data": {
      "image/png": "[encoded data removed]",
      "text/plain": [
       "<Figure size 640x480 with 1 Axes>"
      ]
     },
     "metadata": {},
     "output_type": "display_data"
    }
   ],
   "source": [
    "ITEM_SIZE=36 #(48)\n",
    "\n",
    "enc = midichar.encode_midi(\n",
    "    midi_file=\"datasets/lmd_full/0/0a0b59b984e78fccd380b44938a17ad4.mid\",\n",
    "    # midi_file=\"datasets/lmd_full/0/0a0c8865e48111d4359a3337fc574eb8.mid\",\n",
    "    # midi_file=\"datasets/lmd_full/8/8a00aeee9cab818caffc14b222792274.mid\",\n",
    "    # midi_file=\"datasets/lmd_full/e/effe28f39d533cadc378831ecb6c896d.mid\",\n",
    "    # midi_file=\"datasets/lmd_full/9/9a0aaf641159a6ce96ceffc917cce574.mid\",\n",
    "    window_size=ITEM_SIZE,\n",
    "    # instrument_name=\"Acoustic Grand Piano\",\n",
    "    instrument_name=\"Standard Kit\",\n",
    "    )\n",
    "\n",
    "if enc is not None:\n",
    "    plt.plot(enc)\n",
    "else:\n",
    "    print(\"~~~~~~~~~~~~~~~~~~~~~~~~~~~~~~~~~~~~~\")\n",
    "    print(\"~~ We got nothing from the encoder ~~\")\n",
    "    print(\"~~~~~~~~~~~~~~~~~~~~~~~~~~~~~~~~~~~~~\")\n",
    "\n",
    "print(enc)\n"
   ]
  },
  {
   "cell_type": "markdown",
   "id": "0789f392",
   "metadata": {},
   "source": [
    "### Display as Image"
   ]
  },
  {
   "cell_type": "code",
   "execution_count": 5,
   "id": "97c809fb",
   "metadata": {},
   "outputs": [
    {
     "name": "stdout",
     "output_type": "stream",
     "text": [
      "6 36\n"
     ]
    },
    {
     "data": {
      "image/png": "[encoded data removed]",
      "text/plain": [
       "<Figure size 640x480 with 1 Axes>"
      ]
     },
     "metadata": {},
     "output_type": "display_data"
    }
   ],
   "source": [
    "if enc is not None:\n",
    "    sqr = int(math.sqrt(ITEM_SIZE))\n",
    "    print(sqr, ITEM_SIZE)\n",
    "    ary2d = np.reshape(enc, (-1, sqr))\n",
    "    plt.imshow(ary2d)\n",
    "    plt.show()"
   ]
  },
  {
   "cell_type": "markdown",
   "id": "b3c3197e",
   "metadata": {},
   "source": [
    "## Decode 32 bit Integer Midi"
   ]
  },
  {
   "cell_type": "code",
   "execution_count": 6,
   "id": "c1bcb3d2",
   "metadata": {},
   "outputs": [
    {
     "name": "stdout",
     "output_type": "stream",
     "text": [
      "(0, 118, 4, 4)\n"
     ]
    },
    {
     "name": "stderr",
     "output_type": "stream",
     "text": [
      "/Users/robrohan/miniconda3/envs/comp838/lib/python3.11/site-packages/pretty_midi/pretty_midi.py:1326: RuntimeWarning: overflow encountered in scalar subtract\n",
      "  return (secondary_sort[event1.type](event1) -\n"
     ]
    }
   ],
   "source": [
    "if enc is not None:\n",
    "    print(midichar.decode_header(enc[0]))\n",
    "    midichar.decode_midi(notes=enc,\n",
    "                        out_file=\"output/test.mid\",\n",
    "                        instrument_name=\"Standard Kit\"\n",
    "                        # instrument_name=\"Acoustic Grand Piano\"\n",
    "                        )"
   ]
  },
  {
   "cell_type": "markdown",
   "id": "21cadf28",
   "metadata": {},
   "source": [
    "## Serialize / Deserialize Sample"
   ]
  },
  {
   "cell_type": "code",
   "execution_count": 7,
   "id": "4be7fca0",
   "metadata": {},
   "outputs": [],
   "source": [
    "if enc is not None:\n",
    "    midichar.serialize_notes(enc, \"output/test.data\")"
   ]
  },
  {
   "cell_type": "code",
   "execution_count": 8,
   "id": "c8f10e5c",
   "metadata": {},
   "outputs": [
    {
     "name": "stdout",
     "output_type": "stream",
     "text": [
      "(36,)\n"
     ]
    }
   ],
   "source": [
    "ary = midichar.deserialize_notes(\"output/test.data\")\n",
    "print(ary.shape)"
   ]
  },
  {
   "cell_type": "markdown",
   "id": "abf55dcc",
   "metadata": {},
   "source": [
    "### Ensure Sample Deserialize  "
   ]
  },
  {
   "cell_type": "code",
   "execution_count": 9,
   "id": "3a94ed6c",
   "metadata": {},
   "outputs": [
    {
     "data": {
      "image/png": "[encoded data removed]",
      "text/plain": [
       "<Figure size 640x480 with 1 Axes>"
      ]
     },
     "metadata": {},
     "output_type": "display_data"
    }
   ],
   "source": [
    "sqr = int(math.sqrt(ITEM_SIZE))\n",
    "plt.imshow( np.reshape(ary, (-1,sqr)) )\n",
    "plt.show()"
   ]
  }
 ],
 "metadata": {
  "kernelspec": {
   "display_name": "comp838",
   "language": "python",
   "name": "python3"
  },
  "language_info": {
   "codemirror_mode": {
    "name": "ipython",
    "version": 3
   },
   "file_extension": ".py",
   "mimetype": "text/x-python",
   "name": "python",
   "nbconvert_exporter": "python",
   "pygments_lexer": "ipython3",
   "version": "3.11.11"
  }
 },
 "nbformat": 4,
 "nbformat_minor": 5
}
