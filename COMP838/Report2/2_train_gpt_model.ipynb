{
 "cells": [
  {
   "cell_type": "code",
   "execution_count": 1,
   "id": "bb5acd65",
   "metadata": {},
   "outputs": [
    {
     "name": "stdout",
     "output_type": "stream",
     "text": [
      "Requirement already satisfied: torch in /Users/robrohan/miniconda3/envs/comp838/lib/python3.11/site-packages (from -r requirements.txt (line 1)) (2.7.1)\n",
      "Requirement already satisfied: numpy in /Users/robrohan/miniconda3/envs/comp838/lib/python3.11/site-packages (from -r requirements.txt (line 2)) (2.3.0)\n",
      "Requirement already satisfied: pandas in /Users/robrohan/miniconda3/envs/comp838/lib/python3.11/site-packages (from -r requirements.txt (line 3)) (2.3.0)\n",
      "Requirement already satisfied: seaborn in /Users/robrohan/miniconda3/envs/comp838/lib/python3.11/site-packages (from -r requirements.txt (line 4)) (0.13.2)\n",
      "Requirement already satisfied: pyfluidsynth in /Users/robrohan/miniconda3/envs/comp838/lib/python3.11/site-packages (from -r requirements.txt (line 6)) (1.3.4)\n",
      "Requirement already satisfied: pretty_midi in /Users/robrohan/miniconda3/envs/comp838/lib/python3.11/site-packages (from -r requirements.txt (line 7)) (0.2.10)\n",
      "Requirement already satisfied: matplotlib in /Users/robrohan/miniconda3/envs/comp838/lib/python3.11/site-packages (from -r requirements.txt (line 9)) (3.10.3)\n",
      "Requirement already satisfied: ipywidgets in /Users/robrohan/miniconda3/envs/comp838/lib/python3.11/site-packages (from -r requirements.txt (line 10)) (8.1.7)\n",
      "Requirement already satisfied: filelock in /Users/robrohan/miniconda3/envs/comp838/lib/python3.11/site-packages (from torch->-r requirements.txt (line 1)) (3.18.0)\n",
      "Requirement already satisfied: typing-extensions>=4.10.0 in /Users/robrohan/miniconda3/envs/comp838/lib/python3.11/site-packages (from torch->-r requirements.txt (line 1)) (4.13.2)\n",
      "Requirement already satisfied: sympy>=1.13.3 in /Users/robrohan/miniconda3/envs/comp838/lib/python3.11/site-packages (from torch->-r requirements.txt (line 1)) (1.14.0)\n",
      "Requirement already satisfied: networkx in /Users/robrohan/miniconda3/envs/comp838/lib/python3.11/site-packages (from torch->-r requirements.txt (line 1)) (3.4.2)\n",
      "Requirement already satisfied: jinja2 in /Users/robrohan/miniconda3/envs/comp838/lib/python3.11/site-packages (from torch->-r requirements.txt (line 1)) (3.1.6)\n",
      "Requirement already satisfied: fsspec in /Users/robrohan/miniconda3/envs/comp838/lib/python3.11/site-packages (from torch->-r requirements.txt (line 1)) (2025.3.2)\n",
      "Requirement already satisfied: python-dateutil>=2.8.2 in /Users/robrohan/miniconda3/envs/comp838/lib/python3.11/site-packages (from pandas->-r requirements.txt (line 3)) (2.9.0.post0)\n",
      "Requirement already satisfied: pytz>=2020.1 in /Users/robrohan/miniconda3/envs/comp838/lib/python3.11/site-packages (from pandas->-r requirements.txt (line 3)) (2025.2)\n",
      "Requirement already satisfied: tzdata>=2022.7 in /Users/robrohan/miniconda3/envs/comp838/lib/python3.11/site-packages (from pandas->-r requirements.txt (line 3)) (2025.2)\n",
      "Requirement already satisfied: mido>=1.1.16 in /Users/robrohan/miniconda3/envs/comp838/lib/python3.11/site-packages (from pretty_midi->-r requirements.txt (line 7)) (1.3.3)\n",
      "Requirement already satisfied: six in /Users/robrohan/miniconda3/envs/comp838/lib/python3.11/site-packages (from pretty_midi->-r requirements.txt (line 7)) (1.17.0)\n",
      "Requirement already satisfied: contourpy>=1.0.1 in /Users/robrohan/miniconda3/envs/comp838/lib/python3.11/site-packages (from matplotlib->-r requirements.txt (line 9)) (1.3.2)\n",
      "Requirement already satisfied: cycler>=0.10 in /Users/robrohan/miniconda3/envs/comp838/lib/python3.11/site-packages (from matplotlib->-r requirements.txt (line 9)) (0.12.1)\n",
      "Requirement already satisfied: fonttools>=4.22.0 in /Users/robrohan/miniconda3/envs/comp838/lib/python3.11/site-packages (from matplotlib->-r requirements.txt (line 9)) (4.57.0)\n",
      "Requirement already satisfied: kiwisolver>=1.3.1 in /Users/robrohan/miniconda3/envs/comp838/lib/python3.11/site-packages (from matplotlib->-r requirements.txt (line 9)) (1.4.8)\n",
      "Requirement already satisfied: packaging>=20.0 in /Users/robrohan/miniconda3/envs/comp838/lib/python3.11/site-packages (from matplotlib->-r requirements.txt (line 9)) (25.0)\n",
      "Requirement already satisfied: pillow>=8 in /Users/robrohan/miniconda3/envs/comp838/lib/python3.11/site-packages (from matplotlib->-r requirements.txt (line 9)) (11.2.1)\n",
      "Requirement already satisfied: pyparsing>=2.3.1 in /Users/robrohan/miniconda3/envs/comp838/lib/python3.11/site-packages (from matplotlib->-r requirements.txt (line 9)) (3.2.3)\n",
      "Requirement already satisfied: comm>=0.1.3 in /Users/robrohan/miniconda3/envs/comp838/lib/python3.11/site-packages (from ipywidgets->-r requirements.txt (line 10)) (0.2.2)\n",
      "Requirement already satisfied: ipython>=6.1.0 in /Users/robrohan/miniconda3/envs/comp838/lib/python3.11/site-packages (from ipywidgets->-r requirements.txt (line 10)) (9.2.0)\n",
      "Requirement already satisfied: traitlets>=4.3.1 in /Users/robrohan/miniconda3/envs/comp838/lib/python3.11/site-packages (from ipywidgets->-r requirements.txt (line 10)) (5.14.3)\n",
      "Requirement already satisfied: widgetsnbextension~=4.0.14 in /Users/robrohan/miniconda3/envs/comp838/lib/python3.11/site-packages (from ipywidgets->-r requirements.txt (line 10)) (4.0.14)\n",
      "Requirement already satisfied: jupyterlab_widgets~=3.0.15 in /Users/robrohan/miniconda3/envs/comp838/lib/python3.11/site-packages (from ipywidgets->-r requirements.txt (line 10)) (3.0.15)\n",
      "Requirement already satisfied: decorator in /Users/robrohan/miniconda3/envs/comp838/lib/python3.11/site-packages (from ipython>=6.1.0->ipywidgets->-r requirements.txt (line 10)) (5.2.1)\n",
      "Requirement already satisfied: ipython-pygments-lexers in /Users/robrohan/miniconda3/envs/comp838/lib/python3.11/site-packages (from ipython>=6.1.0->ipywidgets->-r requirements.txt (line 10)) (1.1.1)\n",
      "Requirement already satisfied: jedi>=0.16 in /Users/robrohan/miniconda3/envs/comp838/lib/python3.11/site-packages (from ipython>=6.1.0->ipywidgets->-r requirements.txt (line 10)) (0.19.2)\n",
      "Requirement already satisfied: matplotlib-inline in /Users/robrohan/miniconda3/envs/comp838/lib/python3.11/site-packages (from ipython>=6.1.0->ipywidgets->-r requirements.txt (line 10)) (0.1.7)\n",
      "Requirement already satisfied: pexpect>4.3 in /Users/robrohan/miniconda3/envs/comp838/lib/python3.11/site-packages (from ipython>=6.1.0->ipywidgets->-r requirements.txt (line 10)) (4.9.0)\n",
      "Requirement already satisfied: prompt_toolkit<3.1.0,>=3.0.41 in /Users/robrohan/miniconda3/envs/comp838/lib/python3.11/site-packages (from ipython>=6.1.0->ipywidgets->-r requirements.txt (line 10)) (3.0.51)\n",
      "Requirement already satisfied: pygments>=2.4.0 in /Users/robrohan/miniconda3/envs/comp838/lib/python3.11/site-packages (from ipython>=6.1.0->ipywidgets->-r requirements.txt (line 10)) (2.19.1)\n",
      "Requirement already satisfied: stack_data in /Users/robrohan/miniconda3/envs/comp838/lib/python3.11/site-packages (from ipython>=6.1.0->ipywidgets->-r requirements.txt (line 10)) (0.6.3)\n",
      "Requirement already satisfied: wcwidth in /Users/robrohan/miniconda3/envs/comp838/lib/python3.11/site-packages (from prompt_toolkit<3.1.0,>=3.0.41->ipython>=6.1.0->ipywidgets->-r requirements.txt (line 10)) (0.2.13)\n",
      "Requirement already satisfied: parso<0.9.0,>=0.8.4 in /Users/robrohan/miniconda3/envs/comp838/lib/python3.11/site-packages (from jedi>=0.16->ipython>=6.1.0->ipywidgets->-r requirements.txt (line 10)) (0.8.4)\n",
      "Requirement already satisfied: ptyprocess>=0.5 in /Users/robrohan/miniconda3/envs/comp838/lib/python3.11/site-packages (from pexpect>4.3->ipython>=6.1.0->ipywidgets->-r requirements.txt (line 10)) (0.7.0)\n",
      "Requirement already satisfied: mpmath<1.4,>=1.1.0 in /Users/robrohan/miniconda3/envs/comp838/lib/python3.11/site-packages (from sympy>=1.13.3->torch->-r requirements.txt (line 1)) (1.3.0)\n",
      "Requirement already satisfied: MarkupSafe>=2.0 in /Users/robrohan/miniconda3/envs/comp838/lib/python3.11/site-packages (from jinja2->torch->-r requirements.txt (line 1)) (3.0.2)\n",
      "Requirement already satisfied: executing>=1.2.0 in /Users/robrohan/miniconda3/envs/comp838/lib/python3.11/site-packages (from stack_data->ipython>=6.1.0->ipywidgets->-r requirements.txt (line 10)) (2.2.0)\n",
      "Requirement already satisfied: asttokens>=2.1.0 in /Users/robrohan/miniconda3/envs/comp838/lib/python3.11/site-packages (from stack_data->ipython>=6.1.0->ipywidgets->-r requirements.txt (line 10)) (3.0.0)\n",
      "Requirement already satisfied: pure_eval in /Users/robrohan/miniconda3/envs/comp838/lib/python3.11/site-packages (from stack_data->ipython>=6.1.0->ipywidgets->-r requirements.txt (line 10)) (0.2.3)\n",
      "Note: you may need to restart the kernel to use updated packages.\n",
      "Requirement already satisfied: miditok in /Users/robrohan/miniconda3/envs/comp838/lib/python3.11/site-packages (3.0.5.post1)\n",
      "Requirement already satisfied: huggingface-hub>=0.16.4 in /Users/robrohan/miniconda3/envs/comp838/lib/python3.11/site-packages (from miditok) (0.31.2)\n",
      "Requirement already satisfied: numpy>=1.19 in /Users/robrohan/miniconda3/envs/comp838/lib/python3.11/site-packages (from miditok) (2.3.0)\n",
      "Requirement already satisfied: symusic>=0.5.0 in /Users/robrohan/miniconda3/envs/comp838/lib/python3.11/site-packages (from miditok) (0.5.7)\n",
      "Requirement already satisfied: tokenizers>=0.13.0 in /Users/robrohan/miniconda3/envs/comp838/lib/python3.11/site-packages (from miditok) (0.21.1)\n",
      "Requirement already satisfied: tqdm in /Users/robrohan/miniconda3/envs/comp838/lib/python3.11/site-packages (from miditok) (4.67.1)\n",
      "Requirement already satisfied: filelock in /Users/robrohan/miniconda3/envs/comp838/lib/python3.11/site-packages (from huggingface-hub>=0.16.4->miditok) (3.18.0)\n",
      "Requirement already satisfied: fsspec>=2023.5.0 in /Users/robrohan/miniconda3/envs/comp838/lib/python3.11/site-packages (from huggingface-hub>=0.16.4->miditok) (2025.3.2)\n",
      "Requirement already satisfied: packaging>=20.9 in /Users/robrohan/miniconda3/envs/comp838/lib/python3.11/site-packages (from huggingface-hub>=0.16.4->miditok) (25.0)\n",
      "Requirement already satisfied: pyyaml>=5.1 in /Users/robrohan/miniconda3/envs/comp838/lib/python3.11/site-packages (from huggingface-hub>=0.16.4->miditok) (6.0.2)\n",
      "Requirement already satisfied: requests in /Users/robrohan/miniconda3/envs/comp838/lib/python3.11/site-packages (from huggingface-hub>=0.16.4->miditok) (2.32.3)\n",
      "Requirement already satisfied: typing-extensions>=3.7.4.3 in /Users/robrohan/miniconda3/envs/comp838/lib/python3.11/site-packages (from huggingface-hub>=0.16.4->miditok) (4.13.2)\n",
      "Requirement already satisfied: pySmartDL in /Users/robrohan/miniconda3/envs/comp838/lib/python3.11/site-packages (from symusic>=0.5.0->miditok) (1.3.4)\n",
      "Requirement already satisfied: platformdirs in /Users/robrohan/miniconda3/envs/comp838/lib/python3.11/site-packages (from symusic>=0.5.0->miditok) (4.3.8)\n",
      "Requirement already satisfied: charset-normalizer<4,>=2 in /Users/robrohan/miniconda3/envs/comp838/lib/python3.11/site-packages (from requests->huggingface-hub>=0.16.4->miditok) (3.4.2)\n",
      "Requirement already satisfied: idna<4,>=2.5 in /Users/robrohan/miniconda3/envs/comp838/lib/python3.11/site-packages (from requests->huggingface-hub>=0.16.4->miditok) (3.10)\n",
      "Requirement already satisfied: urllib3<3,>=1.21.1 in /Users/robrohan/miniconda3/envs/comp838/lib/python3.11/site-packages (from requests->huggingface-hub>=0.16.4->miditok) (2.4.0)\n",
      "Requirement already satisfied: certifi>=2017.4.17 in /Users/robrohan/miniconda3/envs/comp838/lib/python3.11/site-packages (from requests->huggingface-hub>=0.16.4->miditok) (2025.4.26)\n",
      "Note: you may need to restart the kernel to use updated packages.\n"
     ]
    }
   ],
   "source": [
    "%pip install -r requirements.txt\n",
    "%pip install miditok"
   ]
  },
  {
   "cell_type": "code",
   "execution_count": 2,
   "id": "693f9f1b",
   "metadata": {},
   "outputs": [],
   "source": [
    "import os\n",
    "from gpt_mini.model import GPT\n",
    "from gpt_mini.trainer import Trainer\n",
    "from gpt_mini.bpe import MidiDataset\n",
    "import matplotlib.pyplot as plt\n",
    "import torch\n",
    "from gpt_mini.config import DEFAULT_DEVICE, CONFIG\n",
    "import pickle\n",
    "from pathlib import Path\n",
    "import numpy as np"
   ]
  },
  {
   "cell_type": "code",
   "execution_count": 3,
   "id": "004040c1",
   "metadata": {},
   "outputs": [],
   "source": [
    "os.environ['TOKENIZERS_PARALLELISM'] = 'true'"
   ]
  },
  {
   "cell_type": "code",
   "execution_count": 4,
   "id": "80107acb",
   "metadata": {},
   "outputs": [
    {
     "name": "stdout",
     "output_type": "stream",
     "text": [
      "number of parameters: 7.26M\n"
     ]
    }
   ],
   "source": [
    "model_config = GPT.get_default_config()\n",
    "# either model_type or (n_layer, n_head, n_embd) must be given in the config\n",
    "model_config.model_type = None # 'gpt-nano'\n",
    "model_config.n_layer = CONFIG[\"model\"][\"n_layer\"]\n",
    "model_config.n_head = CONFIG[\"model\"][\"n_head\"]\n",
    "model_config.n_embd = CONFIG[\"model\"][\"n_embed\"]\n",
    "# model_config.vocab_size = 50257 # 65535        # max number of vocabulary\n",
    "model_config.vocab_size = CONFIG[\"model\"][\"vocab_size\"]\n",
    "# model_config.block_size = 256                  # input context length\n",
    "model_config.block_size = CONFIG[\"model\"][\"block_size\"]\n",
    "\n",
    "model = GPT(model_config)"
   ]
  },
  {
   "cell_type": "code",
   "execution_count": 5,
   "id": "f6aaea31",
   "metadata": {},
   "outputs": [
    {
     "name": "stdout",
     "output_type": "stream",
     "text": [
      "<gpt_mini.bpe.MidiDataset object at 0x111cd52d0>\n"
     ]
    }
   ],
   "source": [
    "train_dataset = MidiDataset(\n",
    "    CONFIG[\"preprocess\"][\"data_train\"],\n",
    "    CONFIG[\"tokenizer\"][\"model\"],\n",
    "    CONFIG[\"model\"][\"block_size\"])\n",
    "print(train_dataset)"
   ]
  },
  {
   "cell_type": "code",
   "execution_count": 6,
   "id": "8cf4eb93",
   "metadata": {},
   "outputs": [
    {
     "name": "stdout",
     "output_type": "stream",
     "text": [
      "<gpt_mini.bpe.MidiDataset object at 0x11751b610>\n"
     ]
    }
   ],
   "source": [
    "val_dataset = MidiDataset(\n",
    "    CONFIG[\"preprocess\"][\"data_validation\"],\n",
    "    CONFIG[\"tokenizer\"][\"model\"],\n",
    "    CONFIG[\"model\"][\"block_size\"])\n",
    "print(val_dataset)"
   ]
  },
  {
   "cell_type": "code",
   "execution_count": 7,
   "id": "2ac302ce",
   "metadata": {},
   "outputs": [
    {
     "name": "stdout",
     "output_type": "stream",
     "text": [
      "running on device mps\n"
     ]
    }
   ],
   "source": [
    "# your subclass of torch.utils.data.Dataset that emits example\n",
    "# torch LongTensor of lengths up to 1024, with integers from [0,50257)\n",
    "train_config = Trainer.get_default_config()\n",
    "train_config.learning_rate = CONFIG[\"training\"][\"learning_rate\"]\n",
    "train_config.max_iters = CONFIG[\"training\"][\"max_iters\"]\n",
    "train_config.batch_size = CONFIG[\"training\"][\"batch_size\"]\n",
    "train_config.num_workers = CONFIG[\"training\"][\"workers\"]\n",
    "train_config.validation_interval = CONFIG[\"training\"][\"validation_interval\"]\n",
    "train_config.max_sample_size = CONFIG[\"preprocess\"][\"max_dataset_items\"]\n",
    "train_config.device = DEFAULT_DEVICE\n",
    "trainer = Trainer(train_config, model, train_dataset, val_dataset)"
   ]
  },
  {
   "cell_type": "code",
   "execution_count": 8,
   "id": "a247e3ce",
   "metadata": {},
   "outputs": [],
   "source": [
    "tokenizer = None\n",
    "f = open(CONFIG[\"tokenizer\"][\"model\"], 'rb')\n",
    "tokenizer = pickle.load(f)\n",
    "f.flush()\n",
    "f.close()"
   ]
  },
  {
   "cell_type": "code",
   "execution_count": 9,
   "id": "3378d6ec",
   "metadata": {},
   "outputs": [],
   "source": [
    "# test_files = []\n",
    "# with open(CONFIG[\"preprocess\"][\"data_test\"], \"r\", encoding=\"utf-8\") as f:\n",
    "#     test_files = f.readlines()\n",
    "\n",
    "# encoded_test_set = []\n",
    "# for test_input in test_files:\n",
    "#     tokens = tokenizer.encode(f\"{Path.cwd()}/{str.rstrip(test_input)}\")\n",
    "#     encoded_test_set.append(tokens[0].ids)\n",
    "\n",
    "# f = open(\"test_set.pkl\", 'wb')\n",
    "# pickle.dump(encoded_test_set, f)\n",
    "# f.flush()\n",
    "# f.close()\n",
    "\n",
    "# f = open(\"test_set.pkl\", 'rb')\n",
    "# encoded_test_set = pickle.load(f)\n",
    "# f.close()\n",
    "\n",
    "# len(encoded_test_set)\n",
    "# print(encoded_test_set[0])\n"
   ]
  },
  {
   "cell_type": "code",
   "execution_count": 10,
   "id": "e6ba67c1",
   "metadata": {},
   "outputs": [
    {
     "name": "stderr",
     "output_type": "stream",
     "text": [
      "/Users/robrohan/miniconda3/envs/comp838/lib/python3.11/site-packages/torch/utils/data/dataloader.py:683: UserWarning: 'pin_memory' argument is set as true but not supported on MPS now, then device pinned memory won't be used.\n",
      "  warnings.warn(warn_msg)\n"
     ]
    },
    {
     "name": "stdout",
     "output_type": "stream",
     "text": [
      "iter_dt 0.00ms; iter 0: train loss 10.83373\n",
      "iter_dt 0: val loss: 0.6407576928070752\n",
      "iter_dt 328.78ms; iter 100: train loss 5.86818\n",
      "iter_dt 100: val loss: 0.4008848545750387\n",
      "iter_dt 331.77ms; iter 200: train loss 5.78512\n",
      "iter_dt 200: val loss: 0.39758143357006936\n",
      "iter_dt 332.53ms; iter 300: train loss 5.41190\n",
      "iter_dt 300: val loss: 0.39374196893571595\n"
     ]
    }
   ],
   "source": [
    "torch.set_num_threads(128)\n",
    "\n",
    "train_graph_state = {\n",
    "    \"loss_values\": [],\n",
    "    \"val_loss\": [],\n",
    "    \"accuracy_values\": [],\n",
    "    \"val_accuracy\": [],\n",
    "}\n",
    "\n",
    "def batch_end_callback(trainer):\n",
    "    if trainer.iter_num % 100 == 0:\n",
    "        print(f\"iter_dt {trainer.iter_dt * 1000:.2f}ms; iter {trainer.iter_num}: train loss {trainer.loss.item():.5f}\")\n",
    "        print(f\"iter_dt {trainer.iter_num}: val loss: {trainer.val_loss}\")\n",
    "\n",
    "        train_graph_state[\"loss_values\"].append(trainer.loss.item())\n",
    "        train_graph_state[\"val_loss\"].append(trainer.val_loss)\n",
    "\n",
    "        train_graph_state[\"accuracy_values\"].append(trainer.batch_accuracy)\n",
    "        train_graph_state[\"val_accuracy\"].append(trainer.val_acc)\n",
    "\n",
    "        # Save checkpoints\n",
    "        torch.save(\n",
    "            trainer.model.state_dict(),\n",
    "            f\"./checkpoints/gpt_{trainer.iter_num}.pt\")\n",
    "\n",
    "        # Save state\n",
    "        f = open(f\"./checkpoints/state.pkl\", 'wb')\n",
    "        pickle.dump(train_graph_state, f)\n",
    "        f.flush()\n",
    "        f.close()\n",
    "\n",
    "trainer.set_callback('on_batch_end', batch_end_callback)\n",
    "trainer.run()\n"
   ]
  },
  {
   "cell_type": "code",
   "execution_count": 11,
   "id": "35353afb",
   "metadata": {},
   "outputs": [
    {
     "name": "stdout",
     "output_type": "stream",
     "text": [
      "[0.0, 102.75, 104.4375, 110.5]\n"
     ]
    }
   ],
   "source": [
    "f = open(f\"./checkpoints/state.pkl\", 'rb')\n",
    "train_graph_state = pickle.load(f)\n",
    "f.close()\n",
    "loss_values = train_graph_state[\"loss_values\"]\n",
    "val_loss = train_graph_state[\"val_loss\"]\n",
    "accuracy_values = train_graph_state[\"accuracy_values\"]\n",
    "val_accuracy = train_graph_state[\"val_accuracy\"]\n",
    "\n",
    "# print(loss_values)\n",
    "print(accuracy_values)\n",
    "# print(val_loss)\n",
    "# print(val_accuracy)\n"
   ]
  },
  {
   "cell_type": "code",
   "execution_count": 12,
   "id": "294fa4a9",
   "metadata": {},
   "outputs": [
    {
     "data": {
      "image/png": "[encoded data removed]",
      "text/plain": [
       "<Figure size 640x480 with 1 Axes>"
      ]
     },
     "metadata": {},
     "output_type": "display_data"
    }
   ],
   "source": [
    "# Plot the accuracy graph\n",
    "plt.plot(accuracy_values, label='Training Accuracy')\n",
    "plt.plot(val_accuracy, label='Validation Accuracy')\n",
    "plt.xlabel('Epoch')\n",
    "plt.ylabel('Accuracy')\n",
    "plt.title('Accuracy over Time')\n",
    "plt.legend()\n",
    "plt.show()"
   ]
  },
  {
   "cell_type": "code",
   "execution_count": 13,
   "id": "da2780a4",
   "metadata": {},
   "outputs": [
    {
     "data": {
      "image/png": "[encoded data removed]",
      "text/plain": [
       "<Figure size 640x480 with 1 Axes>"
      ]
     },
     "metadata": {},
     "output_type": "display_data"
    }
   ],
   "source": [
    "plt.plot(loss_values,  label='Training Loss')\n",
    "plt.plot(val_loss, label='Validation Loss')\n",
    "plt.xlabel('Epoch')\n",
    "plt.ylabel('Loss')\n",
    "plt.title('Loss over Time')\n",
    "plt.legend()\n",
    "plt.show()"
   ]
  }
 ],
 "metadata": {
  "kernelspec": {
   "display_name": "comp838",
   "language": "python",
   "name": "python3"
  },
  "language_info": {
   "codemirror_mode": {
    "name": "ipython",
    "version": 3
   },
   "file_extension": ".py",
   "mimetype": "text/x-python",
   "name": "python",
   "nbconvert_exporter": "python",
   "pygments_lexer": "ipython3",
   "version": "3.11.11"
  }
 },
 "nbformat": 4,
 "nbformat_minor": 5
}
